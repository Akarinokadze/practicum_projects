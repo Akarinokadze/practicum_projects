{
 "cells": [
  {
   "cell_type": "markdown",
   "metadata": {
    "id": "sIfNaMOxgFyK"
   },
   "source": [
    "# Исследование данных о российском кинопрокате\n",
    "\n",
    "### Описание исследования.\n",
    "\n",
    "Заказчик исследования — Министерство культуры Российской Федерации.\n",
    "Изучим рынок российского кинопроката, уделим внимание фильмам, которые получили государственную поддержку.\n",
    "\n",
    "### Цель исследования.\n",
    "\n",
    "Нам нужно изучить рынок российского кинопроката и выявить текущие тренды. Уделим внимание фильмам, которые получили государственную поддержку. Попробуем ответить на вопрос, насколько такие фильмы интересны зрителю. \n",
    "\n",
    "### Задачи, выполняемые в рамках исследовательского анализа данных.\n",
    "\n",
    "   * Посмотрим, сколько фильмов выходило в прокат каждый год. Обратим внимание, что данные о прокате в кинотеатрах известны не для всех фильмов. Посчитаем, какую долю составляют фильмы с указанной информацией о прокате в кинотеатрах.\n",
    "   \n",
    "   \n",
    "   * Изучим, как менялась динамика проката по годам. В каком году сумма сборов была минимальной? А максимальной?\n",
    "   \n",
    "   \n",
    "   * С помощью сводной таблицы посчитаем среднюю и медианную сумму сборов для каждого года.\n",
    "   \n",
    "   \n",
    "   * Определим, влияет ли возрастное ограничение аудитории («6+», «12+», «16+», «18+» и т. д.) на сборы фильма в прокате в период с 2015 по 2019 год? Фильмы с каким возрастным ограничением собрали больше всего денег в прокате? Меняется ли картина в зависимости от года?\n",
    "   \n",
    "   \n",
    "   * Исследуем фильмы, которые получили государственную поддержку\n",
    "   \n",
    "   \n",
    "### Исходные данные.\n",
    "\n",
    "Мы будем работать с данными, опубликованными на портале открытых данных Министерства культуры. Набор данных содержит информацию о прокатных удостоверениях, сборах и государственной поддержке фильмов, а также информацию с сайта КиноПоиск. \n",
    "\n",
    "Таблица `mkrf_movies` содержит информацию из реестра прокатных удостоверений. У одного фильма может быть несколько прокатных удостоверений.\n",
    "\n",
    "    title — название фильма;\n",
    "    puNumber — номер прокатного удостоверения;\n",
    "    show_start_date — дата премьеры фильма;\n",
    "    type — тип фильма;\n",
    "    film_studio — студия-производитель;\n",
    "    production_country — страна-производитель;\n",
    "    director — режиссёр;\n",
    "    producer — продюсер;\n",
    "    age_restriction — возрастная категория;\n",
    "    refundable_support — объём возвратных средств государственной поддержки;\n",
    "    nonrefundable_support — объём невозвратных средств государственной поддержки;\n",
    "    financing_source — источник государственного финансирования;\n",
    "    budget — общий бюджет фильма;\n",
    "    ratings — рейтинг фильма на КиноПоиске;\n",
    "    genres — жанр фильма.\n",
    "\n",
    "Обратим внимание, что столбец `budget` уже включает в себя полный объём государственной поддержки. Данные в этом столбце указаны только для тех фильмов, которые получили государственную поддержку.\n",
    "\n",
    "\n",
    "Таблица `mkrf_shows` содержит сведения о показах фильмов в российских кинотеатрах.\n",
    "\n",
    "    puNumber — номер прокатного удостоверения;\n",
    "    box_office — сборы в рублях.    \n",
    "    \n",
    "### Данное исследование разделим на несколько частей.\n",
    "\n",
    "[Часть 1. Изучение данных, объединение таблиц](#step1)\n",
    "\n",
    "[Часть 2. Предобработка данных](#step2)\n",
    "\n",
    "   * [2.1. Проверка типов данных](#step21)\n",
    "   * [2.2. Изучение пропусков в датафрейме](#step22)\n",
    "   * [2.3. Изучение дубликатов в датафрейме](#step23)\n",
    "   * [2.4. Изучение категориальных значений](#step24)\n",
    "   * [2.5. Проверка количественных значений](#step25)\n",
    "   * [2.6. Добавление новых столбцов](#step26)\n",
    "   \n",
    "[Часть 3. Исследовательский анализ данных](#step3)\n",
    "   \n",
    "[Часть 4. Исследование фильмов получивших государственную поддержку](#step4)\n",
    "\n",
    "   * [4.1. Проверка влияния различных факторов на степень государственной поддержки](#step41)\n",
    "   * [4.2. Сравнение различных показателей в зависимости от наличия поддержки](#step42)\n",
    "   * [4.3. Анализ финансовых показателей картин с государственной поддержкой](#step43)\n",
    "   \n",
    "[Часть 5. Общий вывод](#step5)"
   ]
  },
  {
   "cell_type": "markdown",
   "metadata": {
    "id": "3bSlkCsbgFyL"
   },
   "source": [
    "## Часть 1. Откроем файлы с данными и объединим их в один датафрейм. <a id=\"step1\"></a>\n",
    "\n",
    "Импортируем библиотеки."
   ]
  },
  {
   "cell_type": "code",
   "execution_count": 2,
   "metadata": {
    "id": "dw87FlzMgFyM"
   },
   "outputs": [],
   "source": [
    "import pandas as pd\n",
    "import numpy as np\n",
    "import os\n",
    "import matplotlib.pyplot as plt\n",
    "import seaborn as sns"
   ]
  },
  {
   "cell_type": "markdown",
   "metadata": {},
   "source": [
    "Откроем таблицы с данными и изучим сводную информацию."
   ]
  },
  {
   "cell_type": "code",
   "execution_count": 3,
   "metadata": {
    "scrolled": false
   },
   "outputs": [
    {
     "name": "stdout",
     "output_type": "stream",
     "text": [
      "<class 'pandas.core.frame.DataFrame'>\n",
      "RangeIndex: 7486 entries, 0 to 7485\n",
      "Data columns (total 15 columns):\n",
      "title                    7486 non-null object\n",
      "puNumber                 7486 non-null object\n",
      "show_start_date          7486 non-null object\n",
      "type                     7486 non-null object\n",
      "film_studio              7468 non-null object\n",
      "production_country       7484 non-null object\n",
      "director                 7477 non-null object\n",
      "producer                 6918 non-null object\n",
      "age_restriction          7486 non-null object\n",
      "refundable_support       332 non-null float64\n",
      "nonrefundable_support    332 non-null float64\n",
      "budget                   332 non-null float64\n",
      "financing_source         332 non-null object\n",
      "ratings                  6519 non-null object\n",
      "genres                   6510 non-null object\n",
      "dtypes: float64(3), object(12)\n",
      "memory usage: 877.4+ KB\n",
      "\n",
      "<class 'pandas.core.frame.DataFrame'>\n",
      "RangeIndex: 3158 entries, 0 to 3157\n",
      "Data columns (total 2 columns):\n",
      "puNumber      3158 non-null int64\n",
      "box_office    3158 non-null float64\n",
      "dtypes: float64(1), int64(1)\n",
      "memory usage: 49.5 KB\n"
     ]
    }
   ],
   "source": [
    "if os.path.exists('mkrf_movies.csv'): # проверка валидности пути к датасету при работе локально и с портала\n",
    "    df_movies = pd.read_csv('mkrf_movies.csv')\n",
    "else:\n",
    "    df_movies = pd.read_csv('/datasets/mkrf_movies.csv')\n",
    "\n",
    "if os.path.exists('mkrf_shows.csv'): # проверка валидности пути к датасету при работе локально и с портала\n",
    "    df_shows = pd.read_csv('mkrf_shows.csv')\n",
    "else:\n",
    "    df_shows = pd.read_csv('/datasets/mkrf_shows.csv')\n",
    "    \n",
    "df_movies.info()\n",
    "print()\n",
    "df_shows.info()"
   ]
  },
  {
   "cell_type": "markdown",
   "metadata": {},
   "source": [
    "В таблице `df_shows` содержится информация о меньшем количестве фильмов, поэтому базовой таблицей для объединения выберем `df_movies`, объединение будем проводить по общему столбцу с номерами прокатных удостоверений `puNumber`.\n",
    "\n",
    "Предварительно изменим тип данный с `object` на `int` в столбце `puNumber` таблицы `df_movies`. Изменение в \"лоб\" не удаётся из-за того что в столбце есть не цифровые значения."
   ]
  },
  {
   "cell_type": "code",
   "execution_count": 4,
   "metadata": {},
   "outputs": [
    {
     "data": {
      "text/html": [
       "<div>\n",
       "<style scoped>\n",
       "    .dataframe tbody tr th:only-of-type {\n",
       "        vertical-align: middle;\n",
       "    }\n",
       "\n",
       "    .dataframe tbody tr th {\n",
       "        vertical-align: top;\n",
       "    }\n",
       "\n",
       "    .dataframe thead th {\n",
       "        text-align: right;\n",
       "    }\n",
       "</style>\n",
       "<table border=\"1\" class=\"dataframe\">\n",
       "  <thead>\n",
       "    <tr style=\"text-align: right;\">\n",
       "      <th></th>\n",
       "      <th>title</th>\n",
       "      <th>puNumber</th>\n",
       "      <th>show_start_date</th>\n",
       "      <th>type</th>\n",
       "      <th>film_studio</th>\n",
       "      <th>production_country</th>\n",
       "      <th>director</th>\n",
       "      <th>producer</th>\n",
       "      <th>age_restriction</th>\n",
       "      <th>refundable_support</th>\n",
       "      <th>nonrefundable_support</th>\n",
       "      <th>budget</th>\n",
       "      <th>financing_source</th>\n",
       "      <th>ratings</th>\n",
       "      <th>genres</th>\n",
       "    </tr>\n",
       "  </thead>\n",
       "  <tbody>\n",
       "    <tr>\n",
       "      <td>804</td>\n",
       "      <td>Паранормальный Якутск</td>\n",
       "      <td>111004112</td>\n",
       "      <td>2012-08-24T12:00:00.000Z</td>\n",
       "      <td>Художественный</td>\n",
       "      <td>ИП Тимофеев К.П.</td>\n",
       "      <td>Россия</td>\n",
       "      <td>К.Тимофеев</td>\n",
       "      <td>NaN</td>\n",
       "      <td>«16+» - для детей старше 16 лет</td>\n",
       "      <td>NaN</td>\n",
       "      <td>NaN</td>\n",
       "      <td>NaN</td>\n",
       "      <td>NaN</td>\n",
       "      <td>NaN</td>\n",
       "      <td>NaN</td>\n",
       "    </tr>\n",
       "    <tr>\n",
       "      <td>1797</td>\n",
       "      <td>Курбан-роман. (История с жертвой)</td>\n",
       "      <td>нет</td>\n",
       "      <td>2014-05-15T12:00:00.000Z</td>\n",
       "      <td>Художественный</td>\n",
       "      <td>ФОНД \"ИННОВАЦИЯ\"</td>\n",
       "      <td>Россия</td>\n",
       "      <td>С.Юзеев</td>\n",
       "      <td>М.Галицкая</td>\n",
       "      <td>«12+» - для детей старше 12 лет</td>\n",
       "      <td>NaN</td>\n",
       "      <td>NaN</td>\n",
       "      <td>NaN</td>\n",
       "      <td>NaN</td>\n",
       "      <td>NaN</td>\n",
       "      <td>NaN</td>\n",
       "    </tr>\n",
       "    <tr>\n",
       "      <td>4701</td>\n",
       "      <td>1001 рецепт влюбленного кулинара</td>\n",
       "      <td>1811096</td>\n",
       "      <td>2010-12-23T12:00:00.000Z</td>\n",
       "      <td>Художественный</td>\n",
       "      <td>Ле Фильм дю Риваж, Ля Сет Синема, Адам и Ева, ...</td>\n",
       "      <td>Франция-Грузия-Германия-Россия-Украина-Бельгия</td>\n",
       "      <td>Н.Джорджадзе</td>\n",
       "      <td>NaN</td>\n",
       "      <td>«0+» - для любой зрительской аудитории</td>\n",
       "      <td>NaN</td>\n",
       "      <td>NaN</td>\n",
       "      <td>NaN</td>\n",
       "      <td>NaN</td>\n",
       "      <td>6.7</td>\n",
       "      <td>мелодрама,комедия</td>\n",
       "    </tr>\n",
       "  </tbody>\n",
       "</table>\n",
       "</div>"
      ],
      "text/plain": [
       "                                  title    puNumber           show_start_date  \\\n",
       "804               Паранормальный Якутск   111004112  2012-08-24T12:00:00.000Z   \n",
       "1797  Курбан-роман. (История с жертвой)         нет  2014-05-15T12:00:00.000Z   \n",
       "4701   1001 рецепт влюбленного кулинара     1811096  2010-12-23T12:00:00.000Z   \n",
       "\n",
       "                type                                        film_studio  \\\n",
       "804   Художественный                                   ИП Тимофеев К.П.   \n",
       "1797  Художественный                                   ФОНД \"ИННОВАЦИЯ\"   \n",
       "4701  Художественный  Ле Фильм дю Риваж, Ля Сет Синема, Адам и Ева, ...   \n",
       "\n",
       "                                  production_country      director  \\\n",
       "804                                           Россия    К.Тимофеев   \n",
       "1797                                          Россия       С.Юзеев   \n",
       "4701  Франция-Грузия-Германия-Россия-Украина-Бельгия  Н.Джорджадзе   \n",
       "\n",
       "        producer                         age_restriction  refundable_support  \\\n",
       "804          NaN         «16+» - для детей старше 16 лет                 NaN   \n",
       "1797  М.Галицкая         «12+» - для детей старше 12 лет                 NaN   \n",
       "4701         NaN  «0+» - для любой зрительской аудитории                 NaN   \n",
       "\n",
       "      nonrefundable_support  budget financing_source ratings  \\\n",
       "804                     NaN     NaN              NaN     NaN   \n",
       "1797                    NaN     NaN              NaN     NaN   \n",
       "4701                    NaN     NaN              NaN     6.7   \n",
       "\n",
       "                 genres  \n",
       "804                 NaN  \n",
       "1797                NaN  \n",
       "4701  мелодрама,комедия  "
      ]
     },
     "execution_count": 4,
     "metadata": {},
     "output_type": "execute_result"
    }
   ],
   "source": [
    "df_movies[df_movies['puNumber'].str.len() != 9]"
   ]
  },
  {
   "cell_type": "markdown",
   "metadata": {},
   "source": [
    "Найдём отсутствующее значение на сайте `mkrf.ru` и произведём замену. И попробуем опять перевести тип и провести объединение таблиц."
   ]
  },
  {
   "cell_type": "code",
   "execution_count": 5,
   "metadata": {},
   "outputs": [],
   "source": [
    "df_movies.at[1797, 'puNumber'] = 111009614"
   ]
  },
  {
   "cell_type": "code",
   "execution_count": 6,
   "metadata": {},
   "outputs": [],
   "source": [
    "df_movies['puNumber'] = df_movies['puNumber'].astype('int')"
   ]
  },
  {
   "cell_type": "code",
   "execution_count": 7,
   "metadata": {},
   "outputs": [],
   "source": [
    "df = df_movies.merge(df_shows, on='puNumber', how='left') "
   ]
  },
  {
   "cell_type": "markdown",
   "metadata": {},
   "source": [
    "Проверим получившийся датафрейм."
   ]
  },
  {
   "cell_type": "code",
   "execution_count": 8,
   "metadata": {
    "scrolled": false
   },
   "outputs": [
    {
     "name": "stdout",
     "output_type": "stream",
     "text": [
      "<class 'pandas.core.frame.DataFrame'>\n",
      "Int64Index: 7486 entries, 0 to 7485\n",
      "Data columns (total 16 columns):\n",
      "title                    7486 non-null object\n",
      "puNumber                 7486 non-null int64\n",
      "show_start_date          7486 non-null object\n",
      "type                     7486 non-null object\n",
      "film_studio              7468 non-null object\n",
      "production_country       7484 non-null object\n",
      "director                 7477 non-null object\n",
      "producer                 6918 non-null object\n",
      "age_restriction          7486 non-null object\n",
      "refundable_support       332 non-null float64\n",
      "nonrefundable_support    332 non-null float64\n",
      "budget                   332 non-null float64\n",
      "financing_source         332 non-null object\n",
      "ratings                  6519 non-null object\n",
      "genres                   6510 non-null object\n",
      "box_office               3159 non-null float64\n",
      "dtypes: float64(4), int64(1), object(11)\n",
      "memory usage: 994.2+ KB\n"
     ]
    }
   ],
   "source": [
    "df.info()"
   ]
  },
  {
   "cell_type": "markdown",
   "metadata": {},
   "source": [
    "Приведём названия колонок к змеиному регистру."
   ]
  },
  {
   "cell_type": "code",
   "execution_count": 9,
   "metadata": {},
   "outputs": [],
   "source": [
    "df = df.rename(columns={'puNumber': 'pu_number'})"
   ]
  },
  {
   "cell_type": "markdown",
   "metadata": {},
   "source": [
    "### Вывод\n",
    "\n",
    "Мы объединили все данные в одну таблицу, добавив информацию о кассовых сборах к части строк.\n",
    "\n",
    "А также поправили названия столбцов чтобы они соответствовали стандарту PEP8.\n",
    "\n",
    "Теперь можно приступить к обработке данных."
   ]
  },
  {
   "cell_type": "markdown",
   "metadata": {
    "id": "KLDGpPG0gFyM"
   },
   "source": [
    "## Часть 2. Предобработка данных <a id=\"step2\"></a>"
   ]
  },
  {
   "cell_type": "markdown",
   "metadata": {
    "id": "ssWwKXsxgFyO"
   },
   "source": [
    "## 2.1. Проверка типов данных <a id=\"step21\"></a>\n",
    "\n",
    "Проверим типы данных в датафрейме и преобразуем их там, где это необходимо."
   ]
  },
  {
   "cell_type": "code",
   "execution_count": 10,
   "metadata": {
    "id": "kVGSplJOgFyO"
   },
   "outputs": [
    {
     "name": "stdout",
     "output_type": "stream",
     "text": [
      "<class 'pandas.core.frame.DataFrame'>\n",
      "Int64Index: 7486 entries, 0 to 7485\n",
      "Data columns (total 16 columns):\n",
      "title                    7486 non-null object\n",
      "pu_number                7486 non-null int64\n",
      "show_start_date          7486 non-null object\n",
      "type                     7486 non-null object\n",
      "film_studio              7468 non-null object\n",
      "production_country       7484 non-null object\n",
      "director                 7477 non-null object\n",
      "producer                 6918 non-null object\n",
      "age_restriction          7486 non-null object\n",
      "refundable_support       332 non-null float64\n",
      "nonrefundable_support    332 non-null float64\n",
      "budget                   332 non-null float64\n",
      "financing_source         332 non-null object\n",
      "ratings                  6519 non-null object\n",
      "genres                   6510 non-null object\n",
      "box_office               3159 non-null float64\n",
      "dtypes: float64(4), int64(1), object(11)\n",
      "memory usage: 994.2+ KB\n"
     ]
    }
   ],
   "source": [
    "df.info()"
   ]
  },
  {
   "cell_type": "markdown",
   "metadata": {},
   "source": [
    "В колонках с категориальными значениями есть проблемы в виде лишних пробелов перед названиями категорий, обработаем эти столбцы чуть позже."
   ]
  },
  {
   "cell_type": "code",
   "execution_count": 11,
   "metadata": {
    "scrolled": true
   },
   "outputs": [
    {
     "data": {
      "text/plain": [
       "array(['Художественный', 'Анимационный', 'Прочие', 'Документальный',\n",
       "       'Научно-популярный', ' Художественный', ' Анимационный',\n",
       "       'Музыкально-развлекательный'], dtype=object)"
      ]
     },
     "execution_count": 11,
     "metadata": {},
     "output_type": "execute_result"
    }
   ],
   "source": [
    "df.type.unique()"
   ]
  },
  {
   "cell_type": "markdown",
   "metadata": {},
   "source": [
    "Столбец с датой старта показа стоит перевести во временной формат."
   ]
  },
  {
   "cell_type": "code",
   "execution_count": 12,
   "metadata": {},
   "outputs": [],
   "source": [
    "df['show_start_date'] = pd.to_datetime(df['show_start_date'], format='%Y-%m-%dT%H:%M:%S')"
   ]
  },
  {
   "cell_type": "markdown",
   "metadata": {},
   "source": [
    "Столбец `age_restriction` не вызывает вопросов, сразу переведём его в категориальный."
   ]
  },
  {
   "cell_type": "code",
   "execution_count": 13,
   "metadata": {},
   "outputs": [
    {
     "data": {
      "text/plain": [
       "array(['«18+» - запрещено для детей', '«6+» - для детей старше 6 лет',\n",
       "       '«12+» - для детей старше 12 лет',\n",
       "       '«16+» - для детей старше 16 лет',\n",
       "       '«0+» - для любой зрительской аудитории'], dtype=object)"
      ]
     },
     "execution_count": 13,
     "metadata": {},
     "output_type": "execute_result"
    }
   ],
   "source": [
    "df.age_restriction.unique()"
   ]
  },
  {
   "cell_type": "code",
   "execution_count": 14,
   "metadata": {},
   "outputs": [],
   "source": [
    "df['age_restriction'] = (\n",
    "    df['age_restriction']\n",
    "    .astype('category')\n",
    "    .cat.reorder_categories([\n",
    "        '«0+» - для любой зрительской аудитории',\n",
    "        '«6+» - для детей старше 6 лет',\n",
    "        '«12+» - для детей старше 12 лет',\n",
    "        '«16+» - для детей старше 16 лет',\n",
    "        '«18+» - запрещено для детей'\n",
    "    ])\n",
    ")"
   ]
  },
  {
   "cell_type": "code",
   "execution_count": 15,
   "metadata": {},
   "outputs": [
    {
     "data": {
      "text/plain": [
       "array([nan, 'Министерство культуры', 'Фонд кино',\n",
       "       'Министерство культуры, Фонд кино'], dtype=object)"
      ]
     },
     "execution_count": 15,
     "metadata": {},
     "output_type": "execute_result"
    }
   ],
   "source": [
    "df.financing_source.unique()"
   ]
  },
  {
   "cell_type": "markdown",
   "metadata": {},
   "source": [
    "Столбец `financing_source` можно так же сделать категориальным."
   ]
  },
  {
   "cell_type": "code",
   "execution_count": 16,
   "metadata": {},
   "outputs": [],
   "source": [
    "df['financing_source'] = df['financing_source'].astype('category')"
   ]
  },
  {
   "cell_type": "code",
   "execution_count": 17,
   "metadata": {},
   "outputs": [
    {
     "data": {
      "text/plain": [
       "array(['7.2', '6.6', '6.8', '7.7', '8.3', '8.0', '7.8', '8.1', '7.1',\n",
       "       '6.0', '7.4', '5.8', '8.7', '6.3', '6.9', '5.0', '4.3', '7.3',\n",
       "       '7.0', '6.4', nan, '8.2', '7.5', '6.7', '7.9', '5.9', '6.2', '5.6',\n",
       "       '6.5', '2.4', '7.6', '6.1', '8.6', '8.5', '8.8', '5.5', '5.1',\n",
       "       '5.7', '5.4', '99%', '4.4', '4.5', '5.3', '4.1', '8.4', '2.6',\n",
       "       '3.8', '4.6', '4.8', '4.0', '3.0', '1.6', '4.2', '5.2', '4.7',\n",
       "       '4.9', '3.9', '2.7', '3.3', '2.9', '28%', '3.7', '1.4', '3.1',\n",
       "       '97%', '3.5', '3.2', '2.8', '1.5', '2.1', '2.5', '9.2', '3.4',\n",
       "       '1.1', '3.6', '83%', '64%', '91%', '94%', '62%', '79%', '90%',\n",
       "       '19%', '88%', '1.0', '89%', '1.3', '1.9', '1.8', '1.2', '1.7',\n",
       "       '9.0', '98%', '8.9', '9.1'], dtype=object)"
      ]
     },
     "execution_count": 17,
     "metadata": {},
     "output_type": "execute_result"
    }
   ],
   "source": [
    "df.ratings.unique()"
   ]
  },
  {
   "cell_type": "markdown",
   "metadata": {},
   "source": [
    "В столбце `ratings` есть проблемные значения от которых надо избавиться прежде чем менять тип столбца."
   ]
  },
  {
   "cell_type": "code",
   "execution_count": 18,
   "metadata": {},
   "outputs": [],
   "source": [
    "def converting_scores(row):\n",
    "    '''\n",
    "    Функция конвертирует рейтинг в формат X.Y из XY%.\n",
    "    '''\n",
    "    if '%' in str(row['ratings']):\n",
    "        return float(row['ratings'][:-1])/10\n",
    "    else:\n",
    "        return row['ratings']\n",
    "    \n",
    "df['ratings'] = df.apply(converting_scores, axis=1).astype('float').round(decimals=1)"
   ]
  },
  {
   "cell_type": "code",
   "execution_count": 19,
   "metadata": {},
   "outputs": [
    {
     "data": {
      "text/plain": [
       "array([7.2, 6.6, 6.8, 7.7, 8.3, 8. , 7.8, 8.1, 7.1, 6. , 7.4, 5.8, 8.7,\n",
       "       6.3, 6.9, 5. , 4.3, 7.3, 7. , 6.4, nan, 8.2, 7.5, 6.7, 7.9, 5.9,\n",
       "       6.2, 5.6, 6.5, 2.4, 7.6, 6.1, 8.6, 8.5, 8.8, 5.5, 5.1, 5.7, 5.4,\n",
       "       9.9, 4.4, 4.5, 5.3, 4.1, 8.4, 2.6, 3.8, 4.6, 4.8, 4. , 3. , 1.6,\n",
       "       4.2, 5.2, 4.7, 4.9, 3.9, 2.7, 3.3, 2.9, 2.8, 3.7, 1.4, 3.1, 9.7,\n",
       "       3.5, 3.2, 1.5, 2.1, 2.5, 9.2, 3.4, 1.1, 3.6, 9.1, 9.4, 9. , 1.9,\n",
       "       1. , 8.9, 1.3, 1.8, 1.2, 1.7, 9.8])"
      ]
     },
     "execution_count": 19,
     "metadata": {},
     "output_type": "execute_result"
    }
   ],
   "source": [
    "# код ревьюера для проверки\n",
    "df.ratings.unique()"
   ]
  },
  {
   "cell_type": "markdown",
   "metadata": {},
   "source": [
    "### Вывод\n",
    "\n",
    "Мы поменяли часть типов данных на более оптимальные. К категориальным данным с проблемными заголовками вернёмся позднее. Дадее изучим пропуски в датафрейме."
   ]
  },
  {
   "cell_type": "markdown",
   "metadata": {
    "id": "i0MOLbF-gFyP"
   },
   "source": [
    "## 2.2. Изучение пропусков в датафрейме <a id=\"step22\"></a>\n",
    "\n",
    "Изучим пропуски в данных. Взглянем ёще раз на общую информацию по столбцам."
   ]
  },
  {
   "cell_type": "code",
   "execution_count": 20,
   "metadata": {},
   "outputs": [
    {
     "name": "stdout",
     "output_type": "stream",
     "text": [
      "<class 'pandas.core.frame.DataFrame'>\n",
      "Int64Index: 7486 entries, 0 to 7485\n",
      "Data columns (total 16 columns):\n",
      "title                    7486 non-null object\n",
      "pu_number                7486 non-null int64\n",
      "show_start_date          7486 non-null datetime64[ns, UTC]\n",
      "type                     7486 non-null object\n",
      "film_studio              7468 non-null object\n",
      "production_country       7484 non-null object\n",
      "director                 7477 non-null object\n",
      "producer                 6918 non-null object\n",
      "age_restriction          7486 non-null category\n",
      "refundable_support       332 non-null float64\n",
      "nonrefundable_support    332 non-null float64\n",
      "budget                   332 non-null float64\n",
      "financing_source         332 non-null category\n",
      "ratings                  6519 non-null float64\n",
      "genres                   6510 non-null object\n",
      "box_office               3159 non-null float64\n",
      "dtypes: category(2), datetime64[ns, UTC](1), float64(5), int64(1), object(7)\n",
      "memory usage: 892.2+ KB\n"
     ]
    }
   ],
   "source": [
    "df.info()"
   ]
  },
  {
   "cell_type": "markdown",
   "metadata": {},
   "source": [
    "### Вывод\n",
    "\n",
    "Столбцы `title`, `pu_number`, `show_start_date`, `type` и `production_country` не имеют пропусков.\n",
    "\n",
    "Столбец с названием студии `film_studio`, режиссёром `director` и продюсером `producer` можно дополнить вручную выполнив поиск, но т.к. эти данные не учавствуют в исследовательском блоке - оставим без изменений.\n",
    "\n",
    "Столбцы `refundable_support`, `nonrefundable_support`, `budget` и `financing_source` присутствуют только для тех фильмов на которые было выделено финансирование по линии Министерства Культуры или Фонда кино, заполнять их ненужно.\n",
    "\n",
    "Столбцы `ratings`, `genres` и `box_office` содержат значительное количество пропусков. Но эта информация уникальна и не может быть восстановлена опосредовано через остальные данные. Сканирование дополнительных таблиц на сайте mkrf.ru не принесло результата. Если данных нет в нашей исходной таблице, их нет и на сайте министерства культуры."
   ]
  },
  {
   "cell_type": "markdown",
   "metadata": {
    "id": "4c6k1t9ygFyQ"
   },
   "source": [
    "## 2.3. Изучение дубликатов в датафрейме <a id=\"step23\"></a>\n",
    "\n",
    "Проверим, есть ли в данных дубликаты. Опишем причины, которые могли повлиять на появление дублей."
   ]
  },
  {
   "cell_type": "code",
   "execution_count": 21,
   "metadata": {},
   "outputs": [
    {
     "data": {
      "text/plain": [
       "array([False])"
      ]
     },
     "execution_count": 21,
     "metadata": {},
     "output_type": "execute_result"
    }
   ],
   "source": [
    "df.duplicated().unique()"
   ]
  },
  {
   "cell_type": "markdown",
   "metadata": {},
   "source": [
    "Полных дублей нет, проверим отдельные столбцы."
   ]
  },
  {
   "cell_type": "code",
   "execution_count": 22,
   "metadata": {},
   "outputs": [
    {
     "data": {
      "text/plain": [
       "714"
      ]
     },
     "execution_count": 22,
     "metadata": {},
     "output_type": "execute_result"
    }
   ],
   "source": [
    "df[df['title'].duplicated()].shape[0]"
   ]
  },
  {
   "cell_type": "code",
   "execution_count": 23,
   "metadata": {
    "id": "aKck8RIdgFyQ",
    "scrolled": false
   },
   "outputs": [
    {
     "data": {
      "text/html": [
       "<div>\n",
       "<style scoped>\n",
       "    .dataframe tbody tr th:only-of-type {\n",
       "        vertical-align: middle;\n",
       "    }\n",
       "\n",
       "    .dataframe tbody tr th {\n",
       "        vertical-align: top;\n",
       "    }\n",
       "\n",
       "    .dataframe thead th {\n",
       "        text-align: right;\n",
       "    }\n",
       "</style>\n",
       "<table border=\"1\" class=\"dataframe\">\n",
       "  <thead>\n",
       "    <tr style=\"text-align: right;\">\n",
       "      <th></th>\n",
       "      <th>title</th>\n",
       "      <th>pu_number</th>\n",
       "      <th>show_start_date</th>\n",
       "      <th>type</th>\n",
       "      <th>film_studio</th>\n",
       "      <th>production_country</th>\n",
       "      <th>director</th>\n",
       "      <th>producer</th>\n",
       "      <th>age_restriction</th>\n",
       "      <th>refundable_support</th>\n",
       "      <th>nonrefundable_support</th>\n",
       "      <th>budget</th>\n",
       "      <th>financing_source</th>\n",
       "      <th>ratings</th>\n",
       "      <th>genres</th>\n",
       "      <th>box_office</th>\n",
       "    </tr>\n",
       "  </thead>\n",
       "  <tbody>\n",
       "    <tr>\n",
       "      <td>6380</td>\n",
       "      <td>Ян Антонышев</td>\n",
       "      <td>112011918</td>\n",
       "      <td>2018-11-15 12:00:00+00:00</td>\n",
       "      <td>Документальный</td>\n",
       "      <td>NaN</td>\n",
       "      <td>Россия</td>\n",
       "      <td>Е.Окопная</td>\n",
       "      <td>Е.Герасимов</td>\n",
       "      <td>«12+» - для детей старше 12 лет</td>\n",
       "      <td>NaN</td>\n",
       "      <td>NaN</td>\n",
       "      <td>NaN</td>\n",
       "      <td>NaN</td>\n",
       "      <td>NaN</td>\n",
       "      <td>NaN</td>\n",
       "      <td>NaN</td>\n",
       "    </tr>\n",
       "    <tr>\n",
       "      <td>6379</td>\n",
       "      <td>Ян Антонышев</td>\n",
       "      <td>112011818</td>\n",
       "      <td>2018-11-15 12:00:00+00:00</td>\n",
       "      <td>Документальный</td>\n",
       "      <td>NaN</td>\n",
       "      <td>Россия</td>\n",
       "      <td>Е.Окопная</td>\n",
       "      <td>Е.Герасимов</td>\n",
       "      <td>«12+» - для детей старше 12 лет</td>\n",
       "      <td>NaN</td>\n",
       "      <td>NaN</td>\n",
       "      <td>NaN</td>\n",
       "      <td>NaN</td>\n",
       "      <td>NaN</td>\n",
       "      <td>NaN</td>\n",
       "      <td>NaN</td>\n",
       "    </tr>\n",
       "    <tr>\n",
       "      <td>1703</td>\n",
       "      <td>Я, снова я и мама</td>\n",
       "      <td>121013116</td>\n",
       "      <td>2016-05-23 12:00:00+00:00</td>\n",
       "      <td>Художественный</td>\n",
       "      <td>Гомон, Эль Джи Эм Продакшнз, Ректанль Продюксь...</td>\n",
       "      <td>Франция - Бельгия</td>\n",
       "      <td>Гийом Гальенн</td>\n",
       "      <td>Жан-Батист Дюпон, Алис Жирар, Сирил Кольбо-Жюстен</td>\n",
       "      <td>«16+» - для детей старше 16 лет</td>\n",
       "      <td>NaN</td>\n",
       "      <td>NaN</td>\n",
       "      <td>NaN</td>\n",
       "      <td>NaN</td>\n",
       "      <td>6.3</td>\n",
       "      <td>комедия,мелодрама,драма</td>\n",
       "      <td>NaN</td>\n",
       "    </tr>\n",
       "    <tr>\n",
       "      <td>1704</td>\n",
       "      <td>Я, снова я и мама</td>\n",
       "      <td>121030213</td>\n",
       "      <td>2013-11-21 12:00:00+00:00</td>\n",
       "      <td>Художественный</td>\n",
       "      <td>Гомон, Эль Джи Эм Продакшнз, Ректанль Продюксь...</td>\n",
       "      <td>Франция - Бельгия</td>\n",
       "      <td>Гийом Гальенн</td>\n",
       "      <td>Жан-Батист Дюпон, Алис Жирар, Сирил Кольбо-Жюстен</td>\n",
       "      <td>«16+» - для детей старше 16 лет</td>\n",
       "      <td>NaN</td>\n",
       "      <td>NaN</td>\n",
       "      <td>NaN</td>\n",
       "      <td>NaN</td>\n",
       "      <td>6.3</td>\n",
       "      <td>комедия,мелодрама,драма</td>\n",
       "      <td>NaN</td>\n",
       "    </tr>\n",
       "    <tr>\n",
       "      <td>4071</td>\n",
       "      <td>Я ненавижу день святого Валентина</td>\n",
       "      <td>121002010</td>\n",
       "      <td>2010-02-04 12:00:00+00:00</td>\n",
       "      <td>Художественный</td>\n",
       "      <td>Блю Стар Пикчерз, Ай Хэйт Вдэй Продакшнз, Ай С...</td>\n",
       "      <td>США</td>\n",
       "      <td>Ниа Вардалос</td>\n",
       "      <td>Доминик Йанно, Мэдлейн Шерак, Уильям Шерак</td>\n",
       "      <td>«16+» - для детей старше 16 лет</td>\n",
       "      <td>NaN</td>\n",
       "      <td>NaN</td>\n",
       "      <td>NaN</td>\n",
       "      <td>NaN</td>\n",
       "      <td>5.0</td>\n",
       "      <td>мелодрама,комедия</td>\n",
       "      <td>NaN</td>\n",
       "    </tr>\n",
       "    <tr>\n",
       "      <td>...</td>\n",
       "      <td>...</td>\n",
       "      <td>...</td>\n",
       "      <td>...</td>\n",
       "      <td>...</td>\n",
       "      <td>...</td>\n",
       "      <td>...</td>\n",
       "      <td>...</td>\n",
       "      <td>...</td>\n",
       "      <td>...</td>\n",
       "      <td>...</td>\n",
       "      <td>...</td>\n",
       "      <td>...</td>\n",
       "      <td>...</td>\n",
       "      <td>...</td>\n",
       "      <td>...</td>\n",
       "      <td>...</td>\n",
       "    </tr>\n",
       "    <tr>\n",
       "      <td>3130</td>\n",
       "      <td>13 часов: Тайные солдаты Бенгази</td>\n",
       "      <td>121001016</td>\n",
       "      <td>2016-01-15 12:00:00+00:00</td>\n",
       "      <td>Художественный</td>\n",
       "      <td>Парамаунт, Дан Филмз, Латина Пикчарз,3 Арт Инт...</td>\n",
       "      <td>США</td>\n",
       "      <td>Майкл Бэй</td>\n",
       "      <td>Майкл Бэй, Эрвин Стофф</td>\n",
       "      <td>«18+» - запрещено для детей</td>\n",
       "      <td>NaN</td>\n",
       "      <td>NaN</td>\n",
       "      <td>NaN</td>\n",
       "      <td>NaN</td>\n",
       "      <td>6.7</td>\n",
       "      <td>боевик,триллер,драма</td>\n",
       "      <td>18439240.55</td>\n",
       "    </tr>\n",
       "    <tr>\n",
       "      <td>4852</td>\n",
       "      <td>127 часов</td>\n",
       "      <td>121000811</td>\n",
       "      <td>2011-01-27 12:00:00+00:00</td>\n",
       "      <td>Художественный</td>\n",
       "      <td>Фокс Серчлайт Пикчерз, Клод Эйт Филмз, Филм Фо...</td>\n",
       "      <td>США - Великобритания</td>\n",
       "      <td>Дэнни Бойл</td>\n",
       "      <td>Бернард Беллью, Тесса Росс, Гаррет Смит</td>\n",
       "      <td>«16+» - для детей старше 16 лет</td>\n",
       "      <td>NaN</td>\n",
       "      <td>NaN</td>\n",
       "      <td>NaN</td>\n",
       "      <td>NaN</td>\n",
       "      <td>7.7</td>\n",
       "      <td>триллер,биография,драма</td>\n",
       "      <td>NaN</td>\n",
       "    </tr>\n",
       "    <tr>\n",
       "      <td>5058</td>\n",
       "      <td>127 часов</td>\n",
       "      <td>221069011</td>\n",
       "      <td>2011-05-18 12:00:00+00:00</td>\n",
       "      <td>Художественный</td>\n",
       "      <td>Фокс Серчлайт Пикчерз, Клод Эйт Филмз, Филм Фо...</td>\n",
       "      <td>США - Великобритания</td>\n",
       "      <td>Дэнни Бойл</td>\n",
       "      <td>Бернард Беллью, Тесса Росс, Гаррет Смит</td>\n",
       "      <td>«16+» - для детей старше 16 лет</td>\n",
       "      <td>NaN</td>\n",
       "      <td>NaN</td>\n",
       "      <td>NaN</td>\n",
       "      <td>NaN</td>\n",
       "      <td>7.7</td>\n",
       "      <td>триллер,биография,драма</td>\n",
       "      <td>NaN</td>\n",
       "    </tr>\n",
       "    <tr>\n",
       "      <td>454</td>\n",
       "      <td>100 миллионов евро</td>\n",
       "      <td>221024616</td>\n",
       "      <td>2016-05-25 12:00:00+00:00</td>\n",
       "      <td>Художественный</td>\n",
       "      <td>Патэ, Эсквуд, Серенити Фильм, ТФ1 Фильм Продюк...</td>\n",
       "      <td>Франция</td>\n",
       "      <td>Оливер Барру</td>\n",
       "      <td>Ричард Грандпьерр</td>\n",
       "      <td>«16+» - для детей старше 16 лет</td>\n",
       "      <td>NaN</td>\n",
       "      <td>NaN</td>\n",
       "      <td>NaN</td>\n",
       "      <td>NaN</td>\n",
       "      <td>6.1</td>\n",
       "      <td>комедия</td>\n",
       "      <td>NaN</td>\n",
       "    </tr>\n",
       "    <tr>\n",
       "      <td>455</td>\n",
       "      <td>100 миллионов евро</td>\n",
       "      <td>121013712</td>\n",
       "      <td>2012-06-06 12:00:00+00:00</td>\n",
       "      <td>Художественный</td>\n",
       "      <td>Патэ, Эсквуд, Серенити Фильм, ТФ1 Фильм Продюк...</td>\n",
       "      <td>Франция</td>\n",
       "      <td>Оливер Барру</td>\n",
       "      <td>Ричард Грандпьерр</td>\n",
       "      <td>«16+» - для детей старше 16 лет</td>\n",
       "      <td>NaN</td>\n",
       "      <td>NaN</td>\n",
       "      <td>NaN</td>\n",
       "      <td>NaN</td>\n",
       "      <td>6.1</td>\n",
       "      <td>комедия</td>\n",
       "      <td>NaN</td>\n",
       "    </tr>\n",
       "  </tbody>\n",
       "</table>\n",
       "<p>1272 rows × 16 columns</p>\n",
       "</div>"
      ],
      "text/plain": [
       "                                  title  pu_number           show_start_date  \\\n",
       "6380                       Ян Антонышев  112011918 2018-11-15 12:00:00+00:00   \n",
       "6379                       Ян Антонышев  112011818 2018-11-15 12:00:00+00:00   \n",
       "1703                  Я, снова я и мама  121013116 2016-05-23 12:00:00+00:00   \n",
       "1704                  Я, снова я и мама  121030213 2013-11-21 12:00:00+00:00   \n",
       "4071  Я ненавижу день святого Валентина  121002010 2010-02-04 12:00:00+00:00   \n",
       "...                                 ...        ...                       ...   \n",
       "3130   13 часов: Тайные солдаты Бенгази  121001016 2016-01-15 12:00:00+00:00   \n",
       "4852                          127 часов  121000811 2011-01-27 12:00:00+00:00   \n",
       "5058                          127 часов  221069011 2011-05-18 12:00:00+00:00   \n",
       "454                  100 миллионов евро  221024616 2016-05-25 12:00:00+00:00   \n",
       "455                  100 миллионов евро  121013712 2012-06-06 12:00:00+00:00   \n",
       "\n",
       "                type                                        film_studio  \\\n",
       "6380  Документальный                                                NaN   \n",
       "6379  Документальный                                                NaN   \n",
       "1703  Художественный  Гомон, Эль Джи Эм Продакшнз, Ректанль Продюксь...   \n",
       "1704  Художественный  Гомон, Эль Джи Эм Продакшнз, Ректанль Продюксь...   \n",
       "4071  Художественный  Блю Стар Пикчерз, Ай Хэйт Вдэй Продакшнз, Ай С...   \n",
       "...              ...                                                ...   \n",
       "3130  Художественный  Парамаунт, Дан Филмз, Латина Пикчарз,3 Арт Инт...   \n",
       "4852  Художественный  Фокс Серчлайт Пикчерз, Клод Эйт Филмз, Филм Фо...   \n",
       "5058  Художественный  Фокс Серчлайт Пикчерз, Клод Эйт Филмз, Филм Фо...   \n",
       "454   Художественный  Патэ, Эсквуд, Серенити Фильм, ТФ1 Фильм Продюк...   \n",
       "455   Художественный  Патэ, Эсквуд, Серенити Фильм, ТФ1 Фильм Продюк...   \n",
       "\n",
       "        production_country       director  \\\n",
       "6380                Россия      Е.Окопная   \n",
       "6379                Россия      Е.Окопная   \n",
       "1703     Франция - Бельгия  Гийом Гальенн   \n",
       "1704     Франция - Бельгия  Гийом Гальенн   \n",
       "4071                   США   Ниа Вардалос   \n",
       "...                    ...            ...   \n",
       "3130                   США      Майкл Бэй   \n",
       "4852  США - Великобритания     Дэнни Бойл   \n",
       "5058  США - Великобритания     Дэнни Бойл   \n",
       "454                Франция   Оливер Барру   \n",
       "455                Франция   Оливер Барру   \n",
       "\n",
       "                                               producer  \\\n",
       "6380                                        Е.Герасимов   \n",
       "6379                                        Е.Герасимов   \n",
       "1703  Жан-Батист Дюпон, Алис Жирар, Сирил Кольбо-Жюстен   \n",
       "1704  Жан-Батист Дюпон, Алис Жирар, Сирил Кольбо-Жюстен   \n",
       "4071         Доминик Йанно, Мэдлейн Шерак, Уильям Шерак   \n",
       "...                                                 ...   \n",
       "3130                             Майкл Бэй, Эрвин Стофф   \n",
       "4852            Бернард Беллью, Тесса Росс, Гаррет Смит   \n",
       "5058            Бернард Беллью, Тесса Росс, Гаррет Смит   \n",
       "454                                   Ричард Грандпьерр   \n",
       "455                                   Ричард Грандпьерр   \n",
       "\n",
       "                      age_restriction  refundable_support  \\\n",
       "6380  «12+» - для детей старше 12 лет                 NaN   \n",
       "6379  «12+» - для детей старше 12 лет                 NaN   \n",
       "1703  «16+» - для детей старше 16 лет                 NaN   \n",
       "1704  «16+» - для детей старше 16 лет                 NaN   \n",
       "4071  «16+» - для детей старше 16 лет                 NaN   \n",
       "...                               ...                 ...   \n",
       "3130      «18+» - запрещено для детей                 NaN   \n",
       "4852  «16+» - для детей старше 16 лет                 NaN   \n",
       "5058  «16+» - для детей старше 16 лет                 NaN   \n",
       "454   «16+» - для детей старше 16 лет                 NaN   \n",
       "455   «16+» - для детей старше 16 лет                 NaN   \n",
       "\n",
       "      nonrefundable_support  budget financing_source  ratings  \\\n",
       "6380                    NaN     NaN              NaN      NaN   \n",
       "6379                    NaN     NaN              NaN      NaN   \n",
       "1703                    NaN     NaN              NaN      6.3   \n",
       "1704                    NaN     NaN              NaN      6.3   \n",
       "4071                    NaN     NaN              NaN      5.0   \n",
       "...                     ...     ...              ...      ...   \n",
       "3130                    NaN     NaN              NaN      6.7   \n",
       "4852                    NaN     NaN              NaN      7.7   \n",
       "5058                    NaN     NaN              NaN      7.7   \n",
       "454                     NaN     NaN              NaN      6.1   \n",
       "455                     NaN     NaN              NaN      6.1   \n",
       "\n",
       "                       genres   box_office  \n",
       "6380                      NaN          NaN  \n",
       "6379                      NaN          NaN  \n",
       "1703  комедия,мелодрама,драма          NaN  \n",
       "1704  комедия,мелодрама,драма          NaN  \n",
       "4071        мелодрама,комедия          NaN  \n",
       "...                       ...          ...  \n",
       "3130     боевик,триллер,драма  18439240.55  \n",
       "4852  триллер,биография,драма          NaN  \n",
       "5058  триллер,биография,драма          NaN  \n",
       "454                   комедия          NaN  \n",
       "455                   комедия          NaN  \n",
       "\n",
       "[1272 rows x 16 columns]"
      ]
     },
     "execution_count": 23,
     "metadata": {},
     "output_type": "execute_result"
    }
   ],
   "source": [
    "df[df['title'].duplicated(keep=False)].sort_values(by='title', ascending=False)"
   ]
  },
  {
   "cell_type": "markdown",
   "metadata": {},
   "source": [
    "В столбце `title` есть дубли, но они объясняются наличием нескольких прокатных удостоверений на один фильм. В исправлении не нуждается."
   ]
  },
  {
   "cell_type": "code",
   "execution_count": 24,
   "metadata": {},
   "outputs": [
    {
     "data": {
      "text/html": [
       "<div>\n",
       "<style scoped>\n",
       "    .dataframe tbody tr th:only-of-type {\n",
       "        vertical-align: middle;\n",
       "    }\n",
       "\n",
       "    .dataframe tbody tr th {\n",
       "        vertical-align: top;\n",
       "    }\n",
       "\n",
       "    .dataframe thead th {\n",
       "        text-align: right;\n",
       "    }\n",
       "</style>\n",
       "<table border=\"1\" class=\"dataframe\">\n",
       "  <thead>\n",
       "    <tr style=\"text-align: right;\">\n",
       "      <th></th>\n",
       "      <th>title</th>\n",
       "      <th>pu_number</th>\n",
       "      <th>show_start_date</th>\n",
       "      <th>type</th>\n",
       "      <th>film_studio</th>\n",
       "      <th>production_country</th>\n",
       "      <th>director</th>\n",
       "      <th>producer</th>\n",
       "      <th>age_restriction</th>\n",
       "      <th>refundable_support</th>\n",
       "      <th>nonrefundable_support</th>\n",
       "      <th>budget</th>\n",
       "      <th>financing_source</th>\n",
       "      <th>ratings</th>\n",
       "      <th>genres</th>\n",
       "      <th>box_office</th>\n",
       "    </tr>\n",
       "  </thead>\n",
       "  <tbody>\n",
       "    <tr>\n",
       "      <td>1797</td>\n",
       "      <td>Курбан-роман. (История с жертвой)</td>\n",
       "      <td>111009614</td>\n",
       "      <td>2014-05-15 12:00:00+00:00</td>\n",
       "      <td>Художественный</td>\n",
       "      <td>ФОНД \"ИННОВАЦИЯ\"</td>\n",
       "      <td>Россия</td>\n",
       "      <td>С.Юзеев</td>\n",
       "      <td>М.Галицкая</td>\n",
       "      <td>«12+» - для детей старше 12 лет</td>\n",
       "      <td>NaN</td>\n",
       "      <td>NaN</td>\n",
       "      <td>NaN</td>\n",
       "      <td>NaN</td>\n",
       "      <td>NaN</td>\n",
       "      <td>NaN</td>\n",
       "      <td>0.0</td>\n",
       "    </tr>\n",
       "    <tr>\n",
       "      <td>2078</td>\n",
       "      <td>Курбан-роман. (История с жертвой).</td>\n",
       "      <td>111009614</td>\n",
       "      <td>2014-09-02 12:00:00+00:00</td>\n",
       "      <td>Художественный</td>\n",
       "      <td>ФОНД \"ИННОВАЦИЯ\"</td>\n",
       "      <td>Россия</td>\n",
       "      <td>С.Юзеев</td>\n",
       "      <td>М.Галицкая</td>\n",
       "      <td>«12+» - для детей старше 12 лет</td>\n",
       "      <td>NaN</td>\n",
       "      <td>NaN</td>\n",
       "      <td>NaN</td>\n",
       "      <td>NaN</td>\n",
       "      <td>NaN</td>\n",
       "      <td>NaN</td>\n",
       "      <td>0.0</td>\n",
       "    </tr>\n",
       "    <tr>\n",
       "      <td>4638</td>\n",
       "      <td>Как жениться и остаться холостым</td>\n",
       "      <td>221154310</td>\n",
       "      <td>2010-12-17 12:00:00+00:00</td>\n",
       "      <td>Художественный</td>\n",
       "      <td>Ше Вам, Скрипт Ассосье, Тэ Фэ 1 Фильм Продюксь...</td>\n",
       "      <td>Франция</td>\n",
       "      <td>Эрик Лартиго</td>\n",
       "      <td>Амандин Било, Алан Шаба</td>\n",
       "      <td>«16+» - для детей старше 16 лет</td>\n",
       "      <td>NaN</td>\n",
       "      <td>NaN</td>\n",
       "      <td>NaN</td>\n",
       "      <td>NaN</td>\n",
       "      <td>7.0</td>\n",
       "      <td>мелодрама,комедия</td>\n",
       "      <td>NaN</td>\n",
       "    </tr>\n",
       "    <tr>\n",
       "      <td>4639</td>\n",
       "      <td>Иоанна - женщина на папском престоле /По роман...</td>\n",
       "      <td>221154310</td>\n",
       "      <td>2010-12-17 12:00:00+00:00</td>\n",
       "      <td>Художественный</td>\n",
       "      <td>Константин Фильм, А Эр Ди Дегето Фильм, Дюне ...</td>\n",
       "      <td>Германия - Великобритания - Италия - Испания</td>\n",
       "      <td>Зенке Вортманн</td>\n",
       "      <td>Оливер Бербен, Дорис Д.Хайнце, Фарук Элтан</td>\n",
       "      <td>«16+» - для детей старше 16 лет</td>\n",
       "      <td>NaN</td>\n",
       "      <td>NaN</td>\n",
       "      <td>NaN</td>\n",
       "      <td>NaN</td>\n",
       "      <td>7.6</td>\n",
       "      <td>драма,мелодрама,история</td>\n",
       "      <td>NaN</td>\n",
       "    </tr>\n",
       "    <tr>\n",
       "      <td>5067</td>\n",
       "      <td>Анализируй это!</td>\n",
       "      <td>221054410</td>\n",
       "      <td>2010-05-25 12:00:00+00:00</td>\n",
       "      <td>Художественный</td>\n",
       "      <td>Уорнер Бразерс, Вилладж Роудшоу Филмз ЛТД</td>\n",
       "      <td>США-Австралия</td>\n",
       "      <td>ХЭрольд Рэмис</td>\n",
       "      <td>Джейн Розенталь, Пола Уейнстейн</td>\n",
       "      <td>«16+» - для детей старше 16 лет</td>\n",
       "      <td>NaN</td>\n",
       "      <td>NaN</td>\n",
       "      <td>NaN</td>\n",
       "      <td>NaN</td>\n",
       "      <td>7.4</td>\n",
       "      <td>комедия,криминал</td>\n",
       "      <td>NaN</td>\n",
       "    </tr>\n",
       "    <tr>\n",
       "      <td>5068</td>\n",
       "      <td>Анализируй то!</td>\n",
       "      <td>221054410</td>\n",
       "      <td>2010-05-25 12:00:00+00:00</td>\n",
       "      <td>Художественный</td>\n",
       "      <td>Уорнер Бразерс, Виллидж Роадшоу Пикчерз, Эн-Пи...</td>\n",
       "      <td>США</td>\n",
       "      <td>Гарольд Реймис</td>\n",
       "      <td>Джейн Розенталь, Паул Уэйнстейн</td>\n",
       "      <td>«12+» - для детей старше 12 лет</td>\n",
       "      <td>NaN</td>\n",
       "      <td>NaN</td>\n",
       "      <td>NaN</td>\n",
       "      <td>NaN</td>\n",
       "      <td>6.8</td>\n",
       "      <td>комедия,криминал</td>\n",
       "      <td>NaN</td>\n",
       "    </tr>\n",
       "  </tbody>\n",
       "</table>\n",
       "</div>"
      ],
      "text/plain": [
       "                                                  title  pu_number  \\\n",
       "1797                  Курбан-роман. (История с жертвой)  111009614   \n",
       "2078                 Курбан-роман. (История с жертвой).  111009614   \n",
       "4638                   Как жениться и остаться холостым  221154310   \n",
       "4639  Иоанна - женщина на папском престоле /По роман...  221154310   \n",
       "5067                                    Анализируй это!  221054410   \n",
       "5068                                     Анализируй то!  221054410   \n",
       "\n",
       "               show_start_date            type  \\\n",
       "1797 2014-05-15 12:00:00+00:00  Художественный   \n",
       "2078 2014-09-02 12:00:00+00:00  Художественный   \n",
       "4638 2010-12-17 12:00:00+00:00  Художественный   \n",
       "4639 2010-12-17 12:00:00+00:00  Художественный   \n",
       "5067 2010-05-25 12:00:00+00:00  Художественный   \n",
       "5068 2010-05-25 12:00:00+00:00  Художественный   \n",
       "\n",
       "                                            film_studio  \\\n",
       "1797                                   ФОНД \"ИННОВАЦИЯ\"   \n",
       "2078                                   ФОНД \"ИННОВАЦИЯ\"   \n",
       "4638  Ше Вам, Скрипт Ассосье, Тэ Фэ 1 Фильм Продюксь...   \n",
       "4639   Константин Фильм, А Эр Ди Дегето Фильм, Дюне ...   \n",
       "5067          Уорнер Бразерс, Вилладж Роудшоу Филмз ЛТД   \n",
       "5068  Уорнер Бразерс, Виллидж Роадшоу Пикчерз, Эн-Пи...   \n",
       "\n",
       "                                production_country        director  \\\n",
       "1797                                        Россия         С.Юзеев   \n",
       "2078                                        Россия         С.Юзеев   \n",
       "4638                                       Франция    Эрик Лартиго   \n",
       "4639  Германия - Великобритания - Италия - Испания  Зенке Вортманн   \n",
       "5067                                 США-Австралия   ХЭрольд Рэмис   \n",
       "5068                                           США  Гарольд Реймис   \n",
       "\n",
       "                                        producer  \\\n",
       "1797                                  М.Галицкая   \n",
       "2078                                  М.Галицкая   \n",
       "4638                     Амандин Било, Алан Шаба   \n",
       "4639  Оливер Бербен, Дорис Д.Хайнце, Фарук Элтан   \n",
       "5067             Джейн Розенталь, Пола Уейнстейн   \n",
       "5068             Джейн Розенталь, Паул Уэйнстейн   \n",
       "\n",
       "                      age_restriction  refundable_support  \\\n",
       "1797  «12+» - для детей старше 12 лет                 NaN   \n",
       "2078  «12+» - для детей старше 12 лет                 NaN   \n",
       "4638  «16+» - для детей старше 16 лет                 NaN   \n",
       "4639  «16+» - для детей старше 16 лет                 NaN   \n",
       "5067  «16+» - для детей старше 16 лет                 NaN   \n",
       "5068  «12+» - для детей старше 12 лет                 NaN   \n",
       "\n",
       "      nonrefundable_support  budget financing_source  ratings  \\\n",
       "1797                    NaN     NaN              NaN      NaN   \n",
       "2078                    NaN     NaN              NaN      NaN   \n",
       "4638                    NaN     NaN              NaN      7.0   \n",
       "4639                    NaN     NaN              NaN      7.6   \n",
       "5067                    NaN     NaN              NaN      7.4   \n",
       "5068                    NaN     NaN              NaN      6.8   \n",
       "\n",
       "                       genres  box_office  \n",
       "1797                      NaN         0.0  \n",
       "2078                      NaN         0.0  \n",
       "4638        мелодрама,комедия         NaN  \n",
       "4639  драма,мелодрама,история         NaN  \n",
       "5067         комедия,криминал         NaN  \n",
       "5068         комедия,криминал         NaN  "
      ]
     },
     "execution_count": 24,
     "metadata": {},
     "output_type": "execute_result"
    }
   ],
   "source": [
    "df[df['pu_number'].duplicated(keep=False)]"
   ]
  },
  {
   "cell_type": "markdown",
   "metadata": {},
   "source": [
    "В столбце `pu_number` так же есть дубликаты, но всего 3. Выяснить причину совпадения прокатных удостоверений при разных записях можно у источника данных, но в данном случае на анализ это не повлияет. Оставим как есть."
   ]
  },
  {
   "cell_type": "markdown",
   "metadata": {},
   "source": [
    "### Вывод\n",
    "\n",
    "В обрабатываемых данных отсутствуют полные дубли. Есть дубли по названию фильма, но они объясняются разными прокатными удостоверениями на разные даты и, возможно, разные прокатные права. Дублей по самим прокатным удостоверениям только 3, но так как на дальнейший анализ они не повлияют - оставим как есть."
   ]
  },
  {
   "cell_type": "markdown",
   "metadata": {
    "id": "52fOPrEBgFyQ"
   },
   "source": [
    "## 2.4. Изучение категориальных значений <a id=\"step24\"></a>\n",
    "\n",
    "Как мы заметили ранее в категориальных столбцах есть проблема ведущих и хвостовых пробелов, избавимся от них.\n",
    "\n",
    "Проверим уникальные значения до обработки."
   ]
  },
  {
   "cell_type": "code",
   "execution_count": 25,
   "metadata": {
    "id": "PnXKIVdFgFyR",
    "scrolled": true
   },
   "outputs": [
    {
     "data": {
      "text/plain": [
       "array(['Художественный', 'Анимационный', 'Прочие', 'Документальный',\n",
       "       'Научно-популярный', ' Художественный', ' Анимационный',\n",
       "       'Музыкально-развлекательный'], dtype=object)"
      ]
     },
     "execution_count": 25,
     "metadata": {},
     "output_type": "execute_result"
    }
   ],
   "source": [
    "df['type'].unique()"
   ]
  },
  {
   "cell_type": "markdown",
   "metadata": {},
   "source": [
    "Удалим ведущие и хвостовые пробелы."
   ]
  },
  {
   "cell_type": "code",
   "execution_count": 26,
   "metadata": {
    "scrolled": true
   },
   "outputs": [],
   "source": [
    "df['type'] = df['type'].str.strip()"
   ]
  },
  {
   "cell_type": "code",
   "execution_count": 27,
   "metadata": {
    "id": "PnXKIVdFgFyR",
    "scrolled": true
   },
   "outputs": [
    {
     "data": {
      "text/plain": [
       "array(['Художественный', 'Анимационный', 'Прочие', 'Документальный',\n",
       "       'Научно-популярный', 'Музыкально-развлекательный'], dtype=object)"
      ]
     },
     "execution_count": 27,
     "metadata": {},
     "output_type": "execute_result"
    }
   ],
   "source": [
    "df['type'].unique()"
   ]
  },
  {
   "cell_type": "markdown",
   "metadata": {},
   "source": [
    "Теперь столбец можно перевести в категориальный тип."
   ]
  },
  {
   "cell_type": "code",
   "execution_count": 28,
   "metadata": {},
   "outputs": [],
   "source": [
    "df['type'] = df['type'].astype('category')"
   ]
  },
  {
   "cell_type": "code",
   "execution_count": 29,
   "metadata": {
    "scrolled": true
   },
   "outputs": [
    {
     "data": {
      "text/plain": [
       "array(['боевик,драма,мелодрама', 'драма,военный',\n",
       "       'фантастика,боевик,триллер', 'драма', 'мелодрама,комедия',\n",
       "       'мюзикл,мелодрама,комедия', 'комедия,криминал',\n",
       "       'боевик,триллер,детектив', 'боевик,драма,приключения',\n",
       "       'драма,спорт', 'триллер,драма,мелодрама', 'комедия,мелодрама',\n",
       "       'драма,мелодрама,комедия', 'драма,мелодрама', 'драма,история',\n",
       "       'драма,мелодрама,семейный', 'комедия,мелодрама,криминал',\n",
       "       'комедия', 'боевик,драма,криминал', 'драма,комедия',\n",
       "       'ужасы,фантастика,комедия', 'мультфильм,короткометражка,мелодрама',\n",
       "       'драма,криминал', 'мультфильм,фантастика,фэнтези',\n",
       "       'триллер,драма,криминал', 'драма,мелодрама,биография',\n",
       "       'драма,комедия,военный', 'фантастика,драма,детектив',\n",
       "       'мюзикл,семейный', nan, 'военный,приключения,драма',\n",
       "       'документальный,драма', 'драма,биография,история',\n",
       "       'боевик,триллер,драма', 'фэнтези,боевик',\n",
       "       'боевик,комедия,криминал', 'мюзикл,комедия,детский',\n",
       "       'комедия,мелодрама,драма', 'мультфильм,фэнтези,комедия',\n",
       "       'комедия,история', 'мелодрама', 'драма,биография,музыка',\n",
       "       'фэнтези,драма,мелодрама', 'триллер,военный',\n",
       "       'драма,мелодрама,военный', 'мюзикл,драма,мелодрама',\n",
       "       'мюзикл,комедия', 'мультфильм,приключения,семейный',\n",
       "       'ужасы,триллер', 'боевик,драма,военный', 'драма,боевик',\n",
       "       'мультфильм,драма,комедия', 'триллер,криминал',\n",
       "       'военный,биография,драма', 'комедия,семейный', 'военный',\n",
       "       'драма,семейный,биография', 'фэнтези,приключения,семейный',\n",
       "       'драма,криминал,биография', 'ужасы,триллер,детектив',\n",
       "       'боевик,история,драма', 'ужасы,триллер,драма',\n",
       "       'драма,криминал,спорт', 'документальный,короткометражка',\n",
       "       'триллер,драма', 'криминал,детектив,приключения',\n",
       "       'драма,комедия,криминал', 'драма,комедия,вестерн',\n",
       "       'драма,мелодрама,детектив', 'мелодрама,биография',\n",
       "       'фэнтези,мелодрама,драма', 'драма,мелодрама,история',\n",
       "       'комедия,приключения,история', 'приключения', 'драма,семейный',\n",
       "       'криминал,детектив', 'мультфильм,короткометражка,ужасы',\n",
       "       'фантастика,триллер,драма', 'фэнтези,мелодрама,комедия',\n",
       "       'драма,биография', 'комедия,криминал,история',\n",
       "       'триллер,драма,детектив', 'фантастика,комедия,приключения',\n",
       "       'фэнтези,семейный', 'ужасы,фантастика,боевик',\n",
       "       'мелодрама,криминал', 'комедия,приключения,мелодрама',\n",
       "       'боевик,триллер,приключения', 'боевик,приключения',\n",
       "       'боевик,триллер,криминал', 'документальный,военный,история',\n",
       "       'драма,музыка', 'боевик,драма', 'приключения,боевик',\n",
       "       'драма,военный,биография', 'триллер,драма,приключения',\n",
       "       'аниме,мультфильм,фэнтези', 'триллер,детектив,драма',\n",
       "       'боевик,триллер,мелодрама', 'боевик,история',\n",
       "       'приключения,история', 'драма,комедия,приключения',\n",
       "       'фэнтези,комедия,приключения', 'драма,вестерн',\n",
       "       'документальный,музыка', 'мелодрама,драма',\n",
       "       'триллер,криминал,детектив', 'ужасы', 'боевик,комедия,приключения',\n",
       "       'мультфильм,фэнтези,боевик', 'боевик,фэнтези,драма',\n",
       "       'фэнтези,драма', 'фэнтези,боевик,комедия',\n",
       "       'приключения,детский,комедия', 'документальный',\n",
       "       'боевик,триллер,комедия', 'мелодрама,комедия,криминал',\n",
       "       'драма,детектив', 'мюзикл,ужасы,триллер', 'детектив,триллер,ужасы',\n",
       "       'ужасы,фэнтези', 'ужасы,фэнтези,триллер', 'мультфильм,драма',\n",
       "       'ужасы,боевик,фантастика', 'боевик', 'фантастика,боевик',\n",
       "       'мелодрама,комедия,приключения', 'триллер,детектив',\n",
       "       'мюзикл,мелодрама,фэнтези', 'криминал', 'триллер,комедия,криминал',\n",
       "       'боевик,приключения,триллер', 'триллер,драма,военный',\n",
       "       'комедия,семейный,музыка', 'комедия,фантастика,мелодрама',\n",
       "       'фантастика,триллер,криминал', 'комедия,драма', 'боевик,военный',\n",
       "       'ужасы,фантастика,триллер', 'фантастика,драма,мелодрама',\n",
       "       'фэнтези,драма,детектив', 'боевик,триллер', 'боевик,драма,история',\n",
       "       'мультфильм,мюзикл,фэнтези', 'для взрослых,драма,мелодрама',\n",
       "       'мультфильм,боевик,детектив', 'фантастика,мелодрама,боевик',\n",
       "       'ужасы,фантастика,детектив', 'фантастика,боевик,приключения',\n",
       "       'мелодрама,комедия,спорт', 'комедия,боевик,приключения',\n",
       "       'документальный,приключения', 'мультфильм,короткометражка,детский',\n",
       "       'комедия,приключения', 'ужасы,драма', 'ужасы,фэнтези,боевик',\n",
       "       'мультфильм,фэнтези,детский', 'мюзикл,боевик,драма',\n",
       "       'семейный,комедия,драма', 'концерт,музыка', 'фэнтези,боевик,драма',\n",
       "       'драма,комедия,музыка', 'фантастика,фэнтези,боевик',\n",
       "       'фэнтези,комедия,семейный', 'фэнтези,драма,комедия',\n",
       "       'мультфильм,мюзикл,драма', 'триллер', 'боевик,криминал,триллер',\n",
       "       'мультфильм,приключения,драма', 'мелодрама,музыка',\n",
       "       'документальный,музыка,концерт', 'мультфильм,семейный',\n",
       "       'мультфильм,комедия,приключения', 'мультфильм,комедия,семейный',\n",
       "       'фантастика,драма', 'фэнтези,боевик,приключения',\n",
       "       'мультфильм,приключения', 'драма,военный,история', 'история',\n",
       "       'драма,приключения,военный',\n",
       "       'документальный,короткометражка,семейный',\n",
       "       'мелодрама,история,триллер', 'ужасы,детектив',\n",
       "       'мюзикл,комедия,приключения', 'драма,спорт,биография',\n",
       "       'фантастика,боевик,комедия', 'фантастика,приключения,детектив',\n",
       "       'короткометражка,драма,военный', 'драма,мультфильм',\n",
       "       'приключения,семейный', 'детектив', 'триллер,приключения',\n",
       "       'аниме,мультфильм,боевик', 'драма,комедия,биография',\n",
       "       'драма,комедия,спорт', 'боевик,мелодрама,комедия',\n",
       "       'семейный,комедия', 'фэнтези,боевик,триллер',\n",
       "       'документальный,фэнтези,семейный', 'фантастика,фэнтези,драма',\n",
       "       'ужасы,комедия,фэнтези', 'документальный,биография,музыка',\n",
       "       'фантастика,боевик,фэнтези', 'ужасы,боевик,триллер',\n",
       "       'комедия,криминал,семейный', 'приключения,драма',\n",
       "       'криминал,драма,триллер', 'драма,детектив,криминал',\n",
       "       'фэнтези,приключения,комедия', 'комедия,спорт',\n",
       "       'мюзикл,фэнтези,мелодрама', 'мультфильм,фэнтези,приключения',\n",
       "       'фантастика,фэнтези,приключения', 'фэнтези',\n",
       "       'фэнтези,приключения,боевик', 'фантастика,боевик,драма',\n",
       "       'криминал,драма', 'криминал,триллер,драма',\n",
       "       'драма,мелодрама,приключения', 'детский,комедия',\n",
       "       'фантастика,драма,боевик', 'мультфильм,семейный,фэнтези',\n",
       "       'концерт,музыка,документальный', 'ужасы,комедия,приключения',\n",
       "       'драма,мелодрама,криминал', 'ужасы,фантастика,фэнтези',\n",
       "       'боевик,комедия', 'мультфильм,фантастика,комедия', 'триллер,ужасы',\n",
       "       'мультфильм,мюзикл,комедия', 'мелодрама,фэнтези,триллер',\n",
       "       'детский,приключения,комедия', 'комедия,детектив',\n",
       "       'аниме,мультфильм,мелодрама', 'документальный,драма,семейный',\n",
       "       'документальный,биография,история', 'военный,боевик,драма',\n",
       "       'ужасы,комедия', 'комедия,приключения,семейный',\n",
       "       'приключения,биография,история', 'детский,приключения,семейный',\n",
       "       'спорт,драма,биография', 'аниме,мультфильм,ужасы',\n",
       "       'фантастика,боевик,криминал', 'мюзикл,драма',\n",
       "       'драма,криминал,детектив', 'аниме,мультфильм,драма',\n",
       "       'драма,триллер,приключения', 'триллер,криминал,драма',\n",
       "       'фэнтези,комедия,драма', 'мультфильм,комедия',\n",
       "       'драма,комедия,история', 'комедия,биография,история',\n",
       "       'мультфильм,фантастика,приключения', 'аниме,мультфильм,фантастика',\n",
       "       'мультфильм,фэнтези,семейный', 'мультфильм,боевик,комедия',\n",
       "       'комедия,криминал,спорт', 'документальный,мюзикл',\n",
       "       'мелодрама,комедия,музыка', 'биография',\n",
       "       'триллер,криминал,комедия', 'фантастика,драма,комедия',\n",
       "       'комедия,драма,мелодрама', 'фантастика,приключения,боевик',\n",
       "       'мультфильм,фэнтези,драма', 'триллер,комедия',\n",
       "       'драма,приключения,биография', 'фантастика,комедия',\n",
       "       'мелодрама,драма,комедия', 'боевик,криминал',\n",
       "       'драма,криминал,боевик', 'мультфильм,мюзикл,детский',\n",
       "       'драма,фэнтези', 'документальный,семейный',\n",
       "       'фэнтези,драма,приключения', 'ужасы,комедия,фантастика',\n",
       "       'драма,мелодрама,музыка', 'фэнтези,драма,семейный',\n",
       "       'триллер,мелодрама,драма', 'вестерн,боевик,драма',\n",
       "       'мультфильм,короткометражка,комедия', 'триллер,драма,история',\n",
       "       'ужасы,фантастика', 'ужасы,мелодрама,комедия',\n",
       "       'фэнтези,приключения', 'фантастика,триллер',\n",
       "       'ужасы,боевик,фэнтези', 'мультфильм,комедия,детский',\n",
       "       'триллер,драма,биография', 'мультфильм,ужасы,фэнтези',\n",
       "       'мультфильм,ужасы,фантастика', 'ужасы,боевик,комедия',\n",
       "       'драма,биография,спорт', 'мультфильм', 'мелодрама,комедия,драма',\n",
       "       'приключения,фантастика,семейный', 'комедия,криминал,детектив',\n",
       "       'ужасы,триллер,комедия', 'криминал,комедия,триллер',\n",
       "       'семейный,приключения,комедия', 'мультфильм,драма,приключения',\n",
       "       'ужасы,драма,детектив', 'драма,приключения,фэнтези',\n",
       "       'фантастика,мультфильм,драма', 'драма,триллер,детектив',\n",
       "       'драма,история,музыка', 'детский', 'триллер,боевик,криминал',\n",
       "       'драма,фантастика', 'комедия,драма,семейный',\n",
       "       'боевик,драма,комедия', 'комедия,ужасы',\n",
       "       'драма,фантастика,триллер', 'фантастика,драма,триллер',\n",
       "       'история,спорт,драма', 'документальный,биография',\n",
       "       'биография,история', 'спорт,драма', 'боевик,фэнтези',\n",
       "       'мультфильм,фэнтези', 'документальный,комедия,история',\n",
       "       'криминал,комедия,боевик', 'фэнтези,приключения,драма',\n",
       "       'музыка,концерт', 'триллер,драма,боевик',\n",
       "       'комедия,криминал,боевик', 'комедия,фантастика,боевик',\n",
       "       'вестерн,приключения,боевик', 'аниме,мультфильм,комедия',\n",
       "       'детектив,криминал,триллер', 'мультфильм,комедия,криминал',\n",
       "       'комедия,приключения,детектив', 'мелодрама,фантастика,драма',\n",
       "       'драма,комедия,семейный', 'приключения,фантастика',\n",
       "       'триллер,детектив,ужасы', 'комедия,приключения,фэнтези',\n",
       "       'фэнтези,триллер,драма', 'мелодрама,приключения,боевик',\n",
       "       'детектив,триллер,криминал', 'фэнтези,семейный,мелодрама',\n",
       "       'военный,драма', 'документальный,приключения,семейный',\n",
       "       'криминал,комедия,драма', 'комедия,фантастика',\n",
       "       'история,биография,драма', 'мелодрама,драма,музыка',\n",
       "       'боевик,мелодрама', 'комедия,криминал,триллер',\n",
       "       'детектив,триллер,боевик', 'комедия,боевик,криминал',\n",
       "       'комедия,вестерн', 'детский,мелодрама,семейный',\n",
       "       'короткометражка,мультфильм', 'комедия,фэнтези',\n",
       "       'фантастика,драма,ужасы', 'триллер,драма,ужасы',\n",
       "       'драма,фэнтези,история', 'комедия,драма,короткометражка',\n",
       "       'фэнтези,триллер,приключения', 'семейный',\n",
       "       'комедия,криминал,драма', 'комедия,фэнтези,ужасы',\n",
       "       'короткометражка,комедия,криминал', 'фантастика',\n",
       "       'триллер,ужасы,драма', 'мелодрама,драма,фэнтези',\n",
       "       'фантастика,приключения,драма', 'боевик,детектив',\n",
       "       'военный,драма,боевик', 'комедия,мелодрама,фэнтези',\n",
       "       'вестерн,криминал,триллер', 'драма,история,триллер',\n",
       "       'мультфильм,фантастика,боевик', 'детектив,драма,криминал',\n",
       "       'приключения,история,драма', 'мультфильм,семейный,детский',\n",
       "       'биография,драма,история', 'триллер,криминал,боевик',\n",
       "       'история,мелодрама', 'приключения,детский',\n",
       "       'музыка,приключения,концерт', 'военный,драма,комедия',\n",
       "       'фэнтези,боевик,военный', 'фантастика,детектив,боевик',\n",
       "       'мультфильм,фэнтези,история', 'биография,мелодрама,драма',\n",
       "       'документальный,биография,спорт', 'фантастика,комедия,детектив',\n",
       "       'музыка,концерт,документальный', 'триллер,боевик,приключения',\n",
       "       'триллер,драма,комедия', 'детектив,криминал',\n",
       "       'мультфильм,приключения,фэнтези', 'мелодрама,приключения',\n",
       "       'комедия,музыка', 'мелодрама,комедия,ужасы',\n",
       "       'драма,криминал,приключения', 'приключения,детектив,мелодрама',\n",
       "       'драма,криминал,фантастика', 'фэнтези,драма,биография',\n",
       "       'детектив,фантастика,криминал', 'триллер,драма,фантастика',\n",
       "       'ужасы,комедия,боевик', 'мелодрама,история', 'триллер,боевик',\n",
       "       'фильм-нуар,триллер,детектив', 'комедия,криминал,приключения',\n",
       "       'ужасы,триллер,мелодрама', 'военный,драма,история',\n",
       "       'драма,спорт,история', 'документальный,драма,история',\n",
       "       'триллер,мелодрама,детектив', 'детский,семейный',\n",
       "       'мюзикл,семейный,драма', 'биография,военный,драма',\n",
       "       'мультфильм,детский', 'боевик,криминал,драма',\n",
       "       'детектив,фэнтези,триллер', 'драма,боевик,приключения',\n",
       "       'драма,мелодрама,фэнтези', 'детектив,история,драма',\n",
       "       'фэнтези,боевик,ужасы', 'ужасы,фэнтези,мелодрама',\n",
       "       'ужасы,приключения', 'боевик,фантастика',\n",
       "       'ужасы,мелодрама,детектив', 'фантастика,триллер,приключения',\n",
       "       'боевик,приключения,история', 'приключения,боевик,триллер',\n",
       "       'детектив,ужасы,криминал', 'семейный,фэнтези', 'мюзикл,мелодрама',\n",
       "       'драма,военный,приключения', 'фантастика,драма,приключения',\n",
       "       'приключения,семейный,драма', 'история,драма,боевик',\n",
       "       'мультфильм,приключения,комедия', 'криминал,драма,комедия',\n",
       "       'ужасы,комедия,драма', 'комедия,семейный,приключения',\n",
       "       'мюзикл,фэнтези,драма', 'драма,вестерн,боевик',\n",
       "       'фантастика,триллер,детектив', 'драма,история,детектив',\n",
       "       'короткометражка,биография', 'мультфильм,приключения,фантастика',\n",
       "       'комедия,триллер', 'мультфильм,приключения,детектив',\n",
       "       'драма,триллер', 'ужасы,триллер,криминал',\n",
       "       'документальный,криминал,военный', 'ужасы,фэнтези,драма',\n",
       "       'фэнтези,комедия', 'ужасы,фэнтези,комедия', 'комедия,музыка,драма',\n",
       "       'мультфильм,приключения,военный', 'мюзикл,фэнтези,комедия',\n",
       "       'боевик,фантастика,приключения', 'триллер,ужасы,криминал',\n",
       "       'ужасы,фантастика,драма', 'фантастика,приключения,семейный',\n",
       "       'короткометражка,музыка', 'мелодрама,детектив,комедия',\n",
       "       'документальный,триллер,биография', 'боевик,фантастика,триллер',\n",
       "       'спорт,драма,комедия', 'фэнтези,мелодрама,приключения',\n",
       "       'триллер,детектив,криминал', 'короткометражка,мелодрама',\n",
       "       'мультфильм,семейный,спорт', 'комедия,фэнтези,мелодрама',\n",
       "       'драма,спорт,комедия', 'история,драма,мелодрама',\n",
       "       'драма,боевик,криминал', 'драма,комедия,триллер',\n",
       "       'аниме,мультфильм', 'документальный,ужасы',\n",
       "       'мультфильм,короткометражка', 'драма,история,военный',\n",
       "       'мультфильм,короткометражка,фэнтези', 'комедия,военный,музыка',\n",
       "       'биография,история,драма', 'ужасы,драма,мелодрама',\n",
       "       'драма,комедия,детектив', 'комедия,семейный,фантастика',\n",
       "       'мультфильм,семейный,комедия', 'история,детектив',\n",
       "       'приключения,мелодрама,детектив', 'мюзикл,комедия,мелодрама',\n",
       "       'драма,фантастика,ужасы', 'мультфильм,ужасы,комедия',\n",
       "       'для взрослых,драма,комедия', 'ужасы,комедия,музыка',\n",
       "       'комедия,история,драма', 'семейный,детектив,детский',\n",
       "       'короткометражка,драма', 'документальный,новости,драма',\n",
       "       'триллер,мелодрама', 'ужасы,драма,вестерн',\n",
       "       'мюзикл,фэнтези,семейный', 'вестерн,драма,триллер',\n",
       "       'приключения,вестерн,боевик', 'семейный,комедия,музыка',\n",
       "       'боевик,драма,вестерн', 'ужасы,драма,триллер',\n",
       "       'фантастика,мелодрама', 'комедия,криминал,биография',\n",
       "       'семейный,мультфильм,комедия', 'комедия,драма,криминал',\n",
       "       'фантастика,боевик,военный', 'приключения,биография,драма',\n",
       "       'приключения,триллер,биография', 'криминал,боевик,триллер',\n",
       "       'боевик,вестерн,приключения', 'история,драма',\n",
       "       'фантастика,фэнтези,комедия', 'мультфильм,детский,комедия',\n",
       "       'мелодрама,комедия,триллер', 'документальный,боевик,приключения',\n",
       "       'драма,приключения', 'мелодрама,военный,драма', 'триллер,фэнтези',\n",
       "       'драма,триллер,биография', 'фэнтези,боевик,семейный',\n",
       "       'фантастика,триллер,комедия', 'документальный,фэнтези',\n",
       "       'комедия,мультфильм,фантастика', 'криминал,биография,комедия',\n",
       "       'биография,спорт,драма', 'приключения,военный',\n",
       "       'мультфильм,семейный,драма', 'документальный,фэнтези,драма',\n",
       "       'комедия,боевик,фантастика', 'семейный,приключения,военный',\n",
       "       'триллер,ужасы,детектив', 'короткометражка',\n",
       "       'мелодрама,триллер,история', 'документальный,история',\n",
       "       'мультфильм,приключения,детский', 'драма,комедия,мультфильм',\n",
       "       'военный,детектив', 'семейный,приключения,документальный',\n",
       "       'детский,фэнтези', 'документальный,комедия', 'комедия,биография',\n",
       "       'криминал,комедия', 'спорт,мелодрама,криминал',\n",
       "       'фантастика,комедия,боевик', 'боевик,приключения,детектив',\n",
       "       'детектив,триллер,драма', 'документальный,фантастика',\n",
       "       'мелодрама,комедия,семейный', 'мультфильм,мелодрама,комедия',\n",
       "       'драма,спорт,семейный', 'фантастика,мелодрама,фэнтези',\n",
       "       'мюзикл,комедия,музыка', 'фантастика,триллер,мелодрама',\n",
       "       'приключения,комедия,фэнтези', 'фэнтези,боевик,детектив',\n",
       "       'фэнтези,боевик,мелодрама', 'комедия,военный',\n",
       "       'драма,спорт,боевик', 'мультфильм,боевик,триллер',\n",
       "       'мелодрама,семейный', 'фантастика,боевик,детектив',\n",
       "       'драма,приключения,история', 'документальный,драма,музыка',\n",
       "       'фантастика,триллер,боевик', 'фэнтези,боевик,вестерн',\n",
       "       'драма,комедия,мелодрама', 'ужасы,фэнтези,приключения',\n",
       "       'триллер,фэнтези,драма', 'мультфильм,мюзикл,мелодрама',\n",
       "       'ужасы,триллер,фантастика', 'триллер,мелодрама,комедия',\n",
       "       'ужасы,комедия,семейный', 'комедия,приключения,музыка',\n",
       "       'документальный,комедия,криминал', 'мелодрама,детектив',\n",
       "       'детский,приключения,фантастика', 'короткометражка,боевик,драма',\n",
       "       'боевик,комедия,семейный', 'фантастика,боевик,мелодрама',\n",
       "       'фэнтези,триллер,мелодрама', 'драма,детектив,история',\n",
       "       'боевик,криминал,детектив', 'мультфильм,фэнтези,мелодрама',\n",
       "       'мелодрама,драма,боевик', 'драма,вестерн,приключения',\n",
       "       'драма,приключения,мелодрама', 'фэнтези,боевик,криминал',\n",
       "       'фантастика,комедия,семейный', 'детский,фэнтези,приключения',\n",
       "       'ужасы,боевик', 'фантастика,мелодрама,комедия',\n",
       "       'семейный,спорт,боевик', 'триллер,биография,драма',\n",
       "       'ужасы,драма,комедия', 'мультфильм,фэнтези,триллер', 'мюзикл',\n",
       "       'боевик,спорт,драма', 'комедия,приключения,вестерн',\n",
       "       'документальный,ужасы,боевик', 'фантастика,боевик,семейный',\n",
       "       'военный,история', 'ужасы,боевик,криминал', 'детектив,триллер',\n",
       "       'драма,семейный,комедия', 'драма,детектив,приключения',\n",
       "       'драма,криминал,история', 'приключения,триллер',\n",
       "       'боевик,драма,биография', 'драма,приключения,триллер',\n",
       "       'комедия,фэнтези,приключения', 'фантастика,боевик,ужасы',\n",
       "       'драма,комедия,фантастика', 'детектив,криминал,драма',\n",
       "       'боевик,триллер,фэнтези', 'приключения,детектив,семейный',\n",
       "       'ужасы,комедия,криминал', 'мультфильм,биография,драма',\n",
       "       'история,боевик,фэнтези', 'детектив,криминал,боевик',\n",
       "       'приключения,фэнтези', 'комедия,приключения,спорт',\n",
       "       'драма,биография,мюзикл', 'комедия,семейный,фэнтези',\n",
       "       'детектив,драма,триллер', 'боевик,приключения,семейный',\n",
       "       'биография,спорт,комедия', 'фантастика,приключения,военный',\n",
       "       'документальный,драма,биография', 'детектив,приключения,драма',\n",
       "       'аниме,мультфильм,приключения', 'семейный,приключения',\n",
       "       'ужасы,фэнтези,детектив', 'семейный,документальный',\n",
       "       'драма,приключения,семейный', 'приключения,история,военный',\n",
       "       'фэнтези,мелодрама', 'фэнтези,триллер,детектив',\n",
       "       'документальный,спорт,биография', 'комедия,триллер,драма',\n",
       "       'драма,ужасы', 'биография,музыка,драма', 'фэнтези,ужасы',\n",
       "       'детектив,мелодрама,фэнтези', 'боевик,военный,история',\n",
       "       'биография,драма,криминал', 'триллер,мелодрама,криминал',\n",
       "       'семейный,мелодрама', 'биография,драма', 'военный,история,драма',\n",
       "       'фантастика,детектив,фэнтези', 'детектив,приключения,триллер',\n",
       "       'фантастика,приключения', 'мультфильм,короткометражка,мюзикл',\n",
       "       'мультфильм,детский,семейный', 'документальный,драма,комедия',\n",
       "       'комедия,приключения,криминал', 'документальный,семейный,музыка',\n",
       "       'мелодрама,музыка,драма', 'детектив,фантастика,триллер',\n",
       "       'драма,мелодрама,триллер', 'биография,драма,военный',\n",
       "       'приключения,фантастика,драма', 'детектив,фильм-нуар,комедия',\n",
       "       'документальный,спорт', 'триллер,фантастика,драма',\n",
       "       'биография,документальный', 'ужасы,фантастика,мелодрама',\n",
       "       'детектив,комедия', 'история,биография,военный',\n",
       "       'криминал,мелодрама', 'драма,криминал,вестерн',\n",
       "       'мелодрама,семейный,приключения', 'триллер,ужасы,мелодрама',\n",
       "       'фэнтези,драма,фильм-нуар', 'детектив,мелодрама',\n",
       "       'комедия,драма,биография', 'драма,военный,боевик',\n",
       "       'драма,комедия,ужасы', 'фантастика,драма,криминал',\n",
       "       'документальный,музыка,биография', 'мультфильм,боевик,приключения',\n",
       "       'короткометражка,фантастика', 'мультфильм,мелодрама,драма',\n",
       "       'боевик,военный,драма', 'фэнтези,семейный,приключения',\n",
       "       'детский,мультфильм,приключения', 'семейный,фэнтези,комедия',\n",
       "       'фэнтези,ужасы,триллер', 'ужасы,триллер,приключения',\n",
       "       'драма,боевик,история', 'фэнтези,комедия,детектив',\n",
       "       'история,приключения', 'аниме,мультфильм,короткометражка',\n",
       "       'драма,военный,триллер', 'биография,криминал,триллер',\n",
       "       'фантастика,фэнтези,детектив', 'вестерн,биография,драма',\n",
       "       'биография,музыка,мюзикл', 'драма,история,биография',\n",
       "       'приключения,драма,фантастика', 'комедия,фэнтези,криминал',\n",
       "       'биография,спорт,история', 'драма,криминал,семейный',\n",
       "       'детектив,боевик,история', 'ужасы,комедия,детектив',\n",
       "       'триллер,приключения,драма', 'фэнтези,комедия,криминал',\n",
       "       'триллер,криминал,приключения', 'комедия,детектив,приключения',\n",
       "       'фэнтези,драма,ужасы', 'ужасы,драма,военный', 'реальное ТВ',\n",
       "       'аниме,мультфильм,детектив', 'приключения,фэнтези,семейный',\n",
       "       'драма,биография,комедия', 'триллер,комедия,ужасы',\n",
       "       'музыка,мелодрама,фэнтези', 'мультфильм,история',\n",
       "       'мультфильм,комедия,фантастика', 'биография,криминал,драма',\n",
       "       'комедия,мелодрама,фантастика', 'криминал,боевик,комедия',\n",
       "       'история,криминал', 'детектив,комедия,драма',\n",
       "       'триллер,фантастика,боевик', 'криминал,боевик',\n",
       "       'комедия,драма,военный', 'драма,триллер,криминал',\n",
       "       'мультфильм,мелодрама,приключения', 'фантастика,фэнтези,триллер',\n",
       "       'короткометражка,драма,триллер', 'военный,боевик,история',\n",
       "       'боевик,драма,триллер', 'документальный,военный,драма',\n",
       "       'драма,криминал,фильм-нуар', 'мультфильм,детский,приключения',\n",
       "       'мелодрама,история,драма'], dtype=object)"
      ]
     },
     "execution_count": 29,
     "metadata": {},
     "output_type": "execute_result"
    }
   ],
   "source": [
    "df['genres'].unique()"
   ]
  },
  {
   "cell_type": "code",
   "execution_count": 30,
   "metadata": {
    "scrolled": true
   },
   "outputs": [
    {
     "data": {
      "text/plain": [
       "array(['США', 'СССР', 'Франция', 'СССР, Венгрия',\n",
       "       'Германия-Великобритания', 'Великобритания - Италия',\n",
       "       'Чехословакия', 'США - Франция - Турция', 'Новая Зеландия',\n",
       "       'Канада - Франция - Испания', 'США-Германия',\n",
       "       'США - Великобритания', 'Великобритания', 'США - Германия',\n",
       "       'Франция - Мексика - США', 'Россия, Казахстан, США',\n",
       "       'СССР, Швеция', 'СССР, Франция, Англия, Куба, ГДР', 'Германия',\n",
       "       'Великобритания-США-Германия-КНР',\n",
       "       'СССР, ЧССР, Западный Берлин, ПНР', 'СССР, Италия', 'Гонконг, КНР',\n",
       "       'США - Франция', 'США - Япония - Франция - Великобритания',\n",
       "       'Гонконг - Сингапур - Таиланд - Великобритания', 'США-Канада',\n",
       "       'Франция - Италия - Великобритания - США', 'Франция - США',\n",
       "       'Ирландия-Великобритания-Германия', 'Чехия', 'США-Австралия',\n",
       "       'СССР, Финляндия', 'США-Франция-Великобритания-Австрия',\n",
       "       'США - Бельгия', 'США - Ирландия - Великобритания',\n",
       "       'Великобритания - США',\n",
       "       'Люксембург - Нидерланды - Испания - Великобритания - США - Италия',\n",
       "       'Великобритания - Франция - США', 'Новая Зеландия - США',\n",
       "       'США - Великобритания - Чехия',\n",
       "       'Канада - Франция - Великобритания', 'Ирландия',\n",
       "       'Великобритания - Германия - США',\n",
       "       'США - Франция - Великобритания', 'Япония', 'СССР, Польша',\n",
       "       'Франция - Испания', 'Канада-Франция', 'Германия - Италия - США',\n",
       "       'Аргентина - Бразилия', 'Дания - Швейцария - Бельгия - Франция',\n",
       "       'США - Испания', 'Германия - США',\n",
       "       'Франция - Австрия - Германия - Италия - США', 'Австрия',\n",
       "       'США - Канада - Германия', 'США - Канада',\n",
       "       'СССР - Швейцария - Франция', 'Россия - Казахстан', 'Гонконг',\n",
       "       'Италия', 'США - ОАЭ', 'Россия',\n",
       "       'США - Франция - Испания - Великобритания',\n",
       "       'Великобритания - Франция', 'США-Италия-Испания-Аргентина',\n",
       "       'Франция-Великобритания', 'КНР - Гонконг',\n",
       "       'Франция - Италия - Швейцария', 'США - Новая Зеландия',\n",
       "       'Франция - Бельгия', 'КНР', 'Германия - Великобритания - Австрия',\n",
       "       'Великобритания - Израиль - Франция - Япония - США', 'Швеция',\n",
       "       'Испания', 'Дания', 'Франция - Бельгия - Люксембург',\n",
       "       'США - Индия - ОАЭ',\n",
       "       'Германия-Канада-Великобритания-Швейцария-Франция',\n",
       "       'Мексика - Чили', 'Аргентина', 'Бразилия', 'Чили', 'Австралия',\n",
       "       'Португалия - Франция', 'США - ЮАР', 'Исландия-Ирландия-Германия',\n",
       "       'США-Индонезия', 'Южная Корея', 'Мексика - Испания - Дания - США',\n",
       "       'Великобритания-США', 'Франция - Италия', 'США-Франция',\n",
       "       'США - Венгрия - Великобритания', 'Бельгия-Франция-Италия',\n",
       "       'Чехия - Германия', 'Германия - Франция', 'США-Нидерланды',\n",
       "       'Украина', 'Великобритания - Германия', 'Франция-Бельгия',\n",
       "       'США-Франция-Испания', 'Италия - Франция', 'Канада',\n",
       "       'Швеция-Франция-Дания', 'Германия-Франция-Польша',\n",
       "       'Франция-Великобритания - Германия',\n",
       "       'США - Бразилия - Франция - Австралия - Великобритания - Германия',\n",
       "       'Германия-Австрия', 'Германия-Италия- Шри-Ланка',\n",
       "       'Великобритания - Испания',\n",
       "       'США - Великобритания - Канада - Швеция',\n",
       "       'Босния и Герцеговина - Франция - Великобритания - Германия - Словения - Бельгия - Сербия',\n",
       "       'Великобритания - Франция - Италия - США', 'США-ОАЭ',\n",
       "       'Испания - Франция', 'США-Великобритания', 'США-ЮАР',\n",
       "       'Великобритания-Австралия - США',\n",
       "       'Норвегия - Швеция - Дания - Германия', 'Норвегия', 'Швейцария',\n",
       "       'Греция - Германия - Франция', 'Норвения', 'Южная Корея - США',\n",
       "       'Чили - Франция - США', 'Австрия - Германия - Франция',\n",
       "       'Швеция - Дания', 'Великобритания - Франция - Бельгия - Италия',\n",
       "       'Франция - Германия', 'Грузия - Франция - Люксембург',\n",
       "       'США - Франция - Великобритания - Бразилия ', 'США - КНР',\n",
       "       'Мексика - Франция', 'США - Германия - Гонконг - Сингапур',\n",
       "       'Финляндия - Австрия - Россия', 'Испания - Куба',\n",
       "       'Великобритания - ЮАР', 'Великобритания - Ирландия', 'Израиль',\n",
       "       'Бразилия - Германия - Порртугалия - Франция ',\n",
       "       'Франция - Канада - Бельгия', 'Франция-Испания',\n",
       "       'Испания - Канада - Япония', 'Иран', 'Швеция-Куба',\n",
       "       'США-Великобритания-Ирландия', 'Гонконг - КНР', 'Нидерланды',\n",
       "       'Испания - Канада', 'Япония-Великобритания',\n",
       "       'Великобритания - Норвегия - Дания - Германия',\n",
       "       'Финляндия - Франция - Германия',\n",
       "       'Мексика - Франция - Нидерланды - Германия', 'США - Индия',\n",
       "       'США-Великобритания-Индия', 'США-Канада-Бельгия',\n",
       "       'Республика Узбекистан', 'Италия ', 'Турция',\n",
       "       'Сербия - Словения - Хорватия - Черногория - Македония',\n",
       "       'Киргизия', 'Германия - Нидерланды - Беларусь - Россия - Латвия',\n",
       "       'Индия', 'Нидерланды - Россия - Германия',\n",
       "       'Великобритания - Нидерланды - Франция - Хорватия',\n",
       "       'Канада - Южная Корея',\n",
       "       'Великобритания - Польша - КНР - Индия - Норвегия',\n",
       "       'Япония - Франция - США - Южная Корея - Турция',\n",
       "       'Мексика - Аргентина - Великобритания', 'Израиль - Франция',\n",
       "       'Польша - Португалия - Франция - Великобритания',\n",
       "       'Австралия - США', 'США - Великобритания ',\n",
       "       'Франция - Люксембург - Бельгия', 'Армения',\n",
       "       'Бельгия - Люксембург - Франция - Швейцария',\n",
       "       'США - Великобритания - Канада', 'Норвегия - Швеция',\n",
       "       'Канада - Франция', 'КНР - Гонконг - США',\n",
       "       'США - Сингапур - Малайзия - Индонезия', 'Германия - Россия',\n",
       "       'Япония - Канада', 'Финляндия - Дания - Германия - Ирландия',\n",
       "       'Франция - Люксембург - Германия - Бельгия - Швейцария - Великобритания ',\n",
       "       'Канада - США', 'США-Италия-Испания', 'США-Испания',\n",
       "       'США - Швейцария - Франция', 'Испания - США - Колумбия',\n",
       "       'Канада-ЮАР', 'Франция - Россия',\n",
       "       'Германия - Финляндия - Австралия', 'Дания - Швеция', 'Бельгия',\n",
       "       'Германия - Франция - Австрия', 'Франция-Индия', 'ЮАР',\n",
       "       'Франция-Перу', 'Франция - Канада', 'Республика Беларусь',\n",
       "       'Великобритания - Австрия - Франция - США',\n",
       "       'Австрия-Германия-Франция', 'США-Россия', 'Германия-США',\n",
       "       'США - Южная Корея', 'Канада - КНР',\n",
       "       'Дания - Швеция - Италия - Франция - Германия',\n",
       "       'Франция-Италия-Испания-Венгрия', 'Франция - Германия - Бельгия',\n",
       "       'Франция-Великобритания-Чехия', 'Румыния - Франция - Бельгия',\n",
       "       'Болгария - Франция - Изриль',\n",
       "       'Израиль - Германия - Польша - Бельгия - Франция - Люксембург',\n",
       "       'Россия, Германия, Франция, Бельгия', 'Индонезия',\n",
       "       'Франция - Португалия', 'Великобритания - Пуэрто-Рико',\n",
       "       'СССР, ФРГ, Западный Берлин', 'Россия, Республика Беларусь',\n",
       "       'США, Великобритания', 'Франция - Австрия', 'Бельгия-Нидерланды',\n",
       "       'Великобритания - США - Индия', 'США - Великобритания - Австралия',\n",
       "       'Канада - Франция - США - ОАЭ - Великобритания',\n",
       "       'США - Австралия - Франция',\n",
       "       'Дания-Франция-Бельгия-Германия-Великобритания',\n",
       "       'Испания - Аргентина', 'Исландия - Финляндия',\n",
       "       'Россия-Польша-Голландия-Словакия', 'Дания - Германия - Швеция',\n",
       "       'Южная Корея - США - Канада', 'Таиланд', 'США-Мальта',\n",
       "       'США -Германия',\n",
       "       'Великобритания - Германия - Франция - Кипр - США', 'Мексика',\n",
       "       'США - Великобритания - Ирландия', 'США - Украина',\n",
       "       'США - Финляндия - Испания - Великобритания - Франция',\n",
       "       'Австралия-Великобритания',\n",
       "       'США - Канада - Афганистан - Бельгия - Франция',\n",
       "       'США - Великобритания - Германия - Новая Зеландия - Бельгия - Франция',\n",
       "       'Франция-Канада',\n",
       "       'Ирландия - Финляндия - Бельгия - Великобритания - США - Швейцария',\n",
       "       'Малайзия - США', 'Германия - Италия',\n",
       "       'США - Франция - Бельгия - Италия', 'Франция - Ирландия - Швеция',\n",
       "       'Азербайджан-Россия', 'Великобритания - Италия - Швейцария',\n",
       "       'США - Германия - Великобритания',\n",
       "       'Германия - Бельгия - США -Франция', 'США-Китай', 'Чили - Испания',\n",
       "       'Франция - Швейцария', 'Канада - Испания',\n",
       "       'США - Румыния - Великобритания', 'США - Япония',\n",
       "       'США - Россия - Франция', 'Франция-США', 'Парагвай',\n",
       "       'Германия - Канада', 'США - Канада - Великобритания',\n",
       "       'Финляндия - Канада', 'Уругвай-Мексика-Германия ', 'США - Чили',\n",
       "       'Германия - Аргентина - Нидерланды - Чили',\n",
       "       'США - Канада - Индонезия', 'Армения - Казахстан', 'Финляндия',\n",
       "       'Испания - Италия - Франция',\n",
       "       'Бельгия - Испания - Канада - Нидерланды',\n",
       "       'Великобритания - Франция - Швеция - Бельгия',\n",
       "       'Мексика - Эквадор - Канада - США - Франция - Малайзия - Италия - Аргентина - Германия - Индия  ',\n",
       "       'Франция - Бенльгия', 'Индия - Великобритания',\n",
       "       'Япония - Великобритания - Франция',\n",
       "       'Испания - Уругвай - Аргентина',\n",
       "       'Франция - Италия - Бельгия - Люксембург',\n",
       "       'Франция - Украина - Грузия - Армения',\n",
       "       'Сербия - Германия - Венгрия', 'Франция-Польша', 'Франция ',\n",
       "       'Румыния-США', 'Россия-Азербайджан',\n",
       "       'США - Нидерланды - Бельгия - Венгрия - Греция - Канада',\n",
       "       'Германия - Франция - Люксембург', 'США - Россия',\n",
       "       'Великобритания - США - Франция', 'США - Австралия - Дания',\n",
       "       'Бельгия-Франция', 'США-Мексика',\n",
       "       'Норвегия - Азербайджан - Россия - Колумбия - Великобритания - Венгрия - Румыния - Франция - Грузия',\n",
       "       'СЩА', 'Бразилия - Испания', 'Россия, Франция, Латвия',\n",
       "       'Нидерланды - США - Германия - Канада - Франция - Ирландия - Великобритания',\n",
       "       'Уругвай - Колумбия', 'США - Испания - Болгария',\n",
       "       'Армения - Германия', 'США - Великобритания- Франция - Швеция',\n",
       "       'США - Мексика', 'Австралия-Турция-США', 'Швеция - Германия',\n",
       "       'Польша - Италия - Россия', 'Франция - Бразилия',\n",
       "       'США - Канада - КНР', 'СССР, Венгрия, ЧССР, ГДР',\n",
       "       'Бельгия - Германия - Люксембург', 'СССР  ', 'СССР ', ' СССР ',\n",
       "       'США - Австралия', 'Бразилия - США',\n",
       "       'США - Великобритания - Канада - КНР', 'Франция - Чили',\n",
       "       'Франция - США - Великобритания - Колумбия - Бельгия - Россия',\n",
       "       'Дания - Великобритания - ЮАР', 'СССР   ',\n",
       "       'Россия-США-Канада-Люксембург', 'Россия - Республика Кипр',\n",
       "       'Германия - США - Швеция - Франция',\n",
       "       'Великобритания-Германия-Канада-ЮАР', ' СССР   ', 'СССР     ',\n",
       "       'Ирландия, Канада',\n",
       "       'Япония - Великобритания - Швейцария - Ирландия - Дания - Франция - Польша - Австралия - Канада  ',\n",
       "       'Великобритания, Канада', 'Бельгия - США',\n",
       "       'Великобритания - США - Россия', 'Россия-Украина',\n",
       "       'Германия - США - Великобритания - Израиль', 'Канада - Германия',\n",
       "       'США- Ю.Корея', 'Индия - Мексика',\n",
       "       'Великобритания - Франция - Республика Кипр - Швейцария - США - Сербия',\n",
       "       'Испания - Аргентина - Индия - США',\n",
       "       'Норвегия - Исландия - США - Великобритания ',\n",
       "       'Турция - Германя - Франция', 'Германия - Великобритания',\n",
       "       'Австралия - Германия', 'Мексика - Испания',\n",
       "       'Великобритания - США - Германия - Бельгия',\n",
       "       'США - Чехия - Франция', 'Россия - Италия', 'Франция-Россия',\n",
       "       'Норвегия - Дания - Швеция', 'Франция - Швейцария - Германия',\n",
       "       'Грузия - Украина', 'Россия - Эстония - Финляндия - Беларусь',\n",
       "       'США - Франция - ЮАР', 'Великобритания - США - Швейцария',\n",
       "       'Канада-США', 'Мексика - Нидерланды - Германия - Франция',\n",
       "       'США - Испания - Франция', 'США - Великобритания - КНР',\n",
       "       'США-Франция-Канада',\n",
       "       'Япония, Великобритания, Австрия, Германия, Ю.Корея',\n",
       "       'Великобритания - Ирландия - США', 'Бельгия - Италия - Франция ',\n",
       "       'Швейцария-Германия-ЮАР', 'Великобритания - США - Германия',\n",
       "       'Германия - Исландия', 'Испания - США', 'СССР    ', 'Хорватия',\n",
       "       'Финляндия - Исландия - Швеция',\n",
       "       'Канада - США - Германия - Франция',\n",
       "       'США - Великобритания - Испания', 'Ирландия-Великобритания',\n",
       "       'Аргентина - Испания', 'Австрия - Германия', ' СССР',\n",
       "       'Германия - Швейцария - Франция - Южная Корея - США',\n",
       "       'Украина - Нидерланды', 'Венгрия - Германия - Швеция',\n",
       "       'Германия - Франция -  Польша - Турция - Канада - Италия - Россия ',\n",
       "       'СССР, Афганистан', 'СССР, Монголия', 'Россия-Кипр',\n",
       "       'Россия, Грузия, Испания',\n",
       "       'Великобритания - Нидерланды - Германия - Франция - Бельгия - Австрия ',\n",
       "       'Испания - Великобритания - Франция',\n",
       "       'Дания - Норвегия - Великобритания',\n",
       "       'Бельгия - Франция - Люксембург',\n",
       "       'Италия - Франция - Швейцария - Великобритания',\n",
       "       'Франция - Бельгия - Великобритания - Испания - Германия - США',\n",
       "       'Швейцария - Израиль - Франция - Великобритания',\n",
       "       'Великобритания - США - Канада - Нидерланды - Франция',\n",
       "       'Россия, Италия', 'СССР, Албания',\n",
       "       'Россия, Украина, Республика Беларусь, Литва',\n",
       "       'Финляндия - Великобритания - Германия', 'Россия, Украина, Польша',\n",
       "       'Франция - Италия - Бельгия - КНР',\n",
       "       'Германия - Бельгия - Люксембург - Ирландия', 'КНР - Сингапур',\n",
       "       'Франция - Бельгия - Великобритания - США - Нидерланды - Канада',\n",
       "       'США - Россия - Польша - Германия - Пуэрто Рико',\n",
       "       'Франция - Бельгия - Канада', 'США ', 'Мексика - США',\n",
       "       'США - Гонконг - КНР ', 'Греция - Россия',\n",
       "       'Ирландия - Дания - Бельгия - Люксембург - Франция',\n",
       "       'Эстония - Россия',\n",
       "       'Великобритания - Исландия - Испания - Швейцария - США',\n",
       "       'Австралия - Великобритания - Бельгия - Индия',\n",
       "       'Швеция - Германия - Франция - Норвегия',\n",
       "       'Нидерланды - Бельгия - Германия - Ирландия',\n",
       "       'Нидерланды - Великобритания - Бельгия',\n",
       "       'США - Колумбия - Испания', 'Франция-Испания-Бельгия-Панама',\n",
       "       'США-Великобритания-Чехия-Румыния',\n",
       "       'Аргентина - Уругвай - Россия - Германия - Франция - Нидерланды',\n",
       "       'Швеция - Франция - Норвегия - Дания',\n",
       "       'Италия-Франция-Великобритания', 'Великобритания, Франция',\n",
       "       'Австралия, США', 'Венесуэла',\n",
       "       'Великобритания - США - Австралия - Ирландия - Германия - Куба - Канада',\n",
       "       'Южная Корея - КНР',\n",
       "       'Аргентина - Мексика - Бразилия - Франция - США', 'Швеция - США',\n",
       "       'Франция - Германия - Турция - Катар', 'Франция-Китай',\n",
       "       'Россия, Германия, Великобритания',\n",
       "       'Великобритания - Италия - Испания', 'Италия - Россия',\n",
       "       'Япония - КНР - Южная Корея', 'Россия, Германия',\n",
       "       'Россия-Ирландия', 'Македония - Франция - Великобритания',\n",
       "       'Франция - Бразилия - Италия', 'Россия-США', 'Армения-Россия',\n",
       "       'Россия, Румыния', 'Франция -  Бельгия', 'Грузия-Франция',\n",
       "       'ЮАР - США', 'Великобритания-США-Франция',\n",
       "       'Великобритания - США - Германия - Канада - Австралия',\n",
       "       'США-Ирландия', 'Россия, Республика Кипр',\n",
       "       'Германия - Люксембург - Франция', 'Россия-Франция',\n",
       "       'США - Нидерланды - Финляндия - Великобритания - Италия',\n",
       "       'Республика Кипр', 'Венгрия', 'Франция - США - Норвегия - Дания',\n",
       "       'Германия - Австрия - Ирландия', 'США - Финляндия',\n",
       "       'Италия-Великобритания', 'Россия, Испания',\n",
       "       'США - Великобритания - Болгария', 'Великобритания - Люксембург',\n",
       "       'Индия - США', 'США - Канада - Россия - Франция - Чили - Ирландия',\n",
       "       'Грузия-Россия',\n",
       "       'Дания - Австрия - Ирландия - Финляндия - Норвегия - Швеция - Нидерланды',\n",
       "       'США-КНР', 'Грузия', 'Австралия - Ирландия',\n",
       "       'Великобритания - Канада', 'Италия - Аргентина - Словения ',\n",
       "       'Испания - Франция - Нидерланды - Германия - Бельгия - Великобритания - Канада',\n",
       "       'Франция - Чехия - Бельгия',\n",
       "       'Великобритания - Франция - Германия - США',\n",
       "       'Ирландия - Великобритания - Франция - США - Германия - Нидерланды',\n",
       "       'США - Канада - Япония - КНР', 'Италия-Франция',\n",
       "       'США - Великобритания - Исландия', 'Великобритания-Франция',\n",
       "       'Франция - Германия - Нидерланды', 'Иран ',\n",
       "       'Франция - Германия - Швеция - США - Чехия - Словакия - Великобритания - Нидерланды',\n",
       "       'Франция - Канада - Н.Зеландия - США - Нидерланды - Германия - Швеция - Россия',\n",
       "       'Турция - США',\n",
       "       'Великобритания - США - Канада - Бельгия - Нидерланды - Австрия - Германия',\n",
       "       'Израиль - Франция - Германия - Палестина - США - Австрия - Великобритания',\n",
       "       'Аргентина - Франция - Испания', 'СССР, Россия',\n",
       "       'Великобритания - Франция - Италия - Индия - Дания - КНР - Бангладеш - Камбоджа - Гаити - Уганда',\n",
       "       'Италия - Франция - Швейцария',\n",
       "       'Ирландия - Великобритания - Канада', 'Перу', 'США - Норвегия',\n",
       "       'Испания-Канада', 'Китай-Гонконг', 'США - Германия - КНР',\n",
       "       'Великобритания - Новая Зеландия',\n",
       "       'Франция - Дания - Швеция - КНР',\n",
       "       'США - Великобритания - Германия - Бельгия - Дания',\n",
       "       'США - Франция - Канада - Германия - Австралия - Индия', nan,\n",
       "       'СССР, Румыния, Франция', 'СССР, ГДР', 'Австралия-Ирландия',\n",
       "       'США - Китай', 'Великобритания - Франция - Австрия - Швеция',\n",
       "       'Россия, Таджикистан', 'Нидерланды - Бельгия - Болгария',\n",
       "       'Великобритания - Канада - США', 'Франция - Бельгия - Испания',\n",
       "       'Китай-Гонконг-США', 'Франция - Великобритания', 'США - Вьетнам',\n",
       "       'США - Германия - Франция', 'Германия - Франция - Бельгия',\n",
       "       'США - Италия',\n",
       "       'Германия - Дания - Испания - Швеция - Канада - Эстония - Франция',\n",
       "       'Княжество Андорра - Украина', 'Германия - Люксембург - Бельгия',\n",
       "       'Великобритания - Россия - Украина - США',\n",
       "       'Германия - Бельгия - Люксембург - Норвегия',\n",
       "       'США - Австралия - Новая Зеландия - Великобритания',\n",
       "       'США - Франция - Канада - Великобритания', 'Испания-Колумбия',\n",
       "       'Великобритания - Чехия - Франция', 'Россия, Украина', 'Исландия',\n",
       "       'Великобритания - Франция - Венгрия',\n",
       "       'Россия, Франция, Германия, Бельгия', 'Франция - Македония',\n",
       "       'Нидерланды - Франция - Германия - Бельгия - Швеция - Великобритания',\n",
       "       'Испания - США - Великобритания - Канада', 'Германия - Австрия',\n",
       "       'Республика Казахстан',\n",
       "       'Франция - Испания - Дания - Венгрия - Швейцария', 'Франция-КНР',\n",
       "       'США - Пуэрто-Рико - Франция ', 'Мексика - Тайвань - США',\n",
       "       'Великобритания - Испания - Непал - Индия - Венгрия - Гонконг - Германия - Дания - Бахрейн',\n",
       "       'Великобритания - Аргентина - США - Франция - Россия - Испания',\n",
       "       'КНР - США', 'Италия - США', 'Финляндия - Швеция - Германия',\n",
       "       'Канада- Испания', 'Франция - Бельгия - Чехия',\n",
       "       'Франция-Бельгия-Канада', 'Франция - Германия - США',\n",
       "       'США - Дания', 'Индия - КНР', 'Чехия-Великобритания-США',\n",
       "       'США-ФРГ-Россия', 'Ирландия-Нидерланды-Франция-США-Великобритания',\n",
       "       'Россия, Грузия, Хорватия, Испания',\n",
       "       'Финляндия - Швеция - Норвегия', 'Сербия - Великобритания - США',\n",
       "       'США - Великобритания - Франция - Гонконг', 'Швейцария - Франция',\n",
       "       'Швейцария - Великобритания', 'ОАЭ - США',\n",
       "       'США - Франция - Германия - Канада - Австралия ',\n",
       "       'Германия - Австралия', 'Иран, Франция',\n",
       "       'США - Великобритания - Новая Зеландия', 'США-Колумбия',\n",
       "       'США-Франция-Ирландия', 'Великобритания - Франция - Бельгия',\n",
       "       'США - Великобритания - Япония', 'США - Франция - Германия',\n",
       "       'Польша - Ирландия', 'Ирландия - Великобритания - Франция - США',\n",
       "       'США - Бельгия - Великобритания', 'СССР, ВНР',\n",
       "       'Испания - Франция - США - Великобритания - Бельгия',\n",
       "       'Франция - Дания - США', 'США - Гонконг', 'Бразилия - К;анада',\n",
       "       'Франция-Германия', 'США - Колумбия',\n",
       "       'США - Ирландия - Великобритания - Франция',\n",
       "       'Великобритания - США - Канада', 'Польша - Франция',\n",
       "       'Канада - США - Нидерланды - Великобритания - Аргентина',\n",
       "       'Великобритания - Дания', 'Франция - Бельгия - Япония',\n",
       "       'Россия,  Испания', 'Франция -Бельгия',\n",
       "       'США - Канада - Германия - Франция', 'США-Канада-Франция',\n",
       "       'Россия - Германия', 'Россия-Италия', 'Китай - Гонконг',\n",
       "       'Германия-Австрия-Франция-Италия', 'США-Япония',\n",
       "       'США - Германия - Канада', 'Испания-Мексика',\n",
       "       'США - Япония - Канада - Великобритания - Германия - Франция',\n",
       "       'США -Великобритания - Австралия', 'Россия-Украина-Германия',\n",
       "       'Израиль - Франция - Великобритания - Германия', 'Корея',\n",
       "       'Россия - Болгария', 'США-Индия',\n",
       "       'Германия-Канада-Франция-Бельгия', 'Германия-Кения',\n",
       "       'Франция - Монако', 'Франция-Испания-Швейцария',\n",
       "       'Австрия-Франция-Германия', 'Румыния',\n",
       "       'США-Великобритания-Франция', 'Канада-Великобритания',\n",
       "       'Канада-Бразилия-Япония', 'Германия - Дания - Норвегия',\n",
       "       'Дания - Германия', 'СССР - Италия',\n",
       "       'СССР - ГДР - Польша - Италия',\n",
       "       'США - Испания - Франция - Великобритания', 'Китай',\n",
       "       'Мексика-Аргентина',\n",
       "       'Германия - Великобритания - Италия - Испания',\n",
       "       'Франция-Германия-Великобритания', 'Россия - Германия - Швейцария',\n",
       "       'Франция-Австралия', 'Голландия', 'Швейцария-Франция',\n",
       "       'Россия-Белоруссия', 'Франция - Испания - Тайвань',\n",
       "       'США-Южная Корея-Новая Зеландия', 'Великобритания-Венгрия',\n",
       "       'Россия-Германия', 'Великобритания-Франция-Германия',\n",
       "       'Франция-Германия-Италия', 'Швеция-Финляндия-Франция-Норвегия',\n",
       "       'Франция-Италия', 'Германия-Израиль',\n",
       "       'Швеция - Германия - Дания - Норвегия', 'США-Бельгия',\n",
       "       'Франция-Гонконг-Ирландия', 'Эстония', 'Литва-Россия-Украина',\n",
       "       'Германия - Италия - Франция',\n",
       "       'Великобритания - Австрия - Германия', 'Бельгия - Франция',\n",
       "       'Россия-Казахстан', 'Испания - Мальта',\n",
       "       'Франция-Россия-Румыния-Италия-Бельгия', 'Россия - Польша',\n",
       "       'Испания - Мексика', 'США-Аргентина', 'Великобритания ',\n",
       "       'Израиль-США-Франция', 'США - Новая Зеландия - Япония',\n",
       "       'Франция - Чехия - Великобритания', 'Россия-Польша',\n",
       "       'Германия-Франция-Великобритания', 'США-Германия-Канада',\n",
       "       'США-Гонконг-Китай', 'США - Великобритания - Германия',\n",
       "       'США-Канада-Австралия', 'Япония-США-Франция',\n",
       "       'Франция-Испания-Германия', 'США - Хорватия - Босния-Герцеговина',\n",
       "       'Великобритания - Чехия - Франция - Италия',\n",
       "       'США - Германия - Нидерланды', 'Германия - Франция - Канада',\n",
       "       'Франция-Грузия-Германия-Россия-Украина-Бельгия',\n",
       "       'Великобритания - Франция - Италия', 'Россия - США',\n",
       "       'Франция - Италия - Иран', 'Россия - Азербайджан', 'Греция',\n",
       "       'Дания - США', 'США-Великобритания-Новая Зеландия',\n",
       "       'США-Германия-Австралия', 'США-Канада-Италия',\n",
       "       'США - Япония - Германия', 'Австралия-США',\n",
       "       'Франция - Великобритания - Багамские острова - США',\n",
       "       'Швейцария - Люксембург', 'Швейцария - Австрия',\n",
       "       'Германия - Швейцария', 'Дания-Швеция-Франция-Германия', 'Польша',\n",
       "       'Швейцария-Австрия', 'Бразилия - Канада - США',\n",
       "       'Нидерланды - Россия', 'Португалия', 'Франция-Аргентина',\n",
       "       'Швеция-Франция', 'Франция-Украина', 'Германия-Украина-Нидерланды',\n",
       "       'Италия-Швейцария', 'США-Германия-Великобритания',\n",
       "       'Латвия - Россия', 'Германия-Франция-Великобритания-США',\n",
       "       'Канада - Италия', 'США - Объединенные Арабские Эмираты',\n",
       "       'США-Венгрия', 'Малайзия', 'Россия - Германия - Украина',\n",
       "       'США - Австралия - Мексика', 'Литва - Венгрия', 'Германия - Китай',\n",
       "       'Казахстан', 'Республика Корея',\n",
       "       'США - Германия - Франция - Великобритания - Канада ',\n",
       "       'Бельгия - Германия - Люксембург - Франция', 'Франция - Греция',\n",
       "       'Италия - Канада', 'США - Великобритания - Франция',\n",
       "       'США-Италия-Греция', 'Германия - США - Великобритания - Ирландия',\n",
       "       'Великобритания - Франция - Германия',\n",
       "       'Германия - Нидерланды - ЮАР',\n",
       "       'США-Япония-Германия-Великобритания-Нидерланды',\n",
       "       'США-Япония-Германия-Великобритания',\n",
       "       'Германия - Франция - Польша',\n",
       "       'Таиланд-Великобритания-Франция-Германия-Испания-Нидерланды',\n",
       "       'Германия-Италия-Швейцария',\n",
       "       'Дания - Швеция - Великобритания - Франция - Германия - Нидерланды - Норвегия - Финляндия',\n",
       "       'Франция - Великобритания - Нидерланды - Люксембург',\n",
       "       'Нидерланды-Великобритания-Франция-Италия-Япония',\n",
       "       'Финляндия-Дания-Германия-Ирландия', 'Испания-Аргентина',\n",
       "       'Великобритания - Нидерланды - Франция - США', 'Канада - Мексика',\n",
       "       'США, Франция', 'Канада-Южная Корея-США',\n",
       "       'Великобритания - Франция - Бельгия - США', 'КНР - Канада - США',\n",
       "       'Италия - Франция - Германия',\n",
       "       'Швеция - Германия - Франция - Дания', 'Франция - США - Бельгия',\n",
       "       'Украина - Германия - Латвия - Эстония', 'Австрия - Люксембург',\n",
       "       'Великобритания - КНР', 'Монголия', 'Франция - Дания',\n",
       "       'Швеция - Дания - Финляндия',\n",
       "       'Сингапур - Великобритания - Индонезия - Канада - США',\n",
       "       'США - Германия - Япония', 'Таиланд - США', 'Франция - Нидерланды',\n",
       "       'Великобритания - Румыния', 'США - Мальта',\n",
       "       'Великобритания - Германия - Нидерланды - Дания',\n",
       "       'Франция - Германия - Литва - Нидерланды - Россия',\n",
       "       'США - ЮАР - Гонконг', 'Австралия - Колумбия',\n",
       "       'Великобритания - Польша', 'США - Великобритания - Швеция',\n",
       "       'Франция - Швеция - Дания - Норвегия', 'Болгария - США',\n",
       "       'СССР, ФРГ', 'Бельгия - Нидерланды - Франция',\n",
       "       'Финляндия - Германия', 'Болгария',\n",
       "       'Грузия - Россия - Украина - Хорватия - Германия',\n",
       "       'Франция - Люксембург', 'Франция - Германия - Австрия',\n",
       "       'Норвегия - США', 'Германия-Швеция', 'Франция - Германия - Италия',\n",
       "       'Франция-Германия-Австрия', 'КНР-США',\n",
       "       'Великобритания - Ирландия - США ',\n",
       "       'Дания - Латвия - Россия - США', 'Финляндия - Польша',\n",
       "       'Германия - Бельгия', 'Германия - США - Франция - Испания',\n",
       "       'Бельгия-Германия-Канада-Франция-США-Великобритания',\n",
       "       'Нидерланды - Бельгия - Люксембург', 'Канада-Германия',\n",
       "       'Люксембург - Бельгия - Франция', 'США-Великобритания-Австралия',\n",
       "       'Великобритания, Новая Зеландия', 'Бельгия, Великобритания, США',\n",
       "       'Великобритания, Австралия', 'Исландия, Бельгия',\n",
       "       'Испания - Швейцария - Великобритания - Германия - Новая Зеландия - Нидерланды - Канада',\n",
       "       'Франция, Бельгия', 'Великобритания, США', 'Киргизия-Россия',\n",
       "       'Германия, США', 'Великобритания, США, Испания',\n",
       "       'Италия - Швейцария - Германия', 'Россия, Армения',\n",
       "       'Франция, Германия', 'Китай, Канада, США', 'Германия, Австралия',\n",
       "       'КНР, США', 'США, Великобритания, Люксембург',\n",
       "       'Испания, Ирландия, Бельгия, Франция',\n",
       "       'Великобритания - Гонконг - Венгрия - США - Ирландия',\n",
       "       'США - Пуэрто Рико', 'Аргентина - Испания - Уругвай',\n",
       "       'Израиль - Германия - Франция - Швейцария',\n",
       "       'Великобритания - Мексика - США', 'Испания - Болгария - США',\n",
       "       'Россия-Словакия-Чехия',\n",
       "       'Швейцария - КНР - США - Россия - Республика Корея - Великобритания',\n",
       "       'Россия, Нидерланды, Финляндия',\n",
       "       'Испания - Бельгия - Франция - Португалия - Великобритания',\n",
       "       'Бразилия - Португалия - Франция', 'Швеция - Норвегия',\n",
       "       'Франция - Польша - Бельгия', 'CША', 'Китай, США',\n",
       "       'Италия, Франция, Германия', 'Германия - Австрия - Франция',\n",
       "       'Чехия - Словакия - Хорватия', 'Россия, Польша, Финляндия',\n",
       "       'Россия, Латвия, Чешская Республика',\n",
       "       'Франция - Великобритания - Камбоджа - США - КНР',\n",
       "       'Чехия - Испания - США', 'Германия - Люксембург - Дания',\n",
       "       'Великобритания - Испания - Германия', 'Дания - Исландия',\n",
       "       'Германия, Франция, Великобритания',\n",
       "       'Великобритания - Испания - Италия - Латвия - Франция - Эстония',\n",
       "       'Дания, Швеция, Великобритания, Франция, Германия, Норвегия, Финляндия, Нидерланды, Италия',\n",
       "       'Польша - Франция - Великобритания',\n",
       "       'Дания, Норвегия, Венгрия, Чехия',\n",
       "       'Дания - Франция - Германия - Швеция',\n",
       "       'Великобритания, Швеция, США',\n",
       "       'Канада, Франция, Италия, Швейцария, США', 'США, Индия',\n",
       "       'США - Великобритания - Германия - - Швеция - Канада',\n",
       "       'Италия, Франция', 'Республика Беларусь, Германия, США, Россия',\n",
       "       'Италия-Швейцария-Франция-Германия ',\n",
       "       'Россия - Франция - Великобритания - Латвия', 'Россия-Беларусь',\n",
       "       'Франция - Испания - Румыния - США - Бельгия', 'Италия-США',\n",
       "       'Россия, Австрия', 'Ирландия - Великобритания - США',\n",
       "       'Швейцария, Великобритания, Франция, США, Ирландия',\n",
       "       'Мексика, Франция, Германия, Дания, Швеция', 'Нидерланды, Бельгия',\n",
       "       'Швеция, Норвегия, Финляндия, Франция', 'Испания, Франция, Италия',\n",
       "       'Испания-Франция-Греция-Индия-США-Россия-Великобритания',\n",
       "       'Великобритания - Япония - США',\n",
       "       'Дания, Канада, Норвегия, Австралия, США', 'Аргентина, Испания',\n",
       "       'Россия, Германия, Казахстан, Польша, Китай',\n",
       "       'Португалия, Франция, Польша, США', 'США - Канада - Аргентина',\n",
       "       'Ливан-США', 'Япония - США', 'США, Гонконг ',\n",
       "       'Франция - Россия - Швейцария - Румыния - Венгрия',\n",
       "       'Аргентина-Испания', 'Россия, Сербия', 'США - Болгария - Мексика',\n",
       "       'США - Великобритания - Швейцария - Франция',\n",
       "       'Таиланд - КНР - США',\n",
       "       'Великобритания, Нидерланды, Польша, Швейцария, Франция',\n",
       "       'Ирландия - США',\n",
       "       'Германия - Франция - Великобритания - Польша - США',\n",
       "       'Великобритания-Франция-Италия', 'США - Австралия - Индия',\n",
       "       'Франция - КНР', 'Великобритания - Израиль',\n",
       "       'Великобритания - Норвегия - Кения - Хорватия',\n",
       "       'США - Бразилия - Великобритания - Канада', 'Германия, Бельгия',\n",
       "       'Австралия, Канада', 'США, Великобритания, Франция',\n",
       "       'Кения, Германия', 'Нидерланды, Бельгия, Люксембург', 'Колумбия',\n",
       "       'Латвия - Франция', 'Ирландия, Великобритания',\n",
       "       'Франция - Израиль - Германия', 'Швеция, Франция, Великобритания',\n",
       "       'Бельгия - Люксембург', 'Германия - Бельгия - Великобритания',\n",
       "       'Испания, Франция, Великобритания, Дания, Бельгия, Германия',\n",
       "       'Румыния, ЮАР, Иран, Франция, Канада, Великобритания',\n",
       "       'Германия, Франция', 'США, Япония',\n",
       "       'США, Великобритания, Ирландия, Люксембург', 'Республика Армения',\n",
       "       'США, Франция, Япония', 'Япония, США', 'Канада, США',\n",
       "       'Республика Кипр - Россия',\n",
       "       'Дания - Франция - Италия - Бельгия - Нидерланды',\n",
       "       'Россия - Грузия', 'Италия, Германия', 'Норвегия, Швеция, Дания',\n",
       "       'Республика Кипр, Россия', 'КНР, Индия, Гонконг, США',\n",
       "       'Израиль, Украина', 'США, Россия', 'США - КНР - Индия - Ю.Корея',\n",
       "       'США - Швеция', 'Франция, Канада', 'Россия-Китай',\n",
       "       'Канада, Великобритания', 'США, Германия',\n",
       "       'Канада, США, Каймановы острова',\n",
       "       'Бразилия, Уругвай, Дания, Норвегия, Чили, Швеция',\n",
       "       'Пуэрто-Рико, Великобритания, США',\n",
       "       'Уругвай - Аргентина - Испания',\n",
       "       'США - Великобритания - Италия - Израиль - Сербия - Индия',\n",
       "       'США - Канада - Франция - Индия', 'Великобритания - Россия - КНР',\n",
       "       'Франция, Новая Зеландия', 'Франция, Люксембург, Бельгия',\n",
       "       'Канада, США, Норвегия', 'Италия, Испания',\n",
       "       'Испания - Германия - Нидерланды', 'Бразилия - США - КНР ',\n",
       "       'Великобритания, Германия, Дания, США', '2019',\n",
       "       'Италия - Фрация - Бразилия - Германия',\n",
       "       'Норвегия - Швеция - Россия', 'Великобритания, Япония, США',\n",
       "       'Сша, Канада', 'Бельгия, Канада',\n",
       "       'Великобритания - Австралия - США', 'США, Канада', 'КНР - США ',\n",
       "       'Франция - Финляндия', 'Колумбия - США',\n",
       "       'Великобритания, Франция, Бельгия', 'Норвегия - Нидерланды',\n",
       "       'Великобритания, Канада, США', 'Япония, Великобритания',\n",
       "       'Италия - Бельгия - Франция', 'Россия, Бельгия, Финляндия',\n",
       "       'США, Украина', 'Франция, Норвегия',\n",
       "       'Великобритания, Южная Корея, Канада, США, Индия, Китай, Япония',\n",
       "       'Канада - Норвегия', 'Республика Кипр-Россия', 'Германия, Россия',\n",
       "       'Польша - Франция - Испания - Бразилия - Швеция',\n",
       "       'Австрия, Великобритания, Германия', 'Франция - Сенегал - Бельгия',\n",
       "       'Франция, Бельгия, Люксембург', 'Финляндия, Латвия', 'Пакистан',\n",
       "       'Германия, Франция, США', 'Германия - Великобритания - США',\n",
       "       'КНР - Франция', 'Дания, Норвегия, Швеция, Исландия',\n",
       "       'Республика Кипр, США, Россия', 'Новая Зеландия - КНР',\n",
       "       'Дания - Канада - Швеция - Франция - Германия - Великобритания - США'],\n",
       "      dtype=object)"
      ]
     },
     "execution_count": 30,
     "metadata": {},
     "output_type": "execute_result"
    }
   ],
   "source": [
    "df['production_country'].unique()"
   ]
  },
  {
   "cell_type": "markdown",
   "metadata": {},
   "source": [
    "### Вывод\n",
    "\n",
    "Мы убрали ведущие и хвостовые пробелы из названий типов фильмов, убрав такие образом дублирующие категории.\n",
    "\n",
    "Во многих категориальных столбцах присутствуют значения комбинируещие различные признаки в одной ячейке. Провести анализ с участием этих данных будет невозможно. Надо будет разделить строки на составляющие и добавить столбцы с главным значением."
   ]
  },
  {
   "cell_type": "markdown",
   "metadata": {
    "id": "XFSN5lrEgFyR"
   },
   "source": [
    "## 2.5. Проверка количественных значений <a id=\"step25\"></a>\n",
    "\n",
    "Посмотрим на количественные значения."
   ]
  },
  {
   "cell_type": "code",
   "execution_count": 31,
   "metadata": {
    "id": "YbzClBxagFyS"
   },
   "outputs": [
    {
     "data": {
      "text/html": [
       "<div>\n",
       "<style scoped>\n",
       "    .dataframe tbody tr th:only-of-type {\n",
       "        vertical-align: middle;\n",
       "    }\n",
       "\n",
       "    .dataframe tbody tr th {\n",
       "        vertical-align: top;\n",
       "    }\n",
       "\n",
       "    .dataframe thead th {\n",
       "        text-align: right;\n",
       "    }\n",
       "</style>\n",
       "<table border=\"1\" class=\"dataframe\">\n",
       "  <thead>\n",
       "    <tr style=\"text-align: right;\">\n",
       "      <th></th>\n",
       "      <th>count</th>\n",
       "      <th>mean</th>\n",
       "      <th>std</th>\n",
       "      <th>min</th>\n",
       "      <th>25%</th>\n",
       "      <th>50%</th>\n",
       "      <th>75%</th>\n",
       "      <th>max</th>\n",
       "    </tr>\n",
       "  </thead>\n",
       "  <tbody>\n",
       "    <tr>\n",
       "      <td>pu_number</td>\n",
       "      <td>7486.0</td>\n",
       "      <td>1.351934e+08</td>\n",
       "      <td>3.835138e+07</td>\n",
       "      <td>1811096.0</td>\n",
       "      <td>112025043.0</td>\n",
       "      <td>121015464.5</td>\n",
       "      <td>1.240033e+08</td>\n",
       "      <td>2.310011e+08</td>\n",
       "    </tr>\n",
       "    <tr>\n",
       "      <td>refundable_support</td>\n",
       "      <td>332.0</td>\n",
       "      <td>1.186446e+07</td>\n",
       "      <td>2.491656e+07</td>\n",
       "      <td>0.0</td>\n",
       "      <td>0.0</td>\n",
       "      <td>0.0</td>\n",
       "      <td>1.500000e+07</td>\n",
       "      <td>1.800000e+08</td>\n",
       "    </tr>\n",
       "    <tr>\n",
       "      <td>nonrefundable_support</td>\n",
       "      <td>332.0</td>\n",
       "      <td>4.898099e+07</td>\n",
       "      <td>5.998012e+07</td>\n",
       "      <td>0.0</td>\n",
       "      <td>25000000.0</td>\n",
       "      <td>30000000.0</td>\n",
       "      <td>4.037500e+07</td>\n",
       "      <td>4.000000e+08</td>\n",
       "    </tr>\n",
       "    <tr>\n",
       "      <td>budget</td>\n",
       "      <td>332.0</td>\n",
       "      <td>1.272297e+08</td>\n",
       "      <td>1.885883e+08</td>\n",
       "      <td>0.0</td>\n",
       "      <td>42000000.0</td>\n",
       "      <td>68649916.0</td>\n",
       "      <td>1.419853e+08</td>\n",
       "      <td>2.305074e+09</td>\n",
       "    </tr>\n",
       "    <tr>\n",
       "      <td>ratings</td>\n",
       "      <td>6519.0</td>\n",
       "      <td>6.488173e+00</td>\n",
       "      <td>1.114638e+00</td>\n",
       "      <td>1.0</td>\n",
       "      <td>5.9</td>\n",
       "      <td>6.6</td>\n",
       "      <td>7.200000e+00</td>\n",
       "      <td>9.900000e+00</td>\n",
       "    </tr>\n",
       "    <tr>\n",
       "      <td>box_office</td>\n",
       "      <td>3159.0</td>\n",
       "      <td>7.645449e+07</td>\n",
       "      <td>2.403189e+08</td>\n",
       "      <td>0.0</td>\n",
       "      <td>85671.5</td>\n",
       "      <td>2325871.1</td>\n",
       "      <td>2.397622e+07</td>\n",
       "      <td>3.073569e+09</td>\n",
       "    </tr>\n",
       "  </tbody>\n",
       "</table>\n",
       "</div>"
      ],
      "text/plain": [
       "                        count          mean           std        min  \\\n",
       "pu_number              7486.0  1.351934e+08  3.835138e+07  1811096.0   \n",
       "refundable_support      332.0  1.186446e+07  2.491656e+07        0.0   \n",
       "nonrefundable_support   332.0  4.898099e+07  5.998012e+07        0.0   \n",
       "budget                  332.0  1.272297e+08  1.885883e+08        0.0   \n",
       "ratings                6519.0  6.488173e+00  1.114638e+00        1.0   \n",
       "box_office             3159.0  7.645449e+07  2.403189e+08        0.0   \n",
       "\n",
       "                               25%          50%           75%           max  \n",
       "pu_number              112025043.0  121015464.5  1.240033e+08  2.310011e+08  \n",
       "refundable_support             0.0          0.0  1.500000e+07  1.800000e+08  \n",
       "nonrefundable_support   25000000.0   30000000.0  4.037500e+07  4.000000e+08  \n",
       "budget                  42000000.0   68649916.0  1.419853e+08  2.305074e+09  \n",
       "ratings                        5.9          6.6  7.200000e+00  9.900000e+00  \n",
       "box_office                 85671.5    2325871.1  2.397622e+07  3.073569e+09  "
      ]
     },
     "execution_count": 31,
     "metadata": {},
     "output_type": "execute_result"
    }
   ],
   "source": [
    "df.describe().transpose()"
   ]
  },
  {
   "cell_type": "markdown",
   "metadata": {},
   "source": [
    "Для удобства работы можно разделить значения столбцов с суммами в рублях на 1000000, выразив суммы в млн. рублей."
   ]
  },
  {
   "cell_type": "code",
   "execution_count": 32,
   "metadata": {},
   "outputs": [],
   "source": [
    "df['refundable_support'] = df['refundable_support'].transform(lambda x: x/1000000)\n",
    "df['nonrefundable_support'] = df['nonrefundable_support'].transform(lambda x: x/1000000)\n",
    "df['budget'] = df['budget'].transform(lambda x: x/1000000)\n",
    "df['box_office'] = df['box_office'].transform(lambda x: x/1000000)"
   ]
  },
  {
   "cell_type": "code",
   "execution_count": 33,
   "metadata": {},
   "outputs": [
    {
     "data": {
      "text/html": [
       "<div>\n",
       "<style scoped>\n",
       "    .dataframe tbody tr th:only-of-type {\n",
       "        vertical-align: middle;\n",
       "    }\n",
       "\n",
       "    .dataframe tbody tr th {\n",
       "        vertical-align: top;\n",
       "    }\n",
       "\n",
       "    .dataframe thead th {\n",
       "        text-align: right;\n",
       "    }\n",
       "</style>\n",
       "<table border=\"1\" class=\"dataframe\">\n",
       "  <thead>\n",
       "    <tr style=\"text-align: right;\">\n",
       "      <th></th>\n",
       "      <th>count</th>\n",
       "      <th>mean</th>\n",
       "      <th>std</th>\n",
       "      <th>min</th>\n",
       "      <th>25%</th>\n",
       "      <th>50%</th>\n",
       "      <th>75%</th>\n",
       "      <th>max</th>\n",
       "    </tr>\n",
       "  </thead>\n",
       "  <tbody>\n",
       "    <tr>\n",
       "      <td>pu_number</td>\n",
       "      <td>7486.0</td>\n",
       "      <td>1.351934e+08</td>\n",
       "      <td>3.835138e+07</td>\n",
       "      <td>1811096.0</td>\n",
       "      <td>1.120250e+08</td>\n",
       "      <td>1.210155e+08</td>\n",
       "      <td>1.240033e+08</td>\n",
       "      <td>2.310011e+08</td>\n",
       "    </tr>\n",
       "    <tr>\n",
       "      <td>refundable_support</td>\n",
       "      <td>332.0</td>\n",
       "      <td>1.186446e+01</td>\n",
       "      <td>2.491656e+01</td>\n",
       "      <td>0.0</td>\n",
       "      <td>0.000000e+00</td>\n",
       "      <td>0.000000e+00</td>\n",
       "      <td>1.500000e+01</td>\n",
       "      <td>1.800000e+02</td>\n",
       "    </tr>\n",
       "    <tr>\n",
       "      <td>nonrefundable_support</td>\n",
       "      <td>332.0</td>\n",
       "      <td>4.898099e+01</td>\n",
       "      <td>5.998012e+01</td>\n",
       "      <td>0.0</td>\n",
       "      <td>2.500000e+01</td>\n",
       "      <td>3.000000e+01</td>\n",
       "      <td>4.037500e+01</td>\n",
       "      <td>4.000000e+02</td>\n",
       "    </tr>\n",
       "    <tr>\n",
       "      <td>budget</td>\n",
       "      <td>332.0</td>\n",
       "      <td>1.272297e+02</td>\n",
       "      <td>1.885883e+02</td>\n",
       "      <td>0.0</td>\n",
       "      <td>4.200000e+01</td>\n",
       "      <td>6.864992e+01</td>\n",
       "      <td>1.419853e+02</td>\n",
       "      <td>2.305074e+03</td>\n",
       "    </tr>\n",
       "    <tr>\n",
       "      <td>ratings</td>\n",
       "      <td>6519.0</td>\n",
       "      <td>6.488173e+00</td>\n",
       "      <td>1.114638e+00</td>\n",
       "      <td>1.0</td>\n",
       "      <td>5.900000e+00</td>\n",
       "      <td>6.600000e+00</td>\n",
       "      <td>7.200000e+00</td>\n",
       "      <td>9.900000e+00</td>\n",
       "    </tr>\n",
       "    <tr>\n",
       "      <td>box_office</td>\n",
       "      <td>3159.0</td>\n",
       "      <td>7.645449e+01</td>\n",
       "      <td>2.403189e+02</td>\n",
       "      <td>0.0</td>\n",
       "      <td>8.567150e-02</td>\n",
       "      <td>2.325871e+00</td>\n",
       "      <td>2.397622e+01</td>\n",
       "      <td>3.073569e+03</td>\n",
       "    </tr>\n",
       "  </tbody>\n",
       "</table>\n",
       "</div>"
      ],
      "text/plain": [
       "                        count          mean           std        min  \\\n",
       "pu_number              7486.0  1.351934e+08  3.835138e+07  1811096.0   \n",
       "refundable_support      332.0  1.186446e+01  2.491656e+01        0.0   \n",
       "nonrefundable_support   332.0  4.898099e+01  5.998012e+01        0.0   \n",
       "budget                  332.0  1.272297e+02  1.885883e+02        0.0   \n",
       "ratings                6519.0  6.488173e+00  1.114638e+00        1.0   \n",
       "box_office             3159.0  7.645449e+01  2.403189e+02        0.0   \n",
       "\n",
       "                                25%           50%           75%           max  \n",
       "pu_number              1.120250e+08  1.210155e+08  1.240033e+08  2.310011e+08  \n",
       "refundable_support     0.000000e+00  0.000000e+00  1.500000e+01  1.800000e+02  \n",
       "nonrefundable_support  2.500000e+01  3.000000e+01  4.037500e+01  4.000000e+02  \n",
       "budget                 4.200000e+01  6.864992e+01  1.419853e+02  2.305074e+03  \n",
       "ratings                5.900000e+00  6.600000e+00  7.200000e+00  9.900000e+00  \n",
       "box_office             8.567150e-02  2.325871e+00  2.397622e+01  3.073569e+03  "
      ]
     },
     "execution_count": 33,
     "metadata": {},
     "output_type": "execute_result"
    }
   ],
   "source": [
    "df.describe().transpose()"
   ]
  },
  {
   "cell_type": "markdown",
   "metadata": {},
   "source": [
    "В датафрейме есть строки с нулевым бюджетом, но с государственной поддержкой. Такие строки помешают проводить анализ фильмов с поддержкой (например, при процентной оценке количества поддержки от бюджета). Необходимо или заполнить или отбросить данные строки.\n",
    "\n",
    "Заполнять данные значения как сумму поддержек некорректно - по правилам осуществления займов общий процент поддержки не может составлять 100% от бюджета фильма.\n",
    "\n",
    "Выведем полный список фильмов без указания бюджета."
   ]
  },
  {
   "cell_type": "code",
   "execution_count": 34,
   "metadata": {},
   "outputs": [
    {
     "data": {
      "text/html": [
       "<div>\n",
       "<style scoped>\n",
       "    .dataframe tbody tr th:only-of-type {\n",
       "        vertical-align: middle;\n",
       "    }\n",
       "\n",
       "    .dataframe tbody tr th {\n",
       "        vertical-align: top;\n",
       "    }\n",
       "\n",
       "    .dataframe thead th {\n",
       "        text-align: right;\n",
       "    }\n",
       "</style>\n",
       "<table border=\"1\" class=\"dataframe\">\n",
       "  <thead>\n",
       "    <tr style=\"text-align: right;\">\n",
       "      <th></th>\n",
       "      <th>title</th>\n",
       "      <th>pu_number</th>\n",
       "      <th>show_start_date</th>\n",
       "      <th>type</th>\n",
       "      <th>film_studio</th>\n",
       "      <th>production_country</th>\n",
       "      <th>director</th>\n",
       "      <th>producer</th>\n",
       "      <th>age_restriction</th>\n",
       "      <th>refundable_support</th>\n",
       "      <th>nonrefundable_support</th>\n",
       "      <th>budget</th>\n",
       "      <th>financing_source</th>\n",
       "      <th>ratings</th>\n",
       "      <th>genres</th>\n",
       "      <th>box_office</th>\n",
       "    </tr>\n",
       "  </thead>\n",
       "  <tbody>\n",
       "    <tr>\n",
       "      <td>2053</td>\n",
       "      <td>14+</td>\n",
       "      <td>111023614</td>\n",
       "      <td>2014-12-19 12:00:00+00:00</td>\n",
       "      <td>Художественный</td>\n",
       "      <td>ООО Киностудия  \"Сентябрь\"</td>\n",
       "      <td>Россия</td>\n",
       "      <td>А.Зайцев</td>\n",
       "      <td>О.Гранина, А.Зайцев</td>\n",
       "      <td>«16+» - для детей старше 16 лет</td>\n",
       "      <td>0.0</td>\n",
       "      <td>23.000000</td>\n",
       "      <td>0.0</td>\n",
       "      <td>Министерство культуры, Фонд кино</td>\n",
       "      <td>6.6</td>\n",
       "      <td>мелодрама</td>\n",
       "      <td>10.234016</td>\n",
       "    </tr>\n",
       "    <tr>\n",
       "      <td>2058</td>\n",
       "      <td>Дуxless 2</td>\n",
       "      <td>111000415</td>\n",
       "      <td>2015-01-26 12:00:00+00:00</td>\n",
       "      <td>Художественный</td>\n",
       "      <td>ООО \"Киностудия \"Слово\", ООО \"Арт Пикчерс Студия\"</td>\n",
       "      <td>Россия</td>\n",
       "      <td>Р.Прыгунов</td>\n",
       "      <td>П.Ануров, Ф.Бондарчук, Д.Рудовский</td>\n",
       "      <td>«16+» - для детей старше 16 лет</td>\n",
       "      <td>0.0</td>\n",
       "      <td>75.000000</td>\n",
       "      <td>0.0</td>\n",
       "      <td>Фонд кино</td>\n",
       "      <td>6.6</td>\n",
       "      <td>драма</td>\n",
       "      <td>446.163511</td>\n",
       "    </tr>\n",
       "    <tr>\n",
       "      <td>2472</td>\n",
       "      <td>Воин (2015)</td>\n",
       "      <td>111017315</td>\n",
       "      <td>2015-09-28 12:00:00+00:00</td>\n",
       "      <td>Художественный</td>\n",
       "      <td>ООО \"Форпост Продакшн\", ООО \"Арт Пикчерс Студия\"</td>\n",
       "      <td>Россия</td>\n",
       "      <td>А.Андрианов</td>\n",
       "      <td>ООО \"Арт Пикчерс Студия\"</td>\n",
       "      <td>«12+» - для детей старше 12 лет</td>\n",
       "      <td>10.0</td>\n",
       "      <td>70.000000</td>\n",
       "      <td>0.0</td>\n",
       "      <td>Фонд кино</td>\n",
       "      <td>7.8</td>\n",
       "      <td>боевик,драма,криминал</td>\n",
       "      <td>196.572438</td>\n",
       "    </tr>\n",
       "    <tr>\n",
       "      <td>2532</td>\n",
       "      <td>Бармен.</td>\n",
       "      <td>111009615</td>\n",
       "      <td>2015-05-26 12:00:00+00:00</td>\n",
       "      <td>Художественный</td>\n",
       "      <td>АО \"ВайТ Медиа\", ООО \"Арт Пикчерс Студия\"</td>\n",
       "      <td>Россия</td>\n",
       "      <td>Д.Штурманова</td>\n",
       "      <td>Т.Вайнштейн</td>\n",
       "      <td>«16+» - для детей старше 16 лет</td>\n",
       "      <td>20.0</td>\n",
       "      <td>0.000000</td>\n",
       "      <td>0.0</td>\n",
       "      <td>Фонд кино</td>\n",
       "      <td>6.2</td>\n",
       "      <td>комедия,фэнтези</td>\n",
       "      <td>67.418975</td>\n",
       "    </tr>\n",
       "    <tr>\n",
       "      <td>2615</td>\n",
       "      <td>Савва. Сердце воина</td>\n",
       "      <td>114001715</td>\n",
       "      <td>2015-07-21 12:00:00+00:00</td>\n",
       "      <td>Анимационный</td>\n",
       "      <td>ООО \"Глюкоза Продакшн\", ООО \"Арт Пикчерс Студия\"</td>\n",
       "      <td>Россия</td>\n",
       "      <td>М.Фадеев</td>\n",
       "      <td>А.Чистяков</td>\n",
       "      <td>«6+» - для детей старше 6 лет</td>\n",
       "      <td>60.0</td>\n",
       "      <td>100.000000</td>\n",
       "      <td>0.0</td>\n",
       "      <td>Фонд кино</td>\n",
       "      <td>4.6</td>\n",
       "      <td>мультфильм,приключения,фэнтези</td>\n",
       "      <td>184.487551</td>\n",
       "    </tr>\n",
       "    <tr>\n",
       "      <td>2684</td>\n",
       "      <td>Тряпичный союз</td>\n",
       "      <td>111010215</td>\n",
       "      <td>2015-06-08 12:00:00+00:00</td>\n",
       "      <td>Художественный</td>\n",
       "      <td>ООО \"Кинокомпания \"КОКТЕБЕЛЬ\"</td>\n",
       "      <td>Россия</td>\n",
       "      <td>М.Местецкий</td>\n",
       "      <td>Р.Борисевич, А.Кушаев</td>\n",
       "      <td>«18+» - запрещено для детей</td>\n",
       "      <td>0.0</td>\n",
       "      <td>59.000000</td>\n",
       "      <td>0.0</td>\n",
       "      <td>Фонд кино</td>\n",
       "      <td>6.3</td>\n",
       "      <td>комедия,драма</td>\n",
       "      <td>1.957739</td>\n",
       "    </tr>\n",
       "    <tr>\n",
       "      <td>2788</td>\n",
       "      <td>Срочно выйду замуж</td>\n",
       "      <td>111017115</td>\n",
       "      <td>2015-09-30 12:00:00+00:00</td>\n",
       "      <td>Художественный</td>\n",
       "      <td>АО \"ВайТ Медиа\", ООО \"Арт Пикчерс Студия\"</td>\n",
       "      <td>Россия</td>\n",
       "      <td>С Чекалов</td>\n",
       "      <td>Ф.Бондарчук, Т.Вайнштейн, Д.Рудовский</td>\n",
       "      <td>«16+» - для детей старше 16 лет</td>\n",
       "      <td>0.0</td>\n",
       "      <td>35.000000</td>\n",
       "      <td>0.0</td>\n",
       "      <td>Фонд кино</td>\n",
       "      <td>5.1</td>\n",
       "      <td>комедия,мелодрама</td>\n",
       "      <td>72.937783</td>\n",
       "    </tr>\n",
       "    <tr>\n",
       "      <td>2874</td>\n",
       "      <td>Помню - не помню!</td>\n",
       "      <td>111004916</td>\n",
       "      <td>2016-03-01 12:00:00+00:00</td>\n",
       "      <td>Художественный</td>\n",
       "      <td>ООО \"КиноФирма\"</td>\n",
       "      <td>Россия</td>\n",
       "      <td>В.Ровенский</td>\n",
       "      <td>ООО \"КиноФирма\"</td>\n",
       "      <td>«12+» - для детей старше 12 лет</td>\n",
       "      <td>0.0</td>\n",
       "      <td>6.000000</td>\n",
       "      <td>0.0</td>\n",
       "      <td>Министерство культуры</td>\n",
       "      <td>4.3</td>\n",
       "      <td>комедия</td>\n",
       "      <td>15.362931</td>\n",
       "    </tr>\n",
       "    <tr>\n",
       "      <td>3047</td>\n",
       "      <td>Любовь с ограничениями</td>\n",
       "      <td>111008216</td>\n",
       "      <td>2016-04-29 12:00:00+00:00</td>\n",
       "      <td>Художественный</td>\n",
       "      <td>АО \"ВайТ Медиа\", ООО \"Арт Пикчерс Студия\"</td>\n",
       "      <td>Россия</td>\n",
       "      <td>Д.Тюрин</td>\n",
       "      <td>Ф.Бондарчук, Т.Вайнштейн, Д.Рудовский</td>\n",
       "      <td>«16+» - для детей старше 16 лет</td>\n",
       "      <td>19.0</td>\n",
       "      <td>51.000000</td>\n",
       "      <td>0.0</td>\n",
       "      <td>Фонд кино</td>\n",
       "      <td>6.3</td>\n",
       "      <td>комедия,мелодрама</td>\n",
       "      <td>70.299052</td>\n",
       "    </tr>\n",
       "    <tr>\n",
       "      <td>3565</td>\n",
       "      <td>Притяжение (2016)</td>\n",
       "      <td>111018116</td>\n",
       "      <td>2016-12-16 12:00:00+00:00</td>\n",
       "      <td>Художественный</td>\n",
       "      <td>ООО \"Водород 2011\",  ООО \"Арт Пикчерс Студия\"</td>\n",
       "      <td>Россия</td>\n",
       "      <td>Ф.Бондарчук</td>\n",
       "      <td>ООО \"Арт Пикчерс Студия\"</td>\n",
       "      <td>«12+» - для детей старше 12 лет</td>\n",
       "      <td>0.0</td>\n",
       "      <td>250.000000</td>\n",
       "      <td>0.0</td>\n",
       "      <td>Фонд кино</td>\n",
       "      <td>5.6</td>\n",
       "      <td>фантастика</td>\n",
       "      <td>1038.321489</td>\n",
       "    </tr>\n",
       "    <tr>\n",
       "      <td>3675</td>\n",
       "      <td>Чудо-юдо</td>\n",
       "      <td>114001817</td>\n",
       "      <td>2017-06-27 12:00:00+00:00</td>\n",
       "      <td>Анимационный</td>\n",
       "      <td>ООО \"КиноФирма\"</td>\n",
       "      <td>Россия</td>\n",
       "      <td>А.Лукичев</td>\n",
       "      <td>ООО \"КиноФирма\"</td>\n",
       "      <td>«6+» - для детей старше 6 лет</td>\n",
       "      <td>20.0</td>\n",
       "      <td>20.000000</td>\n",
       "      <td>0.0</td>\n",
       "      <td>Фонд кино</td>\n",
       "      <td>5.2</td>\n",
       "      <td>мультфильм,фэнтези,семейный</td>\n",
       "      <td>55.108015</td>\n",
       "    </tr>\n",
       "    <tr>\n",
       "      <td>3739</td>\n",
       "      <td>Мифы</td>\n",
       "      <td>111004317</td>\n",
       "      <td>2017-06-07 12:00:00+00:00</td>\n",
       "      <td>Художественный</td>\n",
       "      <td>ООО \"ХАЙПФИЛМ\", ООО \"Арт Пикчерс Студия\"</td>\n",
       "      <td>Россия</td>\n",
       "      <td>А.Молочников</td>\n",
       "      <td>Ф.Бондарчук, Д.Рудовский, И.Стюарт, М.Османн, ...</td>\n",
       "      <td>«16+» - для детей старше 16 лет</td>\n",
       "      <td>25.0</td>\n",
       "      <td>20.000000</td>\n",
       "      <td>0.0</td>\n",
       "      <td>Фонд кино</td>\n",
       "      <td>4.8</td>\n",
       "      <td>комедия</td>\n",
       "      <td>50.451949</td>\n",
       "    </tr>\n",
       "    <tr>\n",
       "      <td>5673</td>\n",
       "      <td>Селфи</td>\n",
       "      <td>111012117</td>\n",
       "      <td>2018-02-01 12:00:00+00:00</td>\n",
       "      <td>Художественный</td>\n",
       "      <td>ООО \"Киностудия \"Слово\", ООО \"Арт Пикчерс Студия\"</td>\n",
       "      <td>Россия</td>\n",
       "      <td>Н.Хомерики</td>\n",
       "      <td>П.Ануров, Ф.Бондарчук, Д.Рудовский</td>\n",
       "      <td>«16+» - для детей старше 16 лет</td>\n",
       "      <td>20.0</td>\n",
       "      <td>40.000000</td>\n",
       "      <td>0.0</td>\n",
       "      <td>Фонд кино</td>\n",
       "      <td>5.8</td>\n",
       "      <td>триллер,драма</td>\n",
       "      <td>225.196400</td>\n",
       "    </tr>\n",
       "    <tr>\n",
       "      <td>5806</td>\n",
       "      <td>Два хвоста</td>\n",
       "      <td>114001018</td>\n",
       "      <td>2018-05-31 12:00:00+00:00</td>\n",
       "      <td>Анимационный</td>\n",
       "      <td>ООО \"ЛИЦЕНЗИОННЫЕ БРЕНДЫ\"</td>\n",
       "      <td>Россия</td>\n",
       "      <td>В.Ровенский, Н.Лопато, В.Азеев</td>\n",
       "      <td>ООО \"ЛИЦЕНЗИОННЫЕ БРЕНДЫ\"</td>\n",
       "      <td>«6+» - для детей старше 6 лет</td>\n",
       "      <td>10.0</td>\n",
       "      <td>60.000000</td>\n",
       "      <td>0.0</td>\n",
       "      <td>Фонд кино</td>\n",
       "      <td>5.0</td>\n",
       "      <td>мультфильм,детский</td>\n",
       "      <td>106.514301</td>\n",
       "    </tr>\n",
       "    <tr>\n",
       "      <td>6008</td>\n",
       "      <td>Принцесса и дракон</td>\n",
       "      <td>114003018</td>\n",
       "      <td>2018-08-23 12:00:00+00:00</td>\n",
       "      <td>Анимационный</td>\n",
       "      <td>ООО \"ЛИЦЕНЗИОННЫЕ БРЕНДЫ\"</td>\n",
       "      <td>Россия</td>\n",
       "      <td>М.Нефедова</td>\n",
       "      <td>ООО \"ЛИЦЕНЗИОННЫЕ БРЕНДЫ\"</td>\n",
       "      <td>«6+» - для детей старше 6 лет</td>\n",
       "      <td>40.0</td>\n",
       "      <td>40.000000</td>\n",
       "      <td>0.0</td>\n",
       "      <td>Фонд кино</td>\n",
       "      <td>5.2</td>\n",
       "      <td>мультфильм,фэнтези,детский</td>\n",
       "      <td>83.366329</td>\n",
       "    </tr>\n",
       "    <tr>\n",
       "      <td>6323</td>\n",
       "      <td>Баба Яга</td>\n",
       "      <td>114006518</td>\n",
       "      <td>2018-11-08 12:00:00+00:00</td>\n",
       "      <td>Анимационный</td>\n",
       "      <td>ООО \"Арт Пикчерс Студия\"</td>\n",
       "      <td>Россия</td>\n",
       "      <td>В.Саков</td>\n",
       "      <td>ООО \"Арт Пикчерс Студия\", ООО \"КРИЭЙТИВ АНИМЭЙ...</td>\n",
       "      <td>«6+» - для детей старше 6 лет</td>\n",
       "      <td>0.0</td>\n",
       "      <td>138.969465</td>\n",
       "      <td>0.0</td>\n",
       "      <td>Фонд кино</td>\n",
       "      <td>NaN</td>\n",
       "      <td>NaN</td>\n",
       "      <td>1.334699</td>\n",
       "    </tr>\n",
       "    <tr>\n",
       "      <td>6823</td>\n",
       "      <td>Большое путешествие</td>\n",
       "      <td>114002419</td>\n",
       "      <td>2019-04-20 12:00:00+00:00</td>\n",
       "      <td>Анимационный</td>\n",
       "      <td>ООО \"ЛИЦЕНЗИОННЫЕ БРЕНДЫ\"</td>\n",
       "      <td>Россия</td>\n",
       "      <td>Н.Лопато, В.Ровенский</td>\n",
       "      <td>ООО \"ЛИЦЕНЗИОННЫЕ БРЕНДЫ\"</td>\n",
       "      <td>«6+» - для детей старше 6 лет</td>\n",
       "      <td>60.0</td>\n",
       "      <td>120.000000</td>\n",
       "      <td>0.0</td>\n",
       "      <td>Фонд кино</td>\n",
       "      <td>6.2</td>\n",
       "      <td>мультфильм,комедия,приключения</td>\n",
       "      <td>147.606827</td>\n",
       "    </tr>\n",
       "  </tbody>\n",
       "</table>\n",
       "</div>"
      ],
      "text/plain": [
       "                       title  pu_number           show_start_date  \\\n",
       "2053                     14+  111023614 2014-12-19 12:00:00+00:00   \n",
       "2058               Дуxless 2  111000415 2015-01-26 12:00:00+00:00   \n",
       "2472             Воин (2015)  111017315 2015-09-28 12:00:00+00:00   \n",
       "2532                 Бармен.  111009615 2015-05-26 12:00:00+00:00   \n",
       "2615     Савва. Сердце воина  114001715 2015-07-21 12:00:00+00:00   \n",
       "2684          Тряпичный союз  111010215 2015-06-08 12:00:00+00:00   \n",
       "2788      Срочно выйду замуж  111017115 2015-09-30 12:00:00+00:00   \n",
       "2874       Помню - не помню!  111004916 2016-03-01 12:00:00+00:00   \n",
       "3047  Любовь с ограничениями  111008216 2016-04-29 12:00:00+00:00   \n",
       "3565       Притяжение (2016)  111018116 2016-12-16 12:00:00+00:00   \n",
       "3675                Чудо-юдо  114001817 2017-06-27 12:00:00+00:00   \n",
       "3739                    Мифы  111004317 2017-06-07 12:00:00+00:00   \n",
       "5673                   Селфи  111012117 2018-02-01 12:00:00+00:00   \n",
       "5806              Два хвоста  114001018 2018-05-31 12:00:00+00:00   \n",
       "6008      Принцесса и дракон  114003018 2018-08-23 12:00:00+00:00   \n",
       "6323                Баба Яга  114006518 2018-11-08 12:00:00+00:00   \n",
       "6823     Большое путешествие  114002419 2019-04-20 12:00:00+00:00   \n",
       "\n",
       "                type                                        film_studio  \\\n",
       "2053  Художественный                         ООО Киностудия  \"Сентябрь\"   \n",
       "2058  Художественный  ООО \"Киностудия \"Слово\", ООО \"Арт Пикчерс Студия\"   \n",
       "2472  Художественный   ООО \"Форпост Продакшн\", ООО \"Арт Пикчерс Студия\"   \n",
       "2532  Художественный          АО \"ВайТ Медиа\", ООО \"Арт Пикчерс Студия\"   \n",
       "2615    Анимационный   ООО \"Глюкоза Продакшн\", ООО \"Арт Пикчерс Студия\"   \n",
       "2684  Художественный                      ООО \"Кинокомпания \"КОКТЕБЕЛЬ\"   \n",
       "2788  Художественный          АО \"ВайТ Медиа\", ООО \"Арт Пикчерс Студия\"   \n",
       "2874  Художественный                                    ООО \"КиноФирма\"   \n",
       "3047  Художественный          АО \"ВайТ Медиа\", ООО \"Арт Пикчерс Студия\"   \n",
       "3565  Художественный      ООО \"Водород 2011\",  ООО \"Арт Пикчерс Студия\"   \n",
       "3675    Анимационный                                    ООО \"КиноФирма\"   \n",
       "3739  Художественный           ООО \"ХАЙПФИЛМ\", ООО \"Арт Пикчерс Студия\"   \n",
       "5673  Художественный  ООО \"Киностудия \"Слово\", ООО \"Арт Пикчерс Студия\"   \n",
       "5806    Анимационный                          ООО \"ЛИЦЕНЗИОННЫЕ БРЕНДЫ\"   \n",
       "6008    Анимационный                          ООО \"ЛИЦЕНЗИОННЫЕ БРЕНДЫ\"   \n",
       "6323    Анимационный                           ООО \"Арт Пикчерс Студия\"   \n",
       "6823    Анимационный                          ООО \"ЛИЦЕНЗИОННЫЕ БРЕНДЫ\"   \n",
       "\n",
       "     production_country                        director  \\\n",
       "2053             Россия                        А.Зайцев   \n",
       "2058             Россия                      Р.Прыгунов   \n",
       "2472             Россия                     А.Андрианов   \n",
       "2532             Россия                    Д.Штурманова   \n",
       "2615             Россия                        М.Фадеев   \n",
       "2684             Россия                     М.Местецкий   \n",
       "2788             Россия                       С Чекалов   \n",
       "2874             Россия                     В.Ровенский   \n",
       "3047             Россия                         Д.Тюрин   \n",
       "3565             Россия                     Ф.Бондарчук   \n",
       "3675             Россия                       А.Лукичев   \n",
       "3739             Россия                    А.Молочников   \n",
       "5673             Россия                      Н.Хомерики   \n",
       "5806             Россия  В.Ровенский, Н.Лопато, В.Азеев   \n",
       "6008             Россия                      М.Нефедова   \n",
       "6323             Россия                         В.Саков   \n",
       "6823             Россия           Н.Лопато, В.Ровенский   \n",
       "\n",
       "                                               producer  \\\n",
       "2053                                О.Гранина, А.Зайцев   \n",
       "2058                 П.Ануров, Ф.Бондарчук, Д.Рудовский   \n",
       "2472                           ООО \"Арт Пикчерс Студия\"   \n",
       "2532                                        Т.Вайнштейн   \n",
       "2615                                         А.Чистяков   \n",
       "2684                              Р.Борисевич, А.Кушаев   \n",
       "2788              Ф.Бондарчук, Т.Вайнштейн, Д.Рудовский   \n",
       "2874                                    ООО \"КиноФирма\"   \n",
       "3047              Ф.Бондарчук, Т.Вайнштейн, Д.Рудовский   \n",
       "3565                           ООО \"Арт Пикчерс Студия\"   \n",
       "3675                                    ООО \"КиноФирма\"   \n",
       "3739  Ф.Бондарчук, Д.Рудовский, И.Стюарт, М.Османн, ...   \n",
       "5673                 П.Ануров, Ф.Бондарчук, Д.Рудовский   \n",
       "5806                          ООО \"ЛИЦЕНЗИОННЫЕ БРЕНДЫ\"   \n",
       "6008                          ООО \"ЛИЦЕНЗИОННЫЕ БРЕНДЫ\"   \n",
       "6323  ООО \"Арт Пикчерс Студия\", ООО \"КРИЭЙТИВ АНИМЭЙ...   \n",
       "6823                          ООО \"ЛИЦЕНЗИОННЫЕ БРЕНДЫ\"   \n",
       "\n",
       "                      age_restriction  refundable_support  \\\n",
       "2053  «16+» - для детей старше 16 лет                 0.0   \n",
       "2058  «16+» - для детей старше 16 лет                 0.0   \n",
       "2472  «12+» - для детей старше 12 лет                10.0   \n",
       "2532  «16+» - для детей старше 16 лет                20.0   \n",
       "2615    «6+» - для детей старше 6 лет                60.0   \n",
       "2684      «18+» - запрещено для детей                 0.0   \n",
       "2788  «16+» - для детей старше 16 лет                 0.0   \n",
       "2874  «12+» - для детей старше 12 лет                 0.0   \n",
       "3047  «16+» - для детей старше 16 лет                19.0   \n",
       "3565  «12+» - для детей старше 12 лет                 0.0   \n",
       "3675    «6+» - для детей старше 6 лет                20.0   \n",
       "3739  «16+» - для детей старше 16 лет                25.0   \n",
       "5673  «16+» - для детей старше 16 лет                20.0   \n",
       "5806    «6+» - для детей старше 6 лет                10.0   \n",
       "6008    «6+» - для детей старше 6 лет                40.0   \n",
       "6323    «6+» - для детей старше 6 лет                 0.0   \n",
       "6823    «6+» - для детей старше 6 лет                60.0   \n",
       "\n",
       "      nonrefundable_support  budget                  financing_source  \\\n",
       "2053              23.000000     0.0  Министерство культуры, Фонд кино   \n",
       "2058              75.000000     0.0                         Фонд кино   \n",
       "2472              70.000000     0.0                         Фонд кино   \n",
       "2532               0.000000     0.0                         Фонд кино   \n",
       "2615             100.000000     0.0                         Фонд кино   \n",
       "2684              59.000000     0.0                         Фонд кино   \n",
       "2788              35.000000     0.0                         Фонд кино   \n",
       "2874               6.000000     0.0             Министерство культуры   \n",
       "3047              51.000000     0.0                         Фонд кино   \n",
       "3565             250.000000     0.0                         Фонд кино   \n",
       "3675              20.000000     0.0                         Фонд кино   \n",
       "3739              20.000000     0.0                         Фонд кино   \n",
       "5673              40.000000     0.0                         Фонд кино   \n",
       "5806              60.000000     0.0                         Фонд кино   \n",
       "6008              40.000000     0.0                         Фонд кино   \n",
       "6323             138.969465     0.0                         Фонд кино   \n",
       "6823             120.000000     0.0                         Фонд кино   \n",
       "\n",
       "      ratings                          genres   box_office  \n",
       "2053      6.6                       мелодрама    10.234016  \n",
       "2058      6.6                           драма   446.163511  \n",
       "2472      7.8           боевик,драма,криминал   196.572438  \n",
       "2532      6.2                 комедия,фэнтези    67.418975  \n",
       "2615      4.6  мультфильм,приключения,фэнтези   184.487551  \n",
       "2684      6.3                   комедия,драма     1.957739  \n",
       "2788      5.1               комедия,мелодрама    72.937783  \n",
       "2874      4.3                         комедия    15.362931  \n",
       "3047      6.3               комедия,мелодрама    70.299052  \n",
       "3565      5.6                      фантастика  1038.321489  \n",
       "3675      5.2     мультфильм,фэнтези,семейный    55.108015  \n",
       "3739      4.8                         комедия    50.451949  \n",
       "5673      5.8                   триллер,драма   225.196400  \n",
       "5806      5.0              мультфильм,детский   106.514301  \n",
       "6008      5.2      мультфильм,фэнтези,детский    83.366329  \n",
       "6323      NaN                             NaN     1.334699  \n",
       "6823      6.2  мультфильм,комедия,приключения   147.606827  "
      ]
     },
     "execution_count": 34,
     "metadata": {},
     "output_type": "execute_result"
    }
   ],
   "source": [
    "df.query('budget == 0 & (refundable_support > 0 | nonrefundable_support > 0)')"
   ]
  },
  {
   "cell_type": "markdown",
   "metadata": {},
   "source": [
    "Пользуясь открытми источниками найдём и заполним пропущенные значения столбца `budget`."
   ]
  },
  {
   "cell_type": "code",
   "execution_count": 35,
   "metadata": {},
   "outputs": [],
   "source": [
    "df.at[2058, 'budget'] = 140\n",
    "df.at[2472, 'budget'] = 115\n",
    "df.at[2532, 'budget'] = 60\n",
    "df.at[2615, 'budget'] = 1000\n",
    "df.at[2788, 'budget'] = 102.200\n",
    "df.at[2874, 'budget'] = 94.900\n",
    "df.at[3047, 'budget'] = 110\n",
    "df.at[3565, 'budget'] = 380\n",
    "df.at[3675, 'budget'] = 138.240\n",
    "df.at[3739, 'budget'] = 70\n",
    "df.at[5673, 'budget'] = 115\n",
    "df.at[5806, 'budget'] = 110\n",
    "df.at[6008, 'budget'] = 116\n",
    "df.at[6323, 'budget'] = 220"
   ]
  },
  {
   "cell_type": "markdown",
   "metadata": {},
   "source": [
    "Те фильмы для которых не удалось найти информацию по бюджету лучше удалить."
   ]
  },
  {
   "cell_type": "code",
   "execution_count": 36,
   "metadata": {},
   "outputs": [],
   "source": [
    "df.drop([2053, 2684, 6823], inplace=True)"
   ]
  },
  {
   "cell_type": "markdown",
   "metadata": {},
   "source": [
    "### Вывод\n",
    "\n",
    "Мы понизили размерность для удобства анализа финансовых столбцов.\n",
    "\n",
    "Заполнили данные по общему бюджету для картин с государственной подедржкой там где это возможно, от остальных строк с нулевым бюджетом пришлось избавиться."
   ]
  },
  {
   "cell_type": "markdown",
   "metadata": {
    "id": "Eu6oWp2CgFyS"
   },
   "source": [
    "## 2.6. Добавление новых столбцов <a id=\"step26\"></a>\n",
    "\n",
    "Создадим столбец с информацией о годе проката. Выделим год из даты премьеры фильма."
   ]
  },
  {
   "cell_type": "code",
   "execution_count": 37,
   "metadata": {
    "id": "I-yd1DkWgFyT"
   },
   "outputs": [],
   "source": [
    "df['year'] = df['show_start_date'].dt.year.astype('int16')"
   ]
  },
  {
   "cell_type": "markdown",
   "metadata": {
    "id": "nFTDLDYOgFyT"
   },
   "source": [
    "Создадим два столбца: с именем и фамилией главного режиссёра и основным жанром фильма. В столбцы войдут первые значения из списка режиссёров и жанров соответственно."
   ]
  },
  {
   "cell_type": "code",
   "execution_count": 38,
   "metadata": {
    "id": "LSbRZKbMgFyU",
    "scrolled": true
   },
   "outputs": [
    {
     "name": "stdout",
     "output_type": "stream",
     "text": [
      "['Кевин Костнер' 'Е.Матвеев' 'Тимур Бекмамбетов' 'В.Абдрашитов'\n",
      " 'В.Меньшов' 'Джон Туртурро' 'Эрик Беснард' 'В.Титов' 'Пол Грингросс'\n",
      " 'М.Туманишвили' 'Клинт Иствуд' 'Фернанду Мейрелльеш' 'Майк Фиггис'\n",
      " 'А.Салтыков' 'Г.Данелия' 'А.Смирнов' 'Ю.Чулюкин'\n",
      " 'В.Краснопольский, В.Усков' 'М.Чиаурели' 'Лассе Халлстрем' 'Л.Гайдай'\n",
      " 'В.Чеботарев' 'В.Азаров' 'Боривой Земан' 'Эндрю Никкол' 'Г.Мыльников'\n",
      " 'Джонатан Кинг' 'И.Бабич' 'Даниэль Робишо' 'Грегори Хоблит' 'Крис Нунан'\n",
      " 'Стивен Фрирз' 'Йэн Софтли' 'Найл Джонсон' 'Р.Быков' 'Роб Райнер'\n",
      " 'Бен Янгер' 'Роб Маршалл' 'Е.Ташков' 'Н.Михалков' 'Ю.Карасик'\n",
      " 'А.Тарковский' 'Джон Франкенхаймер' 'Оливье Маршал' 'С.Соловьев'\n",
      " 'Иоахим Реннинг, Эспен Сандберг' 'Ролан Быков' 'Семен Туманов'\n",
      " 'Питер Сигал' 'М.Ромм' 'Г.Полока' 'Ю.Райзман'\n",
      " 'Дрю Дэйуолт, Дэвид Шнейдер' 'С.Самсонов' 'Айрон Блейз, Роберт Уокер'\n",
      " 'К.Шахназаров' 'И.Гостев' 'Т.Лукашевич' 'В.Павлович' 'Эмиль Лотяну'\n",
      " 'Тиль Швайгер' 'А.Птушко' 'Г.Натансон' 'И.Пырьев, М.Ульянов, К.Лавров'\n",
      " 'Джеймс Айвори' 'И.Пырьев' 'К.Юдин, Б.Барнет' 'С.Бондарчук' 'В.Георгиев'\n",
      " 'В.Басов' 'А.Сурикова' 'Майк Слии' \"Томми О'Хавер\" 'А.Эфрос' 'М.Микаэлян'\n",
      " 'А.Серый' 'Дин Хэмилтон' 'Г.Панфилов' 'Сергей Бондарчук' 'Н.Трахтенберг'\n",
      " 'А.Столпер' 'М.Швейцер, С.Милькина' 'Л.Марягин'\n",
      " 'Крис Уильямс, Байрон Ховард' 'Энг Ли' 'И.Киасашвили' 'В.Пудовкин'\n",
      " 'Франк Манкузо' 'Фэн Сяоган' 'С.Алексеев, В.Войтецкий' 'Жан Франсуа Рише'\n",
      " 'А.Митта' 'Г.Александров' 'Марк Форстер' 'А.Роом' 'Дэвид Йетс'\n",
      " 'Крис Коламбус' 'Альфонсо Куарон' 'Ридли Скотт' 'Матьё Кассовиц'\n",
      " 'Г.Егиазаров' 'Джордж Клуни' 'Дэнни Панг, Оксид Панг' 'Майк Ньюэлл'\n",
      " 'Ди.Джи.Карузо' 'Эл Гиддингс, Дэвид Кларк' 'Дэвид Моро, Хавьер Палю'\n",
      " 'Марк Пеллингтон' 'Б.Бабочкин' 'Виктор Сальва' 'Владимир Чеботарев'\n",
      " 'А.Рыбаков' 'Франко Дзеффирелли' 'Стивен Содерберг' 'Дэвид Аубурн'\n",
      " 'Шерон Магуайр' 'Е.Карелов' 'Жан-Пьер Жене' 'Кевин Смит' 'Роберт Лукетич'\n",
      " 'А.Зархи' 'Ник Кассаветис' 'А.Мкртчян' 'Питер Хоуитт' 'К.Воинов'\n",
      " 'Мартин Брест' 'А.Столпер, Б.Иванов' 'Э.Рязанов' 'В.Скуйбин'\n",
      " 'Вадим Перельман' 'А.Салтыков, А.Митта' 'Пол Уиланд' 'Владимир Дрга'\n",
      " 'Алехандро Агрести' 'С.Колосов' 'Н.Москаленко' 'Л.Гайдай, Р.Орко'\n",
      " 'А.Мкртчян, Л.Попов' 'Михаэль Ханеке' 'П.Чухрай' 'Г.Чухрай'\n",
      " 'Джейсон Рейтман' 'В.Дербенев' 'Бен Стэйссен' 'Джозеф Рубен'\n",
      " \"Томми О'Хэйвер\" 'В.Пудовкин, Д.Васильев' 'Уильям Фридкин' 'Дэвид Финчер'\n",
      " 'В.Герасимов' 'Сидни Люмет' 'Тим Дисней' 'Крис Уэйтс' 'Питер Хаймс'\n",
      " 'Н.Губенко' 'Даг Лайман' 'П.Тодоровский' 'Джо Райт' 'С.Туманов'\n",
      " 'С.Бодров, А.Буравский' 'Гай Ричи' 'В.Шукшин' 'Р.Нахапетов' 'А.Сахаров'\n",
      " 'Питер Джексон' 'Мартин Кемпбелл' 'В.Каплуновский' 'Фрэнк Оз' 'Э.Кеосаян'\n",
      " 'Ф.Гари Грэй' 'Пол МакГиган' 'Джонатан Хейнслей' 'Жан Боден'\n",
      " 'Ананд Таккер' 'Пол Джей Болджер' 'Эдвард Цвик' 'Т.Вульфович'\n",
      " 'Ричард Эйр' 'Майкл Манн' 'Питер Берг' 'Б.Барнет' 'Бретт Рэтнер'\n",
      " 'Ю.Кушнерев' 'М.Хуциев' 'Питер Гринуэй' 'П.Фоменко' 'Хаяо Миядзаки'\n",
      " 'Кристофер Нолан' 'Мартин Кэмпбелл' 'Р.Фрунтов' 'А.Алов, В.Наумов'\n",
      " 'Дэвид Слейд' 'Брэд Силберлинг' 'Р.Балаян' 'Анн Фонтейн' 'Джон Шлезингер'\n",
      " 'Анно Зауль' 'Н.Ардашников' 'Паскаль Ложье' 'Том Тыквер'\n",
      " 'Тони Бэнкфорт, Бэрри Кук' 'Эктор Бабенко' 'В.Пронин' 'А.Габриелян'\n",
      " 'Карел Смычек' 'Э.Климов' 'Пол Хантер' 'Е.Гинзбург' ' Н.Орлов, Р.Быков'\n",
      " 'А.Михалков-Кончаловский' 'А.Панкратов' 'Йорген Лет, Ларс Фон Триер'\n",
      " 'Брек Эйзнер' 'Гарри Маршалл' 'Адам Шенкман' 'Дэвид Миркин'\n",
      " 'Т.Лукашевич, Б.Равенских, Д.Васильев' 'Г.Данелия, И.Таланкин'\n",
      " 'В.Ордынский' 'Джон Патрик Шэнли' 'Харольд Бэккер' 'Стивен Гэган'\n",
      " 'Ульрих Зейдл' 'Э.Лотяну' 'С.Эйзенштейн' 'Райан Эслингер'\n",
      " 'Э.Савельева, Т.Березанцева' 'Тим Бёртон' 'Дэвид Линч' 'Стив Бек'\n",
      " 'Роб Коэн' 'Джонатан Либесман' 'Пол Гринграсс' 'Т.Лукашевич, В.Канцель'\n",
      " 'К.Худяков' 'Эндрю Адамсон' 'А.Карпыков' 'Патрик Люнг, Корей Йен'\n",
      " 'Мария Солее Тоньяцци' 'Гильермо дель Торо' 'Гэвин Грейзер'\n",
      " 'Жерар Кравчик' 'Джулия Тэймор' 'В.Назаров' 'Кали Коури' 'Курт Уиммер'\n",
      " 'Роджер Споттисвуд' 'Г.Натансон, А.Эфрос' 'Марк С. Уотерс' 'Брек Айзнер'\n",
      " 'Джим Гиллеспи' 'Тони Билл' 'РичардЭйр' 'И.Зайцев' 'Дэвид Йейтс'\n",
      " 'Е.Андриканис' 'Сильвестр Сталлоне' 'Брюно Подалидес' 'Кэтрин Бигелоу'\n",
      " 'Шон МакНамара' 'С.Говорухин' 'Дэйв Бортвик' 'И.Таланкин' 'Г.Рошаль'\n",
      " 'Сет Гроссман' 'Мишель Хазанавичус' 'Джон Хиллкоут'\n",
      " 'Френсис Форд Коппола' 'Джесси Джонсон' 'В.Шамшурин' 'Гай Риччи'\n",
      " 'Крис Вайц' 'Тоби Уилкинс' 'Жаклин Шеффер' 'Саймон Уэст' 'Франсуа Озон'\n",
      " 'Уильям Монахэн' 'Дон Рус' 'Стефан Лоу' 'Тедди Чан'\n",
      " 'Натан Грино, Байрон Ховард' 'Филипп Гаррель' 'Джули Тэймор'\n",
      " 'Скотт Калвер' 'Кристофер Сунь Лэп Ки' 'Джим Шеридан' 'Стивен Спилберг'\n",
      " 'Николас Виндинг Рефн                                                                                                                                                                                                                             '\n",
      " 'Маттис ван Хейникен младший' 'Николя Кюш' 'Джон Карпентер'\n",
      " 'Генри Джуст, Ариэль Шульман' 'Дэниел Барнц' 'Хиромаса Йонебаяши'\n",
      " 'Чжан Имоу' 'Джон Мэдден' 'Фил Трэйл' 'Оливер Паркер' 'Дэвид Ликли'\n",
      " 'Бобкэт Голдтуэйт' 'Лиза Аскан' 'Хендрик Хандлёгтен' 'Энтони ДиБласи'\n",
      " 'Бигас Луна' 'Майкл Уинтерботтом' 'Оле Кристиан Мадсен' 'Марио Мартоне'\n",
      " 'Кристиан Биодани' 'Кристиан Клавье' 'Уильям Брент Бэлл' 'Ренни Харлин'\n",
      " 'Ева Ионеско' 'Кен Коупис' 'Асгер Лет' 'Фредерик Жарден'\n",
      " 'Тобиас Линдхольм, Майкл Ноер' 'Тейт Тейлор' 'Дэвид Маквикар'\n",
      " 'С. Дж. Кларксон' 'Бренда Чапмен, Марк Эндрюс' 'Николас Столлер'\n",
      " 'Люк Бессон' 'Дэвид Кроненберг' 'Вишес Бразерс' 'Родриго Ортузар Линч'\n",
      " 'Хуан Таратуто' 'Флавио Р.Тамбеллини ' 'Николас Лопес' 'Уэс Андерсон'\n",
      " 'Адам Смит' 'Стюарт Маундер' 'Брайан Лардж' 'Руперт Сандерс'\n",
      " 'Джо Карнахан' 'Дэвид МакКензи' 'Рауль Руис' 'Уильям Юбэнк'\n",
      " 'Оливер Барру' 'Лиза Азуэлос' 'Брэд Пейтон' 'Дэниэл Эспиноза' 'Д.Файзиев'\n",
      " 'С.Андреасян' 'А.Смирнова' 'Оускар Йоунассон, Тоби Генкель' 'Тарсем Синх'\n",
      " 'Роб Минкофф, Роджер Аллерс' 'В.Иванов, С.Комаров' 'А.Силкин'\n",
      " 'Ю.Васильев' 'Б.Куломзин' 'Д.Додсон, А.Юрчиков' 'А.Мизгирев' 'П.Лунгин'\n",
      " 'Эндрю Стэнтон' 'Пэдди Консидайн' 'Гэри Росс' 'Е.Анашкин' 'Маркус Грейвз'\n",
      " 'Йоханнес Робертс' 'Пэт Холден' 'Нима Нуризаде' 'Гарет Эванс' 'Сон-Юн О'\n",
      " 'Мартин Валенте' 'Макс Джива, Дания Пасквини' 'Майк МакКой' 'Ю.Бахшиев'\n",
      " 'А.Малюков' 'Ларри Чарльз' 'Стефан Рибожад' 'Тони Майерс' 'Говард Холл'\n",
      " 'Гейл Эвардс' 'Майкл Фиггис' 'Катарина Оуэн, Марк Пеллингтон'\n",
      " 'Джеймс МакТиг' 'Хеннинг Карлсен' 'Тони Кэй' 'Фредерик Бегбедер'\n",
      " 'Франсиз Нильсен, Филипп Шатель' 'Эрик Геновеси' 'Филлида Ллойд'\n",
      " 'Эрик Дарнелл, Том МакГрат, Конрад Вернон' 'Жан-Марк Валли' 'Мэттью Диас'\n",
      " 'М.Бальчунас' 'Лоуренс Казанофф' 'Антонио Негрет' 'А.Борматов, Р.Сорокин'\n",
      " 'Джошуа Транк' 'В.Яковлев' 'Мэтт Пидмонт' 'Дэниэль Нетхейм' 'Санг-Хан Хо'\n",
      " 'Ральф Файнс' 'Мадонна' 'А.Прошкин' 'Р.Газизов' 'Джереми Левин'\n",
      " 'Жан-Жак Анно' 'Жан-Жак Мантелло' 'Джордж Клуни ' 'Адриан Грюнберг'\n",
      " 'Томаш Сас' 'Джеймс Камерон' 'Уильям Кентридж' 'А.Пурер (Галин)'\n",
      " 'Жан-Пьер Дарденн, Люк Дарденн' 'Анджелина Джоли'\n",
      " 'Роб Минкофф, Роджер Оллерс' 'Зигфрид' 'Ти Вест' 'Джеймс Бобин'\n",
      " 'Фил Лорд, Крис Миллер' 'Томаш Лунак' 'Кристиан Швохов'\n",
      " 'Оливье Накаша, Эрик Толедано' 'Тим Бертон' 'Скотт Хикс' 'Джефф Николс'\n",
      " 'Майкл Ди Джакомо' 'Джеймс Мэтер, Стивен Ст. Леджер' 'Тосиюки Кубоока'\n",
      " 'А.Кулямин' 'Дэвид Брукс' 'О.Сенцов' 'Пол Андерсон' 'Барри Зонненфельд'\n",
      " 'Кирк Джонс' 'Брэйден Кинг' 'Реми Безансон'\n",
      " 'Габи Амионе, Пау Балаге, Джозеко де Линарес, Эдуард Риу, Ирен С.Родригез'\n",
      " 'Эмануэле Криалезе' 'Джейсон Айзнер' 'Роберт Хит' 'Йен Фитцгиббон'\n",
      " 'Петер Флинт' 'Фрэнсис Форд Коппола' 'Хермини Хунтгебурх' 'Боаз Якин'\n",
      " 'Ник Мерфи' 'Режис Варнье' 'Дермот Малруни' 'Рубен Остлунд' 'А.Магомедов'\n",
      " 'Малгожата Шумовска' 'Томас Альфредсон' 'Билл Кондон' 'Эйтор Далия'\n",
      " 'Крис Рено' 'Майкл Сакси'\n",
      " 'С.Андреасян, К.Оганисян, А.Кещян, Т.Корнев, Э.Салаватов, Д.Дюжев, Е.Абызов, А.Бадоев'\n",
      " 'Е.Борисова' 'Беньямин Хайзенберг' 'А.Мармонтов' 'Александр Пэйн'\n",
      " 'Уберто Пазолини' 'Майкл Дауз' 'А.Стреляная' 'Бернард Роуз' 'Р.Прыгунов'\n",
      " 'Андре Тешине' 'Джеймс Уоткинс' 'Саймон Верховен'\n",
      " 'Уильям Бейкер, Маркус Винер' 'Джон Майкл МакДонах' 'М.Железников'\n",
      " 'МакДжи' 'Шон Дуркин' 'Данис Танович' 'Джон Харвитц, Хейден Шлоссберг'\n",
      " 'Дженнифер Уэстфелд' 'Деклан Доннеллан, Ник Ормерод' 'Стив МакКуин'\n",
      " 'Джордж Лукас' 'Джейсон Рэйтман' 'Шери Фольксон' 'Эммануэль Муре'\n",
      " 'А.Козлов' 'Оливье Моршаль' 'Джейсон Ритмэн'\n",
      " 'Марк Невелдайн, Брайан Тейлор' 'Саймон Кертис' 'Бальтазар Кормакур'\n",
      " 'Клод Нуридзани, Мари Перену' 'Кике Майло' 'Дрю Годдар' 'Деннис Дуган'\n",
      " 'Грег Уайтели' 'Стивен Кижак' 'Дункан МакНили' 'Стефан Эллиотт'\n",
      " 'Мортен Тильдум' 'Джосс Уидон' 'Питер Лорд, Джефф Ньюитт'\n",
      " 'Эммануэль Берко, Фред Кавайе, Александр Кортес' 'Джон Стоквелл'\n",
      " 'Яннике Систад Якобсен' 'Лассе Халльстрём' 'А.Кещян' 'Джули Энн Робинсон'\n",
      " 'Эрни Барабараш' 'Пол Томас Андерсон' 'Джудд Апатоу'\n",
      " 'Спирос Статулопулос' 'Магнус Мартенс' 'Джей Роач' 'Питер Темплмен'\n",
      " 'Гермина Хунтгебурт' 'Марк А.З. Диппе, Тадонг Пак' 'Джон Каздан'\n",
      " 'Пабло Ларрайн' 'Ульрих Зайдль' 'Детлеф Бук' 'Лукас Мудиссон'\n",
      " 'Такеши Китано' 'Вонг Чинг По' 'А.Касаткин, Н.Назарова'\n",
      " 'Алекс де ла Иглесиа' 'Анна Негри' 'Франческо Фаласки' 'Элисон Клэймен'\n",
      " 'Джон Эйч Ли' 'Майкл Гринспен' 'Питер Тимм' 'Сэм Рэйми' 'Дастин Хоффман'\n",
      " 'Д.Киселев, А.Баранов' 'Фрэнк Корачи' 'Гэри Трусдейл, Кирк Уайз'\n",
      " 'Стивен Найт' 'Крис Уэдж' 'Педро Альмодовар' 'Кен Лоуч' 'Лео Каракс'\n",
      " 'Эд Гасс-Донелли' 'Феликс Фуксштайнер' 'Ф.Попов' 'Р.Давлетьяров'\n",
      " 'Валери Донзелли' 'Роар Утхауг' 'Хармони Корин' 'Русудан Чкония'\n",
      " 'Робин Кларк' 'Кит Уорнер' 'хореография Фредерика Эштона' 'О.Фесенко'\n",
      " 'Уолтер Саллес' 'Райан Джонсон'\n",
      " 'В.Панжев, Г.Курлаев, И.Белостоцкий, М.Сулейманова, Н.Репина, С.Морозов и др.'\n",
      " 'Стив Баркер' 'Мишель Франко' 'Лана Вачовски, Энди Вачовски, Том Тыквер'\n",
      " 'Джон Лукас, Скотт Мур' 'Джастин Лин' 'Джозеф Косински' 'Сет Гордон'\n",
      " 'Майкл Хоффман' 'Дэн Брэдли' 'Том Хупер' 'Кирстен Шеридан'\n",
      " 'Йоганнес Вайланд, Макс Ланг, Уве Хайдшёттер, Якоб Шух' 'И.Квирикадзе'\n",
      " 'Мартин МакДона' 'Аку Лоухимис' 'П.Руминов' 'Януш Жомболай'\n",
      " 'Тизнано Манчини' 'Эйприл Маллен' 'С.Баскова' 'Томас Винтерберг'\n",
      " 'Антуан Фукуа' 'Феде Алварес' 'Марсал Форес' 'Лаура Моранте' 'Айке Грамс'\n",
      " nan 'хореография Питера Райта, Льва Иванова по разработке Мариуса Петипа'\n",
      " 'хореография Василия Вайнонена. Андреас Морелл' 'Нурбек Эген'\n",
      " 'Паскаль Арнольд, Жан-Марк Барр' 'Пол Сен' 'Ол Паркер' 'Майкл Дж.Бассетт'\n",
      " 'Сан-Су Хон' 'Б.Хлебников' 'Найджел Коул' 'Алехандро Бругес'\n",
      " 'Сид Беннетт' 'Джеми Линден' 'М.Коростышевский' 'Джон Райт'\n",
      " 'Джозеф Седар' 'Мигель Гомеш' 'Кристиан Петцольд' 'Ребекка Томас'\n",
      " 'Давид Феррарио' 'Каллэн Брункер' 'Ким Нгуйен' 'Ксавье Джианолли'\n",
      " 'Шон Гэррити' 'Рюхэй Китамура' 'Патрис Леконт' 'Режи Ройнсар'\n",
      " 'Давид Манули' 'Е.Михайлова' 'К.Тимофеев' 'Скотт Дерриксон'\n",
      " 'А.Аманшаев, Г.Шенгелия' 'Джули Бенасра' 'Джулия Локтев' 'Марк Тондерай'\n",
      " 'С.Ткачев' 'О.Лопато'\n",
      " 'Бенисио Дель Торо, Пабло Траперо, Элиа Сулейман, Гаспар Ноэ, Лоран Канте, Хулио Медем, Хуан Карлос Табио'\n",
      " 'Квентин Дюпье' 'Сара Полли' 'Эцио Греджо' 'Мохсен Махмальбаф'\n",
      " 'Дэниэл Фриделль' 'Такаши Миике' 'Оливер Цигенбальг' 'Крейг Зобель'\n",
      " 'Дэвид Фрэнкел' 'Бертран Бонелло' 'Лиз Гарбус'\n",
      " 'Гэри Траусдейл, Кирк Уайз' 'Рон Клементс, Джон Маскер' 'Джон М.Чу'\n",
      " 'Дик Маас' 'Леандер Хаусманн' 'Е.Барханов' 'Рубен Фляйшер'\n",
      " 'Андрес Мускетти' 'Такаси Миике' 'Стив Мартино, Майкл Турмейр'\n",
      " 'Ален Шаба' 'Нильс Орден Оплев' 'Эрик Рошан'\n",
      " 'Хоаким Роннинг, Эспен Сандберг' 'Дункан МакФарланд' 'Адам Кук'\n",
      " 'Аки Каурисмяки' 'Марк Уэбб' 'А.Карпиловский' 'Карлос Рейгадас'\n",
      " 'Эрен Криви' 'Н.Лебедев' 'Дэнни Бойл' 'Лен Уайзман' 'Г.Долматовская'\n",
      " 'Наоёси Сиотани' 'Арни Линдер Нэсс' 'Пит Трэвис' 'Филипп Штёльцл'\n",
      " 'А.Арутюнов' 'Кристофер Б.Стоукс' 'Т.Ильина, Г.Данелия' 'Рон Фрике'\n",
      " 'Рэй Манзарек' 'Тизиано Манчини' 'Дени Криеф' 'Уле Борнедаль'\n",
      " 'В.Волгин при участии А.Ягубец' 'Р.Давлетьяров, Р.Прыгунов'\n",
      " 'Мэттью Беттинелли, Дэвид Брукнер, Адам Вингард' 'Оливер Стоун'\n",
      " 'Энди Фикмен' 'Ахмед Сонмез' 'Дэрил Вейн' 'Срджан Драгоевич'\n",
      " 'Эндрю Доминик' 'С.Карпунина' 'Ырыс Окенова' 'Уолтер Хилл' 'С.Дружинина'\n",
      " 'Грэг МакГиливрэй' 'С.Бурнашев' 'Роберт Земекис'\n",
      " 'Майкл Гантон, Марта Холмс' 'Брэд Андерсон' 'Рамаа Мосли'\n",
      " 'Даррен Линн Боусман' 'Пьер Коффин, Крис Рено' 'Мэт Аскем'\n",
      " 'Оливье Мегатон' 'Энн Эмон' 'Кен Скотт' 'Джонатан Дейтон, Валери Фэрис'\n",
      " 'Лесли Хэдланд' 'Бенуа Жако' 'Иджинио Страффи' 'Тодд Луисо'\n",
      " 'Роджер Мишелл' 'Андрей Кончаловский' 'Дик Каррутерс'\n",
      " 'хореограф Кеннет Макмиллан' 'Сергей Лозница' 'Руфус Норрис'\n",
      " 'Анубав Синха' 'И.Вырыпаев' 'Шейн Блэк' 'Йос Стеллинг' 'Вонг Юнфей'\n",
      " 'Софи Файнс' 'Джей Джей Абрамс' 'Петер Зер, Мари Ноэль' 'Фрэнк Мерле'\n",
      " 'Рик Роман Во' 'Лассе Халльстрем' 'Бертран Блие' 'Альберто Родригес'\n",
      " 'Тим Диасон, Питер Лепениотис' 'А.Войтинский' 'Окиура Хироюки'\n",
      " 'Мамору Хосода' 'Шунсуке Тада'\n",
      " 'Мартин Клэпп, Дорота Кобеля, Джофф Линдси' 'Мукунда Майкл Дьюил'\n",
      " 'Ким Ки-Дук ' 'Ким Ки-Дук' 'Амир Надери' 'Роберт Гэннавэй, Пегги Холмс'\n",
      " 'Альберто Мар' 'Майя Кениг' 'Анджей Якимовский' 'Баз Лурман'\n",
      " 'Джастин Закэм' 'Джозеф Рубин' 'Том Элкинс' 'Джоэл Коэн'\n",
      " 'Билл Джонс, Джефф Симпсон, Бен Тимлетт' 'Оливье Ассайас'\n",
      " 'Тео Ангелопулос, Джан Витторио Балди, Марко Бечис, Лаис Боданзки, Бету Брант, Сиско Васкес, Вим Вендерс, Гай Меддин, Мария де Медейрос, Мануэль ди Оливейра, Ежи Штур, Атом Эгоян '\n",
      " 'Джоэл Потрикус' 'Дерек Сьянфранс' 'Леоне Маруччи' 'Г.Островский'\n",
      " 'П.Худяков' 'Джон Сталберг' 'Артюс де Пенгерн' 'Скотт Чарльз Стюарт'\n",
      " 'Диего Каплан' 'Роман Коппола' 'В.Барбэ' 'П.Пархоменко' 'Малкольм Д.Ли'\n",
      " 'Бруно Халлин' 'Джейсон Мур' 'хореография Мариуса Петипа' 'Такао Окамура'\n",
      " 'Ден Мазер' 'Эсбен Тофт Якобсен' 'Грач Кешишян' 'Филипп Леллуш'\n",
      " 'Пако Пласа' 'Тодд Филлипс' 'Йоахим Лафосс' 'Изуру Нарушима'\n",
      " 'Майкл Винник' 'Фолькер Шлендорф' 'Франк Халфун' 'Франк Гастамбиде'\n",
      " 'Джеймс ДеМонако' 'Джей Ананья' 'Роб Зомби' 'Никхил Адвани'\n",
      " 'Дэвид Баррет' 'Грег Гарт' 'Петер Несс' 'Роберт Швентке' 'Иван Атталь'\n",
      " 'М.Найт Шьямалан' 'Ксавье Долан' 'Терренс Малик' 'Вонг Кар Вай'\n",
      " 'Тьерри Гиллиам' 'Стефан Обье, Венсан Патар, Бенжамен Реннер'\n",
      " 'Стюарт Урбан' 'К.Лопушанский'\n",
      " 'Г.Курлаев, С.Морозов, В.Панжев, Н.Репина, К.Седухин, А.Щеглов, М.Сулейманова, М.Богдасаров, В.Зайкин, Н.Хлопецкая'\n",
      " 'М.Ильенко' 'Акива Шаффер' 'Лорен Скафария' 'Роберт Карсен'\n",
      " 'Люк Крессуел, Стив МакНиколас' 'Кодзи Вакамацу' 'Роб Хейдон'\n",
      " 'Эрик Ле Рош' 'Брайан Клагман, Ли Стернтал' 'Маркус Данстен'\n",
      " 'Энрике Гато' 'В.Москаленко' 'Агнес Мерле' 'Тони Гилрой' 'Тодд Линкольн'\n",
      " 'М.Саакян' 'Ланс Дэйли' 'Екатерина Еременко' 'Такаши Ямадзаки'\n",
      " 'Керн Секстон' 'И.Блохина' 'К.Серебренников' 'Джон Гулажер' 'Д.Алексеев'\n",
      " 'Джулиан Фарино' 'Саймон Вест' 'Кевин МакДональд' 'Дэвид Эйр'\n",
      " 'Эдуард Кортес' 'Ферзан Оспетек' 'Грэм Мерфи' 'Винсент Патерсон'\n",
      " 'Шон Андерс' 'Юрген Лердам, Кари Юуусонен'\n",
      " 'Стивен Брилл, Элизабет Бэнкс, Джеймс Ганн, Гриффин Данн, Джеймс Даффи, Стив Карр, Бретт Рэтнер, Питер Фаррелли, Патрик Форсберг '\n",
      " 'Питер Луизи' 'Гленио Бондер' 'Мишель Таверна' 'К.Феоктистов'\n",
      " 'Начо Вигалондо' 'Вуди Аллен' 'Бернардо Бертолуччи' 'Квентин Тарантино'\n",
      " 'Бэз Лурман' 'Родриго Кортес' 'Сет МакФарлейн' 'Крис Миллер'\n",
      " 'Абель Феррара' 'Стивен Чбоски' 'В.Барбэ, М.Свешников' 'Стефан Рузовицки'\n",
      " 'Дэвид О.Расселл' 'Арам Раппапорт' 'Андрес Баиз' 'Стивен Сильвер'\n",
      " 'Фернандо Молина' 'Жалиль Леспере' 'Бен Зайтлин' 'Дэвид Кин'\n",
      " 'Доминик Тьелль' 'Тимо Вуоренсола' 'А.Федорченко' 'Эдуардо Санчес'\n",
      " 'Жак Одиар' 'Дэвид Палмер, Дэкс Шепард' 'Жан Рабек' 'Билле Аугуст'\n",
      " 'Брэдли Паркер' 'Жофрей Энтховен' 'Скотт Спир' 'Седрик Кан'\n",
      " 'Цутому Ханабуса' 'Николас Джареки' 'Саша Джерваси' 'Софи Леллуш'\n",
      " 'Витторио Тавиани, Паоло Тавиани' 'Пит Доктер, Дэвид Сильверман'\n",
      " 'Пит Доктер, Дэвид Силверман' 'Сильви Тестю' 'Хорхе Торрегросса'\n",
      " 'Анджелп Беттис, Элен Катте, Кааре Эндрюс' 'Ким Чжи Ун' 'Чжеки Чан'\n",
      " 'Том Вон' 'Майкл Тиддес' 'Ричард Ла Гравенес' 'Маниш Джа'\n",
      " 'Мэттью Эйкерс, Джефф Дюпре' 'Вейн Тонли' 'Г.Киракосян' 'К.Оганесян'\n",
      " 'Кэтрин Бингелоу' 'В.Суслин' 'Паскаль Эрольд' 'Эдуардо Шульдт'\n",
      " 'Крис Батлер, Сэм Фелл' 'Дэнни Муни' 'Шарль Оливье-Мишо' 'М.Козлов'\n",
      " 'Джонатан Левин' 'Тэйлор Хэкфорд' 'Н.Эген' 'Хуан Антонио Байона'\n",
      " 'Джон Льюсенхоп' 'Эндрю Стэнтон, Ли Ункрич' 'Пол У.С.Андерсон'\n",
      " 'Хуан Диего Соланас' 'Мабрук Эль Мекри' 'Бен Стассен' 'Джеймс Хант'\n",
      " 'Брайан Сингер' 'А.Мычко' 'Фишер Стивенс' 'Фернандо Мейреллиш'\n",
      " 'Тодд Солондз' 'Мартин Скорсезе' 'Джейми Брэдшоу, Александр Дулерайн'\n",
      " 'В.Панков' 'Паскаль Шомель' 'А.Мегердичев' 'С.Мокрицкий' 'Кимбл Рендалл'\n",
      " 'Дуглас Арниокоски' 'Кристофер МакКуори' 'Томми Виркола'\n",
      " 'Джон Кафка, Юн-сок Чхве' 'Том Лу' 'Цуй Харк' 'Сюзанна Биер' 'Е.Баранов'\n",
      " 'Бен Аффлек' 'Колин Треворроу' 'Бен Уитли' 'Джон Поликуин' 'Джон Хайамс'\n",
      " 'Лоран Тирар' 'В.Криштофович' 'Джон Эспинач, Рикардо Рамон' 'Дэвид Хорн'\n",
      " 'Дэвид МакВикар' 'Геннадий Тартаковский' 'Стефано Салвати'\n",
      " 'Йошихиро Нишимура, Наюки Томомацу' 'Джон МакИлдаф' 'Хоакин Ористрелл'\n",
      " 'Винсент Паронно, Маржан Сатрапи' 'Джеймс Напье Робертсон'\n",
      " 'Бенуа Делепин, Гюстав де Керверн' 'Джон Хилкоут' 'Сэм Мендес'\n",
      " 'Ли Дэниелс' 'Кертис Хэнсон, Майкл Эптид' 'Рич Мур' 'Кьюнг Хо Ли'\n",
      " 'Кристоф Оноре' 'Мэтт Росс' 'А.Артамонова' 'Тони Тэнг' 'Джим Филд Смит'\n",
      " \"Эндрю О'Коннор\" 'Габриэле Муччино' 'Кристиан Мунджиу'\n",
      " 'Керк Де Микко, Крис Сандерс' 'Пабло Бергер' 'Жиль Бурдо'\n",
      " 'Франческа Замбелло' 'Беппе де Томази' 'Жоан Фонт' 'Джойл Бродли'\n",
      " 'Маттео Гарроне' 'Питер Рэмси' 'Давид Шарон' 'К.Кемниц' 'Морис Бартелеми'\n",
      " 'Майкл Бэй' 'В.Мухаметзянов' 'Стивен Эллиот' 'Ли Анкрич, Эндрю Стентон'\n",
      " 'К.Оганисян' 'Эндрю Флеминг' 'Люк Жаке' 'Дин ДеБлуа' 'Жак Уаниш'\n",
      " 'Роберт Родригес' 'Даррен Аронофски' 'Дестин Креттон' 'Мариам Клеман'\n",
      " 'Ари Фольман' 'Карлос Салдана' 'Джеймс Грэй' 'К.Буслов' 'Патрик Ротман'\n",
      " 'Кристоф Ган' 'Г.Орлов' 'А.Кириллов' 'Микаэль Хофстрём' 'О.Каптур'\n",
      " 'С.Жигунов' 'Б.Худойназаров' 'А.Хван' 'Паоло Соррентино' 'Франк Хоф'\n",
      " 'Сатоси Мики' 'Джалиль Леспер' 'Каспер Хольтен' 'Франсуа Ханнс'\n",
      " 'А.Кананович' 'О.Массарыгин' 'Валерия Бруни-Тедески' 'Р.Ершов'\n",
      " 'Фанни Ардан' 'Патрик Хьюз'\n",
      " 'Кевин О.Хара. Хореография Кристофера Уилдона '\n",
      " 'Герберт фон Караян. Постановка  Жоржа Вакевича'\n",
      " 'Сэм Данн, Скотт Макфадьен, Реджинальд Харкема' 'Джон Стокуэлл '\n",
      " 'Рафаэль Фридман' 'Алекс Ван Вармердам' 'Питер Веллингтон' 'А.Атанесян'\n",
      " 'И.Белостоцкий, В.Панжев, А.Щеглов, Н.Хлопецкая, С.Морозов, Е.Соколов, М.Сулейманов  и др.'\n",
      " 'Стефан Каз' 'С.Карандашов' 'И.Волошин' 'Д.Светозаров' 'А.Аксененко'\n",
      " 'Томас Лукас' 'Питер Морс'\n",
      " 'Роберт Фестингер, Руперт Френд, Джей Камен, Нил Лабут, Бенжамин Грейсон, Крис Фоггин'\n",
      " 'Джон Фавро' 'Джулиан Джилби' 'Уильям Брент Белл' 'Дж.Т.Петти'\n",
      " 'Алекс Пастор, Давид Пастор' 'Френсис Лоуренс' 'Реим Керичи'\n",
      " 'Рэймонд Де Фелитта' 'Маркус Винер' 'Майк Флэнеган' 'Уолли Пфистер'\n",
      " 'Джон Майкл МакДона' 'Ричард Айоади' 'Джеймс Гриффитс' 'Стефан Херхейм'\n",
      " 'Пит Вейрич'\n",
      " 'хореография Питера Райта, Льва Иванова по разработке Мариуса Петипа в режиссуре Кристофера Карра'\n",
      " 'Тэнгай Дейрейн, Патрисия Каас, Фабрис Лаффонт' 'Шарль Немес'\n",
      " 'Ребекка Золотовски' 'Джоэл Коэн, Итан Коэн' 'Скотт МакГихи, Давид Сигел'\n",
      " 'Джош Бун' 'Фредерик Обуртин' 'Роберт Б.Уайде' 'Бернхард Каммель'\n",
      " 'Феликс ван Гронинген' 'Ю.Ботоев' 'Том Гормикэн'\n",
      " 'А.Аксененко, Э.Никогосян, Д.Дюжев, А.Вакулов (А.Кульбицкий)' 'И.Евтеева'\n",
      " 'Оливер Жан-Мари' 'Джастин МакМиллан, Кристофер Нелиус' 'Е.Шиляева'\n",
      " 'Леон Джусен, Аарон Силман' 'Оливье Даан' 'Яш Чопра' 'Эмманюэль Берко'\n",
      " 'К.Козлов' 'М.Хлебородов' 'Барри Кук, Нил Найтингейл'\n",
      " 'Елена Тихонова, Доминик Шпритцендорфер' 'Джэми Кастнер' 'Джеймс Мэнголд'\n",
      " 'Раджа Госнелл' 'Жан Кристоф Дюссант' 'Брайан Томсон, Гейл Эдвардс'\n",
      " 'Ларс фон Триер' 'Марк Манн' 'Давид Бисбано'\n",
      " 'Джеффри Фридман, Роб Эпштейн' 'Джозеф Гордон-Левитт' 'Стивен Р.Монро'\n",
      " 'Пьер-Франсуа Мартен-Лаваль' 'Мэтт Орландо' 'Харольд Цварт'\n",
      " 'Крис Бак, Дженнифер Ли' 'Алекс Олье' 'Кейси Патрик Тебо'\n",
      " 'Франсуа Россильон, хореография Рудольфа Нуреева по Мариусу Петипа'\n",
      " 'Марк Стивен Джонсон' 'Каспар Мунк' 'Росс МакГиббон' 'Аббадо Даниэле'\n",
      " 'Алан Тейлор' 'Пол Фейг' 'Дэвид Сорен' 'Джеффри Флетчер' 'Эдгар Райт'\n",
      " 'Пол Вайц' 'Гор Вербински' 'Роджер Рот' 'Мэгги Кэри' 'Джош Столберг'\n",
      " 'Нил Бломкамп' 'Клэй Холл' 'Марк Лампрелл' 'Рейнир Лингдаль'\n",
      " 'Владислав Пасиковский'\n",
      " 'Д.Киселев, Е.Телегина, А.Котт, А.Карпиловский, А.Мегердичев, Л.Габриадзе'\n",
      " 'Бенсон Ли' 'Н.Меркулова, А.Чупов' 'Коди Кэмерон, Крис Пири'\n",
      " 'Миккель Нёргор' 'М.Блаш' 'Тристан Сегуэла' 'Питер Лепениотис'\n",
      " 'Сильвен Уайт' 'Иссара Нади, Кирати Нак-Интанон, Патчанон Тумджира'\n",
      " 'Спайк Джонс' 'Кристофер Карр' 'К.Мурзенко' 'Джионата Зарантонелло'\n",
      " 'Адам Леон' 'Кандида Бреди' 'Сеск Гай' 'П.Гладилин' 'Т.Игуменцева'\n",
      " 'Ю.Мороз' 'С.Подгаевский' 'Даниэль Санчес Аревало' 'М.Мигунова'\n",
      " 'Брюно Дюмон' 'Давид Моро' 'А.Григорян, М.Мкртчян' 'Брайан Персиваль'\n",
      " 'Бен Стиллер' 'Нэнси Севард' 'Адам Вингард' 'Дуэйн Адлер' 'Уэйн Крамер'\n",
      " 'Стивен Фанг' 'Е.Телегина' 'Джеймс Ван' 'Джим Джармуш'\n",
      " 'Джо Руссо, Энтони Руссо' 'Ясухиро Есиура' 'А.Якимчук' 'Макинов'\n",
      " 'Дин Паризо' 'Джефф Уодлоу' 'Джошуа Майкл Штерн' 'Ричард Кертис'\n",
      " 'Марк Ротемунд' 'Нил Джордан' 'А.Храмцов, В.Сотсков, И.Евланникова'\n",
      " 'Д.Дьяченко' 'София Коппола' 'Даниэль Кальпарсоро'\n",
      " 'Александр Алешечкин, Вячеслав Алешечкин' 'Александр Коффре'\n",
      " 'Сельма Вилунен, Марк Гилл, Эстебан Креспо, Ксавье Легран, Андерс Уолтер'\n",
      " 'А.Невский' 'С.Проскурина' 'Кристофер Нельсон' 'Рот Стромберг'\n",
      " 'Джонатан Теплицки' 'Ариэль Вромен' 'Е.Сокуров' 'Гийом Винсент'\n",
      " 'Е.Невский'\n",
      " 'Том Ван Авермат, Брайан Бакли, Ян Ингленд, Шон Кристенсен, Сэм Френч'\n",
      " 'Йорханнес Вейланд, Лео Верьер, Джон Карс, Минью Ли, Ричард Манс, Тимати Рекарт, Дэвид Сильверман, Уве Хайдесшоттеи'\n",
      " 'Стюарт Битти' 'Рэндолл Коул' 'Олатунд Осунсанми' 'Вольфганг Гроос'\n",
      " 'Джон Тёртелтауб' 'Джон С.Бейрд' 'Камиль Деламарр' 'В.Сериков'\n",
      " 'Лоран Тюэль' 'Джон Пог' 'Р.Давлетьяров, С.Комаров' 'Марион Верну'\n",
      " 'Морган Буш, Мартин Гуггисберг, Бенуа де Клер, Антти Хейкки Персонен, Джаспер Уарри, Шейн Эткинсон'\n",
      " 'Мэтт Беттинелли-Ольпин, Тайлер Джиллетт' 'Раджкумар Хирани'\n",
      " 'Каран Джохар' 'Лунг Ах, Чонг Ти Чуа' 'Малик Бейдер'\n",
      " 'Томас Боденштайн, Хьюберт Вейланд, Нина Велс' 'Алессандро Сиани'\n",
      " 'Оливье Барру, Кад Мерад' 'Е.Звездаков' 'Ким Ки Дук' 'Джимми Хейуорд'\n",
      " 'Аарон Зельцер, Джейсон Фридберг' 'Карл Ринш' 'Том Моррис'\n",
      " 'Дэвид Гордон Грин' 'Е.Миндадзе (псевдоним Катя Шагалова)'\n",
      " 'Якоб Розенберг' 'А.Борматов' 'Дени Вильнев' 'Блэр Эриксон' 'Д.Филюков'\n",
      " 'Е.Абызов' 'А.Сильвестров' 'Марина де Ван' 'Пол Шредер' 'Фарид Гумбатов'\n",
      " 'Е.Соколов' 'Р.Салахутдинов'\n",
      " 'Джонатан Ауф Дер Хайди, Миа Васиковска, Клер МакКарти, Йен Медоуз, Стивен Пейдж, Эшли Пейдж, Саймон Стоун, Уорвик Торнтон, Мариека Уолш, Дэвид Уэнэм'\n",
      " 'С.Ольденбург-Свинцов' 'Ю.Разыков' 'Макото Синкай' 'Карло Карлей'\n",
      " 'Рон Ховард' 'В.Донсков' 'А.Вартанов, К.Михановский' 'Хауме Кольет-Серра'\n",
      " 'А.Першин' 'Абделатиф Кешиш'\n",
      " 'хореография Пьера Лакотта по Филиппу Тальони' 'Шана Фест'\n",
      " 'Виджай Кришна Ачария' 'Жан-Марк Валле' 'Сандра Неттельбек'\n",
      " 'Седрик Клапиш' 'Дебора Андерсон' 'О.Галин' 'Джесси МакКормак' 'В.Козлов'\n",
      " 'Энтони Марсиано' 'Фил Лорд, Кристофер Миллер' 'В.Гай Германика'\n",
      " 'Сильвен Шоне' 'Киран Дарси-Смит' 'Джон Карни' 'Скотт Во'\n",
      " 'Дуглас Амиокоски' 'Б.Юсупов' 'Себастьян Лелио' 'Хершел Фабер'\n",
      " 'Кристофер Карр. Хореография Мариуса Петипа. Постановка Моники Мейсон и Кристофера Ньютона по Нинетт де Валуа и Николаю Сергееву '\n",
      " 'Арно Ларьё, Жан-Мари Ларьё' 'Е.Антимоний, В.Вакуленко' 'Мэтт Ривз'\n",
      " 'Сесиль Телерман' 'Н.Джорджадзе' 'А.Симакова' 'К.Бронзит' 'И.Сколков'\n",
      " 'Гарет Эдвардс' 'Марко Артуро Марелли' 'Пьер Луиджи Пицци'\n",
      " 'Крис Джеро, Тони Кинг' 'Расмус А.Сивертсен' 'О.Штром' 'А.Лобанов'\n",
      " 'Джеймс Тобэк' 'Квентин Дюпьё' 'Ленни Абрахамсон' 'Луи Летерье'\n",
      " 'Джеймс Вон' 'Роланд Эммерих' 'Франческо Эспозито'\n",
      " 'Росс МакГибон, хореография Мэтью Борна' 'Крис Белл'\n",
      " 'Джонни То, Сиу-Тунг Чинг' 'Фредерик Фонтейн'\n",
      " 'Хуан Карлос Манеглиа, Тана Шембори' 'Саньтяго Занно' 'Томас Арслан'\n",
      " 'Бора Дагтекин' ' Йохан Нийенхейс' 'Брайан Фогель' 'Зак Снайдер'\n",
      " 'Стобе Харью' 'Скотт Уокер' 'Лим Пхиль Сон, Ким Чжи Ун'\n",
      " 'Жан-Марк Рудницкий' 'Летиция Хорхе Ромеро, Анна Гуэвара Росе'\n",
      " 'Мигель Ларрайа Валенсуела' 'Хидэаки Анно, Масаюки, Кадзуя Цурумаки'\n",
      " 'Хидэаки Анно, Масаюки, Махиро Маэда, Кадзуя Цурумаки' 'Николаз Лопез'\n",
      " 'Дэвид Кларк' 'Мишель Леклерк' 'Виктор Косаковский' 'Прапас Чолсаранонт'\n",
      " 'В.Шамиров' 'Ханнес Холм' 'Бабак Наджафи' 'Джон Хаддлс'\n",
      " 'Джонатан Гарфилкел' 'Дэннис Илиадис' 'Гэвин Худ' 'Том Донахью'\n",
      " 'Спайк Ли' 'Торстен Клай' 'О.Степченко' 'Р.Каримов' 'Дени де ла Орден'\n",
      " 'Майкл Ури' 'Мишель Гондри' 'Джей Чандрашекхар' 'Винченцо Натали'\n",
      " 'Альбер Дюпонтель' 'Рохер Гуаль'\n",
      " 'Джейсон Айзенер, Саймон Баррет,  Адам Вингард, Эдуардо Санчес, Тимо Тьяджанто, Грегг Хейл, Гарет Эванс'\n",
      " 'Компин Кемгумнирд' 'А.Чернакова' 'Брэд Фурман' 'Мэттью Миле'\n",
      " 'Шейн Салерно' 'Гор Киракосян' 'Пеги Холмс' 'Стивен Лангридж'\n",
      " 'Майк Леонард, Джон Петруччи, Френк Соломон' 'Доме Карукоски'\n",
      " 'Стивен Брилл' 'Реми Безансон, Жан-Кристоф Ли' 'Жером Энрико'\n",
      " 'Франсис Нильсен' 'Ракеш Омпракаш Мехра, Джефф Цимбалист' 'Шон Леви'\n",
      " 'Пабло Ларкуэн, Наталия Матео, Кевин Мель, Самир Реем, Беатрис Санчес, Марина Сересески, Анна Ван Дер Хайне'\n",
      " 'Михаэль Иён' 'Оливер Хиршбигель' 'В.Соколовский' 'Конор Эллин'\n",
      " 'С.Чекалов' 'Энди де Эммони' 'Тод Фреденталь' 'Мани Хагиги'\n",
      " 'Гийом Гальенн'\n",
      " 'С.Грознов, Д.Дьяченко, С.Воробьев, Б.Чертков, В.Фатьянов' 'Т.Кеосаян'\n",
      " 'Мария Фридман' 'В.Моргенштерн' 'Дэн Скэнлон' 'Бен Грегор' 'А.Строев'\n",
      " 'Д.Тюрин' 'Кимберли Пирс' 'Клер Дени' 'Жан-Поль Лилиенфельд'\n",
      " 'Андрей Щербан' 'Андреа Брет'\n",
      " 'хореография Карлоса Акосты по Мариусу Петипа' 'Захари Донохью'\n",
      " 'Гэри Фледер'\n",
      " 'Неи Базаире, Натали Галазка, Антонио Исордиа, Фернандо Малдонадо, Себастьян Марка, Марк Никелсбург, Санди Патч, Амит Рой, Ламберто Санфелисе, Джеймс Стюарт, Хорхе Тересо'\n",
      " 'Г.Бардин' 'Карлес Торренс' 'Эндрю Трауки' 'Ник Харран' 'Симон Бартесаги'\n",
      " 'А.Сеитаблаев' 'Ричард Линклейтер' 'А.Поженский' 'Ф.Бондарчук'\n",
      " 'Э.Радзюкевич' 'В.Плотников, Г.Гитис' 'Роб Ситч'\n",
      " 'М.Бальчунас (Вайсберг), Д.Додсон' 'Кристофер Б.Лэндон' 'Кеннет Брэна'\n",
      " 'Джефф Треймейн' 'В.Торопчин' 'М.Панфилов' 'А.Учитель'\n",
      " 'А.Вейль, Ф.Котларски ' 'Россон Маршалл Тёрбер' 'Питер Ландесман'\n",
      " 'Шуджит Сиркар' 'Хоми Аджаниа' 'А.Зеленков, Л.Биц, А.Муратов'\n",
      " 'Зандор Йессе, Уте фон Мюнхов-Поль' 'О.Бычкова' 'Синдзи Арамаки'\n",
      " 'Ноа Баумбах' 'Морган Спарлок' 'Джузеппе Торнаторе' 'Уолтер Турнье'\n",
      " 'Тим ван Даммен' \"Энцо Д'Алло\" 'Райнхард Клоосс' 'В.Минорский' 'К.Кузин'\n",
      " 'А.Федосеенко (псевдоним Ангелина Никонова)' 'А.Бобров' 'Кристиан Ламб'\n",
      " 'Тьерри Донар' 'Кристофер Боэ' 'Серж Аведикян, Елена Фетисова'\n",
      " 'Джереми Дегрусон, Бен Стассен' 'Дэвид Туи' 'А.Герман' 'Д.Банников'\n",
      " 'Джон Ли Хэнкок' 'Ариэль Зейтун' 'Джей Си Чендор' 'Джон Уэллс'\n",
      " 'Джефф Ренфро' 'Филипп Штёльцль' 'Момчило Мрдакович' 'Хи Зили'\n",
      " 'Роман Полански' 'Дэниэль Стамм' 'М.Угаров' 'Джон Паско'\n",
      " 'Хелен Жиро, Томас Забо' 'С.Юзеев' 'А.Баршак' 'А.Богатырев'\n",
      " 'Фредерик Бонд' 'А.Сиверс' 'А.Геворгян' 'В.Сторожева' 'А.Волгин'\n",
      " 'Мартин Миэ-Ренар' 'А.Хвостов' 'Ю.Гусман' 'О.Беляева'\n",
      " 'Фил Олден Робинсон' 'Филипп Аппиетто, Натали Совегран' 'Е.Трусевич'\n",
      " 'Бен Бранд, Дара Братт, Маттье Донк, Морган Кранц, Телия Петраки, Миклош Фелвидеки'\n",
      " 'Нимрод Антал' 'А.Велединский' 'Эван Голдберг, Сет Роген' 'С.Назиров'\n",
      " 'Франциска Бух' 'Аньес Обадья' 'Билли Боб Торнтон' 'Роб Минкофф'\n",
      " 'Акива Голдсман' 'Ноам Мурро' 'Аарон Кешалес, Навот Папушадо'\n",
      " 'Марк Уотерс' 'Нил Бёргер' 'Джонатан Инглиш' 'Сильвестр Сбилье'\n",
      " 'Ральф Зиман' 'Р.Мосафир' 'А.Гончуков' 'Д.Туприн' 'Мануэль Сисилия'\n",
      " 'Майкл Бартлетт' 'К.Муратова' 'Джордан Вогт-Робертс' 'Бобо Бёрманс'\n",
      " 'О.Асадулин' 'С.Серегин' 'Дэвид Кепп' 'Паоло Вирдзи' 'Марк Бертон'\n",
      " 'Халлвар Витзо, Гаэль Денис, Петра Жокса, Дея Кулумбегашвили, Сергей Пикалов, Анна София Сильверстейн, Симон Меса Сото, Клемен Трехаан-Лалан'\n",
      " 'С.Грознов' 'Дэвид Добкин' 'хореография Кристофера Уилдона'\n",
      " 'Джордж С.Волф' 'Карен Ли Хопкинс' 'Джеймс Марш' 'Даниэл Аугусту'\n",
      " 'Клаудио Ноче' 'Т.Мамедов, С.Андреасян' 'В.Глаголева' 'Б.Дышенов'\n",
      " 'Адам МакКей'\n",
      " 'Мэтью Аувро, Лео Брайдл, Бен Бренд, Ден Кларк, Шимми Маркус, Рамин Серри, Джош Соскин, Линси Стюарт, Рей Тинтори, Бен Томас, Хольгер Фрик'\n",
      " 'Майкл Куэста' 'В.Бортко' 'Альфредо Содергит' 'Пако Кабесас'\n",
      " 'Фридерик Ченг' 'Джо Линч' 'Люси Уокер' 'Микаэл Саломон' 'Шон Андрес'\n",
      " 'Стив Пинк' 'Скотт Фрэнк' 'Габе Ибаньес' 'Мария Саакян' 'Роуэн Жоффе'\n",
      " 'Пол Дагдейл' 'Морган Невилл' 'Тим Джонсон' 'Кеннет Брана'\n",
      " 'Майкл Алмерейда' 'М.Джусоев' 'О.Джураев' 'Джоэл Хопкинс' 'Фред Кавайе'\n",
      " 'Терри Майлз' 'Майкл Талли' 'Джейн Поллард, Ян Форсис' 'Д.Федоров'\n",
      " 'Масаюки Отиай' 'Жанна Эри' 'Марк Аткинс' 'Хоакин Льямас'\n",
      " 'Бенжамин Гуэди' 'Алехандро Гонсалес Иньярриту' 'Грегори Левассер'\n",
      " 'Рассел Кроу' 'Стайлз Уайт' 'Пер Ханефьорд' 'А.Килин,  С.Потапов '\n",
      " 'Евгений Дербез' 'Кшиштоф Занусси' 'Филлип Нойс' 'Тьерри Рагоберт'\n",
      " 'Генрик Рубен Генц' 'Чад Стахелски' 'Стивен Лэнс'\n",
      " 'Майкл Спириг, Питер Спириг' 'Александр Астье, Луис Клиши'\n",
      " 'Г.Малков, Э.Никогосян' 'А.Файнциммер' 'Э.Ходжикян' 'С.Тарасов'\n",
      " 'Ю.Озеров' 'Пьер Сальвадори' 'Сэм Гарбарски' 'Саймон Дж.Смит'\n",
      " 'Мартин Ле Галль' 'Джэфф Баэна' 'Алекс Коллс' 'Р.Джей.Катлер'\n",
      " 'Чарльз Мартин Смит' 'В.Котт' 'Ю.Вышинский' 'Г.Бежанов' 'В.Кремнев'\n",
      " 'А.Фролов' 'К.Юдин' 'Бобби Фаррелли, Питер Фаррелли'\n",
      " 'В.Перов, А.Кольцатый' 'Л.Агранович' 'А.Гордон' 'А.Бобровский'\n",
      " 'В.Журавлев' 'В.Плучек, Е.Народицкая-Сташевская' 'Джеримайя С.Чечик'\n",
      " 'Дэвид Мишо' 'Кевин Гротерт'\n",
      " 'Виченте Аморим, Гильермо Арриага, Стефан Зллиотт' 'Сергей Бодров'\n",
      " 'Марко Вебер'\n",
      " 'Т.Бекмамбетов, О.Харина, Ю.Быков, Д.Киселев, А.Котт, А.Карпиловский, К.Телегина, А.Кавун'\n",
      " 'Максим Свешников' 'Дэн Бирс' 'Алехандро Ходоровский' 'В.Чубриков'\n",
      " 'Т.Аленикова'\n",
      " 'Дастин Гай Дэфа, Бенуа де Клерк, Александр Мермаз, Симон Меза Сото, Лоран Фироде, Леонид Шмельков'\n",
      " 'Джини Финли' 'Дрор Мор' 'Кристиан Левринг'\n",
      " 'хореография Кеннета МакМиллана' 'А.Пиманов' 'А.Баранов' 'Д.Грачев'\n",
      " 'Г.Курлаев, С.Морозов, В.Панжев, Н.Репина, К.Седухин, А.Щеглов и др.'\n",
      " 'В.Тумаев' 'Джон Кёрран' 'А.Цицилин' 'Борис Альинович, Харальд Зиперманн'\n",
      " 'А.Ягубец' 'Зак Хилдитч' 'Билл Беннетт' 'А.Стриженов' 'Дэвид Дуглас'\n",
      " 'Дэвид Мерфи' 'Матиас Хёне' 'Б.Токарев' 'М.Калик' 'Сарик Андреасян'\n",
      " 'Джофф Мур, Дэвид Посаментир' 'Н.Арутюнова (псевдоним Н.Семашкевич)'\n",
      " 'Торун Лиан' 'Сантьяго Табарнеро' 'Дэвид Олден' 'Д.Родимин' 'Д.Червяцов'\n",
      " 'М.Сегал' 'Б.Уладаев' 'Нед Бенсон'\n",
      " 'Джейк Армстронг, Рафаэль Валь, Карл-Йохан Вестрегард, Зик Ёрл, Кристофер Калдвел, Жорж Мельес, Тиль Новак, Джонатан Хопкинс, Джакомо Чимини'\n",
      " 'Тадеуш Страсбергер' 'Питер Челсом' 'Г.Гитис' 'Стив Лотер' 'Джером Сейбл'\n",
      " 'Джим Микл' 'Г.Малков' 'Кристиан Е.Кристиансен' 'Ваге Саян'\n",
      " 'В.Кремнев, Э.Гаврилов' 'Е.Тетерин, А.Бобровский' 'Оскар Сантос Гомес'\n",
      " 'А.Манасарова' 'А.Ибрагимов'\n",
      " 'Э.Змойро, Л.Гайдай, Э.Рязанов, В.Семаков, Н.Трахтенберг, Э.Абалов'\n",
      " 'Фуюань Лю' 'Тони Маршал' 'Лори Фельдман Сантоликвидо'\n",
      " 'Феликс Фуксштайнер, Катарина Шёде' 'Майкл Даус' 'Д.Вятич-Бережных'\n",
      " 'Ю.Солнцева' 'Э.Никогосян (псевдоним А.Конст)'\n",
      " 'Даэ Джонг, Томек Дуки, Поль Кабон, Нино Кристен, Грег Маклеод, Энди Мартин, Николас Менар, Жанетт Перльман, Мики Плиз, Руне и Эсбен Фискер, Масанобу Хираока, Алан Холли'\n",
      " 'Билл Плимтон' 'Барри Левинсон' 'Уильям Дикерсон' 'Алистер Сиддонс'\n",
      " 'С.Пучинян' 'Дени Аркан' 'С.Попов' 'Вич Каосаянанда' 'Михаэль Р.Роскам'\n",
      " 'Виктор Гарсия' 'Д.Месхиев' 'Соул Свиммер' 'Мигель Артета'\n",
      " 'Джон Бруно, Рэй Квинт, Эндрю Уайт' 'Беннетт Миллер' 'Том Харпер'\n",
      " 'В.Щегольков' 'Л.Квинихидзе' 'П.Санаев, Ф.Коршунов' 'Лиэнн Пули'\n",
      " 'Дороти Себба' 'Э.Бочаров' 'Л.Трауберг' 'Эрик Ван Лой' 'Эри Сандел'\n",
      " 'Фанг Лей' 'Хорхе Гутьеррес' 'Ян Хафт' 'М.Косырев-Нестеров'\n",
      " 'Н.Сутырин, М.Кулунаков, А.Бильжо, А.Першин, И.Каргинова, О.Михеева'\n",
      " 'Е.Клейнот (псевдоним Любовь Андреева)' 'Уилл Глак'\n",
      " 'Оливье Накаш, Эрик Толедано' 'Даниэль Бенмаур'\n",
      " 'Мари-Кастиль Менсьон-Шаар' 'Надав Ширман'\n",
      " 'И.Короткий, А.Маслов, С.Буров, Е.Устюгова, А.Шульев'\n",
      " 'А.Зингерман, А.Соколов, И.Евланникова, Д.Червяцов, Е.Салабай, А.Миронов и др.'\n",
      " 'Аллан Голдстайн' 'Брайан А.Миллер' 'К.Поплавский'\n",
      " 'Пол Тиббит, Майк Митчелл' 'А.Мельник'\n",
      " 'В.Панжев, Е.Соколов, А.Щеглов, Г.Курлаев, Н.Репина и др.' 'А.Молочник'\n",
      " 'Ю.Кара' 'Мона Ашаш' 'Нил МакГрегор' 'К.Сухарьков' 'Казуаки Кирия'\n",
      " 'Брайан Пойсер' 'Ярослав Губченко' 'Александр Потехин' 'Триш Си'\n",
      " 'Питер Богданович'\n",
      " 'Тибо Дуран, Даина Пападаки, Пьер Амстудс Рох, Владимир Тагик, Оскар Шарп'\n",
      " 'Тим Элбери' 'Таика Вайтити, Джемейн Клемент' 'Б.Грачевский'\n",
      " 'Хуан Хосе Кампанелла' 'Флоран Сири' 'В.Демент'\n",
      " 'Е.Салабай, А.Рубецкой, В.Воля, Е.Головин, А.Соколов, В.Бедошвили, Д.Червяцов'\n",
      " 'Ли Толанд Кригер' 'Ф.Абрютин' 'Джордж Тильман младший' 'Юфенг Сонг'\n",
      " 'Дэвид Гелб' 'Дон МакКеллар' 'Дэвид Хэйтер' 'Одри Дана'\n",
      " \"Майкл Д'Иса-Хоган\" 'Бен Уитли   ' 'Нури Бильге Джейлан' 'Брайан Хориути'\n",
      " 'Гари Шор' 'Пупи Авати' 'Ричард ЛаГравенес' 'Пол Солет' 'Т.Воронецкая'\n",
      " 'Кристиан Диттер' 'Дэмьен Шазелл' 'Алекс Стадерманн' 'Генри Бедуэлл'\n",
      " 'Кристиан Де Вита' 'Пол Хаггис' 'М.Бальчюнас' 'А.Звягинцев'\n",
      " 'С.Дахин, П.Духовской' 'Е.Грибов' 'Серджо Бассо' 'Илай Рот'\n",
      " 'Вэй Кеунг Лау, Эндрю Лу' 'Дэвид Юнг' 'Энтони Стакки, Грэхэм Эннэйбл'\n",
      " 'Филиппе Мартинес' 'А.Яхнис, М.Кричман' 'П.Костомаров, А.Расторгуев'\n",
      " 'Пер Флю' 'Ганс Петтер Моланд' 'Мак Картер' 'И.Маслюков'\n",
      " 'Николаус Ленхофф' 'Грачья Кешишян' 'Люк Гринфилд' 'Уэс Болл'\n",
      " 'И.Котельников' 'В.Бродский' 'Азия Ардженто' 'И.Твердовский'\n",
      " 'Ф.Махмутов (псевдоним Фанис Камал)' 'Мартин Уильямс' 'Оливье Ассаяс'\n",
      " 'Джастин Бенсон, Грегг Бишоп, Начо Вигалондо, Тодд Линкольн, Аарон Мурхед, Марсель Сармиенто'\n",
      " 'Леван Когуашвили' 'Дэн Сан Пьер, Уилл Финн' 'Илмар Рааг' 'Зоя Ахтар'\n",
      " 'Энтони Сильверстон' 'Джейк Касдан' 'Джон Эрик Даудл' 'Филипп де Шоврон'\n",
      " 'Жером Салль' 'Джонатан Глейзер' 'Зак Брафф' 'Джон Р.Леонетти'\n",
      " 'А.Розенберг' 'Г.Параджанов' 'Э.Архангельская, М.Пандурски'\n",
      " 'А.Килин, С.Потапов' 'К.Шипенко'\n",
      " 'Е. Махнутин (псевдоним - Евгений Юматов)' 'Н.Сайфуллаева' 'Макс Николс'\n",
      " 'Б.Волчек' 'Джонатан Кент' 'Стивен Куэйл' 'Бен Нотт, Морган О.Нил'\n",
      " 'Джеймс Ганн' 'Роберт Ганнэвей' 'Лассе Халстром' 'Д.Елеонский'\n",
      " 'Р.Шаляпин' 'А.Григорян' 'С.Никоненко' 'В.Толкачиков' 'И.Анненский'\n",
      " 'В.Немоляев' 'Д.Васильев' 'Ю.Даниялов' 'Г.Мелконян' 'А.Столбов' 'Ю.Быков'\n",
      " 'Амат Эскаланте' 'Питер Стрикленд, Ник Фентон' 'Хорхе С.Дорадо'\n",
      " 'Линн Шелтон' 'Николас Бенаму, Филипп Лашо'\n",
      " 'Фрэнк Миллер, Роберт Родригес' 'Сакет Чаудхари' 'Б.Токарев, Л.Гладунко'\n",
      " 'Биргер Ларсен' 'Фред Скеписи' 'Крис Уильямс, Дон Холл'\n",
      " 'Дмитрий Черняков' 'Хэмиш Гамильтон' 'Жан-Люк Годар' 'М.Калатозов'\n",
      " 'А.Муратов' 'Жан-Пьер Жёне' 'Мелани Лоран'\n",
      " 'Мираэ Мицуэ, Петрос Сильвестрос, Билли Ройз, Фридрих Шлайх, Алекс Уинклер, Йонг Ю Ми, Элке Гроэн, Кристиан Нойбаухер'\n",
      " 'Джон Ридли' 'Роджер Дональдсон' 'Клаудио Фах' 'Е.Баранов.  '\n",
      " 'Жауме Балагуэро' 'Винсент Чжоу' 'Э.Гаврилов' 'В.Лонской' 'А.Ладынин'\n",
      " 'М.Рык' 'А.Панкратов-Черный' 'Антон Корбайн' 'Стэнли Юнг'\n",
      " 'Жуанра Фернандез' 'Мишель Дэннер' 'Кристиан Е. Кристиансен'\n",
      " 'Бенедикт Эрлингссон'\n",
      " 'И.Белостоцкий, Р.Фрунтов, А.Зеленков, Е.Юликов, С.Морозов, А.Щеглов, Г.Курлаев и др.'\n",
      " 'П.Фетисов' 'Х.Бакаев' 'Марко Пьянджиани' 'М.Медведь'\n",
      " 'Джереми Джонс, Стив Джонс, Тодд Джонс' 'Дэни Бун' 'Винко Брешан'\n",
      " 'А.Кончаловский' 'Дэниэл Шехтер' 'Е.Татаров' 'Скот Армстронг'\n",
      " 'Лоран Пелли' 'Джованни Веронези' 'Энтони Фукуа' 'Питер Муллан'\n",
      " 'Пол Кинг' 'Руперт Уайатт' 'Дин Израэлайт' 'Ю.Фетинг'\n",
      " 'Гленн Фикарра, Джон Рекуа' 'Лана Вачовски, Энди Вачовски'\n",
      " 'Дженнифер Кент' 'Серджо Манфио' 'Дамиан Шифрон' 'Мэттью Вон'\n",
      " 'Сэм Тейлор-Джонсон' 'А.Котт' 'Андреас Прохазка' 'Инджинио Страффи'\n",
      " 'Динг Лианг, Фуюан Лиу'\n",
      " 'Иссара Нади, Кирати Нак-Интанон, Путипонг Сайсрикаев' 'А.Кордон'\n",
      " 'А.Захаров' 'Т.Березанцева'\n",
      " 'Шейн Аткинсон, Питер Бауман, Парк Дже Ин, Реми Каяла, Эрик Киссак, Петра Лючков, Нильс Хедигер'\n",
      " 'Мирослав Слабошпицкий' 'Корнель Мундруцо' 'Фатих Акин' 'А.Меликян'\n",
      " 'Вик Армстронг' 'И.Ковалев' 'Б.Метальников' 'А.Хамраев'\n",
      " 'Е.Зильберштейн, А.Дудоров' 'М.Янчо' 'Э.Шуб, А.Фролов'\n",
      " 'Б.Жамьянгийн, А.Бобровский' 'Уолт Бекер' 'В.Харченко, А.Волков'\n",
      " 'А.А.Эшпай' 'М.Захариас' 'В.Пономарёв, А.Миронов, Е.Салабай, И.Пшонкин'\n",
      " 'И.Чижиков, А.Чижиков'\n",
      " 'С.Самошина, Н.Тамаров, П.Руминов, В.Санду, К.Плетнёв' 'Джафар Панахи'\n",
      " 'Алекс Гибни' 'Эрик Инглэнд' 'Остин Старк' 'Ули Эдель' 'А.Адраникян'\n",
      " 'Митчелл Алтери' 'Джастин Стил' 'А.Андрианов'\n",
      " 'В.Пономарёв, А.Миронов, Е.Салабай, В.Бедошвили и др.' 'А.Романец'\n",
      " 'Э.Шенгелая, Ф.Ибрагимбеков, при участии Т.Бутикашвили' 'Нанни Моретти'\n",
      " 'Тед Гейган' 'Даниэль Бурман'\n",
      " 'Виола Байер, Стефан Берман, Мэрайке Блау, Йорис Опринс, Пол Плобергер, Жан-Батист Пуйю, Йюст Раймерс, Йоб Роггевен, Эрик Шмит, Бен Эстон'\n",
      " 'Е.Салабай, Е.Шабанова  И.Пшонкин и др.'\n",
      " 'Л.Шмурьева (псевдоним Лика Алексеева)' 'Э.Манжеева'\n",
      " 'В.Елина, Ю.Кошкина, К.Макаренков, С.Юдаков, Т.Игуменцева'\n",
      " 'Седрик Хименес' 'Д.Нейдманд' 'А.Калинкин'\n",
      " 'Алик Моухибян, Герин Хованнисян' 'Джеймс Моран' 'Кайл Ньюман'\n",
      " 'Энн Флетчер' 'Пит Доктер, Роналдо Вуд Кармен' 'Джулиан Джаррольд'\n",
      " 'Альфредо Монтеро' 'Кэт Кэндлер' 'Пьер Морель' 'Карлос Маркус-Марсет'\n",
      " 'Энрико Кастильоне' 'Джошуа Оппенхаймер, Кристина Синн'\n",
      " 'Лиза Иммордино Врилэнд, Бент-Йорген Перлмутт, Фридерик Ченг'\n",
      " 'Дэвид Роберт Митчелл' 'Алан Тэйлор' 'А.Берденников' 'Жако ван Дормель'\n",
      " 'К.Денё, Х.Дюмулайн, А.Кардона, Т.Мекинс, Д.Фини, М.Фонтан-РОсси, Л.Хадсон'\n",
      " 'Джош Форбс' 'Е.Константинова (псевдоним Алена Званцева)' 'В.Орёл'\n",
      " 'Давид Лево' 'Колин Фей' 'Риад Саттуф' 'А.Коручеков' ' Р.Асхаев'\n",
      " 'Одед Биннун, Михаль Брезис, Мат Кирби,  Майкл Леннокс, Талкон Хамзави'\n",
      " 'Марике Блау, Дэйзи Джейкобс, Глен Кин, Роберт Кондо, Торилл Коув, Йорис Опринс, Патрик Осборн, Билл Плимптон, Йоб Роггевен, Даизуке Цуцуми'\n",
      " 'Грегори Джейкобс' 'Н.Джорджадзе, В.Игнатьев'\n",
      " 'В.Пономарёв, А.Миронов, А.Колпин, А.Толкалин и др.' 'Скотт Купер'\n",
      " 'Ф.Дмитриев' 'Д.Штурманова' 'А.Аравин, А.Прошкин' 'К.Ангелина'\n",
      " 'Стефано Лоренци' 'В.Хотиненко' 'В.Штерянов при участии Е.Немых'\n",
      " 'Е.Салабай, Е.Шабанова, А.Миронов, А.Толстобров, В.Мухаметзянов'\n",
      " 'С.Комаров, О.Асадулин' 'О.Бондарев при участии В.Чеботарева'\n",
      " 'Ю.Озеров, С.Гуров' 'С.Урусевский' 'В.Петров' 'С.Эйзенштейна'\n",
      " 'З.Аграненко' 'С.Юткевич' 'О.Ремизов' 'Б.Бушмелев' 'В.Азаров, Н.Досталь'\n",
      " 'В.Максаков' 'А.Пархоменко' 'Джордж Миллер' 'И.Северов' 'Джулиус Эйвери'\n",
      " 'Джош Лоусон' 'Р.Д. Браунштейн' 'Ялмари Хеландер'\n",
      " 'А.Ананикян, В.Рейнгеверц'\n",
      " 'Е.Салабай, Е.Шабанова, А.Соколов, И.Пшонкин и др.' 'К.Белевич'\n",
      " 'В.Крючков' 'И.Пшонкин, М.Ершов, А.Миронов и др.' 'Джил Кинан' 'М.Капля'\n",
      " 'Д.Чернов' 'Элизабет Бэнкс' 'Кайл Балда, Пьер Соффин' 'Петер Торварт'\n",
      " 'Цунэо Кобаяси' 'Маркус Ниспел' 'Жамель Деббуз' 'Ли Уоннелл' 'Брэд Бёрд'\n",
      " 'Ник Саймон' 'А.Темников' 'Анн Фонтен'\n",
      " 'И.Пшонкин, Е.Салабай, А.Миронов, А.Толстобров, В.Мухаметзянов'\n",
      " 'Адам Робител' 'Тоби Генкель, Шон МакКормак' 'Норберт Хайткер'\n",
      " 'И.Перекатов' 'Р.Ильясов' 'С.Пускепалис' 'Джейк Шрейер'\n",
      " 'Трейвис Клафф, Крис Лофинг' 'Карл Тордж' 'М. Найт Шьямалан'\n",
      " 'М. Абрамов, Ж. Анноккии, М. Дансембург, Д. Кларк, Л. де Кон, В. Мавония-Койка, К.Б. Рафаэль, Л.Стюарт, Б. Тондер'\n",
      " 'М.Фадеев' 'Джонатан Голдстейн, Джон Фрэнсис Дейли' 'Ма Юань, Донь Да Ке'\n",
      " 'Лора Пойтрас' 'Лео Габриадзе' 'Жан-Франсуа Рише' 'Пейтон Рид'\n",
      " 'Антуан Бардо-Жаке' 'Седрик Анже' 'Губерт Вайланд, Нина Вельс'\n",
      " 'Джошуа Трэнк' 'Стефан Либерски' 'Тадонг Пак, Маурисио Де ла Орта '\n",
      " 'Александр Бах' 'Халлвард Браэин' 'А.Чукарев' 'В.Рощин' 'А.Грицаенко'\n",
      " 'В.Пономарёв, А.Миронов, Е.Салабай и др.'\n",
      " 'Рикардо Арнаиз, Рауль Гарсиа, Майк Кункель' 'Азиф Кападиа'\n",
      " 'Маржан Сатрапи' 'Джон Копли' 'Тарсем Сингх' 'Баран Бо Одар'\n",
      " 'Яннис Смарагдис' 'Томм Мур' 'Синдзи Хигути' 'Ёлкин Туйчиев'\n",
      " 'Дэвид Маккензи' 'Макс Джозеф'\n",
      " 'М.Ксейбати, И.Лопез, Э.Лоурич, К.М.Сабер, К.О.Тул,  Р.Серри, Р.Тьюннард, М.Энгламайр'\n",
      " 'Петер Штайн' 'Д.Зинченко' 'Н.Кудряшова' 'Д.Лазарев, С.Антонов'\n",
      " 'Г.Нуриманов' 'Нэнси Мейерс'\n",
      " 'В.Пономарёв, А.Миронов, Е.Салабай, А.Хачатурян, Е.Чернова, А.Бахурин'\n",
      " 'Жан-Батист Леонетти ' 'Дана Браун' 'Себастьян Шиппер' 'Роланд Жоффе'\n",
      " 'Елена Аршакян' 'Е.Хазанова' 'Р.Гарифуллин' 'Д.Кузьмин' 'Ю.Грымов'\n",
      " 'Рон Скальпелло' 'Э.Оганесян' 'О.Смольников'\n",
      " 'Р.Гигинеишвили, К.Оганисян, Р.Прыгунов' 'Стив Карр' 'Дэн Гилрой'\n",
      " 'Рой Андерссон' 'Том Грин' 'Майк ван Дим' 'Тони МакНамара'\n",
      " 'В.Пономарёв, А.Миронов, Е.Салабай, Н.Мальгина' 'Гейб Польски'\n",
      " 'Джонатан Демме' 'И.Джендубаев' 'А.Першин (псевдоним Ж.Крыжовников)'\n",
      " 'Тристан Паттерсон' 'Жослин Таун, Саймон Хелберг' 'Дэниел Альфредсон'\n",
      " 'Йуис Килес' 'Дэн Фогельман' 'Райан Гослинг' 'Виктор Левин' 'Т.Зубова'\n",
      " 'Андре Сингер' 'Андреа Ди Стефано' 'Кэри Мёрнион, Джонатан Милотт'\n",
      " 'Дэниэль Эспиноса' 'Ю.Попович' 'Адриан Биньес' 'Рубен Эстлунд'\n",
      " 'А.Шелехов (псевдоним Александр Шелл)' 'Дэвид С.Гойер' 'Джеймс Кент'\n",
      " 'Пол Фиг' 'Бенуа Филиппон, Алесандр Эбоян' 'Джон Фулджеймс'\n",
      " 'хореография Фредерика Аштона' 'Исаак Федер' 'Брайан Хелгеленд'\n",
      " 'Мэттью Уорчас' 'Джоэл Эдгертон' 'Эрве Мимран, Жеральдин Накаш'\n",
      " 'Алехандро Хидальго'\n",
      " 'Филипп Амио, Филипп Беллимар, Мартин Брукс, Диего Виванко, Ниниан Доф, Йан Кларк, Морган Кранц, Рас Леморо, Барри Джин Мерфи, Балазс Патаки, Дин Саффрон, Грег Хаккет, Рейчел Хардинг, Стефан Хенель, Стефан Шотт'\n",
      " 'К.Сафина, А.Першин, Г.Добрыгин, О.Михеева, К.Плетнев'\n",
      " 'С.Антонов, С.Подивилов, В.Стрельченко, Ю.Пронин' 'Б.Терекбаев'\n",
      " 'Стив Бокс, Ник Парк' 'Юнг Куюн Парк' 'Пабло Фендрик' 'Энди Годдар'\n",
      " 'П.Буслов' 'Арнольд Гискин' 'Дениз Гамзе Эргювен' 'Кристофер Лэндон'\n",
      " 'Грегори Плоткин' 'Брек Эйснер' 'Киран Фой' 'Э.Бордуков' 'А.Миндадзе'\n",
      " 'А.Нужный' 'Джэймс Кэмерон' 'Джулиано Никколо Лигабуэ, Марко Раффаини'\n",
      " 'Жоанн Сфар'\n",
      " 'Габриэль Рива Паласио Алатристе, Родольфо Рива Паласио Алатристе'\n",
      " 'Джон Ву' 'Ф.Гэри Грей' 'Л.Густаво Купер' 'А.Петрухин' 'Штефан Кромер'\n",
      " \"Джонни О'Райлли\" 'А.Балахонов'\n",
      " 'В.Мухаметзянов, В.Пономарёв, А.Миронов, Е.Салабай' 'С Чекалов'\n",
      " 'Арман Марутян, Ваагн Хачатрян' 'Рето Салимбени' 'Милчо Манчевски'\n",
      " 'Вим Вендерс, Джулиано Рибейру Сальгаду' 'В.Угличин' 'А.Агаджанян'\n",
      " 'Шон Патрик О.Рейли' 'О.Ланд' 'А.Галибин'\n",
      " 'Е.Салабай, В.Пономарёв, А.Миронов, И.Пшонкин, А.Рубецкой, Н.Харина, Е.Чернова, А.Бахурин, О.Ужинов'\n",
      " 'И.Кордзаия' 'В.Пономарев, А.Миронов, Е.Салабай' 'Масахико Мурата'\n",
      " 'Хаято Датэ' 'А.Анненский' 'Мартин Бурбулон' 'Тинатаин Каджришвили'\n",
      " 'Стивен С.Кампанелли' 'Марк Невелдайн'\n",
      " 'В.Пономарёв, А.Миронов, Е.Салабай' 'Дуг Эллин' 'Родни Эшер'\n",
      " 'Терри Джонс' 'Джастин Курзель' 'Деннис Виллануэве' 'Питер Сон'\n",
      " 'Альберт Майзелс' 'Е.Салабай, А.Миронов, Е.Головин, А.Борисова и др.'\n",
      " 'С.Хажироко' 'Л.Трофимова, А.Курганская' 'Билли Рэй' 'Дамон Гамо'\n",
      " 'Рене Фере' 'Симон Ферхоэвен' 'Адам Шиндлер' 'Антон Корбейн'\n",
      " 'Тиан Сяо Пенг' 'Д.Изместьев' 'Г.Куценко (Ю.Куценко)' 'Тим Миллер'\n",
      " 'Корин Харди' 'Кент Джонс' 'С.Мирошниченко'\n",
      " 'А.Миронов, Е.Головин, Р.Верещак и др.' 'Флориан Галленбергер'\n",
      " 'Афонсо Пойарт' 'Том Коркоран' 'Е.Сергеев' 'Фернандо Гонзалез Молина'\n",
      " 'В.Павлов' 'Е.Перволовичи'\n",
      " 'А.Миронов, Е.Головин, Е.Савчук, Р.Верещак и др.' 'Джей Роуч'\n",
      " 'К.Дружинин, А.Шальопа' 'Рич Мур, Байрон Ховард' 'Майвенн Ле Беско'\n",
      " 'Билл Кондон ' 'Пабло Троперо' 'Бен Блейн, Крис Блейн'\n",
      " 'А.Рубинштейн, А.Ким, М.Воскобоев, Н.Беляускене'\n",
      " 'А.Миронов, Е.Головин, Р.Верещак, Е.Салабай, В.Бедошвили, Е. Чернова, А.Бахурин, А.Соколов'\n",
      " 'М.Шевчук' 'В.Ровенский' 'И.Волкова' 'Жан-Поль Раппно' 'Б.Гуц'\n",
      " 'Артур Делер, Квентин Рейно'\n",
      " 'Фузаль Булифа, Маркус Лехмусусс, Майкл Мохан, Фульвио Резулио, Маша Халберстад'\n",
      " 'Вильям Де Витал' 'А.Дамскер' 'Эмили Янг' 'Е.Шелякин'\n",
      " 'Владислав Байрамгулов' 'Брэдли Кинг' 'Акош Барноцкий'\n",
      " 'М.Волков, А.Галат, В.Николаев' 'Луи Гаррель' 'Росс Венокур'\n",
      " 'Ласло Немеш' 'Йоаким Триер' 'Т.Воронецкая, Д.Сергин' 'И.Триф'\n",
      " 'Наталья Мальгина' 'Тоби Бауманн' 'Клэй Кейтис, Фергал Рейли'\n",
      " 'Т.Эверестова' 'Джон Лойд' 'С.Снежкин' 'Джерика Клилэнд, Кевин Манро'\n",
      " 'Лука Лучини' 'Теренс Дэвис' 'Тим Стори'\n",
      " 'А.Демин, Р.Синкевич, Н.Березовая, О.Ужинов и др.' 'Роман Мушегян'\n",
      " 'Мэттью Барни' 'Питер Соллетт' 'Рошди Зем'\n",
      " 'Сара Адина, Энтони Скотт Бёрнс, Кевин Колш, Николас МакКарти, Адам Иджипт Мортимер, Кевин Смит, Скотт Чарльз Стюарт, Деннис Уидмайер, Гари Шор'\n",
      " 'Стефан Бризе' 'Клаудио Уберти' 'Ижинио Страффи'\n",
      " 'Бенуа Делепин, Гюстав Керверн' 'Джоди Фостер' 'О.Семёнова' 'Тревор Уолл'\n",
      " 'П.Бар, К.Баркер, К.Бронзит, М.Демаре,  Ю.Жан, Ж.Журдан, П.-Б.Марти,  Г.Осорио, С.Патэль, М.Пилье, Б.Плимптон, Ж.Робин,  К.Роже, Ж.Солер, Н.Филан, Н.Форнер,  Д.Херцфельд, К.Ше'\n",
      " 'Седрик Николя-Троян' 'А.Амиров' 'И.Найтшуллер' 'Вано Бурдули'\n",
      " 'Т.Сличенко' 'Жан-Мари Пуаре' 'Майкл Мэдсен' 'А.Давыдова' 'К.Геворкян'\n",
      " 'Е.Данченко' 'Т.Мамедов' 'Ю.Сысоев, В.Мистюков, К.Тищенко'\n",
      " 'Алессандро Карлони, Дженнифер Ю' 'Георгий Варсимашвили'\n",
      " 'Ник Рид, сорежиссер Марк Франкетти' 'Зося (София) Родкевич'\n",
      " 'Ким Фаррант' 'Дэн Трактенберг' 'Р.Артемьев' 'Роберт Карлайл'\n",
      " 'Дэвид Фейсс' 'Тео Пирри' 'А.Матисон' 'Иван Джерголет' 'Стефано Инчерти'\n",
      " 'Роландо Равелло' 'Давиде Феррарио' 'Пьетро Паролин'\n",
      " 'Гуэндалина Дзампаньи'\n",
      " 'Татьяна Данильянц, Джанфранко Панноне, Диего Ченетьемпо'\n",
      " 'Робин Верет, Дмитрий Гочгарян, Тиль Новак, Росто, Корали Фарго, Патрисия Фонт, Дэн Хогсон, Янгци Ши'\n",
      " 'Р.Артемьев, Г.Суханова, А.Маслов, И.Максимов, Н.Тамаров, А.Нужный'\n",
      " 'С.Кравцова, А.Калин, Е.Чернова и др.' 'Ксавье Джанноли' 'Росс Кац'\n",
      " 'Н.Кудряшов' 'Н.Мубинов, А.Чернова, С.Горя, А.Черногоров и др.'\n",
      " 'У.Бош, М.Данкер, Л.Индовина, К.Кэхилл, Р.Люкер, Б.Магнотье, Э.Маргетсон, Т.Эльрих'\n",
      " 'Сюзанна Уайт' 'Дункан Джонс' 'Т.Саакян' 'А.Красовский'\n",
      " 'Джеймс Нанн, Ронни Томпсон' 'Джонатан Силвермен, Дженнифер Финниган'\n",
      " 'Лука Гуаданьино' 'Дэйв Грин' 'Г.Проценко' 'О.Столповская' 'Скотт Манн'\n",
      " 'В.Харьков' 'А.Русланова (псевдоним - Саша Франк)'\n",
      " 'Винсент Кестелут, Бен Стассен' 'Мадс Маттисен' 'А.Китайцев'\n",
      " 'Луи Летеррье'\n",
      " 'Г.Дюкарев, А.Рубинштейн, А.Ким, М.Воскобоев, Н.Беляускене'\n",
      " 'Алис Винокур' 'Бенжамин Роше' 'Александр Сокуров'\n",
      " 'А.Андризани, А.Бардани, В.Карнелутти, Ф.Коста,  Г.С.Нардис, В.Пальмьери, В.Чеа, А.Юлиано '\n",
      " 'Ф.Ало, Д.Баккер, Э.Креси, К.Рот, Д.Рэймерс, С.Тэйлор-Джонсон, Л.Уплэйн, Х.М.Фазели, Ч.Ч.Ким, Э.Эйнхорн, П.Эмерсон'\n",
      " 'М.Валто, А.Диксон,  Ж.Крыжовников, Д.Ласу, Т.Лесурд, Д.Оду, М.Пелисиоли, Б.Плимптон, А.Тонен, Л.Фирод'\n",
      " 'Дани де ла Орден' 'Декстер Флетчер' 'А.Кириенко' 'Кан Евренол'\n",
      " 'Гэрри Маршалл' 'Лиза Джонсон' 'Атом Эгоян' 'Майкл Дж.Сарна' 'Элай Рот'\n",
      " 'П.Ливолси,Э.Моргетсон, К.Рейнер, Р.Русенс, Я.Русенс, Д.Ходжсон, Б.Шоу'\n",
      " 'В.Лакисов' 'П.Воллрат, Д.Донахьюм, Б.Клеари, Б.Халил, Г.Хугхеш'\n",
      " 'Отар Иоселиани' 'Д.Суворов' 'Алекс ван Вармердам' 'Клаудиа Майерс'\n",
      " 'Луи Симон' 'Артур Бензакен' 'О.Субботина' 'Джейсон Зада' 'Ю.Белюсева'\n",
      " 'И.Угольников' 'В.Бек' 'Люка Бельво'\n",
      " 'Е.Салабай, В.Пономарёв, А.Миронов, Е.Головин, А.Бахурин' 'Майкл Догерти'\n",
      " 'В.Сигарев' 'Эндрю Хэй' 'Карлос Саура' 'А.Коваленко' 'Стив Мартино'\n",
      " 'Грен Уэллс' 'Т.Харкевич' 'М.Кравченко'\n",
      " 'М.Вартанян, Е.Головин, А.Миронов, О.Шепляков, А.Борисова, Е.Шабанова'\n",
      " 'Хидео Наката' 'Кевин Гетц, Майкл Гетц' 'Эли Важеман' 'Бёрр Стирс'\n",
      " 'Алекс Пройас' 'С.Эйзенштейн, Д.Васильев'\n",
      " 'Г.Мыльников, Б.Токарев, А.Сиренко' 'Эндрю Морган' 'А.Томашевский'\n",
      " 'Е.Салабай, Р.Верещак, Е.Головин, А.Миронов, Е.Савчук, Р.Газизов, Е.Шабанова'\n",
      " 'А.Миронов, К.Кравченко, Е.Головин, Е.Савчук, А.Соколов, Р.Верещак, Е.Салабай'\n",
      " 'Д.Шмидт' 'Р.Сафин' 'Марко Беллоккио' 'А.Михалков'\n",
      " 'А.Миронов, Е.Головин, Е.Савчук, Р.Верещак, Е.Салабай, Е.Чернова, А.Бахурин'\n",
      " 'Джон Краули' 'Р.Волобуев' 'Райан Куглер'\n",
      " 'Г.Курлаев, В.Панжев, Е.Соколов, С.Морозов и др.' 'Джей Блейксон'\n",
      " 'Крэйг Гиллеспи' 'Уилл Кэнон' 'С. Крэйг Залер' 'Оуэн Харрис'\n",
      " 'Георгий Орлов' 'Роб Леттерман' 'Н.Степанова при участии С.Иванова'\n",
      " 'Андрей Беляев' 'Стивен С.Миллер' 'Н.Бондарчук' 'А.Майовер, Д.Крылова'\n",
      " 'Т.М.Райвс' 'Алехандро Аменабар' 'А.Соколов' 'Раман Хюи' 'Джесси Нельсон'\n",
      " 'Лука Виотто' 'Эриксон Кор' 'Франсуа Бриссон, Жан-Франсуа Пуле'\n",
      " 'Марк Осборн' 'А.Миронов, Р.Верещак, А.Грибков, А.Соколов и др.'\n",
      " 'М.Михайлова' 'Хулио Медем' 'Джон Маклин' 'Элла Лемхаген' 'Дэвид Листер'\n",
      " 'С.Соколов' 'Дж.П. Сниадецки' 'Хонгки Ли, Монс Монссон' 'Дэвид О.Рассел'\n",
      " 'Маттиас Олоф Эйх'\n",
      " 'У.Грайнер, Д.Гротелл, Г.Мендеш, М.Ситер, А.Халискиас,  Ж.Хосмалин'\n",
      " 'Р.Светлов, И.Магитон, А.Арутюнян, Л.Мирский, А.Зеленков, М.Сулейманова и др. '\n",
      " 'Том МакКарти' 'Марк Дакаскос' 'Динг Лианг, Фуюань Лью' 'Тодд Хейнс'\n",
      " \"Гэвин О'Коннор\" 'Э.Бостан' 'О.Бондарев' 'Л.Сааков'\n",
      " 'А.Смирнов, Л.Шепитько' 'М.Левитин мл.' 'Б.Яшин' 'И.Болотников'\n",
      " 'Кодзи Шираиши' 'Дин Тейлор, Ноэль Клири и др.' 'Дрейк Доримус'\n",
      " 'Феде Альварес' 'Е.Соколов, Е.Морозова, В.Панжев, Г.Курлаев и др.'\n",
      " 'Трэвис Найт' 'Уолт Дорн, Майк Митчелл' 'Александр Высоковский'\n",
      " 'Джаред Хесс' 'Нельсон Шин' 'Е.Кравченко' 'А.Федотов' 'Д.Наумов'\n",
      " 'Д.Кубасов' 'Карадог В. Джеймс'\n",
      " 'О.Арнольд, Р.Базерк, Д.Ларзильер, А.Ронберг, Д.Уайт, Д.Хартл    '\n",
      " 'Том МакГрат' 'Кеннет Лонерган' 'Даниэль Эспиноса' 'Келли Эсбери'\n",
      " 'А.Абидова (псевдоним Аниса Сабири)' 'Аарон Вудли' 'Стелла Меги'\n",
      " 'Колм МакКарти' 'Алиса Хазанова' 'Е.Живайкина, А.Костогарова'\n",
      " 'Жюли Дельпи' 'Кюнг Хо Ли, Вонджа Ли' 'Д.Киселев'\n",
      " 'Петер Бросенс, Джессика Хоуп Вудворт' 'И.Шахназаров' 'Ник Сандов'\n",
      " 'И.Каграманов, А.Наумов, С.Осипьян, В.Валиуллин, Е.Бродач, К.Васильев'\n",
      " 'Кристиан Сесма' 'Сирил Барбанкон, Энди Биатт, Жаклин Фармер'\n",
      " 'Александр Ажа' 'Грег МакГилливрэй' 'Мел Гибсон' 'Кайжайр Акопян'\n",
      " 'Люсиль Адзиалилович' 'Люк Бонди' 'Паоло Дженовезе' 'Ф.Хавьер Гутьеррес'\n",
      " 'Дито Монтиель' 'Эдуард Баэр'\n",
      " 'Роксан Бенджамин, Дэвид Брукнер, Патрик Хорват, Рэдио Сайленс'\n",
      " 'Эван Трэмал' 'Ри Руссо-Янг' 'Сильви Веред' 'Джордан Вогг-Робертс'\n",
      " 'Стивен Гейган' 'И.Учитель' 'Даниэль Альфредсон' 'Джанфранко Рози'\n",
      " 'Джослин Мурхаус' 'Деклан Дэйл' 'Николас Столлер, Даг Суитлэнд'\n",
      " 'Пол Верховен' 'Энди Теннант' 'Маджид Маджиди' 'Джош Гордон, Уилл Спек'\n",
      " 'А.Кравчук' 'Стивен Шейнберг' 'Антон Азаров' 'Эрик Д.Хауэлл' 'В.Мережко'\n",
      " 'Деннис Ганзель'\n",
      " 'М.Плура, С.Макнейр, Э.Люст, О.Парн, П.Парн, Ф.Брак, Т.Сислей, Ж.Патри, Ж.С.Берно, Л.Аркадиас, Ж.Маршан'\n",
      " 'Катерина Кароне' 'Д.Хананов' 'Д.Золототрубов' 'Е.Морозов' 'Манук Депоян'\n",
      " 'Гастон Дюпра, Мариано Кон' 'Стивен Кантор' 'Тоби Генкель, Реза Мемари'\n",
      " 'Н.Меркулова'\n",
      " 'А.Арпеньтеньер, А.Бариларо, М.Бланчес, Р.Валлей, Л.Гранд, Ф.Дион, А.Жасина, Э.Коэтс,  Лу Хаму-Лхад, П.Осборн, Т.Ушев'\n",
      " 'Хатем Храиче' 'Сидней Сибилиа' 'Валентино Пиконе, Сальваторе Фикарра'\n",
      " 'Шон Эллис' 'К.Балагов' 'Гилберт Кинг' 'С.Аксенов' 'Пако Леон'\n",
      " 'Аарон Кауфман' 'Синг-Чунг Фу, Бетти Тэнг' 'Конрад Вернон, Грег Тирнан'\n",
      " 'Робин Суикорд' 'Бальтасар Кормакур' 'Эндрю Стентон, Ангус МакЛэйн'\n",
      " 'Са Ниа' 'Дэвин ДиХэйвен' 'Н.Досталь' 'А.Бильжо'\n",
      " 'Е.Борисова при участии В.Фатьянова' 'Дэвид Лоуэри' 'Е.Чичканов'\n",
      " 'Томохиро Кавамура, Йосихиро Комори' 'Дэвид Кэмпбэлл' 'Хак Ботко'\n",
      " 'Марио Ван Пиблз' 'Брэйди Корбет' 'Джон Клацкевич, Курт Морган' 'А.Хант'\n",
      " 'Пэтти Дженкинс' 'Стивен Хопкинс' 'Пьер Годо' 'Дэн Кван, Дэниэл Шайнерт'\n",
      " 'Теа Шеррок' 'Майк Термайер, Гален Т.Чу' 'Джонатан Кесселман'\n",
      " 'Родриго Гарсия' 'Паскаль Бурдьо' 'Сэм Фридлендер' 'Р.Шульман' 'Д.Таран'\n",
      " 'Том Форд' 'Ди Джей Карузо' 'Николас Бенаму' 'Мартин Кулховен'\n",
      " 'Эрик Саммер, Эрик Уорин' 'Хьюго Желен' 'Марен Аде' 'Энтони Пауэр'\n",
      " 'Шелдон Уилсон' 'С.Гинзбург' 'Хулио Сото Гурпиде' 'М.Демченко'\n",
      " 'Аскар Бисембин' 'Али Замади Ахади' 'Франк Гастамбид'\n",
      " 'С.Азази, Х.Г.Пене, К.Дик, Т. вон Гюнтен ' 'Кристобаль Крузен'\n",
      " 'М.Бэйкер, Д.Е.Брайант, Д.Рондот, Я.Серсар, Д.Спинелли, Ж.Халард,   М.Эмануэлли, Х.Эмануэлли'\n",
      " 'Т.Эсадзе' 'А.Ильин' 'Саймон Эбауд' 'Марта Гёрджи-Кесслер, Адам Пенни'\n",
      " 'Д.Адар, П.Антохин, М.Биасин, А.Бурунова, К.Колинз, К.Россет, Д.Эверет'\n",
      " 'А.Мурадов' 'Р.Жигалов' 'Ноэми Саглио' 'Дениз Ди Нови' 'Н.Хомерики'\n",
      " 'В.Галкина' 'Джейк Зимански' 'Хайме Колье-Серра' 'Роусон Маршалл Тёрбер'\n",
      " 'Том Денуччи' 'Семёнова О.А.' 'А.Ефремова' 'Стэйси Тайтл' 'Гийом Кане'\n",
      " 'Пол Карри' 'Эш Браннон' 'Филипп Лашо' 'Дэн Израэлит' 'Юхо Куосманен'\n",
      " 'А.Пармас, Н.Кудряшова, А.Гогленкова, Н.Назарова, О.Бычкова, А.Смирнова, Р.Литвинова'\n",
      " 'А.Грачев' 'А.Незлобин' 'В.Алеников' 'Р.Гигинеишвили'\n",
      " 'Г.Орлов, А.Беляев, Н.Мальгина, В.Байрамгулов' 'А.Лукьянчиков, С.Ушаков'\n",
      " 'Джеймс Фоули' 'Йоаким Реннинг, Эспен Сандберг' 'Элинор Коппола'\n",
      " 'Стефани Ди джусто' 'Дени Вильнёв' 'Николь Гарсия' 'Андре Овредал'\n",
      " 'Гэвин Вьесен' 'Рик Барнс, Оливия Неергаарлд-Холм, Джон Нгуйен'\n",
      " 'Эллиот Лестер' 'Фернандо Труэба' 'Стэнли Тун' 'Ники Каро'\n",
      " 'А.Котт, В.Котт, А.Карпиловский, Б.Хлебников' 'И.Евланов' 'Ховард Холл'\n",
      " 'Уит Стиллман' 'Р.Глурджидзе' 'М.Свешников'\n",
      " 'М. ван Айертрик, А.Даниэльсен, Т.Коув, А.Ойя, Й.Рутанен, С.Рутлин, О.И. Салонен,  Й.Тойвоньеми, Г.Энгер'\n",
      " 'Зак Уэдон' 'Фил Горн' 'Эмир Кустурица' 'Джон Гамбург' 'Майкл Грандадж'\n",
      " 'Джефф Цимбалист, Майкл Цимбалист' 'Эндрю Лоэр' 'Синсуке Сато'\n",
      " 'Е.Алексеев, А.Алексеев' 'И.Слабневич' 'Э.Ходжикян, А.Ладынин'\n",
      " 'Д.Васильев, Ю.Райзман' 'Грег Моттола' 'Мигель Анхель Ламата'\n",
      " 'Клод Баррас' 'Мартен Бурбулон' 'Джонатан Мостоу' 'Брайан Фи'\n",
      " 'Лусия Аньелло' 'Николя Бедос' 'Марк Каллен, Робб Каллен' 'Ю.Кулаков'\n",
      " 'И.Перин' 'Т.Столбова' 'А.Оганесян' 'Чан Ань Хунг' 'Ён Сан-хо'\n",
      " 'Тобиас Вебер' 'Роджер Росс Уильямс' 'Джеймс Понсольдт' 'Терри Джордж'\n",
      " 'Майкл Аптед' 'Роберт Легато' 'Пол У.С. Андерсон' 'Джулиан Розефельдт'\n",
      " 'Брайан Гудман' 'Анна Ферстер' 'Джошуа Марстон' 'Кристофер Фитчетт '\n",
      " 'Генри Джуст, Эриель Шульман' 'А.Аббасов' 'Джейсон Момоа' 'Асгар Фархади'\n",
      " 'Стефани Робели' 'Кейт Шортланд' 'Микинори Сакакибара, Кунихико Юяма'\n",
      " 'В.Рудак' 'И.Щербань' 'А.Кузьминых' 'Ю.Суходольский' 'Садык Шер-Нияз'\n",
      " 'Дерек Сиенфрэнс' 'Л.Марголин, С.Андреасян, М.Жерневский'\n",
      " 'Т.Бекмамбетов, И.Джендубаев, А.Котт, А.Шавкеро, В.Перельман, М.Лихачева, Р.Непомнящий'\n",
      " 'Джордан Пил' 'Н.Дрейден' 'Алекс Куртцман' 'Грег МакЛин'\n",
      " 'Джеймс Франко, Памела Романовски' 'Доминик Молль' 'Э.Веливис' 'Джон Мур'\n",
      " 'К.Трофимова' 'М.Кумыков' 'Альберто Родригез' 'В.Тодоровский'\n",
      " 'Маниш Шарма' 'Шон Бирн'\n",
      " 'Ю.Матросова, А.Миронов, С.Ромашкин, Дм. Высоцкий, И.Фаве, А.Алексеев, П.Минченок и др.'\n",
      " 'Крис Маккей' 'Мартен Прово' 'Даррин Линн Боусман'\n",
      " 'Гарт Дженнингс, Кристоф Лоурделет ' 'Гарт Дэвис' 'Акан Сатаев'\n",
      " 'С.Меринов, О.Чернова, Н.Березовая, А.Игнатов' 'С.Рамз' 'И.Стороженко'\n",
      " 'Е.Абраменко' 'В.Мирзоев' 'Лукас Цяо' 'Динг Лианг' 'Ежи Сколимовский'\n",
      " 'Фабио Бонифаччи, Франческо Миччикэ' 'В.Шевельков' 'Б.Доржиев'\n",
      " 'В.Татарский'\n",
      " 'Д.Глисон, Л.Дэвис, П.Жобер,  Б.Саузкомби, О.Уильямс, М.Д..Хелфгот, Д.Хилман, С.Чэн'\n",
      " 'Дженнаро Нунцианте' 'Чхан Ук Пак' 'Люк Скотт' 'И.Мережко' 'А.Симонов'\n",
      " 'В.Фурманов' 'Б.Юсупов, Р.Еникеев' 'Юлиан Радльмайер'\n",
      " 'С.Абрахамс, Ф.Гарсиа-Руис, Р.Лиментани, Т.Розин, Г.Тис, А.Энгель, М.И.Эпштайн'\n",
      " 'Р.Хамдамов' 'А.Лукичев' 'Чан Гуанси, Пэн Фэй' 'Тьерри Фремо'\n",
      " 'А.Журавлева,М.Кузнецова,С.Меринов,А.Дьяков,О.Ужинов,Н.Гребенкина,А.Соколов'\n",
      " 'Х.Стойчев, С.Кулиш' 'Марилу Берри' 'Николас Виндинг Рефн' 'К.Баскакова'\n",
      " 'А.Каурых, С.Охотин' 'Эген Уулу Нурбек' 'Д.Шмидт, Ф.Дмитриев, В.Торопчин'\n",
      " 'Д.Дунаев' 'Ребекка Злотовски' 'А.Бальчев' 'Р.Каргаполов'\n",
      " 'О.Кузовков, И.Трусов, А.Беляев, Н.Мальгина, В.Байрамгулов'\n",
      " 'Даниэль Рагуссис' 'Стюарт Хендлер' 'Юэн МакГрегор' 'Маркус Дэнстон'\n",
      " 'Педро Морелли' 'Шинтаро Шимосава' 'Вим Вендерс' 'А.Созонов' 'А.Касаткин'\n",
      " 'Ф.Коршунов при участии П.Мирзоева' 'Т.Корнев' 'Кен Сэнзел'\n",
      " 'Шэрон Магуайр' 'К.Ратушная' 'Жан-Франсуа Пуле' 'Чарльз Покел'\n",
      " 'Стив Лихтаг' 'Е.Михайлова, И.Максимов' 'Ю.Сапонова' 'Барри Дженкинс'\n",
      " 'Н.Беляускене' 'Бенедикт Эндрюс' 'Кристиан Матысек' 'А.Молочников'\n",
      " 'Т.Воронецкая, А.Богатырев' 'О.Агейчев'\n",
      " 'Кайл Балда, Эрик Гуильон, Пьер Коффан' 'Джон Уоттс' 'Джон Дженкс'\n",
      " 'Кимо Стамбол, Тимо Тьяджанто' 'Игор Биддау' 'Антонио Капуано'\n",
      " 'Марк Уильямс' 'Дэвид Ф.Сэндберг' 'Эндрю Росси' 'Жюстин Трие' 'О.Карас'\n",
      " 'М.Барынин' 'Тод \"Кип\" Уильямс' 'Хосе Майа, Фредерико Пинто'\n",
      " 'Ж.Альберт, М.Кунерт, М.Митник,  Д.Рейниш, М.Ричмонд, Д.Соскин,  В.Стотер, Д.Ходжсон'\n",
      " 'Мари Мадинье' 'Майкл Мур' 'Кенни Янг' 'Каспер Барфоэд' 'Дэвид Френкель'\n",
      " 'Р.Рашитов, С.Сунгатуллин' 'Тед Мелфи' 'Михаэль Дюдок де Вит'\n",
      " 'Пабло Ларраин' 'Ю.Калинина' 'М.Кукушкин, Т.Данн' 'М.Расходников'\n",
      " 'А.Селиверстов' 'А.Шейн' 'А.Васин, Г.Параджанов, О.Бородина'\n",
      " 'Скотт Стюарт' 'С.Ушаков, И.Евланникова' 'А.Грабарь' 'Хаум Коллет-Серра'\n",
      " 'Доминик Сена' 'Э.Назаров' 'А.Попогребский' 'Л.Гладунко' 'Е.Семенов'\n",
      " 'С.Дебижев' 'В.Воробьев' 'Д.Боголепов' 'В.Юркус' 'А.Самохвалов, Б.Ростов'\n",
      " 'Джесс Гордон' 'В.Потапов, Ю.Бердников' 'Валерио Мьели'\n",
      " 'Дин Деблуа, Крис Сендерс' 'Онир' 'Л.Носырев' 'М.Вайсберг' 'Х.Нарлиев'\n",
      " 'Чуан Лу' 'Олатунда Осунсанми' 'Лоне Шерфиг' 'Данте Лам' 'И.Сафаров'\n",
      " 'Г.Михалков, Г.Натансон, В.Сторожева, А.Касаткин, А.Михалков, А.Разенков, Э.Суни и др.'\n",
      " 'Тим Бартон' 'Джон МкТиран, Майкл Крайтон' 'Айван Райтман' 'Уолт Беккер'\n",
      " 'В.Огородников' 'Р.Кубаева, С.Щугарев, Я.Мочалов' 'К.Папакуль'\n",
      " 'Ли Ункрич' 'Кристиан Алварт' 'Брюс Бересфорд' 'Вольфганг Петерсен'\n",
      " 'Спайк Джонз' 'Орен Пели' 'Нэнси Майерс' 'Филипп Нойс' 'Томас Джейн'\n",
      " \"Дэвид О'Расселл\" 'В.Дубровицкий' 'Л.Габриадзе' 'Эрик Бревиг'\n",
      " 'Тошикадзу Нагаэ' 'Хауме Коллет-Серра' 'Джон Уайтселл' 'Айвен Райтман'\n",
      " 'В.Аравин' 'Дэйвид Р.Эллис' 'Дейвид МакНэлли' 'Джо Данте' 'Дэни Леви'\n",
      " 'Е.Кончаловский' 'Том Дей' 'Дональд Шебиб' 'Самуэль Маоз' 'Р.Нугманов'\n",
      " 'Джеймс Кэмерон' 'Бетти Томас' 'Мира Наир' 'Марк Лоуренс' 'Хойт Йетман'\n",
      " 'Карин Кусама' 'Кристиан Молина' 'Хон Сан Су' 'Нил Маршалл' 'П.Масларов'\n",
      " 'Энтони Бэлл, Бен Глюк' 'А.Кавун' 'Алекс Пастор, Дэвид Пастор'\n",
      " 'Ришар Бери' 'Жако Ван Дормель' 'Алан Пол' 'Майкл Ньюэлл' 'Сэмюэл Байер'\n",
      " 'Обри Паулл' 'А.Аболс' 'Хава Эссуман, Том Тыквер' 'Джордж Нолфи'\n",
      " 'К.Котельников, А.Аболс' 'Анджей Бартковяк' 'Трой Миллер' 'Бретт Ратнер'\n",
      " 'Патрик Люссье' 'Гейб Ибаньес' 'Йорген Лердам'\n",
      " 'Клод Берри, Франсуа Дюпейрон' 'Нанетт Бурстайн' 'И.Ромащенко'\n",
      " 'Паскаль Шомей' 'Жак Перрен, Жак Клюзо' 'Джессика Хауснер'\n",
      " 'Корнелиу Порумбойю' 'Р.Ганган' 'А.Сухарев' 'Д.Ефремович, А.Каторженко'\n",
      " 'И.Цветов (режиссер ч/б фильма - С.Тимошенко)' 'Дрю Бэрримор'\n",
      " 'Питер Биллингсли' 'Мэтью Вон' 'Микаэль Саломон'\n",
      " 'И.Соловьева, Д.Шмидт, О.Ужинов, Д.Червяцов, М.Нефедова, О.Кузовков'\n",
      " 'Саймон Уэллс' 'Нил Бергер' 'Эндрю Морахан' 'Лука Ронкони'\n",
      " 'Д.Мастеров, Н.Попова' 'Клод Миллер, Натан Миллер' 'Пэдди Бретнэк'\n",
      " 'Энди Тэннант' 'Дэвид Маллет' 'Итэн Коэн, Джоэл Коэн' 'Сэм Тейлор Вуд'\n",
      " 'Фернанаду Майреллиш' 'Н.Мирзоян' 'Д.Сулейманов' 'Софи Бартез'\n",
      " 'Йоахим Роуннинг, Эспен Сандберг' 'Томас Борч-Нельсен' 'Д.Мамулия'\n",
      " 'Ю.Озеров, Ю.Бондарев' 'А.Адилханян'\n",
      " 'М.Рязанова, В.Панжев, Г.Курлаев, М.Сулейманова, Н.Репина, С.Морозов и др.'\n",
      " 'Хью Лори, Бен Элтон' 'Кэтрин Хардвик' 'Трент Купер' 'Мика Каурисмяки'\n",
      " 'М.Маханько' 'Сэм Вуд' 'Ален Вулф' 'Дени Деркур' 'Роберт Уилсон'\n",
      " 'Эмма Данте' 'В.Кущинский' 'Юэнь Ву-Пин' 'Хью Родс' 'Уэс Крейвен'\n",
      " 'Р.Нестеренко' 'Фернандо Труэбо' 'Нил Ла Бьют' 'Густаво Кова' 'С.Меринов'\n",
      " 'Зенке Вортманн' 'А.Самойлова' 'Ю.Мазурова' 'С.Дворцевой'\n",
      " 'Е.Сысоева (С.Лысенко)' 'М.Рязанова, Н.Репина, В.Панжев, Д.Никулин и др.'\n",
      " 'Е.Ташков, А.Ташков' 'А.Юмагулов' 'Жюли Бертучелли' 'А.Бзаров'\n",
      " 'Джеф Треймейн' 'С.Арланов' 'Ниа Вардалос' 'Дэннис Дуган' 'Гари Виник'\n",
      " 'Джон Тертлтауб' 'Тенисон Бардуэлл' 'А.Джунковский' 'Мик ван Дием'\n",
      " 'Джейсон Эпперсон' 'Дэвид Мур, Джереми Вебб, Метин Хусейн, Элис Тротон'\n",
      " 'Джей Дюплис, Марк Дюплис' 'Хирокадзу Корэ-Эда'\n",
      " 'Питер Доктер, Боб Питерсон' 'Энди Фикман' 'Нора Эфрон' 'Карлос Саладна'\n",
      " 'Кенни Ортега' 'Тони Скотт' 'Генри Бин' 'Гела Баблуани' 'Дункан Уорд'\n",
      " 'Е.Тирдатова' 'А.Барщевский, И.Матвеев' 'А.Эшпай' 'П.Бардин'\n",
      " 'Рейнхард Клоос, Хольгер Таппе' 'Паскаль Бурдиак' 'Марк Романек'\n",
      " 'Шем Биттерман' 'Ли Сингму' 'Коди Кэмерон' 'Эли Крэйг' 'Том Ди Чилло'\n",
      " 'Деон Тейлор' 'Берни Маттинсон' 'С.Бодров-старший, Г.Омарова'\n",
      " 'Марк С.Уотерс' 'Джоэл Шумахер' 'Рассел Малкэхи' 'Дэвид МакНелли'\n",
      " 'Сяолу Го' 'Джадд Апатов' 'Стефен Соммерс' 'Аллен Колтер' 'Чхан-Ук Пак'\n",
      " 'Йорма Такконе' 'А.Виткин, М.Беспалый' 'Гаспар Ноэ' 'В.Федоров'\n",
      " 'Л.Шалгачева' 'Майкл Эптед' 'Джанкарло дель Монако' 'И.Савельев'\n",
      " 'Агнешка Войтович-Восло' 'Жалмари Хеландер' 'Матье Амальрик'\n",
      " 'Дениэл Эспиноза' 'Ларри Вачовски, Энди Вачовски' 'Майкл Патрик Кинг'\n",
      " 'Вольфганг Петерсон' 'Тейлор Хекфорд'\n",
      " 'Джордж Миллер, Уоррен Коулмэн, Джуди Моррис' 'Эндрю Дэвис'\n",
      " 'Рэйджа Госнелл' 'Берр Стирс' 'А.Стемпковский' 'Е.Гроховская'\n",
      " 'Марк Махон' 'П.Санаев' 'А.Марутян' 'С.Борчуков' 'А.Мачерет'\n",
      " 'Джон Х.Уильямс' 'Скандер Копти, Ярон Шани' 'А.Щербинин' 'Г.Негашев'\n",
      " 'Ю.Мерзляков, Р.Магомадов, А.Ольков' 'А.Петрас'\n",
      " 'Джон Эрик Даудл, Дрю Даудл' 'М.Сулейманов'\n",
      " 'Фатих Акин, Иван Атталь и др.' 'Сильвэйн Уайт' 'Джина Ким' 'Нил Бреннан'\n",
      " 'С.Кальварский, В.Спирин' 'Б.Бадриев' 'Райан Мерфи' 'Нильс Арден Оплев'\n",
      " 'Джон Чу' 'Ю.Шиллер' 'Даниэль Штамм' 'Уве Болл' 'Д.Коробкин'\n",
      " 'Роберт Дорнхельм' 'Катрин Корсини' 'С.Линцов, А.Велемицин'\n",
      " 'Роджер Камбл' 'В.Короленков' 'Джон Харрисон' 'К.Хрестинин' 'Л.Горовец'\n",
      " 'Бэнкси' 'Тони Лойзер, Джеспер Мюллер' 'Ник Стрингер'\n",
      " 'Люк Крэссуэл, Стив МакНиколас' 'Д.Коробкин, Л.Гурченко' 'Р.Сабиров'\n",
      " 'Томас Бальмес' 'Я.Трофимова' 'Джун-хо Бон' 'Ж.Романова' 'И.Комладзе'\n",
      " 'Джон Льюссенхоп' 'Н.Березовая' 'Тод Уильямс' 'А.Балабанов'\n",
      " 'Э.Давлетшина' 'Марк Льюис' 'Оливье Маршаль' 'Инжинио Страффи'\n",
      " 'В.Мариничев' 'Деррик Борте' 'Паскаль Вонг, Ронан Чапалэйн'\n",
      " 'Дональд Петри' 'А.Мамедов' 'Майкл Кристофер' 'Майкл Кейтон-Джоунс'\n",
      " 'А.Черняев, Е.Рустембеков' 'Дэниэль Монзон' 'Рассел Малкэй'\n",
      " 'Леси Халлстрем' 'В.Ефремов, И.Ефремова, В.Лопач' 'А.Богданов'\n",
      " 'Н.Очигава' 'Браян Левант' 'Р.Хрущ' 'М.Коновальчук'\n",
      " 'Н.Хомерики, О.Бычкова, С.Мокрицкий, С.Егерев, И.Малкин, О.Музалева и др.'\n",
      " 'Мартин Кэмпбэл' 'А.Луканев' 'Е.Цыплакова' 'Ван Сылинь, Чжен Линьна'\n",
      " 'С.Айнутдинов' 'С.Гордеев' 'Роберт Олтман' 'Дэвид Аттенборо' 'Д.Астрахан'\n",
      " 'Грэг Берланти ' 'А.Войтинский, Д.Киселев' 'Колин Штраус, Грэг Штраус'\n",
      " 'Джей Расселл' 'Гэри Маршалл' 'Раду Михайлеану' 'И.Пелинский'\n",
      " 'И.Соловьев' 'Л.Трауберг, А.Тутышкин' 'С.Алексеев'\n",
      " 'Джуеме Балогуеро, Пако Плаза' 'Ли Даниэлс' 'В.Пендраковский, Ю.Рогозин'\n",
      " 'Дэвид Слэйд' 'Д.Белоусов' 'Джо Джонстон' 'Агустин Диас Янес'\n",
      " 'Майкл и Питер Спайриг'\n",
      " 'В.Ивакин, Д.Сорокин, О.Алиев, А.Горовацкий, Д.Маковцев и др. '\n",
      " 'Н.Наумова' 'В.Виноградов' 'Гильермо Арриага' 'И.Копылов'\n",
      " 'И.Савченко, Т.Лукашевич, М.Ромм' 'Кэтлин Бельхер' 'Ли Чандон'\n",
      " 'Жанна Лабрюн' 'Билл Плимптон' 'С.Маховиков' 'А.Драницына' 'С.Насенкова'\n",
      " 'Питер Хайамс' 'Джон Харрис' 'Стефан Брауншвейг' \"Д.О'Рейли\" 'Дани Бон'\n",
      " 'Д.Вершинин' 'Микеле Плачидо' 'Стив Одекерк' 'С.Щербин'\n",
      " 'Алберт Хьюз, Эллен Хьюз' 'М.Алиев, А.Пуустусмаа' 'Адам Грин'\n",
      " 'Дэвид Сильверман' 'Питер Уир' 'Роберт Куртцман' 'А.Гутман'\n",
      " 'Дэнни Лернер' 'Л.Усова' 'Э.Гущин' 'А.Чеканов'\n",
      " 'А.Бурцев, С.Снежкин, Е.Аксенов, В.Сорокин, И.Хамраев и др.' 'М.Снежная'\n",
      " 'Мигель Сапочник' 'Майк Митчел' 'И.Каленов' 'Джоан Чен'\n",
      " 'Бертран Тавернье' 'Дейвид Добкин' 'Йен Софтли' 'Кевин Танчароэн'\n",
      " 'Бо Дзенга' 'Дэвид Цукер' 'Грегор Джордан' 'Эрик Лартиго'\n",
      " 'Курт Мэттила, Мэтт Чековски'\n",
      " 'Т.Бекмамбетов, Я.Чеважевский, А.Войтинский, Д.Киселев' 'В.Карабанов'\n",
      " 'С.Осипьян, А.Лунгин' 'А.Щербович-Вечер' 'Сильвен Шомэ' 'М.Мкртчян'\n",
      " 'А.Михайлов' 'Андреа Арнольд' 'Кабир Кхан' 'Дейвид Р.Эллис' 'Джеймс Вонг'\n",
      " 'Оливер Хиршбигель, Джеймс  МакТиг' 'ХЭрольд Рэмис' \"Пэт О'Коннор\"\n",
      " 'Лоуренс Гутерман' 'Лоренс Кэздан' 'Кристофер Моррис' 'Месси Таджедин'\n",
      " 'Фредерик Берт' 'Джон А.Дэйвис' 'Ю.Афанасьев, Э.Архангельская'\n",
      " 'Керн Конвайзер, Дэвид Рен' 'Саймон Уинсер' 'Роджер Камб'\n",
      " 'Паскаль Пузаду' 'Джон Г.Эвилдсен' 'Гейбор Ксапо' 'Кевин Рейнолдс'\n",
      " 'Уильям Батлер' 'Ричард Келли' 'Кевин Гройтерт' 'Дэвид Хакл'\n",
      " 'Даррен Лион Бойсман' 'Дарен Линн Босман' 'Даррен Линн Баусмэн'\n",
      " 'Джеймс Грей' 'Кевин Мунро' 'Крэйг Мэзин' 'Кэтрин Хардуик' 'Терри Звигоф'\n",
      " 'Ричард Шепард' 'Кинен Айвори Уэйанс' 'Фрэнк Дарабонт' 'Энтони Леондис'\n",
      " 'Дэнни ДеВито' 'Гай Ферланд' 'Гил Кинан' 'Микаэл Хальфстрем'\n",
      " 'Ричард ЛаГравенезе' 'Маркус Голлер' 'А.Хмельницкая' 'С.Глезин'\n",
      " 'Фредерико Моччиа' 'Барбет Шрёдер' 'Эллори Элкайем' 'Эндрю Дейвис'\n",
      " 'Кен Куопис' 'Ричард Лонкрейн' 'А.Шадров' 'Вл.Китт' 'Роджер Мичелл'\n",
      " 'Ф.Ибрагимбеков, С.Швыдкой' 'Жилль Бурдо' 'Феликс Энрике Алкала'\n",
      " 'Джордж С.Вульф' 'Джеймс МакТэйг' 'Питоф' 'Д.Карро, В.Абдрашитов'\n",
      " 'Ален Рене' 'Чарльз Роберт Карнер' 'Патрис Шеро' 'Кира Муратова'\n",
      " 'Б.Казаков, Е.Серов' 'Роланд Джоффе' 'Ю.Королев (псевдоним Ю.Стааль)'\n",
      " 'М.Дворянкин' 'Флориан Хенкель фон Доннерсмарк' 'Стив Энтин'\n",
      " 'Микаэль Хофстрем' 'Энтони Мингелла' 'Анжела Робинсон' 'Лес Мэйфилд'\n",
      " 'Брайан Де Пальма' 'Федерико Тицци' 'Джонатан Миллер' 'Николай Ленхофф'\n",
      " 'Аббас Киаростами' 'Эндрю Эдамсон, Келли Эсбари'\n",
      " 'Эндрю Адамсон, Виктория Дженсон' 'Марк Лоренс' 'Тодд Филд' 'Алекс Замм'\n",
      " 'Джон Камерон Митчел' 'А.Зельдович' 'М.Ибрагимбеков' 'А.Фенченко'\n",
      " 'Н.Углицких' 'С.Газаров, О.Фесенко' 'Гиоргос Лантимос' 'Р.Исмайлов'\n",
      " 'Т.Таш-заде' 'М.Кондрикова' 'Макс Джива, Данайя Паскуини'\n",
      " 'Барбара Топсе-Ротенборг' 'С.Амбросова' 'В.Ивановская' 'Шенг Динг'\n",
      " 'С.Осипьян' 'Дэнни Гордон' 'Манодж Найт Шьямалан' 'Ронни Ю' 'П.Медведев'\n",
      " 'В.Акобян' 'Майкл Дейвис' 'Гэри Дэйвид Голдберг' 'Стюарт Бейард'\n",
      " 'Д.Дж.Карузо' 'В.Меньков, С.Линцов, Р.Саульский' 'А.Замыслов' 'О.Осипов'\n",
      " 'Дейв Филони' 'Джозеф Кан' 'Ричард Доннер' 'Джоди Хилл' 'Джеймс Л.Брукс'\n",
      " 'Алистер Грирсон' 'Пьер Алли' 'Аннабель Арден' 'Жильбер Дефло'\n",
      " 'Эрик Валетт' 'Джон Симпсон' 'Марк Дэвис, Ноэль Кларк' 'И.Коробейников'\n",
      " 'Тим Хилл' 'Розелин Бош' 'Ли Тамахори' 'Стивен Лоу' 'Джулия Ли'\n",
      " 'Дейвид Тоухи' 'Стив Бенделэк' 'Генри Селик' 'Б.Бакурадзе' 'З.Трофимова'\n",
      " 'Е.Чернова' 'Н.Чернышева' 'Н.Ченышева' 'В.Златопольский'\n",
      " 'Карла Лиа Монти' 'Паскаль-Алекс Винсент' 'Джон Айвэй' 'Пипилотти Рист'\n",
      " 'И.Черницкий' 'Трак Бренсс' 'Дэвид Вустер' 'Элисон Рейд' 'Дрейк Доремус'\n",
      " 'Ксави Хименез' 'Ю Сун-Донг' 'Алекс Колл' 'Элайджа Мошински'\n",
      " 'Маркус Вайнер' 'Мелисса Баттс, Барри Ким' 'Крисс Миллер'\n",
      " 'Ю.Лейдерман, А.Сильвестров' 'Гас Ван Сент' 'Хэтти Далтон' 'Тим Фельбаум'\n",
      " 'А.Сокуров' 'Клод Лелуш' 'Мэтью Чэпмен' 'Дэнни Кэннон' 'Т.Бекмамбетов'\n",
      " 'Ричард Айоэйд' 'Лех Майевски' 'Оксид Пан, Дэнни Пан' 'И.Тойонов'\n",
      " 'Маркус Вельтер' 'Феи Сяоган' 'Джоао Нуно Пинто' 'Джек Каздан'\n",
      " 'Адам Гираш' 'Жозе Антонио Негрет' 'Джеймс Хат' 'Кеер Ху '\n",
      " 'Ола Симмонсон, Йохан Стьярне Нильссон' 'В.Пендраковский'\n",
      " 'Жан-Пьер Амери' 'Ник Мур' 'Н.Макарова, В.Воробьев'\n",
      " 'В.Кушнирович (псевдоним В.Бенигсен)' 'В.Шепелев' 'Н.Щербаков'\n",
      " 'В.Гинзбург' 'Манс Марлинд, Бьёрн Стейн' 'Джон Лассетер, Брэд Льюис'\n",
      " 'Сильвио Сольдини' 'Жюльен Лякомб, Паскаль Сид' 'Руперт Виатт'\n",
      " 'О.Погодин' 'Гонсало Лопес-Гальего' 'Евгений Пашкевич' 'Масаюки'\n",
      " 'Дженнифер Ю' 'Эми Канаан Манн' 'Дэвид Р.Эллис' 'И.Казанков'\n",
      " 'В.Панжев, Г.Курлаев, Ф.Кривошеев, М.Сулейманова, Н.Репина, С.Морозов и др.'\n",
      " 'Элайджа Дреннер' 'Майк Гюнтер' 'Летиция Коломбани' 'Малькольм Венвилль'\n",
      " 'Майкл Ли' 'Эрик Валетте' 'Гарольд Реймис' 'С.Лобан' 'Ричард Льюис'\n",
      " 'Марианна Ченильо, Фернандо Эймбке, Амат Эскаланте, Гаэль Гарсия Берналь, Родриго Гарсия и др.'\n",
      " 'С.Сенцов' 'Робин Сип' 'Бени Бернардт, Энтони Браун'\n",
      " 'Бени Бернхардт, Луиз А.Гиков'\n",
      " 'Мэтью Маскери, Майкл Нарлок, Джейсон Хитон' 'Гэри МакКендри'\n",
      " 'Сан Ли Джан' 'Дуглас МакГрат' 'Джон Синглтон'\n",
      " 'Алекс Грегори, Питер Хайк' 'Николь Кэссел' 'Абделлатиф Кешиш'\n",
      " 'Миранда Джулай' 'Бэн Палмер' 'Сара Смит' 'Томас Безуча' 'Джон Лэндис'\n",
      " 'Марк Майлод' 'Аун Хое Го' 'Гай Кассье' 'С.Ландо' 'Уэсс Крэйвен '\n",
      " 'Г.Константинопольский' 'Фрэнсис Лоуренс' 'Стефан Лангридж' 'М.Воронков'\n",
      " 'Майкл Кэтон-Джонс' 'Шон Ку' 'В.Бархатов' 'А.фон Боррис' 'Марк Росман'\n",
      " 'Е.Михалков-Кончаловский' 'Ахеро Манас' 'Том Хэнкс' 'Карим Дриди'\n",
      " 'Трой Никси' 'В.Каминский' 'Ю.Ауг, Л.Бочков' 'Стивен С. Миллер'\n",
      " 'Алекс Оруэлл' 'Мигель Анхель Вивас' 'Такаши Ямазаки' 'Саулюс Друнга'\n",
      " 'Дебра Граник' 'Д.Ж.Карузо' 'Чарльз Шайер' 'Брюс Робинсон' 'Э.Салаватов'\n",
      " 'Т.Ивашкина' 'Грэг Мэнваринг' 'Дайна Рейд'\n",
      " 'Крестен Вестбьерг Андерсен, Тордбьорн Кристоферссен, Филипп Эйнштейн Липски'\n",
      " 'Софи Дерасп' 'Марина Кунарова, Ерлан Нурмухамбетов'\n",
      " 'Джон Рекуа, Гленн Фикарра' 'Ховард Халл' 'Доминик Фарруджия'\n",
      " 'А.Колмогоров' 'Кан Чжэ Гю' 'Брюс Э.Эванс' 'Элиотт Лестер' 'Дэмиан Чапа'\n",
      " 'Нил Армфилд' 'Вернер Херцог' 'И.Замалиев (псевдоним Э.Бартенев)'\n",
      " 'В.Мельников' 'Мэнс Мэрлинд, Бьорн Стейн'\n",
      " 'Е.Соломина, А.Баршак, К.Статский'\n",
      " 'Шэри Спрингер Берман, Роберт Пульчини' 'Серджи Визкайно'\n",
      " 'Давид Фонкинос, Стефан Фонкинос' 'Дэвид Боуэрс, Сэм Фелл'\n",
      " 'Мэрлин Агрело' 'хореография Мариуса Петипа в редакции Наталии Макаровой'\n",
      " 'Эмилио Саги' 'Стефано Пода' 'Гарт Дженнингс' 'Майкл Кэтлман'\n",
      " 'Анхель Грация' 'Тим Кокс' 'Оливер Хорлайт' 'А.Званцова' 'А.Кагадеев'\n",
      " 'А.Цацуев' 'Д.Киселев, А.Котт, А.Баранов, Л.Габриадзе' 'Крис Горак'\n",
      " 'Бибо Бержерон' 'Бартлетт Шер' 'Стив Гебхардт, Боб Фриз'\n",
      " 'Ронан Чапалайн и Паскаль Вьонг; Фрэнсис Верзеймер; Джези Кулар и Даниэль Кюнт; Дидье Гросджин  '\n",
      " 'Род Лури' 'Ж.Бадмацыренов, А.Кузьминов, Е.Замалиев' 'Кэйити Хара'\n",
      " 'Такэси Коикэ' 'Майк Митчелл' 'Андреа Андерман' 'Джон Хейман'\n",
      " 'Пол Дугдейл' 'А.Сидоров' 'Питер Додд' 'Кэмерон Кроу'\n",
      " 'Антуан Томас, Джек Фрост' 'Зэк Снайдер' 'Гарольд Беккер' 'Сидней Поллак'\n",
      " 'Бретт Симмонс' 'Джордж Ихл' 'Патрик Сиверсен' 'Д.Поволоцкий, М.Другой'\n",
      " 'Таня Уэкслер' 'Паула Ван Дер Уст' 'Майкл Редфорд' 'Макато Синкай'\n",
      " 'Линн Рэмси' 'Роберт Редфорд' 'Майкл Мэнн' 'Том Дэй' 'Йен Де Бонт'\n",
      " 'Доминик Абель, Фиона Гордон, Брюно Роми' 'хореография Джорджа Баланчина'\n",
      " 'Федерико Тьеззи' 'Апичатпонг Вирасетакул'\n",
      " 'Гюстав де Керверн, Бенуа Делепин' 'Микеланджело Фраммартино'\n",
      " 'Кэри Фукунага' 'Э.Пискатор, М.Доллер' 'Л.Кулишов' 'Жеральд Юсташ-Матьё'\n",
      " 'С.Росс' 'Р.Литвинова' 'Б.Дробязко' 'Е.Бычкова' 'Викрам Батт'\n",
      " 'Филлип Джей Рот' 'Майкл Хэгнер, Кари Джуусонен' 'Д. Абель, Ф. Гордон'\n",
      " 'Уте фон Мюнхов-Поль' 'О. Семёнова' 'М.Барынин, И.Цыганов' 'Н.Кузнецова'\n",
      " 'А.Соболевский' 'Б. Бум' 'А.Дерошер' 'А. Калюжный'\n",
      " 'Бен Сэфди, Джошуа Сэфди' 'Матье Рэтхи' 'Тони Леондис' 'Николай Арсель'\n",
      " 'Дэвид Литч' 'Тейлор Шеридан' 'Трей Эдвард Шульц' 'Гарри Клевен'\n",
      " 'Уильям Олдройд' 'Луис Прието' 'Маркос Карневале' 'Дэвид Ф. Сандберг'\n",
      " 'Роберто Снейдер' 'Пьер Зандрович' 'Эрик Дарнелл' 'Марк Циммерманн'\n",
      " 'Р. Кериси' 'А. Кутерье' 'Джастин Чадвик' 'Д. Кэмерон'\n",
      " 'Джеральд Рашинато' 'М. Бальчюнас' 'М. Мышанский ' 'К. Шелепов'\n",
      " 'Т.Игуменцева (псевдоним Татьяна Капитан)' 'О.Червоняк, Д.Стрижевский'\n",
      " 'Давид Ало' 'Лоун Шерфиг' 'Кэллан Брункер'\n",
      " 'А.Меликян, П.Руминов, Н.Меркулова, А.Чупов, Е.Шелякин, Р.Гигинеишвили, Н.Сайфуллаева'\n",
      " 'Эндрю С.Эрин' 'Энтони Дж.Коэн' 'Джей Барушель' 'А.Мигачев' 'А.Мышкин'\n",
      " 'Билл Джирхарт, Роэль Рейн, Дэвид Стрейтон, Кевин Танчароэн, Крис Фишер, Неаса Хардиман'\n",
      " 'Питер Дьюкс' 'Майк Уайт' 'Джорджо Амато' 'Давид Гриеко'\n",
      " 'Федерико Феллини' 'Лукино Висконти' 'Грэг МакГилливрэй'\n",
      " 'Холли Мейерс-Шайер' 'Уилл Верник' 'Цзянь Мин Хуанг' 'Аманда Штерс'\n",
      " 'А Андрющенко' 'Дэн Буш' 'Симоне Годано' 'Жак Дуайон' 'Ильдико Эньеди'\n",
      " 'Чарли Бин' 'Александр Бустильо, Жюльен Мори' 'Кристиан Карион'\n",
      " 'Дэни Вильнёв' 'Виталий Манский' 'Хани Абу-Ассад' 'Джеймс Каллен Брэссак'\n",
      " 'Дитер Бернер' 'Жаргалсаихан Баатар' 'Реми Шайе' 'Янус Мец Педерсен'\n",
      " \"Лайам О'Доннелл\" 'Саймон Кёртис' 'О.Семёнова ' 'Рич Рэгсдэйл' 'Э.Парри'\n",
      " 'А.Петровская' 'Г.Коломийцев' 'А.Колпин, И.Пшонкин, В.Бедошвили'\n",
      " 'В.Марков' 'Ромейн Леви' 'Ксавье Жанс' 'Со Абади' 'Джейсон Тиссен'\n",
      " 'Эдуард Делюк' 'Хуан Карлос Медина' 'Дин Девлин' 'Чарльз Мартин'\n",
      " 'Филипп Фалардо' 'Хольгер Таппи' 'Давид Алонсо, Энрике Гато'\n",
      " 'Эммануэль Амон' 'Д.Юзбашев' 'Ким Ки-дук' 'Джонатан Дэйтон, Валери Фэрис'\n",
      " 'Карстен Килерих, Рихард Клаус' 'Алессандро Сьяни' 'Брайан Смрз'\n",
      " 'Лоррэйн Леви' 'Миккель Мунк-Фальс' 'В.Чигинский' 'Тайка Вайтити'\n",
      " 'Орен Муверман' 'Макс Кроу' 'Анастасия Дыро, Андрей Шохан'\n",
      " 'Жиль Паке-Бреннер' 'Тайлер Макинтайр' 'Биргитте Стэмозе'\n",
      " 'Хью Велчман, Дорота Кобела' 'Жан-Стефан Брон' 'Питер Футт'\n",
      " 'Тарек Будали' 'А.Романец, В.Марченко' 'И.Шурховецкий' 'Энди Серкис'\n",
      " 'Серхио Х. Санчес' 'Бруно Шиш' 'К.Коваленко' 'Е.Жигаева'\n",
      " 'Д.Фирсова, И.Туманян, И.Селезнева' 'Б.Яшин, А.Смирнов'\n",
      " 'Адриан Молина, Ли Ункрич' 'Л.Арнштам' 'А.Сурин' 'Айзек Флорентайн'\n",
      " 'А.Богуславский' 'Джейсон Флеминг' 'М.Швейцер'\n",
      " 'К.Шахназаров, А.Бородянский' 'Н.Скуйбин' 'О.Зуева' 'Г.Щукин'\n",
      " 'В.Пудовкин, М.Доллер' 'К.Максимов' 'Фабрис Эбуе' 'Ксавье Жанс '\n",
      " 'Джоан Шемла' 'Джейда Торун' 'Михаэль Р. Роскам'\n",
      " 'И.Кордзаия, В.Лисневский' 'А.Басаев' 'Дэнни Стронг'\n",
      " 'Миккель Бренне Сандемусе' 'О.Попова'\n",
      " 'Д.Киселев, А.Першин (Ж.Крыжовников), А.Карпиловский, А.Черномазов (А.Нужный)'\n",
      " 'Трэвис Райс' 'Эрик Лавэн' 'Рон Шелтон' 'Майкл Грейси' 'Лука Миньеро'\n",
      " 'Максим Говар' 'Трэвис Заривны'\n",
      " 'А.Х.Песонен, Э.Хафнор, Л.Б.Хансен, Г.Энгер, А.Цварт, Й.Тойвоньеми'\n",
      " 'Салли Поттер' 'Людвиг Шаммасян, Пол Шаммасян' 'Мэтт Драммонд'\n",
      " 'Е.Соколов, В.Панжев, Г.Курлаев, С.Морозов, М.Сулейманова и др.'\n",
      " 'Я.Поляруш, Т.Цоцория, К.Кутуев при участии М.Алиева' 'Леонор Серай'\n",
      " 'Армандо Ианнуччи' 'Лоуренс Шер' 'Джонатан Хопкинс' 'Стенли Туччи'\n",
      " 'Аарон Соркин' 'Е.Грамматиков' 'С.С. Раджамули' 'Рафаэль Рибас'\n",
      " 'Арно Бурон, Антун Крингс ' 'Гектор Эрнандес' 'Сьюзен Уолтер' 'Уэсс Болл'\n",
      " 'Лиза Лангсет' 'Донато Карризи' 'З.Болотаев, К.Смирнов'\n",
      " 'Кристиано Анания, Иления Политано, Валерио Аттаназио, Моника Дуго, Марчелло Ди Ното, Даниэле Пини; Франческа Бруни, Алессандро Капитани'\n",
      " 'Патрик Милле' 'Кристиан Гьюдгэст' 'Пол Том Андерсон'\n",
      " 'Питер Лепениотис, Шелли Шеной' 'И Гэ, Сун Юэфэн'\n",
      " 'Алекс Оррель, Эдуардо Шульдт'\n",
      " 'А.Занин, М.Архипов, Н.Барабаш, А.Костандакес, Д.Шабаев' 'О.Трофим'\n",
      " 'Ф.Шабанов' 'Йоргос Лантимос' 'Л.Марголин' 'Жак Дере' 'Роберт Энрико'\n",
      " 'А.Амбросьев' 'Дэннис Барток' 'Лин Одинг' 'Кристина Коминчини'\n",
      " 'Димитри Логотетис' 'Жаума Кольет-Серра' 'Питер Энтони'\n",
      " 'Брайан ДеКьюбелис' 'Якуб Вронски, Ира Карпелан' 'Райнер Хольцемер'\n",
      " 'Ф.Фархшатова' 'Е.Никитин, А.Королёв, К.Плетнев' 'К.Васильев'\n",
      " 'Джон Френсис Дейли, Джонатан Голдстейн' 'В.Перельман' 'Грета Гервиг'\n",
      " 'Симен Альсвик, Вильям Эсхерст' 'Шон Бэйкер' 'Хиромаса Ёнэбаяси'\n",
      " 'И.Белостоцкий' 'А.Черномазов (псевдоним Алексей Нужный)'\n",
      " 'Саверио Костанцо' 'Присцилла Камерон' 'Д.Прима'\n",
      " 'М.Волков, В.Мухаметзянов' 'А.Протоковило' 'Николай Фьюлси'\n",
      " 'Ава ДюВерней' 'Рудольф ван ден Берг' 'Эрдал Сейлан' 'Роар Ухтауг'\n",
      " 'О.Денисов' 'Эндрю Эрвин, Джон Эрвин' 'Е.Телегина, М.Полинский'\n",
      " 'Лаура Шредер' 'Ник Парк' 'К.Одегов' 'В.Глухушин' 'Наталья Березовая'\n",
      " 'Джон Стивенсон' 'Дэвид Фрейн' 'Нэш Эдгертон' 'И.Шерстобитов' 'П.Москвин'\n",
      " 'Стивен С. ДеНайт' 'Т.Полосина' 'Ричард Дэйл, Фань Лисинь, Питер Веббер '\n",
      " 'Амалия Несби Фика, Юрген Лердам, Филип Эйнштейн Липски' 'Николас Ванье'\n",
      " 'Мартин Гиги' 'Лиза Аддарио, Джо Сиракьюз' 'Цутому Мидзусима'\n",
      " 'Тоа Фрейзер' 'Андерс Вальтер Хансен' 'Свен Унтервальдт' 'К.Дружинин'\n",
      " 'М.Немойтин' 'В.Ровенский, Н.Лопато, В.Азеев' 'Аудни Аусгейрссон'\n",
      " 'Н.Венлок, Ж.Клинч, М.Кловатер, Б.Лихтенштерн, Д.М.Лоренц, М.Пийонель, А.Смитс, Т.Смитс, Х.Хименес, М.Шольте'\n",
      " 'Патрик Имбер, Бенжамен Реннер' 'Жозе Падилья' 'Джон Красинский'\n",
      " 'Айбек Дайырбеков' 'А.Котёночкин' 'Н.Соколов' 'Виктор Сейнт Макари'\n",
      " 'Мари Окада, Тошия Шиохара' 'Д.Козловский' 'А.Аравин' 'П.Дроздов'\n",
      " 'А.Кретова' 'Лорна Такер' 'Леннарт Рафф' 'М.Жигалова-Озкан, Ю.Зайцев'\n",
      " 'А.Чижиков, И.Чижиков' 'Лаки МакКи' 'С.Ганночка, С.Крайнев'\n",
      " 'Аличе Рорвахер' 'Робин Обер' 'Мишель Ларок'\n",
      " 'Ноэль Клири, Серджо Делфино, Алекс Стадерманн' 'К.Хабенский, А.Малюков'\n",
      " 'Дэниэл Роби' 'А.Новиков (псевдоним - Александр Новиков-Янгинов)'\n",
      " 'Крис Дженкинс' 'Боб Фишер, Роб Гринберг' 'Эбби Кон, Марк Силверштейн'\n",
      " 'Серж Бозон' 'Хайфа Аль-Мансур' 'Энтони Руссо, Джо Руссо'\n",
      " 'Хауме Балагеро' 'Хесус Гарсес Ламберт' 'И.Каграманов' 'А.Горчилин'\n",
      " 'Джон Кэмерон Митчелл' 'Аскар Узабаев' 'Вон Стайн' 'Ари Астер'\n",
      " 'Кэй Кэннон' 'Хирокадзу Корээда' 'Тара Пирния' 'А.Коломеец'\n",
      " 'Филипп Волкен' 'Торстен Кюнстлер' 'Д.Дваджиев' 'А.Поличук' 'И.Петухов'\n",
      " 'С.Григорьева' 'И.Ягафаров' 'Т.Жалнин' 'Энтони Бирн' 'Ориол Паоло'\n",
      " 'Джереми Дайсон, Энди Найман' 'К.Малкин-Фам' 'А.Ким' 'Т.Дондурей'\n",
      " 'Д.Шабаев' 'М.Шалаева' 'Массимо Гаудиозо' 'С.Храмых'\n",
      " 'И.Евланникова, Д.Моллер, М.Котик' 'А.Безрук' 'Н.Мещанинова'\n",
      " 'А.Новоселов' 'Н.Першина' 'В.Битоков' 'С.Ливнев' 'Бландин Ленуар'\n",
      " 'М.Воробьева' 'Густаво Эрнандес' 'Андрес Кутерье' 'Д.Алейников'\n",
      " 'А.Зенкович' 'И.Максимов' 'А.Петров, М.Кулагин' 'А.Залдастанов'\n",
      " 'А.Бушнев' 'В.Сунцов' 'М.Лиманский' 'Джеймс Франко, Брюс Тьерри Чунг'\n",
      " 'Фридрих Боэм' 'Д.Степанов' 'Джеймс Окли' 'Брэд Берд'\n",
      " 'А.Верещагин, О.Филипенко, Д.Ушаков' 'П.Сергацков, А.Верещагин'\n",
      " 'Фернандо Леон Де Араноа' 'Билл Холдермэн' 'Карл Кристиан Раабе'\n",
      " 'Брайан О.Мэлли' 'Лоуренс Фаулер' 'Лукас Фейгельфилд' 'Н.Веревкина'\n",
      " 'В.Фатьянов' 'М.Кузовенков' 'А.Русланова' 'А.Поздняков' 'М.Новикова'\n",
      " 'О.Холодова, Е.Савина, А.Чернова, Н.Рысс, А.Дёмин'\n",
      " 'И.Басенко (псевдоним - Ирина Бас)' 'А.Сутормин' 'Джованни Пискалья'\n",
      " 'Дженнифер Пидом' 'Д.Гринькин' 'Франк Дюбоск' 'Р.Гиматдинова'\n",
      " 'Е.Киреева, Т.Кисилева, Е.Нестерова, А.Панкратов, О.Сивакова-Васина, А.Романова и др.'\n",
      " 'Е.Астрецова, Е.Фадеев, В.Карнавалова, Е.Филиппова, А.Веселов, И.Максимов и др.'\n",
      " 'С.Филиппова, С.Антонов, К.Кравченко, Е.Храпкова, Е.Бим, А.Зайцев и др.'\n",
      " 'О.Белоусова' 'Джефф Томсич' 'Н.Урвачева' 'О.Высоцкая' 'С.Ермоленко'\n",
      " 'Стефано Соллима' 'Г.Якубовский' 'А.Бойков' 'В.Новиков' 'Кристиан Дюгей'\n",
      " 'И.Бахтина' 'Майкл Пирс' 'Н.Раужин' 'Е.Шин' 'А.Кузина'\n",
      " 'Джанлука Ансанелли' 'Джейсон Райтман' 'В.Мякишева' 'А.Корытко'\n",
      " 'И.Иванов' 'М.Сергеева' 'Доминик Роше' 'Ю.Сизов' 'М.Бирюкова'\n",
      " 'Ли Чхан-дон' 'В.Гришин (псевдоним - Влад Гришин), А.Тельнов'\n",
      " 'М.Нефедова' 'Е.Туркова' 'Лян Сюань, Чжан Чунь'\n",
      " 'Э.Бордуков, Г.Дульян, М.Тумова, Э.Жолнин, В.Кудряшов' 'М.Куклина'\n",
      " 'Э.Арутюнов, А.Алексиади' 'Максим Арбугаев, Кристиан Фрай' 'В.Кузнецов'\n",
      " 'Ю.Курочка' 'А.Писаркин, Э.Мецгер' 'Д.Даниелян' 'А.Барыкин' 'Матьё Тури'\n",
      " 'Джастин Бенсон, Аарон Мурхед' 'О.Головина' 'А.Петров'\n",
      " 'А.Горбунов, Д.Сулейманов' 'В.Алфёров' 'С.Майоров' 'В.Семёновых'\n",
      " 'Элайджа Байнум' 'Майкл Уинник' 'Джеймс Кокс' 'В.Салтыков'\n",
      " 'Джон Тёртлтауб' 'Гильермо Амоедо' 'Пол Вонг, Феликс Ип' 'Ю.Миронова'\n",
      " 'К.Кокорев' 'Д.Крылов' 'Йеспер Гансландт' 'А.Осипова' 'М.Елкин'\n",
      " 'И.Фирсова' 'Т.Бочарова' 'Т.Корнеева' 'А.Истратов' 'Н.Михалкова'\n",
      " 'Кристофер МакКуорри' 'М.Солошенко' 'А.Кузмин-Тарасов, А.Колчина'\n",
      " 'Томас Штубер' 'Бен Луин' 'Дэвид Бэтти' 'А.Чеботарева' 'В.Харченко'\n",
      " 'С.Филиппова' 'А.Свирский' 'Е.Астрецова' 'Аниш Чаганти' 'Кевин Коннолли'\n",
      " 'Е.Кривцов, В.Кленин' 'А.Игудин'\n",
      " 'М.Мошкова, А.Бахурин, А.Борисова, А.Аверьянова, Т.Мошкова'\n",
      " 'Герард МакМюррей' 'Дженнифер Ю.Нельсон' 'Ж.Бекмамбетова'\n",
      " 'Андрес Пуустусмаа' 'С.Курченко' 'Г.Заозёрский' 'И.Куликов' 'Ю.Захарова'\n",
      " 'В.Арясов' 'Хань Янь' 'Ю.Шамилов' 'С.Шаглеева' 'И.Волосецкий'\n",
      " 'Е.Резников' 'Е.Безбородов' 'Л.Шмельков' 'А.Шадрина' 'А.Емкужев'\n",
      " 'А.Шемес' 'А.Марсакова' 'В.Чичайкин' 'Е.Королева' 'А.Краевский'\n",
      " 'Альберт Хьюз' 'Хади Хаджэйг' 'Мари Мондж' 'Стэнли Кубрик' 'Оливер Дэйли'\n",
      " 'Н.Фролова (псевдоним Камалов Ленар)' 'Лео Жанг' 'Силвейн Уайт'\n",
      " 'Карлус Диегос' 'О.Семёнова  ' 'Сузанна Фогель' 'В.Приходько'\n",
      " 'Пьер Греко, Нэнси Севард' 'Яне Магнуссон' 'Джеймс Крамп' 'Э.Нелидова'\n",
      " 'Н.Шмелёв' 'А.Остапенко' 'Дрю Пирс' 'Е.Белова' 'М.Бигоцкий' 'А.Злобин'\n",
      " 'Л.Кулагина' 'Н.Антонов'\n",
      " 'Е.Дворецкая (псевдоним - Елена Лобачева-Дворецкая)' 'Ю.Бобкова'\n",
      " 'В.Кильчевская' 'К.Белевич (псевдоним - Кирилл Астахов), Г.Ильин'\n",
      " 'В.Хохлов, К.Ляшенко' 'В.Белов' 'Карл Мендес'\n",
      " 'В.Шамиров, Д.Балинова, Р.Хачмамук' 'Клайв Тонг'\n",
      " 'Д.Курочка (псевдоним Денис Бродский)'\n",
      " 'Р.Газизов, А.Исрафилова, М.Конева' 'Ромен Гаврас' 'Д.Демура' 'Н.Тамаров'\n",
      " 'Н.Брусенцев' 'Н.Федченко' 'Н.Климчук, О.Морозова' 'Б.Мамлин'\n",
      " 'А.Хачатурян' 'М.Мошкова' 'Д.Сулейманов, О.Мусин' 'А.Горбунов'\n",
      " 'Джонатан Бэйкер, Джош Бэйкер' 'П.Олевский' 'Л.Марголин, А.Марутян'\n",
      " 'С.Токалов' 'В.Марин' 'И.Калядин' 'Дэвид Дуглас, Дрю Фелмэн'\n",
      " 'Дэвид Зеллнер, Нейтан Зеллнер' 'Гэри Ван' 'Брайан Хенсон'\n",
      " 'Сиддхартх Малхотра' 'Т.Малова' 'А.Сашнева' 'Том Вольф' 'Д.Кудрявцев'\n",
      " 'С.Харчевина (псевдоним - Светлана Крапивина)' 'Т.Семенченко'\n",
      " 'С.Воронежский' 'А.Титов, Л.Ефимов' 'Е.Кожокин'\n",
      " 'Томас Боденштайн, Маркус Хаман' 'Кловис Корнийяк' 'Кайл Райдаут'\n",
      " 'Исида Хироясу' 'В.Смолина' 'Т.Джураев' 'Г.Болдугеров' 'А.Шустикова'\n",
      " 'Р.Фазлиев, А.Галиаскаров' 'Клаудио Поли' 'А.Южаков' 'Эмили Атеф'\n",
      " 'Мэнди Флетчер'\n",
      " 'А.Цыренжапов, Б.Цыренов, Б.Доржиев, Б.Цыбиков, В.Овчинников'\n",
      " 'А.Денисова' 'Д.Цветков, А.Петрова' 'Галина Миклинова' 'А.Зайцев'\n",
      " 'Я.Войтова, И.Черджиева' 'О.Гончаренко' 'Е.Кашинцева' 'М.Черных'\n",
      " 'И.Семашко' 'А.Рудницкая, С.Винокуров' 'А.Полунина' 'Д.Семибратов'\n",
      " 'Ю.Малюгин' 'Р.Верещак' 'Панос Косматос' 'Е.Стишова' 'Хезер Ленц'\n",
      " 'Серикбол Утепбергенов' 'Карин Пройя' 'М.Идов' 'А.Сухарев, Г.Шенгелия'\n",
      " 'Дэвид Керр' 'Жан-Стефан Совер' 'Мэтью Каллен' 'Н.Евстифеев ' 'К.Плетнёв'\n",
      " 'И.Стам' 'Михаэль Ноер' 'Али Аббаси'\n",
      " 'Вольфганг Лауэнштайн, Кристоф Лауэнштайн, Шон МакКормак' 'А.Голуб'\n",
      " 'Мэттью М.Росс' 'К.Соколов' 'Изабель Койшет' 'Пол Дано' 'Дин Ши'\n",
      " 'Даниель Отой' 'Даниэле Лукетти' 'Чак Пауэрс' 'Брэдли Купер'\n",
      " 'Хлинюр Палмасон' 'Е.Останина, С.Родкевич' 'В.Непевный' 'Рубен Флейшер'\n",
      " 'Дрю Годдард' 'Мамора Хосода' 'Е.Болычева' 'К.Серебряков' 'К.Попович'\n",
      " 'Сторм Эшвуд' 'Гари Вонг'\n",
      " 'Д.Кузнецов (псевдоним - Хаски), Д.Найшуллер (псевдоним - Даша Чаруша), С.Поварницын, А.Золотарев, И.Плечёв'\n",
      " 'Ю.Ершова' 'Е.Антимоний (псевдоним - Иван Курский)' 'А.Турчанинов'\n",
      " 'М.Юсупов' 'Пернилла Фишер Кристенсен' 'Жюльен Леклерк' 'Скатт Спир'\n",
      " 'К.Козлова'\n",
      " 'Г.Константинопольский, Д.Булин, Е.Чичканов, Д.Власова, П.Емелин'\n",
      " 'М.Киреева' 'О.Нарлыев' 'Е.Цымбал' 'А.Сидоров, О.Фомин, Р.Ярославцев'\n",
      " 'Э.Габидуллин' 'Д.Колонтай, И.Качалин, Д.Глазовский' 'К.Румак'\n",
      " 'И.Корнеев' 'Николя Ванье' 'Кэри Киркпатрик' 'В.Янковский' 'А.Куликов'\n",
      " 'В.Азеев' 'А.Арутюнян, А.Коршунов' 'Луиш Диого' 'Ю.Горбачевская'\n",
      " 'П.Ходнев' 'В.Саков' 'А.Самойлов' 'А.Судиловский' 'П.Мирзоев'\n",
      " 'Томас Граскур, Адина Истрате, Пако Каверо, Александр Ланка, Норман Тамкиви'\n",
      " 'Финн Тейлор' 'Джеффри Начманофф' 'Грег Кос' 'А.Титов'\n",
      " 'М.Костарев, Н.Саврас' 'Л.Лысцов' 'Куинн Лэшер' 'А.Линич' 'Ари Сендел'\n",
      " 'М.Якубсон' 'С.Митин' 'В.Локтионов' 'Л.Коршик' 'Е.Дубкова'\n",
      " 'Павел Павликовский' 'Микеле Малли' 'Айан Бонхот, Питер Эттедги'\n",
      " 'С.Иванов' 'Билл Оливер' 'Камаль Бансаль' 'Такуя Игараси' 'С.Миляев'\n",
      " 'В.Ракша'\n",
      " 'А.Шабаров, Д.Булин, Н.Михалкова-Кончаловская, Г.Пирогова, Е.Вещева, Т.Федоровская, Е.Абызов'\n",
      " 'В.Потёмкин' 'А.Егоров' 'А.Почивалов' 'А.Жакулина' 'И.Евланникова'\n",
      " 'Г.Голубева' 'Н.Грофпель' 'О.Лопато-Джагацпанян' 'В.Лавров'\n",
      " 'Демиан Рунья' 'М.Рафаил' 'П.Хвалеев' 'И.Осипов' 'Е.Захаров, А.Соснов'\n",
      " 'Е.Окопная' \"А.Рожнова (псевдоним Александра Р'ЮЖ)\" 'Бьёрн Рунге'\n",
      " 'Мила Онг-Твин, Ван Рёко' 'Вэйшали Синха' 'Жиль Леллуш' 'Донован Марш'\n",
      " 'Мат Уайткросс' 'Эрик Зонка' 'Д.Гусельников' 'А.Голубовский'\n",
      " 'Н.Михалкова-Кончаловская' 'Я.Хальпукова (псевдоним Яна Мартынец)'\n",
      " 'А.Коновальцева (псевдоним Ангелина Подорожная)' 'А.Рубецкой, Е.Шабанова'\n",
      " 'М.Смирнов' 'Н.Батраева' 'И.Сарахатунова' 'Г.Калинина' 'С.Кирсанова'\n",
      " 'М.Ховенко' 'Д.Силяков' 'П.Фаттахутдинов' 'В.Захаров' 'Н.Бисярина'\n",
      " 'А.Соколова' 'Пьер Шоллер' 'Джо Джонстон, Лассе Холлстрем'\n",
      " 'Франческо Мунци, Лучио Пеллегрини' 'Дарья Жук' 'А.Праздников'\n",
      " 'А.Проскура' 'Е.Шереметьева' 'С.Рубенчик' 'Том Эдмундс'\n",
      " 'Ганс Вайнгартнер' 'Эндрю Боулер' 'Н.Иванова, А.Кузнецова'\n",
      " 'Эндрю Десмонд' 'О.Товма' 'Фил Джонстон, Рич Мур' 'А.Колядин, М.Павлов'\n",
      " 'Н.Пиотровский' 'К.Красноперов' 'К.Мирзоян, А.Петрухин'\n",
      " 'Фредерик Пакстон' 'В.Макарихин' 'Е.Бронникова' 'Сэм Левинсон'\n",
      " 'О.Арлаускас, Г.Петросян, С.Горло' 'Отто Батхёрст' 'В.Есинов' 'В.Орехов'\n",
      " 'Сантьяго Лимон' 'В.Эйснер' 'Эммануэль Жилибер' 'Уош Уэстмоленд'\n",
      " 'Джон Леннон, Йоко Оно' 'Кристиан Риверс' 'Дженнифер Весткотт'\n",
      " 'хореограф Матс Эк' 'Гунилла Валлин. Хореограф Матс Эк' 'М.Алина'\n",
      " 'С.Данилина' 'О.Броневицкая' 'В.Тертышный' 'В.Воронцов' 'С.Черников'\n",
      " 'Перри Лэнг' 'Мачией Лиговски' 'Леопольдо Агиляр'\n",
      " 'Эмилио Бельмонте Молина' 'Е.Обермаер (псевдоним Е.Шапиро-Обермаер)'\n",
      " 'А.Новокреповская' 'Т.Новикова' 'Валерия Гай Германика'\n",
      " 'Брэндон Кристенсен' 'Себастиан Гробер' 'Аркадий Коган'\n",
      " 'Александр Абатуров' 'Андрэ Шефер' 'И.Долгина' 'О.Аверкиева'\n",
      " 'Е.Паршина-Штайн (псевдоним Елена Штайн)' 'А.Сайфуллина' 'В.Витовцев'\n",
      " 'Е.Севастьянов' 'Е.Милых' 'Жиль Де Местр' 'Али Самади Ахади'\n",
      " 'Валерио Аттаназио' 'Наталья Малыгина'\n",
      " 'Я.Лаптев (псевдоним Яков Раскалов)' 'Д.Резванов, О.Хружков, И.Вейштагин'\n",
      " 'Т.Бекмамбетов, А.Першин (псевдоним Ж.Крыжовников)  , А.Пармас, Е.Баранов, А.Котт'\n",
      " 'Д.Кабаков' 'Джордж Рэтлифф' 'Боб Персичетти, Питер Рамси, Родни Ротман'\n",
      " 'Е.Ермолина' 'Д.Цибаускайте (псевдоним - Дали Руст)' 'А.Круглов'\n",
      " 'Р.Янковский' 'Сара Коланджело' 'Скотт Моужер, Ярроу Чейни' 'Н.Микрюкова'\n",
      " 'М.Васюнов' 'О.Ларин' 'Ю.Рыбакова' 'Ю.Бердников, А.Васин' 'В.Тимощенко'\n",
      " 'Герман Васке' 'С.Раздорский' 'В.Сидоренко' 'О.Лещинер' 'Питер Фаррелли'\n",
      " 'Джованни Троило' 'Евгений Голынкин, Николя Милетич'\n",
      " 'А.Домогаров (младший), В.Кашляев, А.Волгин, И.Вилкова, И.Волкова'\n",
      " 'Джози Рурк' 'Антони Кордье' 'А.Карелина, А.Филиппова, Е.Ланских'\n",
      " 'С.Мкртчян' 'В.Бек, И.Оганесов, А.Симакова, П.Сеплярский' 'Энди Миттон'\n",
      " 'О Семёнова' 'А.Цицилин, Роберт Ленс' 'С.Быченко' 'Стивен Кейпл-мл.'\n",
      " 'Николас Песке' 'Р.Шарафутдинов, Е.Куркова, М.Соснина, Р.Синкевич'\n",
      " 'Хеннинг Кастен' 'Г.Жихаревич' 'А.Кадыкова' 'Е.Хломова' 'А.Красильщиков'\n",
      " 'Г.Игнатов' 'Е.Савин' 'Г.Щерба' 'М,Найт Шьямалан' 'А.Лукьянчиков'\n",
      " 'В.Потапов, А.Карелин' 'Янн Деманж' 'Джулиан Шнабель' 'Хуан Вера'\n",
      " 'Асаф Бернштейн' 'Итан Коэн' 'М.Абдулкадыров' 'В.Дьяченко' 'Э.Тухарели'\n",
      " 'В.Николаев, М.Бабенко' 'А.Сахелашвили' 'Митци Пейроне' 'Лукас Донт'\n",
      " 'Феликс Ван Грунинген'\n",
      " 'Манс Бертас, Ульрика Бандейра, Джулия Гумперт, Оливия Кастербринг и др.'\n",
      " 'О.Барковская' 'Р.Карапетян' 'Е.Егоров'\n",
      " 'Анна Соловьева, Наталья Березовская' 'Крэйг Уильям Макнейлл'\n",
      " 'В.Вохминцев, И.Оганесов, А.Безрукова (псевдоним - Анна Матисон), Р.Мухомеджан, Е.Сычёв'\n",
      " 'А.Шемятовский, И.Оганесов, К.Гогленкова, А.Смирнов, А. Евсеев (псевдоним - Хант), С.Королева'\n",
      " 'А.Сазонов, Е.Климович, А.Коломеец, С.Черникова, Е.Олейник, А.Ефимова'\n",
      " 'Д.Панченко' 'Вари Ом, Джорджия Уайсс' 'Р.Чумаков' 'Крис Мул'\n",
      " 'Патрик Кассир' 'Сара Драйвер' 'П.Сидоров' 'С.Лыгденов' 'Патрисия Уитли'\n",
      " 'М.Бальчюнас (псевдоним Марюс Вайсберг)' ' Т.Саакян' 'Е.Дорофеева'\n",
      " 'В.Потемкин' 'С.Быченко, Т.Обозова' 'И.Затевахин' 'С.Гарькавый'\n",
      " 'П.Солдатенков' 'Г.Курлаев, И.Ситников, А.Щеглов, В.Панжев и др.'\n",
      " 'О.Дроздова' 'К.Герасимов' 'Г.Тесля-Герасимов' 'С.Крючков'\n",
      " 'Карстен Килерих' 'Майкл Митчелл, Триша Гам'\n",
      " 'Понгса Корнсри, Гун Пхансувон, Нат Йосватананонт' 'А.Хаакана'\n",
      " 'Луис Ортега' 'Лучано Лигабуэ' 'Ю.Морская' 'Е.Трапезникова' 'М.Архипов'\n",
      " 'Е.Жиркова, А.Кузина, М.Солошенко' 'В.Копцев, Е.Копцева' 'Лайонел Стекти'\n",
      " 'А.Бадягина' 'Пабло Рохас Кастильо' 'Р.Кузьмина' 'А.Розов' 'А.Гришаков'\n",
      " 'И.Малкин, И.Бессарабова' 'Б.Батуллин' 'С.Сильвертон'\n",
      " 'Фрэнк Миллер, Роберт Родригес, Квентин Тарантино' 'Гейб Клингер'\n",
      " 'Андреас Дрезен' 'В.Кузенков' 'А.Усаков' 'И.Красников, Вахтанги Хубутия'\n",
      " 'Питер Хеджес' 'А.Васильев'\n",
      " 'А.Соколов-Дворников (псевдоним - Алексей Соколов)' 'Надин Лабаки'\n",
      " 'Джо Корниш' 'Ханс Петтер Муланд' 'А.Джазоян' 'А.Руже'\n",
      " 'И.Зайцев, О.Урушев' 'А.Зозуля, М.Елкин' 'М.Волчанская'\n",
      " 'М.Мошкова, А.Борисова, А.Бахурин, Т.Мошкова, А.Жидков, А.Ковтун'\n",
      " 'Н.Фомин' 'Кристоффер Нюхольм' 'Такахиро Омори, Хидэки Ито'\n",
      " 'М.Вартанян (псевдоним - Милана Федосеева)' 'А.Золотухин' 'Джо Пенна'\n",
      " 'Гай Гвидо' 'Мими Ледер' 'Карлос Каррера' 'Н.Бучнева' 'Л.Круглов'\n",
      " 'М.Олейник (псевдоним - Мария Полякова)' 'С.Андрианова'\n",
      " 'Т.Ильина (псевдоним - Иван Непомнящий)' 'Дидерик Ван Ружен'\n",
      " 'Анна Боден, Райан Флек' 'Эрик Барбье' 'Николас МакКарти'\n",
      " 'Питер Хатчингс' 'А.Петрова' 'А.Богуславский, А.Волгин' 'С.Уваров'\n",
      " 'Н.Ведмицкая' 'А.Хржановский' 'Майкл Майер' 'Анатолий Иванов'\n",
      " 'В.Олькович, С.Матросова, Д.Иванов, А.Сэмбон' 'Аманда Шарп'\n",
      " 'Джастин Типпинг' 'Флориан Дэвид Фитц' 'Рашид Бушареб' 'Гастон Дюпра'\n",
      " 'А.Домогаров'\n",
      " 'С.Андрианова, А.Чижикова (псевдоним А.Воронина), П.Кутукина, К.Голубков'\n",
      " 'Д.Великовская, Н.Лопато (псевдоним Нилова)' 'Джузеппе Доминго Романо'\n",
      " 'И.Ермолов, И.Каграманов, Э.Барсегян, Н.Искандарова' 'Мэтт Хейнеман'\n",
      " 'М.Довженко' 'Тува Новотны' 'Майкл Чимино' 'Л.Геращенко' 'В.Фанасютина'\n",
      " 'Фред Вульф' 'С.Крэйг Залер' 'Джона Хилл' 'Тим Молтби, Ричард Финн'\n",
      " 'Си Чао' 'А.Пичужин'\n",
      " 'С.Сафонова, А.Хмельницкая, А.Сальянов, Н.Назарова, Д.Моисеев'\n",
      " 'С.Алякимова' 'А.Лукин' 'Гильермо Иван' 'Кристиан Альварт'\n",
      " 'Джесси В.Джонсон' 'Цзоу И'\n",
      " 'Э.Балье, С.Гейнсборо, А.Дамиан, Ж.Кати, Я.Куйперс, А.Мадзарис, М.Пажек, Д.Хесс, К.Шпект'\n",
      " 'В.Медведев' 'Джош Аппелбаум, Аарон Дем, Эшли Чейни' 'Ю,Гапон'\n",
      " 'Эмануэле Имбуччи' 'Е.Жиркова, А.Кузина, М.Солошенко, С.Кравцова'\n",
      " 'З.Гапиенко' 'Я.Варлашкина' 'Монс Морлинд, Бьёрн Стейн' 'М.Катушкин'\n",
      " 'П.Селин'\n",
      " 'А.Боровикова, Е.Войтович, З.Джиджилава, А.Тимофеева, А.Духонина, И.Басенко, Ю.Машукова'\n",
      " 'С.Струсовский' 'Д.Иванкова' 'Ф.Золоева, В.Гулуев' 'Д.Рудаков'\n",
      " 'С.Васильев' 'Я.Лебедев' 'Ю.Забурьянный (псевдоним Жора Фероренко)'\n",
      " 'Антонио Падован' 'Ли Кронин' 'А.Гаврилов' 'Крис Батлер'\n",
      " 'Алексис Михалик' 'Кевин Колш, Деннис Уидмайер' 'Чарльз Е.Бастьен'\n",
      " 'Е.Бедарев' 'Франсуа Дезанья' 'Анне Севитски' 'Джейсон Стоун'\n",
      " 'Эспен Сандберг' \"Том О'Дэлл\" 'Энтони Марас' 'Элен Жиро, Томас Сабо'\n",
      " 'Деннис Хоппер' 'Ана Урушадзе' 'Бастер Китон' 'Айрис Заки'\n",
      " 'С.Ивекович, Д.Кричли, Д.Кроссвэйт, С.Лэйр, К.Мейнел, Г.Ндириту, Д.Смит, Л.Фоулер, М.Хеске, Д.Холл, Г.Шервин'\n",
      " 'П. \"Хики\" Стручков' 'Л.Борисова' 'Роберт Эггерс' 'Тревор Нанн'\n",
      " 'Вольфганг Лауэнштайн, Кристоф Лауэнштайн'\n",
      " 'Л.Арчидиаконо, Э.Бей, П.Джеремей, Л.Ди Нола, М.Лой, Л.Лукетти, Д.Манджашутти, Д.Мастромауро  '\n",
      " 'Дженни Гейдж' 'Шэнь Юй, Хуан Янь' 'Адам Макдональд' 'С.Саркисов'\n",
      " 'Рэйф Файнс' 'Клаудио Джованнези' 'Майкл Чавес' 'Тае Йонг Ким' 'Бинг Лю'\n",
      " 'Лакарион Вайнайна' 'Катрин Филип' 'Деннис Ботс'\n",
      " 'Карл Кох, Лотти Рейнигер' 'Милорад Крстич' 'Пия Хелленталь'\n",
      " 'Хуан Пабло Поланко, Сесар Алехандро Хаймес' 'Чания Баттон'\n",
      " 'Мигель А.Феррер' 'Марин Атлан' 'Карла фон Бенгтсон' 'Габриела Пихлер'\n",
      " 'Т.Мирошник' 'Милад Алами' 'Люк Лорентцен' 'Джордан Дауни' 'Надав Лапид'\n",
      " 'М.Агранович' 'Т.Тания' 'Н.Назарова' 'Оуэн Эгертон' 'Андрей Тарковский'\n",
      " 'Фарад Сафиниа' 'Д.Былинушкина' 'Джастин Бальдони' 'Крис Эддисон'\n",
      " 'Лила Авильес' 'Стивен Вутерлуд'\n",
      " 'А.Никифоров, В.Шепелев, О.Коронный, В.Кузмина, П.Скворцов' 'Тоуб Хупер'\n",
      " 'Чарльз Е.Бастьен, Джили Долев' 'Пит де Риккер' 'М.Фомина'\n",
      " 'А.Якимчук, В.Лагунов' 'Люк Джейден' 'Мануэль Х.Гарсиа' 'Хьюберт Вейланд'\n",
      " 'Н.Кеппенс, М.Флипс, Ш.Б.Линдхольм, Б.Рэес, М.Бине, П.Баеза, Ф.Браух, М.Пухоль, К.Тэйлхэдс, Й.Тиро, Р.Тирион, П.Пик, А.Манцарис'\n",
      " 'А.Хатулик, Г.Ром, К.Мазахери, Ж.Дара, С.Дара, Ф.-Ф.Морен-Варгас, Л.Тейлор, К.Барретт'\n",
      " 'Ладислас Шолла' 'Джереми Люттер' 'Микаэль Херс' 'Ян Гэ' 'Мэй аль-Тукхи'\n",
      " 'Жак Клюгер' 'Эрик Тости' 'Дэвид Яровецки' 'А.Рыбников' 'Джо Берлингер'\n",
      " 'Роксана Бенжамин' 'Г.Евтушенко' 'П.Смирнов' \"Винсент Д'Онофрио\"\n",
      " 'Тимоти Вудворд младший' 'Джордж А.Ромеро' 'Елена Коссон Кизилова'\n",
      " 'Эмилио Портес' 'Лизе И.Осволл' 'Антонин Бодри' 'Илья Трусов' 'Айк Кбеян'\n",
      " 'Грант Спьютор' 'Ара Пайая' 'Эмма Тамми'\n",
      " 'Джордж Галло, Франческо Синкуемани' 'Л.Садилова'\n",
      " 'Е.Яцкина, А.Рубинштейн' 'А.Лунгин' 'Д.Павлов' 'Г.Добрыгин'\n",
      " 'Саймон Кинберг' 'Мэри Хэррон' 'Лу Жене' 'Стивен Номура Шибле'\n",
      " 'Чальз Е.Бастьен, Бронвин Деннисон, Мигель Мартинез-Хоффре' 'В.Кузовлев'\n",
      " 'Р.Паушу' 'Денис Червяцов' 'Д.Сергин' 'Хоао Пекенао' 'Иван Кальберак'\n",
      " 'Митали Гошал' 'Макс Мингелла' 'Оливье Мейру' 'Б.Акопов' 'А.Пармас'\n",
      " 'Стэйси Пассон' 'Д.Вологдин' 'Джиджи Рокатти' 'Чак Рассел' 'Ли Лиань'\n",
      " 'Ринат Газизов, Илья Трусов' 'Сергей Гордеев, Артем Лукичев'\n",
      " 'Тодд Дуглас Миллер' 'Нестор Саенц Кампос' 'П.Левченко' 'Оливье Бару'\n",
      " 'Николаус Лейтнер' 'Лайам Гэвин' 'Дарио Ардженто' 'Райан Белгхарт'\n",
      " 'Т.Абрамова, Е.Тряпицына' 'Джош Кули' 'Шрирам Рагхаван'\n",
      " 'В.Лисневский, С.Пикалов'\n",
      " 'Дианна Грон, Питер Челсом, Фернандо Эймбке, Джастин Франклин, Деннис Ганзель, Дани Леви, Даниэль Львовски, Йозеф Руснак, Тиль Швайгер, Мэсси Таджедин, Габриэла Черняк'\n",
      " 'Роберт Будро' 'Дэниэл Фаррандс'\n",
      " 'Андрей Беляев, Владислав Байрамгулов, Денис Червяцов, Илья Трусов, Ринат Газизов'\n",
      " 'Р.Артемьев (псев.С.Васильев)' 'Ю.Перкуль, А.Богатырев, А.Камачо'\n",
      " 'Ларс Клевберг' 'Амели ван Элбт' 'Дэн Креч' 'Гари Доберман'\n",
      " 'Гейл Манкусо' 'Мартин Оуэн' 'Лев Прудкин, Владимир Прудкин'\n",
      " 'Майкл С.Ойеда' 'Фархат Шарипов' 'Ольга Львова' 'Пол Хайет'\n",
      " 'Джон Херцфелд' 'Е.Логунцова' 'Вильгельм Домке-Шульц' 'Ф.Петрухин'\n",
      " 'И.Мардарь' 'В.Фекленко' 'Л.Искандерова' 'Н.Сергеева (псевдоним Н.Берег)'\n",
      " 'О.Фомин' 'Дорон Пас, Йоав Пас' 'Пон Чжун-хо' 'Арно Лемор'\n",
      " 'О.Дибцева, Д.Булгаков, А.Ильин, А.Шабаров, А.Борщева (псевдоним - Анастасия Шахватова)'\n",
      " 'Бронвин Деннисон, Мигель Мартинез-Хоффре, Пол Браун'\n",
      " 'Бен Гез, Александра Кулак' 'М.Зыков' 'Риккардо Милани'\n",
      " 'Майкл Дэвид Пэйт' 'Танигути Горо' 'Ю.Мамин' 'Мэтт Аселтон' 'Е.Гусева'\n",
      " 'Ян Бергер' 'Алексей Козлов' 'Клэр МакКарти' 'Антуан Блоссье' 'А.Кибкало'\n",
      " 'Д.Шумакова' 'А.Соколюк' 'Мариано Кон' 'Питер Стриклэнд'\n",
      " 'Кия Роуч-Тернер' 'Гай Наттив' 'Йоахим Масаннек' 'Кирилл Михановский'\n",
      " 'С.Шанкар' 'Сюнъити Ёсидзава' 'Франческо Инверницци' 'Дэвид Махмуди'\n",
      " 'Оливье Массе-Депасс' 'Рон Юань' 'Пак Чжун Су' 'Олег Маламуж'\n",
      " 'Урсула Макфарлейн' 'Туроп Ван Орман' 'Деннисон Рамальо' 'Анна Аревшатян'\n",
      " 'А.Манзуров' 'Марк Веркерк' 'Кацуси Сакураби' 'Амели Равалек'\n",
      " 'Герард Квинто, Эстеве Солер, Дэвид Торрас' 'Эндрю Раймер, Джефф Чан'\n",
      " 'Чхве Гук-хи' 'Е.Невский (псевдоним Е.Торрес)' 'Бертран Банелло'\n",
      " 'Лукас Бернард' 'Джонатан Макхью, Джордан Реннерт' 'Хи-чан Ра'\n",
      " 'Дэн Вэйфэн' 'М.Зыков, Ф.Абрютин' 'Даниэль Фергюсон' 'Д.Давыдов'\n",
      " 'Ю.Ардашев' 'Кевин Джонсон' 'Масаюки Кодзима' 'М.Айрапетов' 'А.Цыренов'\n",
      " 'Тони Пауэр' 'С.Ростоцкий' 'И.Фрэз' 'Самуэль Жуи' 'Маноло Мунгуйя'\n",
      " 'Рёта Накано' 'Гэбриел Маскаро' 'Брайан Ли' 'И.Белов'\n",
      " 'А.Михалков (псевдоним А.Кончаловский)' 'Джордж Галло' 'Кейси Аффлек'\n",
      " 'Келли Эсбёрн' 'Н.Маханько' 'Томас Ян' 'Йоханнес Нюхольм' 'А.Попова'\n",
      " 'Ник Хэмм' 'Люсия Гарибальди' 'Дэвид Рэймонд' 'Тони Уэст'\n",
      " 'Мэттью Беттинелли, Тайлер Джиллетт' 'Андреа Блок, Кристиан Хаас'\n",
      " 'Д.Штурманова (псевдоним: Дуня Лисова)' 'Кэндзи Камияма'\n",
      " 'Т.Байбл, Р.Вивье, К.Гравенд, С.Злотэску, М.Зулоага, Э.Калемар, А.Капур, К.Ле Тёфф, Н.Лурм, Г.Робертс, Т.Руссо, Р.Тёрнер, Й.Эвер-Хадани'\n",
      " 'Джакомо Гатти' 'И.Дамаскин, Р.Рашитов'\n",
      " 'П.Анделл, М,Барбе, А,Войячек, Ф.Дэвис, Ф,Кит-Роуч, А.Лейт-Роджерс, Х.О.Рамос, И.Пиат, О.Прендергаст, М.Риахи'\n",
      " 'М.Карри, У.Киндрик, И.Пьятт, А.Рис, С.Роден, С.Сури, Н.Хартанто'\n",
      " 'Джеймс Франко' 'Энди Мускетти' 'Хироюки Имаиси' 'Юхэй Сакураги'\n",
      " 'А.Богатырев, А.Камачо' 'Джастин Пембертон' 'Кристиан Волькман'\n",
      " 'Леон Динг' 'И.Соснин, П.Андреева, М.Местецкий, Е.Стишова, М.Архипов'\n",
      " 'Йоаким Роннинг' 'Валерия Паризи' 'Сальвадор Симо' 'Кори Пирсон'\n",
      " 'Лорин Скафария' 'Илья Хржановский' 'Гаррет Прайс' 'Линь Хуэйда, Дин Лян'\n",
      " 'Г.Сальников' 'Барт Фрейндлих' 'М.Мерзликин' 'Арно Деплешен'\n",
      " 'П.Ольденбург' 'Мэтт Тирнаур' 'Шеймус Мёрфи'\n",
      " 'Нильс Болбринкер, Томас Тильш' 'Дэвид Дитль' 'Алан Линдсэй'\n",
      " 'Марко Кройцпайнтнер' 'Марко Беллоккьо '\n",
      " 'Аасне Ваа Грейброкк, Тор Бренн, Исаак Гёртсен, Мария Лойтер, Патрик Эклунд'\n",
      " 'Анна Соловьева' 'Д.Фадеев' 'М.Морсков' 'И.Кунилов'\n",
      " 'Т.Андрианова (псевд.Т.Вигель)' 'Аюму Ватанабэ' 'Патриша Уитли'\n",
      " 'Го Аун Хое' 'Каллен Брункер' 'А.Шархун' 'Сэфи Неббу' 'Элиз Дюран'\n",
      " 'Генри Джейкобсон' 'Тодд Вилдерман, Джилл Калтон' 'Сиддхартх Ананд'\n",
      " 'Абе Форсайт' 'Лулу Ванг'\n",
      " 'Чарльз Е.Бастьен, Дэвид Нотт, Карин-Энн Андерсон' 'Ник Брумфилд'\n",
      " 'Джим Хоскин' 'Джереми Деллер' 'Гийом Медачевски' 'Майк Ган'\n",
      " 'Руперт Гулд' 'Джон Лукас, Скотт Мкр' 'Аньес Варда, Дидье Роже'\n",
      " 'Карлос Гутиеррез Медрано' 'Г.Менкяров' 'Н.Малыгина'\n",
      " 'Андрей Гринько, Макс Сирый' 'Дон Харди, Дэна Начман'\n",
      " 'Зак Липовски, Адам Б.Стейн' 'Джейсон Кэбелл' 'М.Игнатенко'\n",
      " 'Скотт Бек, Брайан Вудс' 'Тайлер Нильсен, Майкл Шварц'\n",
      " \"Шон Патрик О'Рейли\" 'Жослин ДеБоэр, Доун Люббе'\n",
      " 'Франко Кастеллано, Джузеппе Моччиа' 'Селин Скьямма' 'А.Пинхасов'\n",
      " 'Фил Грабски' 'Марианна Яровская' 'Юго Желен' 'А.Митёшин' 'Майкл Энглер'\n",
      " 'Грег Тирнан, Конрад Вернон' 'А.Бажанов' 'Игорь Тувери' 'Рейчел Хиронс'\n",
      " 'Ванесса Фильо' 'Александр Клименко' 'Анхель Алонсо' 'Рейчел Гриффитс'\n",
      " 'Чарльз Чаплин' 'Элис Вэддингтон' 'Т.Гулина' 'Дэвид Бикерстафф'\n",
      " 'Уэйн Робертс' 'Патрик Брайс' 'Джузеппе Стази, Джанкарло Фонтана'\n",
      " 'Уильям Кауфман' 'Микаэль Хальфстрем' 'Кевин Монро' 'И.Копылов, С.Щербин'\n",
      " 'Харука Фудзита, Таити Исидатэ' 'О.Городецкая' 'Роман Козич'\n",
      " 'Петра Хёфер, Фредди Рёкенхаус'\n",
      " 'Ж.Альберт, К.Грижевски, С.Зморк, И.Кранковски, Д.Милейро, Э.Романс,, Н.Тайберг, Х.Фариас '\n",
      " 'Дэвид Холройд' 'Себастьян Джонс, Рамез Силян' 'Джун Янг Йом'\n",
      " 'Миккель Бранде Сандемузе' 'Фредерик Ченг' 'Габриэль Жюльен-Лаферье'\n",
      " 'Джастин Дек' 'Хади Мохамадян' 'Пол Кампф' 'Альфонсо Гомес-Рехон'\n",
      " 'Мартин Шрейер' 'Ж.Бадмацыренов' 'А.Иванов' 'Г.Кузнецов' 'В.Лаптев'\n",
      " 'Я.Лапшин' 'О.Николаевский' 'Рафик Сарджанян' 'Мати Диоп' 'И.Рожков'\n",
      " 'Мумин Шакиров' 'Чан Хун' 'Уэс Андерсен' 'Юкка-Пекка Валькеапяя'\n",
      " 'Джейк Кэздан' 'Майкл Мелски' 'Азиз Джиндани' 'Луи Валлекан'\n",
      " 'О.Арлаускайте (псевд.О.Арлаускас)' 'Ладж Ли' 'Алла Ковган'\n",
      " 'О.Степанцова' 'А.Герасимов' 'А.Басов' 'А.Федоров' 'Эдвард Нортон'\n",
      " 'Ли Джон-хо' 'Дяо Инань' 'Брайан Кирк' 'Роуэн Этейл' 'Фенар Ахмад'\n",
      " 'Зёнке Вортманн' 'Артем Лукичев' 'Джефф Чан'\n",
      " 'Чарльз Е.Бастьен, Билл Спирс' 'Адам Рэндолл' 'Ю.Казачков' 'Н.Герман'\n",
      " 'В.Бедошвили, О.Ужинов, И.Пшонкин, Д.Цыбулькин'\n",
      " 'Стэнли Кубрик, Мэтт Уэллс' 'Закари Адлер' 'Вадих Эль Хайек'\n",
      " 'Кирби Аткинс' 'Д.Шмидт, К.Феоктистов' 'Л.Соломатина (Томилова)'\n",
      " 'Виктор Флеминг' 'Н.Карачкова' 'Софи Такал' ' Ф.Бондарчук' 'К.Чувикова'\n",
      " 'Симона Костова' 'М.Бальчюнас (псевдоним М.Вайсберг)' 'Д.Григорьев'\n",
      " 'Ник Пойнц' 'Ник Пауэлл' 'А.Беляев' 'И.Трусов']\n"
     ]
    }
   ],
   "source": [
    "with np.printoptions(threshold=np.inf):\n",
    "    print(df['director'].unique())"
   ]
  },
  {
   "cell_type": "markdown",
   "metadata": {},
   "source": [
    "После изучения уникальных значений видно что в качестве разделителя можно использовать `,`\n",
    "\n",
    "Напишем и применим функцию которая разделит строки на отдельные значения."
   ]
  },
  {
   "cell_type": "code",
   "execution_count": 39,
   "metadata": {},
   "outputs": [],
   "source": [
    "def split(string, **kwargs):\n",
    "    '''\n",
    "    Функция принимает строку и возвращает первое вхождение до запятой.\n",
    "    '''\n",
    "    if string == string:\n",
    "        for i in kwargs:\n",
    "            string = string.split(kwargs[i])[0]\n",
    "        return string.strip()\n",
    "    else:\n",
    "        return np.nan"
   ]
  },
  {
   "cell_type": "markdown",
   "metadata": {},
   "source": [
    "Применим функцию для создания новых столбцов."
   ]
  },
  {
   "cell_type": "code",
   "execution_count": 40,
   "metadata": {
    "scrolled": true
   },
   "outputs": [],
   "source": [
    "df['main_director'] = df['director'].apply(split, sep_1=',').astype('category')\n",
    "df['main_producer'] = df['producer'].apply(split, sep_1=',').astype('category')\n",
    "df['main_genre'] = df['genres'].apply(split, sep_1=',').astype('category')\n",
    "df['main_country'] = df['production_country'].apply(split, sep_1=',', sep_2='-').astype('category')"
   ]
  },
  {
   "cell_type": "code",
   "execution_count": 41,
   "metadata": {},
   "outputs": [
    {
     "data": {
      "text/plain": [
       "[США, СССР, Франция, Германия, Великобритания, ..., Республика Армения, Пуэрто, 2019, Сша, Пакистан]\n",
       "Length: 87\n",
       "Categories (86, object): [США, СССР, Франция, Германия, ..., Пуэрто, 2019, Сша, Пакистан]"
      ]
     },
     "execution_count": 41,
     "metadata": {},
     "output_type": "execute_result"
    }
   ],
   "source": [
    "# код ревьюера для проверки\n",
    "df['main_country'].unique()"
   ]
  },
  {
   "cell_type": "markdown",
   "metadata": {
    "id": "1FsCXHwdgFyU"
   },
   "source": [
    "Посчитаем, какую долю от общего бюджета фильма составляет государственная поддержка."
   ]
  },
  {
   "cell_type": "code",
   "execution_count": 42,
   "metadata": {
    "id": "LV6qFuZLgFyV"
   },
   "outputs": [],
   "source": [
    "df['share'] = ((df['refundable_support'] + df['nonrefundable_support'])/df['budget']*100).round(decimals=2)"
   ]
  },
  {
   "cell_type": "markdown",
   "metadata": {},
   "source": [
    "Посчитаем общее количество финансирования от государства."
   ]
  },
  {
   "cell_type": "code",
   "execution_count": 43,
   "metadata": {},
   "outputs": [],
   "source": [
    "df['total_support'] = df['refundable_support'] + df['nonrefundable_support']"
   ]
  },
  {
   "cell_type": "markdown",
   "metadata": {},
   "source": [
    "Отсортируем столбцы."
   ]
  },
  {
   "cell_type": "code",
   "execution_count": 44,
   "metadata": {},
   "outputs": [],
   "source": [
    "df = df[[\n",
    "    'title',\n",
    "    'pu_number',\n",
    "    'show_start_date',\n",
    "    'year',\n",
    "    'type',\n",
    "    'film_studio',\n",
    "    'production_country',\n",
    "    'main_country',\n",
    "    'director',\n",
    "    'main_director',\n",
    "    'producer',\n",
    "    'main_producer',\n",
    "    'age_restriction',\n",
    "    'refundable_support',\n",
    "    'nonrefundable_support',\n",
    "    'total_support',\n",
    "    'budget',\n",
    "    'share',\n",
    "    'financing_source',\n",
    "    'ratings',\n",
    "    'genres',\n",
    "    'main_genre',\n",
    "    'box_office'\n",
    "]]"
   ]
  },
  {
   "cell_type": "markdown",
   "metadata": {},
   "source": [
    "Ещё раз проверим основную информацию по таблице."
   ]
  },
  {
   "cell_type": "code",
   "execution_count": 45,
   "metadata": {},
   "outputs": [
    {
     "name": "stdout",
     "output_type": "stream",
     "text": [
      "<class 'pandas.core.frame.DataFrame'>\n",
      "Int64Index: 7483 entries, 0 to 7485\n",
      "Data columns (total 23 columns):\n",
      "title                    7483 non-null object\n",
      "pu_number                7483 non-null int64\n",
      "show_start_date          7483 non-null datetime64[ns, UTC]\n",
      "year                     7483 non-null int16\n",
      "type                     7483 non-null category\n",
      "film_studio              7465 non-null object\n",
      "production_country       7481 non-null object\n",
      "main_country             7481 non-null category\n",
      "director                 7474 non-null object\n",
      "main_director            7474 non-null category\n",
      "producer                 6915 non-null object\n",
      "main_producer            6915 non-null category\n",
      "age_restriction          7483 non-null category\n",
      "refundable_support       329 non-null float64\n",
      "nonrefundable_support    329 non-null float64\n",
      "total_support            329 non-null float64\n",
      "budget                   329 non-null float64\n",
      "share                    329 non-null float64\n",
      "financing_source         329 non-null category\n",
      "ratings                  6516 non-null float64\n",
      "genres                   6507 non-null object\n",
      "main_genre               6507 non-null category\n",
      "box_office               3156 non-null float64\n",
      "dtypes: category(7), datetime64[ns, UTC](1), float64(7), int16(1), int64(1), object(6)\n",
      "memory usage: 1.4+ MB\n"
     ]
    }
   ],
   "source": [
    "df.info()"
   ]
  },
  {
   "cell_type": "markdown",
   "metadata": {},
   "source": [
    "### Вывод\n",
    "\n",
    "Мы добавили необходимые для анализа столбцы, выделив отдельно основную страну производства, год выхода в прокат, основного режиссёра и основной жанр.\n",
    "\n",
    "Теперь данные готовы для проведения исследовательского анализа."
   ]
  },
  {
   "cell_type": "markdown",
   "metadata": {
    "id": "KLDGpPG0gFyM"
   },
   "source": [
    "## Часть 3. Исследовательский анализ данных <a id=\"step3\"></a>"
   ]
  },
  {
   "cell_type": "markdown",
   "metadata": {
    "id": "vAH8WCzugFyV"
   },
   "source": [
    "Посмотрим, сколько фильмов выходило в прокат каждый год."
   ]
  },
  {
   "cell_type": "code",
   "execution_count": 46,
   "metadata": {
    "id": "ABeV47y7gFyW",
    "scrolled": false
   },
   "outputs": [
    {
     "data": {
      "image/png": "[encoded data removed]",
      "text/plain": [
       "<Figure size 1080x360 with 1 Axes>"
      ]
     },
     "metadata": {
      "needs_background": "light"
     },
     "output_type": "display_data"
    }
   ],
   "source": [
    "f, ax = plt.subplots(figsize=(15, 5))\n",
    "\n",
    "plt.xlabel('Год выхода в прокат', labelpad = 10, size = 12)\n",
    "plt.ylabel('Количество фильмов', labelpad = 10, size = 12)\n",
    "plt.title('Распределение фильмов по году выхода в прокат', pad = 15, size = 16)\n",
    "\n",
    "ax.set(xlim=(2009, 2020), xticks=np.arange(2010, 2020, 1),\n",
    "       ylim=(0, 1150), yticks=np.arange(0, 1200, 100))\n",
    "\n",
    "sns.histplot(data=df, x='year', discrete=True, multiple='stack', alpha=.1)\n",
    "\n",
    "sns.histplot(data=df, x='year', hue=~df['box_office'].isna(), discrete=True, legend=True, multiple='dodge', alpha=.75)\n",
    "\n",
    "for container in ax.containers:\n",
    "    ax.bar_label(container, padding = 4, fontsize = 14)\n",
    "\n",
    "plt.show()"
   ]
  },
  {
   "cell_type": "markdown",
   "metadata": {},
   "source": [
    "В 2010 году вышло рекордное количество фильмов, затем было падение больше чем на треть и последующий рост год от года. Выделяется так же 2017 год, падением на треть.\n",
    "\n",
    "Обратим внимание, что данные о прокате в кинотеатрах известны не для всех фильмов. Количество фильмов без информации о сборах падает от года к году, одновременно растёт количество фильмов с известными сборами."
   ]
  },
  {
   "cell_type": "markdown",
   "metadata": {},
   "source": [
    "Посчитаем, какую долю составляют фильмы с указанной информацией о прокате в кинотеатрах."
   ]
  },
  {
   "cell_type": "code",
   "execution_count": 47,
   "metadata": {},
   "outputs": [
    {
     "data": {
      "image/png": "[encoded data removed]",
      "text/plain": [
       "<Figure size 1080x360 with 1 Axes>"
      ]
     },
     "metadata": {
      "needs_background": "light"
     },
     "output_type": "display_data"
    }
   ],
   "source": [
    "f, ax = plt.subplots(figsize=(15, 5))\n",
    "\n",
    "plt.xlabel('Год выхода в прокат', labelpad = 10, size = 12)\n",
    "plt.ylabel('Доля фильмов с данными по прокату', labelpad = 10, size = 12)\n",
    "plt.title('Доля фильмов с данными по прокату по годам выхода в прокат', pad = 15, size = 16)\n",
    "\n",
    "ax.set(xlim=(2009, 2020), xticks=np.arange(2010, 2020, 1),\n",
    "       ylim=(0, 1), yticks=np.arange(0, 1.1, 0.1))\n",
    "\n",
    "sns.histplot(data=df, x='year', hue=~df['box_office'].isna(), discrete=True, legend=True, multiple='fill', alpha=.75)\n",
    "\n",
    "ax.bar_label(ax.containers[0], padding = 4, fontsize = 14)\n",
    "\n",
    "plt.show()"
   ]
  },
  {
   "cell_type": "markdown",
   "metadata": {
    "id": "BEOdcIrIgFyW"
   },
   "source": [
    "Доля фильмов с данными по прокату постепенно растёт, от 11% в 2010 до 57% в 2019 с пиком в 71% в 2017."
   ]
  },
  {
   "cell_type": "markdown",
   "metadata": {
    "id": "BEOdcIrIgFyW"
   },
   "source": [
    "Изучим, как менялась динамика проката по годам. В каком году сумма сборов была минимальной? А максимальной?"
   ]
  },
  {
   "cell_type": "code",
   "execution_count": 48,
   "metadata": {},
   "outputs": [
    {
     "data": {
      "text/html": [
       "<div>\n",
       "<style scoped>\n",
       "    .dataframe tbody tr th:only-of-type {\n",
       "        vertical-align: middle;\n",
       "    }\n",
       "\n",
       "    .dataframe tbody tr th {\n",
       "        vertical-align: top;\n",
       "    }\n",
       "\n",
       "    .dataframe thead tr th {\n",
       "        text-align: left;\n",
       "    }\n",
       "\n",
       "    .dataframe thead tr:last-of-type th {\n",
       "        text-align: right;\n",
       "    }\n",
       "</style>\n",
       "<table border=\"1\" class=\"dataframe\">\n",
       "  <thead>\n",
       "    <tr>\n",
       "      <th></th>\n",
       "      <th>sum</th>\n",
       "      <th>min</th>\n",
       "      <th>max</th>\n",
       "    </tr>\n",
       "    <tr>\n",
       "      <th></th>\n",
       "      <th>box_office</th>\n",
       "      <th>box_office</th>\n",
       "      <th>box_office</th>\n",
       "    </tr>\n",
       "    <tr>\n",
       "      <th>year</th>\n",
       "      <th></th>\n",
       "      <th></th>\n",
       "      <th></th>\n",
       "    </tr>\n",
       "  </thead>\n",
       "  <tbody>\n",
       "    <tr>\n",
       "      <td>2010</td>\n",
       "      <td>2.428654</td>\n",
       "      <td>0.000000</td>\n",
       "      <td>1.446400</td>\n",
       "    </tr>\n",
       "    <tr>\n",
       "      <td>2011</td>\n",
       "      <td>14.102765</td>\n",
       "      <td>0.000125</td>\n",
       "      <td>11.618085</td>\n",
       "    </tr>\n",
       "    <tr>\n",
       "      <td>2012</td>\n",
       "      <td>6.955423</td>\n",
       "      <td>0.000000</td>\n",
       "      <td>2.311220</td>\n",
       "    </tr>\n",
       "    <tr>\n",
       "      <td>2013</td>\n",
       "      <td>29.799706</td>\n",
       "      <td>0.000000</td>\n",
       "      <td>19.957031</td>\n",
       "    </tr>\n",
       "    <tr>\n",
       "      <td>2014</td>\n",
       "      <td>7434.717843</td>\n",
       "      <td>0.000000</td>\n",
       "      <td>1016.410635</td>\n",
       "    </tr>\n",
       "    <tr>\n",
       "      <td>2015</td>\n",
       "      <td>39495.407458</td>\n",
       "      <td>0.000000</td>\n",
       "      <td>1658.861425</td>\n",
       "    </tr>\n",
       "    <tr>\n",
       "      <td>2016</td>\n",
       "      <td>47866.299742</td>\n",
       "      <td>0.000000</td>\n",
       "      <td>2048.126108</td>\n",
       "    </tr>\n",
       "    <tr>\n",
       "      <td>2017</td>\n",
       "      <td>48563.707218</td>\n",
       "      <td>0.007900</td>\n",
       "      <td>2779.686144</td>\n",
       "    </tr>\n",
       "    <tr>\n",
       "      <td>2018</td>\n",
       "      <td>49668.403134</td>\n",
       "      <td>0.041225</td>\n",
       "      <td>2271.754005</td>\n",
       "    </tr>\n",
       "    <tr>\n",
       "      <td>2019</td>\n",
       "      <td>48278.101953</td>\n",
       "      <td>0.004398</td>\n",
       "      <td>3073.568691</td>\n",
       "    </tr>\n",
       "  </tbody>\n",
       "</table>\n",
       "</div>"
      ],
      "text/plain": [
       "               sum        min          max\n",
       "        box_office box_office   box_office\n",
       "year                                      \n",
       "2010      2.428654   0.000000     1.446400\n",
       "2011     14.102765   0.000125    11.618085\n",
       "2012      6.955423   0.000000     2.311220\n",
       "2013     29.799706   0.000000    19.957031\n",
       "2014   7434.717843   0.000000  1016.410635\n",
       "2015  39495.407458   0.000000  1658.861425\n",
       "2016  47866.299742   0.000000  2048.126108\n",
       "2017  48563.707218   0.007900  2779.686144\n",
       "2018  49668.403134   0.041225  2271.754005\n",
       "2019  48278.101953   0.004398  3073.568691"
      ]
     },
     "execution_count": 48,
     "metadata": {},
     "output_type": "execute_result"
    }
   ],
   "source": [
    "df.pivot_table(index='year', values='box_office', aggfunc=['sum', 'min', 'max'])"
   ]
  },
  {
   "cell_type": "markdown",
   "metadata": {
    "id": "G-7qS-N-gFyY"
   },
   "source": [
    "Сумма сборов растёт от года к году. Максимум был зафиксирован в 2018 году и составил 49,668 млрд рублей.\n",
    "Максимум сборов для одной ленты - 3,073 млрд рублей.\n",
    "\n",
    "Минимальная сумма сбора была в 2010 году - всего 2,428 млн рублей, но это объясняется скорее малым количеством данных.\n",
    "\n",
    "С помощью сводной таблицы посчитаем среднюю и медианную сумму сборов для каждого года."
   ]
  },
  {
   "cell_type": "code",
   "execution_count": 49,
   "metadata": {
    "id": "jmp-rgg9gFyY"
   },
   "outputs": [
    {
     "data": {
      "text/html": [
       "<div>\n",
       "<style scoped>\n",
       "    .dataframe tbody tr th:only-of-type {\n",
       "        vertical-align: middle;\n",
       "    }\n",
       "\n",
       "    .dataframe tbody tr th {\n",
       "        vertical-align: top;\n",
       "    }\n",
       "\n",
       "    .dataframe thead tr th {\n",
       "        text-align: left;\n",
       "    }\n",
       "\n",
       "    .dataframe thead tr:last-of-type th {\n",
       "        text-align: right;\n",
       "    }\n",
       "</style>\n",
       "<table border=\"1\" class=\"dataframe\">\n",
       "  <thead>\n",
       "    <tr>\n",
       "      <th></th>\n",
       "      <th>mean</th>\n",
       "      <th>median</th>\n",
       "    </tr>\n",
       "    <tr>\n",
       "      <th></th>\n",
       "      <th>box_office</th>\n",
       "      <th>box_office</th>\n",
       "    </tr>\n",
       "    <tr>\n",
       "      <th>year</th>\n",
       "      <th></th>\n",
       "      <th></th>\n",
       "    </tr>\n",
       "  </thead>\n",
       "  <tbody>\n",
       "    <tr>\n",
       "      <td>2010</td>\n",
       "      <td>0.023130</td>\n",
       "      <td>0.001700</td>\n",
       "    </tr>\n",
       "    <tr>\n",
       "      <td>2011</td>\n",
       "      <td>0.129383</td>\n",
       "      <td>0.003000</td>\n",
       "    </tr>\n",
       "    <tr>\n",
       "      <td>2012</td>\n",
       "      <td>0.054339</td>\n",
       "      <td>0.005660</td>\n",
       "    </tr>\n",
       "    <tr>\n",
       "      <td>2013</td>\n",
       "      <td>0.161955</td>\n",
       "      <td>0.003523</td>\n",
       "    </tr>\n",
       "    <tr>\n",
       "      <td>2014</td>\n",
       "      <td>26.647734</td>\n",
       "      <td>0.018115</td>\n",
       "    </tr>\n",
       "    <tr>\n",
       "      <td>2015</td>\n",
       "      <td>85.119413</td>\n",
       "      <td>4.946745</td>\n",
       "    </tr>\n",
       "    <tr>\n",
       "      <td>2016</td>\n",
       "      <td>91.000570</td>\n",
       "      <td>3.846679</td>\n",
       "    </tr>\n",
       "    <tr>\n",
       "      <td>2017</td>\n",
       "      <td>136.032793</td>\n",
       "      <td>9.968340</td>\n",
       "    </tr>\n",
       "    <tr>\n",
       "      <td>2018</td>\n",
       "      <td>104.565059</td>\n",
       "      <td>8.891102</td>\n",
       "    </tr>\n",
       "    <tr>\n",
       "      <td>2019</td>\n",
       "      <td>91.262953</td>\n",
       "      <td>4.601034</td>\n",
       "    </tr>\n",
       "  </tbody>\n",
       "</table>\n",
       "</div>"
      ],
      "text/plain": [
       "            mean     median\n",
       "      box_office box_office\n",
       "year                       \n",
       "2010    0.023130   0.001700\n",
       "2011    0.129383   0.003000\n",
       "2012    0.054339   0.005660\n",
       "2013    0.161955   0.003523\n",
       "2014   26.647734   0.018115\n",
       "2015   85.119413   4.946745\n",
       "2016   91.000570   3.846679\n",
       "2017  136.032793   9.968340\n",
       "2018  104.565059   8.891102\n",
       "2019   91.262953   4.601034"
      ]
     },
     "execution_count": 49,
     "metadata": {},
     "output_type": "execute_result"
    }
   ],
   "source": [
    "df.pivot_table(index='year', values='box_office', aggfunc=['mean', 'median'])"
   ]
  },
  {
   "cell_type": "markdown",
   "metadata": {
    "id": "Ok89WFwJgFyZ"
   },
   "source": [
    "Средняя сумма сборов по картинам была максимальной  2017 году - 136 млн рублей. Медиана же намного скромнее, максимум достигнут в том же 2017 году - 9,968 млн рублей."
   ]
  },
  {
   "cell_type": "code",
   "execution_count": 72,
   "metadata": {},
   "outputs": [
    {
     "data": {
      "image/png": "[encoded data removed]",
      "text/plain": [
       "<Figure size 432x288 with 1 Axes>"
      ]
     },
     "metadata": {
      "needs_background": "light"
     },
     "output_type": "display_data"
    }
   ],
   "source": [
    "df.pivot_table(index='year', values='box_office', aggfunc=['mean', 'median']).plot();"
   ]
  },
  {
   "cell_type": "markdown",
   "metadata": {
    "id": "Ok89WFwJgFyZ"
   },
   "source": [
    "Определим, влияет ли возрастное ограничение аудитории («6+», «12+», «16+», «18+» и т. д.) на сборы фильма в прокате в период с 2015 по 2019 год? Фильмы с каким возрастным ограничением собрали больше всего денег в прокате? Меняется ли картина в зависимости от года?"
   ]
  },
  {
   "cell_type": "code",
   "execution_count": 50,
   "metadata": {},
   "outputs": [
    {
     "data": {
      "text/html": [
       "<div>\n",
       "<style scoped>\n",
       "    .dataframe tbody tr th:only-of-type {\n",
       "        vertical-align: middle;\n",
       "    }\n",
       "\n",
       "    .dataframe tbody tr th {\n",
       "        vertical-align: top;\n",
       "    }\n",
       "\n",
       "    .dataframe thead tr th {\n",
       "        text-align: left;\n",
       "    }\n",
       "\n",
       "    .dataframe thead tr:last-of-type th {\n",
       "        text-align: right;\n",
       "    }\n",
       "</style>\n",
       "<table border=\"1\" class=\"dataframe\">\n",
       "  <thead>\n",
       "    <tr>\n",
       "      <th></th>\n",
       "      <th></th>\n",
       "      <th>sum</th>\n",
       "      <th>mean</th>\n",
       "      <th>median</th>\n",
       "    </tr>\n",
       "    <tr>\n",
       "      <th></th>\n",
       "      <th></th>\n",
       "      <th>box_office</th>\n",
       "      <th>box_office</th>\n",
       "      <th>box_office</th>\n",
       "    </tr>\n",
       "    <tr>\n",
       "      <th>age_restriction</th>\n",
       "      <th>year</th>\n",
       "      <th></th>\n",
       "      <th></th>\n",
       "      <th></th>\n",
       "    </tr>\n",
       "  </thead>\n",
       "  <tbody>\n",
       "    <tr>\n",
       "      <td rowspan=\"5\" valign=\"top\">«0+» - для любой зрительской аудитории</td>\n",
       "      <td>2015</td>\n",
       "      <td>379.054578</td>\n",
       "      <td>9.719348</td>\n",
       "      <td>2.943319</td>\n",
       "    </tr>\n",
       "    <tr>\n",
       "      <td>2016</td>\n",
       "      <td>150.228849</td>\n",
       "      <td>3.664118</td>\n",
       "      <td>2.571294</td>\n",
       "    </tr>\n",
       "    <tr>\n",
       "      <td>2017</td>\n",
       "      <td>229.598930</td>\n",
       "      <td>76.532977</td>\n",
       "      <td>22.178956</td>\n",
       "    </tr>\n",
       "    <tr>\n",
       "      <td>2018</td>\n",
       "      <td>32.449002</td>\n",
       "      <td>6.489800</td>\n",
       "      <td>3.616937</td>\n",
       "    </tr>\n",
       "    <tr>\n",
       "      <td>2019</td>\n",
       "      <td>17.746067</td>\n",
       "      <td>5.915356</td>\n",
       "      <td>3.885435</td>\n",
       "    </tr>\n",
       "    <tr>\n",
       "      <td rowspan=\"5\" valign=\"top\">«6+» - для детей старше 6 лет</td>\n",
       "      <td>2015</td>\n",
       "      <td>8701.799371</td>\n",
       "      <td>164.184894</td>\n",
       "      <td>20.380982</td>\n",
       "    </tr>\n",
       "    <tr>\n",
       "      <td>2016</td>\n",
       "      <td>12053.146008</td>\n",
       "      <td>172.187800</td>\n",
       "      <td>3.026256</td>\n",
       "    </tr>\n",
       "    <tr>\n",
       "      <td>2017</td>\n",
       "      <td>12086.142146</td>\n",
       "      <td>268.580937</td>\n",
       "      <td>51.992103</td>\n",
       "    </tr>\n",
       "    <tr>\n",
       "      <td>2018</td>\n",
       "      <td>10104.974623</td>\n",
       "      <td>148.602568</td>\n",
       "      <td>14.688850</td>\n",
       "    </tr>\n",
       "    <tr>\n",
       "      <td>2019</td>\n",
       "      <td>12704.941824</td>\n",
       "      <td>158.811773</td>\n",
       "      <td>12.525532</td>\n",
       "    </tr>\n",
       "    <tr>\n",
       "      <td rowspan=\"5\" valign=\"top\">«12+» - для детей старше 12 лет</td>\n",
       "      <td>2015</td>\n",
       "      <td>13616.082009</td>\n",
       "      <td>186.521671</td>\n",
       "      <td>15.351562</td>\n",
       "    </tr>\n",
       "    <tr>\n",
       "      <td>2016</td>\n",
       "      <td>12204.446524</td>\n",
       "      <td>148.834714</td>\n",
       "      <td>4.690635</td>\n",
       "    </tr>\n",
       "    <tr>\n",
       "      <td>2017</td>\n",
       "      <td>7851.427661</td>\n",
       "      <td>191.498236</td>\n",
       "      <td>9.010548</td>\n",
       "    </tr>\n",
       "    <tr>\n",
       "      <td>2018</td>\n",
       "      <td>14267.291661</td>\n",
       "      <td>212.944652</td>\n",
       "      <td>8.931966</td>\n",
       "    </tr>\n",
       "    <tr>\n",
       "      <td>2019</td>\n",
       "      <td>12680.198774</td>\n",
       "      <td>149.178809</td>\n",
       "      <td>3.405546</td>\n",
       "    </tr>\n",
       "    <tr>\n",
       "      <td rowspan=\"5\" valign=\"top\">«16+» - для детей старше 16 лет</td>\n",
       "      <td>2015</td>\n",
       "      <td>11368.120870</td>\n",
       "      <td>67.667386</td>\n",
       "      <td>4.676819</td>\n",
       "    </tr>\n",
       "    <tr>\n",
       "      <td>2016</td>\n",
       "      <td>16664.548542</td>\n",
       "      <td>91.563454</td>\n",
       "      <td>5.133022</td>\n",
       "    </tr>\n",
       "    <tr>\n",
       "      <td>2017</td>\n",
       "      <td>18745.042900</td>\n",
       "      <td>154.917710</td>\n",
       "      <td>9.702077</td>\n",
       "    </tr>\n",
       "    <tr>\n",
       "      <td>2018</td>\n",
       "      <td>16503.602347</td>\n",
       "      <td>105.792323</td>\n",
       "      <td>9.010639</td>\n",
       "    </tr>\n",
       "    <tr>\n",
       "      <td>2019</td>\n",
       "      <td>12753.418985</td>\n",
       "      <td>71.648421</td>\n",
       "      <td>3.210718</td>\n",
       "    </tr>\n",
       "    <tr>\n",
       "      <td rowspan=\"5\" valign=\"top\">«18+» - запрещено для детей</td>\n",
       "      <td>2015</td>\n",
       "      <td>5430.350629</td>\n",
       "      <td>41.453058</td>\n",
       "      <td>4.654761</td>\n",
       "    </tr>\n",
       "    <tr>\n",
       "      <td>2016</td>\n",
       "      <td>6793.929819</td>\n",
       "      <td>44.992913</td>\n",
       "      <td>6.107002</td>\n",
       "    </tr>\n",
       "    <tr>\n",
       "      <td>2017</td>\n",
       "      <td>9651.495581</td>\n",
       "      <td>65.656433</td>\n",
       "      <td>8.212677</td>\n",
       "    </tr>\n",
       "    <tr>\n",
       "      <td>2018</td>\n",
       "      <td>8760.085501</td>\n",
       "      <td>48.939025</td>\n",
       "      <td>7.179466</td>\n",
       "    </tr>\n",
       "    <tr>\n",
       "      <td>2019</td>\n",
       "      <td>10121.796304</td>\n",
       "      <td>55.310362</td>\n",
       "      <td>5.603217</td>\n",
       "    </tr>\n",
       "  </tbody>\n",
       "</table>\n",
       "</div>"
      ],
      "text/plain": [
       "                                                      sum        mean  \\\n",
       "                                               box_office  box_office   \n",
       "age_restriction                        year                             \n",
       "«0+» - для любой зрительской аудитории 2015    379.054578    9.719348   \n",
       "                                       2016    150.228849    3.664118   \n",
       "                                       2017    229.598930   76.532977   \n",
       "                                       2018     32.449002    6.489800   \n",
       "                                       2019     17.746067    5.915356   \n",
       "«6+» - для детей старше 6 лет          2015   8701.799371  164.184894   \n",
       "                                       2016  12053.146008  172.187800   \n",
       "                                       2017  12086.142146  268.580937   \n",
       "                                       2018  10104.974623  148.602568   \n",
       "                                       2019  12704.941824  158.811773   \n",
       "«12+» - для детей старше 12 лет        2015  13616.082009  186.521671   \n",
       "                                       2016  12204.446524  148.834714   \n",
       "                                       2017   7851.427661  191.498236   \n",
       "                                       2018  14267.291661  212.944652   \n",
       "                                       2019  12680.198774  149.178809   \n",
       "«16+» - для детей старше 16 лет        2015  11368.120870   67.667386   \n",
       "                                       2016  16664.548542   91.563454   \n",
       "                                       2017  18745.042900  154.917710   \n",
       "                                       2018  16503.602347  105.792323   \n",
       "                                       2019  12753.418985   71.648421   \n",
       "«18+» - запрещено для детей            2015   5430.350629   41.453058   \n",
       "                                       2016   6793.929819   44.992913   \n",
       "                                       2017   9651.495581   65.656433   \n",
       "                                       2018   8760.085501   48.939025   \n",
       "                                       2019  10121.796304   55.310362   \n",
       "\n",
       "                                                median  \n",
       "                                            box_office  \n",
       "age_restriction                        year             \n",
       "«0+» - для любой зрительской аудитории 2015   2.943319  \n",
       "                                       2016   2.571294  \n",
       "                                       2017  22.178956  \n",
       "                                       2018   3.616937  \n",
       "                                       2019   3.885435  \n",
       "«6+» - для детей старше 6 лет          2015  20.380982  \n",
       "                                       2016   3.026256  \n",
       "                                       2017  51.992103  \n",
       "                                       2018  14.688850  \n",
       "                                       2019  12.525532  \n",
       "«12+» - для детей старше 12 лет        2015  15.351562  \n",
       "                                       2016   4.690635  \n",
       "                                       2017   9.010548  \n",
       "                                       2018   8.931966  \n",
       "                                       2019   3.405546  \n",
       "«16+» - для детей старше 16 лет        2015   4.676819  \n",
       "                                       2016   5.133022  \n",
       "                                       2017   9.702077  \n",
       "                                       2018   9.010639  \n",
       "                                       2019   3.210718  \n",
       "«18+» - запрещено для детей            2015   4.654761  \n",
       "                                       2016   6.107002  \n",
       "                                       2017   8.212677  \n",
       "                                       2018   7.179466  \n",
       "                                       2019   5.603217  "
      ]
     },
     "execution_count": 50,
     "metadata": {},
     "output_type": "execute_result"
    }
   ],
   "source": [
    "data = df.query('2015 <= year <= 2019')\n",
    "\n",
    "data.pivot_table(\n",
    "    index=['age_restriction', 'year'],\n",
    "    values='box_office',\n",
    "    aggfunc=['sum', 'mean', 'median']\n",
    ")"
   ]
  },
  {
   "cell_type": "code",
   "execution_count": 51,
   "metadata": {
    "scrolled": false
   },
   "outputs": [
    {
     "data": {
      "image/png": "[encoded data removed]",
      "text/plain": [
       "<Figure size 1080x864 with 3 Axes>"
      ]
     },
     "metadata": {
      "needs_background": "light"
     },
     "output_type": "display_data"
    }
   ],
   "source": [
    "f, (ax1, ax2, ax3) = plt.subplots(3, 1, figsize=(15, 12))\n",
    "\n",
    "sns.barplot(data=data,\n",
    "    x='year', y='box_office', hue='age_restriction',\n",
    "    ci=None, alpha=.75, estimator=sum, ax=ax1)\n",
    "\n",
    "sns.barplot(data=data,\n",
    "    x='year', y='box_office', hue='age_restriction',\n",
    "    ci=None, alpha=.75, ax=ax2)\n",
    "\n",
    "sns.barplot(data=data,\n",
    "    x='year', y='box_office', hue='age_restriction',\n",
    "    ci=None, alpha=.75, estimator=np.median, ax=ax3)\n",
    "\n",
    "ax1.legend(bbox_to_anchor=(1.01, 1), loc='upper left', borderaxespad=0., framealpha=.5)\n",
    "ax2.legend(bbox_to_anchor=(1.01, 1), loc='upper left', borderaxespad=0., framealpha=.5)\n",
    "ax3.legend(bbox_to_anchor=(1.01, 1), loc='upper left', borderaxespad=0., framealpha=.5)\n",
    "ax1.set_xlabel('')\n",
    "ax2.set_xlabel('')\n",
    "ax3.set_xlabel('Год выхода в прокат', labelpad=10, size=12)\n",
    "ax1.set_ylabel('Сумма сборов за год, млн руб', labelpad=10, size=12)\n",
    "ax2.set_ylabel('Средняя касса картины, млн руб', labelpad=23, size=12)\n",
    "ax3.set_ylabel('Медианная касса картины, млн руб', labelpad=30, size=12)\n",
    "f.suptitle('Зависимость финансовых показателей от возрастной категории по годам', size=16, y=0.91)\n",
    "\n",
    "plt.show()"
   ]
  },
  {
   "cell_type": "markdown",
   "metadata": {},
   "source": [
    "### Вывод\n",
    "\n",
    "Проведя исследовательский анализ данных мы вяснили, что в 2010 году вышло рекордное количество фильмов, затем было падение больше чем на треть и последующий рост год от года. Выделяется так же 2017 год, падением на треть.\n",
    "\n",
    "Доля фильмов с данными по прокату постепенно растёт, от 11% в 2010 до 57% в 2019 с пиком в 71% в 2017.\n",
    "\n",
    "Сумма сборов растёт от года к году. Максимум был зафиксирован в 2018 году и составил 49,668 млрд рублей.\n",
    "Максимум сборов для одной ленты - 3,073 млрд рублей.\n",
    "\n",
    "Минимальная сумма сбора была в 2010 году - всего 2,428 млн рублей, но это объясняется скорее малым количеством данных.\n",
    "\n",
    "Средняя сумма сборов по картинам была максимальной  2017 году - 136 млн рублей. Медиана же намного скромнее, максимум достигнут в том же 2017 году - 9,968 млн рублей.\n",
    "\n",
    "Есть явная зависимость сборов от возрастного ограничения в периоде с 2015 по 2019 год.\n",
    "\n",
    "По суммарным сборам:\n",
    "   - идёт выравнивание между категориями;\n",
    "   - постепенно уменьшилась доля подросткового кино (16+);\n",
    "   - увеличилась доля фильмов для взрослых (18+) и семейного кино (6+), при этом доля кино 12+ уменьшилась.\n",
    "   \n",
    "По средним сборам на протяжении года в периоде с 2015 по 2019 год картина принципиально не меняется, лишь средняя касса в целом была выше в 2017 и 2018 годах.\n",
    "\n",
    "По медианным данным за 2015-2019 годы мы видим:\n",
    "   - выраженный скачок в 2017 году в категориях 0+ и 6+;\n",
    "   - стабильнее всего по сборам семейное кино (6+)."
   ]
  },
  {
   "cell_type": "markdown",
   "metadata": {
    "id": "l_Kg6Ku4gFya"
   },
   "source": [
    "## Часть 4. Исследование фильмов, получивших государственную поддержку <a id=\"step4\"></a>\n",
    "\n",
    "Для отдельного анализа фильмов с государственной поддержкой выделим строки в отдельный датасет."
   ]
  },
  {
   "cell_type": "code",
   "execution_count": 52,
   "metadata": {},
   "outputs": [],
   "source": [
    "df_supported = df[df['budget'] > 0].copy()"
   ]
  },
  {
   "cell_type": "markdown",
   "metadata": {},
   "source": [
    "Обновим категориальные данные."
   ]
  },
  {
   "cell_type": "code",
   "execution_count": 53,
   "metadata": {},
   "outputs": [],
   "source": [
    "df_supported['type'].cat.remove_unused_categories(inplace=True)\n",
    "df_supported['main_country'].cat.remove_unused_categories(inplace=True)\n",
    "df_supported['main_director'].cat.remove_unused_categories(inplace=True)\n",
    "df_supported['main_producer'].cat.remove_unused_categories(inplace=True)\n",
    "df_supported['main_genre'].cat.remove_unused_categories(inplace=True)"
   ]
  },
  {
   "cell_type": "code",
   "execution_count": 54,
   "metadata": {},
   "outputs": [
    {
     "name": "stdout",
     "output_type": "stream",
     "text": [
      "<class 'pandas.core.frame.DataFrame'>\n",
      "Int64Index: 329 entries, 1281 to 7478\n",
      "Data columns (total 23 columns):\n",
      "title                    329 non-null object\n",
      "pu_number                329 non-null int64\n",
      "show_start_date          329 non-null datetime64[ns, UTC]\n",
      "year                     329 non-null int16\n",
      "type                     329 non-null category\n",
      "film_studio              329 non-null object\n",
      "production_country       329 non-null object\n",
      "main_country             329 non-null category\n",
      "director                 329 non-null object\n",
      "main_director            329 non-null category\n",
      "producer                 327 non-null object\n",
      "main_producer            327 non-null category\n",
      "age_restriction          329 non-null category\n",
      "refundable_support       329 non-null float64\n",
      "nonrefundable_support    329 non-null float64\n",
      "total_support            329 non-null float64\n",
      "budget                   329 non-null float64\n",
      "share                    329 non-null float64\n",
      "financing_source         329 non-null category\n",
      "ratings                  313 non-null float64\n",
      "genres                   313 non-null object\n",
      "main_genre               313 non-null category\n",
      "box_office               315 non-null float64\n",
      "dtypes: category(7), datetime64[ns, UTC](1), float64(7), int16(1), int64(1), object(6)\n",
      "memory usage: 48.7+ KB\n"
     ]
    }
   ],
   "source": [
    "df_supported.info()"
   ]
  },
  {
   "cell_type": "markdown",
   "metadata": {
    "id": "6t4EukPLgFyV"
   },
   "source": [
    "## 4.1. Проверка влияния различных факторов на степень государственной поддержки  <a id=\"step41\"></a>\n",
    "\n",
    "Посмотрим какие факторы влияют на степень поддержки фильма государством."
   ]
  },
  {
   "cell_type": "code",
   "execution_count": 55,
   "metadata": {
    "id": "W9QKpjUdgFyb",
    "scrolled": false
   },
   "outputs": [
    {
     "name": "stderr",
     "output_type": "stream",
     "text": [
      "/opt/conda/lib/python3.7/site-packages/pandas/plotting/_matplotlib/converter.py:103: FutureWarning: Using an implicitly registered datetime converter for a matplotlib plotting method. The converter was registered by pandas on import. Future versions of pandas will require you to explicitly register matplotlib converters.\n",
      "\n",
      "To register the converters:\n",
      "\t>>> from pandas.plotting import register_matplotlib_converters\n",
      "\t>>> register_matplotlib_converters()\n",
      "  warnings.warn(msg, FutureWarning)\n",
      "/home/jovyan/.local/lib/python3.7/site-packages/seaborn/relational.py:657: FutureWarning: Converting timezone-aware DatetimeArray to timezone-naive ndarray with 'datetime64[ns]' dtype. In the future, this will return an ndarray with 'object' dtype where each element is a 'pandas.Timestamp' with the correct 'tz'.\n",
      "\tTo accept the future behavior, pass 'dtype=object'.\n",
      "\tTo keep the old behavior, pass 'dtype=\"datetime64[ns]\"'.\n",
      "  args = np.asarray(x), np.asarray(y), np.asarray(s), np.asarray(c)\n"
     ]
    },
    {
     "data": {
      "image/png": "[encoded data removed]",
      "text/plain": [
       "<Figure size 1080x360 with 1 Axes>"
      ]
     },
     "metadata": {
      "needs_background": "light"
     },
     "output_type": "display_data"
    }
   ],
   "source": [
    "f, ax = plt.subplots(figsize=(15, 5))\n",
    "\n",
    "sns.scatterplot(data=df_supported, x='show_start_date', y='share')\n",
    "\n",
    "plt.xlabel('Год выхода в прокат', labelpad = 10, size = 12)\n",
    "plt.ylabel('Процент поддержки от общего бюджета', labelpad = 10, size = 12)\n",
    "plt.title('Зависимость доли поддержки от года выхода в прокат', pad = 15, size = 16)\n",
    "plt.grid(visible=True)\n",
    "\n",
    "plt.show()"
   ]
  },
  {
   "cell_type": "markdown",
   "metadata": {},
   "source": [
    "По графику видно что наиболее часто выдавали максимальную поддержку, 60-70% от общего бюджета. Явной зависимости количества поддержки в зависимости от года не наблюдается.\n",
    "\n",
    "Из массы выделяется одно значение, проверим его."
   ]
  },
  {
   "cell_type": "code",
   "execution_count": 56,
   "metadata": {},
   "outputs": [
    {
     "data": {
      "text/html": [
       "<div>\n",
       "<style scoped>\n",
       "    .dataframe tbody tr th:only-of-type {\n",
       "        vertical-align: middle;\n",
       "    }\n",
       "\n",
       "    .dataframe tbody tr th {\n",
       "        vertical-align: top;\n",
       "    }\n",
       "\n",
       "    .dataframe thead th {\n",
       "        text-align: right;\n",
       "    }\n",
       "</style>\n",
       "<table border=\"1\" class=\"dataframe\">\n",
       "  <thead>\n",
       "    <tr style=\"text-align: right;\">\n",
       "      <th></th>\n",
       "      <th>title</th>\n",
       "      <th>pu_number</th>\n",
       "      <th>show_start_date</th>\n",
       "      <th>year</th>\n",
       "      <th>type</th>\n",
       "      <th>film_studio</th>\n",
       "      <th>production_country</th>\n",
       "      <th>main_country</th>\n",
       "      <th>director</th>\n",
       "      <th>main_director</th>\n",
       "      <th>...</th>\n",
       "      <th>refundable_support</th>\n",
       "      <th>nonrefundable_support</th>\n",
       "      <th>total_support</th>\n",
       "      <th>budget</th>\n",
       "      <th>share</th>\n",
       "      <th>financing_source</th>\n",
       "      <th>ratings</th>\n",
       "      <th>genres</th>\n",
       "      <th>main_genre</th>\n",
       "      <th>box_office</th>\n",
       "    </tr>\n",
       "  </thead>\n",
       "  <tbody>\n",
       "    <tr>\n",
       "      <td>3385</td>\n",
       "      <td>О любви (2017)</td>\n",
       "      <td>111018816</td>\n",
       "      <td>2016-12-28 12:00:00+00:00</td>\n",
       "      <td>2016</td>\n",
       "      <td>Художественный</td>\n",
       "      <td>ООО \"СТУДИЯ \"2-Б-2\" ИНТЕРТЭЙНМЕНТ\"</td>\n",
       "      <td>Россия</td>\n",
       "      <td>Россия</td>\n",
       "      <td>В.Бортко</td>\n",
       "      <td>В.Бортко</td>\n",
       "      <td>...</td>\n",
       "      <td>20.0</td>\n",
       "      <td>35.0</td>\n",
       "      <td>55.0</td>\n",
       "      <td>70.086439</td>\n",
       "      <td>78.47</td>\n",
       "      <td>Министерство культуры, Фонд кино</td>\n",
       "      <td>NaN</td>\n",
       "      <td>NaN</td>\n",
       "      <td>NaN</td>\n",
       "      <td>11.332412</td>\n",
       "    </tr>\n",
       "  </tbody>\n",
       "</table>\n",
       "<p>1 rows × 23 columns</p>\n",
       "</div>"
      ],
      "text/plain": [
       "               title  pu_number           show_start_date  year  \\\n",
       "3385  О любви (2017)  111018816 2016-12-28 12:00:00+00:00  2016   \n",
       "\n",
       "                type                         film_studio production_country  \\\n",
       "3385  Художественный  ООО \"СТУДИЯ \"2-Б-2\" ИНТЕРТЭЙНМЕНТ\"             Россия   \n",
       "\n",
       "     main_country  director main_director  ... refundable_support  \\\n",
       "3385       Россия  В.Бортко      В.Бортко  ...               20.0   \n",
       "\n",
       "     nonrefundable_support total_support     budget  share  \\\n",
       "3385                  35.0          55.0  70.086439  78.47   \n",
       "\n",
       "                      financing_source  ratings  genres main_genre  box_office  \n",
       "3385  Министерство культуры, Фонд кино      NaN     NaN        NaN   11.332412  \n",
       "\n",
       "[1 rows x 23 columns]"
      ]
     },
     "execution_count": 56,
     "metadata": {},
     "output_type": "execute_result"
    }
   ],
   "source": [
    "df.query('share > 70')"
   ]
  },
  {
   "cell_type": "markdown",
   "metadata": {},
   "source": [
    "Возможно, в данном случае была допущена ошибка при введении данных о финансировании."
   ]
  },
  {
   "cell_type": "markdown",
   "metadata": {},
   "source": [
    "Проверим как менялась поддержка по годам в суммарном выражении."
   ]
  },
  {
   "cell_type": "code",
   "execution_count": 57,
   "metadata": {
    "scrolled": false
   },
   "outputs": [
    {
     "data": {
      "image/png": "[encoded data removed]",
      "text/plain": [
       "<Figure size 1080x360 with 1 Axes>"
      ]
     },
     "metadata": {
      "needs_background": "light"
     },
     "output_type": "display_data"
    }
   ],
   "source": [
    "f, ax = plt.subplots(figsize=(15, 5))\n",
    "\n",
    "sns.barplot(data=df_supported,\n",
    "    x='year', y='total_support',\n",
    "    ci=None, alpha=.75, estimator=sum)\n",
    "\n",
    "ax.set(ylim=(0, 5500))\n",
    "\n",
    "plt.xlabel('Год выхода в прокат', labelpad = 10, size = 12)\n",
    "plt.ylabel('Суммарная поддержка, млн. рублей', labelpad = 10, size = 12)\n",
    "plt.title('Суммарная государственная поддержка картин по годам выхода в прокат', pad = 15, size = 16)\n",
    "\n",
    "ax.bar_label(ax.containers[0], padding = 4, fontsize = 14)\n",
    "\n",
    "plt.show()"
   ]
  },
  {
   "cell_type": "markdown",
   "metadata": {},
   "source": [
    "В 2015 году произошёл резкий рост финансирования, с 549 млн. рублей до 3.6 млрд. В целом наблюдается тренд на рост финансирования.\n",
    "\n",
    "Посмотрим на финансирование в зависимости от режиссёра картины."
   ]
  },
  {
   "cell_type": "code",
   "execution_count": 58,
   "metadata": {},
   "outputs": [
    {
     "data": {
      "text/html": [
       "<div>\n",
       "<style scoped>\n",
       "    .dataframe tbody tr th:only-of-type {\n",
       "        vertical-align: middle;\n",
       "    }\n",
       "\n",
       "    .dataframe tbody tr th {\n",
       "        vertical-align: top;\n",
       "    }\n",
       "\n",
       "    .dataframe thead tr th {\n",
       "        text-align: left;\n",
       "    }\n",
       "\n",
       "    .dataframe thead tr:last-of-type th {\n",
       "        text-align: right;\n",
       "    }\n",
       "</style>\n",
       "<table border=\"1\" class=\"dataframe\">\n",
       "  <thead>\n",
       "    <tr>\n",
       "      <th></th>\n",
       "      <th colspan=\"3\" halign=\"left\">share</th>\n",
       "      <th>total_support</th>\n",
       "    </tr>\n",
       "    <tr>\n",
       "      <th></th>\n",
       "      <th>count</th>\n",
       "      <th>mean</th>\n",
       "      <th>median</th>\n",
       "      <th>sum</th>\n",
       "    </tr>\n",
       "    <tr>\n",
       "      <th>main_director</th>\n",
       "      <th></th>\n",
       "      <th></th>\n",
       "      <th></th>\n",
       "      <th></th>\n",
       "    </tr>\n",
       "  </thead>\n",
       "  <tbody>\n",
       "    <tr>\n",
       "      <td>Р.Давлетьяров</td>\n",
       "      <td>5</td>\n",
       "      <td>57.362000</td>\n",
       "      <td>62.04</td>\n",
       "      <td>459.847945</td>\n",
       "    </tr>\n",
       "    <tr>\n",
       "      <td>Д.Дьяченко</td>\n",
       "      <td>4</td>\n",
       "      <td>50.937500</td>\n",
       "      <td>52.96</td>\n",
       "      <td>351.000000</td>\n",
       "    </tr>\n",
       "    <tr>\n",
       "      <td>С.Андреасян</td>\n",
       "      <td>4</td>\n",
       "      <td>39.590000</td>\n",
       "      <td>37.53</td>\n",
       "      <td>325.000000</td>\n",
       "    </tr>\n",
       "    <tr>\n",
       "      <td>А.Котт</td>\n",
       "      <td>3</td>\n",
       "      <td>55.026667</td>\n",
       "      <td>55.05</td>\n",
       "      <td>129.000000</td>\n",
       "    </tr>\n",
       "    <tr>\n",
       "      <td>А.Аксененко</td>\n",
       "      <td>3</td>\n",
       "      <td>39.786667</td>\n",
       "      <td>40.98</td>\n",
       "      <td>90.000000</td>\n",
       "    </tr>\n",
       "    <tr>\n",
       "      <td>К.Шипенко</td>\n",
       "      <td>3</td>\n",
       "      <td>45.270000</td>\n",
       "      <td>45.57</td>\n",
       "      <td>312.000000</td>\n",
       "    </tr>\n",
       "    <tr>\n",
       "      <td>С.Мокрицкий</td>\n",
       "      <td>3</td>\n",
       "      <td>43.146667</td>\n",
       "      <td>38.46</td>\n",
       "      <td>202.510000</td>\n",
       "    </tr>\n",
       "    <tr>\n",
       "      <td>А.Цицилин</td>\n",
       "      <td>3</td>\n",
       "      <td>42.396667</td>\n",
       "      <td>33.66</td>\n",
       "      <td>350.000000</td>\n",
       "    </tr>\n",
       "    <tr>\n",
       "      <td>Н.Хомерики</td>\n",
       "      <td>3</td>\n",
       "      <td>62.686667</td>\n",
       "      <td>66.12</td>\n",
       "      <td>660.000000</td>\n",
       "    </tr>\n",
       "    <tr>\n",
       "      <td>Д.Шмидт</td>\n",
       "      <td>3</td>\n",
       "      <td>32.230000</td>\n",
       "      <td>22.31</td>\n",
       "      <td>215.000000</td>\n",
       "    </tr>\n",
       "  </tbody>\n",
       "</table>\n",
       "</div>"
      ],
      "text/plain": [
       "              share                   total_support\n",
       "              count       mean median           sum\n",
       "main_director                                      \n",
       "Р.Давлетьяров     5  57.362000  62.04    459.847945\n",
       "Д.Дьяченко        4  50.937500  52.96    351.000000\n",
       "С.Андреасян       4  39.590000  37.53    325.000000\n",
       "А.Котт            3  55.026667  55.05    129.000000\n",
       "А.Аксененко       3  39.786667  40.98     90.000000\n",
       "К.Шипенко         3  45.270000  45.57    312.000000\n",
       "С.Мокрицкий       3  43.146667  38.46    202.510000\n",
       "А.Цицилин         3  42.396667  33.66    350.000000\n",
       "Н.Хомерики        3  62.686667  66.12    660.000000\n",
       "Д.Шмидт           3  32.230000  22.31    215.000000"
      ]
     },
     "execution_count": 58,
     "metadata": {},
     "output_type": "execute_result"
    }
   ],
   "source": [
    "df_supported.pivot_table(\n",
    "    index='main_director', values=['share', 'total_support'],\n",
    "    aggfunc={'share':['count', 'mean', 'median'], 'total_support':'sum'}\n",
    ").sort_values(by=('share', 'count'), ascending=False).head(10)"
   ]
  },
  {
   "cell_type": "markdown",
   "metadata": {},
   "source": [
    "Чаще других получали государственную поддержку картины Рената Давлетьярова (по случайному совпадению член экспертного совета \"Фонда Кино\")."
   ]
  },
  {
   "cell_type": "markdown",
   "metadata": {},
   "source": [
    "Посмотрим чьи картины получили наибольшую суммарную поддержку."
   ]
  },
  {
   "cell_type": "code",
   "execution_count": 59,
   "metadata": {},
   "outputs": [
    {
     "data": {
      "text/html": [
       "<div>\n",
       "<style scoped>\n",
       "    .dataframe tbody tr th:only-of-type {\n",
       "        vertical-align: middle;\n",
       "    }\n",
       "\n",
       "    .dataframe tbody tr th {\n",
       "        vertical-align: top;\n",
       "    }\n",
       "\n",
       "    .dataframe thead tr th {\n",
       "        text-align: left;\n",
       "    }\n",
       "\n",
       "    .dataframe thead tr:last-of-type th {\n",
       "        text-align: right;\n",
       "    }\n",
       "</style>\n",
       "<table border=\"1\" class=\"dataframe\">\n",
       "  <thead>\n",
       "    <tr>\n",
       "      <th></th>\n",
       "      <th>nonrefundable_support</th>\n",
       "      <th colspan=\"3\" halign=\"left\">share</th>\n",
       "      <th>total_support</th>\n",
       "    </tr>\n",
       "    <tr>\n",
       "      <th></th>\n",
       "      <th>sum</th>\n",
       "      <th>count</th>\n",
       "      <th>mean</th>\n",
       "      <th>median</th>\n",
       "      <th>sum</th>\n",
       "    </tr>\n",
       "    <tr>\n",
       "      <th>main_director</th>\n",
       "      <th></th>\n",
       "      <th></th>\n",
       "      <th></th>\n",
       "      <th></th>\n",
       "      <th></th>\n",
       "    </tr>\n",
       "  </thead>\n",
       "  <tbody>\n",
       "    <tr>\n",
       "      <td>Ф.Бондарчук</td>\n",
       "      <td>650.000000</td>\n",
       "      <td>2</td>\n",
       "      <td>59.380000</td>\n",
       "      <td>59.38</td>\n",
       "      <td>750.000000</td>\n",
       "    </tr>\n",
       "    <tr>\n",
       "      <td>Н.Хомерики</td>\n",
       "      <td>540.000000</td>\n",
       "      <td>3</td>\n",
       "      <td>62.686667</td>\n",
       "      <td>66.12</td>\n",
       "      <td>660.000000</td>\n",
       "    </tr>\n",
       "    <tr>\n",
       "      <td>А.Кравчук</td>\n",
       "      <td>400.000000</td>\n",
       "      <td>1</td>\n",
       "      <td>51.020000</td>\n",
       "      <td>51.02</td>\n",
       "      <td>500.000000</td>\n",
       "    </tr>\n",
       "    <tr>\n",
       "      <td>Р.Давлетьяров</td>\n",
       "      <td>394.847945</td>\n",
       "      <td>5</td>\n",
       "      <td>57.362000</td>\n",
       "      <td>62.04</td>\n",
       "      <td>459.847945</td>\n",
       "    </tr>\n",
       "    <tr>\n",
       "      <td>А.Мизгирев</td>\n",
       "      <td>300.000000</td>\n",
       "      <td>1</td>\n",
       "      <td>65.770000</td>\n",
       "      <td>65.77</td>\n",
       "      <td>450.000000</td>\n",
       "    </tr>\n",
       "    <tr>\n",
       "      <td>Н.Лебедев</td>\n",
       "      <td>392.104482</td>\n",
       "      <td>1</td>\n",
       "      <td>69.590000</td>\n",
       "      <td>69.59</td>\n",
       "      <td>442.104482</td>\n",
       "    </tr>\n",
       "    <tr>\n",
       "      <td>А.Мегердичев</td>\n",
       "      <td>400.000000</td>\n",
       "      <td>1</td>\n",
       "      <td>67.770000</td>\n",
       "      <td>67.77</td>\n",
       "      <td>400.000000</td>\n",
       "    </tr>\n",
       "    <tr>\n",
       "      <td>Д.Дьяченко</td>\n",
       "      <td>180.000000</td>\n",
       "      <td>4</td>\n",
       "      <td>50.937500</td>\n",
       "      <td>52.96</td>\n",
       "      <td>351.000000</td>\n",
       "    </tr>\n",
       "    <tr>\n",
       "      <td>И.Шурховецкий</td>\n",
       "      <td>250.000000</td>\n",
       "      <td>1</td>\n",
       "      <td>70.000000</td>\n",
       "      <td>70.00</td>\n",
       "      <td>350.000000</td>\n",
       "    </tr>\n",
       "    <tr>\n",
       "      <td>Д.Киселев</td>\n",
       "      <td>225.000000</td>\n",
       "      <td>2</td>\n",
       "      <td>52.330000</td>\n",
       "      <td>52.33</td>\n",
       "      <td>350.000000</td>\n",
       "    </tr>\n",
       "  </tbody>\n",
       "</table>\n",
       "</div>"
      ],
      "text/plain": [
       "              nonrefundable_support share                   total_support\n",
       "                                sum count       mean median           sum\n",
       "main_director                                                            \n",
       "Ф.Бондарчук              650.000000     2  59.380000  59.38    750.000000\n",
       "Н.Хомерики               540.000000     3  62.686667  66.12    660.000000\n",
       "А.Кравчук                400.000000     1  51.020000  51.02    500.000000\n",
       "Р.Давлетьяров            394.847945     5  57.362000  62.04    459.847945\n",
       "А.Мизгирев               300.000000     1  65.770000  65.77    450.000000\n",
       "Н.Лебедев                392.104482     1  69.590000  69.59    442.104482\n",
       "А.Мегердичев             400.000000     1  67.770000  67.77    400.000000\n",
       "Д.Дьяченко               180.000000     4  50.937500  52.96    351.000000\n",
       "И.Шурховецкий            250.000000     1  70.000000  70.00    350.000000\n",
       "Д.Киселев                225.000000     2  52.330000  52.33    350.000000"
      ]
     },
     "execution_count": 59,
     "metadata": {},
     "output_type": "execute_result"
    }
   ],
   "source": [
    "df_supported.pivot_table(\n",
    "    index='main_director', values=['share', 'total_support', 'nonrefundable_support'],\n",
    "    aggfunc={'share':['count', 'mean', 'median'], 'total_support':'sum', 'nonrefundable_support':'sum'}\n",
    ").sort_values(by=('total_support', 'sum'), ascending=False).head(10)"
   ]
  },
  {
   "cell_type": "markdown",
   "metadata": {},
   "source": [
    "Наибольшее финансирование по сумме государственной поддержки получил Фёдор Бондарчук - 750 млн. рублей, из них 650 млн. невозвратных (по ещё б**о**льшему совпадению также член экспертного совета \"Фонда Кино\")."
   ]
  },
  {
   "cell_type": "markdown",
   "metadata": {},
   "source": [
    "Посмотрим на зависимость финансирования от продюссера картины."
   ]
  },
  {
   "cell_type": "code",
   "execution_count": 60,
   "metadata": {},
   "outputs": [
    {
     "data": {
      "text/html": [
       "<div>\n",
       "<style scoped>\n",
       "    .dataframe tbody tr th:only-of-type {\n",
       "        vertical-align: middle;\n",
       "    }\n",
       "\n",
       "    .dataframe tbody tr th {\n",
       "        vertical-align: top;\n",
       "    }\n",
       "\n",
       "    .dataframe thead tr th {\n",
       "        text-align: left;\n",
       "    }\n",
       "\n",
       "    .dataframe thead tr:last-of-type th {\n",
       "        text-align: right;\n",
       "    }\n",
       "</style>\n",
       "<table border=\"1\" class=\"dataframe\">\n",
       "  <thead>\n",
       "    <tr>\n",
       "      <th></th>\n",
       "      <th colspan=\"3\" halign=\"left\">share</th>\n",
       "      <th>total_support</th>\n",
       "    </tr>\n",
       "    <tr>\n",
       "      <th></th>\n",
       "      <th>count</th>\n",
       "      <th>mean</th>\n",
       "      <th>median</th>\n",
       "      <th>sum</th>\n",
       "    </tr>\n",
       "    <tr>\n",
       "      <th>main_producer</th>\n",
       "      <th></th>\n",
       "      <th></th>\n",
       "      <th></th>\n",
       "      <th></th>\n",
       "    </tr>\n",
       "  </thead>\n",
       "  <tbody>\n",
       "    <tr>\n",
       "      <td>С.Сельянов</td>\n",
       "      <td>19</td>\n",
       "      <td>41.452105</td>\n",
       "      <td>42.580</td>\n",
       "      <td>1550.000000</td>\n",
       "    </tr>\n",
       "    <tr>\n",
       "      <td>Э.Илоян</td>\n",
       "      <td>9</td>\n",
       "      <td>41.181111</td>\n",
       "      <td>37.500</td>\n",
       "      <td>640.000000</td>\n",
       "    </tr>\n",
       "    <tr>\n",
       "      <td>Р.Дишдишян</td>\n",
       "      <td>8</td>\n",
       "      <td>49.571250</td>\n",
       "      <td>57.495</td>\n",
       "      <td>352.000000</td>\n",
       "    </tr>\n",
       "    <tr>\n",
       "      <td>Т.Бекмамбетов</td>\n",
       "      <td>8</td>\n",
       "      <td>60.727500</td>\n",
       "      <td>63.035</td>\n",
       "      <td>982.000000</td>\n",
       "    </tr>\n",
       "    <tr>\n",
       "      <td>Г.Малков</td>\n",
       "      <td>6</td>\n",
       "      <td>46.730000</td>\n",
       "      <td>46.850</td>\n",
       "      <td>235.000000</td>\n",
       "    </tr>\n",
       "    <tr>\n",
       "      <td>ООО \"ВИЗАРТ ФИЛЬМ\"</td>\n",
       "      <td>5</td>\n",
       "      <td>39.200000</td>\n",
       "      <td>33.660</td>\n",
       "      <td>540.000000</td>\n",
       "    </tr>\n",
       "    <tr>\n",
       "      <td>Р.Давлетьяров</td>\n",
       "      <td>5</td>\n",
       "      <td>57.562000</td>\n",
       "      <td>62.040</td>\n",
       "      <td>336.797945</td>\n",
       "    </tr>\n",
       "    <tr>\n",
       "      <td>Н.Мокрицкая</td>\n",
       "      <td>4</td>\n",
       "      <td>53.245000</td>\n",
       "      <td>61.000</td>\n",
       "      <td>228.510000</td>\n",
       "    </tr>\n",
       "    <tr>\n",
       "      <td>Э.Пичугин</td>\n",
       "      <td>4</td>\n",
       "      <td>58.970000</td>\n",
       "      <td>60.910</td>\n",
       "      <td>160.000866</td>\n",
       "    </tr>\n",
       "    <tr>\n",
       "      <td>А.Новиков</td>\n",
       "      <td>4</td>\n",
       "      <td>65.565000</td>\n",
       "      <td>65.630</td>\n",
       "      <td>103.345000</td>\n",
       "    </tr>\n",
       "  </tbody>\n",
       "</table>\n",
       "</div>"
      ],
      "text/plain": [
       "                   share                    total_support\n",
       "                   count       mean  median           sum\n",
       "main_producer                                            \n",
       "С.Сельянов            19  41.452105  42.580   1550.000000\n",
       "Э.Илоян                9  41.181111  37.500    640.000000\n",
       "Р.Дишдишян             8  49.571250  57.495    352.000000\n",
       "Т.Бекмамбетов          8  60.727500  63.035    982.000000\n",
       "Г.Малков               6  46.730000  46.850    235.000000\n",
       "ООО \"ВИЗАРТ ФИЛЬМ\"     5  39.200000  33.660    540.000000\n",
       "Р.Давлетьяров          5  57.562000  62.040    336.797945\n",
       "Н.Мокрицкая            4  53.245000  61.000    228.510000\n",
       "Э.Пичугин              4  58.970000  60.910    160.000866\n",
       "А.Новиков              4  65.565000  65.630    103.345000"
      ]
     },
     "execution_count": 60,
     "metadata": {},
     "output_type": "execute_result"
    }
   ],
   "source": [
    "df_supported.pivot_table(\n",
    "    index='main_producer', values=['share', 'total_support'],\n",
    "    aggfunc={'share':['count', 'mean', 'median'], 'total_support':'sum'}\n",
    ").sort_values(by=('share', 'count'), ascending=False).head(10)"
   ]
  },
  {
   "cell_type": "markdown",
   "metadata": {},
   "source": [
    "Наибольшую поддержку смогли получить картины продюссируемые Сергеем Сельяновым (член экспертного совета \"Фонда Кино\", ещё одно совершенно случайное совпадение)."
   ]
  },
  {
   "cell_type": "markdown",
   "metadata": {},
   "source": [
    "Посмотрим на наибольшую суммарную поддержку."
   ]
  },
  {
   "cell_type": "code",
   "execution_count": 61,
   "metadata": {},
   "outputs": [
    {
     "data": {
      "text/html": [
       "<div>\n",
       "<style scoped>\n",
       "    .dataframe tbody tr th:only-of-type {\n",
       "        vertical-align: middle;\n",
       "    }\n",
       "\n",
       "    .dataframe tbody tr th {\n",
       "        vertical-align: top;\n",
       "    }\n",
       "\n",
       "    .dataframe thead tr th {\n",
       "        text-align: left;\n",
       "    }\n",
       "\n",
       "    .dataframe thead tr:last-of-type th {\n",
       "        text-align: right;\n",
       "    }\n",
       "</style>\n",
       "<table border=\"1\" class=\"dataframe\">\n",
       "  <thead>\n",
       "    <tr>\n",
       "      <th></th>\n",
       "      <th>nonrefundable_support</th>\n",
       "      <th colspan=\"3\" halign=\"left\">share</th>\n",
       "      <th>total_support</th>\n",
       "    </tr>\n",
       "    <tr>\n",
       "      <th></th>\n",
       "      <th>sum</th>\n",
       "      <th>count</th>\n",
       "      <th>mean</th>\n",
       "      <th>median</th>\n",
       "      <th>sum</th>\n",
       "    </tr>\n",
       "    <tr>\n",
       "      <th>main_producer</th>\n",
       "      <th></th>\n",
       "      <th></th>\n",
       "      <th></th>\n",
       "      <th></th>\n",
       "      <th></th>\n",
       "    </tr>\n",
       "  </thead>\n",
       "  <tbody>\n",
       "    <tr>\n",
       "      <td>С.Сельянов</td>\n",
       "      <td>1105.000000</td>\n",
       "      <td>19</td>\n",
       "      <td>41.452105</td>\n",
       "      <td>42.580</td>\n",
       "      <td>1550.000000</td>\n",
       "    </tr>\n",
       "    <tr>\n",
       "      <td>Т.Бекмамбетов</td>\n",
       "      <td>709.000000</td>\n",
       "      <td>8</td>\n",
       "      <td>60.727500</td>\n",
       "      <td>63.035</td>\n",
       "      <td>982.000000</td>\n",
       "    </tr>\n",
       "    <tr>\n",
       "      <td>Л.Верещагин</td>\n",
       "      <td>792.104482</td>\n",
       "      <td>2</td>\n",
       "      <td>68.680000</td>\n",
       "      <td>68.680</td>\n",
       "      <td>842.104482</td>\n",
       "    </tr>\n",
       "    <tr>\n",
       "      <td>Ф.Бондарчук</td>\n",
       "      <td>506.000000</td>\n",
       "      <td>4</td>\n",
       "      <td>53.787500</td>\n",
       "      <td>58.305</td>\n",
       "      <td>650.000000</td>\n",
       "    </tr>\n",
       "    <tr>\n",
       "      <td>Э.Илоян</td>\n",
       "      <td>425.000000</td>\n",
       "      <td>9</td>\n",
       "      <td>41.181111</td>\n",
       "      <td>37.500</td>\n",
       "      <td>640.000000</td>\n",
       "    </tr>\n",
       "    <tr>\n",
       "      <td>ООО \"Централ Партнершип\"</td>\n",
       "      <td>505.000000</td>\n",
       "      <td>3</td>\n",
       "      <td>62.800000</td>\n",
       "      <td>68.400</td>\n",
       "      <td>610.000000</td>\n",
       "    </tr>\n",
       "    <tr>\n",
       "      <td>ООО \"ВИЗАРТ ФИЛЬМ\"</td>\n",
       "      <td>300.000000</td>\n",
       "      <td>5</td>\n",
       "      <td>39.200000</td>\n",
       "      <td>33.660</td>\n",
       "      <td>540.000000</td>\n",
       "    </tr>\n",
       "    <tr>\n",
       "      <td>А.Роднянский</td>\n",
       "      <td>390.000000</td>\n",
       "      <td>2</td>\n",
       "      <td>49.720000</td>\n",
       "      <td>49.720</td>\n",
       "      <td>540.000000</td>\n",
       "    </tr>\n",
       "    <tr>\n",
       "      <td>А.Максимов</td>\n",
       "      <td>400.000000</td>\n",
       "      <td>1</td>\n",
       "      <td>51.020000</td>\n",
       "      <td>51.020</td>\n",
       "      <td>500.000000</td>\n",
       "    </tr>\n",
       "    <tr>\n",
       "      <td>ООО \"Арт Пикчерс Студия\"</td>\n",
       "      <td>458.969465</td>\n",
       "      <td>3</td>\n",
       "      <td>66.176667</td>\n",
       "      <td>65.790</td>\n",
       "      <td>468.969465</td>\n",
       "    </tr>\n",
       "  </tbody>\n",
       "</table>\n",
       "</div>"
      ],
      "text/plain": [
       "                         nonrefundable_support share                     \\\n",
       "                                           sum count       mean  median   \n",
       "main_producer                                                             \n",
       "С.Сельянов                         1105.000000    19  41.452105  42.580   \n",
       "Т.Бекмамбетов                       709.000000     8  60.727500  63.035   \n",
       "Л.Верещагин                         792.104482     2  68.680000  68.680   \n",
       "Ф.Бондарчук                         506.000000     4  53.787500  58.305   \n",
       "Э.Илоян                             425.000000     9  41.181111  37.500   \n",
       "ООО \"Централ Партнершип\"            505.000000     3  62.800000  68.400   \n",
       "ООО \"ВИЗАРТ ФИЛЬМ\"                  300.000000     5  39.200000  33.660   \n",
       "А.Роднянский                        390.000000     2  49.720000  49.720   \n",
       "А.Максимов                          400.000000     1  51.020000  51.020   \n",
       "ООО \"Арт Пикчерс Студия\"            458.969465     3  66.176667  65.790   \n",
       "\n",
       "                         total_support  \n",
       "                                   sum  \n",
       "main_producer                           \n",
       "С.Сельянов                 1550.000000  \n",
       "Т.Бекмамбетов               982.000000  \n",
       "Л.Верещагин                 842.104482  \n",
       "Ф.Бондарчук                 650.000000  \n",
       "Э.Илоян                     640.000000  \n",
       "ООО \"Централ Партнершип\"    610.000000  \n",
       "ООО \"ВИЗАРТ ФИЛЬМ\"          540.000000  \n",
       "А.Роднянский                540.000000  \n",
       "А.Максимов                  500.000000  \n",
       "ООО \"Арт Пикчерс Студия\"    468.969465  "
      ]
     },
     "execution_count": 61,
     "metadata": {},
     "output_type": "execute_result"
    }
   ],
   "source": [
    "df_supported.pivot_table(\n",
    "    index='main_producer', values=['share', 'total_support', 'nonrefundable_support'],\n",
    "    aggfunc={'share':['count', 'mean', 'median'], 'total_support':'sum', 'nonrefundable_support':'sum'}\n",
    ").sort_values(by=('total_support', 'sum'), ascending=False).head(10)"
   ]
  },
  {
   "cell_type": "markdown",
   "metadata": {},
   "source": [
    "Картина принципиально не поменялась.\n",
    "\n",
    "Посмотрим, есть ли зависимость доли государственного участия от возрастной категории кино."
   ]
  },
  {
   "cell_type": "code",
   "execution_count": 62,
   "metadata": {
    "id": "W9QKpjUdgFyb",
    "scrolled": false
   },
   "outputs": [
    {
     "data": {
      "text/html": [
       "<div>\n",
       "<style scoped>\n",
       "    .dataframe tbody tr th:only-of-type {\n",
       "        vertical-align: middle;\n",
       "    }\n",
       "\n",
       "    .dataframe tbody tr th {\n",
       "        vertical-align: top;\n",
       "    }\n",
       "\n",
       "    .dataframe thead tr th {\n",
       "        text-align: left;\n",
       "    }\n",
       "\n",
       "    .dataframe thead tr:last-of-type th {\n",
       "        text-align: right;\n",
       "    }\n",
       "</style>\n",
       "<table border=\"1\" class=\"dataframe\">\n",
       "  <thead>\n",
       "    <tr>\n",
       "      <th></th>\n",
       "      <th>nonrefundable_support</th>\n",
       "      <th colspan=\"3\" halign=\"left\">share</th>\n",
       "      <th>total_support</th>\n",
       "    </tr>\n",
       "    <tr>\n",
       "      <th></th>\n",
       "      <th>sum</th>\n",
       "      <th>count</th>\n",
       "      <th>mean</th>\n",
       "      <th>median</th>\n",
       "      <th>sum</th>\n",
       "    </tr>\n",
       "    <tr>\n",
       "      <th>age_restriction</th>\n",
       "      <th></th>\n",
       "      <th></th>\n",
       "      <th></th>\n",
       "      <th></th>\n",
       "      <th></th>\n",
       "    </tr>\n",
       "  </thead>\n",
       "  <tbody>\n",
       "    <tr>\n",
       "      <td>«12+» - для детей старше 12 лет</td>\n",
       "      <td>6231.894165</td>\n",
       "      <td>106</td>\n",
       "      <td>51.417358</td>\n",
       "      <td>59.425</td>\n",
       "      <td>7799.394165</td>\n",
       "    </tr>\n",
       "    <tr>\n",
       "      <td>«16+» - для детей старше 16 лет</td>\n",
       "      <td>4710.900200</td>\n",
       "      <td>124</td>\n",
       "      <td>54.267258</td>\n",
       "      <td>62.675</td>\n",
       "      <td>5546.053319</td>\n",
       "    </tr>\n",
       "    <tr>\n",
       "      <td>«6+» - для детей старше 6 лет</td>\n",
       "      <td>3967.373947</td>\n",
       "      <td>64</td>\n",
       "      <td>48.454844</td>\n",
       "      <td>53.205</td>\n",
       "      <td>5366.373947</td>\n",
       "    </tr>\n",
       "    <tr>\n",
       "      <td>«18+» - запрещено для детей</td>\n",
       "      <td>921.000000</td>\n",
       "      <td>27</td>\n",
       "      <td>51.237778</td>\n",
       "      <td>55.050</td>\n",
       "      <td>953.346881</td>\n",
       "    </tr>\n",
       "    <tr>\n",
       "      <td>«0+» - для любой зрительской аудитории</td>\n",
       "      <td>228.520000</td>\n",
       "      <td>8</td>\n",
       "      <td>39.681250</td>\n",
       "      <td>38.900</td>\n",
       "      <td>273.520000</td>\n",
       "    </tr>\n",
       "  </tbody>\n",
       "</table>\n",
       "</div>"
      ],
      "text/plain": [
       "                                       nonrefundable_support share             \\\n",
       "                                                         sum count       mean   \n",
       "age_restriction                                                                 \n",
       "«12+» - для детей старше 12 лет                  6231.894165   106  51.417358   \n",
       "«16+» - для детей старше 16 лет                  4710.900200   124  54.267258   \n",
       "«6+» - для детей старше 6 лет                    3967.373947    64  48.454844   \n",
       "«18+» - запрещено для детей                       921.000000    27  51.237778   \n",
       "«0+» - для любой зрительской аудитории            228.520000     8  39.681250   \n",
       "\n",
       "                                               total_support  \n",
       "                                        median           sum  \n",
       "age_restriction                                               \n",
       "«12+» - для детей старше 12 лет         59.425   7799.394165  \n",
       "«16+» - для детей старше 16 лет         62.675   5546.053319  \n",
       "«6+» - для детей старше 6 лет           53.205   5366.373947  \n",
       "«18+» - запрещено для детей             55.050    953.346881  \n",
       "«0+» - для любой зрительской аудитории  38.900    273.520000  "
      ]
     },
     "execution_count": 62,
     "metadata": {},
     "output_type": "execute_result"
    }
   ],
   "source": [
    "df_supported.pivot_table(\n",
    "    index='age_restriction', values=['share', 'total_support', 'nonrefundable_support'],\n",
    "    aggfunc={'share':['count', 'mean', 'median'], 'total_support':'sum', 'nonrefundable_support':'sum'}\n",
    ").sort_values(by=('total_support', 'sum'), ascending=False).head(10)"
   ]
  },
  {
   "cell_type": "markdown",
   "metadata": {},
   "source": [
    "Б**о**льшую поддержку получает кино возрастных категорий 6+, 12+ и 16+.\n",
    "\n",
    "Проверим, есть ли зависимости с учётом жанра кино."
   ]
  },
  {
   "cell_type": "code",
   "execution_count": 63,
   "metadata": {
    "id": "W9QKpjUdgFyb",
    "scrolled": false
   },
   "outputs": [
    {
     "data": {
      "text/html": [
       "<div>\n",
       "<style scoped>\n",
       "    .dataframe tbody tr th:only-of-type {\n",
       "        vertical-align: middle;\n",
       "    }\n",
       "\n",
       "    .dataframe tbody tr th {\n",
       "        vertical-align: top;\n",
       "    }\n",
       "\n",
       "    .dataframe thead tr th {\n",
       "        text-align: left;\n",
       "    }\n",
       "\n",
       "    .dataframe thead tr:last-of-type th {\n",
       "        text-align: right;\n",
       "    }\n",
       "</style>\n",
       "<table border=\"1\" class=\"dataframe\">\n",
       "  <thead>\n",
       "    <tr>\n",
       "      <th></th>\n",
       "      <th>nonrefundable_support</th>\n",
       "      <th colspan=\"3\" halign=\"left\">share</th>\n",
       "      <th>total_support</th>\n",
       "    </tr>\n",
       "    <tr>\n",
       "      <th></th>\n",
       "      <th>sum</th>\n",
       "      <th>count</th>\n",
       "      <th>mean</th>\n",
       "      <th>median</th>\n",
       "      <th>sum</th>\n",
       "    </tr>\n",
       "    <tr>\n",
       "      <th>main_genre</th>\n",
       "      <th></th>\n",
       "      <th></th>\n",
       "      <th></th>\n",
       "      <th></th>\n",
       "      <th></th>\n",
       "    </tr>\n",
       "  </thead>\n",
       "  <tbody>\n",
       "    <tr>\n",
       "      <td>драма</td>\n",
       "      <td>4686.059751</td>\n",
       "      <td>93</td>\n",
       "      <td>54.387634</td>\n",
       "      <td>62.000</td>\n",
       "      <td>5314.406632</td>\n",
       "    </tr>\n",
       "    <tr>\n",
       "      <td>комедия</td>\n",
       "      <td>2362.782945</td>\n",
       "      <td>73</td>\n",
       "      <td>52.195068</td>\n",
       "      <td>56.450</td>\n",
       "      <td>3159.282945</td>\n",
       "    </tr>\n",
       "    <tr>\n",
       "      <td>мультфильм</td>\n",
       "      <td>1411.520000</td>\n",
       "      <td>30</td>\n",
       "      <td>40.660000</td>\n",
       "      <td>34.710</td>\n",
       "      <td>2281.520000</td>\n",
       "    </tr>\n",
       "    <tr>\n",
       "      <td>фантастика</td>\n",
       "      <td>1216.000000</td>\n",
       "      <td>11</td>\n",
       "      <td>46.367273</td>\n",
       "      <td>52.970</td>\n",
       "      <td>1406.000000</td>\n",
       "    </tr>\n",
       "    <tr>\n",
       "      <td>фэнтези</td>\n",
       "      <td>799.900000</td>\n",
       "      <td>11</td>\n",
       "      <td>55.340000</td>\n",
       "      <td>62.500</td>\n",
       "      <td>1032.900000</td>\n",
       "    </tr>\n",
       "    <tr>\n",
       "      <td>история</td>\n",
       "      <td>820.000000</td>\n",
       "      <td>4</td>\n",
       "      <td>42.810000</td>\n",
       "      <td>38.515</td>\n",
       "      <td>1020.000000</td>\n",
       "    </tr>\n",
       "    <tr>\n",
       "      <td>триллер</td>\n",
       "      <td>639.645285</td>\n",
       "      <td>15</td>\n",
       "      <td>55.629333</td>\n",
       "      <td>59.230</td>\n",
       "      <td>769.645285</td>\n",
       "    </tr>\n",
       "    <tr>\n",
       "      <td>приключения</td>\n",
       "      <td>441.000000</td>\n",
       "      <td>7</td>\n",
       "      <td>37.101429</td>\n",
       "      <td>42.860</td>\n",
       "      <td>696.000000</td>\n",
       "    </tr>\n",
       "    <tr>\n",
       "      <td>детектив</td>\n",
       "      <td>430.000000</td>\n",
       "      <td>5</td>\n",
       "      <td>49.226000</td>\n",
       "      <td>55.930</td>\n",
       "      <td>485.000000</td>\n",
       "    </tr>\n",
       "    <tr>\n",
       "      <td>спорт</td>\n",
       "      <td>455.000000</td>\n",
       "      <td>3</td>\n",
       "      <td>54.026667</td>\n",
       "      <td>50.000</td>\n",
       "      <td>455.000000</td>\n",
       "    </tr>\n",
       "  </tbody>\n",
       "</table>\n",
       "</div>"
      ],
      "text/plain": [
       "            nonrefundable_support share                    total_support\n",
       "                              sum count       mean  median           sum\n",
       "main_genre                                                              \n",
       "драма                 4686.059751    93  54.387634  62.000   5314.406632\n",
       "комедия               2362.782945    73  52.195068  56.450   3159.282945\n",
       "мультфильм            1411.520000    30  40.660000  34.710   2281.520000\n",
       "фантастика            1216.000000    11  46.367273  52.970   1406.000000\n",
       "фэнтези                799.900000    11  55.340000  62.500   1032.900000\n",
       "история                820.000000     4  42.810000  38.515   1020.000000\n",
       "триллер                639.645285    15  55.629333  59.230    769.645285\n",
       "приключения            441.000000     7  37.101429  42.860    696.000000\n",
       "детектив               430.000000     5  49.226000  55.930    485.000000\n",
       "спорт                  455.000000     3  54.026667  50.000    455.000000"
      ]
     },
     "execution_count": 63,
     "metadata": {},
     "output_type": "execute_result"
    }
   ],
   "source": [
    "df_supported.pivot_table(\n",
    "    index='main_genre', values=['share', 'total_support', 'nonrefundable_support'],\n",
    "    aggfunc={'share':['count', 'mean', 'median'], 'total_support':'sum', 'nonrefundable_support':'sum'}\n",
    ").sort_values(by=('total_support', 'sum'), ascending=False).head(10)"
   ]
  },
  {
   "cell_type": "markdown",
   "metadata": {},
   "source": [
    "Чаще других поддержку получают киноленты жанра `драма` и `комедия`, замыкают десятку жанры `спорт` и `детектив`."
   ]
  },
  {
   "cell_type": "markdown",
   "metadata": {},
   "source": [
    "### Вывод\n",
    "\n",
    "Прямой зависимости доли государственного участия в картине от года выхода в прокат не наблюдается. Государство достаточно стабильно учавствует в жизни кинематографа. Суммарное финансирование растёт год от года.\n",
    "\n",
    "Чаще других поддержку получают режиссёры Р. Давлетьяров, Д. Дьяченко и С. Андреасян.\n",
    "\n",
    "Наибольшая в финансовом плане поддержка была предоставлена продюссерам С. Сельянову, Т. Бекмамбетову и Л. Верещагину.\n",
    "\n",
    "Б**о**льшую поддержку получает кино возрастных категорий 6+, 12+ и 16+.\n",
    "\n",
    "Среди поддерживаемых жанров преобладают `драма` и `комедия`. Вероятно, ставка на наиболее сильный эмоциональный отклик аудитории. Жанр `военное кино`, вопреки ожиданиям, не так часто получает поддержку."
   ]
  },
  {
   "cell_type": "markdown",
   "metadata": {
    "id": "6t4EukPLgFyV"
   },
   "source": [
    "## 4.2. Сравнение различных показателей в зависимости от наличия поддержки <a id=\"step42\"></a>\n",
    "\n",
    "Сравним фильмы с поддержкой и без. Найдём различия и сходства.\n",
    "\n",
    "Посмотрим на рейтинги вышедших картин."
   ]
  },
  {
   "cell_type": "code",
   "execution_count": 64,
   "metadata": {
    "scrolled": false
   },
   "outputs": [
    {
     "data": {
      "image/png": "[encoded data removed]",
      "text/plain": [
       "<Figure size 1080x720 with 2 Axes>"
      ]
     },
     "metadata": {
      "needs_background": "light"
     },
     "output_type": "display_data"
    }
   ],
   "source": [
    "f, (ax1, ax2) = plt.subplots(2, 1, figsize=(15, 10))\n",
    "\n",
    "sns.histplot(data=df_supported, x='ratings', discrete=True, kde=True, alpha=.75, ax=ax1)\n",
    "\n",
    "sns.histplot(data=df, x='ratings', discrete=True, kde=True, alpha=.75, ax=ax2)\n",
    "\n",
    "ax1.set_xlabel('')\n",
    "ax2.set_xlabel('Рейтинг картины', labelpad=10, size=12)\n",
    "ax1.set_ylabel('Количество картин с поддержкой', labelpad=15, size=12)\n",
    "ax2.set_ylabel('Количество картин без поддержки', labelpad=10, size=12)\n",
    "f.suptitle('Распределение картин по рейтингу в зависимости от наличия поддержки', size=16, y=0.91)\n",
    "\n",
    "ax1.set(xlim=(0, 10), xticks=np.arange(0, 10.5, 0.5))\n",
    "ax2.set(xlim=(0, 10), xticks=np.arange(0, 10.5, 0.5))\n",
    "\n",
    "plt.show()"
   ]
  },
  {
   "cell_type": "markdown",
   "metadata": {},
   "source": [
    "Характер распределения оценок схожий. Откровенно провальных картин, как и сильно удачных очень мало, превалирует диапазон от 5 до 8 баллов.\n",
    "\n",
    "Из отличий можно заметить смещение максимума частоты оценок. Максимум для картин с поддержкой - 6.4, максимум по российскому кинопрокату в целом - 6.7\n",
    "\n",
    "Посмотрим на распределение по жанрам для картин с поддержкой."
   ]
  },
  {
   "cell_type": "code",
   "execution_count": 65,
   "metadata": {
    "scrolled": false
   },
   "outputs": [
    {
     "data": {
      "text/html": [
       "<div>\n",
       "<style scoped>\n",
       "    .dataframe tbody tr th:only-of-type {\n",
       "        vertical-align: middle;\n",
       "    }\n",
       "\n",
       "    .dataframe tbody tr th {\n",
       "        vertical-align: top;\n",
       "    }\n",
       "\n",
       "    .dataframe thead th {\n",
       "        text-align: right;\n",
       "    }\n",
       "</style>\n",
       "<table border=\"1\" class=\"dataframe\">\n",
       "  <thead>\n",
       "    <tr style=\"text-align: right;\">\n",
       "      <th></th>\n",
       "      <th>count</th>\n",
       "      <th>median</th>\n",
       "      <th>percentage</th>\n",
       "    </tr>\n",
       "    <tr>\n",
       "      <th>main_genre</th>\n",
       "      <th></th>\n",
       "      <th></th>\n",
       "      <th></th>\n",
       "    </tr>\n",
       "  </thead>\n",
       "  <tbody>\n",
       "    <tr>\n",
       "      <td>драма</td>\n",
       "      <td>93</td>\n",
       "      <td>6.40</td>\n",
       "      <td>34.07%</td>\n",
       "    </tr>\n",
       "    <tr>\n",
       "      <td>комедия</td>\n",
       "      <td>73</td>\n",
       "      <td>5.70</td>\n",
       "      <td>26.74%</td>\n",
       "    </tr>\n",
       "    <tr>\n",
       "      <td>мультфильм</td>\n",
       "      <td>30</td>\n",
       "      <td>6.15</td>\n",
       "      <td>10.99%</td>\n",
       "    </tr>\n",
       "    <tr>\n",
       "      <td>триллер</td>\n",
       "      <td>15</td>\n",
       "      <td>5.60</td>\n",
       "      <td>5.49%</td>\n",
       "    </tr>\n",
       "    <tr>\n",
       "      <td>мелодрама</td>\n",
       "      <td>14</td>\n",
       "      <td>6.05</td>\n",
       "      <td>5.13%</td>\n",
       "    </tr>\n",
       "    <tr>\n",
       "      <td>фантастика</td>\n",
       "      <td>11</td>\n",
       "      <td>6.20</td>\n",
       "      <td>4.03%</td>\n",
       "    </tr>\n",
       "    <tr>\n",
       "      <td>фэнтези</td>\n",
       "      <td>11</td>\n",
       "      <td>6.80</td>\n",
       "      <td>4.03%</td>\n",
       "    </tr>\n",
       "    <tr>\n",
       "      <td>ужасы</td>\n",
       "      <td>10</td>\n",
       "      <td>5.10</td>\n",
       "      <td>3.66%</td>\n",
       "    </tr>\n",
       "    <tr>\n",
       "      <td>военный</td>\n",
       "      <td>9</td>\n",
       "      <td>6.40</td>\n",
       "      <td>3.30%</td>\n",
       "    </tr>\n",
       "    <tr>\n",
       "      <td>приключения</td>\n",
       "      <td>7</td>\n",
       "      <td>5.70</td>\n",
       "      <td>2.56%</td>\n",
       "    </tr>\n",
       "  </tbody>\n",
       "</table>\n",
       "</div>"
      ],
      "text/plain": [
       "             count  median percentage\n",
       "main_genre                           \n",
       "драма           93    6.40     34.07%\n",
       "комедия         73    5.70     26.74%\n",
       "мультфильм      30    6.15     10.99%\n",
       "триллер         15    5.60      5.49%\n",
       "мелодрама       14    6.05      5.13%\n",
       "фантастика      11    6.20      4.03%\n",
       "фэнтези         11    6.80      4.03%\n",
       "ужасы           10    5.10      3.66%\n",
       "военный          9    6.40      3.30%\n",
       "приключения      7    5.70      2.56%"
      ]
     },
     "execution_count": 65,
     "metadata": {},
     "output_type": "execute_result"
    }
   ],
   "source": [
    "top_genres_supported = list(df_supported['main_genre'].value_counts()[:10].index)\n",
    "\n",
    "entries_number = df_supported.query('main_genre in @top_genres_supported').shape[0]\n",
    "\n",
    "def percentage(column):\n",
    "    '''\n",
    "    Функция подсчитывает процент картин в определённом жанре.\n",
    "    '''\n",
    "    quantity = 0\n",
    "    for i in column:\n",
    "        quantity += 1\n",
    "    return '{:.2%}'.format(quantity/entries_number)\n",
    "\n",
    "df_supported.query('main_genre in @top_genres_supported').pivot_table(\n",
    "    index='main_genre', values='ratings',\n",
    "    aggfunc={'ratings':['count', 'median', percentage]}\n",
    ").sort_values(by='count', ascending=False).head(10)"
   ]
  },
  {
   "cell_type": "markdown",
   "metadata": {},
   "source": [
    "И для российского кинопроката в целом."
   ]
  },
  {
   "cell_type": "code",
   "execution_count": 66,
   "metadata": {},
   "outputs": [
    {
     "data": {
      "text/html": [
       "<div>\n",
       "<style scoped>\n",
       "    .dataframe tbody tr th:only-of-type {\n",
       "        vertical-align: middle;\n",
       "    }\n",
       "\n",
       "    .dataframe tbody tr th {\n",
       "        vertical-align: top;\n",
       "    }\n",
       "\n",
       "    .dataframe thead th {\n",
       "        text-align: right;\n",
       "    }\n",
       "</style>\n",
       "<table border=\"1\" class=\"dataframe\">\n",
       "  <thead>\n",
       "    <tr style=\"text-align: right;\">\n",
       "      <th></th>\n",
       "      <th>count</th>\n",
       "      <th>median</th>\n",
       "      <th>percentage</th>\n",
       "    </tr>\n",
       "    <tr>\n",
       "      <th>main_genre</th>\n",
       "      <th></th>\n",
       "      <th></th>\n",
       "      <th></th>\n",
       "    </tr>\n",
       "  </thead>\n",
       "  <tbody>\n",
       "    <tr>\n",
       "      <td>драма</td>\n",
       "      <td>1688</td>\n",
       "      <td>6.8</td>\n",
       "      <td>28.13%</td>\n",
       "    </tr>\n",
       "    <tr>\n",
       "      <td>комедия</td>\n",
       "      <td>696</td>\n",
       "      <td>6.1</td>\n",
       "      <td>11.60%</td>\n",
       "    </tr>\n",
       "    <tr>\n",
       "      <td>боевик</td>\n",
       "      <td>617</td>\n",
       "      <td>6.7</td>\n",
       "      <td>10.28%</td>\n",
       "    </tr>\n",
       "    <tr>\n",
       "      <td>ужасы</td>\n",
       "      <td>573</td>\n",
       "      <td>5.7</td>\n",
       "      <td>9.55%</td>\n",
       "    </tr>\n",
       "    <tr>\n",
       "      <td>мультфильм</td>\n",
       "      <td>537</td>\n",
       "      <td>6.5</td>\n",
       "      <td>8.95%</td>\n",
       "    </tr>\n",
       "    <tr>\n",
       "      <td>триллер</td>\n",
       "      <td>521</td>\n",
       "      <td>6.6</td>\n",
       "      <td>8.68%</td>\n",
       "    </tr>\n",
       "    <tr>\n",
       "      <td>фантастика</td>\n",
       "      <td>410</td>\n",
       "      <td>6.7</td>\n",
       "      <td>6.83%</td>\n",
       "    </tr>\n",
       "    <tr>\n",
       "      <td>мелодрама</td>\n",
       "      <td>382</td>\n",
       "      <td>6.7</td>\n",
       "      <td>6.37%</td>\n",
       "    </tr>\n",
       "    <tr>\n",
       "      <td>фэнтези</td>\n",
       "      <td>358</td>\n",
       "      <td>6.6</td>\n",
       "      <td>5.97%</td>\n",
       "    </tr>\n",
       "    <tr>\n",
       "      <td>документальный</td>\n",
       "      <td>219</td>\n",
       "      <td>7.3</td>\n",
       "      <td>3.65%</td>\n",
       "    </tr>\n",
       "  </tbody>\n",
       "</table>\n",
       "</div>"
      ],
      "text/plain": [
       "                count  median percentage\n",
       "main_genre                              \n",
       "драма            1688     6.8     28.13%\n",
       "комедия           696     6.1     11.60%\n",
       "боевик            617     6.7     10.28%\n",
       "ужасы             573     5.7      9.55%\n",
       "мультфильм        537     6.5      8.95%\n",
       "триллер           521     6.6      8.68%\n",
       "фантастика        410     6.7      6.83%\n",
       "мелодрама         382     6.7      6.37%\n",
       "фэнтези           358     6.6      5.97%\n",
       "документальный    219     7.3      3.65%"
      ]
     },
     "execution_count": 66,
     "metadata": {},
     "output_type": "execute_result"
    }
   ],
   "source": [
    "top_genres = list(df['main_genre'].value_counts()[:10].index)\n",
    "\n",
    "entries_number = df.query('main_genre in @top_genres').shape[0]\n",
    "\n",
    "df.query('main_genre in @top_genres').pivot_table(\n",
    "    index='main_genre', values='ratings',\n",
    "    aggfunc={'ratings':['count', 'median', percentage]}\n",
    ").sort_values(by='count', ascending=False).head(10)"
   ]
  },
  {
   "cell_type": "markdown",
   "metadata": {},
   "source": [
    "### Вывод\n",
    "\n",
    "Характер распределения оценок для фильмов с поддержкой и без схожий. Откровенно провальных картин, как и сильно удачных очень мало, превалирует диапазон от 5 до 8 баллов.\n",
    "\n",
    "Из отличий можно заметить смещение максимума частоты оценок. Максимум для картин с поддержкой - 6.4, максимум по российскому кинопрокату в целом - 6.7\n",
    "\n",
    "Первые два места в сравниваемых распределениях занимают жанры `драма` и `комедия`, при этом в поддерживаемом сегменте на эти жанры приходится суммарно больше 60% от всех картин. Для российского проката в целом цифра меньше - около 40%.\n",
    "\n",
    "На третьем месте в спонсируемом Министерством Культуры сегменте идут `мультфильмы` с 11%, для кинопроката в целом это `боевики`.\n",
    "\n",
    "В остальном сегменты весьма схожи."
   ]
  },
  {
   "cell_type": "markdown",
   "metadata": {
    "id": "6t4EukPLgFyV"
   },
   "source": [
    "## 4.3. Анализ финансовых показателей картин с государственной поддержкой <a id=\"step43\"></a>\n",
    "\n",
    "Посмотрим сколько всего средств выделено по годам и сколько из них были отбиты кассовыми сборами.\n",
    "\n",
    "Добавим столбец с данными о проценте возврата денег."
   ]
  },
  {
   "cell_type": "code",
   "execution_count": 67,
   "metadata": {},
   "outputs": [],
   "source": [
    "def return_rate(row):\n",
    "    '''\n",
    "    Функция подсчитывает процент возврата денег.\n",
    "    '''\n",
    "    return row['box_office']/row['budget']*100"
   ]
  },
  {
   "cell_type": "markdown",
   "metadata": {},
   "source": [
    "Составим сводную таблицу с финансовыми показателями."
   ]
  },
  {
   "cell_type": "code",
   "execution_count": 68,
   "metadata": {},
   "outputs": [
    {
     "data": {
      "text/html": [
       "<div>\n",
       "<style scoped>\n",
       "    .dataframe tbody tr th:only-of-type {\n",
       "        vertical-align: middle;\n",
       "    }\n",
       "\n",
       "    .dataframe tbody tr th {\n",
       "        vertical-align: top;\n",
       "    }\n",
       "\n",
       "    .dataframe thead tr th {\n",
       "        text-align: left;\n",
       "    }\n",
       "\n",
       "    .dataframe thead tr:last-of-type th {\n",
       "        text-align: right;\n",
       "    }\n",
       "</style>\n",
       "<table border=\"1\" class=\"dataframe\">\n",
       "  <thead>\n",
       "    <tr>\n",
       "      <th></th>\n",
       "      <th>box_office</th>\n",
       "      <th>budget</th>\n",
       "      <th>nonrefundable_support</th>\n",
       "      <th>refundable_support</th>\n",
       "      <th colspan=\"4\" halign=\"left\">return_rate</th>\n",
       "      <th>total_support</th>\n",
       "    </tr>\n",
       "    <tr>\n",
       "      <th></th>\n",
       "      <th>sum</th>\n",
       "      <th>sum</th>\n",
       "      <th>sum</th>\n",
       "      <th>sum</th>\n",
       "      <th>max</th>\n",
       "      <th>mean</th>\n",
       "      <th>median</th>\n",
       "      <th>min</th>\n",
       "      <th>sum</th>\n",
       "    </tr>\n",
       "    <tr>\n",
       "      <th>year</th>\n",
       "      <th></th>\n",
       "      <th></th>\n",
       "      <th></th>\n",
       "      <th></th>\n",
       "      <th></th>\n",
       "      <th></th>\n",
       "      <th></th>\n",
       "      <th></th>\n",
       "      <th></th>\n",
       "    </tr>\n",
       "  </thead>\n",
       "  <tbody>\n",
       "    <tr>\n",
       "      <td>2013</td>\n",
       "      <td>20.322385</td>\n",
       "      <td>255.435390</td>\n",
       "      <td>134.347945</td>\n",
       "      <td>0.000000</td>\n",
       "      <td>11.337709</td>\n",
       "      <td>5.898892</td>\n",
       "      <td>5.898892</td>\n",
       "      <td>0.460074</td>\n",
       "      <td>134.347945</td>\n",
       "    </tr>\n",
       "    <tr>\n",
       "      <td>2014</td>\n",
       "      <td>1007.188151</td>\n",
       "      <td>1279.484783</td>\n",
       "      <td>478.002299</td>\n",
       "      <td>71.000000</td>\n",
       "      <td>508.185695</td>\n",
       "      <td>62.541350</td>\n",
       "      <td>5.488036</td>\n",
       "      <td>0.075762</td>\n",
       "      <td>549.002299</td>\n",
       "    </tr>\n",
       "    <tr>\n",
       "      <td>2015</td>\n",
       "      <td>5783.327680</td>\n",
       "      <td>8726.869207</td>\n",
       "      <td>2960.088340</td>\n",
       "      <td>637.153119</td>\n",
       "      <td>522.915735</td>\n",
       "      <td>53.223388</td>\n",
       "      <td>10.398605</td>\n",
       "      <td>0.001703</td>\n",
       "      <td>3597.241459</td>\n",
       "    </tr>\n",
       "    <tr>\n",
       "      <td>2016</td>\n",
       "      <td>6081.707839</td>\n",
       "      <td>7813.842748</td>\n",
       "      <td>3381.655482</td>\n",
       "      <td>921.500000</td>\n",
       "      <td>664.356610</td>\n",
       "      <td>62.755204</td>\n",
       "      <td>15.171407</td>\n",
       "      <td>0.009909</td>\n",
       "      <td>4303.155482</td>\n",
       "    </tr>\n",
       "    <tr>\n",
       "      <td>2017</td>\n",
       "      <td>10865.075301</td>\n",
       "      <td>7180.412568</td>\n",
       "      <td>2464.624781</td>\n",
       "      <td>719.346881</td>\n",
       "      <td>490.561775</td>\n",
       "      <td>99.860314</td>\n",
       "      <td>39.864015</td>\n",
       "      <td>0.435311</td>\n",
       "      <td>3183.971662</td>\n",
       "    </tr>\n",
       "    <tr>\n",
       "      <td>2018</td>\n",
       "      <td>9934.069010</td>\n",
       "      <td>7212.694634</td>\n",
       "      <td>2784.969465</td>\n",
       "      <td>662.000000</td>\n",
       "      <td>972.998377</td>\n",
       "      <td>111.372045</td>\n",
       "      <td>34.894766</td>\n",
       "      <td>0.123621</td>\n",
       "      <td>3446.969465</td>\n",
       "    </tr>\n",
       "    <tr>\n",
       "      <td>2019</td>\n",
       "      <td>8262.020628</td>\n",
       "      <td>12542.866609</td>\n",
       "      <td>3856.000000</td>\n",
       "      <td>868.000000</td>\n",
       "      <td>1920.980432</td>\n",
       "      <td>87.804358</td>\n",
       "      <td>22.849841</td>\n",
       "      <td>0.164342</td>\n",
       "      <td>4724.000000</td>\n",
       "    </tr>\n",
       "  </tbody>\n",
       "</table>\n",
       "</div>"
      ],
      "text/plain": [
       "        box_office        budget nonrefundable_support refundable_support  \\\n",
       "               sum           sum                   sum                sum   \n",
       "year                                                                        \n",
       "2013     20.322385    255.435390            134.347945           0.000000   \n",
       "2014   1007.188151   1279.484783            478.002299          71.000000   \n",
       "2015   5783.327680   8726.869207           2960.088340         637.153119   \n",
       "2016   6081.707839   7813.842748           3381.655482         921.500000   \n",
       "2017  10865.075301   7180.412568           2464.624781         719.346881   \n",
       "2018   9934.069010   7212.694634           2784.969465         662.000000   \n",
       "2019   8262.020628  12542.866609           3856.000000         868.000000   \n",
       "\n",
       "      return_rate                                  total_support  \n",
       "              max        mean     median       min           sum  \n",
       "year                                                              \n",
       "2013    11.337709    5.898892   5.898892  0.460074    134.347945  \n",
       "2014   508.185695   62.541350   5.488036  0.075762    549.002299  \n",
       "2015   522.915735   53.223388  10.398605  0.001703   3597.241459  \n",
       "2016   664.356610   62.755204  15.171407  0.009909   4303.155482  \n",
       "2017   490.561775   99.860314  39.864015  0.435311   3183.971662  \n",
       "2018   972.998377  111.372045  34.894766  0.123621   3446.969465  \n",
       "2019  1920.980432   87.804358  22.849841  0.164342   4724.000000  "
      ]
     },
     "execution_count": 68,
     "metadata": {},
     "output_type": "execute_result"
    }
   ],
   "source": [
    "df_supported.pivot_table(\n",
    "    index='year',\n",
    "    values=['refundable_support', 'nonrefundable_support', 'total_support', 'box_office', 'return_rate', 'budget'],\n",
    "    aggfunc={'refundable_support':'sum', 'nonrefundable_support':'sum', \n",
    "             'total_support':'sum', 'box_office':'sum', 'return_rate':['median', 'mean', 'min', 'max'], 'budget':'sum'}\n",
    ")"
   ]
  },
  {
   "cell_type": "markdown",
   "metadata": {},
   "source": [
    "Рассмотрим подробнее на графике окупаемость кинолент с государственной поддержкой."
   ]
  },
  {
   "cell_type": "code",
   "execution_count": 69,
   "metadata": {},
   "outputs": [
    {
     "name": "stderr",
     "output_type": "stream",
     "text": [
      "/home/jovyan/.local/lib/python3.7/site-packages/seaborn/relational.py:657: FutureWarning: Converting timezone-aware DatetimeArray to timezone-naive ndarray with 'datetime64[ns]' dtype. In the future, this will return an ndarray with 'object' dtype where each element is a 'pandas.Timestamp' with the correct 'tz'.\n",
      "\tTo accept the future behavior, pass 'dtype=object'.\n",
      "\tTo keep the old behavior, pass 'dtype=\"datetime64[ns]\"'.\n",
      "  args = np.asarray(x), np.asarray(y), np.asarray(s), np.asarray(c)\n"
     ]
    },
    {
     "data": {
      "image/png": "[encoded data removed]",
      "text/plain": [
       "<Figure size 1080x360 with 1 Axes>"
      ]
     },
     "metadata": {
      "needs_background": "light"
     },
     "output_type": "display_data"
    }
   ],
   "source": [
    "f, ax = plt.subplots(figsize=(15, 5))\n",
    "\n",
    "sns.scatterplot(data=df_supported, x='show_start_date', y='return_rate')\n",
    "\n",
    "plt.xlabel('Год выхода в прокат', labelpad = 10, size = 12)\n",
    "plt.ylabel('Окупаемость киноленты, %', labelpad = 10, size = 12)\n",
    "plt.title('Окупаемость кинолент с государственной поддержкой', pad = 15, size = 16)\n",
    "plt.grid(visible=True)\n",
    "plt.yscale('log')\n",
    "\n",
    "plt.show()"
   ]
  },
  {
   "cell_type": "markdown",
   "metadata": {},
   "source": [
    "### Вывод\n",
    "\n",
    "Как видно из приведённых данных, большая часть кинолент не отбивает свой бюджет, однако, некоторые удачные киноленты приносят сотни процентов прибыли своим создателям и, как следствие, общий баланс остаётся положительным.\n",
    "\n",
    "Если от года к году сравнить сборы кинолент с их бюджетами, за вычетом государственной поддержки, то мы увидим что окупаемость таких кинолент будет колебаться около 100%.\n",
    "\n",
    "Таким образом можно сделать вывод что фактически государственная поддержка стимулирует снимать киноленты на величину невозвратной поддержки по сравнению с нулевой доходностью без поддержки.\n",
    "\n",
    "Оценка художественной ценности снимаемых картин и их вклада в мировой кинематограф, а также целесообразность самой программы для увеличения количества именно русского кино остаётся за рамками данного исследования."
   ]
  },
  {
   "cell_type": "markdown",
   "metadata": {
    "id": "V2gYwMcPgFyd"
   },
   "source": [
    "## Часть 5. Общий вывод <a id=\"step5\"></a>"
   ]
  },
  {
   "cell_type": "markdown",
   "metadata": {
    "id": "AYRg3dzXgFye"
   },
   "source": [
    "В данной работе мы изучили рынок российского кинопроката и выявили текущие тренды. Уделили внимание фильмам, которые получили государственную поддержку. \n",
    "\n",
    "В ходе работы мы изучили полученные с сайта Министерства Культуры базы данных. Провели подготовку и объединение необходимой для исследования информации.\n",
    "\n",
    "Для проведения работы мы предобработали данные, изменили типы, где было необходимо, проверили пропуски, дубликаты, различные типы значений. Добавили производные данные.\n",
    "\n",
    "Провели исследовательский анализ данных и исследовали сколько фильмов выходило каждый год. Посмотрели на динамику проката. Определили влияние возрастных ограничений киноленты на сборы фильма в прокате.\n",
    "\n",
    "Отдельно мы провели анализ кинолент получивших государственную поддержку от Министерства Культуры РФ и Фонда Кино. Изучили какие киноленты получали наибольшую поддержку, что на это влияло. Изучили количественные характеристики поддержки. Сравнили по различным параметрам фильмы с поддержкой с общим российским кинопрокатом.\n",
    "\n",
    "Окончательно выяснить насколько такие фильмы интересны зрителю можно было бы с данными по количеству проданных билетов, однако, даже без этих данных видно что в целом российское кино не является убыточным. Даже без государственной поддержки окупаемость находилась бы на уровне 100%. Фактически программа государственной поддержки рассчитана не на закрытие дефицита бюджета, а на выведение окупаемости в положительную зону, что является драйвером развития для кинобизнеса."
   ]
  }
 ],
 "metadata": {
  "ExecuteTimeLog": [
   {
    "duration": 537,
    "start_time": "2021-07-07T10:12:08.634Z"
   },
   {
    "duration": 206,
    "start_time": "2021-07-07T10:12:30.191Z"
   },
   {
    "duration": 227,
    "start_time": "2021-07-07T10:12:33.078Z"
   },
   {
    "duration": 153,
    "start_time": "2021-07-07T10:13:42.146Z"
   },
   {
    "duration": 233,
    "start_time": "2021-07-07T10:30:09.252Z"
   },
   {
    "duration": 19,
    "start_time": "2021-07-07T10:30:15.577Z"
   },
   {
    "duration": 18,
    "start_time": "2021-07-07T10:30:57.348Z"
   },
   {
    "duration": 19,
    "start_time": "2021-07-07T10:31:17.452Z"
   },
   {
    "duration": 21,
    "start_time": "2021-07-07T10:31:32.227Z"
   },
   {
    "duration": 27,
    "start_time": "2021-07-07T10:32:06.588Z"
   },
   {
    "duration": 23,
    "start_time": "2021-07-07T10:32:43.645Z"
   },
   {
    "duration": 24,
    "start_time": "2021-07-07T10:33:06.948Z"
   },
   {
    "duration": 7,
    "start_time": "2021-07-07T10:33:28.558Z"
   },
   {
    "duration": 23,
    "start_time": "2021-07-07T10:33:43.761Z"
   },
   {
    "duration": 28,
    "start_time": "2021-07-07T10:34:13.466Z"
   },
   {
    "duration": 23,
    "start_time": "2021-07-07T10:35:56.187Z"
   },
   {
    "duration": 6,
    "start_time": "2021-07-07T10:36:48.182Z"
   },
   {
    "duration": 14,
    "start_time": "2021-07-07T10:37:49.641Z"
   },
   {
    "duration": 6,
    "start_time": "2021-07-07T10:38:06.694Z"
   },
   {
    "duration": 6,
    "start_time": "2021-07-07T10:38:13.493Z"
   },
   {
    "duration": 19,
    "start_time": "2021-07-07T10:38:44.056Z"
   },
   {
    "duration": 186,
    "start_time": "2021-07-07T10:48:35.618Z"
   },
   {
    "duration": 24,
    "start_time": "2021-07-07T10:48:51.498Z"
   },
   {
    "duration": 20,
    "start_time": "2021-07-07T10:48:59.415Z"
   },
   {
    "duration": 20,
    "start_time": "2021-07-07T10:53:02.195Z"
   },
   {
    "duration": 188,
    "start_time": "2021-07-07T10:54:40.486Z"
   },
   {
    "duration": 115,
    "start_time": "2021-07-07T10:54:52.552Z"
   },
   {
    "duration": 214,
    "start_time": "2021-07-07T10:54:56.354Z"
   },
   {
    "duration": 47,
    "start_time": "2021-07-07T10:54:58.282Z"
   },
   {
    "duration": 217,
    "start_time": "2021-07-07T10:59:16.075Z"
   },
   {
    "duration": 51,
    "start_time": "2021-07-07T10:59:16.243Z"
   },
   {
    "duration": 578,
    "start_time": "2021-07-07T10:59:18.774Z"
   },
   {
    "duration": 161,
    "start_time": "2021-07-07T10:59:21.238Z"
   },
   {
    "duration": 59,
    "start_time": "2021-07-07T10:59:21.453Z"
   },
   {
    "duration": 3,
    "start_time": "2021-07-07T11:02:10.786Z"
   },
   {
    "duration": 13,
    "start_time": "2021-07-07T11:07:07.722Z"
   },
   {
    "duration": 26,
    "start_time": "2021-07-07T11:07:17.958Z"
   },
   {
    "duration": 22,
    "start_time": "2021-07-07T11:08:17.939Z"
   },
   {
    "duration": 212,
    "start_time": "2021-07-07T11:08:19.665Z"
   },
   {
    "duration": 21,
    "start_time": "2021-07-07T11:08:29.945Z"
   },
   {
    "duration": 31,
    "start_time": "2021-07-07T11:08:38.899Z"
   },
   {
    "duration": 23,
    "start_time": "2021-07-07T11:08:54.527Z"
   },
   {
    "duration": 8,
    "start_time": "2021-07-07T11:18:55.974Z"
   },
   {
    "duration": 7,
    "start_time": "2021-07-07T11:19:03.639Z"
   },
   {
    "duration": 7,
    "start_time": "2021-07-07T11:19:06.444Z"
   },
   {
    "duration": 578,
    "start_time": "2021-07-07T12:09:59.576Z"
   },
   {
    "duration": 195,
    "start_time": "2021-07-07T12:10:00.156Z"
   },
   {
    "duration": 115,
    "start_time": "2021-07-07T12:10:00.353Z"
   },
   {
    "duration": 3,
    "start_time": "2021-07-07T12:10:00.470Z"
   },
   {
    "duration": 32,
    "start_time": "2021-07-07T12:10:00.474Z"
   },
   {
    "duration": 23,
    "start_time": "2021-07-07T12:10:00.508Z"
   },
   {
    "duration": 19,
    "start_time": "2021-07-07T12:10:00.533Z"
   },
   {
    "duration": 44,
    "start_time": "2021-07-07T12:10:00.553Z"
   },
   {
    "duration": 7,
    "start_time": "2021-07-07T12:10:00.600Z"
   },
   {
    "duration": 7,
    "start_time": "2021-07-07T12:19:45.761Z"
   },
   {
    "duration": 21,
    "start_time": "2021-07-07T12:21:35.482Z"
   },
   {
    "duration": 21,
    "start_time": "2021-07-07T12:29:23.569Z"
   },
   {
    "duration": 525,
    "start_time": "2021-07-07T12:29:44.542Z"
   },
   {
    "duration": 214,
    "start_time": "2021-07-07T12:29:45.069Z"
   },
   {
    "duration": 92,
    "start_time": "2021-07-07T12:29:45.285Z"
   },
   {
    "duration": 3,
    "start_time": "2021-07-07T12:29:45.379Z"
   },
   {
    "duration": 28,
    "start_time": "2021-07-07T12:29:45.384Z"
   },
   {
    "duration": 23,
    "start_time": "2021-07-07T12:29:45.413Z"
   },
   {
    "duration": 21,
    "start_time": "2021-07-07T12:29:45.437Z"
   },
   {
    "duration": 41,
    "start_time": "2021-07-07T12:29:45.460Z"
   },
   {
    "duration": 7,
    "start_time": "2021-07-07T12:29:45.502Z"
   },
   {
    "duration": 20,
    "start_time": "2021-07-07T12:29:45.511Z"
   },
   {
    "duration": 12,
    "start_time": "2021-07-07T12:34:02.800Z"
   },
   {
    "duration": 7,
    "start_time": "2021-07-07T12:35:10.479Z"
   },
   {
    "duration": 8,
    "start_time": "2021-07-07T12:35:22.440Z"
   },
   {
    "duration": 6,
    "start_time": "2021-07-07T12:35:35.649Z"
   },
   {
    "duration": 6,
    "start_time": "2021-07-07T12:35:43.107Z"
   },
   {
    "duration": 22,
    "start_time": "2021-07-07T12:38:03.029Z"
   },
   {
    "duration": 10,
    "start_time": "2021-07-07T12:38:06.592Z"
   },
   {
    "duration": 563,
    "start_time": "2021-07-07T12:38:46.493Z"
   },
   {
    "duration": 265,
    "start_time": "2021-07-07T12:38:47.058Z"
   },
   {
    "duration": 94,
    "start_time": "2021-07-07T12:38:47.325Z"
   },
   {
    "duration": 3,
    "start_time": "2021-07-07T12:38:47.422Z"
   },
   {
    "duration": 30,
    "start_time": "2021-07-07T12:38:47.427Z"
   },
   {
    "duration": 16,
    "start_time": "2021-07-07T12:38:53.305Z"
   },
   {
    "duration": 10,
    "start_time": "2021-07-07T12:38:53.499Z"
   },
   {
    "duration": 8,
    "start_time": "2021-07-07T12:39:48.161Z"
   },
   {
    "duration": 27,
    "start_time": "2021-07-07T12:41:17.629Z"
   },
   {
    "duration": 17,
    "start_time": "2021-07-07T12:41:17.867Z"
   },
   {
    "duration": 21,
    "start_time": "2021-07-07T12:41:19.310Z"
   },
   {
    "duration": 7,
    "start_time": "2021-07-07T12:41:19.544Z"
   },
   {
    "duration": 20,
    "start_time": "2021-07-07T12:41:20.504Z"
   },
   {
    "duration": 554,
    "start_time": "2021-07-07T12:56:23.696Z"
   },
   {
    "duration": 200,
    "start_time": "2021-07-07T12:56:25.234Z"
   },
   {
    "duration": 119,
    "start_time": "2021-07-07T12:56:25.480Z"
   },
   {
    "duration": 4,
    "start_time": "2021-07-07T12:56:25.762Z"
   },
   {
    "duration": 26,
    "start_time": "2021-07-07T12:56:27.172Z"
   },
   {
    "duration": 12,
    "start_time": "2021-07-07T12:56:29.051Z"
   },
   {
    "duration": 10,
    "start_time": "2021-07-07T12:56:29.291Z"
   },
   {
    "duration": 8,
    "start_time": "2021-07-07T12:56:29.623Z"
   },
   {
    "duration": 28,
    "start_time": "2021-07-07T12:56:32.137Z"
   },
   {
    "duration": 19,
    "start_time": "2021-07-07T12:56:39.785Z"
   },
   {
    "duration": 20,
    "start_time": "2021-07-07T12:56:44.297Z"
   },
   {
    "duration": 7,
    "start_time": "2021-07-07T12:56:45.392Z"
   },
   {
    "duration": 23,
    "start_time": "2021-07-07T12:56:46.615Z"
   },
   {
    "duration": 4,
    "start_time": "2021-07-07T12:57:06.625Z"
   },
   {
    "duration": 32,
    "start_time": "2021-07-07T12:57:36.690Z"
   },
   {
    "duration": 18,
    "start_time": "2021-07-07T12:58:00.149Z"
   },
   {
    "duration": 15,
    "start_time": "2021-07-07T12:59:16.793Z"
   },
   {
    "duration": 7,
    "start_time": "2021-07-07T13:19:22.624Z"
   },
   {
    "duration": 6,
    "start_time": "2021-07-07T14:17:33.527Z"
   },
   {
    "duration": 9,
    "start_time": "2021-07-07T14:17:48.409Z"
   },
   {
    "duration": 8,
    "start_time": "2021-07-07T14:20:13.060Z"
   },
   {
    "duration": 8,
    "start_time": "2021-07-07T14:20:37.957Z"
   },
   {
    "duration": 8,
    "start_time": "2021-07-07T14:20:47.470Z"
   },
   {
    "duration": 9,
    "start_time": "2021-07-07T14:20:54.503Z"
   },
   {
    "duration": 10,
    "start_time": "2021-07-07T14:28:57.763Z"
   },
   {
    "duration": 3,
    "start_time": "2021-07-07T14:30:23.377Z"
   },
   {
    "duration": 3,
    "start_time": "2021-07-07T14:30:36.489Z"
   },
   {
    "duration": 103,
    "start_time": "2021-07-07T14:30:52.351Z"
   },
   {
    "duration": 8,
    "start_time": "2021-07-07T14:30:54.763Z"
   },
   {
    "duration": 8,
    "start_time": "2021-07-07T14:31:29.301Z"
   },
   {
    "duration": 13,
    "start_time": "2021-07-07T14:31:44.516Z"
   },
   {
    "duration": 7,
    "start_time": "2021-07-07T14:33:10.972Z"
   },
   {
    "duration": 11,
    "start_time": "2021-07-07T14:33:27.780Z"
   },
   {
    "duration": 8,
    "start_time": "2021-07-07T14:34:44.588Z"
   },
   {
    "duration": 57,
    "start_time": "2021-07-07T14:35:59.042Z"
   },
   {
    "duration": 3,
    "start_time": "2021-07-07T14:36:28.168Z"
   },
   {
    "duration": 5,
    "start_time": "2021-07-07T14:36:46.254Z"
   },
   {
    "duration": 4,
    "start_time": "2021-07-07T14:36:52.714Z"
   },
   {
    "duration": 3,
    "start_time": "2021-07-07T14:36:56.612Z"
   },
   {
    "duration": 4,
    "start_time": "2021-07-07T14:36:57.049Z"
   },
   {
    "duration": 3,
    "start_time": "2021-07-07T14:39:21.214Z"
   },
   {
    "duration": 7,
    "start_time": "2021-07-07T14:39:52.406Z"
   },
   {
    "duration": 11,
    "start_time": "2021-07-07T14:39:58.576Z"
   },
   {
    "duration": 9,
    "start_time": "2021-07-07T14:40:26.301Z"
   },
   {
    "duration": 10,
    "start_time": "2021-07-07T14:40:31.704Z"
   },
   {
    "duration": 11,
    "start_time": "2021-07-07T14:40:36.249Z"
   },
   {
    "duration": 10,
    "start_time": "2021-07-07T14:40:39.783Z"
   },
   {
    "duration": 9,
    "start_time": "2021-07-07T14:40:48.558Z"
   },
   {
    "duration": 10,
    "start_time": "2021-07-07T14:40:57.143Z"
   },
   {
    "duration": 9,
    "start_time": "2021-07-07T14:41:06.074Z"
   },
   {
    "duration": 4324,
    "start_time": "2021-07-07T14:41:22.004Z"
   },
   {
    "duration": 11,
    "start_time": "2021-07-07T14:41:33.392Z"
   },
   {
    "duration": 9,
    "start_time": "2021-07-07T14:41:39.288Z"
   },
   {
    "duration": 569,
    "start_time": "2021-07-07T14:42:14.387Z"
   },
   {
    "duration": 197,
    "start_time": "2021-07-07T14:42:14.959Z"
   },
   {
    "duration": 84,
    "start_time": "2021-07-07T14:42:16.052Z"
   },
   {
    "duration": 4,
    "start_time": "2021-07-07T14:42:16.900Z"
   },
   {
    "duration": 27,
    "start_time": "2021-07-07T14:42:19.898Z"
   },
   {
    "duration": 12,
    "start_time": "2021-07-07T14:42:21.577Z"
   },
   {
    "duration": 9,
    "start_time": "2021-07-07T14:42:21.813Z"
   },
   {
    "duration": 9,
    "start_time": "2021-07-07T14:42:22.569Z"
   },
   {
    "duration": 29,
    "start_time": "2021-07-07T14:42:25.837Z"
   },
   {
    "duration": 20,
    "start_time": "2021-07-07T14:42:27.003Z"
   },
   {
    "duration": 21,
    "start_time": "2021-07-07T14:42:28.767Z"
   },
   {
    "duration": 7,
    "start_time": "2021-07-07T14:42:29.838Z"
   },
   {
    "duration": 4,
    "start_time": "2021-07-07T14:43:25.493Z"
   },
   {
    "duration": 7,
    "start_time": "2021-07-07T14:43:26.573Z"
   },
   {
    "duration": 10,
    "start_time": "2021-07-07T14:43:31.639Z"
   },
   {
    "duration": 9,
    "start_time": "2021-07-07T14:43:32.046Z"
   },
   {
    "duration": 10,
    "start_time": "2021-07-07T14:43:33.301Z"
   },
   {
    "duration": 12,
    "start_time": "2021-07-07T14:43:33.658Z"
   },
   {
    "duration": 8,
    "start_time": "2021-07-07T14:43:34.552Z"
   },
   {
    "duration": 9,
    "start_time": "2021-07-07T14:43:35.058Z"
   },
   {
    "duration": 12,
    "start_time": "2021-07-07T14:43:35.914Z"
   },
   {
    "duration": 17,
    "start_time": "2021-07-07T14:45:34.368Z"
   },
   {
    "duration": 512,
    "start_time": "2021-07-07T14:51:58.236Z"
   },
   {
    "duration": 223,
    "start_time": "2021-07-07T14:51:58.750Z"
   },
   {
    "duration": 93,
    "start_time": "2021-07-07T14:51:58.977Z"
   },
   {
    "duration": 4,
    "start_time": "2021-07-07T14:51:59.071Z"
   },
   {
    "duration": 37,
    "start_time": "2021-07-07T14:51:59.077Z"
   },
   {
    "duration": 18,
    "start_time": "2021-07-07T14:51:59.116Z"
   },
   {
    "duration": 10,
    "start_time": "2021-07-07T14:51:59.137Z"
   },
   {
    "duration": 8,
    "start_time": "2021-07-07T14:51:59.149Z"
   },
   {
    "duration": 54,
    "start_time": "2021-07-07T14:51:59.158Z"
   },
   {
    "duration": 18,
    "start_time": "2021-07-07T14:51:59.213Z"
   },
   {
    "duration": 22,
    "start_time": "2021-07-07T14:51:59.232Z"
   },
   {
    "duration": 36,
    "start_time": "2021-07-07T14:51:59.255Z"
   },
   {
    "duration": 7,
    "start_time": "2021-07-07T14:51:59.293Z"
   },
   {
    "duration": 10,
    "start_time": "2021-07-07T14:51:59.302Z"
   },
   {
    "duration": 9,
    "start_time": "2021-07-07T14:51:59.313Z"
   },
   {
    "duration": 11,
    "start_time": "2021-07-07T14:51:59.324Z"
   },
   {
    "duration": 8,
    "start_time": "2021-07-07T14:51:59.337Z"
   },
   {
    "duration": 46,
    "start_time": "2021-07-07T14:51:59.347Z"
   },
   {
    "duration": 22,
    "start_time": "2021-07-07T14:51:59.395Z"
   },
   {
    "duration": 24,
    "start_time": "2021-07-07T14:57:32.911Z"
   },
   {
    "duration": 7,
    "start_time": "2021-07-07T14:58:22.070Z"
   },
   {
    "duration": 4,
    "start_time": "2021-07-07T14:59:11.239Z"
   },
   {
    "duration": 25,
    "start_time": "2021-07-07T15:07:22.208Z"
   },
   {
    "duration": 16,
    "start_time": "2021-07-07T15:08:25.560Z"
   },
   {
    "duration": 15,
    "start_time": "2021-07-07T15:08:40.647Z"
   },
   {
    "duration": 14,
    "start_time": "2021-07-07T15:08:46.669Z"
   },
   {
    "duration": 533,
    "start_time": "2021-07-07T15:18:07.440Z"
   },
   {
    "duration": 173,
    "start_time": "2021-07-07T15:18:07.974Z"
   },
   {
    "duration": 84,
    "start_time": "2021-07-07T15:18:08.149Z"
   },
   {
    "duration": 3,
    "start_time": "2021-07-07T15:18:08.235Z"
   },
   {
    "duration": 30,
    "start_time": "2021-07-07T15:18:08.240Z"
   },
   {
    "duration": 22,
    "start_time": "2021-07-07T15:18:08.272Z"
   },
   {
    "duration": 11,
    "start_time": "2021-07-07T15:18:08.295Z"
   },
   {
    "duration": 11,
    "start_time": "2021-07-07T15:18:08.309Z"
   },
   {
    "duration": 40,
    "start_time": "2021-07-07T15:18:08.322Z"
   },
   {
    "duration": 42,
    "start_time": "2021-07-07T15:18:08.364Z"
   },
   {
    "duration": 22,
    "start_time": "2021-07-07T15:18:08.408Z"
   },
   {
    "duration": 5,
    "start_time": "2021-07-07T15:18:08.432Z"
   },
   {
    "duration": 13,
    "start_time": "2021-07-07T15:18:08.439Z"
   },
   {
    "duration": 9,
    "start_time": "2021-07-07T15:18:08.454Z"
   },
   {
    "duration": 32,
    "start_time": "2021-07-07T15:18:08.465Z"
   },
   {
    "duration": 10,
    "start_time": "2021-07-07T15:18:08.501Z"
   },
   {
    "duration": 7,
    "start_time": "2021-07-07T15:18:08.513Z"
   },
   {
    "duration": 11,
    "start_time": "2021-07-07T15:18:08.521Z"
   },
   {
    "duration": 17,
    "start_time": "2021-07-07T15:18:08.534Z"
   },
   {
    "duration": 44,
    "start_time": "2021-07-07T15:18:08.553Z"
   },
   {
    "duration": 22,
    "start_time": "2021-07-07T15:18:08.599Z"
   },
   {
    "duration": 61,
    "start_time": "2021-07-07T15:18:08.622Z"
   },
   {
    "duration": 7,
    "start_time": "2021-07-07T15:18:39.457Z"
   },
   {
    "duration": 5,
    "start_time": "2021-07-07T16:05:17.020Z"
   },
   {
    "duration": 5,
    "start_time": "2021-07-07T16:51:28.794Z"
   },
   {
    "duration": 546,
    "start_time": "2021-07-07T16:52:26.306Z"
   },
   {
    "duration": 203,
    "start_time": "2021-07-07T16:52:27.523Z"
   },
   {
    "duration": 85,
    "start_time": "2021-07-07T16:52:27.736Z"
   },
   {
    "duration": 4,
    "start_time": "2021-07-07T16:52:27.899Z"
   },
   {
    "duration": 25,
    "start_time": "2021-07-07T16:52:28.674Z"
   },
   {
    "duration": 8,
    "start_time": "2021-07-07T16:52:32.956Z"
   },
   {
    "duration": 18,
    "start_time": "2021-07-07T16:52:35.616Z"
   },
   {
    "duration": 6,
    "start_time": "2021-07-07T16:52:36.913Z"
   },
   {
    "duration": 11,
    "start_time": "2021-07-07T16:52:40.258Z"
   },
   {
    "duration": 10,
    "start_time": "2021-07-07T16:52:46.251Z"
   },
   {
    "duration": 8,
    "start_time": "2021-07-07T16:52:47.182Z"
   },
   {
    "duration": 27,
    "start_time": "2021-07-07T16:53:20.391Z"
   },
   {
    "duration": 20,
    "start_time": "2021-07-07T16:53:22.022Z"
   },
   {
    "duration": 23,
    "start_time": "2021-07-07T16:53:23.690Z"
   },
   {
    "duration": 8,
    "start_time": "2021-07-07T16:53:24.261Z"
   },
   {
    "duration": 4,
    "start_time": "2021-07-07T16:53:38.733Z"
   },
   {
    "duration": 7,
    "start_time": "2021-07-07T16:53:40.445Z"
   },
   {
    "duration": 11,
    "start_time": "2021-07-07T16:53:41.348Z"
   },
   {
    "duration": 13,
    "start_time": "2021-07-07T16:53:45.250Z"
   },
   {
    "duration": 12,
    "start_time": "2021-07-07T16:53:45.467Z"
   },
   {
    "duration": 4,
    "start_time": "2021-07-07T16:55:32.704Z"
   },
   {
    "duration": 12,
    "start_time": "2021-07-07T16:55:49.012Z"
   },
   {
    "duration": 18,
    "start_time": "2021-07-07T16:55:49.547Z"
   },
   {
    "duration": 611,
    "start_time": "2021-07-07T16:58:35.156Z"
   },
   {
    "duration": 200,
    "start_time": "2021-07-07T16:58:35.770Z"
   },
   {
    "duration": 86,
    "start_time": "2021-07-07T16:58:35.972Z"
   },
   {
    "duration": 3,
    "start_time": "2021-07-07T16:58:36.060Z"
   },
   {
    "duration": 27,
    "start_time": "2021-07-07T16:58:36.065Z"
   },
   {
    "duration": 8,
    "start_time": "2021-07-07T16:58:36.094Z"
   },
   {
    "duration": 17,
    "start_time": "2021-07-07T16:58:36.103Z"
   },
   {
    "duration": 5,
    "start_time": "2021-07-07T16:58:36.123Z"
   },
   {
    "duration": 11,
    "start_time": "2021-07-07T16:58:36.130Z"
   },
   {
    "duration": 7,
    "start_time": "2021-07-07T16:58:36.143Z"
   },
   {
    "duration": 37,
    "start_time": "2021-07-07T16:58:36.152Z"
   },
   {
    "duration": 27,
    "start_time": "2021-07-07T16:58:36.191Z"
   },
   {
    "duration": 19,
    "start_time": "2021-07-07T16:58:36.219Z"
   },
   {
    "duration": 49,
    "start_time": "2021-07-07T16:58:36.240Z"
   },
   {
    "duration": 6,
    "start_time": "2021-07-07T16:58:36.291Z"
   },
   {
    "duration": 3,
    "start_time": "2021-07-07T16:58:36.299Z"
   },
   {
    "duration": 13,
    "start_time": "2021-07-07T16:58:36.304Z"
   },
   {
    "duration": 10,
    "start_time": "2021-07-07T16:58:36.319Z"
   },
   {
    "duration": 10,
    "start_time": "2021-07-07T16:58:36.331Z"
   },
   {
    "duration": 44,
    "start_time": "2021-07-07T16:58:36.343Z"
   },
   {
    "duration": 4,
    "start_time": "2021-07-07T16:58:36.388Z"
   },
   {
    "duration": 13,
    "start_time": "2021-07-07T16:58:36.394Z"
   },
   {
    "duration": 16,
    "start_time": "2021-07-07T16:58:36.410Z"
   },
   {
    "duration": 8,
    "start_time": "2021-07-07T17:02:31.629Z"
   },
   {
    "duration": 8,
    "start_time": "2021-07-07T17:02:34.308Z"
   },
   {
    "duration": 6,
    "start_time": "2021-07-07T17:05:13.483Z"
   },
   {
    "duration": 17,
    "start_time": "2021-07-07T17:05:20.606Z"
   },
   {
    "duration": 7,
    "start_time": "2021-07-07T17:05:34.638Z"
   },
   {
    "duration": 3,
    "start_time": "2021-07-07T17:06:31.883Z"
   },
   {
    "duration": 570,
    "start_time": "2021-07-07T17:06:37.165Z"
   },
   {
    "duration": 174,
    "start_time": "2021-07-07T17:06:37.737Z"
   },
   {
    "duration": 47,
    "start_time": "2021-07-07T17:06:37.913Z"
   },
   {
    "duration": 3,
    "start_time": "2021-07-07T17:06:37.962Z"
   },
   {
    "duration": 27,
    "start_time": "2021-07-07T17:06:37.967Z"
   },
   {
    "duration": 7,
    "start_time": "2021-07-07T17:06:37.996Z"
   },
   {
    "duration": 16,
    "start_time": "2021-07-07T17:06:38.005Z"
   },
   {
    "duration": 6,
    "start_time": "2021-07-07T17:06:38.024Z"
   },
   {
    "duration": 12,
    "start_time": "2021-07-07T17:06:38.031Z"
   },
   {
    "duration": 41,
    "start_time": "2021-07-07T17:06:38.045Z"
   },
   {
    "duration": 8,
    "start_time": "2021-07-07T17:06:38.088Z"
   },
   {
    "duration": 26,
    "start_time": "2021-07-07T17:06:38.098Z"
   },
   {
    "duration": 17,
    "start_time": "2021-07-07T17:06:38.126Z"
   },
   {
    "duration": 43,
    "start_time": "2021-07-07T17:06:38.144Z"
   },
   {
    "duration": 6,
    "start_time": "2021-07-07T17:06:38.188Z"
   },
   {
    "duration": 5,
    "start_time": "2021-07-07T17:06:38.195Z"
   },
   {
    "duration": 9,
    "start_time": "2021-07-07T17:06:38.201Z"
   },
   {
    "duration": 12,
    "start_time": "2021-07-07T17:06:38.212Z"
   },
   {
    "duration": 11,
    "start_time": "2021-07-07T17:06:38.226Z"
   },
   {
    "duration": 47,
    "start_time": "2021-07-07T17:06:38.239Z"
   },
   {
    "duration": 4,
    "start_time": "2021-07-07T17:06:38.288Z"
   },
   {
    "duration": 13,
    "start_time": "2021-07-07T17:06:38.293Z"
   },
   {
    "duration": 5,
    "start_time": "2021-07-07T17:06:38.309Z"
   },
   {
    "duration": 18,
    "start_time": "2021-07-07T17:06:38.325Z"
   },
   {
    "duration": 20,
    "start_time": "2021-07-07T17:07:02.805Z"
   },
   {
    "duration": 19,
    "start_time": "2021-07-07T17:07:08.527Z"
   },
   {
    "duration": 19,
    "start_time": "2021-07-07T17:07:12.758Z"
   },
   {
    "duration": 22,
    "start_time": "2021-07-07T17:07:17.497Z"
   },
   {
    "duration": 19,
    "start_time": "2021-07-07T17:07:19.645Z"
   },
   {
    "duration": 10,
    "start_time": "2021-07-07T17:07:34.239Z"
   },
   {
    "duration": 17,
    "start_time": "2021-07-07T17:07:54.144Z"
   },
   {
    "duration": 14,
    "start_time": "2021-07-07T17:08:14.357Z"
   },
   {
    "duration": 616,
    "start_time": "2021-07-07T17:08:45.254Z"
   },
   {
    "duration": 178,
    "start_time": "2021-07-07T17:08:45.872Z"
   },
   {
    "duration": 60,
    "start_time": "2021-07-07T17:08:46.054Z"
   },
   {
    "duration": 3,
    "start_time": "2021-07-07T17:08:46.116Z"
   },
   {
    "duration": 26,
    "start_time": "2021-07-07T17:08:46.121Z"
   },
   {
    "duration": 7,
    "start_time": "2021-07-07T17:08:46.149Z"
   },
   {
    "duration": 17,
    "start_time": "2021-07-07T17:08:46.158Z"
   },
   {
    "duration": 14,
    "start_time": "2021-07-07T17:08:46.176Z"
   },
   {
    "duration": 17,
    "start_time": "2021-07-07T17:08:46.193Z"
   },
   {
    "duration": 9,
    "start_time": "2021-07-07T17:08:46.211Z"
   },
   {
    "duration": 21,
    "start_time": "2021-07-07T17:08:46.221Z"
   },
   {
    "duration": 49,
    "start_time": "2021-07-07T17:08:46.244Z"
   },
   {
    "duration": 24,
    "start_time": "2021-07-07T17:08:46.295Z"
   },
   {
    "duration": 22,
    "start_time": "2021-07-07T17:08:46.321Z"
   },
   {
    "duration": 6,
    "start_time": "2021-07-07T17:08:46.345Z"
   },
   {
    "duration": 5,
    "start_time": "2021-07-07T17:08:46.353Z"
   },
   {
    "duration": 13,
    "start_time": "2021-07-07T17:08:46.386Z"
   },
   {
    "duration": 12,
    "start_time": "2021-07-07T17:08:46.402Z"
   },
   {
    "duration": 10,
    "start_time": "2021-07-07T17:08:46.415Z"
   },
   {
    "duration": 7,
    "start_time": "2021-07-07T17:08:46.427Z"
   },
   {
    "duration": 8,
    "start_time": "2021-07-07T17:08:46.435Z"
   },
   {
    "duration": 68,
    "start_time": "2021-07-07T17:08:46.446Z"
   },
   {
    "duration": 13,
    "start_time": "2021-07-07T17:08:46.516Z"
   },
   {
    "duration": 78,
    "start_time": "2021-07-07T17:08:46.530Z"
   },
   {
    "duration": 40,
    "start_time": "2021-07-07T17:09:08.185Z"
   },
   {
    "duration": 16,
    "start_time": "2021-07-07T17:09:19.324Z"
   },
   {
    "duration": 21,
    "start_time": "2021-07-07T17:09:23.290Z"
   },
   {
    "duration": 13,
    "start_time": "2021-07-07T17:09:54.812Z"
   },
   {
    "duration": 13,
    "start_time": "2021-07-07T17:10:02.039Z"
   },
   {
    "duration": 10,
    "start_time": "2021-07-07T17:10:29.632Z"
   },
   {
    "duration": 13,
    "start_time": "2021-07-07T17:10:52.372Z"
   },
   {
    "duration": 13,
    "start_time": "2021-07-07T17:11:17.270Z"
   },
   {
    "duration": 13,
    "start_time": "2021-07-07T17:14:59.284Z"
   },
   {
    "duration": 547,
    "start_time": "2021-07-07T17:18:52.403Z"
   },
   {
    "duration": 163,
    "start_time": "2021-07-07T17:18:52.952Z"
   },
   {
    "duration": 44,
    "start_time": "2021-07-07T17:18:53.117Z"
   },
   {
    "duration": 3,
    "start_time": "2021-07-07T17:18:53.162Z"
   },
   {
    "duration": 26,
    "start_time": "2021-07-07T17:18:53.167Z"
   },
   {
    "duration": 6,
    "start_time": "2021-07-07T17:18:53.195Z"
   },
   {
    "duration": 15,
    "start_time": "2021-07-07T17:18:53.203Z"
   },
   {
    "duration": 5,
    "start_time": "2021-07-07T17:18:53.220Z"
   },
   {
    "duration": 11,
    "start_time": "2021-07-07T17:18:53.228Z"
   },
   {
    "duration": 9,
    "start_time": "2021-07-07T17:18:53.241Z"
   },
   {
    "duration": 41,
    "start_time": "2021-07-07T17:18:53.252Z"
   },
   {
    "duration": 33,
    "start_time": "2021-07-07T17:18:53.295Z"
   },
   {
    "duration": 19,
    "start_time": "2021-07-07T17:18:53.330Z"
   },
   {
    "duration": 49,
    "start_time": "2021-07-07T17:18:53.350Z"
   },
   {
    "duration": 5,
    "start_time": "2021-07-07T17:18:53.401Z"
   },
   {
    "duration": 5,
    "start_time": "2021-07-07T17:18:53.408Z"
   },
   {
    "duration": 11,
    "start_time": "2021-07-07T17:18:53.414Z"
   },
   {
    "duration": 9,
    "start_time": "2021-07-07T17:18:53.427Z"
   },
   {
    "duration": 10,
    "start_time": "2021-07-07T17:18:53.437Z"
   },
   {
    "duration": 39,
    "start_time": "2021-07-07T17:18:53.448Z"
   },
   {
    "duration": 26,
    "start_time": "2021-07-07T17:18:55.799Z"
   },
   {
    "duration": 598,
    "start_time": "2021-07-07T17:20:17.862Z"
   },
   {
    "duration": 161,
    "start_time": "2021-07-07T17:20:18.462Z"
   },
   {
    "duration": 45,
    "start_time": "2021-07-07T17:20:18.626Z"
   },
   {
    "duration": 4,
    "start_time": "2021-07-07T17:20:18.673Z"
   },
   {
    "duration": 38,
    "start_time": "2021-07-07T17:20:26.877Z"
   },
   {
    "duration": 7,
    "start_time": "2021-07-07T17:20:37.405Z"
   },
   {
    "duration": 19,
    "start_time": "2021-07-07T17:20:51.534Z"
   },
   {
    "duration": 5,
    "start_time": "2021-07-07T17:20:57.228Z"
   },
   {
    "duration": 7,
    "start_time": "2021-07-07T17:21:08.235Z"
   },
   {
    "duration": 19,
    "start_time": "2021-07-07T17:21:42.158Z"
   },
   {
    "duration": 14,
    "start_time": "2021-07-07T17:21:50.225Z"
   },
   {
    "duration": 22,
    "start_time": "2021-07-07T17:22:54.104Z"
   },
   {
    "duration": 5,
    "start_time": "2021-07-07T17:22:56.371Z"
   },
   {
    "duration": 14,
    "start_time": "2021-07-07T17:22:58.316Z"
   },
   {
    "duration": 5,
    "start_time": "2021-07-07T17:22:58.493Z"
   },
   {
    "duration": 35,
    "start_time": "2021-07-07T17:22:59.666Z"
   },
   {
    "duration": 6,
    "start_time": "2021-07-07T17:23:02.410Z"
   },
   {
    "duration": 611,
    "start_time": "2021-07-07T17:24:59.664Z"
   },
   {
    "duration": 178,
    "start_time": "2021-07-07T17:25:01.945Z"
   },
   {
    "duration": 47,
    "start_time": "2021-07-07T17:25:02.125Z"
   },
   {
    "duration": 2,
    "start_time": "2021-07-07T17:25:07.903Z"
   },
   {
    "duration": 254,
    "start_time": "2021-07-07T17:25:08.232Z"
   },
   {
    "duration": 182,
    "start_time": "2021-07-07T17:25:08.671Z"
   },
   {
    "duration": 6,
    "start_time": "2021-07-07T17:25:13.104Z"
   },
   {
    "duration": 36,
    "start_time": "2021-07-07T17:25:13.662Z"
   },
   {
    "duration": 7,
    "start_time": "2021-07-07T17:25:14.528Z"
   },
   {
    "duration": 24,
    "start_time": "2021-07-07T17:25:27.982Z"
   },
   {
    "duration": 3,
    "start_time": "2021-07-07T17:25:48.982Z"
   },
   {
    "duration": 165,
    "start_time": "2021-07-07T17:25:48.987Z"
   },
   {
    "duration": 50,
    "start_time": "2021-07-07T17:25:49.154Z"
   },
   {
    "duration": 4,
    "start_time": "2021-07-07T17:25:49.206Z"
   },
   {
    "duration": 26,
    "start_time": "2021-07-07T17:25:49.212Z"
   },
   {
    "duration": 7,
    "start_time": "2021-07-07T17:25:49.240Z"
   },
   {
    "duration": 16,
    "start_time": "2021-07-07T17:25:49.249Z"
   },
   {
    "duration": 22,
    "start_time": "2021-07-07T17:25:49.266Z"
   },
   {
    "duration": 16,
    "start_time": "2021-07-07T17:25:49.291Z"
   },
   {
    "duration": 9,
    "start_time": "2021-07-07T17:25:49.309Z"
   },
   {
    "duration": 7,
    "start_time": "2021-07-07T17:25:49.319Z"
   },
   {
    "duration": 28,
    "start_time": "2021-07-07T17:25:49.328Z"
   },
   {
    "duration": 44,
    "start_time": "2021-07-07T17:25:49.357Z"
   },
   {
    "duration": 22,
    "start_time": "2021-07-07T17:25:49.403Z"
   },
   {
    "duration": 7,
    "start_time": "2021-07-07T17:25:49.427Z"
   },
   {
    "duration": 3,
    "start_time": "2021-07-07T17:25:49.436Z"
   },
   {
    "duration": 44,
    "start_time": "2021-07-07T17:25:49.441Z"
   },
   {
    "duration": 12,
    "start_time": "2021-07-07T17:25:49.488Z"
   },
   {
    "duration": 13,
    "start_time": "2021-07-07T17:25:49.502Z"
   },
   {
    "duration": 10,
    "start_time": "2021-07-07T17:25:49.516Z"
   },
   {
    "duration": 62,
    "start_time": "2021-07-07T17:25:49.527Z"
   },
   {
    "duration": 26,
    "start_time": "2021-07-07T17:26:51.809Z"
   },
   {
    "duration": 26,
    "start_time": "2021-07-07T17:26:55.759Z"
   },
   {
    "duration": 26,
    "start_time": "2021-07-07T17:27:04.501Z"
   },
   {
    "duration": 25,
    "start_time": "2021-07-07T17:28:24.859Z"
   },
   {
    "duration": 21,
    "start_time": "2021-07-07T17:28:55.250Z"
   },
   {
    "duration": 21,
    "start_time": "2021-07-07T17:28:58.885Z"
   },
   {
    "duration": 7,
    "start_time": "2021-07-07T17:45:40.972Z"
   },
   {
    "duration": 13,
    "start_time": "2021-07-07T17:45:42.529Z"
   },
   {
    "duration": 27,
    "start_time": "2021-07-07T17:45:51.026Z"
   },
   {
    "duration": 518,
    "start_time": "2021-07-07T17:46:15.532Z"
   },
   {
    "duration": 235,
    "start_time": "2021-07-07T17:46:16.053Z"
   },
   {
    "duration": 80,
    "start_time": "2021-07-07T17:46:16.292Z"
   },
   {
    "duration": 5,
    "start_time": "2021-07-07T17:46:16.373Z"
   },
   {
    "duration": 26,
    "start_time": "2021-07-07T17:46:16.380Z"
   },
   {
    "duration": 7,
    "start_time": "2021-07-07T17:46:16.408Z"
   },
   {
    "duration": 16,
    "start_time": "2021-07-07T17:46:16.418Z"
   },
   {
    "duration": 5,
    "start_time": "2021-07-07T17:46:16.436Z"
   },
   {
    "duration": 13,
    "start_time": "2021-07-07T17:46:16.442Z"
   },
   {
    "duration": 35,
    "start_time": "2021-07-07T17:46:16.456Z"
   },
   {
    "duration": 8,
    "start_time": "2021-07-07T17:46:16.493Z"
   },
   {
    "duration": 28,
    "start_time": "2021-07-07T17:46:16.502Z"
   },
   {
    "duration": 17,
    "start_time": "2021-07-07T17:46:16.532Z"
   },
   {
    "duration": 44,
    "start_time": "2021-07-07T17:46:16.551Z"
   },
   {
    "duration": 6,
    "start_time": "2021-07-07T17:46:16.597Z"
   },
   {
    "duration": 4,
    "start_time": "2021-07-07T17:46:16.605Z"
   },
   {
    "duration": 9,
    "start_time": "2021-07-07T17:46:16.610Z"
   },
   {
    "duration": 9,
    "start_time": "2021-07-07T17:46:16.621Z"
   },
   {
    "duration": 10,
    "start_time": "2021-07-07T17:46:16.632Z"
   },
   {
    "duration": 43,
    "start_time": "2021-07-07T17:46:16.644Z"
   },
   {
    "duration": 26,
    "start_time": "2021-07-07T17:46:16.689Z"
   },
   {
    "duration": 19,
    "start_time": "2021-07-07T17:46:16.718Z"
   },
   {
    "duration": 8,
    "start_time": "2021-07-07T17:46:16.738Z"
   },
   {
    "duration": 43,
    "start_time": "2021-07-07T17:46:16.747Z"
   },
   {
    "duration": 19,
    "start_time": "2021-07-07T17:46:16.791Z"
   },
   {
    "duration": 9,
    "start_time": "2021-07-07T17:46:16.812Z"
   },
   {
    "duration": 60,
    "start_time": "2021-07-07T17:46:16.822Z"
   },
   {
    "duration": -8,
    "start_time": "2021-07-07T17:46:16.892Z"
   },
   {
    "duration": 12,
    "start_time": "2021-07-07T17:48:47.707Z"
   },
   {
    "duration": 553,
    "start_time": "2021-07-07T18:10:09.350Z"
   },
   {
    "duration": 230,
    "start_time": "2021-07-07T18:10:09.905Z"
   },
   {
    "duration": 97,
    "start_time": "2021-07-07T18:10:10.137Z"
   },
   {
    "duration": 5,
    "start_time": "2021-07-07T18:10:10.236Z"
   },
   {
    "duration": 29,
    "start_time": "2021-07-07T18:10:10.242Z"
   },
   {
    "duration": 7,
    "start_time": "2021-07-07T18:10:10.272Z"
   },
   {
    "duration": 15,
    "start_time": "2021-07-07T18:10:10.281Z"
   },
   {
    "duration": 4,
    "start_time": "2021-07-07T18:10:10.299Z"
   },
   {
    "duration": 14,
    "start_time": "2021-07-07T18:10:10.305Z"
   },
   {
    "duration": 8,
    "start_time": "2021-07-07T18:10:10.321Z"
   },
   {
    "duration": 8,
    "start_time": "2021-07-07T18:10:10.331Z"
   },
   {
    "duration": 56,
    "start_time": "2021-07-07T18:10:10.341Z"
   },
   {
    "duration": 19,
    "start_time": "2021-07-07T18:10:10.399Z"
   },
   {
    "duration": 23,
    "start_time": "2021-07-07T18:10:10.419Z"
   },
   {
    "duration": 6,
    "start_time": "2021-07-07T18:10:10.444Z"
   },
   {
    "duration": 9,
    "start_time": "2021-07-07T18:10:10.451Z"
   },
   {
    "duration": 30,
    "start_time": "2021-07-07T18:10:10.462Z"
   },
   {
    "duration": 9,
    "start_time": "2021-07-07T18:10:10.494Z"
   },
   {
    "duration": 14,
    "start_time": "2021-07-07T18:10:10.505Z"
   },
   {
    "duration": 7,
    "start_time": "2021-07-07T18:10:10.521Z"
   },
   {
    "duration": 26,
    "start_time": "2021-07-07T18:10:10.530Z"
   },
   {
    "duration": 44,
    "start_time": "2021-07-07T18:10:10.558Z"
   },
   {
    "duration": 7,
    "start_time": "2021-07-07T18:10:10.605Z"
   },
   {
    "duration": 11,
    "start_time": "2021-07-07T18:10:10.614Z"
   },
   {
    "duration": 19,
    "start_time": "2021-07-07T18:10:10.626Z"
   },
   {
    "duration": 44,
    "start_time": "2021-07-07T18:10:10.646Z"
   },
   {
    "duration": 516,
    "start_time": "2021-07-07T18:14:00.826Z"
   },
   {
    "duration": 230,
    "start_time": "2021-07-07T18:14:01.344Z"
   },
   {
    "duration": 105,
    "start_time": "2021-07-07T18:14:01.576Z"
   },
   {
    "duration": 5,
    "start_time": "2021-07-07T18:14:01.683Z"
   },
   {
    "duration": 46,
    "start_time": "2021-07-07T18:14:01.690Z"
   },
   {
    "duration": 7,
    "start_time": "2021-07-07T18:14:01.738Z"
   },
   {
    "duration": 20,
    "start_time": "2021-07-07T18:14:01.747Z"
   },
   {
    "duration": 16,
    "start_time": "2021-07-07T18:14:01.769Z"
   },
   {
    "duration": 14,
    "start_time": "2021-07-07T18:14:01.787Z"
   },
   {
    "duration": 15,
    "start_time": "2021-07-07T18:14:01.803Z"
   },
   {
    "duration": 12,
    "start_time": "2021-07-07T18:14:01.820Z"
   },
   {
    "duration": 35,
    "start_time": "2021-07-07T18:14:01.833Z"
   },
   {
    "duration": 31,
    "start_time": "2021-07-07T18:14:01.869Z"
   },
   {
    "duration": 37,
    "start_time": "2021-07-07T18:14:01.902Z"
   },
   {
    "duration": 8,
    "start_time": "2021-07-07T18:14:01.942Z"
   },
   {
    "duration": 16,
    "start_time": "2021-07-07T18:14:01.952Z"
   },
   {
    "duration": 13,
    "start_time": "2021-07-07T18:14:01.970Z"
   },
   {
    "duration": 32,
    "start_time": "2021-07-07T18:14:01.985Z"
   },
   {
    "duration": 11,
    "start_time": "2021-07-07T18:14:02.019Z"
   },
   {
    "duration": 22,
    "start_time": "2021-07-07T18:14:02.031Z"
   },
   {
    "duration": 27,
    "start_time": "2021-07-07T18:14:02.055Z"
   },
   {
    "duration": 18,
    "start_time": "2021-07-07T18:14:02.084Z"
   },
   {
    "duration": 18,
    "start_time": "2021-07-07T18:14:02.106Z"
   },
   {
    "duration": 11,
    "start_time": "2021-07-07T18:14:02.126Z"
   },
   {
    "duration": 21,
    "start_time": "2021-07-07T18:14:02.138Z"
   },
   {
    "duration": 32,
    "start_time": "2021-07-07T18:14:02.161Z"
   },
   {
    "duration": 28,
    "start_time": "2021-07-07T18:14:44.295Z"
   },
   {
    "duration": 6,
    "start_time": "2021-07-07T18:15:05.834Z"
   },
   {
    "duration": 511,
    "start_time": "2021-07-07T18:15:41.541Z"
   },
   {
    "duration": 183,
    "start_time": "2021-07-07T18:15:42.054Z"
   },
   {
    "duration": 50,
    "start_time": "2021-07-07T18:15:42.239Z"
   },
   {
    "duration": 5,
    "start_time": "2021-07-07T18:15:42.291Z"
   },
   {
    "duration": 48,
    "start_time": "2021-07-07T18:15:42.297Z"
   },
   {
    "duration": 8,
    "start_time": "2021-07-07T18:15:42.346Z"
   },
   {
    "duration": 17,
    "start_time": "2021-07-07T18:15:42.356Z"
   },
   {
    "duration": 15,
    "start_time": "2021-07-07T18:15:42.375Z"
   },
   {
    "duration": 12,
    "start_time": "2021-07-07T18:15:42.392Z"
   },
   {
    "duration": 7,
    "start_time": "2021-07-07T18:15:42.406Z"
   },
   {
    "duration": 7,
    "start_time": "2021-07-07T18:15:42.415Z"
   },
   {
    "duration": 29,
    "start_time": "2021-07-07T18:15:42.423Z"
   },
   {
    "duration": 43,
    "start_time": "2021-07-07T18:15:42.453Z"
   },
   {
    "duration": 18,
    "start_time": "2021-07-07T18:15:42.497Z"
   },
   {
    "duration": 6,
    "start_time": "2021-07-07T18:15:42.516Z"
   },
   {
    "duration": 3,
    "start_time": "2021-07-07T18:15:42.523Z"
   },
   {
    "duration": 18,
    "start_time": "2021-07-07T18:15:42.528Z"
   },
   {
    "duration": 10,
    "start_time": "2021-07-07T18:15:42.547Z"
   },
   {
    "duration": 36,
    "start_time": "2021-07-07T18:15:42.559Z"
   },
   {
    "duration": 8,
    "start_time": "2021-07-07T18:15:42.597Z"
   },
   {
    "duration": 28,
    "start_time": "2021-07-07T18:15:42.606Z"
   },
   {
    "duration": 52,
    "start_time": "2021-07-07T18:15:42.635Z"
   },
   {
    "duration": 7,
    "start_time": "2021-07-07T18:15:42.690Z"
   },
   {
    "duration": 10,
    "start_time": "2021-07-07T18:15:42.699Z"
   },
   {
    "duration": 19,
    "start_time": "2021-07-07T18:15:42.711Z"
   },
   {
    "duration": 9,
    "start_time": "2021-07-07T18:15:42.732Z"
   },
   {
    "duration": 5,
    "start_time": "2021-07-07T18:15:42.743Z"
   },
   {
    "duration": 1450,
    "start_time": "2021-07-07T18:15:51.984Z"
   },
   {
    "duration": 161,
    "start_time": "2021-07-07T18:15:53.435Z"
   },
   {
    "duration": 124,
    "start_time": "2021-07-07T18:15:53.598Z"
   },
   {
    "duration": 5,
    "start_time": "2021-07-07T18:15:53.724Z"
   },
   {
    "duration": 34,
    "start_time": "2021-07-07T18:15:53.730Z"
   },
   {
    "duration": 7,
    "start_time": "2021-07-07T18:15:53.765Z"
   },
   {
    "duration": 15,
    "start_time": "2021-07-07T18:15:53.773Z"
   },
   {
    "duration": 5,
    "start_time": "2021-07-07T18:15:53.791Z"
   },
   {
    "duration": 19,
    "start_time": "2021-07-07T18:15:53.798Z"
   },
   {
    "duration": 9,
    "start_time": "2021-07-07T18:15:53.818Z"
   },
   {
    "duration": 19,
    "start_time": "2021-07-07T18:15:53.828Z"
   },
   {
    "duration": 27,
    "start_time": "2021-07-07T18:15:53.848Z"
   },
   {
    "duration": 16,
    "start_time": "2021-07-07T18:15:53.884Z"
   },
   {
    "duration": 29,
    "start_time": "2021-07-07T18:15:53.901Z"
   },
   {
    "duration": 5,
    "start_time": "2021-07-07T18:15:53.932Z"
   },
   {
    "duration": 15,
    "start_time": "2021-07-07T18:15:53.939Z"
   },
   {
    "duration": 13,
    "start_time": "2021-07-07T18:15:53.956Z"
   },
   {
    "duration": 20,
    "start_time": "2021-07-07T18:15:53.971Z"
   },
   {
    "duration": 14,
    "start_time": "2021-07-07T18:15:53.992Z"
   },
   {
    "duration": 9,
    "start_time": "2021-07-07T18:15:54.009Z"
   },
   {
    "duration": 28,
    "start_time": "2021-07-07T18:15:54.020Z"
   },
   {
    "duration": 50,
    "start_time": "2021-07-07T18:15:54.051Z"
   },
   {
    "duration": 8,
    "start_time": "2021-07-07T18:15:54.105Z"
   },
   {
    "duration": 11,
    "start_time": "2021-07-07T18:15:54.115Z"
   },
   {
    "duration": 20,
    "start_time": "2021-07-07T18:15:54.128Z"
   },
   {
    "duration": 13,
    "start_time": "2021-07-07T18:15:54.184Z"
   },
   {
    "duration": 7,
    "start_time": "2021-07-07T18:15:54.199Z"
   },
   {
    "duration": 7,
    "start_time": "2021-07-07T18:17:08.042Z"
   },
   {
    "duration": 8,
    "start_time": "2021-07-07T18:17:21.008Z"
   },
   {
    "duration": 7,
    "start_time": "2021-07-07T18:17:29.003Z"
   },
   {
    "duration": 8,
    "start_time": "2021-07-07T18:17:32.492Z"
   },
   {
    "duration": 9,
    "start_time": "2021-07-07T18:17:41.758Z"
   },
   {
    "duration": 255,
    "start_time": "2021-07-07T18:20:20.897Z"
   },
   {
    "duration": 173,
    "start_time": "2021-07-07T18:20:26.636Z"
   },
   {
    "duration": 7,
    "start_time": "2021-07-07T18:21:47.164Z"
   },
   {
    "duration": 254,
    "start_time": "2021-07-07T18:23:08.703Z"
   },
   {
    "duration": 21,
    "start_time": "2021-07-07T18:23:22.506Z"
   },
   {
    "duration": 315,
    "start_time": "2021-07-07T18:25:54.801Z"
   },
   {
    "duration": 34,
    "start_time": "2021-07-07T18:26:51.817Z"
   },
   {
    "duration": 327,
    "start_time": "2021-07-07T18:26:56.147Z"
   },
   {
    "duration": 342,
    "start_time": "2021-07-07T18:27:15.887Z"
   },
   {
    "duration": 302,
    "start_time": "2021-07-07T18:28:18.569Z"
   },
   {
    "duration": 226,
    "start_time": "2021-07-07T18:29:20.879Z"
   },
   {
    "duration": 207,
    "start_time": "2021-07-07T18:29:58.114Z"
   },
   {
    "duration": 140,
    "start_time": "2021-07-07T18:32:04.372Z"
   },
   {
    "duration": 158,
    "start_time": "2021-07-07T18:32:32.508Z"
   },
   {
    "duration": 145,
    "start_time": "2021-07-07T18:32:41.365Z"
   },
   {
    "duration": 132,
    "start_time": "2021-07-07T18:32:45.199Z"
   },
   {
    "duration": 11,
    "start_time": "2021-07-07T18:35:24.679Z"
   },
   {
    "duration": 268,
    "start_time": "2021-07-07T18:36:16.145Z"
   },
   {
    "duration": 227,
    "start_time": "2021-07-07T18:37:04.918Z"
   },
   {
    "duration": 3,
    "start_time": "2021-07-07T18:37:33.012Z"
   },
   {
    "duration": 671,
    "start_time": "2021-07-07T18:37:38.295Z"
   },
   {
    "duration": 54,
    "start_time": "2021-07-07T18:37:53.406Z"
   },
   {
    "duration": 631,
    "start_time": "2021-07-07T18:37:56.463Z"
   },
   {
    "duration": 19,
    "start_time": "2021-07-07T18:39:40.535Z"
   },
   {
    "duration": 20,
    "start_time": "2021-07-07T18:40:12.236Z"
   },
   {
    "duration": 633,
    "start_time": "2021-07-07T18:42:00.398Z"
   },
   {
    "duration": 218,
    "start_time": "2021-07-07T18:42:01.033Z"
   },
   {
    "duration": 49,
    "start_time": "2021-07-07T18:42:01.253Z"
   },
   {
    "duration": 5,
    "start_time": "2021-07-07T18:42:01.303Z"
   },
   {
    "duration": 27,
    "start_time": "2021-07-07T18:42:01.310Z"
   },
   {
    "duration": 8,
    "start_time": "2021-07-07T18:42:01.339Z"
   },
   {
    "duration": 20,
    "start_time": "2021-07-07T18:42:01.348Z"
   },
   {
    "duration": 6,
    "start_time": "2021-07-07T18:42:01.386Z"
   },
   {
    "duration": 16,
    "start_time": "2021-07-07T18:42:01.394Z"
   },
   {
    "duration": 9,
    "start_time": "2021-07-07T18:42:01.411Z"
   },
   {
    "duration": 11,
    "start_time": "2021-07-07T18:42:01.421Z"
   },
   {
    "duration": 31,
    "start_time": "2021-07-07T18:42:01.434Z"
   },
   {
    "duration": 18,
    "start_time": "2021-07-07T18:42:01.485Z"
   },
   {
    "duration": 23,
    "start_time": "2021-07-07T18:42:01.505Z"
   },
   {
    "duration": 6,
    "start_time": "2021-07-07T18:42:01.530Z"
   },
   {
    "duration": 10,
    "start_time": "2021-07-07T18:42:01.538Z"
   },
   {
    "duration": 13,
    "start_time": "2021-07-07T18:42:01.550Z"
   },
   {
    "duration": 24,
    "start_time": "2021-07-07T18:42:01.564Z"
   },
   {
    "duration": 20,
    "start_time": "2021-07-07T18:42:01.590Z"
   },
   {
    "duration": 8,
    "start_time": "2021-07-07T18:42:01.611Z"
   },
   {
    "duration": 31,
    "start_time": "2021-07-07T18:42:01.620Z"
   },
   {
    "duration": 39,
    "start_time": "2021-07-07T18:42:01.653Z"
   },
   {
    "duration": 8,
    "start_time": "2021-07-07T18:42:01.696Z"
   },
   {
    "duration": 13,
    "start_time": "2021-07-07T18:42:01.705Z"
   },
   {
    "duration": 20,
    "start_time": "2021-07-07T18:42:01.720Z"
   },
   {
    "duration": 12,
    "start_time": "2021-07-07T18:42:01.741Z"
   },
   {
    "duration": 35,
    "start_time": "2021-07-07T18:42:01.755Z"
   },
   {
    "duration": 14,
    "start_time": "2021-07-07T18:42:01.792Z"
   },
   {
    "duration": 188,
    "start_time": "2021-07-07T18:42:01.808Z"
   },
   {
    "duration": 19,
    "start_time": "2021-07-07T18:42:01.998Z"
   },
   {
    "duration": 175,
    "start_time": "2021-07-07T18:42:02.019Z"
   },
   {
    "duration": 134,
    "start_time": "2021-07-07T18:42:02.196Z"
   },
   {
    "duration": 10,
    "start_time": "2021-07-07T18:42:02.331Z"
   },
   {
    "duration": 19,
    "start_time": "2021-07-07T18:42:02.343Z"
   },
   {
    "duration": 628,
    "start_time": "2021-07-07T18:46:30.701Z"
   },
   {
    "duration": 183,
    "start_time": "2021-07-07T18:46:31.331Z"
   },
   {
    "duration": 48,
    "start_time": "2021-07-07T18:46:31.516Z"
   },
   {
    "duration": 5,
    "start_time": "2021-07-07T18:46:31.566Z"
   },
   {
    "duration": 28,
    "start_time": "2021-07-07T18:46:31.572Z"
   },
   {
    "duration": 8,
    "start_time": "2021-07-07T18:46:31.602Z"
   },
   {
    "duration": 19,
    "start_time": "2021-07-07T18:46:31.611Z"
   },
   {
    "duration": 6,
    "start_time": "2021-07-07T18:46:31.633Z"
   },
   {
    "duration": 17,
    "start_time": "2021-07-07T18:46:31.642Z"
   },
   {
    "duration": 10,
    "start_time": "2021-07-07T18:46:31.684Z"
   },
   {
    "duration": 9,
    "start_time": "2021-07-07T18:46:31.695Z"
   },
   {
    "duration": 28,
    "start_time": "2021-07-07T18:46:31.705Z"
   },
   {
    "duration": 18,
    "start_time": "2021-07-07T18:46:31.735Z"
   },
   {
    "duration": 48,
    "start_time": "2021-07-07T18:46:31.755Z"
   },
   {
    "duration": 6,
    "start_time": "2021-07-07T18:46:31.804Z"
   },
   {
    "duration": 4,
    "start_time": "2021-07-07T18:46:31.812Z"
   },
   {
    "duration": 9,
    "start_time": "2021-07-07T18:46:31.817Z"
   },
   {
    "duration": 10,
    "start_time": "2021-07-07T18:46:31.827Z"
   },
   {
    "duration": 12,
    "start_time": "2021-07-07T18:46:31.838Z"
   },
   {
    "duration": 39,
    "start_time": "2021-07-07T18:46:31.851Z"
   },
   {
    "duration": 24,
    "start_time": "2021-07-07T18:46:31.892Z"
   },
   {
    "duration": 15,
    "start_time": "2021-07-07T18:46:31.918Z"
   },
   {
    "duration": 7,
    "start_time": "2021-07-07T18:46:31.936Z"
   },
   {
    "duration": 8,
    "start_time": "2021-07-07T18:46:31.944Z"
   },
   {
    "duration": 19,
    "start_time": "2021-07-07T18:46:31.984Z"
   },
   {
    "duration": 10,
    "start_time": "2021-07-07T18:46:32.004Z"
   },
   {
    "duration": 5,
    "start_time": "2021-07-07T18:46:32.016Z"
   },
   {
    "duration": 9,
    "start_time": "2021-07-07T18:46:32.023Z"
   },
   {
    "duration": 199,
    "start_time": "2021-07-07T18:46:32.033Z"
   },
   {
    "duration": 19,
    "start_time": "2021-07-07T18:46:32.234Z"
   },
   {
    "duration": 159,
    "start_time": "2021-07-07T18:46:32.255Z"
   },
   {
    "duration": 134,
    "start_time": "2021-07-07T18:46:32.416Z"
   },
   {
    "duration": 10,
    "start_time": "2021-07-07T18:46:32.552Z"
   },
   {
    "duration": 34,
    "start_time": "2021-07-07T18:46:32.563Z"
   },
   {
    "duration": 1039,
    "start_time": "2021-07-08T08:41:09.419Z"
   },
   {
    "duration": 333,
    "start_time": "2021-07-08T08:41:10.459Z"
   },
   {
    "duration": 173,
    "start_time": "2021-07-08T08:41:10.794Z"
   },
   {
    "duration": 5,
    "start_time": "2021-07-08T08:41:10.968Z"
   },
   {
    "duration": 25,
    "start_time": "2021-07-08T08:41:10.975Z"
   },
   {
    "duration": 9,
    "start_time": "2021-07-08T08:41:11.002Z"
   },
   {
    "duration": 18,
    "start_time": "2021-07-08T08:41:11.013Z"
   },
   {
    "duration": 6,
    "start_time": "2021-07-08T08:41:11.033Z"
   },
   {
    "duration": 44,
    "start_time": "2021-07-08T08:41:11.042Z"
   },
   {
    "duration": 10,
    "start_time": "2021-07-08T08:41:11.088Z"
   },
   {
    "duration": 9,
    "start_time": "2021-07-08T08:41:11.100Z"
   },
   {
    "duration": 27,
    "start_time": "2021-07-08T08:41:11.111Z"
   },
   {
    "duration": 46,
    "start_time": "2021-07-08T08:41:11.140Z"
   },
   {
    "duration": 17,
    "start_time": "2021-07-08T08:41:11.187Z"
   },
   {
    "duration": 6,
    "start_time": "2021-07-08T08:41:11.206Z"
   },
   {
    "duration": 5,
    "start_time": "2021-07-08T08:41:11.213Z"
   },
   {
    "duration": 10,
    "start_time": "2021-07-08T08:41:11.219Z"
   },
   {
    "duration": 9,
    "start_time": "2021-07-08T08:41:11.230Z"
   },
   {
    "duration": 45,
    "start_time": "2021-07-08T08:41:11.241Z"
   },
   {
    "duration": 7,
    "start_time": "2021-07-08T08:41:11.287Z"
   },
   {
    "duration": 24,
    "start_time": "2021-07-08T08:41:11.296Z"
   },
   {
    "duration": 16,
    "start_time": "2021-07-08T08:41:11.322Z"
   },
   {
    "duration": 7,
    "start_time": "2021-07-08T08:41:11.341Z"
   },
   {
    "duration": 41,
    "start_time": "2021-07-08T08:41:11.349Z"
   },
   {
    "duration": 17,
    "start_time": "2021-07-08T08:41:11.391Z"
   },
   {
    "duration": 9,
    "start_time": "2021-07-08T08:41:11.410Z"
   },
   {
    "duration": 5,
    "start_time": "2021-07-08T08:41:11.421Z"
   },
   {
    "duration": 6,
    "start_time": "2021-07-08T08:41:11.428Z"
   },
   {
    "duration": 198,
    "start_time": "2021-07-08T08:41:11.435Z"
   },
   {
    "duration": 18,
    "start_time": "2021-07-08T08:41:11.635Z"
   },
   {
    "duration": 155,
    "start_time": "2021-07-08T08:41:11.655Z"
   },
   {
    "duration": 138,
    "start_time": "2021-07-08T08:41:11.811Z"
   },
   {
    "duration": 10,
    "start_time": "2021-07-08T08:41:11.950Z"
   },
   {
    "duration": 29,
    "start_time": "2021-07-08T08:41:11.961Z"
   },
   {
    "duration": 171,
    "start_time": "2021-07-08T08:47:44.522Z"
   },
   {
    "duration": 124,
    "start_time": "2021-07-08T08:47:46.872Z"
   },
   {
    "duration": 191,
    "start_time": "2021-07-08T08:47:58.148Z"
   },
   {
    "duration": 191,
    "start_time": "2021-07-08T08:48:07.412Z"
   },
   {
    "duration": 261,
    "start_time": "2021-07-08T08:48:10.385Z"
   },
   {
    "duration": 255,
    "start_time": "2021-07-08T08:48:14.494Z"
   },
   {
    "duration": 219,
    "start_time": "2021-07-08T08:48:22.752Z"
   },
   {
    "duration": 173,
    "start_time": "2021-07-08T08:49:06.395Z"
   },
   {
    "duration": 180,
    "start_time": "2021-07-08T08:49:21.011Z"
   },
   {
    "duration": 6,
    "start_time": "2021-07-08T08:50:31.697Z"
   },
   {
    "duration": 10,
    "start_time": "2021-07-08T08:50:47.394Z"
   },
   {
    "duration": 11,
    "start_time": "2021-07-08T08:53:49.332Z"
   },
   {
    "duration": 171,
    "start_time": "2021-07-08T08:54:28.408Z"
   },
   {
    "duration": 636,
    "start_time": "2021-07-08T09:02:48.385Z"
   },
   {
    "duration": 227,
    "start_time": "2021-07-08T09:02:49.023Z"
   },
   {
    "duration": 104,
    "start_time": "2021-07-08T09:02:49.252Z"
   },
   {
    "duration": 5,
    "start_time": "2021-07-08T09:02:49.358Z"
   },
   {
    "duration": 27,
    "start_time": "2021-07-08T09:02:49.365Z"
   },
   {
    "duration": 8,
    "start_time": "2021-07-08T09:02:49.394Z"
   },
   {
    "duration": 18,
    "start_time": "2021-07-08T09:02:49.404Z"
   },
   {
    "duration": 6,
    "start_time": "2021-07-08T09:02:49.424Z"
   },
   {
    "duration": 11,
    "start_time": "2021-07-08T09:02:49.433Z"
   },
   {
    "duration": 13,
    "start_time": "2021-07-08T09:02:49.485Z"
   },
   {
    "duration": 9,
    "start_time": "2021-07-08T09:02:49.500Z"
   },
   {
    "duration": 38,
    "start_time": "2021-07-08T09:02:49.511Z"
   },
   {
    "duration": 42,
    "start_time": "2021-07-08T09:02:49.551Z"
   },
   {
    "duration": 21,
    "start_time": "2021-07-08T09:02:49.594Z"
   },
   {
    "duration": 6,
    "start_time": "2021-07-08T09:02:49.616Z"
   },
   {
    "duration": 3,
    "start_time": "2021-07-08T09:02:49.623Z"
   },
   {
    "duration": 9,
    "start_time": "2021-07-08T09:02:49.628Z"
   },
   {
    "duration": 52,
    "start_time": "2021-07-08T09:02:49.638Z"
   },
   {
    "duration": 11,
    "start_time": "2021-07-08T09:02:49.692Z"
   },
   {
    "duration": 8,
    "start_time": "2021-07-08T09:02:49.704Z"
   },
   {
    "duration": 27,
    "start_time": "2021-07-08T09:02:49.713Z"
   },
   {
    "duration": 59,
    "start_time": "2021-07-08T09:02:49.741Z"
   },
   {
    "duration": 8,
    "start_time": "2021-07-08T09:02:49.803Z"
   },
   {
    "duration": 14,
    "start_time": "2021-07-08T09:02:49.813Z"
   },
   {
    "duration": 20,
    "start_time": "2021-07-08T09:02:49.829Z"
   },
   {
    "duration": 44,
    "start_time": "2021-07-08T09:02:49.851Z"
   },
   {
    "duration": 14,
    "start_time": "2021-07-08T09:02:49.896Z"
   },
   {
    "duration": 221,
    "start_time": "2021-07-08T09:02:49.912Z"
   },
   {
    "duration": 6,
    "start_time": "2021-07-08T09:02:50.134Z"
   },
   {
    "duration": 206,
    "start_time": "2021-07-08T09:02:50.142Z"
   },
   {
    "duration": 19,
    "start_time": "2021-07-08T09:02:50.350Z"
   },
   {
    "duration": 21,
    "start_time": "2021-07-08T09:02:50.370Z"
   },
   {
    "duration": 20,
    "start_time": "2021-07-08T09:02:50.393Z"
   },
   {
    "duration": 5,
    "start_time": "2021-07-08T09:02:50.414Z"
   },
   {
    "duration": 5,
    "start_time": "2021-07-08T09:03:34.173Z"
   },
   {
    "duration": 6,
    "start_time": "2021-07-08T09:04:49.062Z"
   },
   {
    "duration": 9,
    "start_time": "2021-07-08T09:04:50.118Z"
   },
   {
    "duration": 14,
    "start_time": "2021-07-08T09:04:58.512Z"
   },
   {
    "duration": 9,
    "start_time": "2021-07-08T09:05:10.988Z"
   },
   {
    "duration": 11,
    "start_time": "2021-07-08T09:05:11.743Z"
   },
   {
    "duration": 7,
    "start_time": "2021-07-08T09:05:25.677Z"
   },
   {
    "duration": 13,
    "start_time": "2021-07-08T09:05:47.189Z"
   },
   {
    "duration": 13,
    "start_time": "2021-07-08T09:05:54.755Z"
   },
   {
    "duration": 4,
    "start_time": "2021-07-08T09:06:29.189Z"
   },
   {
    "duration": 244,
    "start_time": "2021-07-08T09:06:29.195Z"
   },
   {
    "duration": 91,
    "start_time": "2021-07-08T09:06:29.441Z"
   },
   {
    "duration": 4,
    "start_time": "2021-07-08T09:06:29.534Z"
   },
   {
    "duration": 28,
    "start_time": "2021-07-08T09:06:29.540Z"
   },
   {
    "duration": 6,
    "start_time": "2021-07-08T09:06:29.570Z"
   },
   {
    "duration": 18,
    "start_time": "2021-07-08T09:06:29.578Z"
   },
   {
    "duration": 5,
    "start_time": "2021-07-08T09:06:29.597Z"
   },
   {
    "duration": 13,
    "start_time": "2021-07-08T09:06:29.605Z"
   },
   {
    "duration": 8,
    "start_time": "2021-07-08T09:06:29.620Z"
   },
   {
    "duration": 7,
    "start_time": "2021-07-08T09:06:29.630Z"
   },
   {
    "duration": 63,
    "start_time": "2021-07-08T09:06:29.639Z"
   },
   {
    "duration": 17,
    "start_time": "2021-07-08T09:06:29.704Z"
   },
   {
    "duration": 20,
    "start_time": "2021-07-08T09:06:29.723Z"
   },
   {
    "duration": 6,
    "start_time": "2021-07-08T09:06:29.745Z"
   },
   {
    "duration": 3,
    "start_time": "2021-07-08T09:06:29.752Z"
   },
   {
    "duration": 7,
    "start_time": "2021-07-08T09:06:29.785Z"
   },
   {
    "duration": 11,
    "start_time": "2021-07-08T09:06:29.794Z"
   },
   {
    "duration": 15,
    "start_time": "2021-07-08T09:06:29.807Z"
   },
   {
    "duration": 8,
    "start_time": "2021-07-08T09:06:29.823Z"
   },
   {
    "duration": 70,
    "start_time": "2021-07-08T09:06:29.832Z"
   },
   {
    "duration": 17,
    "start_time": "2021-07-08T09:06:29.903Z"
   },
   {
    "duration": 9,
    "start_time": "2021-07-08T09:06:29.921Z"
   },
   {
    "duration": 9,
    "start_time": "2021-07-08T09:06:29.932Z"
   },
   {
    "duration": 57,
    "start_time": "2021-07-08T09:06:29.942Z"
   },
   {
    "duration": 11,
    "start_time": "2021-07-08T09:06:30.001Z"
   },
   {
    "duration": 19,
    "start_time": "2021-07-08T09:06:30.016Z"
   },
   {
    "duration": 217,
    "start_time": "2021-07-08T09:06:30.037Z"
   },
   {
    "duration": 6,
    "start_time": "2021-07-08T09:06:30.255Z"
   },
   {
    "duration": 205,
    "start_time": "2021-07-08T09:06:30.263Z"
   },
   {
    "duration": 27,
    "start_time": "2021-07-08T09:06:30.470Z"
   },
   {
    "duration": 11,
    "start_time": "2021-07-08T09:06:30.500Z"
   },
   {
    "duration": 31,
    "start_time": "2021-07-08T09:06:30.513Z"
   },
   {
    "duration": 18,
    "start_time": "2021-07-08T09:06:30.546Z"
   },
   {
    "duration": 11,
    "start_time": "2021-07-08T09:06:30.566Z"
   },
   {
    "duration": 19,
    "start_time": "2021-07-08T09:06:30.579Z"
   },
   {
    "duration": 20,
    "start_time": "2021-07-08T09:06:49.466Z"
   },
   {
    "duration": 9,
    "start_time": "2021-07-08T09:06:51.994Z"
   },
   {
    "duration": 20,
    "start_time": "2021-07-08T09:06:52.273Z"
   },
   {
    "duration": 246,
    "start_time": "2021-07-08T09:10:21.272Z"
   },
   {
    "duration": 84,
    "start_time": "2021-07-08T09:10:21.436Z"
   },
   {
    "duration": 7,
    "start_time": "2021-07-08T09:10:37.608Z"
   },
   {
    "duration": 189,
    "start_time": "2021-07-08T09:10:38.573Z"
   },
   {
    "duration": 185,
    "start_time": "2021-07-08T09:10:53.181Z"
   },
   {
    "duration": 11,
    "start_time": "2021-07-08T09:10:59.549Z"
   },
   {
    "duration": 42,
    "start_time": "2021-07-08T09:10:59.709Z"
   },
   {
    "duration": 12,
    "start_time": "2021-07-08T09:11:02.857Z"
   },
   {
    "duration": 28,
    "start_time": "2021-07-08T09:11:10.062Z"
   },
   {
    "duration": 249,
    "start_time": "2021-07-08T09:11:37.388Z"
   },
   {
    "duration": 232,
    "start_time": "2021-07-08T09:11:49.485Z"
   },
   {
    "duration": 453,
    "start_time": "2021-07-08T09:12:01.546Z"
   },
   {
    "duration": 440,
    "start_time": "2021-07-08T09:12:12.347Z"
   },
   {
    "duration": 213,
    "start_time": "2021-07-08T09:13:32.196Z"
   },
   {
    "duration": 172,
    "start_time": "2021-07-08T09:14:07.400Z"
   },
   {
    "duration": 185,
    "start_time": "2021-07-08T09:14:14.905Z"
   },
   {
    "duration": 209,
    "start_time": "2021-07-08T09:14:40.109Z"
   },
   {
    "duration": 201,
    "start_time": "2021-07-08T09:14:54.506Z"
   },
   {
    "duration": 622,
    "start_time": "2021-07-08T09:18:14.497Z"
   },
   {
    "duration": 220,
    "start_time": "2021-07-08T09:18:15.121Z"
   },
   {
    "duration": 79,
    "start_time": "2021-07-08T09:18:15.343Z"
   },
   {
    "duration": 4,
    "start_time": "2021-07-08T09:18:15.425Z"
   },
   {
    "duration": 24,
    "start_time": "2021-07-08T09:18:15.431Z"
   },
   {
    "duration": 8,
    "start_time": "2021-07-08T09:18:15.457Z"
   },
   {
    "duration": 16,
    "start_time": "2021-07-08T09:18:15.466Z"
   },
   {
    "duration": 5,
    "start_time": "2021-07-08T09:18:15.484Z"
   },
   {
    "duration": 10,
    "start_time": "2021-07-08T09:18:15.493Z"
   },
   {
    "duration": 8,
    "start_time": "2021-07-08T09:18:15.504Z"
   },
   {
    "duration": 7,
    "start_time": "2021-07-08T09:18:15.513Z"
   },
   {
    "duration": 26,
    "start_time": "2021-07-08T09:18:15.522Z"
   },
   {
    "duration": 49,
    "start_time": "2021-07-08T09:18:15.550Z"
   },
   {
    "duration": 21,
    "start_time": "2021-07-08T09:18:15.601Z"
   },
   {
    "duration": 8,
    "start_time": "2021-07-08T09:18:15.624Z"
   },
   {
    "duration": 3,
    "start_time": "2021-07-08T09:18:15.634Z"
   },
   {
    "duration": 8,
    "start_time": "2021-07-08T09:18:15.639Z"
   },
   {
    "duration": 45,
    "start_time": "2021-07-08T09:18:15.649Z"
   },
   {
    "duration": 13,
    "start_time": "2021-07-08T09:18:15.696Z"
   },
   {
    "duration": 10,
    "start_time": "2021-07-08T09:18:15.711Z"
   },
   {
    "duration": 64,
    "start_time": "2021-07-08T09:18:15.722Z"
   },
   {
    "duration": 19,
    "start_time": "2021-07-08T09:18:15.788Z"
   },
   {
    "duration": 9,
    "start_time": "2021-07-08T09:18:15.809Z"
   },
   {
    "duration": 9,
    "start_time": "2021-07-08T09:18:15.820Z"
   },
   {
    "duration": 18,
    "start_time": "2021-07-08T09:18:15.831Z"
   },
   {
    "duration": 43,
    "start_time": "2021-07-08T09:18:15.851Z"
   },
   {
    "duration": 12,
    "start_time": "2021-07-08T09:18:15.897Z"
   },
   {
    "duration": 219,
    "start_time": "2021-07-08T09:18:15.911Z"
   },
   {
    "duration": 8,
    "start_time": "2021-07-08T09:18:16.132Z"
   },
   {
    "duration": 199,
    "start_time": "2021-07-08T09:18:16.141Z"
   },
   {
    "duration": 18,
    "start_time": "2021-07-08T09:18:16.341Z"
   },
   {
    "duration": 24,
    "start_time": "2021-07-08T09:18:16.361Z"
   },
   {
    "duration": 24,
    "start_time": "2021-07-08T09:18:16.387Z"
   },
   {
    "duration": 211,
    "start_time": "2021-07-08T09:18:16.413Z"
   },
   {
    "duration": 18,
    "start_time": "2021-07-08T09:18:16.626Z"
   },
   {
    "duration": 596,
    "start_time": "2021-07-08T10:06:33.623Z"
   },
   {
    "duration": 181,
    "start_time": "2021-07-08T10:06:34.221Z"
   },
   {
    "duration": 176,
    "start_time": "2021-07-08T10:06:34.635Z"
   },
   {
    "duration": 239,
    "start_time": "2021-07-08T10:06:55.572Z"
   },
   {
    "duration": 6,
    "start_time": "2021-07-08T10:06:57.687Z"
   },
   {
    "duration": 4,
    "start_time": "2021-07-08T10:07:03.956Z"
   },
   {
    "duration": 4,
    "start_time": "2021-07-08T10:07:10.376Z"
   },
   {
    "duration": 4,
    "start_time": "2021-07-08T10:17:19.889Z"
   },
   {
    "duration": 3,
    "start_time": "2021-07-08T10:19:19.407Z"
   },
   {
    "duration": 197,
    "start_time": "2021-07-08T10:19:19.412Z"
   },
   {
    "duration": 127,
    "start_time": "2021-07-08T10:19:19.611Z"
   },
   {
    "duration": 4,
    "start_time": "2021-07-08T10:19:19.740Z"
   },
   {
    "duration": 27,
    "start_time": "2021-07-08T10:19:19.746Z"
   },
   {
    "duration": 7,
    "start_time": "2021-07-08T10:19:19.775Z"
   },
   {
    "duration": 30,
    "start_time": "2021-07-08T10:19:19.784Z"
   },
   {
    "duration": 7,
    "start_time": "2021-07-08T10:19:19.817Z"
   },
   {
    "duration": 26,
    "start_time": "2021-07-08T10:19:19.826Z"
   },
   {
    "duration": 18,
    "start_time": "2021-07-08T10:19:19.854Z"
   },
   {
    "duration": 14,
    "start_time": "2021-07-08T10:19:19.874Z"
   },
   {
    "duration": 48,
    "start_time": "2021-07-08T10:19:19.890Z"
   },
   {
    "duration": 17,
    "start_time": "2021-07-08T10:19:19.940Z"
   },
   {
    "duration": 38,
    "start_time": "2021-07-08T10:19:19.959Z"
   },
   {
    "duration": 8,
    "start_time": "2021-07-08T10:19:19.999Z"
   },
   {
    "duration": 15,
    "start_time": "2021-07-08T10:19:20.009Z"
   },
   {
    "duration": 22,
    "start_time": "2021-07-08T10:19:20.026Z"
   },
   {
    "duration": 10,
    "start_time": "2021-07-08T10:19:20.050Z"
   },
   {
    "duration": 10,
    "start_time": "2021-07-08T10:19:20.062Z"
   },
   {
    "duration": 20,
    "start_time": "2021-07-08T10:19:20.073Z"
   },
   {
    "duration": 29,
    "start_time": "2021-07-08T10:19:20.095Z"
   },
   {
    "duration": 17,
    "start_time": "2021-07-08T10:19:20.126Z"
   },
   {
    "duration": 40,
    "start_time": "2021-07-08T10:19:20.146Z"
   },
   {
    "duration": 15,
    "start_time": "2021-07-08T10:19:20.189Z"
   },
   {
    "duration": 19,
    "start_time": "2021-07-08T10:19:20.206Z"
   },
   {
    "duration": 10,
    "start_time": "2021-07-08T10:19:20.226Z"
   },
   {
    "duration": 11,
    "start_time": "2021-07-08T10:19:20.238Z"
   },
   {
    "duration": 297,
    "start_time": "2021-07-08T10:19:20.250Z"
   },
   {
    "duration": 6,
    "start_time": "2021-07-08T10:19:20.549Z"
   },
   {
    "duration": 191,
    "start_time": "2021-07-08T10:19:20.557Z"
   },
   {
    "duration": 19,
    "start_time": "2021-07-08T10:19:20.750Z"
   },
   {
    "duration": 20,
    "start_time": "2021-07-08T10:19:20.771Z"
   },
   {
    "duration": 15,
    "start_time": "2021-07-08T10:19:20.793Z"
   },
   {
    "duration": 222,
    "start_time": "2021-07-08T10:19:20.809Z"
   },
   {
    "duration": 20,
    "start_time": "2021-07-08T10:19:21.033Z"
   },
   {
    "duration": 27,
    "start_time": "2021-07-08T10:45:04.055Z"
   },
   {
    "duration": 8,
    "start_time": "2021-07-08T10:45:08.478Z"
   },
   {
    "duration": 8,
    "start_time": "2021-07-08T10:45:31.982Z"
   },
   {
    "duration": 10,
    "start_time": "2021-07-08T10:46:01.221Z"
   },
   {
    "duration": 17,
    "start_time": "2021-07-08T10:46:40.011Z"
   },
   {
    "duration": 193,
    "start_time": "2021-07-08T10:48:19.471Z"
   },
   {
    "duration": 225,
    "start_time": "2021-07-08T10:49:26.480Z"
   },
   {
    "duration": 204,
    "start_time": "2021-07-08T10:49:59.992Z"
   },
   {
    "duration": 435,
    "start_time": "2021-07-08T10:50:06.779Z"
   },
   {
    "duration": 199,
    "start_time": "2021-07-08T10:50:14.891Z"
   },
   {
    "duration": 204,
    "start_time": "2021-07-08T10:50:18.501Z"
   },
   {
    "duration": 244,
    "start_time": "2021-07-08T10:50:23.359Z"
   },
   {
    "duration": 192,
    "start_time": "2021-07-08T10:50:29.135Z"
   },
   {
    "duration": 218,
    "start_time": "2021-07-08T10:50:33.092Z"
   },
   {
    "duration": 207,
    "start_time": "2021-07-08T10:52:45.381Z"
   },
   {
    "duration": 5,
    "start_time": "2021-07-08T10:53:34.641Z"
   },
   {
    "duration": 196,
    "start_time": "2021-07-08T10:53:41.478Z"
   },
   {
    "duration": 43,
    "start_time": "2021-07-08T10:53:50.335Z"
   },
   {
    "duration": 32,
    "start_time": "2021-07-08T10:53:55.294Z"
   },
   {
    "duration": 55,
    "start_time": "2021-07-08T10:54:09.675Z"
   },
   {
    "duration": 16,
    "start_time": "2021-07-08T10:54:12.260Z"
   },
   {
    "duration": 15,
    "start_time": "2021-07-08T10:54:49.150Z"
   },
   {
    "duration": 20,
    "start_time": "2021-07-08T10:56:07.596Z"
   },
   {
    "duration": 16,
    "start_time": "2021-07-08T10:58:26.276Z"
   },
   {
    "duration": 22,
    "start_time": "2021-07-08T10:59:00.486Z"
   },
   {
    "duration": 18,
    "start_time": "2021-07-08T11:02:09.653Z"
   },
   {
    "duration": 10,
    "start_time": "2021-07-08T11:03:44.331Z"
   },
   {
    "duration": 10,
    "start_time": "2021-07-08T11:03:54.055Z"
   },
   {
    "duration": 12,
    "start_time": "2021-07-08T11:04:41.967Z"
   },
   {
    "duration": 24,
    "start_time": "2021-07-08T11:07:30.732Z"
   },
   {
    "duration": 6,
    "start_time": "2021-07-08T11:07:37.364Z"
   },
   {
    "duration": 16,
    "start_time": "2021-07-08T11:08:01.819Z"
   },
   {
    "duration": 17,
    "start_time": "2021-07-08T11:09:47.488Z"
   },
   {
    "duration": 246,
    "start_time": "2021-07-08T11:10:00.830Z"
   },
   {
    "duration": 18,
    "start_time": "2021-07-08T11:13:55.195Z"
   },
   {
    "duration": 204,
    "start_time": "2021-07-08T11:14:04.951Z"
   },
   {
    "duration": 19,
    "start_time": "2021-07-08T11:15:10.613Z"
   },
   {
    "duration": 680,
    "start_time": "2021-07-08T11:16:25.793Z"
   },
   {
    "duration": 451,
    "start_time": "2021-07-08T11:16:40.313Z"
   },
   {
    "duration": 469,
    "start_time": "2021-07-08T11:17:21.286Z"
   },
   {
    "duration": 20,
    "start_time": "2021-07-08T11:19:12.554Z"
   },
   {
    "duration": 35,
    "start_time": "2021-07-08T11:20:05.484Z"
   },
   {
    "duration": 53,
    "start_time": "2021-07-08T11:21:40.050Z"
   },
   {
    "duration": 13,
    "start_time": "2021-07-08T11:22:26.059Z"
   },
   {
    "duration": 19,
    "start_time": "2021-07-08T11:22:47.419Z"
   },
   {
    "duration": 25,
    "start_time": "2021-07-08T11:23:19.958Z"
   },
   {
    "duration": 29,
    "start_time": "2021-07-08T11:23:25.415Z"
   },
   {
    "duration": 10,
    "start_time": "2021-07-08T11:24:45.138Z"
   },
   {
    "duration": 19,
    "start_time": "2021-07-08T11:24:54.498Z"
   },
   {
    "duration": 12,
    "start_time": "2021-07-08T11:25:32.225Z"
   },
   {
    "duration": 19,
    "start_time": "2021-07-08T11:25:37.092Z"
   },
   {
    "duration": 17,
    "start_time": "2021-07-08T11:25:58.116Z"
   },
   {
    "duration": 15,
    "start_time": "2021-07-08T11:26:02.258Z"
   },
   {
    "duration": 8,
    "start_time": "2021-07-08T11:26:59.682Z"
   },
   {
    "duration": 184,
    "start_time": "2021-07-08T11:27:21.894Z"
   },
   {
    "duration": 8,
    "start_time": "2021-07-08T11:27:23.824Z"
   },
   {
    "duration": 202,
    "start_time": "2021-07-08T11:27:23.962Z"
   },
   {
    "duration": 360,
    "start_time": "2021-07-08T11:28:33.215Z"
   },
   {
    "duration": 231,
    "start_time": "2021-07-08T11:32:05.542Z"
   },
   {
    "duration": 607,
    "start_time": "2021-07-08T11:36:27.854Z"
   },
   {
    "duration": 241,
    "start_time": "2021-07-08T11:36:28.463Z"
   },
   {
    "duration": 67,
    "start_time": "2021-07-08T11:36:28.709Z"
   },
   {
    "duration": 5,
    "start_time": "2021-07-08T11:36:28.778Z"
   },
   {
    "duration": 32,
    "start_time": "2021-07-08T11:36:28.784Z"
   },
   {
    "duration": 11,
    "start_time": "2021-07-08T11:36:28.819Z"
   },
   {
    "duration": 20,
    "start_time": "2021-07-08T11:36:28.834Z"
   },
   {
    "duration": 36,
    "start_time": "2021-07-08T11:36:28.857Z"
   },
   {
    "duration": 16,
    "start_time": "2021-07-08T11:36:28.895Z"
   },
   {
    "duration": 14,
    "start_time": "2021-07-08T11:36:28.913Z"
   },
   {
    "duration": 9,
    "start_time": "2021-07-08T11:36:28.930Z"
   },
   {
    "duration": 55,
    "start_time": "2021-07-08T11:36:28.941Z"
   },
   {
    "duration": 27,
    "start_time": "2021-07-08T11:36:28.999Z"
   },
   {
    "duration": 30,
    "start_time": "2021-07-08T11:36:29.028Z"
   },
   {
    "duration": 31,
    "start_time": "2021-07-08T11:36:29.060Z"
   },
   {
    "duration": 3,
    "start_time": "2021-07-08T11:36:29.093Z"
   },
   {
    "duration": 12,
    "start_time": "2021-07-08T11:36:29.099Z"
   },
   {
    "duration": 11,
    "start_time": "2021-07-08T11:36:29.112Z"
   },
   {
    "duration": 12,
    "start_time": "2021-07-08T11:36:29.125Z"
   },
   {
    "duration": 9,
    "start_time": "2021-07-08T11:36:29.139Z"
   },
   {
    "duration": 31,
    "start_time": "2021-07-08T11:36:29.191Z"
   },
   {
    "duration": 17,
    "start_time": "2021-07-08T11:36:29.226Z"
   },
   {
    "duration": 7,
    "start_time": "2021-07-08T11:36:29.245Z"
   },
   {
    "duration": 10,
    "start_time": "2021-07-08T11:36:29.254Z"
   },
   {
    "duration": 30,
    "start_time": "2021-07-08T11:36:29.292Z"
   },
   {
    "duration": 11,
    "start_time": "2021-07-08T11:36:29.324Z"
   },
   {
    "duration": 11,
    "start_time": "2021-07-08T11:36:29.337Z"
   },
   {
    "duration": 230,
    "start_time": "2021-07-08T11:36:29.349Z"
   },
   {
    "duration": 13,
    "start_time": "2021-07-08T11:36:29.588Z"
   },
   {
    "duration": 205,
    "start_time": "2021-07-08T11:36:29.603Z"
   },
   {
    "duration": 20,
    "start_time": "2021-07-08T11:36:29.810Z"
   },
   {
    "duration": 9,
    "start_time": "2021-07-08T11:36:29.832Z"
   },
   {
    "duration": 16,
    "start_time": "2021-07-08T11:36:29.843Z"
   },
   {
    "duration": 283,
    "start_time": "2021-07-08T11:36:29.861Z"
   },
   {
    "duration": 50,
    "start_time": "2021-07-08T11:36:30.146Z"
   },
   {
    "duration": 14,
    "start_time": "2021-07-08T11:36:30.198Z"
   },
   {
    "duration": 11,
    "start_time": "2021-07-08T11:36:30.214Z"
   },
   {
    "duration": 245,
    "start_time": "2021-07-08T11:36:30.227Z"
   },
   {
    "duration": 439,
    "start_time": "2021-07-08T11:36:30.474Z"
   },
   {
    "duration": 210,
    "start_time": "2021-07-08T11:36:30.915Z"
   },
   {
    "duration": 15,
    "start_time": "2021-07-08T11:36:31.127Z"
   },
   {
    "duration": 17,
    "start_time": "2021-07-08T11:38:20.451Z"
   },
   {
    "duration": 642,
    "start_time": "2021-07-08T11:46:17.881Z"
   },
   {
    "duration": 210,
    "start_time": "2021-07-08T11:46:18.525Z"
   },
   {
    "duration": 104,
    "start_time": "2021-07-08T11:46:18.741Z"
   },
   {
    "duration": 8,
    "start_time": "2021-07-08T11:46:18.847Z"
   },
   {
    "duration": 25,
    "start_time": "2021-07-08T11:46:18.857Z"
   },
   {
    "duration": 14,
    "start_time": "2021-07-08T11:46:18.884Z"
   },
   {
    "duration": 22,
    "start_time": "2021-07-08T11:46:18.900Z"
   },
   {
    "duration": 5,
    "start_time": "2021-07-08T11:46:18.924Z"
   },
   {
    "duration": 13,
    "start_time": "2021-07-08T11:46:18.931Z"
   },
   {
    "duration": 45,
    "start_time": "2021-07-08T11:46:18.946Z"
   },
   {
    "duration": 12,
    "start_time": "2021-07-08T11:46:18.993Z"
   },
   {
    "duration": 38,
    "start_time": "2021-07-08T11:46:19.006Z"
   },
   {
    "duration": 50,
    "start_time": "2021-07-08T11:46:19.046Z"
   },
   {
    "duration": 29,
    "start_time": "2021-07-08T11:46:19.099Z"
   },
   {
    "duration": 7,
    "start_time": "2021-07-08T11:46:19.130Z"
   },
   {
    "duration": 3,
    "start_time": "2021-07-08T11:46:19.139Z"
   },
   {
    "duration": 11,
    "start_time": "2021-07-08T11:46:19.144Z"
   },
   {
    "duration": 40,
    "start_time": "2021-07-08T11:46:19.157Z"
   },
   {
    "duration": 15,
    "start_time": "2021-07-08T11:46:19.199Z"
   },
   {
    "duration": 10,
    "start_time": "2021-07-08T11:46:19.217Z"
   },
   {
    "duration": 68,
    "start_time": "2021-07-08T11:46:19.230Z"
   },
   {
    "duration": 17,
    "start_time": "2021-07-08T11:46:19.301Z"
   },
   {
    "duration": 7,
    "start_time": "2021-07-08T11:46:19.321Z"
   },
   {
    "duration": 11,
    "start_time": "2021-07-08T11:46:19.330Z"
   },
   {
    "duration": 59,
    "start_time": "2021-07-08T11:46:19.343Z"
   },
   {
    "duration": 17,
    "start_time": "2021-07-08T11:46:19.405Z"
   },
   {
    "duration": 16,
    "start_time": "2021-07-08T11:46:19.424Z"
   },
   {
    "duration": 252,
    "start_time": "2021-07-08T11:46:19.443Z"
   },
   {
    "duration": 9,
    "start_time": "2021-07-08T11:46:19.697Z"
   },
   {
    "duration": 224,
    "start_time": "2021-07-08T11:46:19.708Z"
   },
   {
    "duration": 21,
    "start_time": "2021-07-08T11:46:19.934Z"
   },
   {
    "duration": 9,
    "start_time": "2021-07-08T11:46:19.956Z"
   },
   {
    "duration": 32,
    "start_time": "2021-07-08T11:46:19.967Z"
   },
   {
    "duration": 288,
    "start_time": "2021-07-08T11:46:20.004Z"
   },
   {
    "duration": 23,
    "start_time": "2021-07-08T11:46:20.300Z"
   },
   {
    "duration": 11,
    "start_time": "2021-07-08T11:46:20.325Z"
   },
   {
    "duration": 11,
    "start_time": "2021-07-08T11:46:20.339Z"
   },
   {
    "duration": 259,
    "start_time": "2021-07-08T11:46:20.352Z"
   },
   {
    "duration": 438,
    "start_time": "2021-07-08T11:46:20.613Z"
   },
   {
    "duration": 207,
    "start_time": "2021-07-08T11:46:21.054Z"
   },
   {
    "duration": 27,
    "start_time": "2021-07-08T11:46:21.262Z"
   },
   {
    "duration": 19,
    "start_time": "2021-07-08T11:46:21.291Z"
   },
   {
    "duration": 820,
    "start_time": "2021-07-08T11:49:01.655Z"
   },
   {
    "duration": 372,
    "start_time": "2021-07-08T11:49:02.478Z"
   },
   {
    "duration": 98,
    "start_time": "2021-07-08T11:49:02.853Z"
   },
   {
    "duration": 6,
    "start_time": "2021-07-08T11:49:02.953Z"
   },
   {
    "duration": 39,
    "start_time": "2021-07-08T11:49:02.960Z"
   },
   {
    "duration": 9,
    "start_time": "2021-07-08T11:49:03.003Z"
   },
   {
    "duration": 23,
    "start_time": "2021-07-08T11:49:03.014Z"
   },
   {
    "duration": 6,
    "start_time": "2021-07-08T11:49:03.041Z"
   },
   {
    "duration": 20,
    "start_time": "2021-07-08T11:49:03.049Z"
   },
   {
    "duration": 18,
    "start_time": "2021-07-08T11:49:03.084Z"
   },
   {
    "duration": 14,
    "start_time": "2021-07-08T11:49:03.104Z"
   },
   {
    "duration": 39,
    "start_time": "2021-07-08T11:49:03.119Z"
   },
   {
    "duration": 38,
    "start_time": "2021-07-08T11:49:03.160Z"
   },
   {
    "duration": 26,
    "start_time": "2021-07-08T11:49:03.200Z"
   },
   {
    "duration": 7,
    "start_time": "2021-07-08T11:49:03.227Z"
   },
   {
    "duration": 4,
    "start_time": "2021-07-08T11:49:03.236Z"
   },
   {
    "duration": 15,
    "start_time": "2021-07-08T11:49:03.243Z"
   },
   {
    "duration": 21,
    "start_time": "2021-07-08T11:49:03.285Z"
   },
   {
    "duration": 17,
    "start_time": "2021-07-08T11:49:03.309Z"
   },
   {
    "duration": 10,
    "start_time": "2021-07-08T11:49:03.328Z"
   },
   {
    "duration": 65,
    "start_time": "2021-07-08T11:49:03.340Z"
   },
   {
    "duration": 18,
    "start_time": "2021-07-08T11:49:03.407Z"
   },
   {
    "duration": 8,
    "start_time": "2021-07-08T11:49:03.428Z"
   },
   {
    "duration": 15,
    "start_time": "2021-07-08T11:49:03.438Z"
   },
   {
    "duration": 40,
    "start_time": "2021-07-08T11:49:03.455Z"
   },
   {
    "duration": 12,
    "start_time": "2021-07-08T11:49:03.497Z"
   },
   {
    "duration": 29,
    "start_time": "2021-07-08T11:49:03.511Z"
   },
   {
    "duration": 285,
    "start_time": "2021-07-08T11:49:03.542Z"
   },
   {
    "duration": 8,
    "start_time": "2021-07-08T11:49:03.829Z"
   },
   {
    "duration": 227,
    "start_time": "2021-07-08T11:49:03.838Z"
   },
   {
    "duration": 40,
    "start_time": "2021-07-08T11:49:04.066Z"
   },
   {
    "duration": 10,
    "start_time": "2021-07-08T11:49:04.108Z"
   },
   {
    "duration": 26,
    "start_time": "2021-07-08T11:49:04.121Z"
   },
   {
    "duration": 290,
    "start_time": "2021-07-08T11:49:04.149Z"
   },
   {
    "duration": 26,
    "start_time": "2021-07-08T11:49:04.441Z"
   },
   {
    "duration": 31,
    "start_time": "2021-07-08T11:49:04.470Z"
   },
   {
    "duration": 14,
    "start_time": "2021-07-08T11:49:04.503Z"
   },
   {
    "duration": 259,
    "start_time": "2021-07-08T11:49:04.521Z"
   },
   {
    "duration": 480,
    "start_time": "2021-07-08T11:49:04.782Z"
   },
   {
    "duration": 225,
    "start_time": "2021-07-08T11:49:05.264Z"
   },
   {
    "duration": 22,
    "start_time": "2021-07-08T11:49:05.491Z"
   },
   {
    "duration": 24,
    "start_time": "2021-07-08T11:49:05.515Z"
   },
   {
    "duration": 634,
    "start_time": "2021-07-08T11:52:24.960Z"
   },
   {
    "duration": 199,
    "start_time": "2021-07-08T11:52:25.599Z"
   },
   {
    "duration": 106,
    "start_time": "2021-07-08T11:52:25.803Z"
   },
   {
    "duration": 7,
    "start_time": "2021-07-08T11:52:25.911Z"
   },
   {
    "duration": 29,
    "start_time": "2021-07-08T11:52:25.920Z"
   },
   {
    "duration": 7,
    "start_time": "2021-07-08T11:52:25.951Z"
   },
   {
    "duration": 26,
    "start_time": "2021-07-08T11:52:25.961Z"
   },
   {
    "duration": 11,
    "start_time": "2021-07-08T11:52:25.990Z"
   },
   {
    "duration": 29,
    "start_time": "2021-07-08T11:52:26.005Z"
   },
   {
    "duration": 9,
    "start_time": "2021-07-08T11:52:26.036Z"
   },
   {
    "duration": 8,
    "start_time": "2021-07-08T11:52:26.047Z"
   },
   {
    "duration": 63,
    "start_time": "2021-07-08T11:52:26.057Z"
   },
   {
    "duration": 17,
    "start_time": "2021-07-08T11:52:26.122Z"
   },
   {
    "duration": 43,
    "start_time": "2021-07-08T11:52:26.142Z"
   },
   {
    "duration": 17,
    "start_time": "2021-07-08T11:52:26.187Z"
   },
   {
    "duration": 5,
    "start_time": "2021-07-08T11:52:26.206Z"
   },
   {
    "duration": 12,
    "start_time": "2021-07-08T11:52:26.212Z"
   },
   {
    "duration": 11,
    "start_time": "2021-07-08T11:52:26.226Z"
   },
   {
    "duration": 12,
    "start_time": "2021-07-08T11:52:26.238Z"
   },
   {
    "duration": 38,
    "start_time": "2021-07-08T11:52:26.252Z"
   },
   {
    "duration": 40,
    "start_time": "2021-07-08T11:52:26.292Z"
   },
   {
    "duration": 17,
    "start_time": "2021-07-08T11:52:26.336Z"
   },
   {
    "duration": 39,
    "start_time": "2021-07-08T11:52:26.355Z"
   },
   {
    "duration": 11,
    "start_time": "2021-07-08T11:52:26.395Z"
   },
   {
    "duration": 23,
    "start_time": "2021-07-08T11:52:26.408Z"
   },
   {
    "duration": 12,
    "start_time": "2021-07-08T11:52:26.432Z"
   },
   {
    "duration": 41,
    "start_time": "2021-07-08T11:52:26.446Z"
   },
   {
    "duration": 215,
    "start_time": "2021-07-08T11:52:26.493Z"
   },
   {
    "duration": 8,
    "start_time": "2021-07-08T11:52:26.710Z"
   },
   {
    "duration": 228,
    "start_time": "2021-07-08T11:52:26.720Z"
   },
   {
    "duration": 18,
    "start_time": "2021-07-08T11:52:26.950Z"
   },
   {
    "duration": 35,
    "start_time": "2021-07-08T11:52:26.969Z"
   },
   {
    "duration": 23,
    "start_time": "2021-07-08T11:52:27.006Z"
   },
   {
    "duration": 258,
    "start_time": "2021-07-08T11:52:27.030Z"
   },
   {
    "duration": 24,
    "start_time": "2021-07-08T11:52:27.290Z"
   },
   {
    "duration": 12,
    "start_time": "2021-07-08T11:52:27.316Z"
   },
   {
    "duration": 10,
    "start_time": "2021-07-08T11:52:27.329Z"
   },
   {
    "duration": 298,
    "start_time": "2021-07-08T11:52:27.341Z"
   },
   {
    "duration": 436,
    "start_time": "2021-07-08T11:52:27.641Z"
   },
   {
    "duration": 216,
    "start_time": "2021-07-08T11:52:28.079Z"
   },
   {
    "duration": 20,
    "start_time": "2021-07-08T11:52:28.297Z"
   },
   {
    "duration": 17,
    "start_time": "2021-07-08T11:52:28.319Z"
   },
   {
    "duration": 1567,
    "start_time": "2022-02-13T18:09:26.583Z"
   },
   {
    "duration": 420,
    "start_time": "2022-02-13T18:09:28.153Z"
   },
   {
    "duration": 40,
    "start_time": "2022-02-13T18:09:28.577Z"
   },
   {
    "duration": 138,
    "start_time": "2022-02-13T18:09:28.620Z"
   },
   {
    "duration": 138,
    "start_time": "2022-02-13T18:09:28.762Z"
   },
   {
    "duration": 197,
    "start_time": "2022-02-13T18:09:28.905Z"
   },
   {
    "duration": 177,
    "start_time": "2022-02-13T18:09:29.104Z"
   },
   {
    "duration": 141,
    "start_time": "2022-02-13T18:09:29.285Z"
   },
   {
    "duration": 177,
    "start_time": "2022-02-13T18:09:29.430Z"
   },
   {
    "duration": 185,
    "start_time": "2022-02-13T18:09:29.609Z"
   },
   {
    "duration": 143,
    "start_time": "2022-02-13T18:09:29.797Z"
   },
   {
    "duration": 133,
    "start_time": "2022-02-13T18:09:29.942Z"
   },
   {
    "duration": 135,
    "start_time": "2022-02-13T18:09:30.079Z"
   },
   {
    "duration": 186,
    "start_time": "2022-02-13T18:09:30.217Z"
   },
   {
    "duration": 166,
    "start_time": "2022-02-13T18:09:30.406Z"
   },
   {
    "duration": 144,
    "start_time": "2022-02-13T18:09:30.575Z"
   },
   {
    "duration": 1357,
    "start_time": "2022-02-13T18:09:30.722Z"
   },
   {
    "duration": 14,
    "start_time": "2022-02-13T18:09:32.082Z"
   },
   {
    "duration": 216,
    "start_time": "2022-02-13T18:09:32.099Z"
   },
   {
    "duration": 167,
    "start_time": "2022-02-13T18:09:32.317Z"
   },
   {
    "duration": 225,
    "start_time": "2022-02-13T18:09:32.486Z"
   },
   {
    "duration": 127,
    "start_time": "2022-02-13T18:09:32.713Z"
   },
   {
    "duration": 125,
    "start_time": "2022-02-13T18:09:32.849Z"
   },
   {
    "duration": 183,
    "start_time": "2022-02-13T18:09:32.978Z"
   },
   {
    "duration": 169,
    "start_time": "2022-02-13T18:09:33.165Z"
   },
   {
    "duration": 297,
    "start_time": "2022-02-13T18:09:33.337Z"
   },
   {
    "duration": 169,
    "start_time": "2022-02-13T18:09:33.637Z"
   },
   {
    "duration": 287,
    "start_time": "2022-02-13T18:09:33.808Z"
   },
   {
    "duration": 307,
    "start_time": "2022-02-13T18:09:34.097Z"
   },
   {
    "duration": 266,
    "start_time": "2022-02-13T18:09:34.406Z"
   },
   {
    "duration": 299,
    "start_time": "2022-02-13T18:09:34.674Z"
   },
   {
    "duration": 309,
    "start_time": "2022-02-13T18:09:34.976Z"
   },
   {
    "duration": 223,
    "start_time": "2022-02-13T18:09:35.288Z"
   },
   {
    "duration": 201,
    "start_time": "2022-02-13T18:09:35.514Z"
   },
   {
    "duration": 164,
    "start_time": "2022-02-13T18:09:35.717Z"
   },
   {
    "duration": 198,
    "start_time": "2022-02-13T18:09:35.883Z"
   },
   {
    "duration": 150,
    "start_time": "2022-02-13T18:09:36.083Z"
   },
   {
    "duration": 368,
    "start_time": "2022-02-13T18:09:36.236Z"
   },
   {
    "duration": 56,
    "start_time": "2022-02-13T18:09:36.607Z"
   },
   {
    "duration": 174,
    "start_time": "2022-02-13T18:09:36.666Z"
   },
   {
    "duration": 166,
    "start_time": "2022-02-13T18:09:36.843Z"
   },
   {
    "duration": 209,
    "start_time": "2022-02-13T18:09:37.011Z"
   },
   {
    "duration": 1030,
    "start_time": "2022-02-13T18:09:37.223Z"
   },
   {
    "duration": 110,
    "start_time": "2022-02-13T18:09:38.146Z"
   },
   {
    "duration": 106,
    "start_time": "2022-02-13T18:09:38.151Z"
   },
   {
    "duration": 103,
    "start_time": "2022-02-13T18:09:38.156Z"
   },
   {
    "duration": 99,
    "start_time": "2022-02-13T18:09:38.161Z"
   },
   {
    "duration": 97,
    "start_time": "2022-02-13T18:09:38.164Z"
   },
   {
    "duration": 96,
    "start_time": "2022-02-13T18:09:38.167Z"
   },
   {
    "duration": 95,
    "start_time": "2022-02-13T18:09:38.169Z"
   },
   {
    "duration": 93,
    "start_time": "2022-02-13T18:09:38.172Z"
   },
   {
    "duration": 91,
    "start_time": "2022-02-13T18:09:38.175Z"
   },
   {
    "duration": 89,
    "start_time": "2022-02-13T18:09:38.178Z"
   },
   {
    "duration": 88,
    "start_time": "2022-02-13T18:09:38.180Z"
   },
   {
    "duration": 87,
    "start_time": "2022-02-13T18:09:38.182Z"
   },
   {
    "duration": 86,
    "start_time": "2022-02-13T18:09:38.184Z"
   },
   {
    "duration": 84,
    "start_time": "2022-02-13T18:09:38.188Z"
   },
   {
    "duration": 82,
    "start_time": "2022-02-13T18:09:38.191Z"
   },
   {
    "duration": 81,
    "start_time": "2022-02-13T18:09:38.194Z"
   },
   {
    "duration": 81,
    "start_time": "2022-02-13T18:09:38.197Z"
   },
   {
    "duration": 79,
    "start_time": "2022-02-13T18:09:38.200Z"
   },
   {
    "duration": 120,
    "start_time": "2022-02-13T18:09:38.203Z"
   },
   {
    "duration": 90,
    "start_time": "2022-02-13T18:09:38.235Z"
   },
   {
    "duration": 89,
    "start_time": "2022-02-13T18:09:38.238Z"
   },
   {
    "duration": 87,
    "start_time": "2022-02-13T18:09:38.241Z"
   },
   {
    "duration": 86,
    "start_time": "2022-02-13T18:09:38.244Z"
   },
   {
    "duration": 8,
    "start_time": "2022-02-13T18:14:22.972Z"
   },
   {
    "duration": 8,
    "start_time": "2022-02-13T18:15:58.894Z"
   },
   {
    "duration": 10,
    "start_time": "2022-02-13T18:27:10.295Z"
   },
   {
    "duration": 10,
    "start_time": "2022-02-13T18:28:43.453Z"
   },
   {
    "duration": 9,
    "start_time": "2022-02-13T18:29:19.357Z"
   },
   {
    "duration": 11,
    "start_time": "2022-02-13T18:29:54.530Z"
   },
   {
    "duration": 799,
    "start_time": "2022-02-13T18:41:36.875Z"
   },
   {
    "duration": 71748,
    "start_time": "2022-02-13T18:42:24.813Z"
   },
   {
    "duration": 5,
    "start_time": "2022-02-13T18:45:14.116Z"
   },
   {
    "duration": 1771,
    "start_time": "2022-02-13T18:45:14.124Z"
   },
   {
    "duration": 467,
    "start_time": "2022-02-13T18:45:15.899Z"
   },
   {
    "duration": 48,
    "start_time": "2022-02-13T18:45:16.370Z"
   },
   {
    "duration": 187,
    "start_time": "2022-02-13T18:45:16.421Z"
   },
   {
    "duration": 218,
    "start_time": "2022-02-13T18:45:16.611Z"
   },
   {
    "duration": 159,
    "start_time": "2022-02-13T18:45:16.833Z"
   },
   {
    "duration": 257,
    "start_time": "2022-02-13T18:45:16.997Z"
   },
   {
    "duration": 191,
    "start_time": "2022-02-13T18:45:17.257Z"
   },
   {
    "duration": 254,
    "start_time": "2022-02-13T18:45:17.451Z"
   },
   {
    "duration": 178,
    "start_time": "2022-02-13T18:45:17.708Z"
   },
   {
    "duration": 147,
    "start_time": "2022-02-13T18:45:17.888Z"
   },
   {
    "duration": 154,
    "start_time": "2022-02-13T18:45:18.038Z"
   },
   {
    "duration": 159,
    "start_time": "2022-02-13T18:45:18.194Z"
   },
   {
    "duration": 147,
    "start_time": "2022-02-13T18:45:18.357Z"
   },
   {
    "duration": 260,
    "start_time": "2022-02-13T18:45:18.507Z"
   },
   {
    "duration": 224,
    "start_time": "2022-02-13T18:45:18.770Z"
   },
   {
    "duration": 2098,
    "start_time": "2022-02-13T18:45:18.997Z"
   },
   {
    "duration": 8,
    "start_time": "2022-02-13T18:45:21.099Z"
   },
   {
    "duration": 157,
    "start_time": "2022-02-13T18:45:21.123Z"
   },
   {
    "duration": 158,
    "start_time": "2022-02-13T18:45:21.283Z"
   },
   {
    "duration": 99,
    "start_time": "2022-02-13T18:45:21.444Z"
   },
   {
    "duration": 194,
    "start_time": "2022-02-13T18:45:21.551Z"
   },
   {
    "duration": 147,
    "start_time": "2022-02-13T18:45:21.750Z"
   },
   {
    "duration": 122,
    "start_time": "2022-02-13T18:45:21.900Z"
   },
   {
    "duration": 172,
    "start_time": "2022-02-13T18:45:22.025Z"
   },
   {
    "duration": 151,
    "start_time": "2022-02-13T18:45:22.200Z"
   },
   {
    "duration": 163,
    "start_time": "2022-02-13T18:45:22.353Z"
   },
   {
    "duration": 234,
    "start_time": "2022-02-13T18:45:22.518Z"
   },
   {
    "duration": 183,
    "start_time": "2022-02-13T18:45:22.755Z"
   },
   {
    "duration": 154,
    "start_time": "2022-02-13T18:45:22.941Z"
   },
   {
    "duration": 171,
    "start_time": "2022-02-13T18:45:23.097Z"
   },
   {
    "duration": 149,
    "start_time": "2022-02-13T18:45:23.271Z"
   },
   {
    "duration": 153,
    "start_time": "2022-02-13T18:45:23.423Z"
   },
   {
    "duration": 54,
    "start_time": "2022-02-13T18:45:23.579Z"
   },
   {
    "duration": 147,
    "start_time": "2022-02-13T18:45:23.635Z"
   },
   {
    "duration": 149,
    "start_time": "2022-02-13T18:45:23.785Z"
   },
   {
    "duration": 171,
    "start_time": "2022-02-13T18:45:23.937Z"
   },
   {
    "duration": 146,
    "start_time": "2022-02-13T18:45:24.110Z"
   },
   {
    "duration": 261,
    "start_time": "2022-02-13T18:45:24.259Z"
   },
   {
    "duration": 90,
    "start_time": "2022-02-13T18:45:24.523Z"
   },
   {
    "duration": 187,
    "start_time": "2022-02-13T18:45:24.616Z"
   },
   {
    "duration": 136,
    "start_time": "2022-02-13T18:45:24.806Z"
   },
   {
    "duration": 123,
    "start_time": "2022-02-13T18:45:24.946Z"
   },
   {
    "duration": 173,
    "start_time": "2022-02-13T18:45:25.073Z"
   },
   {
    "duration": 1239,
    "start_time": "2022-02-13T18:45:25.249Z"
   },
   {
    "duration": 144,
    "start_time": "2022-02-13T18:45:26.347Z"
   },
   {
    "duration": 118,
    "start_time": "2022-02-13T18:45:26.375Z"
   },
   {
    "duration": 115,
    "start_time": "2022-02-13T18:45:26.379Z"
   },
   {
    "duration": 113,
    "start_time": "2022-02-13T18:45:26.383Z"
   },
   {
    "duration": 102,
    "start_time": "2022-02-13T18:45:26.395Z"
   },
   {
    "duration": 98,
    "start_time": "2022-02-13T18:45:26.400Z"
   },
   {
    "duration": 98,
    "start_time": "2022-02-13T18:45:26.402Z"
   },
   {
    "duration": 96,
    "start_time": "2022-02-13T18:45:26.405Z"
   },
   {
    "duration": 95,
    "start_time": "2022-02-13T18:45:26.408Z"
   },
   {
    "duration": 111,
    "start_time": "2022-02-13T18:45:26.412Z"
   },
   {
    "duration": 110,
    "start_time": "2022-02-13T18:45:26.415Z"
   },
   {
    "duration": 98,
    "start_time": "2022-02-13T18:45:26.428Z"
   },
   {
    "duration": 96,
    "start_time": "2022-02-13T18:45:26.432Z"
   },
   {
    "duration": 85,
    "start_time": "2022-02-13T18:45:26.444Z"
   },
   {
    "duration": 84,
    "start_time": "2022-02-13T18:45:26.447Z"
   },
   {
    "duration": 72,
    "start_time": "2022-02-13T18:45:26.460Z"
   },
   {
    "duration": 71,
    "start_time": "2022-02-13T18:45:26.463Z"
   },
   {
    "duration": 60,
    "start_time": "2022-02-13T18:45:26.475Z"
   },
   {
    "duration": 58,
    "start_time": "2022-02-13T18:45:26.479Z"
   },
   {
    "duration": 56,
    "start_time": "2022-02-13T18:45:26.483Z"
   },
   {
    "duration": 45,
    "start_time": "2022-02-13T18:45:26.495Z"
   },
   {
    "duration": 42,
    "start_time": "2022-02-13T18:45:26.499Z"
   },
   {
    "duration": 32,
    "start_time": "2022-02-13T18:45:26.511Z"
   },
   {
    "duration": 4,
    "start_time": "2022-02-13T18:48:05.356Z"
   },
   {
    "duration": 5007,
    "start_time": "2022-02-13T18:48:05.363Z"
   },
   {
    "duration": 346,
    "start_time": "2022-02-13T18:48:10.374Z"
   },
   {
    "duration": 32,
    "start_time": "2022-02-13T18:48:10.723Z"
   },
   {
    "duration": 229,
    "start_time": "2022-02-13T18:48:10.757Z"
   },
   {
    "duration": 234,
    "start_time": "2022-02-13T18:48:10.988Z"
   },
   {
    "duration": 174,
    "start_time": "2022-02-13T18:48:11.231Z"
   },
   {
    "duration": 271,
    "start_time": "2022-02-13T18:48:11.407Z"
   },
   {
    "duration": 248,
    "start_time": "2022-02-13T18:48:11.684Z"
   },
   {
    "duration": 343,
    "start_time": "2022-02-13T18:48:11.937Z"
   },
   {
    "duration": 160,
    "start_time": "2022-02-13T18:48:12.282Z"
   },
   {
    "duration": 166,
    "start_time": "2022-02-13T18:48:12.446Z"
   },
   {
    "duration": 214,
    "start_time": "2022-02-13T18:48:12.616Z"
   },
   {
    "duration": 280,
    "start_time": "2022-02-13T18:48:12.832Z"
   },
   {
    "duration": 212,
    "start_time": "2022-02-13T18:48:13.115Z"
   },
   {
    "duration": 272,
    "start_time": "2022-02-13T18:48:13.329Z"
   },
   {
    "duration": 168,
    "start_time": "2022-02-13T18:48:13.604Z"
   },
   {
    "duration": 2226,
    "start_time": "2022-02-13T18:48:13.775Z"
   },
   {
    "duration": 23,
    "start_time": "2022-02-13T18:48:16.005Z"
   },
   {
    "duration": 224,
    "start_time": "2022-02-13T18:48:16.031Z"
   },
   {
    "duration": 219,
    "start_time": "2022-02-13T18:48:16.258Z"
   },
   {
    "duration": 158,
    "start_time": "2022-02-13T18:48:16.480Z"
   },
   {
    "duration": 222,
    "start_time": "2022-02-13T18:48:16.641Z"
   },
   {
    "duration": 140,
    "start_time": "2022-02-13T18:48:16.866Z"
   },
   {
    "duration": 143,
    "start_time": "2022-02-13T18:48:17.010Z"
   },
   {
    "duration": 216,
    "start_time": "2022-02-13T18:48:17.156Z"
   },
   {
    "duration": 177,
    "start_time": "2022-02-13T18:48:17.381Z"
   },
   {
    "duration": 196,
    "start_time": "2022-02-13T18:48:17.563Z"
   },
   {
    "duration": 175,
    "start_time": "2022-02-13T18:48:17.761Z"
   },
   {
    "duration": 200,
    "start_time": "2022-02-13T18:48:17.938Z"
   },
   {
    "duration": 230,
    "start_time": "2022-02-13T18:48:18.141Z"
   },
   {
    "duration": 147,
    "start_time": "2022-02-13T18:48:18.375Z"
   },
   {
    "duration": 342,
    "start_time": "2022-02-13T18:48:18.524Z"
   },
   {
    "duration": 245,
    "start_time": "2022-02-13T18:48:18.872Z"
   },
   {
    "duration": 234,
    "start_time": "2022-02-13T18:48:19.121Z"
   },
   {
    "duration": 193,
    "start_time": "2022-02-13T18:48:19.358Z"
   },
   {
    "duration": 146,
    "start_time": "2022-02-13T18:48:19.554Z"
   },
   {
    "duration": 198,
    "start_time": "2022-02-13T18:48:19.702Z"
   },
   {
    "duration": 231,
    "start_time": "2022-02-13T18:48:19.903Z"
   },
   {
    "duration": 271,
    "start_time": "2022-02-13T18:48:20.137Z"
   },
   {
    "duration": 164,
    "start_time": "2022-02-13T18:48:20.410Z"
   },
   {
    "duration": 189,
    "start_time": "2022-02-13T18:48:20.577Z"
   },
   {
    "duration": 181,
    "start_time": "2022-02-13T18:48:20.769Z"
   },
   {
    "duration": 188,
    "start_time": "2022-02-13T18:48:20.952Z"
   },
   {
    "duration": 210,
    "start_time": "2022-02-13T18:48:21.143Z"
   },
   {
    "duration": 1146,
    "start_time": "2022-02-13T18:48:21.355Z"
   },
   {
    "duration": 673,
    "start_time": "2022-02-13T18:48:22.504Z"
   },
   {
    "duration": 70,
    "start_time": "2022-02-13T18:48:23.181Z"
   },
   {
    "duration": 146,
    "start_time": "2022-02-13T18:48:23.254Z"
   },
   {
    "duration": 188,
    "start_time": "2022-02-13T18:48:23.403Z"
   },
   {
    "duration": 1691,
    "start_time": "2022-02-13T18:48:23.594Z"
   },
   {
    "duration": 10,
    "start_time": "2022-02-13T18:48:25.288Z"
   },
   {
    "duration": 197,
    "start_time": "2022-02-13T18:48:25.301Z"
   },
   {
    "duration": 190,
    "start_time": "2022-02-13T18:48:25.500Z"
   },
   {
    "duration": 919,
    "start_time": "2022-02-13T18:48:25.693Z"
   },
   {
    "duration": 43,
    "start_time": "2022-02-13T18:48:26.614Z"
   },
   {
    "duration": 693,
    "start_time": "2022-02-13T18:48:26.660Z"
   },
   {
    "duration": 53,
    "start_time": "2022-02-13T18:48:27.357Z"
   },
   {
    "duration": 259,
    "start_time": "2022-02-13T18:48:27.425Z"
   },
   {
    "duration": 271,
    "start_time": "2022-02-13T18:48:27.687Z"
   },
   {
    "duration": 218,
    "start_time": "2022-02-13T18:48:27.961Z"
   },
   {
    "duration": 234,
    "start_time": "2022-02-13T18:48:28.183Z"
   },
   {
    "duration": 204,
    "start_time": "2022-02-13T18:48:28.419Z"
   },
   {
    "duration": 1071,
    "start_time": "2022-02-13T18:48:28.628Z"
   },
   {
    "duration": 71,
    "start_time": "2022-02-13T18:48:29.702Z"
   },
   {
    "duration": 272,
    "start_time": "2022-02-13T18:48:29.776Z"
   },
   {
    "duration": 242,
    "start_time": "2022-02-13T18:48:30.051Z"
   },
   {
    "duration": 182,
    "start_time": "2022-02-13T18:48:30.296Z"
   },
   {
    "duration": 1341,
    "start_time": "2022-02-13T18:48:30.482Z"
   },
   {
    "duration": 488,
    "start_time": "2022-02-13T18:51:10.043Z"
   },
   {
    "duration": 577,
    "start_time": "2022-02-13T18:51:13.528Z"
   },
   {
    "duration": 449,
    "start_time": "2022-02-13T18:51:52.352Z"
   }
  ],
  "colab": {
   "name": "DA+. Сборный проект 1. Шаблон (1).ipynb",
   "provenance": []
  },
  "kernelspec": {
   "display_name": "Python 3 (ipykernel)",
   "language": "python",
   "name": "python3"
  },
  "language_info": {
   "codemirror_mode": {
    "name": "ipython",
    "version": 3
   },
   "file_extension": ".py",
   "mimetype": "text/x-python",
   "name": "python",
   "nbconvert_exporter": "python",
   "pygments_lexer": "ipython3",
   "version": "3.9.13"
  },
  "toc": {
   "base_numbering": 1,
   "nav_menu": {},
   "number_sections": true,
   "sideBar": true,
   "skip_h1_title": true,
   "title_cell": "Table of Contents",
   "title_sidebar": "Contents",
   "toc_cell": false,
   "toc_position": {
    "height": "calc(100% - 180px)",
    "left": "10px",
    "top": "150px",
    "width": "375.391px"
   },
   "toc_section_display": true,
   "toc_window_display": false
  }
 },
 "nbformat": 4,
 "nbformat_minor": 1
}
