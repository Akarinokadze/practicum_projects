{
 "cells": [
  {
   "cell_type": "markdown",
   "metadata": {
    "id": "E0vqbgi9ay0H"
   },
   "source": [
    "# Яндекс.Музыка"
   ]
  },
  {
   "cell_type": "markdown",
   "metadata": {
    "id": "VUC88oWjTJw2"
   },
   "source": [
    "Сравнение Москвы и Петербурга окружено мифами. Например:\n",
    " * Москва — мегаполис, подчинённый жёсткому ритму рабочей недели;\n",
    " * Петербург — культурная столица, со своими вкусами.\n",
    "\n",
    "На данных Яндекс.Музыки мы сравниваем поведение пользователей двух столиц.\n",
    "\n",
    "**Цель исследования** — проверить три гипотезы:\n",
    "1. Активность пользователей зависит от дня недели. Причём в Москве и Петербурге это проявляется по-разному.\n",
    "2. В понедельник утром в Москве преобладают одни жанры, а в Петербурге — другие. Так же и вечером пятницы преобладают разные жанры — в зависимости от города. \n",
    "3. Москва и Петербург предпочитают разные жанры музыки. В Москве чаще слушают поп-музыку, в Петербурге — русский рэп.\n",
    "\n",
    "**Ход исследования**\n",
    "\n",
    "Данные о поведении пользователей получаем из файла `yandex_music_project.csv`. О качестве данных ничего не известно. Поэтому перед проверкой гипотез понадобится обзор данных. \n",
    "\n",
    "Проверим данные на ошибки и оценим их влияние на исследование. Затем, на этапе предобработки поищем возможность исправить самые критичные ошибки данных.\n",
    " \n",
    "Таким образом, исследование пройдёт в три этапа:\n",
    " 1. Обзор данных.\n",
    " 2. Предобработка данных.\n",
    " 3. Проверка гипотез.\n",
    "\n"
   ]
  },
  {
   "cell_type": "markdown",
   "metadata": {
    "id": "Ml1hmfXC_Zcs"
   },
   "source": [
    "## Обзор данных\n",
    "\n",
    "Составляем первое представление о данных Яндекс.Музыки.\n",
    "\n",
    "\n"
   ]
  },
  {
   "cell_type": "markdown",
   "metadata": {
    "id": "57eAOGIz_Zcs"
   },
   "source": [
    "Основной инструмент аналитика — `pandas`. Импортируем эту библиотеку."
   ]
  },
  {
   "cell_type": "code",
   "execution_count": 1,
   "metadata": {
    "id": "AXN7PHPN_Zcs"
   },
   "outputs": [],
   "source": [
    "import pandas as pd # импорт библиотеки pandas"
   ]
  },
  {
   "cell_type": "markdown",
   "metadata": {
    "id": "SG23P8tt_Zcs"
   },
   "source": [
    "Прочитаем файл `yandex_music_project.csv` из папки `/datasets` и сохраняем его в переменной `df`:"
   ]
  },
  {
   "cell_type": "code",
   "execution_count": 2,
   "metadata": {
    "id": "fFVu7vqh_Zct"
   },
   "outputs": [],
   "source": [
    "df = pd.read_csv('yandex_music_project.csv') # сохранение данных из файла в переменную df"
   ]
  },
  {
   "cell_type": "markdown",
   "metadata": {
    "id": "rDoOMd3uTqnZ"
   },
   "source": [
    "Выводим на экран первые десять строк таблицы:"
   ]
  },
  {
   "cell_type": "code",
   "execution_count": 3,
   "metadata": {
    "id": "oWTVX3gW_Zct"
   },
   "outputs": [
    {
     "data": {
      "text/html": [
       "<div>\n",
       "<style scoped>\n",
       "    .dataframe tbody tr th:only-of-type {\n",
       "        vertical-align: middle;\n",
       "    }\n",
       "\n",
       "    .dataframe tbody tr th {\n",
       "        vertical-align: top;\n",
       "    }\n",
       "\n",
       "    .dataframe thead th {\n",
       "        text-align: right;\n",
       "    }\n",
       "</style>\n",
       "<table border=\"1\" class=\"dataframe\">\n",
       "  <thead>\n",
       "    <tr style=\"text-align: right;\">\n",
       "      <th></th>\n",
       "      <th>userID</th>\n",
       "      <th>Track</th>\n",
       "      <th>artist</th>\n",
       "      <th>genre</th>\n",
       "      <th>City</th>\n",
       "      <th>time</th>\n",
       "      <th>Day</th>\n",
       "    </tr>\n",
       "  </thead>\n",
       "  <tbody>\n",
       "    <tr>\n",
       "      <th>0</th>\n",
       "      <td>FFB692EC</td>\n",
       "      <td>Kamigata To Boots</td>\n",
       "      <td>The Mass Missile</td>\n",
       "      <td>rock</td>\n",
       "      <td>Saint-Petersburg</td>\n",
       "      <td>20:28:33</td>\n",
       "      <td>Wednesday</td>\n",
       "    </tr>\n",
       "    <tr>\n",
       "      <th>1</th>\n",
       "      <td>55204538</td>\n",
       "      <td>Delayed Because of Accident</td>\n",
       "      <td>Andreas Rönnberg</td>\n",
       "      <td>rock</td>\n",
       "      <td>Moscow</td>\n",
       "      <td>14:07:09</td>\n",
       "      <td>Friday</td>\n",
       "    </tr>\n",
       "    <tr>\n",
       "      <th>2</th>\n",
       "      <td>20EC38</td>\n",
       "      <td>Funiculì funiculà</td>\n",
       "      <td>Mario Lanza</td>\n",
       "      <td>pop</td>\n",
       "      <td>Saint-Petersburg</td>\n",
       "      <td>20:58:07</td>\n",
       "      <td>Wednesday</td>\n",
       "    </tr>\n",
       "    <tr>\n",
       "      <th>3</th>\n",
       "      <td>A3DD03C9</td>\n",
       "      <td>Dragons in the Sunset</td>\n",
       "      <td>Fire + Ice</td>\n",
       "      <td>folk</td>\n",
       "      <td>Saint-Petersburg</td>\n",
       "      <td>08:37:09</td>\n",
       "      <td>Monday</td>\n",
       "    </tr>\n",
       "    <tr>\n",
       "      <th>4</th>\n",
       "      <td>E2DC1FAE</td>\n",
       "      <td>Soul People</td>\n",
       "      <td>Space Echo</td>\n",
       "      <td>dance</td>\n",
       "      <td>Moscow</td>\n",
       "      <td>08:34:34</td>\n",
       "      <td>Monday</td>\n",
       "    </tr>\n",
       "    <tr>\n",
       "      <th>5</th>\n",
       "      <td>842029A1</td>\n",
       "      <td>Преданная</td>\n",
       "      <td>IMPERVTOR</td>\n",
       "      <td>rusrap</td>\n",
       "      <td>Saint-Petersburg</td>\n",
       "      <td>13:09:41</td>\n",
       "      <td>Friday</td>\n",
       "    </tr>\n",
       "    <tr>\n",
       "      <th>6</th>\n",
       "      <td>4CB90AA5</td>\n",
       "      <td>True</td>\n",
       "      <td>Roman Messer</td>\n",
       "      <td>dance</td>\n",
       "      <td>Moscow</td>\n",
       "      <td>13:00:07</td>\n",
       "      <td>Wednesday</td>\n",
       "    </tr>\n",
       "    <tr>\n",
       "      <th>7</th>\n",
       "      <td>F03E1C1F</td>\n",
       "      <td>Feeling This Way</td>\n",
       "      <td>Polina Griffith</td>\n",
       "      <td>dance</td>\n",
       "      <td>Moscow</td>\n",
       "      <td>20:47:49</td>\n",
       "      <td>Wednesday</td>\n",
       "    </tr>\n",
       "    <tr>\n",
       "      <th>8</th>\n",
       "      <td>8FA1D3BE</td>\n",
       "      <td>И вновь продолжается бой</td>\n",
       "      <td>NaN</td>\n",
       "      <td>ruspop</td>\n",
       "      <td>Moscow</td>\n",
       "      <td>09:17:40</td>\n",
       "      <td>Friday</td>\n",
       "    </tr>\n",
       "    <tr>\n",
       "      <th>9</th>\n",
       "      <td>E772D5C0</td>\n",
       "      <td>Pessimist</td>\n",
       "      <td>NaN</td>\n",
       "      <td>dance</td>\n",
       "      <td>Saint-Petersburg</td>\n",
       "      <td>21:20:49</td>\n",
       "      <td>Wednesday</td>\n",
       "    </tr>\n",
       "  </tbody>\n",
       "</table>\n",
       "</div>"
      ],
      "text/plain": [
       "     userID                        Track            artist   genre  \\\n",
       "0  FFB692EC            Kamigata To Boots  The Mass Missile    rock   \n",
       "1  55204538  Delayed Because of Accident  Andreas Rönnberg    rock   \n",
       "2    20EC38            Funiculì funiculà       Mario Lanza     pop   \n",
       "3  A3DD03C9        Dragons in the Sunset        Fire + Ice    folk   \n",
       "4  E2DC1FAE                  Soul People        Space Echo   dance   \n",
       "5  842029A1                    Преданная         IMPERVTOR  rusrap   \n",
       "6  4CB90AA5                         True      Roman Messer   dance   \n",
       "7  F03E1C1F             Feeling This Way   Polina Griffith   dance   \n",
       "8  8FA1D3BE     И вновь продолжается бой               NaN  ruspop   \n",
       "9  E772D5C0                    Pessimist               NaN   dance   \n",
       "\n",
       "             City        time        Day  \n",
       "0  Saint-Petersburg  20:28:33  Wednesday  \n",
       "1            Moscow  14:07:09     Friday  \n",
       "2  Saint-Petersburg  20:58:07  Wednesday  \n",
       "3  Saint-Petersburg  08:37:09     Monday  \n",
       "4            Moscow  08:34:34     Monday  \n",
       "5  Saint-Petersburg  13:09:41     Friday  \n",
       "6            Moscow  13:00:07  Wednesday  \n",
       "7            Moscow  20:47:49  Wednesday  \n",
       "8            Moscow  09:17:40     Friday  \n",
       "9  Saint-Petersburg  21:20:49  Wednesday  "
      ]
     },
     "execution_count": 3,
     "metadata": {},
     "output_type": "execute_result"
    }
   ],
   "source": [
    "df.head(10) # вывод на экран первых десяти строк"
   ]
  },
  {
   "cell_type": "markdown",
   "metadata": {
    "id": "EO73Kwic_Zct"
   },
   "source": [
    "Одной командой получаем общую информацию о таблице:"
   ]
  },
  {
   "cell_type": "code",
   "execution_count": 4,
   "metadata": {
    "id": "DSf2kIb-_Zct"
   },
   "outputs": [
    {
     "name": "stdout",
     "output_type": "stream",
     "text": [
      "<class 'pandas.core.frame.DataFrame'>\n",
      "RangeIndex: 65079 entries, 0 to 65078\n",
      "Data columns (total 7 columns):\n",
      " #   Column    Non-Null Count  Dtype \n",
      "---  ------    --------------  ----- \n",
      " 0     userID  65079 non-null  object\n",
      " 1   Track     63848 non-null  object\n",
      " 2   artist    57876 non-null  object\n",
      " 3   genre     63881 non-null  object\n",
      " 4     City    65079 non-null  object\n",
      " 5   time      65079 non-null  object\n",
      " 6   Day       65079 non-null  object\n",
      "dtypes: object(7)\n",
      "memory usage: 3.5+ MB\n"
     ]
    }
   ],
   "source": [
    "df.info() # получение общеё информации о таблице"
   ]
  },
  {
   "cell_type": "markdown",
   "metadata": {
    "id": "TaQ2Iwbr_Zct"
   },
   "source": [
    "Итак, в таблице семь столбцов. Тип данных во всех столбцах — `object`.\n",
    "\n",
    "Согласно документации к данным:\n",
    "* `userID` — идентификатор пользователя;\n",
    "* `Track` — название трека;  \n",
    "* `artist` — имя исполнителя;\n",
    "* `genre` — название жанра;\n",
    "* `City` — город пользователя;\n",
    "* `time` — время начала прослушивания;\n",
    "* `Day` — день недели.\n",
    "\n",
    "В названиях колонок видны три нарушения стиля:\n",
    "1. Строчные буквы сочетаются с прописными.\n",
    "2. Встречаются пробелы.\n",
    "3. Отдельные слова не разделены нижним подчёркиванием.\n",
    "\n",
    "\n",
    "\n",
    "Количество значений в столбцах различается. Значит, в данных есть пропущенные значения.\n"
   ]
  },
  {
   "cell_type": "markdown",
   "metadata": {
    "id": "MCB6-dXG_Zct"
   },
   "source": [
    "**Выводы**\n",
    "\n",
    "В каждой строке таблицы — данные о прослушанном треке. Часть колонок описывает саму композицию: название, исполнителя и жанр. Остальные данные рассказывают о пользователе: из какого он города, когда он слушал музыку. \n",
    "\n",
    "Предварительно можно утверждать, что, данных достаточно для проверки гипотез. Но встречаются пропуски в данных, а в названиях колонок — расхождения с хорошим стилем.\n",
    "\n",
    "Чтобы двигаться дальше, устраняем проблемы в данных."
   ]
  },
  {
   "cell_type": "markdown",
   "metadata": {
    "id": "SjYF6Ub9_Zct"
   },
   "source": [
    "## Предобработка данных\n",
    "Исправляем стиль в заголовках столбцов, исключаем пропуски. Затем проверяем данные на дубликаты."
   ]
  },
  {
   "cell_type": "markdown",
   "metadata": {
    "id": "dIaKXr29_Zct"
   },
   "source": [
    "### Стиль заголовков\n",
    "Выводим на экран названия столбцов:"
   ]
  },
  {
   "cell_type": "code",
   "execution_count": 5,
   "metadata": {
    "id": "oKOTdF_Q_Zct"
   },
   "outputs": [
    {
     "data": {
      "text/plain": [
       "Index(['  userID', 'Track', 'artist', 'genre', '  City  ', 'time', 'Day'], dtype='object')"
      ]
     },
     "execution_count": 5,
     "metadata": {},
     "output_type": "execute_result"
    }
   ],
   "source": [
    "df.columns # перечень названий столбцов таблицы df"
   ]
  },
  {
   "cell_type": "markdown",
   "metadata": {
    "id": "zj5534cv_Zct"
   },
   "source": [
    "Приводим названия в соответствие с хорошим стилем:\n",
    "* несколько слов в названии запишем в «змеином_регистре»,\n",
    "* все символы сделаем строчными,\n",
    "* устраним пробелы.\n",
    "\n",
    "Для этого переименуем колонки так:\n",
    "* `'  userID'` → `'user_id'`;\n",
    "* `'Track'` → `'track'`;\n",
    "* `'  City  '` → `'city'`;\n",
    "* `'Day'` → `'day'`."
   ]
  },
  {
   "cell_type": "code",
   "execution_count": 6,
   "metadata": {
    "id": "ISlFqs5y_Zct"
   },
   "outputs": [],
   "source": [
    "df = df.rename(columns={'  userID': 'user_id', 'Track': 'track', '  City  ': 'city', 'Day': 'day'}) # переименование столбцов"
   ]
  },
  {
   "cell_type": "markdown",
   "metadata": {
    "id": "1dqbh00J_Zct"
   },
   "source": [
    "Проверяем результат. Для этого ещё раз выводим на экран названия столбцов:"
   ]
  },
  {
   "cell_type": "code",
   "execution_count": 7,
   "metadata": {
    "id": "d4NOAmTW_Zct"
   },
   "outputs": [
    {
     "data": {
      "text/plain": [
       "Index(['user_id', 'track', 'artist', 'genre', 'city', 'time', 'day'], dtype='object')"
      ]
     },
     "execution_count": 7,
     "metadata": {},
     "output_type": "execute_result"
    }
   ],
   "source": [
    "df.columns # проверка результатов - перечень названий столбцов"
   ]
  },
  {
   "cell_type": "markdown",
   "metadata": {
    "id": "5ISfbcfY_Zct"
   },
   "source": [
    "### Пропуски значений\n",
    "Сначала посчитаем, сколько в таблице пропущенных значений. Для этого достаточно двух методов `pandas`:"
   ]
  },
  {
   "cell_type": "code",
   "execution_count": 8,
   "metadata": {
    "id": "RskX29qr_Zct"
   },
   "outputs": [
    {
     "data": {
      "text/plain": [
       "user_id       0\n",
       "track      1231\n",
       "artist     7203\n",
       "genre      1198\n",
       "city          0\n",
       "time          0\n",
       "day           0\n",
       "dtype: int64"
      ]
     },
     "execution_count": 8,
     "metadata": {},
     "output_type": "execute_result"
    }
   ],
   "source": [
    "df.isna().sum() # подсчёт пропусков"
   ]
  },
  {
   "cell_type": "markdown",
   "metadata": {
    "id": "qubhgnlO_Zct"
   },
   "source": [
    "Не все пропущенные значения влияют на исследование. Так в `track` и `artist` пропуски не важны для нашей работы. Достаточно заменить их явными обозначениями.\n",
    "\n",
    "Но пропуски в `genre` могут помешать сравнению музыкальных вкусов в Москве и Санкт-Петербурге. На практике было бы правильно установить причину пропусков и восстановить данные. Такой возможности нет в учебном проекте. Придётся:\n",
    "* заполнить и эти пропуски явными обозначениями,\n",
    "* оценить, насколько они повредят расчётам. "
   ]
  },
  {
   "cell_type": "markdown",
   "metadata": {
    "id": "fSv2laPA_Zct"
   },
   "source": [
    "Заменяем пропущенные значения в столбцах `track`, `artist` и `genre` на строку `'unknown'`. Для этого создаём список `columns_to_replace`, перебираем его элементы циклом `for` и для каждого столбца выполняем замену пропущенных значений:"
   ]
  },
  {
   "cell_type": "code",
   "execution_count": 9,
   "metadata": {
    "id": "KplB5qWs_Zct"
   },
   "outputs": [],
   "source": [
    "columns_to_replace = ['track', 'artist', 'genre']\n",
    "for column in columns_to_replace:  # перебор названий столбцов в цикле и замена пропущенных значений на 'unknown'\n",
    "    df[column] = df[column].fillna('unknown')"
   ]
  },
  {
   "cell_type": "markdown",
   "metadata": {
    "id": "Ilsm-MZo_Zct"
   },
   "source": [
    "Убедимся, что в таблице не осталось пропусков. Для этого ещё раз посчитаем пропущенные значения."
   ]
  },
  {
   "cell_type": "code",
   "execution_count": 10,
   "metadata": {
    "id": "Tq4nYRX4_Zct"
   },
   "outputs": [
    {
     "data": {
      "text/plain": [
       "user_id    0\n",
       "track      0\n",
       "artist     0\n",
       "genre      0\n",
       "city       0\n",
       "time       0\n",
       "day        0\n",
       "dtype: int64"
      ]
     },
     "execution_count": 10,
     "metadata": {},
     "output_type": "execute_result"
    }
   ],
   "source": [
    "df.isna().sum() # подсчёт пропусков"
   ]
  },
  {
   "cell_type": "markdown",
   "metadata": {
    "id": "BWKRtBJ3_Zct"
   },
   "source": [
    "### Дубликаты\n",
    "Посчитаем явные дубликаты в таблице одной командой:"
   ]
  },
  {
   "cell_type": "code",
   "execution_count": 11,
   "metadata": {
    "id": "36eES_S0_Zct"
   },
   "outputs": [
    {
     "data": {
      "text/plain": [
       "3826"
      ]
     },
     "execution_count": 11,
     "metadata": {},
     "output_type": "execute_result"
    }
   ],
   "source": [
    "df.duplicated().sum() # подсчёт явных дубликатов"
   ]
  },
  {
   "cell_type": "markdown",
   "metadata": {
    "id": "Ot25h6XR_Zct"
   },
   "source": [
    "Вызываем специальный метод `pandas`, чтобы удалить явные дубликаты:"
   ]
  },
  {
   "cell_type": "code",
   "execution_count": 12,
   "metadata": {
    "id": "exFHq6tt_Zct"
   },
   "outputs": [],
   "source": [
    "df = df.drop_duplicates().reset_index(drop = True) # удаление явных дубликатов (с удалением старых индексов и формированием новых)"
   ]
  },
  {
   "cell_type": "markdown",
   "metadata": {
    "id": "Im2YwBEG_Zct"
   },
   "source": [
    "Ещё раз посчитаем явные дубликаты в таблице — убедимся, что полностью от них избавились:"
   ]
  },
  {
   "cell_type": "code",
   "execution_count": 13,
   "metadata": {
    "id": "-8PuNWQ0_Zct"
   },
   "outputs": [
    {
     "data": {
      "text/plain": [
       "0"
      ]
     },
     "execution_count": 13,
     "metadata": {},
     "output_type": "execute_result"
    }
   ],
   "source": [
    "df.duplicated().sum() # проверка на отсутствие дубликатов"
   ]
  },
  {
   "cell_type": "markdown",
   "metadata": {
    "id": "QlFBsxAr_Zct"
   },
   "source": [
    "Теперь избавляемся от неявных дубликатов в колонке `genre`. Например, название одного и того же жанра может быть записано немного по-разному. Такие ошибки тоже повлияют на результат исследования."
   ]
  },
  {
   "cell_type": "markdown",
   "metadata": {
    "id": "eSjWwsOh_Zct"
   },
   "source": [
    "Выводим на экран список уникальных названий жанров, отсортированный в алфавитном порядке. Для этого:\n",
    "* извлекаем нужный столбец датафрейма, \n",
    "* применяем к нему метод сортировки,\n",
    "* для отсортированного столбца вызываем метод, который вернёт уникальные значения из столбца."
   ]
  },
  {
   "cell_type": "code",
   "execution_count": 14,
   "metadata": {
    "id": "JIUcqzZN_Zct"
   },
   "outputs": [
    {
     "name": "stdout",
     "output_type": "stream",
     "text": [
      "['acid', 'acoustic', 'action', 'adult', 'africa', 'afrikaans', 'alternative', 'alternativepunk', 'ambient', 'americana', 'animated', 'anime', 'arabesk', 'arabic', 'arena', 'argentinetango', 'art', 'audiobook', 'author', 'avantgarde', 'axé', 'baile', 'balkan', 'beats', 'bigroom', 'black', 'bluegrass', 'blues', 'bollywood', 'bossa', 'brazilian', 'breakbeat', 'breaks', 'broadway', 'cantautori', 'cantopop', 'canzone', 'caribbean', 'caucasian', 'celtic', 'chamber', 'chanson', 'children', 'chill', 'chinese', 'choral', 'christian', 'christmas', 'classical', 'classicmetal', 'club', 'colombian', 'comedy', 'conjazz', 'contemporary', 'country', 'cuban', 'dance', 'dancehall', 'dancepop', 'dark', 'death', 'deep', 'deutschrock', 'deutschspr', 'dirty', 'disco', 'dnb', 'documentary', 'downbeat', 'downtempo', 'drum', 'dub', 'dubstep', 'eastern', 'easy', 'electronic', 'electropop', 'emo', 'entehno', 'epicmetal', 'estrada', 'ethnic', 'eurofolk', 'european', 'experimental', 'extrememetal', 'fado', 'fairytail', 'film', 'fitness', 'flamenco', 'folk', 'folklore', 'folkmetal', 'folkrock', 'folktronica', 'forró', 'frankreich', 'französisch', 'french', 'funk', 'future', 'gangsta', 'garage', 'german', 'ghazal', 'gitarre', 'glitch', 'gospel', 'gothic', 'grime', 'grunge', 'gypsy', 'handsup', \"hard'n'heavy\", 'hardcore', 'hardstyle', 'hardtechno', 'hip', 'hip-hop', 'hiphop', 'historisch', 'holiday', 'hop', 'horror', 'house', 'hymn', 'idm', 'independent', 'indian', 'indie', 'indipop', 'industrial', 'inspirational', 'instrumental', 'international', 'irish', 'jam', 'japanese', 'jazz', 'jewish', 'jpop', 'jungle', 'k-pop', 'karadeniz', 'karaoke', 'kayokyoku', 'korean', 'laiko', 'latin', 'latino', 'leftfield', 'local', 'lounge', 'loungeelectronic', 'lovers', 'malaysian', 'mandopop', 'marschmusik', 'meditative', 'mediterranean', 'melodic', 'metal', 'metalcore', 'mexican', 'middle', 'minimal', 'miscellaneous', 'modern', 'mood', 'mpb', 'muslim', 'native', 'neoklassik', 'neue', 'new', 'newage', 'newwave', 'nu', 'nujazz', 'numetal', 'oceania', 'old', 'opera', 'orchestral', 'other', 'piano', 'podcasts', 'pop', 'popdance', 'popelectronic', 'popeurodance', 'poprussian', 'post', 'posthardcore', 'postrock', 'power', 'progmetal', 'progressive', 'psychedelic', 'punjabi', 'punk', 'quebecois', 'ragga', 'ram', 'rancheras', 'rap', 'rave', 'reggae', 'reggaeton', 'regional', 'relax', 'religious', 'retro', 'rhythm', 'rnb', 'rnr', 'rock', 'rockabilly', 'rockalternative', 'rockindie', 'rockother', 'romance', 'roots', 'ruspop', 'rusrap', 'rusrock', 'russian', 'salsa', 'samba', 'scenic', 'schlager', 'self', 'sertanejo', 'shanson', 'shoegazing', 'showtunes', 'singer', 'ska', 'skarock', 'slow', 'smooth', 'soft', 'soul', 'soulful', 'sound', 'soundtrack', 'southern', 'specialty', 'speech', 'spiritual', 'sport', 'stonerrock', 'surf', 'swing', 'synthpop', 'synthrock', 'sängerportrait', 'tango', 'tanzorchester', 'taraftar', 'tatar', 'tech', 'techno', 'teen', 'thrash', 'top', 'traditional', 'tradjazz', 'trance', 'tribal', 'trip', 'triphop', 'tropical', 'türk', 'türkçe', 'ukrrock', 'unknown', 'urban', 'uzbek', 'variété', 'vi', 'videogame', 'vocal', 'western', 'world', 'worldbeat', 'ïîï', 'электроника']\n"
     ]
    }
   ],
   "source": [
    "print(sorted(df['genre'].unique())) # Просмотр уникальных названий жанров"
   ]
  },
  {
   "cell_type": "markdown",
   "metadata": {
    "id": "qej-Qmuo_Zct"
   },
   "source": [
    "Просмотрим список и найдём неявные дубликаты названия `hiphop`. Это могут быть названия с ошибками или альтернативные названия того же жанра.\n",
    "\n",
    "Мы увидим следующие неявные дубликаты:\n",
    "* *hip*,\n",
    "* *hop*,\n",
    "* *hip-hop*.\n",
    "\n",
    "Также переименуем название на кириллице:\n",
    "* *электроника* -> *electronic*\n",
    "\n",
    "Чтобы очистить от них таблицу, напишем функцию `replace_wrong_genres()` с двумя параметрами: \n",
    "* `wrong_genres` — список дубликатов,\n",
    "* `correct_genre` — строка с правильным значением.\n",
    "\n",
    "Функция должна исправить колонку `genre` в таблице `df`: заменить каждое значение из списка `wrong_genres` на значение из `correct_genre`."
   ]
  },
  {
   "cell_type": "code",
   "execution_count": 15,
   "metadata": {
    "id": "ErNDkmns_Zct"
   },
   "outputs": [],
   "source": [
    "def replace_wrong_genres(wrong_genres, correct_genre): # Функция для замены неявных дубликатов\n",
    "    for wrong_genre in wrong_genres:\n",
    "        df['genre'] = df['genre'].replace(wrong_genre, correct_genre)"
   ]
  },
  {
   "cell_type": "markdown",
   "metadata": {
    "id": "aDoBJxbA_Zct"
   },
   "source": [
    "Вызываем `replace_wrong_genres()` и передаём ей такие аргументы, чтобы она устранила неявные дубликаты: вместо `hip`, `hop` и `hip-hop` в таблице должно быть значение `hiphop`:"
   ]
  },
  {
   "cell_type": "code",
   "execution_count": 16,
   "metadata": {
    "id": "YN5i2hpmSo09"
   },
   "outputs": [],
   "source": [
    "duplicates = ['hip', 'hop', 'hip-hop'] # Устранение неявных дубликатов\n",
    "replace_wrong_genres(duplicates, 'hiphop')\n",
    "replace_wrong_genres('электроника', 'electronic')"
   ]
  },
  {
   "cell_type": "markdown",
   "metadata": {
    "id": "zQKF16_RG15m"
   },
   "source": [
    "Проверяем, что заменили неправильные названия:\n",
    "\n",
    "*   hip\n",
    "*   hop\n",
    "*   hip-hop\n",
    "*   электроника\n",
    "\n",
    "Выводим отсортированный список уникальных значений столбца `genre`:"
   ]
  },
  {
   "cell_type": "code",
   "execution_count": 17,
   "metadata": {
    "id": "wvixALnFG15m"
   },
   "outputs": [
    {
     "name": "stdout",
     "output_type": "stream",
     "text": [
      "['acid', 'acoustic', 'action', 'adult', 'africa', 'afrikaans', 'alternative', 'alternativepunk', 'ambient', 'americana', 'animated', 'anime', 'arabesk', 'arabic', 'arena', 'argentinetango', 'art', 'audiobook', 'author', 'avantgarde', 'axé', 'baile', 'balkan', 'beats', 'bigroom', 'black', 'bluegrass', 'blues', 'bollywood', 'bossa', 'brazilian', 'breakbeat', 'breaks', 'broadway', 'cantautori', 'cantopop', 'canzone', 'caribbean', 'caucasian', 'celtic', 'chamber', 'chanson', 'children', 'chill', 'chinese', 'choral', 'christian', 'christmas', 'classical', 'classicmetal', 'club', 'colombian', 'comedy', 'conjazz', 'contemporary', 'country', 'cuban', 'dance', 'dancehall', 'dancepop', 'dark', 'death', 'deep', 'deutschrock', 'deutschspr', 'dirty', 'disco', 'dnb', 'documentary', 'downbeat', 'downtempo', 'drum', 'dub', 'dubstep', 'eastern', 'easy', 'electronic', 'electropop', 'emo', 'entehno', 'epicmetal', 'estrada', 'ethnic', 'eurofolk', 'european', 'experimental', 'extrememetal', 'fado', 'fairytail', 'film', 'fitness', 'flamenco', 'folk', 'folklore', 'folkmetal', 'folkrock', 'folktronica', 'forró', 'frankreich', 'französisch', 'french', 'funk', 'future', 'gangsta', 'garage', 'german', 'ghazal', 'gitarre', 'glitch', 'gospel', 'gothic', 'grime', 'grunge', 'gypsy', 'handsup', \"hard'n'heavy\", 'hardcore', 'hardstyle', 'hardtechno', 'hiphop', 'historisch', 'holiday', 'horror', 'house', 'hymn', 'idm', 'independent', 'indian', 'indie', 'indipop', 'industrial', 'inspirational', 'instrumental', 'international', 'irish', 'jam', 'japanese', 'jazz', 'jewish', 'jpop', 'jungle', 'k-pop', 'karadeniz', 'karaoke', 'kayokyoku', 'korean', 'laiko', 'latin', 'latino', 'leftfield', 'local', 'lounge', 'loungeelectronic', 'lovers', 'malaysian', 'mandopop', 'marschmusik', 'meditative', 'mediterranean', 'melodic', 'metal', 'metalcore', 'mexican', 'middle', 'minimal', 'miscellaneous', 'modern', 'mood', 'mpb', 'muslim', 'native', 'neoklassik', 'neue', 'new', 'newage', 'newwave', 'nu', 'nujazz', 'numetal', 'oceania', 'old', 'opera', 'orchestral', 'other', 'piano', 'podcasts', 'pop', 'popdance', 'popelectronic', 'popeurodance', 'poprussian', 'post', 'posthardcore', 'postrock', 'power', 'progmetal', 'progressive', 'psychedelic', 'punjabi', 'punk', 'quebecois', 'ragga', 'ram', 'rancheras', 'rap', 'rave', 'reggae', 'reggaeton', 'regional', 'relax', 'religious', 'retro', 'rhythm', 'rnb', 'rnr', 'rock', 'rockabilly', 'rockalternative', 'rockindie', 'rockother', 'romance', 'roots', 'ruspop', 'rusrap', 'rusrock', 'russian', 'salsa', 'samba', 'scenic', 'schlager', 'self', 'sertanejo', 'shanson', 'shoegazing', 'showtunes', 'singer', 'ska', 'skarock', 'slow', 'smooth', 'soft', 'soul', 'soulful', 'sound', 'soundtrack', 'southern', 'specialty', 'speech', 'spiritual', 'sport', 'stonerrock', 'surf', 'swing', 'synthpop', 'synthrock', 'sängerportrait', 'tango', 'tanzorchester', 'taraftar', 'tatar', 'tech', 'techno', 'teen', 'thrash', 'top', 'traditional', 'tradjazz', 'trance', 'tribal', 'trip', 'triphop', 'tropical', 'türk', 'türkçe', 'ukrrock', 'unknown', 'urban', 'uzbek', 'variété', 'vi', 'videogame', 'vocal', 'western', 'world', 'worldbeat', 'ïîï', 'электроника']\n"
     ]
    }
   ],
   "source": [
    "print(sorted(df['genre'].unique())) # Проверка на неявные дубликаты"
   ]
  },
  {
   "cell_type": "markdown",
   "metadata": {
    "id": "jz6a9-7HQUDd"
   },
   "source": [
    "**Выводы**\n",
    "\n",
    "Предобработка обнаружила три проблемы в данных:\n",
    "\n",
    "- нарушения в стиле заголовков,\n",
    "- пропущенные значения,\n",
    "- дубликаты — явные и неявные.\n",
    "\n",
    "Мы исправили заголовки, чтобы упростить работу с таблицей. Без дубликатов исследование станет более точным.\n",
    "\n",
    "Пропущенные значения мы заменили на `'unknown'`. Ещё предстоит увидеть, не повредят ли исследованию пропуски в колонке `genre`.\n",
    "\n",
    "Теперь можно перейти к проверке гипотез. "
   ]
  },
  {
   "cell_type": "markdown",
   "metadata": {
    "id": "WttZHXH0SqKk"
   },
   "source": [
    "## Проверка гипотез"
   ]
  },
  {
   "cell_type": "markdown",
   "metadata": {
    "id": "Im936VVi_Zcu"
   },
   "source": [
    "### Сравнение поведения пользователей двух столиц"
   ]
  },
  {
   "cell_type": "markdown",
   "metadata": {
    "id": "nwt_MuaL_Zcu"
   },
   "source": [
    "Первая гипотеза утверждает, что пользователи по-разному слушают музыку в Москве и Санкт-Петербурге. Проверим это предположение по данным о трёх днях недели — понедельнике, среде и пятнице. Для этого:\n",
    "\n",
    "* Разделим пользователей Москвы и Санкт-Петербурга\n",
    "* Сравним, сколько треков послушала каждая группа пользователей в понедельник, среду и пятницу.\n"
   ]
  },
  {
   "cell_type": "markdown",
   "metadata": {
    "id": "8Dw_YMmT_Zcu"
   },
   "source": [
    "Для тренировки сначала выполним каждый из расчётов по отдельности. \n",
    "\n",
    "Оценим активность пользователей в каждом городе. Сгруппируем данные по городу и посчитаем прослушивания в каждой группе.\n",
    "\n"
   ]
  },
  {
   "cell_type": "code",
   "execution_count": 18,
   "metadata": {
    "id": "0_Qs96oh_Zcu"
   },
   "outputs": [
    {
     "data": {
      "text/plain": [
       "city\n",
       "Moscow              42741\n",
       "Saint-Petersburg    18512\n",
       "Name: user_id, dtype: int64"
      ]
     },
     "execution_count": 18,
     "metadata": {},
     "output_type": "execute_result"
    }
   ],
   "source": [
    "df.groupby('city')['user_id'].count() # Подсчёт прослушиваний в каждом городе"
   ]
  },
  {
   "cell_type": "markdown",
   "metadata": {
    "id": "dzli3w8o_Zcu"
   },
   "source": [
    "В Москве прослушиваний больше, чем в Петербурге. Из этого не следует, что московские пользователи чаще слушают музыку. Просто самих пользователей в Москве больше.\n",
    "\n",
    "Теперь сгруппируем данные по дню недели и подсчитаем прослушивания в понедельник, среду и пятницу. Учтём, что в данных есть информация только о прослушиваниях только за эти дни.\n"
   ]
  },
  {
   "cell_type": "code",
   "execution_count": 19,
   "metadata": {
    "id": "uZMKjiJz_Zcu"
   },
   "outputs": [
    {
     "data": {
      "text/plain": [
       "day\n",
       "Friday       21840\n",
       "Monday       21354\n",
       "Wednesday    18059\n",
       "Name: user_id, dtype: int64"
      ]
     },
     "execution_count": 19,
     "metadata": {},
     "output_type": "execute_result"
    }
   ],
   "source": [
    "df.groupby('day')['user_id'].count() # Подсчёт прослушиваний в каждый из трёх дней"
   ]
  },
  {
   "cell_type": "markdown",
   "metadata": {
    "id": "cC2tNrlL_Zcu"
   },
   "source": [
    "В среднем пользователи из двух городов менее активны по средам. Но картина может измениться, если рассмотрим каждый город в отдельности."
   ]
  },
  {
   "cell_type": "markdown",
   "metadata": {
    "id": "POzs8bGa_Zcu"
   },
   "source": [
    "Мы увидели, как работает группировка по городу и по дням недели. Теперь напишем функцию, которая объединит два эти расчёта.\n",
    "\n",
    "Создадим функцию `number_tracks()`, которая посчитает прослушивания для заданного дня и города. Ей понадобятся два параметра:\n",
    "* день недели,\n",
    "* название города.\n",
    "\n",
    "В функции сохраним в переменную строки исходной таблицы, у которых значение:\n",
    "  * в колонке `day` равно параметру `day`,\n",
    "  * в колонке `city` равно параметру `city`.\n",
    "\n",
    "Для этого применим последовательную фильтрацию с логической индексацией.\n",
    "\n",
    "Затем посчитаем значения в столбце `user_id` получившейся таблицы. Результат сохраним в новую переменную. Вернём эту переменную из функции."
   ]
  },
  {
   "cell_type": "code",
   "execution_count": 20,
   "metadata": {
    "id": "Nz3GdQB1_Zcu"
   },
   "outputs": [],
   "source": [
    "# <создание функции number_tracks()>\n",
    "\n",
    "def number_tracks(day, city): # Объявляется функция с двумя параметрами: day, city.\n",
    "    track_list = df[df['day'] == day] # Последовательно фильтруется с помощиью логической индексации\n",
    "    track_list = track_list[track_list['city'] == city]\n",
    "    track_list_count = track_list['user_id'].count()\n",
    "    return track_list_count # Функция возвращает общее число пользователей отвечающих кретериям отбора\n",
    "\n",
    "# Функция для подсчёта прослушиваний для конкретного города и дня.\n",
    "# С помощью последовательной фильтрации с логической индексацией она \n",
    "# сначала получит из исходной таблицы строки с нужным днём,\n",
    "# затем из результата отфильтрует строки с нужным городом,\n",
    "# методом count() посчитает количество значений в колонке user_id. \n",
    "# Это количество функция вернёт в качестве результата"
   ]
  },
  {
   "cell_type": "markdown",
   "metadata": {
    "id": "ytf7xFrFJQ2r"
   },
   "source": [
    "Вызовем `number_tracks()` шесть раз, меняя значение параметров — так, чтобы получить данные для каждого города в каждый из трёх дней."
   ]
  },
  {
   "cell_type": "code",
   "execution_count": 21,
   "metadata": {
    "id": "rJcRATNQ_Zcu"
   },
   "outputs": [
    {
     "data": {
      "text/plain": [
       "15740"
      ]
     },
     "execution_count": 21,
     "metadata": {},
     "output_type": "execute_result"
    }
   ],
   "source": [
    "number_tracks('Monday', 'Moscow') # количество прослушиваний в Москве по понедельникам"
   ]
  },
  {
   "cell_type": "code",
   "execution_count": 22,
   "metadata": {
    "id": "hq_ncZ5T_Zcu"
   },
   "outputs": [
    {
     "data": {
      "text/plain": [
       "5614"
      ]
     },
     "execution_count": 22,
     "metadata": {},
     "output_type": "execute_result"
    }
   ],
   "source": [
    "number_tracks('Monday', 'Saint-Petersburg') # количество прослушиваний в Санкт-Петербурге по понедельникам"
   ]
  },
  {
   "cell_type": "code",
   "execution_count": 23,
   "metadata": {
    "id": "_NTy2VPU_Zcu"
   },
   "outputs": [
    {
     "data": {
      "text/plain": [
       "11056"
      ]
     },
     "execution_count": 23,
     "metadata": {},
     "output_type": "execute_result"
    }
   ],
   "source": [
    "number_tracks('Wednesday', 'Moscow') # количество прослушиваний в Москве по средам"
   ]
  },
  {
   "cell_type": "code",
   "execution_count": 24,
   "metadata": {
    "id": "j2y3TAwo_Zcu"
   },
   "outputs": [
    {
     "data": {
      "text/plain": [
       "7003"
      ]
     },
     "execution_count": 24,
     "metadata": {},
     "output_type": "execute_result"
    }
   ],
   "source": [
    "number_tracks('Wednesday', 'Saint-Petersburg') # количество прослушиваний в Санкт-Петербурге по средам"
   ]
  },
  {
   "cell_type": "code",
   "execution_count": 25,
   "metadata": {
    "id": "vYDw5u_K_Zcu"
   },
   "outputs": [
    {
     "data": {
      "text/plain": [
       "15945"
      ]
     },
     "execution_count": 25,
     "metadata": {},
     "output_type": "execute_result"
    }
   ],
   "source": [
    "number_tracks('Friday', 'Moscow') # количество прослушиваний в Москве по пятницам"
   ]
  },
  {
   "cell_type": "code",
   "execution_count": 26,
   "metadata": {
    "id": "8_yzFtW3_Zcu"
   },
   "outputs": [
    {
     "data": {
      "text/plain": [
       "5895"
      ]
     },
     "execution_count": 26,
     "metadata": {},
     "output_type": "execute_result"
    }
   ],
   "source": [
    "number_tracks('Friday', 'Saint-Petersburg') # количество прослушиваний в Санкт-Петербурге по пятницам"
   ]
  },
  {
   "cell_type": "markdown",
   "metadata": {
    "id": "7QXffbO-_Zcu"
   },
   "source": [
    "Создаём c помощью конструктора `pd.DataFrame` таблицу, где\n",
    "* названия колонок — `['city', 'monday', 'wednesday', 'friday']`;\n",
    "* данные — результаты, которые мы получили с помощью `number_tracks`."
   ]
  },
  {
   "cell_type": "code",
   "execution_count": 27,
   "metadata": {
    "id": "APAcLpOr_Zcu"
   },
   "outputs": [
    {
     "data": {
      "text/html": [
       "<div>\n",
       "<style scoped>\n",
       "    .dataframe tbody tr th:only-of-type {\n",
       "        vertical-align: middle;\n",
       "    }\n",
       "\n",
       "    .dataframe tbody tr th {\n",
       "        vertical-align: top;\n",
       "    }\n",
       "\n",
       "    .dataframe thead th {\n",
       "        text-align: right;\n",
       "    }\n",
       "</style>\n",
       "<table border=\"1\" class=\"dataframe\">\n",
       "  <thead>\n",
       "    <tr style=\"text-align: right;\">\n",
       "      <th></th>\n",
       "      <th>city</th>\n",
       "      <th>monday</th>\n",
       "      <th>wednesday</th>\n",
       "      <th>friday</th>\n",
       "    </tr>\n",
       "  </thead>\n",
       "  <tbody>\n",
       "    <tr>\n",
       "      <th>0</th>\n",
       "      <td>Moscow</td>\n",
       "      <td>15740</td>\n",
       "      <td>11056</td>\n",
       "      <td>15945</td>\n",
       "    </tr>\n",
       "    <tr>\n",
       "      <th>1</th>\n",
       "      <td>Saint-Petersburg</td>\n",
       "      <td>5614</td>\n",
       "      <td>7003</td>\n",
       "      <td>5895</td>\n",
       "    </tr>\n",
       "  </tbody>\n",
       "</table>\n",
       "</div>"
      ],
      "text/plain": [
       "               city  monday  wednesday  friday\n",
       "0            Moscow   15740      11056   15945\n",
       "1  Saint-Petersburg    5614       7003    5895"
      ]
     },
     "metadata": {},
     "output_type": "display_data"
    }
   ],
   "source": [
    "columns = ['city', 'monday', 'wednesday', 'friday'] # Таблица с результатами\n",
    "track_numbers = [\n",
    "    ['Moscow', 15740, 11056, 15945],\n",
    "    ['Saint-Petersburg', 5614, 7003, 5895]\n",
    "]\n",
    "display(pd.DataFrame(data = track_numbers, columns = columns))"
   ]
  },
  {
   "cell_type": "markdown",
   "metadata": {
    "id": "-EgPIHYu_Zcu"
   },
   "source": [
    "**Выводы**\n",
    "\n",
    "Данные показывают разницу поведения пользователей:\n",
    "\n",
    "- В Москве пик прослушиваний приходится на понедельник и пятницу, а в среду заметен спад.\n",
    "- В Петербурге, наоборот, больше слушают музыку по средам. Активность в понедельник и пятницу здесь почти в равной мере уступает среде.\n",
    "\n",
    "Значит, данные говорят в пользу первой гипотезы."
   ]
  },
  {
   "cell_type": "markdown",
   "metadata": {
    "id": "atZAxtq4_Zcu"
   },
   "source": [
    "### Музыка в начале и в конце недели"
   ]
  },
  {
   "cell_type": "markdown",
   "metadata": {
    "id": "eXrQqXFH_Zcu"
   },
   "source": [
    "Согласно второй гипотезе, утром в понедельник в Москве преобладают одни жанры, а в Петербурге — другие. Так же и вечером пятницы преобладают разные жанры — в зависимости от города."
   ]
  },
  {
   "cell_type": "markdown",
   "metadata": {
    "id": "S8UcW6Hw_Zcu"
   },
   "source": [
    "Сохраним таблицы с данными в две переменные:\n",
    "* по Москве — в `moscow_general`;\n",
    "* по Санкт-Петербургу — в `spb_general`."
   ]
  },
  {
   "cell_type": "code",
   "execution_count": 28,
   "metadata": {
    "id": "qeaFfM_P_Zcu"
   },
   "outputs": [],
   "source": [
    "moscow_general = df[df['city'] == 'Moscow'] # получение таблицы moscow_general из тех строк таблицы df, \n",
    "# для которых значение в столбце 'city' равно 'Moscow'\n"
   ]
  },
  {
   "cell_type": "code",
   "execution_count": 29,
   "metadata": {
    "id": "ORaVRKto_Zcu"
   },
   "outputs": [],
   "source": [
    "spb_general = df[df['city'] == 'Saint-Petersburg'] # получение таблицы spb_general из тех строк таблицы df,\n",
    "# для которых значение в столбце 'city' равно 'Saint-Petersburg'\n"
   ]
  },
  {
   "cell_type": "markdown",
   "metadata": {
    "id": "MEJV-CX2_Zcu"
   },
   "source": [
    "Создадим функцию `genre_weekday()` с четырьмя параметрами:\n",
    "* таблица (датафрейм) с данными,\n",
    "* день недели,\n",
    "* начальная временная метка в формате 'hh:mm', \n",
    "* последняя временная метка в формате 'hh:mm'.\n",
    "\n",
    "Функция должна вернуть информацию о топ-10 жанров тех треков, которые прослушивали в указанный день, в промежутке между двумя отметками времени."
   ]
  },
  {
   "cell_type": "code",
   "execution_count": 30,
   "metadata": {
    "id": "laJT9BYl_Zcu"
   },
   "outputs": [],
   "source": [
    "def genre_weekday(table, day, time1, time2): # Объявление функции genre_weekday() с параметрами table, day, time1, time2,\n",
    "# которая возвращает информацию о самых популярных жанрах в указанный день в\n",
    "# заданное время. Используем последовательную фильтрацию:\n",
    "    genre_df = table[table['day'] == day] # значения в столбце day равны значению аргумента day\n",
    "    genre_df = genre_df[genre_df['time'] > time1] # значения в столбце time больше значения аргумента time1\n",
    "    genre_df = genre_df[genre_df['time'] < time2] # значения в столбце time меньше значения аргумента time2\n",
    "# 2) сгруппируем датафрейм genre_df по столбцу genre, возьмём один из его\n",
    "#    столбцов и посчитаем методом count() количество записей для каждого из\n",
    "#    присутствующих жанров, получившийся Series запишем в переменную\n",
    "#    genre_df_count\n",
    "    genre_df_count = genre_df.groupby('genre')['user_id'].count()\n",
    "# 3) отсортируем genre_df_count по убыванию встречаемости и сохраняем\n",
    "#    в переменную genre_df_sorted\n",
    "    genre_df_sorted = genre_df_count.sort_values(ascending = False)\n",
    "# 4) возвращаем Series из 10 первых значений genre_df_sorted, это будут топ-10\n",
    "#    популярных жанров (в указанный день, в заданное время)\n",
    "    return genre_df_sorted[:10]"
   ]
  },
  {
   "cell_type": "markdown",
   "metadata": {
    "id": "la2s2_PF_Zcu"
   },
   "source": [
    "Cравниваем результаты функции `genre_weekday()` для Москвы и Санкт-Петербурга в понедельник утром (с 7:00 до 11:00) и в пятницу вечером (с 17:00 до 23:00):"
   ]
  },
  {
   "cell_type": "code",
   "execution_count": 31,
   "metadata": {
    "id": "yz7itPUQ_Zcu"
   },
   "outputs": [
    {
     "data": {
      "text/plain": [
       "genre\n",
       "pop            781\n",
       "dance          549\n",
       "electronic     480\n",
       "rock           474\n",
       "hiphop         286\n",
       "ruspop         186\n",
       "world          181\n",
       "rusrap         175\n",
       "alternative    164\n",
       "unknown        161\n",
       "Name: user_id, dtype: int64"
      ]
     },
     "execution_count": 31,
     "metadata": {},
     "output_type": "execute_result"
    }
   ],
   "source": [
    "genre_weekday(moscow_general, 'Monday', '07:00', '11:00') # вызов функции для утра понедельника в Москве"
   ]
  },
  {
   "cell_type": "code",
   "execution_count": 32,
   "metadata": {
    "id": "kwUcHPdy_Zcu"
   },
   "outputs": [
    {
     "data": {
      "text/plain": [
       "genre\n",
       "pop            218\n",
       "dance          182\n",
       "rock           162\n",
       "electronic     147\n",
       "hiphop          80\n",
       "ruspop          64\n",
       "alternative     58\n",
       "rusrap          55\n",
       "jazz            44\n",
       "classical       40\n",
       "Name: user_id, dtype: int64"
      ]
     },
     "execution_count": 32,
     "metadata": {},
     "output_type": "execute_result"
    }
   ],
   "source": [
    "genre_weekday(spb_general, 'Monday', '07:00', '11:00') # вызов функции для утра понедельника в Петербурге"
   ]
  },
  {
   "cell_type": "code",
   "execution_count": 33,
   "metadata": {
    "id": "EzXVRE1o_Zcu"
   },
   "outputs": [
    {
     "data": {
      "text/plain": [
       "genre\n",
       "pop            713\n",
       "rock           517\n",
       "dance          495\n",
       "electronic     482\n",
       "hiphop         273\n",
       "world          208\n",
       "ruspop         170\n",
       "alternative    163\n",
       "classical      163\n",
       "rusrap         142\n",
       "Name: user_id, dtype: int64"
      ]
     },
     "execution_count": 33,
     "metadata": {},
     "output_type": "execute_result"
    }
   ],
   "source": [
    "genre_weekday(moscow_general, 'Friday', '17:00', '23:00') # вызов функции для вечера пятницы в Москве"
   ]
  },
  {
   "cell_type": "code",
   "execution_count": 34,
   "metadata": {
    "id": "JZaEKu5v_Zcu"
   },
   "outputs": [
    {
     "data": {
      "text/plain": [
       "genre\n",
       "pop            256\n",
       "electronic     216\n",
       "rock           216\n",
       "dance          210\n",
       "hiphop          97\n",
       "alternative     63\n",
       "jazz            61\n",
       "classical       60\n",
       "rusrap          59\n",
       "world           54\n",
       "Name: user_id, dtype: int64"
      ]
     },
     "execution_count": 34,
     "metadata": {},
     "output_type": "execute_result"
    }
   ],
   "source": [
    "genre_weekday(spb_general, 'Friday', '17:00', '23:00') # вызов функции для вечера пятницы в Петербурге"
   ]
  },
  {
   "cell_type": "markdown",
   "metadata": {
    "id": "wrCe4MNX_Zcu"
   },
   "source": [
    "**Выводы**\n",
    "\n",
    "Если сравнить топ-10 жанров в понедельник утром, можно сделать такие выводы:\n",
    "\n",
    "1. В Москве и Петербурге слушают похожую музыку. Единственное отличие — в московский рейтинг вошёл жанр “world”, а в петербургский — джаз и классика.\n",
    "\n",
    "2. В Москве пропущенных значений оказалось так много, что значение `'unknown'` заняло десятое место среди самых популярных жанров. Значит, пропущенные значения занимают существенную долю в данных и угрожают достоверности исследования.\n",
    "\n",
    "Вечер пятницы не меняет эту картину. Некоторые жанры поднимаются немного выше, другие спускаются, но в целом топ-10 остаётся тем же самым.\n",
    "\n",
    "Таким образом, вторая гипотеза подтвердилась лишь частично:\n",
    "* Пользователи слушают похожую музыку в начале недели и в конце.\n",
    "* Разница между Москвой и Петербургом не слишком выражена. В Москве чаще слушают русскую популярную музыку, в Петербурге — джаз.\n",
    "\n",
    "Однако пропуски в данных ставят под сомнение этот результат. В Москве их так много, что рейтинг топ-10 мог бы выглядеть иначе, если бы не утерянные  данные о жанрах."
   ]
  },
  {
   "cell_type": "markdown",
   "metadata": {
    "id": "JolODAqr_Zcu"
   },
   "source": [
    "### Жанровые предпочтения в Москве и Петербурге\n",
    "\n",
    "Гипотеза: Петербург — столица рэпа, музыку этого жанра там слушают чаще, чем в Москве.  А Москва — город контрастов, в котором, тем не менее, преобладает поп-музыка."
   ]
  },
  {
   "cell_type": "markdown",
   "metadata": {
    "id": "DlegSvaT_Zcu"
   },
   "source": [
    "Сгруппируем таблицу `moscow_general` по жанру и посчитаем прослушивания треков каждого жанра методом `count()`. Затем отсортируем результат в порядке убывания и сохраним его в таблице `moscow_genres`."
   ]
  },
  {
   "cell_type": "code",
   "execution_count": 35,
   "metadata": {
    "id": "r19lIPke_Zcu"
   },
   "outputs": [],
   "source": [
    "moscow_genres = moscow_general.groupby('genre')['genre'].count().sort_values(ascending = False)\n",
    "# одной строкой: группировка таблицы moscow_general по столбцу 'genre', \n",
    "# подсчёт числа значений 'genre' в этой группировке методом count(), \n",
    "# сортировка получившегося Series в порядке убывания и сохранение в moscow_genres"
   ]
  },
  {
   "cell_type": "markdown",
   "metadata": {
    "id": "6kMuomxTiIr8"
   },
   "source": [
    "Выводим на экран первые десять строк `moscow_genres`:"
   ]
  },
  {
   "cell_type": "code",
   "execution_count": 36,
   "metadata": {
    "id": "WhCSooF8_Zcv"
   },
   "outputs": [
    {
     "data": {
      "text/plain": [
       "genre\n",
       "pop            5892\n",
       "dance          4435\n",
       "rock           3965\n",
       "electronic     3786\n",
       "hiphop         2096\n",
       "classical      1616\n",
       "world          1432\n",
       "alternative    1379\n",
       "ruspop         1372\n",
       "rusrap         1161\n",
       "Name: genre, dtype: int64"
      ]
     },
     "execution_count": 36,
     "metadata": {},
     "output_type": "execute_result"
    }
   ],
   "source": [
    "moscow_genres.head(10) # просмотр первых 10 строк moscow_genres"
   ]
  },
  {
   "cell_type": "markdown",
   "metadata": {
    "id": "cnPG2vnN_Zcv"
   },
   "source": [
    "Теперь повторим то же и для Петербурга.\n",
    "\n",
    "Сгруппируем таблицу `spb_general` по жанру. Посчитаем прослушивания треков каждого жанра. Результат отсортируем в порядке убывания и сохраним в таблице `spb_genres`:\n"
   ]
  },
  {
   "cell_type": "code",
   "execution_count": 37,
   "metadata": {
    "id": "gluLIpE7_Zcv"
   },
   "outputs": [],
   "source": [
    "spb_genres = spb_general.groupby('genre')['genre'].count().sort_values(ascending = False)\n",
    "# одной строкой: группировка таблицы spb_general по столбцу 'genre', \n",
    "# подсчёт числа значений 'genre' в этой группировке методом count(), \n",
    "# сортировка получившегося Series в порядке убывания и сохранение в spb_genres"
   ]
  },
  {
   "cell_type": "markdown",
   "metadata": {
    "id": "5Doha_ODgyQ8"
   },
   "source": [
    "Выводим на экран первые десять строк `spb_genres`:"
   ]
  },
  {
   "cell_type": "code",
   "execution_count": 38,
   "metadata": {
    "id": "uaGJHjVU_Zcv"
   },
   "outputs": [
    {
     "data": {
      "text/plain": [
       "genre\n",
       "pop            2431\n",
       "dance          1932\n",
       "rock           1879\n",
       "electronic     1736\n",
       "hiphop          960\n",
       "alternative     649\n",
       "classical       646\n",
       "rusrap          564\n",
       "ruspop          538\n",
       "world           515\n",
       "Name: genre, dtype: int64"
      ]
     },
     "execution_count": 38,
     "metadata": {},
     "output_type": "execute_result"
    }
   ],
   "source": [
    "spb_genres.head(10) # просмотр первых 10 строк spb_genres"
   ]
  },
  {
   "cell_type": "markdown",
   "metadata": {
    "id": "RY51YJYu_Zcv"
   },
   "source": [
    "**Выводы**"
   ]
  },
  {
   "cell_type": "markdown",
   "metadata": {
    "id": "nVhnJEm__Zcv"
   },
   "source": [
    "Гипотеза частично подтвердилась:\n",
    "* Поп-музыка — самый популярный жанр в Москве, как и предполагала гипотеза. Более того, в топ-10 жанров встречается близкий жанр — русская популярная музыка.\n",
    "* Вопреки ожиданиям, рэп примерно одинаково популярен в Москве и Петербурге. \n"
   ]
  },
  {
   "cell_type": "markdown",
   "metadata": {
    "id": "ykKQ0N65_Zcv"
   },
   "source": [
    "## Итоги исследования"
   ]
  },
  {
   "cell_type": "markdown",
   "metadata": {
    "id": "tjUwbHb3_Zcv"
   },
   "source": [
    "Мы проверили три гипотезы и установили:\n",
    "\n",
    "1. День недели по-разному влияет на активность пользователей в Москве и Петербурге. \n",
    "\n",
    "Первая гипотеза полностью подтвердилась.\n",
    "\n",
    "2. Музыкальные предпочтения не сильно меняются в течение недели — будь то Москва или Петербург. Небольшие различия заметны в начале недели, по понедельникам:\n",
    "* в Москве слушают музыку жанра “world”,\n",
    "* в Петербурге — джаз и классику.\n",
    "\n",
    "Таким образом, вторая гипотеза подтвердилась лишь отчасти. Этот результат мог оказаться иным, если бы не пропуски в данных.\n",
    "\n",
    "3. Во вкусах пользователей Москвы и Петербурга больше общего чем различий. Вопреки ожиданиям, топ-5 жанров полностью совпадают в обеих столицах.\n",
    "\n",
    "Третья гипотеза не подтвердилась. Если различия в предпочтениях и существуют, на основной массе пользователей они незаметны."
   ]
  }
 ],
 "metadata": {
  "ExecuteTimeLog": [
   {
    "duration": 706,
    "start_time": "2021-11-25T16:38:45.571Z"
   },
   {
    "duration": 189,
    "start_time": "2021-11-25T16:39:39.830Z"
   },
   {
    "duration": 4,
    "start_time": "2021-11-25T16:40:03.113Z"
   },
   {
    "duration": 226,
    "start_time": "2021-11-25T16:40:05.813Z"
   },
   {
    "duration": 196,
    "start_time": "2021-11-25T16:40:32.806Z"
   },
   {
    "duration": 16,
    "start_time": "2021-11-25T16:40:58.805Z"
   },
   {
    "duration": 11,
    "start_time": "2021-11-25T16:43:52.437Z"
   },
   {
    "duration": 12,
    "start_time": "2021-11-25T16:44:04.454Z"
   },
   {
    "duration": 12,
    "start_time": "2021-11-25T16:44:12.973Z"
   },
   {
    "duration": 12,
    "start_time": "2021-11-25T16:44:40.518Z"
   },
   {
    "duration": 372,
    "start_time": "2021-11-25T16:44:49.110Z"
   },
   {
    "duration": 13,
    "start_time": "2021-11-25T16:46:44.935Z"
   },
   {
    "duration": 11,
    "start_time": "2021-11-25T16:47:00.863Z"
   },
   {
    "duration": 758,
    "start_time": "2021-11-25T16:47:44.391Z"
   },
   {
    "duration": 181,
    "start_time": "2021-11-25T16:47:45.152Z"
   },
   {
    "duration": 25,
    "start_time": "2021-11-25T16:47:45.336Z"
   },
   {
    "duration": 11,
    "start_time": "2021-11-25T16:47:45.363Z"
   },
   {
    "duration": 4,
    "start_time": "2021-11-25T16:47:45.377Z"
   },
   {
    "duration": 4,
    "start_time": "2021-11-25T16:47:45.383Z"
   },
   {
    "duration": 46,
    "start_time": "2021-11-25T16:47:45.390Z"
   },
   {
    "duration": 6,
    "start_time": "2021-11-25T16:47:45.439Z"
   },
   {
    "duration": 5,
    "start_time": "2021-11-25T16:47:45.449Z"
   },
   {
    "duration": 5,
    "start_time": "2021-11-25T16:47:45.457Z"
   },
   {
    "duration": 11,
    "start_time": "2021-11-25T16:47:45.464Z"
   },
   {
    "duration": 6,
    "start_time": "2021-11-25T16:47:45.478Z"
   },
   {
    "duration": 5,
    "start_time": "2021-11-25T16:47:45.486Z"
   },
   {
    "duration": 36,
    "start_time": "2021-11-25T16:47:45.493Z"
   },
   {
    "duration": 11,
    "start_time": "2021-11-25T16:47:45.531Z"
   },
   {
    "duration": 6,
    "start_time": "2021-11-25T16:47:45.545Z"
   },
   {
    "duration": 17,
    "start_time": "2021-11-25T16:47:45.553Z"
   },
   {
    "duration": 8,
    "start_time": "2021-11-25T16:47:45.572Z"
   },
   {
    "duration": 6,
    "start_time": "2021-11-25T16:47:45.583Z"
   },
   {
    "duration": 9,
    "start_time": "2021-11-25T16:47:45.591Z"
   },
   {
    "duration": 20,
    "start_time": "2021-11-25T16:47:45.602Z"
   },
   {
    "duration": 9,
    "start_time": "2021-11-25T16:47:45.624Z"
   },
   {
    "duration": 6,
    "start_time": "2021-11-25T16:47:45.635Z"
   },
   {
    "duration": 12,
    "start_time": "2021-11-25T16:47:45.643Z"
   },
   {
    "duration": 7,
    "start_time": "2021-11-25T16:47:45.657Z"
   },
   {
    "duration": 8,
    "start_time": "2021-11-25T16:47:45.666Z"
   },
   {
    "duration": 3,
    "start_time": "2021-11-25T16:47:45.678Z"
   },
   {
    "duration": 5,
    "start_time": "2021-11-25T16:47:45.684Z"
   },
   {
    "duration": 6,
    "start_time": "2021-11-25T16:47:45.691Z"
   },
   {
    "duration": 30,
    "start_time": "2021-11-25T16:47:45.699Z"
   },
   {
    "duration": 10,
    "start_time": "2021-11-25T16:47:45.732Z"
   },
   {
    "duration": 5,
    "start_time": "2021-11-25T16:47:45.744Z"
   },
   {
    "duration": 6,
    "start_time": "2021-11-25T16:47:45.752Z"
   },
   {
    "duration": 4,
    "start_time": "2021-11-25T16:47:45.761Z"
   },
   {
    "duration": 5,
    "start_time": "2021-11-25T16:47:45.768Z"
   },
   {
    "duration": 5,
    "start_time": "2021-11-25T16:47:45.775Z"
   },
   {
    "duration": 46,
    "start_time": "2021-11-25T16:47:45.783Z"
   },
   {
    "duration": 5,
    "start_time": "2021-11-25T16:47:45.831Z"
   },
   {
    "duration": 36,
    "start_time": "2021-11-25T16:48:56.902Z"
   },
   {
    "duration": 12,
    "start_time": "2021-11-25T16:49:02.467Z"
   },
   {
    "duration": 32,
    "start_time": "2021-11-25T16:49:07.044Z"
   },
   {
    "duration": 32,
    "start_time": "2021-11-25T16:49:21.699Z"
   },
   {
    "duration": 335,
    "start_time": "2021-11-25T19:50:41.547Z"
   },
   {
    "duration": 830,
    "start_time": "2021-11-25T19:50:53.927Z"
   },
   {
    "duration": 182,
    "start_time": "2021-11-25T19:50:54.759Z"
   },
   {
    "duration": 25,
    "start_time": "2021-11-25T19:50:54.944Z"
   },
   {
    "duration": 34,
    "start_time": "2021-11-25T19:50:54.971Z"
   },
   {
    "duration": 345,
    "start_time": "2021-11-25T19:50:55.030Z"
   },
   {
    "duration": 6338,
    "start_time": "2021-11-25T19:50:49.041Z"
   },
   {
    "duration": 6335,
    "start_time": "2021-11-25T19:50:49.045Z"
   },
   {
    "duration": 6331,
    "start_time": "2021-11-25T19:50:49.050Z"
   },
   {
    "duration": 6324,
    "start_time": "2021-11-25T19:50:49.059Z"
   },
   {
    "duration": 6321,
    "start_time": "2021-11-25T19:50:49.063Z"
   },
   {
    "duration": 6318,
    "start_time": "2021-11-25T19:50:49.068Z"
   },
   {
    "duration": 6317,
    "start_time": "2021-11-25T19:50:49.070Z"
   },
   {
    "duration": 6315,
    "start_time": "2021-11-25T19:50:49.073Z"
   },
   {
    "duration": 6314,
    "start_time": "2021-11-25T19:50:49.076Z"
   },
   {
    "duration": 6311,
    "start_time": "2021-11-25T19:50:49.080Z"
   },
   {
    "duration": 6308,
    "start_time": "2021-11-25T19:50:49.085Z"
   },
   {
    "duration": 6305,
    "start_time": "2021-11-25T19:50:49.089Z"
   },
   {
    "duration": 6304,
    "start_time": "2021-11-25T19:50:49.091Z"
   },
   {
    "duration": 6304,
    "start_time": "2021-11-25T19:50:49.093Z"
   },
   {
    "duration": 6303,
    "start_time": "2021-11-25T19:50:49.095Z"
   },
   {
    "duration": 6298,
    "start_time": "2021-11-25T19:50:49.101Z"
   },
   {
    "duration": 6297,
    "start_time": "2021-11-25T19:50:49.103Z"
   },
   {
    "duration": 6297,
    "start_time": "2021-11-25T19:50:49.105Z"
   },
   {
    "duration": 6296,
    "start_time": "2021-11-25T19:50:49.107Z"
   },
   {
    "duration": 6296,
    "start_time": "2021-11-25T19:50:49.109Z"
   },
   {
    "duration": 6295,
    "start_time": "2021-11-25T19:50:49.111Z"
   },
   {
    "duration": 6295,
    "start_time": "2021-11-25T19:50:49.113Z"
   },
   {
    "duration": 6291,
    "start_time": "2021-11-25T19:50:49.118Z"
   },
   {
    "duration": 6291,
    "start_time": "2021-11-25T19:50:49.120Z"
   },
   {
    "duration": 6291,
    "start_time": "2021-11-25T19:50:49.121Z"
   },
   {
    "duration": 6289,
    "start_time": "2021-11-25T19:50:49.124Z"
   },
   {
    "duration": 6289,
    "start_time": "2021-11-25T19:50:49.126Z"
   },
   {
    "duration": 6302,
    "start_time": "2021-11-25T19:50:49.127Z"
   },
   {
    "duration": 6295,
    "start_time": "2021-11-25T19:50:49.135Z"
   },
   {
    "duration": 6295,
    "start_time": "2021-11-25T19:50:49.137Z"
   },
   {
    "duration": 6294,
    "start_time": "2021-11-25T19:50:49.139Z"
   },
   {
    "duration": 6292,
    "start_time": "2021-11-25T19:50:49.142Z"
   },
   {
    "duration": 6292,
    "start_time": "2021-11-25T19:50:49.144Z"
   },
   {
    "duration": 258,
    "start_time": "2021-11-25T19:51:47.548Z"
   },
   {
    "duration": 87,
    "start_time": "2021-11-25T19:53:18.213Z"
   },
   {
    "duration": 6,
    "start_time": "2021-11-25T19:53:30.452Z"
   },
   {
    "duration": 29,
    "start_time": "2021-11-25T19:57:22.598Z"
   },
   {
    "duration": 29,
    "start_time": "2021-11-25T19:57:27.185Z"
   },
   {
    "duration": 5,
    "start_time": "2021-11-25T19:57:38.301Z"
   },
   {
    "duration": 33,
    "start_time": "2021-11-25T20:01:36.894Z"
   },
   {
    "duration": 6,
    "start_time": "2021-11-25T20:03:55.017Z"
   },
   {
    "duration": 5,
    "start_time": "2021-11-25T20:04:04.945Z"
   },
   {
    "duration": 16,
    "start_time": "2021-11-25T20:04:17.466Z"
   },
   {
    "duration": 16,
    "start_time": "2021-11-25T20:04:36.602Z"
   },
   {
    "duration": 16,
    "start_time": "2021-11-25T20:04:50.412Z"
   },
   {
    "duration": 27,
    "start_time": "2021-11-25T20:10:16.171Z"
   },
   {
    "duration": 34,
    "start_time": "2021-11-25T20:10:50.700Z"
   },
   {
    "duration": 87,
    "start_time": "2021-11-25T20:11:52.650Z"
   },
   {
    "duration": 101,
    "start_time": "2021-11-25T20:12:53.980Z"
   },
   {
    "duration": 85,
    "start_time": "2021-11-25T20:14:08.667Z"
   },
   {
    "duration": 110,
    "start_time": "2021-11-25T20:15:00.527Z"
   },
   {
    "duration": 83,
    "start_time": "2021-11-25T20:15:04.894Z"
   },
   {
    "duration": 82,
    "start_time": "2021-11-25T20:15:06.837Z"
   },
   {
    "duration": 115,
    "start_time": "2021-11-25T20:15:07.718Z"
   },
   {
    "duration": 76,
    "start_time": "2021-11-25T20:15:08.270Z"
   },
   {
    "duration": 143,
    "start_time": "2021-11-25T20:15:10.840Z"
   },
   {
    "duration": 111,
    "start_time": "2021-11-25T20:15:11.566Z"
   },
   {
    "duration": 95,
    "start_time": "2021-11-25T20:15:14.207Z"
   },
   {
    "duration": 86,
    "start_time": "2021-11-25T20:16:26.310Z"
   },
   {
    "duration": 133,
    "start_time": "2021-11-25T20:16:33.792Z"
   },
   {
    "duration": 79,
    "start_time": "2021-11-25T20:16:39.190Z"
   },
   {
    "duration": 41,
    "start_time": "2021-11-25T20:22:37.736Z"
   },
   {
    "duration": 9,
    "start_time": "2021-11-25T20:23:05.719Z"
   },
   {
    "duration": 21,
    "start_time": "2021-11-25T20:23:35.715Z"
   },
   {
    "duration": 7,
    "start_time": "2021-11-25T20:24:29.906Z"
   },
   {
    "duration": 23,
    "start_time": "2021-11-25T20:25:25.017Z"
   },
   {
    "duration": 19,
    "start_time": "2021-11-25T20:32:45.102Z"
   },
   {
    "duration": 18,
    "start_time": "2021-11-25T20:32:57.887Z"
   },
   {
    "duration": 19,
    "start_time": "2021-11-25T20:33:28.173Z"
   },
   {
    "duration": 25,
    "start_time": "2021-11-25T20:34:53.958Z"
   },
   {
    "duration": 25,
    "start_time": "2021-11-25T20:35:14.705Z"
   },
   {
    "duration": 3,
    "start_time": "2021-11-25T20:37:46.681Z"
   },
   {
    "duration": 142,
    "start_time": "2021-11-25T20:45:04.080Z"
   },
   {
    "duration": 82,
    "start_time": "2021-11-25T20:45:38.626Z"
   },
   {
    "duration": 4,
    "start_time": "2021-11-25T20:45:54.457Z"
   },
   {
    "duration": 515,
    "start_time": "2021-11-25T20:48:31.537Z"
   },
   {
    "duration": 4,
    "start_time": "2021-11-25T20:49:34.586Z"
   },
   {
    "duration": 5,
    "start_time": "2021-11-25T20:49:38.106Z"
   },
   {
    "duration": 22,
    "start_time": "2021-11-25T20:49:43.524Z"
   },
   {
    "duration": 8,
    "start_time": "2021-11-25T20:49:58.958Z"
   },
   {
    "duration": 11,
    "start_time": "2021-11-25T20:51:11.580Z"
   },
   {
    "duration": 763,
    "start_time": "2021-11-27T09:54:33.677Z"
   },
   {
    "duration": 177,
    "start_time": "2021-11-27T09:54:34.443Z"
   },
   {
    "duration": 36,
    "start_time": "2021-11-27T09:54:34.623Z"
   },
   {
    "duration": 32,
    "start_time": "2021-11-27T09:54:34.663Z"
   },
   {
    "duration": 5,
    "start_time": "2021-11-27T09:54:34.698Z"
   },
   {
    "duration": 54,
    "start_time": "2021-11-27T09:54:34.705Z"
   },
   {
    "duration": 6,
    "start_time": "2021-11-27T09:54:34.762Z"
   },
   {
    "duration": 38,
    "start_time": "2021-11-27T09:54:34.771Z"
   },
   {
    "duration": 47,
    "start_time": "2021-11-27T09:54:34.812Z"
   },
   {
    "duration": 32,
    "start_time": "2021-11-27T09:54:34.862Z"
   },
   {
    "duration": 109,
    "start_time": "2021-11-27T09:54:34.897Z"
   },
   {
    "duration": 124,
    "start_time": "2021-11-27T09:54:35.008Z"
   },
   {
    "duration": 90,
    "start_time": "2021-11-27T09:54:35.134Z"
   },
   {
    "duration": 8,
    "start_time": "2021-11-27T09:54:35.226Z"
   },
   {
    "duration": 5,
    "start_time": "2021-11-27T09:54:35.237Z"
   },
   {
    "duration": 21,
    "start_time": "2021-11-27T09:54:35.260Z"
   },
   {
    "duration": 10,
    "start_time": "2021-11-27T09:54:35.284Z"
   },
   {
    "duration": 5,
    "start_time": "2021-11-27T09:54:35.296Z"
   },
   {
    "duration": 11,
    "start_time": "2021-11-27T09:54:35.303Z"
   },
   {
    "duration": 8,
    "start_time": "2021-11-27T09:54:35.316Z"
   },
   {
    "duration": 44,
    "start_time": "2021-11-27T09:54:35.326Z"
   },
   {
    "duration": 9,
    "start_time": "2021-11-27T09:54:35.373Z"
   },
   {
    "duration": 3,
    "start_time": "2021-11-27T09:54:35.387Z"
   },
   {
    "duration": 8,
    "start_time": "2021-11-27T09:54:35.393Z"
   },
   {
    "duration": 19,
    "start_time": "2021-11-27T09:54:35.404Z"
   },
   {
    "duration": 21,
    "start_time": "2021-11-27T09:54:35.426Z"
   },
   {
    "duration": 7,
    "start_time": "2021-11-27T09:54:35.450Z"
   },
   {
    "duration": 12,
    "start_time": "2021-11-27T09:54:35.459Z"
   },
   {
    "duration": 16,
    "start_time": "2021-11-27T09:54:35.474Z"
   },
   {
    "duration": 8,
    "start_time": "2021-11-27T09:54:35.493Z"
   },
   {
    "duration": 15,
    "start_time": "2021-11-27T09:54:35.503Z"
   },
   {
    "duration": 15,
    "start_time": "2021-11-27T09:54:35.520Z"
   },
   {
    "duration": 20,
    "start_time": "2021-11-27T09:54:35.537Z"
   },
   {
    "duration": 13,
    "start_time": "2021-11-27T09:54:35.559Z"
   },
   {
    "duration": 13,
    "start_time": "2021-11-27T09:54:35.574Z"
   },
   {
    "duration": 12,
    "start_time": "2021-11-27T09:54:35.589Z"
   },
   {
    "duration": 16,
    "start_time": "2021-11-27T09:54:35.603Z"
   },
   {
    "duration": 7,
    "start_time": "2021-11-27T09:54:35.621Z"
   },
   {
    "duration": 31,
    "start_time": "2021-11-27T10:13:02.993Z"
   },
   {
    "duration": 26,
    "start_time": "2021-11-27T10:17:54.361Z"
   },
   {
    "duration": 8,
    "start_time": "2021-11-27T10:18:02.356Z"
   },
   {
    "duration": 53,
    "start_time": "2021-11-27T10:19:01.117Z"
   },
   {
    "duration": 772,
    "start_time": "2021-11-27T10:19:08.022Z"
   },
   {
    "duration": 175,
    "start_time": "2021-11-27T10:19:08.797Z"
   },
   {
    "duration": 26,
    "start_time": "2021-11-27T10:19:08.975Z"
   },
   {
    "duration": 34,
    "start_time": "2021-11-27T10:19:09.003Z"
   },
   {
    "duration": 5,
    "start_time": "2021-11-27T10:19:09.060Z"
   },
   {
    "duration": 35,
    "start_time": "2021-11-27T10:19:09.067Z"
   },
   {
    "duration": 19,
    "start_time": "2021-11-27T10:19:09.104Z"
   },
   {
    "duration": 43,
    "start_time": "2021-11-27T10:19:09.126Z"
   },
   {
    "duration": 21,
    "start_time": "2021-11-27T10:19:09.172Z"
   },
   {
    "duration": 34,
    "start_time": "2021-11-27T10:19:09.196Z"
   },
   {
    "duration": 102,
    "start_time": "2021-11-27T10:19:09.232Z"
   },
   {
    "duration": 105,
    "start_time": "2021-11-27T10:19:09.337Z"
   },
   {
    "duration": 78,
    "start_time": "2021-11-27T10:19:09.444Z"
   },
   {
    "duration": 8,
    "start_time": "2021-11-27T10:19:09.524Z"
   },
   {
    "duration": 25,
    "start_time": "2021-11-27T10:19:09.534Z"
   },
   {
    "duration": 66,
    "start_time": "2021-11-27T10:19:09.562Z"
   },
   {
    "duration": 8,
    "start_time": "2021-11-27T10:19:09.631Z"
   },
   {
    "duration": 18,
    "start_time": "2021-11-27T10:19:09.642Z"
   },
   {
    "duration": 4,
    "start_time": "2021-11-27T10:19:09.662Z"
   },
   {
    "duration": 8,
    "start_time": "2021-11-27T10:19:09.668Z"
   },
   {
    "duration": 10,
    "start_time": "2021-11-27T10:19:09.678Z"
   },
   {
    "duration": 6,
    "start_time": "2021-11-27T10:19:09.690Z"
   },
   {
    "duration": 4,
    "start_time": "2021-11-27T10:19:09.701Z"
   },
   {
    "duration": 7,
    "start_time": "2021-11-27T10:19:09.707Z"
   },
   {
    "duration": 6,
    "start_time": "2021-11-27T10:19:09.716Z"
   },
   {
    "duration": 36,
    "start_time": "2021-11-27T10:19:09.724Z"
   },
   {
    "duration": 8,
    "start_time": "2021-11-27T10:19:09.763Z"
   },
   {
    "duration": 6,
    "start_time": "2021-11-27T10:19:09.774Z"
   },
   {
    "duration": 7,
    "start_time": "2021-11-27T10:19:09.782Z"
   },
   {
    "duration": 18,
    "start_time": "2021-11-27T10:19:09.791Z"
   },
   {
    "duration": 14,
    "start_time": "2021-11-27T10:19:09.812Z"
   },
   {
    "duration": 11,
    "start_time": "2021-11-27T10:19:09.828Z"
   },
   {
    "duration": 9,
    "start_time": "2021-11-27T10:19:09.841Z"
   },
   {
    "duration": 3,
    "start_time": "2021-11-27T10:19:09.859Z"
   },
   {
    "duration": 6,
    "start_time": "2021-11-27T10:19:09.865Z"
   },
   {
    "duration": 5,
    "start_time": "2021-11-27T10:19:09.874Z"
   },
   {
    "duration": 6,
    "start_time": "2021-11-27T10:19:09.882Z"
   },
   {
    "duration": 6,
    "start_time": "2021-11-27T10:19:09.891Z"
   },
   {
    "duration": 51,
    "start_time": "2021-11-27T10:19:33.762Z"
   },
   {
    "duration": 3,
    "start_time": "2021-11-27T10:27:02.860Z"
   },
   {
    "duration": 180,
    "start_time": "2021-11-27T10:27:43.997Z"
   },
   {
    "duration": 16,
    "start_time": "2021-11-27T10:28:04.375Z"
   },
   {
    "duration": 32,
    "start_time": "2021-11-27T10:28:18.481Z"
   },
   {
    "duration": 455,
    "start_time": "2021-11-27T10:30:38.365Z"
   },
   {
    "duration": 374,
    "start_time": "2021-11-27T10:31:47.951Z"
   },
   {
    "duration": 451,
    "start_time": "2021-11-27T10:33:03.552Z"
   },
   {
    "duration": 46,
    "start_time": "2021-11-27T10:33:11.374Z"
   },
   {
    "duration": 445,
    "start_time": "2021-11-27T10:33:30.778Z"
   },
   {
    "duration": 792,
    "start_time": "2021-11-27T10:33:41.021Z"
   },
   {
    "duration": 193,
    "start_time": "2021-11-27T10:33:41.816Z"
   },
   {
    "duration": 26,
    "start_time": "2021-11-27T10:33:42.012Z"
   },
   {
    "duration": 49,
    "start_time": "2021-11-27T10:33:42.041Z"
   },
   {
    "duration": 6,
    "start_time": "2021-11-27T10:33:42.092Z"
   },
   {
    "duration": 35,
    "start_time": "2021-11-27T10:33:42.100Z"
   },
   {
    "duration": 21,
    "start_time": "2021-11-27T10:33:42.138Z"
   },
   {
    "duration": 30,
    "start_time": "2021-11-27T10:33:42.163Z"
   },
   {
    "duration": 24,
    "start_time": "2021-11-27T10:33:42.196Z"
   },
   {
    "duration": 59,
    "start_time": "2021-11-27T10:33:42.222Z"
   },
   {
    "duration": 104,
    "start_time": "2021-11-27T10:33:42.283Z"
   },
   {
    "duration": 115,
    "start_time": "2021-11-27T10:33:42.390Z"
   },
   {
    "duration": 95,
    "start_time": "2021-11-27T10:33:42.508Z"
   },
   {
    "duration": 9,
    "start_time": "2021-11-27T10:33:42.606Z"
   },
   {
    "duration": 4,
    "start_time": "2021-11-27T10:33:42.618Z"
   },
   {
    "duration": 83,
    "start_time": "2021-11-27T10:33:42.624Z"
   },
   {
    "duration": 9,
    "start_time": "2021-11-27T10:33:42.709Z"
   },
   {
    "duration": 63,
    "start_time": "2021-11-27T10:33:42.720Z"
   },
   {
    "duration": 4,
    "start_time": "2021-11-27T10:33:42.786Z"
   },
   {
    "duration": 6,
    "start_time": "2021-11-27T10:33:42.793Z"
   },
   {
    "duration": 19,
    "start_time": "2021-11-27T10:33:42.801Z"
   },
   {
    "duration": 8,
    "start_time": "2021-11-27T10:33:42.823Z"
   },
   {
    "duration": 3,
    "start_time": "2021-11-27T10:33:42.836Z"
   },
   {
    "duration": 17,
    "start_time": "2021-11-27T10:33:42.842Z"
   },
   {
    "duration": 10,
    "start_time": "2021-11-27T10:33:42.862Z"
   },
   {
    "duration": 11,
    "start_time": "2021-11-27T10:33:42.875Z"
   },
   {
    "duration": 11,
    "start_time": "2021-11-27T10:33:42.888Z"
   },
   {
    "duration": 7,
    "start_time": "2021-11-27T10:33:42.901Z"
   },
   {
    "duration": 9,
    "start_time": "2021-11-27T10:33:42.911Z"
   },
   {
    "duration": 7,
    "start_time": "2021-11-27T10:33:42.922Z"
   },
   {
    "duration": 12,
    "start_time": "2021-11-27T10:33:42.931Z"
   },
   {
    "duration": 8,
    "start_time": "2021-11-27T10:33:42.958Z"
   },
   {
    "duration": 12,
    "start_time": "2021-11-27T10:33:42.968Z"
   },
   {
    "duration": 9,
    "start_time": "2021-11-27T10:33:42.982Z"
   },
   {
    "duration": 7,
    "start_time": "2021-11-27T10:33:42.993Z"
   },
   {
    "duration": 10,
    "start_time": "2021-11-27T10:33:43.002Z"
   },
   {
    "duration": 10,
    "start_time": "2021-11-27T10:33:43.014Z"
   },
   {
    "duration": 11,
    "start_time": "2021-11-27T10:33:43.026Z"
   },
   {
    "duration": 45,
    "start_time": "2021-11-27T10:34:44.796Z"
   },
   {
    "duration": 51,
    "start_time": "2021-11-27T10:35:44.132Z"
   },
   {
    "duration": 124,
    "start_time": "2021-11-27T10:42:38.209Z"
   },
   {
    "duration": 5,
    "start_time": "2021-11-27T10:43:35.800Z"
   },
   {
    "duration": 872,
    "start_time": "2021-11-27T10:43:59.925Z"
   },
   {
    "duration": 4,
    "start_time": "2021-11-27T10:44:19.886Z"
   },
   {
    "duration": 20,
    "start_time": "2021-11-27T10:44:22.952Z"
   },
   {
    "duration": 5,
    "start_time": "2021-11-27T10:44:48.367Z"
   },
   {
    "duration": 22,
    "start_time": "2021-11-27T10:44:52.621Z"
   },
   {
    "duration": 5,
    "start_time": "2021-11-27T10:46:01.664Z"
   },
   {
    "duration": 18,
    "start_time": "2021-11-27T10:46:03.986Z"
   },
   {
    "duration": 788,
    "start_time": "2021-11-27T10:46:29.083Z"
   },
   {
    "duration": 180,
    "start_time": "2021-11-27T10:46:29.874Z"
   },
   {
    "duration": 26,
    "start_time": "2021-11-27T10:46:30.057Z"
   },
   {
    "duration": 38,
    "start_time": "2021-11-27T10:46:30.086Z"
   },
   {
    "duration": 32,
    "start_time": "2021-11-27T10:46:30.127Z"
   },
   {
    "duration": 32,
    "start_time": "2021-11-27T10:46:30.162Z"
   },
   {
    "duration": 24,
    "start_time": "2021-11-27T10:46:30.197Z"
   },
   {
    "duration": 50,
    "start_time": "2021-11-27T10:46:30.225Z"
   },
   {
    "duration": 41,
    "start_time": "2021-11-27T10:46:30.278Z"
   },
   {
    "duration": 44,
    "start_time": "2021-11-27T10:46:30.322Z"
   },
   {
    "duration": 111,
    "start_time": "2021-11-27T10:46:30.369Z"
   },
   {
    "duration": 120,
    "start_time": "2021-11-27T10:46:30.483Z"
   },
   {
    "duration": 89,
    "start_time": "2021-11-27T10:46:30.605Z"
   },
   {
    "duration": 8,
    "start_time": "2021-11-27T10:46:30.696Z"
   },
   {
    "duration": 10,
    "start_time": "2021-11-27T10:46:30.706Z"
   },
   {
    "duration": 76,
    "start_time": "2021-11-27T10:46:30.718Z"
   },
   {
    "duration": 7,
    "start_time": "2021-11-27T10:46:30.797Z"
   },
   {
    "duration": 60,
    "start_time": "2021-11-27T10:46:30.807Z"
   },
   {
    "duration": 43,
    "start_time": "2021-11-27T10:46:30.870Z"
   },
   {
    "duration": 6,
    "start_time": "2021-11-27T10:46:30.915Z"
   },
   {
    "duration": 47,
    "start_time": "2021-11-27T10:46:30.924Z"
   },
   {
    "duration": 3,
    "start_time": "2021-11-27T10:46:30.974Z"
   },
   {
    "duration": 15,
    "start_time": "2021-11-27T10:46:30.982Z"
   },
   {
    "duration": 14,
    "start_time": "2021-11-27T10:46:31.000Z"
   },
   {
    "duration": 12,
    "start_time": "2021-11-27T10:46:31.016Z"
   },
   {
    "duration": 11,
    "start_time": "2021-11-27T10:46:31.031Z"
   },
   {
    "duration": 15,
    "start_time": "2021-11-27T10:46:31.044Z"
   },
   {
    "duration": 7,
    "start_time": "2021-11-27T10:46:31.062Z"
   },
   {
    "duration": 9,
    "start_time": "2021-11-27T10:46:31.072Z"
   },
   {
    "duration": 13,
    "start_time": "2021-11-27T10:46:31.084Z"
   },
   {
    "duration": 12,
    "start_time": "2021-11-27T10:46:31.100Z"
   },
   {
    "duration": 7,
    "start_time": "2021-11-27T10:46:31.115Z"
   },
   {
    "duration": 17,
    "start_time": "2021-11-27T10:46:31.124Z"
   },
   {
    "duration": 18,
    "start_time": "2021-11-27T10:46:31.143Z"
   },
   {
    "duration": 8,
    "start_time": "2021-11-27T10:46:31.163Z"
   },
   {
    "duration": 14,
    "start_time": "2021-11-27T10:46:31.173Z"
   },
   {
    "duration": 18,
    "start_time": "2021-11-27T10:46:31.189Z"
   },
   {
    "duration": 8,
    "start_time": "2021-11-27T10:46:31.209Z"
   },
   {
    "duration": 5,
    "start_time": "2021-11-27T10:47:57.168Z"
   },
   {
    "duration": 18,
    "start_time": "2021-11-27T10:48:06.451Z"
   },
   {
    "duration": 5,
    "start_time": "2021-11-27T10:48:08.569Z"
   },
   {
    "duration": 18,
    "start_time": "2021-11-27T10:48:10.411Z"
   },
   {
    "duration": 810,
    "start_time": "2021-11-27T13:28:10.541Z"
   },
   {
    "duration": 192,
    "start_time": "2021-11-27T13:28:11.354Z"
   },
   {
    "duration": 31,
    "start_time": "2021-11-27T13:28:11.549Z"
   },
   {
    "duration": 37,
    "start_time": "2021-11-27T13:28:11.583Z"
   },
   {
    "duration": 6,
    "start_time": "2021-11-27T13:28:11.623Z"
   },
   {
    "duration": 55,
    "start_time": "2021-11-27T13:28:11.632Z"
   },
   {
    "duration": 9,
    "start_time": "2021-11-27T13:28:11.689Z"
   },
   {
    "duration": 32,
    "start_time": "2021-11-27T13:28:11.703Z"
   },
   {
    "duration": 25,
    "start_time": "2021-11-27T13:28:11.768Z"
   },
   {
    "duration": 33,
    "start_time": "2021-11-27T13:28:11.795Z"
   },
   {
    "duration": 121,
    "start_time": "2021-11-27T13:28:11.830Z"
   },
   {
    "duration": 119,
    "start_time": "2021-11-27T13:28:11.953Z"
   },
   {
    "duration": 96,
    "start_time": "2021-11-27T13:28:12.075Z"
   },
   {
    "duration": 9,
    "start_time": "2021-11-27T13:28:12.173Z"
   },
   {
    "duration": 6,
    "start_time": "2021-11-27T13:28:12.184Z"
   },
   {
    "duration": 85,
    "start_time": "2021-11-27T13:28:12.193Z"
   },
   {
    "duration": 9,
    "start_time": "2021-11-27T13:28:12.280Z"
   },
   {
    "duration": 48,
    "start_time": "2021-11-27T13:28:12.291Z"
   },
   {
    "duration": 67,
    "start_time": "2021-11-27T13:28:12.341Z"
   },
   {
    "duration": 5,
    "start_time": "2021-11-27T13:28:12.410Z"
   },
   {
    "duration": 27,
    "start_time": "2021-11-27T13:28:12.417Z"
   },
   {
    "duration": 4,
    "start_time": "2021-11-27T13:28:12.466Z"
   },
   {
    "duration": 7,
    "start_time": "2021-11-27T13:28:12.474Z"
   },
   {
    "duration": 13,
    "start_time": "2021-11-27T13:28:12.483Z"
   },
   {
    "duration": 5,
    "start_time": "2021-11-27T13:28:12.499Z"
   },
   {
    "duration": 7,
    "start_time": "2021-11-27T13:28:12.507Z"
   },
   {
    "duration": 8,
    "start_time": "2021-11-27T13:28:12.516Z"
   },
   {
    "duration": 12,
    "start_time": "2021-11-27T13:28:12.526Z"
   },
   {
    "duration": 27,
    "start_time": "2021-11-27T13:28:12.540Z"
   },
   {
    "duration": 6,
    "start_time": "2021-11-27T13:28:12.570Z"
   },
   {
    "duration": 10,
    "start_time": "2021-11-27T13:28:12.579Z"
   },
   {
    "duration": 9,
    "start_time": "2021-11-27T13:28:12.592Z"
   },
   {
    "duration": 18,
    "start_time": "2021-11-27T13:28:12.603Z"
   },
   {
    "duration": 13,
    "start_time": "2021-11-27T13:28:12.624Z"
   },
   {
    "duration": 10,
    "start_time": "2021-11-27T13:28:12.640Z"
   },
   {
    "duration": 27,
    "start_time": "2021-11-27T13:28:12.653Z"
   },
   {
    "duration": 18,
    "start_time": "2021-11-27T13:28:12.683Z"
   },
   {
    "duration": 32,
    "start_time": "2021-11-27T13:28:12.704Z"
   },
   {
    "duration": 23,
    "start_time": "2021-11-27T13:28:38.302Z"
   },
   {
    "duration": 5,
    "start_time": "2021-11-27T13:32:25.119Z"
   },
   {
    "duration": 7,
    "start_time": "2021-11-27T13:32:29.029Z"
   },
   {
    "duration": 24,
    "start_time": "2021-11-27T13:32:32.179Z"
   },
   {
    "duration": 12,
    "start_time": "2021-11-27T13:33:08.890Z"
   },
   {
    "duration": 19,
    "start_time": "2021-11-27T13:33:19.008Z"
   },
   {
    "duration": 23,
    "start_time": "2021-11-27T13:33:31.505Z"
   },
   {
    "duration": 790,
    "start_time": "2021-11-27T13:34:45.740Z"
   },
   {
    "duration": 203,
    "start_time": "2021-11-27T13:34:46.533Z"
   },
   {
    "duration": 31,
    "start_time": "2021-11-27T13:34:46.740Z"
   },
   {
    "duration": 39,
    "start_time": "2021-11-27T13:34:46.774Z"
   },
   {
    "duration": 6,
    "start_time": "2021-11-27T13:34:46.816Z"
   },
   {
    "duration": 67,
    "start_time": "2021-11-27T13:34:46.825Z"
   },
   {
    "duration": 8,
    "start_time": "2021-11-27T13:34:46.895Z"
   },
   {
    "duration": 41,
    "start_time": "2021-11-27T13:34:46.907Z"
   },
   {
    "duration": 24,
    "start_time": "2021-11-27T13:34:46.966Z"
   },
   {
    "duration": 40,
    "start_time": "2021-11-27T13:34:46.993Z"
   },
   {
    "duration": 116,
    "start_time": "2021-11-27T13:34:47.036Z"
   },
   {
    "duration": 119,
    "start_time": "2021-11-27T13:34:47.154Z"
   },
   {
    "duration": 93,
    "start_time": "2021-11-27T13:34:47.275Z"
   },
   {
    "duration": 8,
    "start_time": "2021-11-27T13:34:47.371Z"
   },
   {
    "duration": 4,
    "start_time": "2021-11-27T13:34:47.381Z"
   },
   {
    "duration": 79,
    "start_time": "2021-11-27T13:34:47.388Z"
   },
   {
    "duration": 8,
    "start_time": "2021-11-27T13:34:47.469Z"
   },
   {
    "duration": 46,
    "start_time": "2021-11-27T13:34:47.480Z"
   },
   {
    "duration": 69,
    "start_time": "2021-11-27T13:34:47.529Z"
   },
   {
    "duration": 5,
    "start_time": "2021-11-27T13:34:47.600Z"
   },
   {
    "duration": 28,
    "start_time": "2021-11-27T13:34:47.607Z"
   },
   {
    "duration": 46,
    "start_time": "2021-11-27T13:34:47.637Z"
   },
   {
    "duration": 20,
    "start_time": "2021-11-27T13:34:47.688Z"
   },
   {
    "duration": 18,
    "start_time": "2021-11-27T13:34:47.711Z"
   },
   {
    "duration": 55,
    "start_time": "2021-11-27T13:34:47.732Z"
   },
   {
    "duration": 20,
    "start_time": "2021-11-27T13:34:47.790Z"
   },
   {
    "duration": 3,
    "start_time": "2021-11-27T13:34:47.813Z"
   },
   {
    "duration": 7,
    "start_time": "2021-11-27T13:34:47.818Z"
   },
   {
    "duration": 39,
    "start_time": "2021-11-27T13:34:47.828Z"
   },
   {
    "duration": 6,
    "start_time": "2021-11-27T13:34:47.870Z"
   },
   {
    "duration": 9,
    "start_time": "2021-11-27T13:34:47.879Z"
   },
   {
    "duration": 8,
    "start_time": "2021-11-27T13:34:47.891Z"
   },
   {
    "duration": 9,
    "start_time": "2021-11-27T13:34:47.901Z"
   },
   {
    "duration": 5,
    "start_time": "2021-11-27T13:34:47.913Z"
   },
   {
    "duration": 6,
    "start_time": "2021-11-27T13:34:47.921Z"
   },
   {
    "duration": 6,
    "start_time": "2021-11-27T13:34:47.929Z"
   },
   {
    "duration": 30,
    "start_time": "2021-11-27T13:34:47.937Z"
   },
   {
    "duration": 7,
    "start_time": "2021-11-27T13:34:47.970Z"
   },
   {
    "duration": 390,
    "start_time": "2021-11-27T13:38:49.187Z"
   },
   {
    "duration": 263,
    "start_time": "2021-11-27T13:39:36.059Z"
   },
   {
    "duration": 13,
    "start_time": "2021-11-27T13:41:47.010Z"
   },
   {
    "duration": 788,
    "start_time": "2021-11-27T13:42:24.069Z"
   },
   {
    "duration": 204,
    "start_time": "2021-11-27T13:42:24.864Z"
   },
   {
    "duration": 27,
    "start_time": "2021-11-27T13:42:25.070Z"
   },
   {
    "duration": 47,
    "start_time": "2021-11-27T13:42:25.100Z"
   },
   {
    "duration": 31,
    "start_time": "2021-11-27T13:42:25.149Z"
   },
   {
    "duration": 31,
    "start_time": "2021-11-27T13:42:25.182Z"
   },
   {
    "duration": 5,
    "start_time": "2021-11-27T13:42:25.217Z"
   },
   {
    "duration": 62,
    "start_time": "2021-11-27T13:42:25.225Z"
   },
   {
    "duration": 25,
    "start_time": "2021-11-27T13:42:25.290Z"
   },
   {
    "duration": 53,
    "start_time": "2021-11-27T13:42:25.318Z"
   },
   {
    "duration": 116,
    "start_time": "2021-11-27T13:42:25.374Z"
   },
   {
    "duration": 120,
    "start_time": "2021-11-27T13:42:25.493Z"
   },
   {
    "duration": 102,
    "start_time": "2021-11-27T13:42:25.616Z"
   },
   {
    "duration": 9,
    "start_time": "2021-11-27T13:42:25.720Z"
   },
   {
    "duration": 14,
    "start_time": "2021-11-27T13:42:25.732Z"
   },
   {
    "duration": 92,
    "start_time": "2021-11-27T13:42:25.749Z"
   },
   {
    "duration": 23,
    "start_time": "2021-11-27T13:42:25.844Z"
   },
   {
    "duration": 62,
    "start_time": "2021-11-27T13:42:25.870Z"
   },
   {
    "duration": 85,
    "start_time": "2021-11-27T13:42:25.935Z"
   },
   {
    "duration": 6,
    "start_time": "2021-11-27T13:42:26.023Z"
   },
   {
    "duration": 45,
    "start_time": "2021-11-27T13:42:26.032Z"
   },
   {
    "duration": 20,
    "start_time": "2021-11-27T13:42:26.081Z"
   },
   {
    "duration": 21,
    "start_time": "2021-11-27T13:42:26.104Z"
   },
   {
    "duration": 51,
    "start_time": "2021-11-27T13:42:26.128Z"
   },
   {
    "duration": 25,
    "start_time": "2021-11-27T13:42:26.182Z"
   },
   {
    "duration": 58,
    "start_time": "2021-11-27T13:42:26.211Z"
   },
   {
    "duration": 16,
    "start_time": "2021-11-27T13:42:26.272Z"
   },
   {
    "duration": 5,
    "start_time": "2021-11-27T13:42:26.291Z"
   },
   {
    "duration": 26,
    "start_time": "2021-11-27T13:42:26.299Z"
   },
   {
    "duration": 7,
    "start_time": "2021-11-27T13:42:26.328Z"
   },
   {
    "duration": 12,
    "start_time": "2021-11-27T13:42:26.337Z"
   },
   {
    "duration": 16,
    "start_time": "2021-11-27T13:42:26.351Z"
   },
   {
    "duration": 12,
    "start_time": "2021-11-27T13:42:26.371Z"
   },
   {
    "duration": 6,
    "start_time": "2021-11-27T13:42:26.386Z"
   },
   {
    "duration": 6,
    "start_time": "2021-11-27T13:42:26.394Z"
   },
   {
    "duration": 6,
    "start_time": "2021-11-27T13:42:26.402Z"
   },
   {
    "duration": 5,
    "start_time": "2021-11-27T13:42:26.410Z"
   },
   {
    "duration": 8,
    "start_time": "2021-11-27T13:42:26.418Z"
   },
   {
    "duration": 15,
    "start_time": "2021-11-27T14:16:19.025Z"
   },
   {
    "duration": 33,
    "start_time": "2021-11-27T14:16:39.750Z"
   },
   {
    "duration": 17,
    "start_time": "2021-11-27T14:16:56.571Z"
   },
   {
    "duration": 12,
    "start_time": "2021-11-27T14:17:14.030Z"
   },
   {
    "duration": 15,
    "start_time": "2021-11-27T14:21:20.330Z"
   },
   {
    "duration": 16,
    "start_time": "2021-11-27T14:21:48.227Z"
   },
   {
    "duration": 15,
    "start_time": "2021-11-27T14:21:57.361Z"
   },
   {
    "duration": 15,
    "start_time": "2021-11-27T14:22:03.297Z"
   },
   {
    "duration": 6,
    "start_time": "2021-11-27T14:32:43.602Z"
   },
   {
    "duration": 671,
    "start_time": "2021-11-27T14:34:26.688Z"
   },
   {
    "duration": 5,
    "start_time": "2021-11-27T14:43:12.027Z"
   },
   {
    "duration": 27,
    "start_time": "2021-11-27T14:43:14.013Z"
   },
   {
    "duration": 26,
    "start_time": "2021-11-27T14:43:56.940Z"
   },
   {
    "duration": 19,
    "start_time": "2021-11-27T14:44:17.184Z"
   },
   {
    "duration": 23,
    "start_time": "2021-11-27T14:45:25.167Z"
   },
   {
    "duration": 17,
    "start_time": "2021-11-27T14:45:27.863Z"
   },
   {
    "duration": 933,
    "start_time": "2021-11-27T14:45:35.112Z"
   },
   {
    "duration": 222,
    "start_time": "2021-11-27T14:45:36.047Z"
   },
   {
    "duration": 36,
    "start_time": "2021-11-27T14:45:36.273Z"
   },
   {
    "duration": 56,
    "start_time": "2021-11-27T14:45:36.312Z"
   },
   {
    "duration": 5,
    "start_time": "2021-11-27T14:45:36.371Z"
   },
   {
    "duration": 27,
    "start_time": "2021-11-27T14:45:36.378Z"
   },
   {
    "duration": 8,
    "start_time": "2021-11-27T14:45:36.408Z"
   },
   {
    "duration": 58,
    "start_time": "2021-11-27T14:45:36.420Z"
   },
   {
    "duration": 26,
    "start_time": "2021-11-27T14:45:36.481Z"
   },
   {
    "duration": 30,
    "start_time": "2021-11-27T14:45:36.510Z"
   },
   {
    "duration": 111,
    "start_time": "2021-11-27T14:45:36.542Z"
   },
   {
    "duration": 126,
    "start_time": "2021-11-27T14:45:36.655Z"
   },
   {
    "duration": 90,
    "start_time": "2021-11-27T14:45:36.784Z"
   },
   {
    "duration": 8,
    "start_time": "2021-11-27T14:45:36.876Z"
   },
   {
    "duration": 4,
    "start_time": "2021-11-27T14:45:36.887Z"
   },
   {
    "duration": 78,
    "start_time": "2021-11-27T14:45:36.894Z"
   },
   {
    "duration": 9,
    "start_time": "2021-11-27T14:45:36.974Z"
   },
   {
    "duration": 17,
    "start_time": "2021-11-27T14:45:36.985Z"
   },
   {
    "duration": 16,
    "start_time": "2021-11-27T14:45:37.004Z"
   },
   {
    "duration": 5,
    "start_time": "2021-11-27T14:45:37.023Z"
   },
   {
    "duration": 60,
    "start_time": "2021-11-27T14:45:37.030Z"
   },
   {
    "duration": 21,
    "start_time": "2021-11-27T14:45:37.092Z"
   },
   {
    "duration": 54,
    "start_time": "2021-11-27T14:45:37.118Z"
   },
   {
    "duration": 20,
    "start_time": "2021-11-27T14:45:37.175Z"
   },
   {
    "duration": 22,
    "start_time": "2021-11-27T14:45:37.197Z"
   },
   {
    "duration": 56,
    "start_time": "2021-11-27T14:45:37.222Z"
   },
   {
    "duration": 12,
    "start_time": "2021-11-27T14:45:37.281Z"
   },
   {
    "duration": 15,
    "start_time": "2021-11-27T14:45:37.296Z"
   },
   {
    "duration": 12,
    "start_time": "2021-11-27T14:45:37.314Z"
   },
   {
    "duration": 5,
    "start_time": "2021-11-27T14:45:37.330Z"
   },
   {
    "duration": 25,
    "start_time": "2021-11-27T14:45:37.368Z"
   },
   {
    "duration": 18,
    "start_time": "2021-11-27T14:45:37.395Z"
   },
   {
    "duration": 55,
    "start_time": "2021-11-27T14:45:37.416Z"
   },
   {
    "duration": 17,
    "start_time": "2021-11-27T14:45:37.473Z"
   },
   {
    "duration": 3,
    "start_time": "2021-11-27T14:45:37.492Z"
   },
   {
    "duration": 7,
    "start_time": "2021-11-27T14:45:37.497Z"
   },
   {
    "duration": 7,
    "start_time": "2021-11-27T14:45:37.506Z"
   },
   {
    "duration": 11,
    "start_time": "2021-11-27T14:45:37.515Z"
   },
   {
    "duration": 11,
    "start_time": "2021-11-27T14:51:53.981Z"
   },
   {
    "duration": 6,
    "start_time": "2021-11-27T14:52:28.229Z"
   },
   {
    "duration": 792,
    "start_time": "2021-11-27T14:52:40.778Z"
   },
   {
    "duration": 12,
    "start_time": "2021-11-27T14:52:50.955Z"
   },
   {
    "duration": 7,
    "start_time": "2021-11-27T14:52:52.933Z"
   },
   {
    "duration": 9,
    "start_time": "2021-11-27T14:54:10.427Z"
   },
   {
    "duration": 7,
    "start_time": "2021-11-27T14:54:20.300Z"
   },
   {
    "duration": 828,
    "start_time": "2021-11-27T15:00:30.465Z"
   },
   {
    "duration": 196,
    "start_time": "2021-11-27T15:00:31.296Z"
   },
   {
    "duration": 28,
    "start_time": "2021-11-27T15:00:31.495Z"
   },
   {
    "duration": 54,
    "start_time": "2021-11-27T15:00:31.526Z"
   },
   {
    "duration": 14,
    "start_time": "2021-11-27T15:00:31.582Z"
   },
   {
    "duration": 51,
    "start_time": "2021-11-27T15:00:31.598Z"
   },
   {
    "duration": 17,
    "start_time": "2021-11-27T15:00:31.652Z"
   },
   {
    "duration": 36,
    "start_time": "2021-11-27T15:00:31.673Z"
   },
   {
    "duration": 26,
    "start_time": "2021-11-27T15:00:31.712Z"
   },
   {
    "duration": 43,
    "start_time": "2021-11-27T15:00:31.741Z"
   },
   {
    "duration": 116,
    "start_time": "2021-11-27T15:00:31.786Z"
   },
   {
    "duration": 116,
    "start_time": "2021-11-27T15:00:31.905Z"
   },
   {
    "duration": 87,
    "start_time": "2021-11-27T15:00:32.024Z"
   },
   {
    "duration": 9,
    "start_time": "2021-11-27T15:00:32.114Z"
   },
   {
    "duration": 6,
    "start_time": "2021-11-27T15:00:32.126Z"
   },
   {
    "duration": 84,
    "start_time": "2021-11-27T15:00:32.135Z"
   },
   {
    "duration": 9,
    "start_time": "2021-11-27T15:00:32.221Z"
   },
   {
    "duration": 35,
    "start_time": "2021-11-27T15:00:32.232Z"
   },
   {
    "duration": 15,
    "start_time": "2021-11-27T15:00:32.270Z"
   },
   {
    "duration": 5,
    "start_time": "2021-11-27T15:00:32.287Z"
   },
   {
    "duration": 42,
    "start_time": "2021-11-27T15:00:32.294Z"
   },
   {
    "duration": 37,
    "start_time": "2021-11-27T15:00:32.339Z"
   },
   {
    "duration": 23,
    "start_time": "2021-11-27T15:00:32.381Z"
   },
   {
    "duration": 19,
    "start_time": "2021-11-27T15:00:32.407Z"
   },
   {
    "duration": 53,
    "start_time": "2021-11-27T15:00:32.429Z"
   },
   {
    "duration": 19,
    "start_time": "2021-11-27T15:00:32.484Z"
   },
   {
    "duration": 13,
    "start_time": "2021-11-27T15:00:32.506Z"
   },
   {
    "duration": 52,
    "start_time": "2021-11-27T15:00:32.522Z"
   },
   {
    "duration": 15,
    "start_time": "2021-11-27T15:00:32.576Z"
   },
   {
    "duration": 7,
    "start_time": "2021-11-27T15:00:32.594Z"
   },
   {
    "duration": 35,
    "start_time": "2021-11-27T15:00:32.604Z"
   },
   {
    "duration": 46,
    "start_time": "2021-11-27T15:00:32.641Z"
   },
   {
    "duration": 37,
    "start_time": "2021-11-27T15:00:32.689Z"
   },
   {
    "duration": 49,
    "start_time": "2021-11-27T15:00:32.729Z"
   },
   {
    "duration": 14,
    "start_time": "2021-11-27T15:00:32.781Z"
   },
   {
    "duration": 8,
    "start_time": "2021-11-27T15:00:32.797Z"
   },
   {
    "duration": 13,
    "start_time": "2021-11-27T15:00:32.808Z"
   },
   {
    "duration": 49,
    "start_time": "2021-11-27T15:00:32.824Z"
   },
   {
    "duration": 14,
    "start_time": "2021-11-27T15:03:47.190Z"
   },
   {
    "duration": 15,
    "start_time": "2021-11-27T15:03:52.739Z"
   },
   {
    "duration": 737,
    "start_time": "2021-11-27T15:04:56.925Z"
   },
   {
    "duration": 199,
    "start_time": "2021-11-27T15:04:57.664Z"
   },
   {
    "duration": 26,
    "start_time": "2021-11-27T15:04:57.868Z"
   },
   {
    "duration": 39,
    "start_time": "2021-11-27T15:04:57.897Z"
   },
   {
    "duration": 29,
    "start_time": "2021-11-27T15:04:57.938Z"
   },
   {
    "duration": 28,
    "start_time": "2021-11-27T15:04:57.970Z"
   },
   {
    "duration": 10,
    "start_time": "2021-11-27T15:04:58.001Z"
   },
   {
    "duration": 62,
    "start_time": "2021-11-27T15:04:58.016Z"
   },
   {
    "duration": 25,
    "start_time": "2021-11-27T15:04:58.082Z"
   },
   {
    "duration": 61,
    "start_time": "2021-11-27T15:04:58.109Z"
   },
   {
    "duration": 104,
    "start_time": "2021-11-27T15:04:58.173Z"
   },
   {
    "duration": 122,
    "start_time": "2021-11-27T15:04:58.279Z"
   },
   {
    "duration": 85,
    "start_time": "2021-11-27T15:04:58.404Z"
   },
   {
    "duration": 8,
    "start_time": "2021-11-27T15:04:58.491Z"
   },
   {
    "duration": 4,
    "start_time": "2021-11-27T15:04:58.501Z"
   },
   {
    "duration": 80,
    "start_time": "2021-11-27T15:04:58.508Z"
   },
   {
    "duration": 8,
    "start_time": "2021-11-27T15:04:58.590Z"
   },
   {
    "duration": 17,
    "start_time": "2021-11-27T15:04:58.600Z"
   },
   {
    "duration": 15,
    "start_time": "2021-11-27T15:04:58.619Z"
   },
   {
    "duration": 5,
    "start_time": "2021-11-27T15:04:58.668Z"
   },
   {
    "duration": 25,
    "start_time": "2021-11-27T15:04:58.675Z"
   },
   {
    "duration": 20,
    "start_time": "2021-11-27T15:04:58.702Z"
   },
   {
    "duration": 44,
    "start_time": "2021-11-27T15:04:58.726Z"
   },
   {
    "duration": 19,
    "start_time": "2021-11-27T15:04:58.773Z"
   },
   {
    "duration": 22,
    "start_time": "2021-11-27T15:04:58.795Z"
   },
   {
    "duration": 57,
    "start_time": "2021-11-27T15:04:58.819Z"
   },
   {
    "duration": 13,
    "start_time": "2021-11-27T15:04:58.878Z"
   },
   {
    "duration": 20,
    "start_time": "2021-11-27T15:04:58.894Z"
   },
   {
    "duration": 13,
    "start_time": "2021-11-27T15:04:58.916Z"
   },
   {
    "duration": 38,
    "start_time": "2021-11-27T15:04:58.931Z"
   },
   {
    "duration": 36,
    "start_time": "2021-11-27T15:04:58.971Z"
   },
   {
    "duration": 18,
    "start_time": "2021-11-27T15:04:59.009Z"
   },
   {
    "duration": 44,
    "start_time": "2021-11-27T15:04:59.030Z"
   },
   {
    "duration": 17,
    "start_time": "2021-11-27T15:04:59.076Z"
   },
   {
    "duration": 10,
    "start_time": "2021-11-27T15:04:59.096Z"
   },
   {
    "duration": 10,
    "start_time": "2021-11-27T15:04:59.108Z"
   },
   {
    "duration": 49,
    "start_time": "2021-11-27T15:04:59.120Z"
   },
   {
    "duration": 7,
    "start_time": "2021-11-27T15:04:59.172Z"
   },
   {
    "duration": 709,
    "start_time": "2021-11-28T08:46:28.140Z"
   },
   {
    "duration": 188,
    "start_time": "2021-11-28T08:46:28.852Z"
   },
   {
    "duration": 26,
    "start_time": "2021-11-28T08:46:29.046Z"
   },
   {
    "duration": 55,
    "start_time": "2021-11-28T08:46:29.074Z"
   },
   {
    "duration": 5,
    "start_time": "2021-11-28T08:46:29.132Z"
   },
   {
    "duration": 27,
    "start_time": "2021-11-28T08:46:29.139Z"
   },
   {
    "duration": 32,
    "start_time": "2021-11-28T08:46:29.170Z"
   },
   {
    "duration": 34,
    "start_time": "2021-11-28T08:46:29.205Z"
   },
   {
    "duration": 23,
    "start_time": "2021-11-28T08:46:29.241Z"
   },
   {
    "duration": 49,
    "start_time": "2021-11-28T08:46:29.267Z"
   },
   {
    "duration": 103,
    "start_time": "2021-11-28T08:46:29.319Z"
   },
   {
    "duration": 112,
    "start_time": "2021-11-28T08:46:29.424Z"
   },
   {
    "duration": 84,
    "start_time": "2021-11-28T08:46:29.539Z"
   },
   {
    "duration": 9,
    "start_time": "2021-11-28T08:46:29.625Z"
   },
   {
    "duration": 5,
    "start_time": "2021-11-28T08:46:29.636Z"
   },
   {
    "duration": 84,
    "start_time": "2021-11-28T08:46:29.644Z"
   },
   {
    "duration": 11,
    "start_time": "2021-11-28T08:46:29.731Z"
   },
   {
    "duration": 18,
    "start_time": "2021-11-28T08:46:29.745Z"
   },
   {
    "duration": 40,
    "start_time": "2021-11-28T08:46:29.766Z"
   },
   {
    "duration": 4,
    "start_time": "2021-11-28T08:46:29.809Z"
   },
   {
    "duration": 25,
    "start_time": "2021-11-28T08:46:29.816Z"
   },
   {
    "duration": 56,
    "start_time": "2021-11-28T08:46:29.846Z"
   },
   {
    "duration": 19,
    "start_time": "2021-11-28T08:46:29.905Z"
   },
   {
    "duration": 18,
    "start_time": "2021-11-28T08:46:29.926Z"
   },
   {
    "duration": 21,
    "start_time": "2021-11-28T08:46:29.946Z"
   },
   {
    "duration": 50,
    "start_time": "2021-11-28T08:46:29.969Z"
   },
   {
    "duration": 16,
    "start_time": "2021-11-28T08:46:30.022Z"
   },
   {
    "duration": 26,
    "start_time": "2021-11-28T08:46:30.040Z"
   },
   {
    "duration": 38,
    "start_time": "2021-11-28T08:46:30.068Z"
   },
   {
    "duration": 13,
    "start_time": "2021-11-28T08:46:30.108Z"
   },
   {
    "duration": 44,
    "start_time": "2021-11-28T08:46:30.123Z"
   },
   {
    "duration": 17,
    "start_time": "2021-11-28T08:46:30.169Z"
   },
   {
    "duration": 36,
    "start_time": "2021-11-28T08:46:30.188Z"
   },
   {
    "duration": 17,
    "start_time": "2021-11-28T08:46:30.227Z"
   },
   {
    "duration": 24,
    "start_time": "2021-11-28T08:46:30.246Z"
   },
   {
    "duration": 18,
    "start_time": "2021-11-28T08:46:30.272Z"
   },
   {
    "duration": 20,
    "start_time": "2021-11-28T08:46:30.301Z"
   },
   {
    "duration": 11,
    "start_time": "2021-11-28T08:46:30.324Z"
   },
   {
    "duration": 4,
    "start_time": "2021-11-29T18:24:56.872Z"
   },
   {
    "duration": 822,
    "start_time": "2021-11-29T18:26:34.378Z"
   },
   {
    "duration": 189,
    "start_time": "2021-11-29T18:26:35.203Z"
   },
   {
    "duration": 28,
    "start_time": "2021-11-29T18:26:35.399Z"
   },
   {
    "duration": 34,
    "start_time": "2021-11-29T18:26:35.430Z"
   },
   {
    "duration": 6,
    "start_time": "2021-11-29T18:26:35.467Z"
   },
   {
    "duration": 56,
    "start_time": "2021-11-29T18:26:35.476Z"
   },
   {
    "duration": 9,
    "start_time": "2021-11-29T18:26:35.535Z"
   },
   {
    "duration": 61,
    "start_time": "2021-11-29T18:26:35.550Z"
   },
   {
    "duration": 23,
    "start_time": "2021-11-29T18:26:35.615Z"
   },
   {
    "duration": 29,
    "start_time": "2021-11-29T18:26:35.641Z"
   },
   {
    "duration": 108,
    "start_time": "2021-11-29T18:26:35.673Z"
   },
   {
    "duration": 106,
    "start_time": "2021-11-29T18:26:35.783Z"
   },
   {
    "duration": 77,
    "start_time": "2021-11-29T18:26:35.900Z"
   },
   {
    "duration": 23,
    "start_time": "2021-11-29T18:26:35.979Z"
   },
   {
    "duration": 6,
    "start_time": "2021-11-29T18:26:36.005Z"
   },
   {
    "duration": 53,
    "start_time": "2021-11-29T18:26:36.014Z"
   },
   {
    "duration": 9,
    "start_time": "2021-11-29T18:26:36.069Z"
   },
   {
    "duration": 33,
    "start_time": "2021-11-29T18:26:36.080Z"
   },
   {
    "duration": 15,
    "start_time": "2021-11-29T18:26:36.116Z"
   },
   {
    "duration": 4,
    "start_time": "2021-11-29T18:26:36.133Z"
   },
   {
    "duration": 39,
    "start_time": "2021-11-29T18:26:36.140Z"
   },
   {
    "duration": 21,
    "start_time": "2021-11-29T18:26:36.201Z"
   },
   {
    "duration": 19,
    "start_time": "2021-11-29T18:26:36.228Z"
   },
   {
    "duration": 52,
    "start_time": "2021-11-29T18:26:36.250Z"
   },
   {
    "duration": 23,
    "start_time": "2021-11-29T18:26:36.304Z"
   },
   {
    "duration": 20,
    "start_time": "2021-11-29T18:26:36.330Z"
   },
   {
    "duration": 12,
    "start_time": "2021-11-29T18:26:36.352Z"
   },
   {
    "duration": 47,
    "start_time": "2021-11-29T18:26:36.366Z"
   },
   {
    "duration": 12,
    "start_time": "2021-11-29T18:26:36.415Z"
   },
   {
    "duration": 6,
    "start_time": "2021-11-29T18:26:36.429Z"
   },
   {
    "duration": 28,
    "start_time": "2021-11-29T18:26:36.437Z"
   },
   {
    "duration": 18,
    "start_time": "2021-11-29T18:26:36.501Z"
   },
   {
    "duration": 29,
    "start_time": "2021-11-29T18:26:36.521Z"
   },
   {
    "duration": 51,
    "start_time": "2021-11-29T18:26:36.553Z"
   },
   {
    "duration": 13,
    "start_time": "2021-11-29T18:26:36.607Z"
   },
   {
    "duration": 7,
    "start_time": "2021-11-29T18:26:36.622Z"
   },
   {
    "duration": 9,
    "start_time": "2021-11-29T18:26:36.632Z"
   },
   {
    "duration": 7,
    "start_time": "2021-11-29T18:26:36.643Z"
   },
   {
    "duration": 5,
    "start_time": "2021-11-29T18:29:44.236Z"
   },
   {
    "duration": 962,
    "start_time": "2021-11-29T18:29:49.731Z"
   },
   {
    "duration": 5,
    "start_time": "2021-11-29T18:31:17.244Z"
   },
   {
    "duration": 29,
    "start_time": "2021-11-29T18:31:19.820Z"
   },
   {
    "duration": 5,
    "start_time": "2021-11-29T18:31:34.408Z"
   },
   {
    "duration": 23,
    "start_time": "2021-11-29T18:31:40.667Z"
   },
   {
    "duration": 934,
    "start_time": "2021-11-29T18:34:19.283Z"
   },
   {
    "duration": 266,
    "start_time": "2021-11-29T18:34:20.220Z"
   },
   {
    "duration": 38,
    "start_time": "2021-11-29T18:34:20.489Z"
   },
   {
    "duration": 78,
    "start_time": "2021-11-29T18:34:20.531Z"
   },
   {
    "duration": 136,
    "start_time": "2021-11-29T18:34:20.613Z"
   },
   {
    "duration": 33,
    "start_time": "2021-11-29T18:34:20.752Z"
   },
   {
    "duration": 13,
    "start_time": "2021-11-29T18:34:20.788Z"
   },
   {
    "duration": 58,
    "start_time": "2021-11-29T18:34:20.805Z"
   },
   {
    "duration": 36,
    "start_time": "2021-11-29T18:34:20.867Z"
   },
   {
    "duration": 31,
    "start_time": "2021-11-29T18:34:20.906Z"
   },
   {
    "duration": 117,
    "start_time": "2021-11-29T18:34:20.940Z"
   },
   {
    "duration": 111,
    "start_time": "2021-11-29T18:34:21.059Z"
   },
   {
    "duration": 113,
    "start_time": "2021-11-29T18:34:21.172Z"
   },
   {
    "duration": 13,
    "start_time": "2021-11-29T18:34:21.287Z"
   },
   {
    "duration": 4,
    "start_time": "2021-11-29T18:34:21.303Z"
   },
   {
    "duration": 87,
    "start_time": "2021-11-29T18:34:21.309Z"
   },
   {
    "duration": 8,
    "start_time": "2021-11-29T18:34:21.399Z"
   },
   {
    "duration": 97,
    "start_time": "2021-11-29T18:34:21.410Z"
   },
   {
    "duration": 23,
    "start_time": "2021-11-29T18:34:21.510Z"
   },
   {
    "duration": 6,
    "start_time": "2021-11-29T18:34:21.535Z"
   },
   {
    "duration": 55,
    "start_time": "2021-11-29T18:34:21.544Z"
   },
   {
    "duration": 61,
    "start_time": "2021-11-29T18:34:21.602Z"
   },
   {
    "duration": 72,
    "start_time": "2021-11-29T18:34:21.668Z"
   },
   {
    "duration": 18,
    "start_time": "2021-11-29T18:34:21.743Z"
   },
   {
    "duration": 51,
    "start_time": "2021-11-29T18:34:21.763Z"
   },
   {
    "duration": 20,
    "start_time": "2021-11-29T18:34:21.817Z"
   },
   {
    "duration": 21,
    "start_time": "2021-11-29T18:34:21.840Z"
   },
   {
    "duration": 19,
    "start_time": "2021-11-29T18:34:21.863Z"
   },
   {
    "duration": 23,
    "start_time": "2021-11-29T18:34:21.884Z"
   },
   {
    "duration": 8,
    "start_time": "2021-11-29T18:34:21.909Z"
   },
   {
    "duration": 53,
    "start_time": "2021-11-29T18:34:21.920Z"
   },
   {
    "duration": 42,
    "start_time": "2021-11-29T18:34:21.976Z"
   },
   {
    "duration": 32,
    "start_time": "2021-11-29T18:34:22.021Z"
   },
   {
    "duration": 52,
    "start_time": "2021-11-29T18:34:22.056Z"
   },
   {
    "duration": 11,
    "start_time": "2021-11-29T18:34:22.110Z"
   },
   {
    "duration": 12,
    "start_time": "2021-11-29T18:34:22.123Z"
   },
   {
    "duration": 14,
    "start_time": "2021-11-29T18:34:22.137Z"
   },
   {
    "duration": 10,
    "start_time": "2021-11-29T18:34:22.153Z"
   },
   {
    "duration": 488,
    "start_time": "2021-11-30T11:02:14.134Z"
   }
  ],
  "colab": {
   "collapsed_sections": [
    "E0vqbgi9ay0H",
    "VUC88oWjTJw2"
   ],
   "name": "yandex_music_project_2021.2.ipynb",
   "provenance": []
  },
  "kernelspec": {
   "display_name": "Python 3 (ipykernel)",
   "language": "python",
   "name": "python3"
  },
  "language_info": {
   "codemirror_mode": {
    "name": "ipython",
    "version": 3
   },
   "file_extension": ".py",
   "mimetype": "text/x-python",
   "name": "python",
   "nbconvert_exporter": "python",
   "pygments_lexer": "ipython3",
   "version": "3.9.13"
  },
  "toc": {
   "base_numbering": 1,
   "nav_menu": {},
   "number_sections": true,
   "sideBar": true,
   "skip_h1_title": true,
   "title_cell": "Table of Contents",
   "title_sidebar": "Contents",
   "toc_cell": false,
   "toc_position": {},
   "toc_section_display": true,
   "toc_window_display": false
  }
 },
 "nbformat": 4,
 "nbformat_minor": 1
}
