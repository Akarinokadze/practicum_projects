{
 "cells": [
  {
   "cell_type": "markdown",
   "metadata": {},
   "source": [
    "# Исследование надёжности заёмщиков"
   ]
  },
  {
   "cell_type": "markdown",
   "metadata": {},
   "source": [
    "##### Проведение исследования зависимости риска возникновения задолженности от различных факторов."
   ]
  },
  {
   "cell_type": "markdown",
   "metadata": {},
   "source": [
    "##### Цель исследования.\n",
    "\n",
    "Нужно разобраться, влияет ли семейное положение, количество детей клиента и цели займа на факт погашения кредита в срок."
   ]
  },
  {
   "cell_type": "markdown",
   "metadata": {},
   "source": [
    "##### Задачи исследования.\n",
    "\n",
    "Результаты исследования будут учтены при построении модели **кредитного скоринга** — специальной системы, которая оценивает способность потенциального заёмщика вернуть кредит банку."
   ]
  },
  {
   "cell_type": "markdown",
   "metadata": {},
   "source": [
    "##### Исходные данные.\n",
    "\n",
    "Входные данные от банка — статистика о платёжеспособности клиентов:\n",
    "\n",
    "    children — количество детей в семье\n",
    "    days_employed — общий трудовой стаж в днях\n",
    "    dob_years — возраст клиента в годах\n",
    "    education — уровень образования клиента\n",
    "    education_id — идентификатор уровня образования\n",
    "    family_status — семейное положение\n",
    "    family_status_id — идентификатор семейного положения\n",
    "    gender — пол клиента\n",
    "    income_type — тип занятости\n",
    "    debt — имел ли задолженность по возврату кредитов\n",
    "    total_income — ежемесячный доход\n",
    "    purpose — цель получения кредита"
   ]
  },
  {
   "cell_type": "markdown",
   "metadata": {},
   "source": [
    "##### План исследования.\n",
    "\n",
    "[Часть 1. Изучение данных:](#step1)\n",
    "\n",
    "[Часть 2. Предобработка данных:](#step2)\n",
    "\n",
    "   * [Обработка аномальных значений](#step21)\n",
    "   * [Обработка пропусков](#step22)\n",
    "   * [Замена типа данных](#step23)\n",
    "   * [Обработка дубликатов](#step24)\n",
    "   * [Лемматизация](#step25)\n",
    "   * [Категоризация данных](#step26)\n",
    "   \n",
    "[Часть 3. Ответы на поставленные вопросы](#step3)\n",
    "\n",
    "\n",
    "[Часть 4. Общий вывод](#step4)"
   ]
  },
  {
   "cell_type": "markdown",
   "metadata": {},
   "source": [
    "### Часть 1. Изучение данных <a id=\"step1\"></a>\n",
    "Импортируем библиотеки"
   ]
  },
  {
   "cell_type": "code",
   "execution_count": 3,
   "metadata": {},
   "outputs": [],
   "source": [
    "import pandas as pd\n",
    "import numpy as np\n",
    "import seaborn as sns\n",
    "import pymorphy2\n",
    "import os\n",
    "from collections import Counter"
   ]
  },
  {
   "cell_type": "markdown",
   "metadata": {},
   "source": [
    "Откроем таблицу и изучим данные первых 10 строк."
   ]
  },
  {
   "cell_type": "code",
   "execution_count": 4,
   "metadata": {},
   "outputs": [
    {
     "data": {
      "text/html": [
       "<div>\n",
       "<style scoped>\n",
       "    .dataframe tbody tr th:only-of-type {\n",
       "        vertical-align: middle;\n",
       "    }\n",
       "\n",
       "    .dataframe tbody tr th {\n",
       "        vertical-align: top;\n",
       "    }\n",
       "\n",
       "    .dataframe thead th {\n",
       "        text-align: right;\n",
       "    }\n",
       "</style>\n",
       "<table border=\"1\" class=\"dataframe\">\n",
       "  <thead>\n",
       "    <tr style=\"text-align: right;\">\n",
       "      <th></th>\n",
       "      <th>children</th>\n",
       "      <th>days_employed</th>\n",
       "      <th>dob_years</th>\n",
       "      <th>education</th>\n",
       "      <th>education_id</th>\n",
       "      <th>family_status</th>\n",
       "      <th>family_status_id</th>\n",
       "      <th>gender</th>\n",
       "      <th>income_type</th>\n",
       "      <th>debt</th>\n",
       "      <th>total_income</th>\n",
       "      <th>purpose</th>\n",
       "    </tr>\n",
       "  </thead>\n",
       "  <tbody>\n",
       "    <tr>\n",
       "      <th>0</th>\n",
       "      <td>1</td>\n",
       "      <td>-8437.673028</td>\n",
       "      <td>42</td>\n",
       "      <td>высшее</td>\n",
       "      <td>0</td>\n",
       "      <td>женат / замужем</td>\n",
       "      <td>0</td>\n",
       "      <td>F</td>\n",
       "      <td>сотрудник</td>\n",
       "      <td>0</td>\n",
       "      <td>253875.639453</td>\n",
       "      <td>покупка жилья</td>\n",
       "    </tr>\n",
       "    <tr>\n",
       "      <th>1</th>\n",
       "      <td>1</td>\n",
       "      <td>-4024.803754</td>\n",
       "      <td>36</td>\n",
       "      <td>среднее</td>\n",
       "      <td>1</td>\n",
       "      <td>женат / замужем</td>\n",
       "      <td>0</td>\n",
       "      <td>F</td>\n",
       "      <td>сотрудник</td>\n",
       "      <td>0</td>\n",
       "      <td>112080.014102</td>\n",
       "      <td>приобретение автомобиля</td>\n",
       "    </tr>\n",
       "    <tr>\n",
       "      <th>2</th>\n",
       "      <td>0</td>\n",
       "      <td>-5623.422610</td>\n",
       "      <td>33</td>\n",
       "      <td>Среднее</td>\n",
       "      <td>1</td>\n",
       "      <td>женат / замужем</td>\n",
       "      <td>0</td>\n",
       "      <td>M</td>\n",
       "      <td>сотрудник</td>\n",
       "      <td>0</td>\n",
       "      <td>145885.952297</td>\n",
       "      <td>покупка жилья</td>\n",
       "    </tr>\n",
       "    <tr>\n",
       "      <th>3</th>\n",
       "      <td>3</td>\n",
       "      <td>-4124.747207</td>\n",
       "      <td>32</td>\n",
       "      <td>среднее</td>\n",
       "      <td>1</td>\n",
       "      <td>женат / замужем</td>\n",
       "      <td>0</td>\n",
       "      <td>M</td>\n",
       "      <td>сотрудник</td>\n",
       "      <td>0</td>\n",
       "      <td>267628.550329</td>\n",
       "      <td>дополнительное образование</td>\n",
       "    </tr>\n",
       "    <tr>\n",
       "      <th>4</th>\n",
       "      <td>0</td>\n",
       "      <td>340266.072047</td>\n",
       "      <td>53</td>\n",
       "      <td>среднее</td>\n",
       "      <td>1</td>\n",
       "      <td>гражданский брак</td>\n",
       "      <td>1</td>\n",
       "      <td>F</td>\n",
       "      <td>пенсионер</td>\n",
       "      <td>0</td>\n",
       "      <td>158616.077870</td>\n",
       "      <td>сыграть свадьбу</td>\n",
       "    </tr>\n",
       "    <tr>\n",
       "      <th>5</th>\n",
       "      <td>0</td>\n",
       "      <td>-926.185831</td>\n",
       "      <td>27</td>\n",
       "      <td>высшее</td>\n",
       "      <td>0</td>\n",
       "      <td>гражданский брак</td>\n",
       "      <td>1</td>\n",
       "      <td>M</td>\n",
       "      <td>компаньон</td>\n",
       "      <td>0</td>\n",
       "      <td>255763.565419</td>\n",
       "      <td>покупка жилья</td>\n",
       "    </tr>\n",
       "    <tr>\n",
       "      <th>6</th>\n",
       "      <td>0</td>\n",
       "      <td>-2879.202052</td>\n",
       "      <td>43</td>\n",
       "      <td>высшее</td>\n",
       "      <td>0</td>\n",
       "      <td>женат / замужем</td>\n",
       "      <td>0</td>\n",
       "      <td>F</td>\n",
       "      <td>компаньон</td>\n",
       "      <td>0</td>\n",
       "      <td>240525.971920</td>\n",
       "      <td>операции с жильем</td>\n",
       "    </tr>\n",
       "    <tr>\n",
       "      <th>7</th>\n",
       "      <td>0</td>\n",
       "      <td>-152.779569</td>\n",
       "      <td>50</td>\n",
       "      <td>СРЕДНЕЕ</td>\n",
       "      <td>1</td>\n",
       "      <td>женат / замужем</td>\n",
       "      <td>0</td>\n",
       "      <td>M</td>\n",
       "      <td>сотрудник</td>\n",
       "      <td>0</td>\n",
       "      <td>135823.934197</td>\n",
       "      <td>образование</td>\n",
       "    </tr>\n",
       "    <tr>\n",
       "      <th>8</th>\n",
       "      <td>2</td>\n",
       "      <td>-6929.865299</td>\n",
       "      <td>35</td>\n",
       "      <td>ВЫСШЕЕ</td>\n",
       "      <td>0</td>\n",
       "      <td>гражданский брак</td>\n",
       "      <td>1</td>\n",
       "      <td>F</td>\n",
       "      <td>сотрудник</td>\n",
       "      <td>0</td>\n",
       "      <td>95856.832424</td>\n",
       "      <td>на проведение свадьбы</td>\n",
       "    </tr>\n",
       "    <tr>\n",
       "      <th>9</th>\n",
       "      <td>0</td>\n",
       "      <td>-2188.756445</td>\n",
       "      <td>41</td>\n",
       "      <td>среднее</td>\n",
       "      <td>1</td>\n",
       "      <td>женат / замужем</td>\n",
       "      <td>0</td>\n",
       "      <td>M</td>\n",
       "      <td>сотрудник</td>\n",
       "      <td>0</td>\n",
       "      <td>144425.938277</td>\n",
       "      <td>покупка жилья для семьи</td>\n",
       "    </tr>\n",
       "  </tbody>\n",
       "</table>\n",
       "</div>"
      ],
      "text/plain": [
       "   children  days_employed  dob_years education  education_id  \\\n",
       "0         1   -8437.673028         42    высшее             0   \n",
       "1         1   -4024.803754         36   среднее             1   \n",
       "2         0   -5623.422610         33   Среднее             1   \n",
       "3         3   -4124.747207         32   среднее             1   \n",
       "4         0  340266.072047         53   среднее             1   \n",
       "5         0    -926.185831         27    высшее             0   \n",
       "6         0   -2879.202052         43    высшее             0   \n",
       "7         0    -152.779569         50   СРЕДНЕЕ             1   \n",
       "8         2   -6929.865299         35    ВЫСШЕЕ             0   \n",
       "9         0   -2188.756445         41   среднее             1   \n",
       "\n",
       "      family_status  family_status_id gender income_type  debt   total_income  \\\n",
       "0   женат / замужем                 0      F   сотрудник     0  253875.639453   \n",
       "1   женат / замужем                 0      F   сотрудник     0  112080.014102   \n",
       "2   женат / замужем                 0      M   сотрудник     0  145885.952297   \n",
       "3   женат / замужем                 0      M   сотрудник     0  267628.550329   \n",
       "4  гражданский брак                 1      F   пенсионер     0  158616.077870   \n",
       "5  гражданский брак                 1      M   компаньон     0  255763.565419   \n",
       "6   женат / замужем                 0      F   компаньон     0  240525.971920   \n",
       "7   женат / замужем                 0      M   сотрудник     0  135823.934197   \n",
       "8  гражданский брак                 1      F   сотрудник     0   95856.832424   \n",
       "9   женат / замужем                 0      M   сотрудник     0  144425.938277   \n",
       "\n",
       "                      purpose  \n",
       "0               покупка жилья  \n",
       "1     приобретение автомобиля  \n",
       "2               покупка жилья  \n",
       "3  дополнительное образование  \n",
       "4             сыграть свадьбу  \n",
       "5               покупка жилья  \n",
       "6           операции с жильем  \n",
       "7                 образование  \n",
       "8       на проведение свадьбы  \n",
       "9     покупка жилья для семьи  "
      ]
     },
     "execution_count": 4,
     "metadata": {},
     "output_type": "execute_result"
    }
   ],
   "source": [
    "if os.path.exists('data.csv'): # проверка валидности пути к датасету при работе локально и с портала\n",
    "    df = pd.read_csv('data.csv')\n",
    "else:\n",
    "    df = pd.read_csv('/datasets/data.csv')\n",
    "\n",
    "df_initial = df.copy() # создаём копию исходного датасета для сверки с изменённым вариантом\n",
    "\n",
    "df.head(10)"
   ]
  },
  {
   "cell_type": "markdown",
   "metadata": {},
   "source": [
    "Изучим общие данные о таблице."
   ]
  },
  {
   "cell_type": "code",
   "execution_count": 5,
   "metadata": {},
   "outputs": [
    {
     "name": "stdout",
     "output_type": "stream",
     "text": [
      "<class 'pandas.core.frame.DataFrame'>\n",
      "RangeIndex: 21525 entries, 0 to 21524\n",
      "Data columns (total 12 columns):\n",
      " #   Column            Non-Null Count  Dtype  \n",
      "---  ------            --------------  -----  \n",
      " 0   children          21525 non-null  int64  \n",
      " 1   days_employed     19351 non-null  float64\n",
      " 2   dob_years         21525 non-null  int64  \n",
      " 3   education         21525 non-null  object \n",
      " 4   education_id      21525 non-null  int64  \n",
      " 5   family_status     21525 non-null  object \n",
      " 6   family_status_id  21525 non-null  int64  \n",
      " 7   gender            21525 non-null  object \n",
      " 8   income_type       21525 non-null  object \n",
      " 9   debt              21525 non-null  int64  \n",
      " 10  total_income      19351 non-null  float64\n",
      " 11  purpose           21525 non-null  object \n",
      "dtypes: float64(2), int64(5), object(5)\n",
      "memory usage: 2.0+ MB\n"
     ]
    }
   ],
   "source": [
    "df.info()"
   ]
  },
  {
   "cell_type": "markdown",
   "metadata": {},
   "source": [
    "А также статистическую информацию."
   ]
  },
  {
   "cell_type": "code",
   "execution_count": 6,
   "metadata": {},
   "outputs": [
    {
     "data": {
      "text/html": [
       "<div>\n",
       "<style scoped>\n",
       "    .dataframe tbody tr th:only-of-type {\n",
       "        vertical-align: middle;\n",
       "    }\n",
       "\n",
       "    .dataframe tbody tr th {\n",
       "        vertical-align: top;\n",
       "    }\n",
       "\n",
       "    .dataframe thead th {\n",
       "        text-align: right;\n",
       "    }\n",
       "</style>\n",
       "<table border=\"1\" class=\"dataframe\">\n",
       "  <thead>\n",
       "    <tr style=\"text-align: right;\">\n",
       "      <th></th>\n",
       "      <th>count</th>\n",
       "      <th>mean</th>\n",
       "      <th>std</th>\n",
       "      <th>min</th>\n",
       "      <th>25%</th>\n",
       "      <th>50%</th>\n",
       "      <th>75%</th>\n",
       "      <th>max</th>\n",
       "    </tr>\n",
       "  </thead>\n",
       "  <tbody>\n",
       "    <tr>\n",
       "      <th>children</th>\n",
       "      <td>21525.0</td>\n",
       "      <td>0.538908</td>\n",
       "      <td>1.381587</td>\n",
       "      <td>-1.000000</td>\n",
       "      <td>0.000000</td>\n",
       "      <td>0.000000</td>\n",
       "      <td>1.000000</td>\n",
       "      <td>2.000000e+01</td>\n",
       "    </tr>\n",
       "    <tr>\n",
       "      <th>days_employed</th>\n",
       "      <td>19351.0</td>\n",
       "      <td>63046.497661</td>\n",
       "      <td>140827.311974</td>\n",
       "      <td>-18388.949901</td>\n",
       "      <td>-2747.423625</td>\n",
       "      <td>-1203.369529</td>\n",
       "      <td>-291.095954</td>\n",
       "      <td>4.017554e+05</td>\n",
       "    </tr>\n",
       "    <tr>\n",
       "      <th>dob_years</th>\n",
       "      <td>21525.0</td>\n",
       "      <td>43.293380</td>\n",
       "      <td>12.574584</td>\n",
       "      <td>0.000000</td>\n",
       "      <td>33.000000</td>\n",
       "      <td>42.000000</td>\n",
       "      <td>53.000000</td>\n",
       "      <td>7.500000e+01</td>\n",
       "    </tr>\n",
       "    <tr>\n",
       "      <th>education_id</th>\n",
       "      <td>21525.0</td>\n",
       "      <td>0.817236</td>\n",
       "      <td>0.548138</td>\n",
       "      <td>0.000000</td>\n",
       "      <td>1.000000</td>\n",
       "      <td>1.000000</td>\n",
       "      <td>1.000000</td>\n",
       "      <td>4.000000e+00</td>\n",
       "    </tr>\n",
       "    <tr>\n",
       "      <th>family_status_id</th>\n",
       "      <td>21525.0</td>\n",
       "      <td>0.972544</td>\n",
       "      <td>1.420324</td>\n",
       "      <td>0.000000</td>\n",
       "      <td>0.000000</td>\n",
       "      <td>0.000000</td>\n",
       "      <td>1.000000</td>\n",
       "      <td>4.000000e+00</td>\n",
       "    </tr>\n",
       "    <tr>\n",
       "      <th>debt</th>\n",
       "      <td>21525.0</td>\n",
       "      <td>0.080883</td>\n",
       "      <td>0.272661</td>\n",
       "      <td>0.000000</td>\n",
       "      <td>0.000000</td>\n",
       "      <td>0.000000</td>\n",
       "      <td>0.000000</td>\n",
       "      <td>1.000000e+00</td>\n",
       "    </tr>\n",
       "    <tr>\n",
       "      <th>total_income</th>\n",
       "      <td>19351.0</td>\n",
       "      <td>167422.302208</td>\n",
       "      <td>102971.566448</td>\n",
       "      <td>20667.263793</td>\n",
       "      <td>103053.152913</td>\n",
       "      <td>145017.937533</td>\n",
       "      <td>203435.067663</td>\n",
       "      <td>2.265604e+06</td>\n",
       "    </tr>\n",
       "  </tbody>\n",
       "</table>\n",
       "</div>"
      ],
      "text/plain": [
       "                    count           mean            std           min  \\\n",
       "children          21525.0       0.538908       1.381587     -1.000000   \n",
       "days_employed     19351.0   63046.497661  140827.311974 -18388.949901   \n",
       "dob_years         21525.0      43.293380      12.574584      0.000000   \n",
       "education_id      21525.0       0.817236       0.548138      0.000000   \n",
       "family_status_id  21525.0       0.972544       1.420324      0.000000   \n",
       "debt              21525.0       0.080883       0.272661      0.000000   \n",
       "total_income      19351.0  167422.302208  102971.566448  20667.263793   \n",
       "\n",
       "                            25%            50%            75%           max  \n",
       "children               0.000000       0.000000       1.000000  2.000000e+01  \n",
       "days_employed      -2747.423625   -1203.369529    -291.095954  4.017554e+05  \n",
       "dob_years             33.000000      42.000000      53.000000  7.500000e+01  \n",
       "education_id           1.000000       1.000000       1.000000  4.000000e+00  \n",
       "family_status_id       0.000000       0.000000       1.000000  4.000000e+00  \n",
       "debt                   0.000000       0.000000       0.000000  1.000000e+00  \n",
       "total_income      103053.152913  145017.937533  203435.067663  2.265604e+06  "
      ]
     },
     "execution_count": 6,
     "metadata": {},
     "output_type": "execute_result"
    }
   ],
   "source": [
    "df.describe().transpose()"
   ]
  },
  {
   "cell_type": "markdown",
   "metadata": {},
   "source": [
    "Проверим уникальные значения по некоторым столбцам. Проверку по столбцам без проблемных значений опустим."
   ]
  },
  {
   "cell_type": "code",
   "execution_count": 7,
   "metadata": {},
   "outputs": [
    {
     "data": {
      "text/plain": [
       "array(['F', 'M', 'XNA'], dtype=object)"
      ]
     },
     "execution_count": 7,
     "metadata": {},
     "output_type": "execute_result"
    }
   ],
   "source": [
    "df['gender'].unique()"
   ]
  },
  {
   "cell_type": "markdown",
   "metadata": {},
   "source": [
    "Проверим частоту с которой встречается уникальное значение `XNA`"
   ]
  },
  {
   "cell_type": "code",
   "execution_count": 8,
   "metadata": {},
   "outputs": [
    {
     "data": {
      "text/html": [
       "<div>\n",
       "<style scoped>\n",
       "    .dataframe tbody tr th:only-of-type {\n",
       "        vertical-align: middle;\n",
       "    }\n",
       "\n",
       "    .dataframe tbody tr th {\n",
       "        vertical-align: top;\n",
       "    }\n",
       "\n",
       "    .dataframe thead th {\n",
       "        text-align: right;\n",
       "    }\n",
       "</style>\n",
       "<table border=\"1\" class=\"dataframe\">\n",
       "  <thead>\n",
       "    <tr style=\"text-align: right;\">\n",
       "      <th></th>\n",
       "      <th>children</th>\n",
       "      <th>days_employed</th>\n",
       "      <th>dob_years</th>\n",
       "      <th>education</th>\n",
       "      <th>education_id</th>\n",
       "      <th>family_status</th>\n",
       "      <th>family_status_id</th>\n",
       "      <th>gender</th>\n",
       "      <th>income_type</th>\n",
       "      <th>debt</th>\n",
       "      <th>total_income</th>\n",
       "      <th>purpose</th>\n",
       "    </tr>\n",
       "  </thead>\n",
       "  <tbody>\n",
       "    <tr>\n",
       "      <th>10701</th>\n",
       "      <td>0</td>\n",
       "      <td>-2358.600502</td>\n",
       "      <td>24</td>\n",
       "      <td>неоконченное высшее</td>\n",
       "      <td>2</td>\n",
       "      <td>гражданский брак</td>\n",
       "      <td>1</td>\n",
       "      <td>XNA</td>\n",
       "      <td>компаньон</td>\n",
       "      <td>0</td>\n",
       "      <td>203905.157261</td>\n",
       "      <td>покупка недвижимости</td>\n",
       "    </tr>\n",
       "  </tbody>\n",
       "</table>\n",
       "</div>"
      ],
      "text/plain": [
       "       children  days_employed  dob_years            education  education_id  \\\n",
       "10701         0   -2358.600502         24  неоконченное высшее             2   \n",
       "\n",
       "          family_status  family_status_id gender income_type  debt  \\\n",
       "10701  гражданский брак                 1    XNA   компаньон     0   \n",
       "\n",
       "        total_income               purpose  \n",
       "10701  203905.157261  покупка недвижимости  "
      ]
     },
     "execution_count": 8,
     "metadata": {},
     "output_type": "execute_result"
    }
   ],
   "source": [
    "df[df['gender'] == 'XNA']"
   ]
  },
  {
   "cell_type": "markdown",
   "metadata": {},
   "source": [
    "Значение встречается один раз. По косвенным признакам определить пол невозможно. Т.к. значение одно на 21525, на результаты сильно не повлияет, оставим как есть."
   ]
  },
  {
   "cell_type": "markdown",
   "metadata": {},
   "source": [
    "**Выводы**\n",
    "\n",
    "В названиях столбцов ошибок нет.\n",
    "\n",
    "В столбце `children` есть отрицательные значения и двузначные, предположительно ошибка ввода\n",
    "\n",
    "В столбце `days_employed` данные представлены с ошибками и пропусками, требуют обработки.\n",
    "* Пердпочтительный формат для подсчёта количества дней - целочисленный.\n",
    "* Отрицательные числа для подсчёта дней не имеют смысла, вероятно, тут ошибка в знаке.\n",
    "* Некоторые данные явно ошибочны. Пример: пенсионерка из 4ой ячейки, её стаж составляет 932 года.\n",
    "\n",
    "В столбце `education` присутствуют значения в разном регистре, следует привести их к единому виду.\n",
    "\n",
    "В столбце `total_income` значения представлены в формате **float**, можно заменить его на **int32** для экономии памяти, также отсутствует часть данных, необходима обработка."
   ]
  },
  {
   "cell_type": "markdown",
   "metadata": {},
   "source": [
    "## Часть 2. Предобработка данных <a id=\"step2\"></a>"
   ]
  },
  {
   "cell_type": "markdown",
   "metadata": {},
   "source": [
    "### Обработка аномальных значений <a id=\"step21\"></a>"
   ]
  },
  {
   "cell_type": "markdown",
   "metadata": {},
   "source": [
    "Перед заполнением пропусков необходимо скорректировать знак в столбце `days_employed`."
   ]
  },
  {
   "cell_type": "code",
   "execution_count": 9,
   "metadata": {},
   "outputs": [],
   "source": [
    "df['days_employed'] = abs(df['days_employed'])"
   ]
  },
  {
   "cell_type": "markdown",
   "metadata": {},
   "source": [
    "В столбце `children` заменим отрицательные значения на положительные и на порядок понизим значение `20`."
   ]
  },
  {
   "cell_type": "code",
   "execution_count": 10,
   "metadata": {},
   "outputs": [],
   "source": [
    "df['children'] = abs(df['children'])\n",
    "df['children'] = df['children'].transform(lambda x: x/10 if x == 20 else x)"
   ]
  },
  {
   "cell_type": "markdown",
   "metadata": {},
   "source": [
    "Теперь проверим распределение данных о стаже по возрасту."
   ]
  },
  {
   "cell_type": "code",
   "execution_count": 11,
   "metadata": {},
   "outputs": [
    {
     "data": {
      "text/plain": [
       "<AxesSubplot:xlabel='dob_years', ylabel='days_employed'>"
      ]
     },
     "execution_count": 11,
     "metadata": {},
     "output_type": "execute_result"
    },
    {
     "data": {
      "image/png": "[encoded data removed]",
      "text/plain": [
       "<Figure size 432x288 with 1 Axes>"
      ]
     },
     "metadata": {
      "needs_background": "light"
     },
     "output_type": "display_data"
    }
   ],
   "source": [
    "sns.scatterplot(x=\"dob_years\", y=\"days_employed\", data=df)"
   ]
  },
  {
   "cell_type": "markdown",
   "metadata": {},
   "source": [
    "Виден аномальный выброс данных по стажу. Найдём количество строк с нулевыми значениями возраста, а также количество строк с аномальными данными."
   ]
  },
  {
   "cell_type": "code",
   "execution_count": 12,
   "metadata": {},
   "outputs": [
    {
     "data": {
      "text/plain": [
       "101"
      ]
     },
     "execution_count": 12,
     "metadata": {},
     "output_type": "execute_result"
    }
   ],
   "source": [
    "df[df['dob_years'] == 0].shape[0]"
   ]
  },
  {
   "cell_type": "code",
   "execution_count": 13,
   "metadata": {},
   "outputs": [
    {
     "data": {
      "text/plain": [
       "3458"
      ]
     },
     "execution_count": 13,
     "metadata": {},
     "output_type": "execute_result"
    }
   ],
   "source": [
    "df[df['days_employed'] > 15000].shape[0]"
   ]
  },
  {
   "cell_type": "markdown",
   "metadata": {},
   "source": [
    "Количество пропусков по возрасту небольшое и на результаты исследования значительного влияния не окажет. Заменим эти данные минимальным трудоспособным возрастом.\n",
    "\n",
    "Аномальные значения стажа заменим на максимальный стаж для данного возраста. Это повлияет на результаты, но достать исправные даные у нас нет возможности. Ещё один вариант который можно было бы опробовать - выделить все аномальные данные во второй набор, проанализировать отдельно и сравнить результаты."
   ]
  },
  {
   "cell_type": "code",
   "execution_count": 14,
   "metadata": {},
   "outputs": [],
   "source": [
    "def minimum_years(row):\n",
    "    '''\n",
    "    Функция проверяет возраст и если он равен нулю, возвращает 19, иначе оставляет без изменений.\n",
    "    '''\n",
    "    if row['dob_years'] == 0:\n",
    "        return 19\n",
    "    else:\n",
    "        return row['dob_years']\n",
    "\n",
    "df['dob_years'] = df.apply(minimum_years, axis=1)"
   ]
  },
  {
   "cell_type": "code",
   "execution_count": 15,
   "metadata": {},
   "outputs": [],
   "source": [
    "def max_days(row):\n",
    "    '''\n",
    "    Функция проверяет количество дней трудоустройства и возвращает\n",
    "    максимальное количество дней для данного возраста и пола\n",
    "    если ранее в ячейке стояло аномально большое число или 0.\n",
    "    '''\n",
    "    if (row['gender'] == 'M' and row['dob_years'] < 65\n",
    "        and row['days_employed'] > ((row['dob_years'] - 16) * 365) or row['days_employed'] == 0):\n",
    "        return (row['dob_years'] - 16) * 365\n",
    "    elif (row['gender'] == 'F' and row['dob_years'] < 60\n",
    "          and row['days_employed'] > ((row['dob_years'] - 16) * 365) or row['days_employed'] == 0):\n",
    "        return (row['dob_years'] - 16) * 365\n",
    "    elif row['gender'] == 'M' and row['dob_years'] >= 65:\n",
    "        return (65 - 16) * 365\n",
    "    elif row['gender'] == 'F' and row['dob_years'] >= 60:\n",
    "        return (60 - 16) * 365\n",
    "    else:\n",
    "        return row['days_employed']\n",
    "\n",
    "df['days_employed'] = df.apply(max_days, axis=1)"
   ]
  },
  {
   "cell_type": "markdown",
   "metadata": {},
   "source": [
    "Повторно проверим распределение данных о стаже по возрасту."
   ]
  },
  {
   "cell_type": "code",
   "execution_count": 16,
   "metadata": {
    "scrolled": true
   },
   "outputs": [
    {
     "data": {
      "text/plain": [
       "<AxesSubplot:xlabel='dob_years', ylabel='days_employed'>"
      ]
     },
     "execution_count": 16,
     "metadata": {},
     "output_type": "execute_result"
    },
    {
     "data": {
      "image/png": "[encoded data removed]",
      "text/plain": [
       "<Figure size 432x288 with 1 Axes>"
      ]
     },
     "metadata": {
      "needs_background": "light"
     },
     "output_type": "display_data"
    }
   ],
   "source": [
    "sns.scatterplot(x=\"dob_years\", y=\"days_employed\", data=df)"
   ]
  },
  {
   "cell_type": "markdown",
   "metadata": {},
   "source": [
    "**Вывод**\n",
    "\n",
    "* В столбце `children` исправили отрицательные значения и двузначные.\n",
    "* В столбце `days_employed` исправили знак чисел, нулевые значения и аномальные данные.\n",
    "\n",
    "Мы очистили данные от явно неверных и отрицательных значений. Теперь можно перейти к обработке пропусков.\n",
    "\n",
    "\n"
   ]
  },
  {
   "cell_type": "markdown",
   "metadata": {},
   "source": [
    "### Обработка пропусков <a id=\"step22\"></a>\n",
    "Сначала проверим общее количество пропусков в данных."
   ]
  },
  {
   "cell_type": "code",
   "execution_count": 17,
   "metadata": {
    "scrolled": false
   },
   "outputs": [
    {
     "data": {
      "text/plain": [
       "children               0\n",
       "days_employed       2174\n",
       "dob_years              0\n",
       "education              0\n",
       "education_id           0\n",
       "family_status          0\n",
       "family_status_id       0\n",
       "gender                 0\n",
       "income_type            0\n",
       "debt                   0\n",
       "total_income        2174\n",
       "purpose                0\n",
       "dtype: int64"
      ]
     },
     "execution_count": 17,
     "metadata": {},
     "output_type": "execute_result"
    }
   ],
   "source": [
    "df_initial.isna().sum()"
   ]
  },
  {
   "cell_type": "markdown",
   "metadata": {},
   "source": [
    "По 2174 пропущенных значения в столбцах `days_employed` и `total_income`, проверим одновременность появления пропадающих значений."
   ]
  },
  {
   "cell_type": "code",
   "execution_count": 18,
   "metadata": {},
   "outputs": [
    {
     "name": "stdout",
     "output_type": "stream",
     "text": [
      "Пропущенные значения появляются не одновременно.\n"
     ]
    }
   ],
   "source": [
    "def sim_check(row):\n",
    "    '''\n",
    "    Функция проверяет одновременность появления пропущенных значений в столбцах 'days_employed' и 'total_income'.\n",
    "    '''\n",
    "    if pd.isna(row['days_employed']) and ~(pd.isna(row['total_income'])):\n",
    "        return 1\n",
    "    else:\n",
    "        return 0\n",
    "        \n",
    "if df.apply(sim_check, axis=1).sum() == 0:\n",
    "    print('Пропущенные значения появляются одновременно.')\n",
    "else:\n",
    "    print('Пропущенные значения появляются не одновременно.')"
   ]
  },
  {
   "cell_type": "markdown",
   "metadata": {},
   "source": [
    "Вероятно, произошёл технический сбой при выгрузке в таблицу части данных. Объём пропущенных значений - больше 10% от общего количества, что значительно повлияет на результаты исследования. Восстановить данные не представляется возможным, поэтому необходимо будет заполнить пропущенные значения.\n",
    "\n",
    "Для заполнения пропущенных данных о стаже возьмём медианное значение внутри разных возрастных групп, т.к. чаще всего стаж напрямую коррелирует с возрастом.\n",
    "\n",
    "Данные о доходе возьмём как медиану от заработка внутри групп по типу занятости.\n",
    "\n",
    "Заполним пропущенные данные в столбце `days_employed`, сгруппировав по столбцу `dob_years`"
   ]
  },
  {
   "cell_type": "code",
   "execution_count": 19,
   "metadata": {},
   "outputs": [],
   "source": [
    "df['days_employed'] = df.groupby('dob_years')['days_employed'].transform(lambda x: x.fillna(x.median()))"
   ]
  },
  {
   "cell_type": "markdown",
   "metadata": {},
   "source": [
    "Заполним пропущенные данные в столбце `total_income`, сгруппировав по столбцу `income_type`"
   ]
  },
  {
   "cell_type": "code",
   "execution_count": 20,
   "metadata": {},
   "outputs": [],
   "source": [
    "df['total_income'] = df.groupby('income_type')['total_income'].transform(lambda x: x.fillna(x.median()))"
   ]
  },
  {
   "cell_type": "markdown",
   "metadata": {},
   "source": [
    "Снова проверим общее количество пропусков в данных."
   ]
  },
  {
   "cell_type": "code",
   "execution_count": 21,
   "metadata": {
    "scrolled": false
   },
   "outputs": [
    {
     "data": {
      "text/plain": [
       "children            0\n",
       "days_employed       0\n",
       "dob_years           0\n",
       "education           0\n",
       "education_id        0\n",
       "family_status       0\n",
       "family_status_id    0\n",
       "gender              0\n",
       "income_type         0\n",
       "debt                0\n",
       "total_income        0\n",
       "purpose             0\n",
       "dtype: int64"
      ]
     },
     "execution_count": 21,
     "metadata": {},
     "output_type": "execute_result"
    }
   ],
   "source": [
    "df.isna().sum()"
   ]
  },
  {
   "cell_type": "markdown",
   "metadata": {},
   "source": [
    "**Вывод**\n",
    "\n",
    "Мы очистили данные от пропусков:\n",
    "* для столбца `days_employed` заполнив данные медианой для соответствующих возрастных груп;\n",
    "* для столбцы `total_income` заполнив данные медианой для соответствующих групп по типу заработка.\n",
    "\n",
    "Теперь можно перейти к замене неподходящих типов данных."
   ]
  },
  {
   "cell_type": "markdown",
   "metadata": {},
   "source": [
    "### Замена типа данных <a id=\"step23\"></a>"
   ]
  },
  {
   "cell_type": "markdown",
   "metadata": {},
   "source": [
    "Сначала ещё раз посмотрим на информацию по табличным данным."
   ]
  },
  {
   "cell_type": "code",
   "execution_count": 22,
   "metadata": {
    "scrolled": true
   },
   "outputs": [
    {
     "name": "stdout",
     "output_type": "stream",
     "text": [
      "<class 'pandas.core.frame.DataFrame'>\n",
      "RangeIndex: 21525 entries, 0 to 21524\n",
      "Data columns (total 12 columns):\n",
      " #   Column            Non-Null Count  Dtype  \n",
      "---  ------            --------------  -----  \n",
      " 0   children          21525 non-null  float64\n",
      " 1   days_employed     21525 non-null  float64\n",
      " 2   dob_years         21525 non-null  int64  \n",
      " 3   education         21525 non-null  object \n",
      " 4   education_id      21525 non-null  int64  \n",
      " 5   family_status     21525 non-null  object \n",
      " 6   family_status_id  21525 non-null  int64  \n",
      " 7   gender            21525 non-null  object \n",
      " 8   income_type       21525 non-null  object \n",
      " 9   debt              21525 non-null  int64  \n",
      " 10  total_income      21525 non-null  float64\n",
      " 11  purpose           21525 non-null  object \n",
      "dtypes: float64(3), int64(4), object(5)\n",
      "memory usage: 2.0+ MB\n"
     ]
    }
   ],
   "source": [
    "df.info()"
   ]
  },
  {
   "cell_type": "markdown",
   "metadata": {},
   "source": [
    "Проверим диапазоны значений в столбцах после замены аномальных данных и пропусков."
   ]
  },
  {
   "cell_type": "code",
   "execution_count": 23,
   "metadata": {
    "scrolled": true
   },
   "outputs": [
    {
     "data": {
      "text/html": [
       "<div>\n",
       "<style scoped>\n",
       "    .dataframe tbody tr th:only-of-type {\n",
       "        vertical-align: middle;\n",
       "    }\n",
       "\n",
       "    .dataframe tbody tr th {\n",
       "        vertical-align: top;\n",
       "    }\n",
       "\n",
       "    .dataframe thead th {\n",
       "        text-align: right;\n",
       "    }\n",
       "</style>\n",
       "<table border=\"1\" class=\"dataframe\">\n",
       "  <thead>\n",
       "    <tr style=\"text-align: right;\">\n",
       "      <th></th>\n",
       "      <th>count</th>\n",
       "      <th>mean</th>\n",
       "      <th>std</th>\n",
       "      <th>min</th>\n",
       "      <th>25%</th>\n",
       "      <th>50%</th>\n",
       "      <th>75%</th>\n",
       "      <th>max</th>\n",
       "    </tr>\n",
       "  </thead>\n",
       "  <tbody>\n",
       "    <tr>\n",
       "      <th>children</th>\n",
       "      <td>21525.0</td>\n",
       "      <td>0.479721</td>\n",
       "      <td>0.755528</td>\n",
       "      <td>0.000000</td>\n",
       "      <td>0.000000</td>\n",
       "      <td>0.000000</td>\n",
       "      <td>1.000000</td>\n",
       "      <td>5.000000e+00</td>\n",
       "    </tr>\n",
       "    <tr>\n",
       "      <th>days_employed</th>\n",
       "      <td>21525.0</td>\n",
       "      <td>4828.407434</td>\n",
       "      <td>5561.686353</td>\n",
       "      <td>24.141633</td>\n",
       "      <td>1017.805320</td>\n",
       "      <td>2203.078545</td>\n",
       "      <td>5920.998376</td>\n",
       "      <td>1.788500e+04</td>\n",
       "    </tr>\n",
       "    <tr>\n",
       "      <th>dob_years</th>\n",
       "      <td>21525.0</td>\n",
       "      <td>43.382532</td>\n",
       "      <td>12.332333</td>\n",
       "      <td>19.000000</td>\n",
       "      <td>33.000000</td>\n",
       "      <td>42.000000</td>\n",
       "      <td>53.000000</td>\n",
       "      <td>7.500000e+01</td>\n",
       "    </tr>\n",
       "    <tr>\n",
       "      <th>education_id</th>\n",
       "      <td>21525.0</td>\n",
       "      <td>0.817236</td>\n",
       "      <td>0.548138</td>\n",
       "      <td>0.000000</td>\n",
       "      <td>1.000000</td>\n",
       "      <td>1.000000</td>\n",
       "      <td>1.000000</td>\n",
       "      <td>4.000000e+00</td>\n",
       "    </tr>\n",
       "    <tr>\n",
       "      <th>family_status_id</th>\n",
       "      <td>21525.0</td>\n",
       "      <td>0.972544</td>\n",
       "      <td>1.420324</td>\n",
       "      <td>0.000000</td>\n",
       "      <td>0.000000</td>\n",
       "      <td>0.000000</td>\n",
       "      <td>1.000000</td>\n",
       "      <td>4.000000e+00</td>\n",
       "    </tr>\n",
       "    <tr>\n",
       "      <th>debt</th>\n",
       "      <td>21525.0</td>\n",
       "      <td>0.080883</td>\n",
       "      <td>0.272661</td>\n",
       "      <td>0.000000</td>\n",
       "      <td>0.000000</td>\n",
       "      <td>0.000000</td>\n",
       "      <td>0.000000</td>\n",
       "      <td>1.000000e+00</td>\n",
       "    </tr>\n",
       "    <tr>\n",
       "      <th>total_income</th>\n",
       "      <td>21525.0</td>\n",
       "      <td>165225.324514</td>\n",
       "      <td>98043.665491</td>\n",
       "      <td>20667.263793</td>\n",
       "      <td>107798.172619</td>\n",
       "      <td>142594.396847</td>\n",
       "      <td>195549.940861</td>\n",
       "      <td>2.265604e+06</td>\n",
       "    </tr>\n",
       "  </tbody>\n",
       "</table>\n",
       "</div>"
      ],
      "text/plain": [
       "                    count           mean           std           min  \\\n",
       "children          21525.0       0.479721      0.755528      0.000000   \n",
       "days_employed     21525.0    4828.407434   5561.686353     24.141633   \n",
       "dob_years         21525.0      43.382532     12.332333     19.000000   \n",
       "education_id      21525.0       0.817236      0.548138      0.000000   \n",
       "family_status_id  21525.0       0.972544      1.420324      0.000000   \n",
       "debt              21525.0       0.080883      0.272661      0.000000   \n",
       "total_income      21525.0  165225.324514  98043.665491  20667.263793   \n",
       "\n",
       "                            25%            50%            75%           max  \n",
       "children               0.000000       0.000000       1.000000  5.000000e+00  \n",
       "days_employed       1017.805320    2203.078545    5920.998376  1.788500e+04  \n",
       "dob_years             33.000000      42.000000      53.000000  7.500000e+01  \n",
       "education_id           1.000000       1.000000       1.000000  4.000000e+00  \n",
       "family_status_id       0.000000       0.000000       1.000000  4.000000e+00  \n",
       "debt                   0.000000       0.000000       0.000000  1.000000e+00  \n",
       "total_income      107798.172619  142594.396847  195549.940861  2.265604e+06  "
      ]
     },
     "execution_count": 23,
     "metadata": {},
     "output_type": "execute_result"
    }
   ],
   "source": [
    "df.describe().transpose()"
   ]
  },
  {
   "cell_type": "markdown",
   "metadata": {},
   "source": [
    "Данные в столбцах `children`, `dob_years`, `education_id`, `family_status_id`, `debt` можно заменить на тип `int8`.\n",
    "\n",
    "В столбце `days_employed` заменить на `int16`.\n",
    "\n",
    "Столбец `total_income` лучше оставить в типе `int64`.\n"
   ]
  },
  {
   "cell_type": "code",
   "execution_count": 24,
   "metadata": {},
   "outputs": [],
   "source": [
    "df = df.astype({'children':'int8', 'dob_years':'int8', 'education_id':'int8',\n",
    "                'family_status_id':'int8', 'debt':'int8', 'days_employed':'int16', 'total_income':'int64'})"
   ]
  },
  {
   "cell_type": "code",
   "execution_count": 25,
   "metadata": {
    "scrolled": true
   },
   "outputs": [
    {
     "name": "stdout",
     "output_type": "stream",
     "text": [
      "<class 'pandas.core.frame.DataFrame'>\n",
      "RangeIndex: 21525 entries, 0 to 21524\n",
      "Data columns (total 12 columns):\n",
      " #   Column            Non-Null Count  Dtype \n",
      "---  ------            --------------  ----- \n",
      " 0   children          21525 non-null  int8  \n",
      " 1   days_employed     21525 non-null  int16 \n",
      " 2   dob_years         21525 non-null  int8  \n",
      " 3   education         21525 non-null  object\n",
      " 4   education_id      21525 non-null  int8  \n",
      " 5   family_status     21525 non-null  object\n",
      " 6   family_status_id  21525 non-null  int8  \n",
      " 7   gender            21525 non-null  object\n",
      " 8   income_type       21525 non-null  object\n",
      " 9   debt              21525 non-null  int8  \n",
      " 10  total_income      21525 non-null  int64 \n",
      " 11  purpose           21525 non-null  object\n",
      "dtypes: int16(1), int64(1), int8(5), object(5)\n",
      "memory usage: 1.1+ MB\n"
     ]
    }
   ],
   "source": [
    "df.info()"
   ]
  },
  {
   "cell_type": "markdown",
   "metadata": {},
   "source": [
    "**Вывод**\n",
    "\n",
    "Мы заменили типы данных на более подходящие, исходя из анализа диапазона возможных значений. Как текущих, так и возможных при обновлении данных.\n",
    "\n",
    "Рациональная замена типов данных позволила нам уменьшить объём используемой памяти с 2.0 до 1.1. МБ, т.е. на 55%."
   ]
  },
  {
   "cell_type": "markdown",
   "metadata": {},
   "source": [
    "### Обработка дубликатов <a id=\"step24\"></a>"
   ]
  },
  {
   "cell_type": "markdown",
   "metadata": {},
   "source": [
    "При просмотре данных таблицы мы заметили что в категориальных данных есть неявные дубликаты связанные с ошибками ввода (разный регистр). Проверим столбцы с данными и исправим неверные значения переводом в единый регистр."
   ]
  },
  {
   "cell_type": "code",
   "execution_count": 26,
   "metadata": {},
   "outputs": [
    {
     "data": {
      "text/plain": [
       "array(['высшее', 'среднее', 'Среднее', 'СРЕДНЕЕ', 'ВЫСШЕЕ',\n",
       "       'неоконченное высшее', 'начальное', 'Высшее',\n",
       "       'НЕОКОНЧЕННОЕ ВЫСШЕЕ', 'Неоконченное высшее', 'НАЧАЛЬНОЕ',\n",
       "       'Начальное', 'Ученая степень', 'УЧЕНАЯ СТЕПЕНЬ', 'ученая степень'],\n",
       "      dtype=object)"
      ]
     },
     "execution_count": 26,
     "metadata": {},
     "output_type": "execute_result"
    }
   ],
   "source": [
    "df['education'].unique()"
   ]
  },
  {
   "cell_type": "markdown",
   "metadata": {},
   "source": [
    "Применим метод `.str.lower()` библиотеки `Pandas`"
   ]
  },
  {
   "cell_type": "code",
   "execution_count": 27,
   "metadata": {},
   "outputs": [
    {
     "data": {
      "text/plain": [
       "array(['высшее', 'среднее', 'неоконченное высшее', 'начальное',\n",
       "       'ученая степень'], dtype=object)"
      ]
     },
     "execution_count": 27,
     "metadata": {},
     "output_type": "execute_result"
    }
   ],
   "source": [
    "df['education'] = df['education'].str.lower()\n",
    "df['education'].unique()"
   ]
  },
  {
   "cell_type": "markdown",
   "metadata": {},
   "source": [
    "Проведём аналогичную проверку и исправление для других категориальных строковых данных."
   ]
  },
  {
   "cell_type": "code",
   "execution_count": 28,
   "metadata": {},
   "outputs": [
    {
     "data": {
      "text/plain": [
       "array(['женат / замужем', 'гражданский брак', 'вдовец / вдова',\n",
       "       'в разводе', 'Не женат / не замужем'], dtype=object)"
      ]
     },
     "execution_count": 28,
     "metadata": {},
     "output_type": "execute_result"
    }
   ],
   "source": [
    "df['family_status'].unique()"
   ]
  },
  {
   "cell_type": "code",
   "execution_count": 29,
   "metadata": {
    "scrolled": true
   },
   "outputs": [
    {
     "data": {
      "text/plain": [
       "array(['женат / замужем', 'гражданский брак', 'вдовец / вдова',\n",
       "       'в разводе', 'не женат / не замужем'], dtype=object)"
      ]
     },
     "execution_count": 29,
     "metadata": {},
     "output_type": "execute_result"
    }
   ],
   "source": [
    "df['family_status'] = df['family_status'].str.lower()\n",
    "df['family_status'].unique()"
   ]
  },
  {
   "cell_type": "markdown",
   "metadata": {},
   "source": [
    "Проведём проверку столбца описывающего категорию дохода."
   ]
  },
  {
   "cell_type": "code",
   "execution_count": 30,
   "metadata": {},
   "outputs": [
    {
     "data": {
      "text/plain": [
       "array(['сотрудник', 'пенсионер', 'компаньон', 'госслужащий',\n",
       "       'безработный', 'предприниматель', 'студент', 'в декрете'],\n",
       "      dtype=object)"
      ]
     },
     "execution_count": 30,
     "metadata": {},
     "output_type": "execute_result"
    }
   ],
   "source": [
    "df['income_type'].unique()"
   ]
  },
  {
   "cell_type": "markdown",
   "metadata": {},
   "source": [
    "В данном столбце проблем нет."
   ]
  },
  {
   "cell_type": "code",
   "execution_count": 31,
   "metadata": {},
   "outputs": [
    {
     "data": {
      "text/plain": [
       "array(['покупка жилья', 'приобретение автомобиля',\n",
       "       'дополнительное образование', 'сыграть свадьбу',\n",
       "       'операции с жильем', 'образование', 'на проведение свадьбы',\n",
       "       'покупка жилья для семьи', 'покупка недвижимости',\n",
       "       'покупка коммерческой недвижимости', 'покупка жилой недвижимости',\n",
       "       'строительство собственной недвижимости', 'недвижимость',\n",
       "       'строительство недвижимости', 'на покупку подержанного автомобиля',\n",
       "       'на покупку своего автомобиля',\n",
       "       'операции с коммерческой недвижимостью',\n",
       "       'строительство жилой недвижимости', 'жилье',\n",
       "       'операции со своей недвижимостью', 'автомобили',\n",
       "       'заняться образованием', 'сделка с подержанным автомобилем',\n",
       "       'получение образования', 'автомобиль', 'свадьба',\n",
       "       'получение дополнительного образования', 'покупка своего жилья',\n",
       "       'операции с недвижимостью', 'получение высшего образования',\n",
       "       'свой автомобиль', 'сделка с автомобилем',\n",
       "       'профильное образование', 'высшее образование',\n",
       "       'покупка жилья для сдачи', 'на покупку автомобиля', 'ремонт жилью',\n",
       "       'заняться высшим образованием'], dtype=object)"
      ]
     },
     "execution_count": 31,
     "metadata": {},
     "output_type": "execute_result"
    }
   ],
   "source": [
    "df['purpose'].unique()"
   ]
  },
  {
   "cell_type": "markdown",
   "metadata": {},
   "source": [
    "В столбце с целями весь текст в одном регистре. Есть похожие по смыслу но разные по формулировке цели, мы их  рассмотрим позже при категоризации.\n",
    "\n",
    "Теперь проверим наличие дубликатов."
   ]
  },
  {
   "cell_type": "code",
   "execution_count": 32,
   "metadata": {
    "scrolled": true
   },
   "outputs": [
    {
     "data": {
      "text/plain": [
       "71"
      ]
     },
     "execution_count": 32,
     "metadata": {},
     "output_type": "execute_result"
    }
   ],
   "source": [
    "df.duplicated().sum()"
   ]
  },
  {
   "cell_type": "markdown",
   "metadata": {},
   "source": [
    "Применим метод `drop_duplicates()` в сочетании с методом `reset_index(drop = True)` для сброса индексов таблицы без повторов."
   ]
  },
  {
   "cell_type": "code",
   "execution_count": 33,
   "metadata": {},
   "outputs": [],
   "source": [
    "df = df.drop_duplicates().reset_index(drop = True)"
   ]
  },
  {
   "cell_type": "markdown",
   "metadata": {},
   "source": [
    "Проверим снова общее количество дубликатов."
   ]
  },
  {
   "cell_type": "code",
   "execution_count": 34,
   "metadata": {
    "scrolled": true
   },
   "outputs": [
    {
     "data": {
      "text/plain": [
       "0"
      ]
     },
     "execution_count": 34,
     "metadata": {},
     "output_type": "execute_result"
    }
   ],
   "source": [
    "df.duplicated().sum()"
   ]
  },
  {
   "cell_type": "markdown",
   "metadata": {},
   "source": [
    "**Вывод**\n",
    "\n",
    "Мы избавились от явных и скрытых дубликатов, можно переходить к анализу содержимого колонки `purpose`."
   ]
  },
  {
   "cell_type": "markdown",
   "metadata": {},
   "source": [
    "### Лемматизация <a id=\"step25\"></a>"
   ]
  },
  {
   "cell_type": "markdown",
   "metadata": {},
   "source": [
    "Используя библиотеку `pymorphy2` (`pymystem3` не работает под Windows) проведём лемматизацию, используя функцию  лемматизации и метод `.transform()`. Результаты сохраним в новом столбце `purpose_lemmas`."
   ]
  },
  {
   "cell_type": "code",
   "execution_count": 35,
   "metadata": {},
   "outputs": [],
   "source": [
    "morph = pymorphy2.MorphAnalyzer()\n",
    "\n",
    "lemmas_list = [] # создадим общий список лемм для дальнейшего отбора категорий\n",
    "\n",
    "def lemmas(text):\n",
    "    '''\n",
    "    Функция лемматизирует значения из строки и возвращает список с леммами.\n",
    "    '''\n",
    "    words = text.split()\n",
    "    result = list()\n",
    "    for word in words:\n",
    "        lemma = morph.parse(word)[0].normal_form\n",
    "        result.append(lemma)\n",
    "        lemmas_list.append(lemma)\n",
    "    return result\n",
    "\n",
    "df_lemmas = df.copy()\n",
    "df_lemmas['purpose_lemmas'] = df_lemmas['purpose'].transform(lemmas)"
   ]
  },
  {
   "cell_type": "markdown",
   "metadata": {},
   "source": [
    "Для проверки выведем первые и последние 5 строк таблицы."
   ]
  },
  {
   "cell_type": "code",
   "execution_count": 36,
   "metadata": {},
   "outputs": [
    {
     "data": {
      "text/html": [
       "<div>\n",
       "<style scoped>\n",
       "    .dataframe tbody tr th:only-of-type {\n",
       "        vertical-align: middle;\n",
       "    }\n",
       "\n",
       "    .dataframe tbody tr th {\n",
       "        vertical-align: top;\n",
       "    }\n",
       "\n",
       "    .dataframe thead th {\n",
       "        text-align: right;\n",
       "    }\n",
       "</style>\n",
       "<table border=\"1\" class=\"dataframe\">\n",
       "  <thead>\n",
       "    <tr style=\"text-align: right;\">\n",
       "      <th></th>\n",
       "      <th>children</th>\n",
       "      <th>days_employed</th>\n",
       "      <th>dob_years</th>\n",
       "      <th>education</th>\n",
       "      <th>education_id</th>\n",
       "      <th>family_status</th>\n",
       "      <th>family_status_id</th>\n",
       "      <th>gender</th>\n",
       "      <th>income_type</th>\n",
       "      <th>debt</th>\n",
       "      <th>total_income</th>\n",
       "      <th>purpose</th>\n",
       "      <th>purpose_lemmas</th>\n",
       "    </tr>\n",
       "  </thead>\n",
       "  <tbody>\n",
       "    <tr>\n",
       "      <th>0</th>\n",
       "      <td>1</td>\n",
       "      <td>8437</td>\n",
       "      <td>42</td>\n",
       "      <td>высшее</td>\n",
       "      <td>0</td>\n",
       "      <td>женат / замужем</td>\n",
       "      <td>0</td>\n",
       "      <td>F</td>\n",
       "      <td>сотрудник</td>\n",
       "      <td>0</td>\n",
       "      <td>253875</td>\n",
       "      <td>покупка жилья</td>\n",
       "      <td>[покупка, жильё]</td>\n",
       "    </tr>\n",
       "    <tr>\n",
       "      <th>1</th>\n",
       "      <td>1</td>\n",
       "      <td>4024</td>\n",
       "      <td>36</td>\n",
       "      <td>среднее</td>\n",
       "      <td>1</td>\n",
       "      <td>женат / замужем</td>\n",
       "      <td>0</td>\n",
       "      <td>F</td>\n",
       "      <td>сотрудник</td>\n",
       "      <td>0</td>\n",
       "      <td>112080</td>\n",
       "      <td>приобретение автомобиля</td>\n",
       "      <td>[приобретение, автомобиль]</td>\n",
       "    </tr>\n",
       "    <tr>\n",
       "      <th>2</th>\n",
       "      <td>0</td>\n",
       "      <td>5623</td>\n",
       "      <td>33</td>\n",
       "      <td>среднее</td>\n",
       "      <td>1</td>\n",
       "      <td>женат / замужем</td>\n",
       "      <td>0</td>\n",
       "      <td>M</td>\n",
       "      <td>сотрудник</td>\n",
       "      <td>0</td>\n",
       "      <td>145885</td>\n",
       "      <td>покупка жилья</td>\n",
       "      <td>[покупка, жильё]</td>\n",
       "    </tr>\n",
       "    <tr>\n",
       "      <th>3</th>\n",
       "      <td>3</td>\n",
       "      <td>4124</td>\n",
       "      <td>32</td>\n",
       "      <td>среднее</td>\n",
       "      <td>1</td>\n",
       "      <td>женат / замужем</td>\n",
       "      <td>0</td>\n",
       "      <td>M</td>\n",
       "      <td>сотрудник</td>\n",
       "      <td>0</td>\n",
       "      <td>267628</td>\n",
       "      <td>дополнительное образование</td>\n",
       "      <td>[дополнительный, образование]</td>\n",
       "    </tr>\n",
       "    <tr>\n",
       "      <th>4</th>\n",
       "      <td>0</td>\n",
       "      <td>13505</td>\n",
       "      <td>53</td>\n",
       "      <td>среднее</td>\n",
       "      <td>1</td>\n",
       "      <td>гражданский брак</td>\n",
       "      <td>1</td>\n",
       "      <td>F</td>\n",
       "      <td>пенсионер</td>\n",
       "      <td>0</td>\n",
       "      <td>158616</td>\n",
       "      <td>сыграть свадьбу</td>\n",
       "      <td>[сыграть, свадьба]</td>\n",
       "    </tr>\n",
       "    <tr>\n",
       "      <th>...</th>\n",
       "      <td>...</td>\n",
       "      <td>...</td>\n",
       "      <td>...</td>\n",
       "      <td>...</td>\n",
       "      <td>...</td>\n",
       "      <td>...</td>\n",
       "      <td>...</td>\n",
       "      <td>...</td>\n",
       "      <td>...</td>\n",
       "      <td>...</td>\n",
       "      <td>...</td>\n",
       "      <td>...</td>\n",
       "      <td>...</td>\n",
       "    </tr>\n",
       "    <tr>\n",
       "      <th>21449</th>\n",
       "      <td>1</td>\n",
       "      <td>4529</td>\n",
       "      <td>43</td>\n",
       "      <td>среднее</td>\n",
       "      <td>1</td>\n",
       "      <td>гражданский брак</td>\n",
       "      <td>1</td>\n",
       "      <td>F</td>\n",
       "      <td>компаньон</td>\n",
       "      <td>0</td>\n",
       "      <td>224791</td>\n",
       "      <td>операции с жильем</td>\n",
       "      <td>[операция, с, жильё]</td>\n",
       "    </tr>\n",
       "    <tr>\n",
       "      <th>21450</th>\n",
       "      <td>0</td>\n",
       "      <td>16060</td>\n",
       "      <td>67</td>\n",
       "      <td>среднее</td>\n",
       "      <td>1</td>\n",
       "      <td>женат / замужем</td>\n",
       "      <td>0</td>\n",
       "      <td>F</td>\n",
       "      <td>пенсионер</td>\n",
       "      <td>0</td>\n",
       "      <td>155999</td>\n",
       "      <td>сделка с автомобилем</td>\n",
       "      <td>[сделка, с, автомобиль]</td>\n",
       "    </tr>\n",
       "    <tr>\n",
       "      <th>21451</th>\n",
       "      <td>1</td>\n",
       "      <td>2113</td>\n",
       "      <td>38</td>\n",
       "      <td>среднее</td>\n",
       "      <td>1</td>\n",
       "      <td>гражданский брак</td>\n",
       "      <td>1</td>\n",
       "      <td>M</td>\n",
       "      <td>сотрудник</td>\n",
       "      <td>1</td>\n",
       "      <td>89672</td>\n",
       "      <td>недвижимость</td>\n",
       "      <td>[недвижимость]</td>\n",
       "    </tr>\n",
       "    <tr>\n",
       "      <th>21452</th>\n",
       "      <td>3</td>\n",
       "      <td>3112</td>\n",
       "      <td>38</td>\n",
       "      <td>среднее</td>\n",
       "      <td>1</td>\n",
       "      <td>женат / замужем</td>\n",
       "      <td>0</td>\n",
       "      <td>M</td>\n",
       "      <td>сотрудник</td>\n",
       "      <td>1</td>\n",
       "      <td>244093</td>\n",
       "      <td>на покупку своего автомобиля</td>\n",
       "      <td>[на, покупка, свой, автомобиль]</td>\n",
       "    </tr>\n",
       "    <tr>\n",
       "      <th>21453</th>\n",
       "      <td>2</td>\n",
       "      <td>1984</td>\n",
       "      <td>40</td>\n",
       "      <td>среднее</td>\n",
       "      <td>1</td>\n",
       "      <td>женат / замужем</td>\n",
       "      <td>0</td>\n",
       "      <td>F</td>\n",
       "      <td>сотрудник</td>\n",
       "      <td>0</td>\n",
       "      <td>82047</td>\n",
       "      <td>на покупку автомобиля</td>\n",
       "      <td>[на, покупка, автомобиль]</td>\n",
       "    </tr>\n",
       "  </tbody>\n",
       "</table>\n",
       "<p>21454 rows × 13 columns</p>\n",
       "</div>"
      ],
      "text/plain": [
       "       children  days_employed  dob_years education  education_id  \\\n",
       "0             1           8437         42    высшее             0   \n",
       "1             1           4024         36   среднее             1   \n",
       "2             0           5623         33   среднее             1   \n",
       "3             3           4124         32   среднее             1   \n",
       "4             0          13505         53   среднее             1   \n",
       "...         ...            ...        ...       ...           ...   \n",
       "21449         1           4529         43   среднее             1   \n",
       "21450         0          16060         67   среднее             1   \n",
       "21451         1           2113         38   среднее             1   \n",
       "21452         3           3112         38   среднее             1   \n",
       "21453         2           1984         40   среднее             1   \n",
       "\n",
       "          family_status  family_status_id gender income_type  debt  \\\n",
       "0       женат / замужем                 0      F   сотрудник     0   \n",
       "1       женат / замужем                 0      F   сотрудник     0   \n",
       "2       женат / замужем                 0      M   сотрудник     0   \n",
       "3       женат / замужем                 0      M   сотрудник     0   \n",
       "4      гражданский брак                 1      F   пенсионер     0   \n",
       "...                 ...               ...    ...         ...   ...   \n",
       "21449  гражданский брак                 1      F   компаньон     0   \n",
       "21450   женат / замужем                 0      F   пенсионер     0   \n",
       "21451  гражданский брак                 1      M   сотрудник     1   \n",
       "21452   женат / замужем                 0      M   сотрудник     1   \n",
       "21453   женат / замужем                 0      F   сотрудник     0   \n",
       "\n",
       "       total_income                       purpose  \\\n",
       "0            253875                 покупка жилья   \n",
       "1            112080       приобретение автомобиля   \n",
       "2            145885                 покупка жилья   \n",
       "3            267628    дополнительное образование   \n",
       "4            158616               сыграть свадьбу   \n",
       "...             ...                           ...   \n",
       "21449        224791             операции с жильем   \n",
       "21450        155999          сделка с автомобилем   \n",
       "21451         89672                  недвижимость   \n",
       "21452        244093  на покупку своего автомобиля   \n",
       "21453         82047         на покупку автомобиля   \n",
       "\n",
       "                        purpose_lemmas  \n",
       "0                     [покупка, жильё]  \n",
       "1           [приобретение, автомобиль]  \n",
       "2                     [покупка, жильё]  \n",
       "3        [дополнительный, образование]  \n",
       "4                   [сыграть, свадьба]  \n",
       "...                                ...  \n",
       "21449             [операция, с, жильё]  \n",
       "21450          [сделка, с, автомобиль]  \n",
       "21451                   [недвижимость]  \n",
       "21452  [на, покупка, свой, автомобиль]  \n",
       "21453        [на, покупка, автомобиль]  \n",
       "\n",
       "[21454 rows x 13 columns]"
      ]
     },
     "execution_count": 36,
     "metadata": {},
     "output_type": "execute_result"
    }
   ],
   "source": [
    "df_lemmas"
   ]
  },
  {
   "cell_type": "markdown",
   "metadata": {},
   "source": [
    "**Вывод**\n",
    "\n",
    "Сравнивая столбцы `puprose` и `purpose_lemmas` мы видим что лемматизация прошла успешно и теперь можно приступать к категоризации данных."
   ]
  },
  {
   "cell_type": "markdown",
   "metadata": {},
   "source": [
    "### Категоризация данных <a id=\"step26\"></a>\n",
    "\n",
    "Проверим общий список лемм и выберем наиболее часто встречающиеся."
   ]
  },
  {
   "cell_type": "code",
   "execution_count": 37,
   "metadata": {
    "scrolled": false
   },
   "outputs": [
    {
     "data": {
      "text/plain": [
       "[('недвижимость', 6351),\n",
       " ('покупка', 5897),\n",
       " ('жильё', 4460),\n",
       " ('автомобиль', 4306),\n",
       " ('образование', 4013),\n",
       " ('с', 3545),\n",
       " ('операция', 2604),\n",
       " ('свадьба', 2324),\n",
       " ('свой', 2230),\n",
       " ('на', 2222),\n",
       " ('строительство', 1878),\n",
       " ('высокий', 1374),\n",
       " ('получение', 1314),\n",
       " ('коммерческий', 1311),\n",
       " ('для', 1289),\n",
       " ('жилой', 1230),\n",
       " ('подержать', 964),\n",
       " ('сделка', 941),\n",
       " ('дополнительный', 906),\n",
       " ('заняться', 904)]"
      ]
     },
     "execution_count": 37,
     "metadata": {},
     "output_type": "execute_result"
    }
   ],
   "source": [
    "Counter(lemmas_list).most_common(20)"
   ]
  },
  {
   "cell_type": "markdown",
   "metadata": {},
   "source": [
    "Отбросив предлоги и местоимения, а также сравнив с ранее полученным списком уникальных значений, получим список основных целей для взятия кредита:\n",
    "\n",
    "* ремонт\n",
    "* жильё (если нет леммы ремонт)\n",
    "* коммерческий\n",
    "* недвижимость (если нет леммы коммерческий или жильё)\n",
    "* автомобиль\n",
    "* образование\n",
    "* свадьба\n",
    "\n",
    "Необходимо заменить ошибочную лемму `жила` на `жильё`"
   ]
  },
  {
   "cell_type": "code",
   "execution_count": 38,
   "metadata": {},
   "outputs": [],
   "source": [
    "def replacement(lemmas):\n",
    "    '''\n",
    "    Функция ищет в списке лемм 'жила' и заменяет на 'жильё'.\n",
    "    '''\n",
    "    for i in range(len(lemmas)):\n",
    "        if lemmas[i] == 'жила':\n",
    "            lemmas[i] = 'жильё'\n",
    "    return lemmas    \n",
    "\n",
    "df_lemmas['purpose_lemmas'] = df_lemmas['purpose_lemmas'].transform(replacement)"
   ]
  },
  {
   "cell_type": "markdown",
   "metadata": {},
   "source": [
    "Через функцию присвоим каждой строке определённую категорию, опираясь на леммы в столбце `puprose_lemmas`."
   ]
  },
  {
   "cell_type": "code",
   "execution_count": 39,
   "metadata": {},
   "outputs": [],
   "source": [
    "def purpose_category(lemmas):\n",
    "    '''\n",
    "    Функция проверяет наличие в списке лемм строки наличие выделенных категорий\n",
    "    и присваивает определённую категорию.\n",
    "    '''\n",
    "    if 'ремонт' in lemmas:\n",
    "        return 'ремонт'\n",
    "    elif 'жильё' in lemmas:\n",
    "        return 'жильё'\n",
    "    elif 'коммерческий' in lemmas:\n",
    "        return 'коммерческий'\n",
    "    elif 'недвижимость' in lemmas:\n",
    "        return 'недвижимость'\n",
    "    elif 'автомобиль' in lemmas:\n",
    "        return 'автомобиль'\n",
    "    elif 'образование' in lemmas:\n",
    "        return 'образование'\n",
    "    else:\n",
    "        return 'свадьба'\n",
    "    \n",
    "df['purpose_status'] = df_lemmas['purpose_lemmas'].transform(purpose_category)"
   ]
  },
  {
   "cell_type": "markdown",
   "metadata": {},
   "source": [
    "Категоризируем заёмщиков по наличию детей:\n",
    "* бездетные\n",
    "* с детьми (от одного до двух)\n",
    "* многодетные (трое и больше)"
   ]
  },
  {
   "cell_type": "code",
   "execution_count": 40,
   "metadata": {},
   "outputs": [],
   "source": [
    "def children_category(children):\n",
    "    '''\n",
    "    Функция проверяет количество детей и присваивает определённую категорию.\n",
    "    '''\n",
    "    if children == 0:\n",
    "        return 'бездетные'\n",
    "    elif 1 <= children <= 2:\n",
    "        return 'с детьми'\n",
    "    else:\n",
    "        return 'многодетные'\n",
    "    \n",
    "df['children_status'] = df['children'].transform(children_category)"
   ]
  },
  {
   "cell_type": "markdown",
   "metadata": {},
   "source": [
    "Теперь проведём категоризацию уровней дохода. Сначала посмотрим на общее распределение доходов."
   ]
  },
  {
   "cell_type": "code",
   "execution_count": 41,
   "metadata": {},
   "outputs": [
    {
     "data": {
      "text/plain": [
       "count      21454\n",
       "mean      165319\n",
       "std        98187\n",
       "min        20667\n",
       "25%       107623\n",
       "50%       142594\n",
       "75%       195820\n",
       "max      2265604\n",
       "Name: total_income, dtype: int32"
      ]
     },
     "execution_count": 41,
     "metadata": {},
     "output_type": "execute_result"
    }
   ],
   "source": [
    "df['total_income'].describe().astype('int')"
   ]
  },
  {
   "cell_type": "markdown",
   "metadata": {},
   "source": [
    "Разделим с помощью функции все доходы по персентилю:\n",
    "* низкий (ниже 25ого персентиля)\n",
    "* средний (от 25ого до 75 персентиля)\n",
    "* высокий (выше 75го персентиля)"
   ]
  },
  {
   "cell_type": "code",
   "execution_count": 42,
   "metadata": {},
   "outputs": [],
   "source": [
    "low_income = df['total_income'].quantile(0.25) # вычисляем персентили вне функции\n",
    "high_income = df['total_income'].quantile(0.75)\n",
    "\n",
    "def income_category(income):\n",
    "    '''\n",
    "    Функция проверяет совокупный доход и присваивает определённую категорию.\n",
    "    '''\n",
    "    if income < low_income:\n",
    "        return 'низкий'\n",
    "    elif low_income <= income <= high_income:\n",
    "        return 'средний'\n",
    "    else:\n",
    "        return 'высокий'\n",
    "    \n",
    "df['income_status'] = df['total_income'].transform(income_category)\n",
    "\n",
    "columns_titles = ['children', 'children_status', 'days_employed', 'dob_years', 'education', 'education_id',\n",
    "                  'family_status', 'family_status_id', 'gender', 'income_type', 'debt',\n",
    "                  'total_income', 'income_status', 'purpose', 'purpose_status']\n",
    "df=df.reindex(columns=columns_titles)"
   ]
  },
  {
   "cell_type": "markdown",
   "metadata": {},
   "source": [
    "Проверим основную таблицу с данными."
   ]
  },
  {
   "cell_type": "code",
   "execution_count": 43,
   "metadata": {
    "scrolled": false
   },
   "outputs": [
    {
     "data": {
      "text/html": [
       "<div>\n",
       "<style scoped>\n",
       "    .dataframe tbody tr th:only-of-type {\n",
       "        vertical-align: middle;\n",
       "    }\n",
       "\n",
       "    .dataframe tbody tr th {\n",
       "        vertical-align: top;\n",
       "    }\n",
       "\n",
       "    .dataframe thead th {\n",
       "        text-align: right;\n",
       "    }\n",
       "</style>\n",
       "<table border=\"1\" class=\"dataframe\">\n",
       "  <thead>\n",
       "    <tr style=\"text-align: right;\">\n",
       "      <th></th>\n",
       "      <th>children</th>\n",
       "      <th>children_status</th>\n",
       "      <th>days_employed</th>\n",
       "      <th>dob_years</th>\n",
       "      <th>education</th>\n",
       "      <th>education_id</th>\n",
       "      <th>family_status</th>\n",
       "      <th>family_status_id</th>\n",
       "      <th>gender</th>\n",
       "      <th>income_type</th>\n",
       "      <th>debt</th>\n",
       "      <th>total_income</th>\n",
       "      <th>income_status</th>\n",
       "      <th>purpose</th>\n",
       "      <th>purpose_status</th>\n",
       "    </tr>\n",
       "  </thead>\n",
       "  <tbody>\n",
       "    <tr>\n",
       "      <th>0</th>\n",
       "      <td>1</td>\n",
       "      <td>с детьми</td>\n",
       "      <td>8437</td>\n",
       "      <td>42</td>\n",
       "      <td>высшее</td>\n",
       "      <td>0</td>\n",
       "      <td>женат / замужем</td>\n",
       "      <td>0</td>\n",
       "      <td>F</td>\n",
       "      <td>сотрудник</td>\n",
       "      <td>0</td>\n",
       "      <td>253875</td>\n",
       "      <td>высокий</td>\n",
       "      <td>покупка жилья</td>\n",
       "      <td>жильё</td>\n",
       "    </tr>\n",
       "    <tr>\n",
       "      <th>1</th>\n",
       "      <td>1</td>\n",
       "      <td>с детьми</td>\n",
       "      <td>4024</td>\n",
       "      <td>36</td>\n",
       "      <td>среднее</td>\n",
       "      <td>1</td>\n",
       "      <td>женат / замужем</td>\n",
       "      <td>0</td>\n",
       "      <td>F</td>\n",
       "      <td>сотрудник</td>\n",
       "      <td>0</td>\n",
       "      <td>112080</td>\n",
       "      <td>средний</td>\n",
       "      <td>приобретение автомобиля</td>\n",
       "      <td>автомобиль</td>\n",
       "    </tr>\n",
       "    <tr>\n",
       "      <th>2</th>\n",
       "      <td>0</td>\n",
       "      <td>бездетные</td>\n",
       "      <td>5623</td>\n",
       "      <td>33</td>\n",
       "      <td>среднее</td>\n",
       "      <td>1</td>\n",
       "      <td>женат / замужем</td>\n",
       "      <td>0</td>\n",
       "      <td>M</td>\n",
       "      <td>сотрудник</td>\n",
       "      <td>0</td>\n",
       "      <td>145885</td>\n",
       "      <td>средний</td>\n",
       "      <td>покупка жилья</td>\n",
       "      <td>жильё</td>\n",
       "    </tr>\n",
       "    <tr>\n",
       "      <th>3</th>\n",
       "      <td>3</td>\n",
       "      <td>многодетные</td>\n",
       "      <td>4124</td>\n",
       "      <td>32</td>\n",
       "      <td>среднее</td>\n",
       "      <td>1</td>\n",
       "      <td>женат / замужем</td>\n",
       "      <td>0</td>\n",
       "      <td>M</td>\n",
       "      <td>сотрудник</td>\n",
       "      <td>0</td>\n",
       "      <td>267628</td>\n",
       "      <td>высокий</td>\n",
       "      <td>дополнительное образование</td>\n",
       "      <td>образование</td>\n",
       "    </tr>\n",
       "    <tr>\n",
       "      <th>4</th>\n",
       "      <td>0</td>\n",
       "      <td>бездетные</td>\n",
       "      <td>13505</td>\n",
       "      <td>53</td>\n",
       "      <td>среднее</td>\n",
       "      <td>1</td>\n",
       "      <td>гражданский брак</td>\n",
       "      <td>1</td>\n",
       "      <td>F</td>\n",
       "      <td>пенсионер</td>\n",
       "      <td>0</td>\n",
       "      <td>158616</td>\n",
       "      <td>средний</td>\n",
       "      <td>сыграть свадьбу</td>\n",
       "      <td>свадьба</td>\n",
       "    </tr>\n",
       "  </tbody>\n",
       "</table>\n",
       "</div>"
      ],
      "text/plain": [
       "   children children_status  days_employed  dob_years education  education_id  \\\n",
       "0         1        с детьми           8437         42    высшее             0   \n",
       "1         1        с детьми           4024         36   среднее             1   \n",
       "2         0       бездетные           5623         33   среднее             1   \n",
       "3         3     многодетные           4124         32   среднее             1   \n",
       "4         0       бездетные          13505         53   среднее             1   \n",
       "\n",
       "      family_status  family_status_id gender income_type  debt  total_income  \\\n",
       "0   женат / замужем                 0      F   сотрудник     0        253875   \n",
       "1   женат / замужем                 0      F   сотрудник     0        112080   \n",
       "2   женат / замужем                 0      M   сотрудник     0        145885   \n",
       "3   женат / замужем                 0      M   сотрудник     0        267628   \n",
       "4  гражданский брак                 1      F   пенсионер     0        158616   \n",
       "\n",
       "  income_status                     purpose purpose_status  \n",
       "0       высокий               покупка жилья          жильё  \n",
       "1       средний     приобретение автомобиля     автомобиль  \n",
       "2       средний               покупка жилья          жильё  \n",
       "3       высокий  дополнительное образование    образование  \n",
       "4       средний             сыграть свадьбу        свадьба  "
      ]
     },
     "execution_count": 43,
     "metadata": {},
     "output_type": "execute_result"
    }
   ],
   "source": [
    "df.head(5)"
   ]
  },
  {
   "cell_type": "markdown",
   "metadata": {},
   "source": [
    "**Вывод**\n",
    "\n",
    "Мы провели категоризацию необходимых данных и можем приступить к провере гипотез."
   ]
  },
  {
   "cell_type": "markdown",
   "metadata": {},
   "source": [
    "## Часть 3. Ответы на поставленные вопросы <a id=\"step3\"></a>"
   ]
  },
  {
   "cell_type": "markdown",
   "metadata": {},
   "source": [
    "- Есть ли зависимость между наличием детей и возвратом кредита в срок?\n",
    "\n",
    "Сгруппируем данные и посчитаем процент задолженностей в зависимости от наличия детей."
   ]
  },
  {
   "cell_type": "code",
   "execution_count": 44,
   "metadata": {
    "scrolled": true
   },
   "outputs": [
    {
     "data": {
      "text/html": [
       "<div>\n",
       "<style scoped>\n",
       "    .dataframe tbody tr th:only-of-type {\n",
       "        vertical-align: middle;\n",
       "    }\n",
       "\n",
       "    .dataframe tbody tr th {\n",
       "        vertical-align: top;\n",
       "    }\n",
       "\n",
       "    .dataframe thead tr th {\n",
       "        text-align: left;\n",
       "    }\n",
       "\n",
       "    .dataframe thead tr:last-of-type th {\n",
       "        text-align: right;\n",
       "    }\n",
       "</style>\n",
       "<table border=\"1\" class=\"dataframe\">\n",
       "  <thead>\n",
       "    <tr>\n",
       "      <th></th>\n",
       "      <th>sum</th>\n",
       "      <th>count</th>\n",
       "      <th>debt_probability</th>\n",
       "    </tr>\n",
       "    <tr>\n",
       "      <th></th>\n",
       "      <th>debt</th>\n",
       "      <th>debt</th>\n",
       "      <th>debt</th>\n",
       "    </tr>\n",
       "    <tr>\n",
       "      <th>children_status</th>\n",
       "      <th></th>\n",
       "      <th></th>\n",
       "      <th></th>\n",
       "    </tr>\n",
       "  </thead>\n",
       "  <tbody>\n",
       "    <tr>\n",
       "      <th>бездетные</th>\n",
       "      <td>1063.0</td>\n",
       "      <td>14091</td>\n",
       "      <td>7.54%</td>\n",
       "    </tr>\n",
       "    <tr>\n",
       "      <th>многодетные</th>\n",
       "      <td>31.0</td>\n",
       "      <td>380</td>\n",
       "      <td>8.16%</td>\n",
       "    </tr>\n",
       "    <tr>\n",
       "      <th>с детьми</th>\n",
       "      <td>647.0</td>\n",
       "      <td>6983</td>\n",
       "      <td>9.27%</td>\n",
       "    </tr>\n",
       "  </tbody>\n",
       "</table>\n",
       "</div>"
      ],
      "text/plain": [
       "                    sum  count debt_probability\n",
       "                   debt   debt             debt\n",
       "children_status                                \n",
       "бездетные        1063.0  14091            7.54%\n",
       "многодетные        31.0    380            8.16%\n",
       "с детьми          647.0   6983            9.27%"
      ]
     },
     "execution_count": 44,
     "metadata": {},
     "output_type": "execute_result"
    }
   ],
   "source": [
    "def debt_probability(column):\n",
    "    '''\n",
    "    Функция подсчитывает вероятность возникновения долга для поданного набора данных после группировки.\n",
    "    '''\n",
    "    quantity = 0\n",
    "    total = 0\n",
    "    for i in column:\n",
    "        quantity += 1\n",
    "        total += i\n",
    "    return '{:.2%}'.format(total/quantity)\n",
    "\n",
    "df.pivot_table(index='children_status', values='debt', aggfunc=['sum', 'count', debt_probability])"
   ]
  },
  {
   "cell_type": "markdown",
   "metadata": {},
   "source": [
    "**Вывод**\n",
    "\n",
    "Зависимость вероятности задолженности от наличия детей есть:\n",
    "\n",
    "Вероятность возникновения долга у бездетных клиентов ниже на 1,73% чем у клиентов с 1-2 детьми.\n",
    "\n",
    "При этом разница с многодетными клиентами несущественна - 0,62%, но из-за недостаточной выборки надёжность данной цифры невысокая."
   ]
  },
  {
   "cell_type": "markdown",
   "metadata": {},
   "source": [
    "- Есть ли зависимость между семейным положением и возвратом кредита в срок?"
   ]
  },
  {
   "cell_type": "code",
   "execution_count": 45,
   "metadata": {},
   "outputs": [
    {
     "data": {
      "text/html": [
       "<div>\n",
       "<style scoped>\n",
       "    .dataframe tbody tr th:only-of-type {\n",
       "        vertical-align: middle;\n",
       "    }\n",
       "\n",
       "    .dataframe tbody tr th {\n",
       "        vertical-align: top;\n",
       "    }\n",
       "\n",
       "    .dataframe thead tr th {\n",
       "        text-align: left;\n",
       "    }\n",
       "\n",
       "    .dataframe thead tr:last-of-type th {\n",
       "        text-align: right;\n",
       "    }\n",
       "</style>\n",
       "<table border=\"1\" class=\"dataframe\">\n",
       "  <thead>\n",
       "    <tr>\n",
       "      <th></th>\n",
       "      <th>sum</th>\n",
       "      <th>count</th>\n",
       "      <th>debt_probability</th>\n",
       "    </tr>\n",
       "    <tr>\n",
       "      <th></th>\n",
       "      <th>debt</th>\n",
       "      <th>debt</th>\n",
       "      <th>debt</th>\n",
       "    </tr>\n",
       "    <tr>\n",
       "      <th>family_status</th>\n",
       "      <th></th>\n",
       "      <th></th>\n",
       "      <th></th>\n",
       "    </tr>\n",
       "  </thead>\n",
       "  <tbody>\n",
       "    <tr>\n",
       "      <th>в разводе</th>\n",
       "      <td>85.0</td>\n",
       "      <td>1195</td>\n",
       "      <td>7.11%</td>\n",
       "    </tr>\n",
       "    <tr>\n",
       "      <th>вдовец / вдова</th>\n",
       "      <td>63.0</td>\n",
       "      <td>959</td>\n",
       "      <td>6.57%</td>\n",
       "    </tr>\n",
       "    <tr>\n",
       "      <th>гражданский брак</th>\n",
       "      <td>388.0</td>\n",
       "      <td>4151</td>\n",
       "      <td>9.35%</td>\n",
       "    </tr>\n",
       "    <tr>\n",
       "      <th>женат / замужем</th>\n",
       "      <td>931.0</td>\n",
       "      <td>12339</td>\n",
       "      <td>7.55%</td>\n",
       "    </tr>\n",
       "    <tr>\n",
       "      <th>не женат / не замужем</th>\n",
       "      <td>274.0</td>\n",
       "      <td>2810</td>\n",
       "      <td>9.75%</td>\n",
       "    </tr>\n",
       "  </tbody>\n",
       "</table>\n",
       "</div>"
      ],
      "text/plain": [
       "                         sum  count debt_probability\n",
       "                        debt   debt             debt\n",
       "family_status                                       \n",
       "в разводе               85.0   1195            7.11%\n",
       "вдовец / вдова          63.0    959            6.57%\n",
       "гражданский брак       388.0   4151            9.35%\n",
       "женат / замужем        931.0  12339            7.55%\n",
       "не женат / не замужем  274.0   2810            9.75%"
      ]
     },
     "execution_count": 45,
     "metadata": {},
     "output_type": "execute_result"
    }
   ],
   "source": [
    "df.pivot_table(index='family_status', values='debt', aggfunc=['sum', 'count', debt_probability])"
   ]
  },
  {
   "cell_type": "markdown",
   "metadata": {},
   "source": [
    "**Вывод**\n",
    "\n",
    "Зависимость вероятности задолженности от семейного положения есть:\n",
    "\n",
    "Самая низкая вероятность возникновения задолженности у вдовцов/вдов и у людей в разводе.\n",
    "\n",
    "Самая высокая - у категории не женат/не замужем, а также у людей состоящих в гражданском браке.\n",
    "\n",
    "Люди состоящие в официальном браке по уровню риска находятся в умеренной зоне.\n",
    "\n",
    "Если рассмотрим суммарную статистику по признаку наличия партнёра, то получим вероятность риска для заёмщиков с партнёром - 8,00%, а для заёмщиков без партнёра - 8,50%. Это свидетельствует о том что заёмщики с партнёрами более надёжные."
   ]
  },
  {
   "cell_type": "markdown",
   "metadata": {},
   "source": [
    "- Есть ли зависимость между уровнем дохода и возвратом кредита в срок?"
   ]
  },
  {
   "cell_type": "code",
   "execution_count": 46,
   "metadata": {
    "scrolled": true
   },
   "outputs": [
    {
     "data": {
      "text/html": [
       "<div>\n",
       "<style scoped>\n",
       "    .dataframe tbody tr th:only-of-type {\n",
       "        vertical-align: middle;\n",
       "    }\n",
       "\n",
       "    .dataframe tbody tr th {\n",
       "        vertical-align: top;\n",
       "    }\n",
       "\n",
       "    .dataframe thead tr th {\n",
       "        text-align: left;\n",
       "    }\n",
       "\n",
       "    .dataframe thead tr:last-of-type th {\n",
       "        text-align: right;\n",
       "    }\n",
       "</style>\n",
       "<table border=\"1\" class=\"dataframe\">\n",
       "  <thead>\n",
       "    <tr>\n",
       "      <th></th>\n",
       "      <th>sum</th>\n",
       "      <th>count</th>\n",
       "      <th>debt_probability</th>\n",
       "    </tr>\n",
       "    <tr>\n",
       "      <th></th>\n",
       "      <th>debt</th>\n",
       "      <th>debt</th>\n",
       "      <th>debt</th>\n",
       "    </tr>\n",
       "    <tr>\n",
       "      <th>income_status</th>\n",
       "      <th></th>\n",
       "      <th></th>\n",
       "      <th></th>\n",
       "    </tr>\n",
       "  </thead>\n",
       "  <tbody>\n",
       "    <tr>\n",
       "      <th>высокий</th>\n",
       "      <td>383.0</td>\n",
       "      <td>5364</td>\n",
       "      <td>7.14%</td>\n",
       "    </tr>\n",
       "    <tr>\n",
       "      <th>низкий</th>\n",
       "      <td>427.0</td>\n",
       "      <td>5364</td>\n",
       "      <td>7.96%</td>\n",
       "    </tr>\n",
       "    <tr>\n",
       "      <th>средний</th>\n",
       "      <td>931.0</td>\n",
       "      <td>10726</td>\n",
       "      <td>8.68%</td>\n",
       "    </tr>\n",
       "  </tbody>\n",
       "</table>\n",
       "</div>"
      ],
      "text/plain": [
       "                 sum  count debt_probability\n",
       "                debt   debt             debt\n",
       "income_status                               \n",
       "высокий        383.0   5364            7.14%\n",
       "низкий         427.0   5364            7.96%\n",
       "средний        931.0  10726            8.68%"
      ]
     },
     "execution_count": 46,
     "metadata": {},
     "output_type": "execute_result"
    }
   ],
   "source": [
    "df.pivot_table(index='income_status', values='debt', aggfunc=['sum', 'count', debt_probability])"
   ]
  },
  {
   "cell_type": "markdown",
   "metadata": {},
   "source": [
    "**Вывод**\n",
    "\n",
    "Зависимость вероятности задолженности от уровня общего дохода есть:\n",
    "\n",
    "Меньше всего риск у людей с высоким доходом.\n",
    "\n",
    "Средний риск у людей с низким доходом.\n",
    "\n",
    "Высокий риск у людей с медианным доходом.\n",
    "\n",
    "Вероятно, заёмщики со средним доходом более уверены в своей финансовой стабильности и проще относятся к просрочкам (и штрафным санкциям) по кредиту, чем заёмщики с низким доходом. Проще решаются на крупные расходы не связанные с кредитными обязательствами и чаще сталкиваются с просрочками. Заёмщикам же с высокими доходами имеют свободные средства и им проще не допустить просрочку по кредиту."
   ]
  },
  {
   "cell_type": "markdown",
   "metadata": {},
   "source": [
    "- Как разные цели кредита влияют на его возврат в срок?"
   ]
  },
  {
   "cell_type": "code",
   "execution_count": 47,
   "metadata": {
    "scrolled": true
   },
   "outputs": [
    {
     "data": {
      "text/html": [
       "<div>\n",
       "<style scoped>\n",
       "    .dataframe tbody tr th:only-of-type {\n",
       "        vertical-align: middle;\n",
       "    }\n",
       "\n",
       "    .dataframe tbody tr th {\n",
       "        vertical-align: top;\n",
       "    }\n",
       "\n",
       "    .dataframe thead tr th {\n",
       "        text-align: left;\n",
       "    }\n",
       "\n",
       "    .dataframe thead tr:last-of-type th {\n",
       "        text-align: right;\n",
       "    }\n",
       "</style>\n",
       "<table border=\"1\" class=\"dataframe\">\n",
       "  <thead>\n",
       "    <tr>\n",
       "      <th></th>\n",
       "      <th>sum</th>\n",
       "      <th>count</th>\n",
       "      <th>debt_probability</th>\n",
       "    </tr>\n",
       "    <tr>\n",
       "      <th></th>\n",
       "      <th>debt</th>\n",
       "      <th>debt</th>\n",
       "      <th>debt</th>\n",
       "    </tr>\n",
       "    <tr>\n",
       "      <th>purpose_status</th>\n",
       "      <th></th>\n",
       "      <th></th>\n",
       "      <th></th>\n",
       "    </tr>\n",
       "  </thead>\n",
       "  <tbody>\n",
       "    <tr>\n",
       "      <th>автомобиль</th>\n",
       "      <td>403.0</td>\n",
       "      <td>4306</td>\n",
       "      <td>9.36%</td>\n",
       "    </tr>\n",
       "    <tr>\n",
       "      <th>жильё</th>\n",
       "      <td>273.0</td>\n",
       "      <td>3853</td>\n",
       "      <td>7.09%</td>\n",
       "    </tr>\n",
       "    <tr>\n",
       "      <th>коммерческий</th>\n",
       "      <td>99.0</td>\n",
       "      <td>1311</td>\n",
       "      <td>7.55%</td>\n",
       "    </tr>\n",
       "    <tr>\n",
       "      <th>недвижимость</th>\n",
       "      <td>375.0</td>\n",
       "      <td>5040</td>\n",
       "      <td>7.44%</td>\n",
       "    </tr>\n",
       "    <tr>\n",
       "      <th>образование</th>\n",
       "      <td>370.0</td>\n",
       "      <td>4013</td>\n",
       "      <td>9.22%</td>\n",
       "    </tr>\n",
       "    <tr>\n",
       "      <th>ремонт</th>\n",
       "      <td>35.0</td>\n",
       "      <td>607</td>\n",
       "      <td>5.77%</td>\n",
       "    </tr>\n",
       "    <tr>\n",
       "      <th>свадьба</th>\n",
       "      <td>186.0</td>\n",
       "      <td>2324</td>\n",
       "      <td>8.00%</td>\n",
       "    </tr>\n",
       "  </tbody>\n",
       "</table>\n",
       "</div>"
      ],
      "text/plain": [
       "                  sum count debt_probability\n",
       "                 debt  debt             debt\n",
       "purpose_status                              \n",
       "автомобиль      403.0  4306            9.36%\n",
       "жильё           273.0  3853            7.09%\n",
       "коммерческий     99.0  1311            7.55%\n",
       "недвижимость    375.0  5040            7.44%\n",
       "образование     370.0  4013            9.22%\n",
       "ремонт           35.0   607            5.77%\n",
       "свадьба         186.0  2324            8.00%"
      ]
     },
     "execution_count": 47,
     "metadata": {},
     "output_type": "execute_result"
    }
   ],
   "source": [
    "df.pivot_table(index='purpose_status', values='debt', aggfunc=['sum', 'count', debt_probability])"
   ]
  },
  {
   "cell_type": "markdown",
   "metadata": {},
   "source": [
    "**Вывод**"
   ]
  },
  {
   "cell_type": "markdown",
   "metadata": {},
   "source": [
    "Зависимость вероятности задолженности от цели кредита есть:\n",
    "\n",
    "Наименьший риск в категории ремонт, всего 5,77%.\n",
    "\n",
    "У категорий жильё, коммерческий, недвижимость схожий умеренный риск: от 7,12% до 7,55%.\n",
    "\n",
    "Категория свадьба также обладает умеренным риском возникновения задолженности.\n",
    "\n",
    "Наибольший риск у категорий образование и автомобиль, более 9%."
   ]
  },
  {
   "cell_type": "markdown",
   "metadata": {},
   "source": [
    "## Часть 4. Общий вывод <a id=\"step4\"></a>"
   ]
  },
  {
   "cell_type": "markdown",
   "metadata": {},
   "source": [
    "Мы провели обработку исходного датасета. Убрали аномальные значения, обработали пропуски, заменили типы данных, заполнили пропуски и удалили дубликаты. Провели лемматизацию целей взятия кредита и категоризацию необходимых данных.\n",
    "\n",
    "В ходе проверки гипотез мы подтвердили все предположения. Вероятность возникновения задолженностей по кредиту зависит как от количества детей и семейного положения, так и от общего уровня дохода и целей взятия кредита.\n",
    "\n",
    "Наименьший риск возникновения задолженности у женатых заёмщиков без детей, с высоким уровнем дохода и берущих кредит на покупку жилья.\n",
    "\n",
    "Наивысший риск у холостых заёмщиков, имеющих детей, со средним уровнем дохода и берущих кредит на образование или покупку автомобиля."
   ]
  }
 ],
 "metadata": {
  "ExecuteTimeLog": [
   {
    "duration": 1614,
    "start_time": "2021-12-24T11:23:58.961Z"
   },
   {
    "duration": 5447,
    "start_time": "2021-12-24T11:24:00.578Z"
   },
   {
    "duration": 77,
    "start_time": "2021-12-24T11:24:05.953Z"
   },
   {
    "duration": 76,
    "start_time": "2021-12-24T11:24:05.956Z"
   },
   {
    "duration": 74,
    "start_time": "2021-12-24T11:24:05.959Z"
   },
   {
    "duration": -28,
    "start_time": "2021-12-24T11:24:06.063Z"
   },
   {
    "duration": -74,
    "start_time": "2021-12-24T11:24:06.110Z"
   },
   {
    "duration": -76,
    "start_time": "2021-12-24T11:24:06.113Z"
   },
   {
    "duration": -77,
    "start_time": "2021-12-24T11:24:06.116Z"
   },
   {
    "duration": -79,
    "start_time": "2021-12-24T11:24:06.119Z"
   },
   {
    "duration": -81,
    "start_time": "2021-12-24T11:24:06.123Z"
   },
   {
    "duration": -82,
    "start_time": "2021-12-24T11:24:06.126Z"
   },
   {
    "duration": -84,
    "start_time": "2021-12-24T11:24:06.130Z"
   },
   {
    "duration": -85,
    "start_time": "2021-12-24T11:24:06.133Z"
   },
   {
    "duration": -87,
    "start_time": "2021-12-24T11:24:06.136Z"
   },
   {
    "duration": -87,
    "start_time": "2021-12-24T11:24:06.138Z"
   },
   {
    "duration": -101,
    "start_time": "2021-12-24T11:24:06.154Z"
   },
   {
    "duration": -104,
    "start_time": "2021-12-24T11:24:06.158Z"
   },
   {
    "duration": -106,
    "start_time": "2021-12-24T11:24:06.162Z"
   },
   {
    "duration": -108,
    "start_time": "2021-12-24T11:24:06.165Z"
   },
   {
    "duration": -113,
    "start_time": "2021-12-24T11:24:06.172Z"
   },
   {
    "duration": -114,
    "start_time": "2021-12-24T11:24:06.175Z"
   },
   {
    "duration": -116,
    "start_time": "2021-12-24T11:24:06.178Z"
   },
   {
    "duration": -132,
    "start_time": "2021-12-24T11:24:06.195Z"
   },
   {
    "duration": -133,
    "start_time": "2021-12-24T11:24:06.198Z"
   },
   {
    "duration": -135,
    "start_time": "2021-12-24T11:24:06.201Z"
   },
   {
    "duration": -137,
    "start_time": "2021-12-24T11:24:06.204Z"
   },
   {
    "duration": -271,
    "start_time": "2021-12-24T11:24:06.339Z"
   },
   {
    "duration": -279,
    "start_time": "2021-12-24T11:24:06.348Z"
   },
   {
    "duration": -229,
    "start_time": "2021-12-24T11:24:06.351Z"
   },
   {
    "duration": -231,
    "start_time": "2021-12-24T11:24:06.355Z"
   },
   {
    "duration": -232,
    "start_time": "2021-12-24T11:24:06.358Z"
   },
   {
    "duration": -233,
    "start_time": "2021-12-24T11:24:06.361Z"
   },
   {
    "duration": -234,
    "start_time": "2021-12-24T11:24:06.363Z"
   },
   {
    "duration": -236,
    "start_time": "2021-12-24T11:24:06.366Z"
   },
   {
    "duration": -237,
    "start_time": "2021-12-24T11:24:06.369Z"
   },
   {
    "duration": -239,
    "start_time": "2021-12-24T11:24:06.372Z"
   },
   {
    "duration": -239,
    "start_time": "2021-12-24T11:24:06.374Z"
   },
   {
    "duration": -260,
    "start_time": "2021-12-24T11:24:06.397Z"
   },
   {
    "duration": -262,
    "start_time": "2021-12-24T11:24:06.400Z"
   },
   {
    "duration": -262,
    "start_time": "2021-12-24T11:24:06.402Z"
   },
   {
    "duration": -263,
    "start_time": "2021-12-24T11:24:06.405Z"
   },
   {
    "duration": -263,
    "start_time": "2021-12-24T11:24:06.407Z"
   },
   {
    "duration": -264,
    "start_time": "2021-12-24T11:24:06.410Z"
   },
   {
    "duration": -265,
    "start_time": "2021-12-24T11:24:06.412Z"
   },
   {
    "duration": 1495,
    "start_time": "2021-12-24T18:05:23.117Z"
   },
   {
    "duration": 2252,
    "start_time": "2021-12-24T18:05:26.186Z"
   },
   {
    "duration": 79,
    "start_time": "2021-12-24T18:05:48.555Z"
   },
   {
    "duration": 17,
    "start_time": "2021-12-24T18:05:59.995Z"
   },
   {
    "duration": 56,
    "start_time": "2021-12-24T18:06:03.412Z"
   },
   {
    "duration": 7,
    "start_time": "2021-12-24T18:06:08.444Z"
   },
   {
    "duration": 20,
    "start_time": "2021-12-24T18:06:10.371Z"
   },
   {
    "duration": 18,
    "start_time": "2021-12-24T18:07:36.024Z"
   },
   {
    "duration": 4,
    "start_time": "2021-12-24T18:07:41.321Z"
   },
   {
    "duration": 16,
    "start_time": "2021-12-24T18:07:44.688Z"
   },
   {
    "duration": 641,
    "start_time": "2021-12-24T18:07:46.224Z"
   },
   {
    "duration": 7,
    "start_time": "2021-12-24T18:07:48.697Z"
   },
   {
    "duration": 10,
    "start_time": "2021-12-24T18:07:49.288Z"
   },
   {
    "duration": 547,
    "start_time": "2021-12-24T18:07:52.193Z"
   },
   {
    "duration": 2202,
    "start_time": "2021-12-24T18:07:53.930Z"
   },
   {
    "duration": 725,
    "start_time": "2021-12-24T18:07:59.865Z"
   },
   {
    "duration": 633,
    "start_time": "2021-12-24T18:08:14.226Z"
   },
   {
    "duration": 13,
    "start_time": "2021-12-24T18:08:21.714Z"
   },
   {
    "duration": 396,
    "start_time": "2021-12-24T18:08:24.402Z"
   },
   {
    "duration": 62,
    "start_time": "2021-12-24T18:08:31.467Z"
   },
   {
    "duration": 21,
    "start_time": "2021-12-24T18:08:32.450Z"
   },
   {
    "duration": 19,
    "start_time": "2021-12-24T18:08:33.363Z"
   },
   {
    "duration": 15,
    "start_time": "2021-12-24T18:08:37.275Z"
   },
   {
    "duration": 47,
    "start_time": "2021-12-24T18:08:41.387Z"
   },
   {
    "duration": 11,
    "start_time": "2021-12-24T18:08:44.827Z"
   },
   {
    "duration": 15,
    "start_time": "2021-12-24T18:08:46.003Z"
   },
   {
    "duration": 7,
    "start_time": "2021-12-24T18:08:51.435Z"
   },
   {
    "duration": 21,
    "start_time": "2021-12-24T18:08:52.979Z"
   },
   {
    "duration": 7,
    "start_time": "2021-12-24T18:08:56.284Z"
   },
   {
    "duration": 25,
    "start_time": "2021-12-24T18:08:56.819Z"
   },
   {
    "duration": 7,
    "start_time": "2021-12-24T18:08:58.332Z"
   },
   {
    "duration": 9,
    "start_time": "2021-12-24T18:08:59.228Z"
   },
   {
    "duration": 25,
    "start_time": "2021-12-24T18:09:01.908Z"
   },
   {
    "duration": 27,
    "start_time": "2021-12-24T18:09:03.045Z"
   },
   {
    "duration": 24,
    "start_time": "2021-12-24T18:09:05.533Z"
   },
   {
    "duration": 20166,
    "start_time": "2021-12-24T18:09:10.540Z"
   },
   {
    "duration": 37,
    "start_time": "2021-12-24T18:09:38.150Z"
   },
   {
    "duration": 14,
    "start_time": "2021-12-24T18:09:42.793Z"
   },
   {
    "duration": 23,
    "start_time": "2021-12-24T18:09:46.694Z"
   },
   {
    "duration": 35,
    "start_time": "2021-12-24T18:09:50.494Z"
   },
   {
    "duration": 26,
    "start_time": "2021-12-24T18:10:08.583Z"
   },
   {
    "duration": 14,
    "start_time": "2021-12-24T18:10:10.767Z"
   },
   {
    "duration": 31,
    "start_time": "2021-12-24T18:10:12.879Z"
   },
   {
    "duration": 21,
    "start_time": "2021-12-24T18:10:15.071Z"
   },
   {
    "duration": 29,
    "start_time": "2021-12-24T18:10:17.944Z"
   },
   {
    "duration": 28,
    "start_time": "2021-12-24T18:10:21.128Z"
   },
   {
    "duration": 26,
    "start_time": "2021-12-24T18:10:24.568Z"
   },
   {
    "duration": 28,
    "start_time": "2021-12-24T18:10:27.768Z"
   },
   {
    "duration": 1514,
    "start_time": "2021-12-26T04:48:56.157Z"
   },
   {
    "duration": 86,
    "start_time": "2021-12-26T04:48:57.674Z"
   },
   {
    "duration": 18,
    "start_time": "2021-12-26T04:48:57.763Z"
   },
   {
    "duration": 46,
    "start_time": "2021-12-26T04:48:57.783Z"
   },
   {
    "duration": 7,
    "start_time": "2021-12-26T04:48:57.858Z"
   },
   {
    "duration": 18,
    "start_time": "2021-12-26T04:48:57.868Z"
   },
   {
    "duration": 4,
    "start_time": "2021-12-26T04:48:57.889Z"
   },
   {
    "duration": 61,
    "start_time": "2021-12-26T04:48:57.898Z"
   },
   {
    "duration": 702,
    "start_time": "2021-12-26T04:48:57.962Z"
   },
   {
    "duration": 9,
    "start_time": "2021-12-26T04:48:58.667Z"
   },
   {
    "duration": 8,
    "start_time": "2021-12-26T04:48:58.679Z"
   },
   {
    "duration": 601,
    "start_time": "2021-12-26T04:48:58.689Z"
   },
   {
    "duration": 2385,
    "start_time": "2021-12-26T04:48:59.292Z"
   },
   {
    "duration": 693,
    "start_time": "2021-12-26T04:49:01.679Z"
   },
   {
    "duration": 13,
    "start_time": "2021-12-26T04:49:02.375Z"
   },
   {
    "duration": 417,
    "start_time": "2021-12-26T04:49:02.391Z"
   },
   {
    "duration": 72,
    "start_time": "2021-12-26T04:49:02.811Z"
   },
   {
    "duration": 21,
    "start_time": "2021-12-26T04:49:02.885Z"
   },
   {
    "duration": 12,
    "start_time": "2021-12-26T04:49:02.908Z"
   },
   {
    "duration": 44,
    "start_time": "2021-12-26T04:49:02.922Z"
   },
   {
    "duration": 45,
    "start_time": "2021-12-26T04:49:02.969Z"
   },
   {
    "duration": 43,
    "start_time": "2021-12-26T04:49:03.017Z"
   },
   {
    "duration": 15,
    "start_time": "2021-12-26T04:49:03.065Z"
   },
   {
    "duration": 6,
    "start_time": "2021-12-26T04:49:03.083Z"
   },
   {
    "duration": 23,
    "start_time": "2021-12-26T04:49:03.092Z"
   },
   {
    "duration": 7,
    "start_time": "2021-12-26T04:49:03.160Z"
   },
   {
    "duration": 26,
    "start_time": "2021-12-26T04:49:03.169Z"
   },
   {
    "duration": 7,
    "start_time": "2021-12-26T04:49:03.197Z"
   },
   {
    "duration": 55,
    "start_time": "2021-12-26T04:49:03.207Z"
   },
   {
    "duration": 24,
    "start_time": "2021-12-26T04:49:03.264Z"
   },
   {
    "duration": 23,
    "start_time": "2021-12-26T04:49:03.290Z"
   },
   {
    "duration": 59,
    "start_time": "2021-12-26T04:49:03.316Z"
   },
   {
    "duration": 18806,
    "start_time": "2021-12-26T04:49:03.378Z"
   },
   {
    "duration": 36,
    "start_time": "2021-12-26T04:49:22.186Z"
   },
   {
    "duration": 44,
    "start_time": "2021-12-26T04:49:22.224Z"
   },
   {
    "duration": 24,
    "start_time": "2021-12-26T04:49:22.270Z"
   },
   {
    "duration": 33,
    "start_time": "2021-12-26T04:49:22.296Z"
   },
   {
    "duration": 26,
    "start_time": "2021-12-26T04:49:22.360Z"
   },
   {
    "duration": 11,
    "start_time": "2021-12-26T04:49:22.388Z"
   },
   {
    "duration": 66,
    "start_time": "2021-12-26T04:49:22.401Z"
   },
   {
    "duration": 17,
    "start_time": "2021-12-26T04:49:22.469Z"
   },
   {
    "duration": 26,
    "start_time": "2021-12-26T04:49:22.488Z"
   },
   {
    "duration": 63,
    "start_time": "2021-12-26T04:49:22.516Z"
   },
   {
    "duration": 108,
    "start_time": "2021-12-26T04:49:22.581Z"
   },
   {
    "duration": 24,
    "start_time": "2021-12-26T04:49:22.691Z"
   },
   {
    "duration": 1990,
    "start_time": "2021-12-26T05:39:08.682Z"
   },
   {
    "duration": 122,
    "start_time": "2021-12-26T05:39:10.675Z"
   },
   {
    "duration": 23,
    "start_time": "2021-12-26T05:39:10.801Z"
   },
   {
    "duration": 90,
    "start_time": "2021-12-26T05:39:10.827Z"
   },
   {
    "duration": 8,
    "start_time": "2021-12-26T05:39:10.920Z"
   },
   {
    "duration": 48,
    "start_time": "2021-12-26T05:39:10.931Z"
   },
   {
    "duration": 5,
    "start_time": "2021-12-26T05:39:10.981Z"
   },
   {
    "duration": 16,
    "start_time": "2021-12-26T05:39:10.991Z"
   },
   {
    "duration": 743,
    "start_time": "2021-12-26T05:39:11.010Z"
   },
   {
    "duration": 11,
    "start_time": "2021-12-26T05:39:11.760Z"
   },
   {
    "duration": 10,
    "start_time": "2021-12-26T05:39:11.774Z"
   },
   {
    "duration": 653,
    "start_time": "2021-12-26T05:39:11.788Z"
   },
   {
    "duration": 2343,
    "start_time": "2021-12-26T05:39:12.444Z"
   },
   {
    "duration": 706,
    "start_time": "2021-12-26T05:39:14.790Z"
   },
   {
    "duration": 14,
    "start_time": "2021-12-26T05:39:15.498Z"
   },
   {
    "duration": 473,
    "start_time": "2021-12-26T05:39:15.514Z"
   },
   {
    "duration": 83,
    "start_time": "2021-12-26T05:39:15.989Z"
   },
   {
    "duration": 20,
    "start_time": "2021-12-26T05:39:16.074Z"
   },
   {
    "duration": 12,
    "start_time": "2021-12-26T05:39:16.097Z"
   },
   {
    "duration": 48,
    "start_time": "2021-12-26T05:39:16.111Z"
   },
   {
    "duration": 46,
    "start_time": "2021-12-26T05:39:16.162Z"
   },
   {
    "duration": 53,
    "start_time": "2021-12-26T05:39:16.211Z"
   },
   {
    "duration": 20,
    "start_time": "2021-12-26T05:39:16.271Z"
   },
   {
    "duration": 9,
    "start_time": "2021-12-26T05:39:16.295Z"
   },
   {
    "duration": 67,
    "start_time": "2021-12-26T05:39:16.307Z"
   },
   {
    "duration": 9,
    "start_time": "2021-12-26T05:39:16.377Z"
   },
   {
    "duration": 71,
    "start_time": "2021-12-26T05:39:16.390Z"
   },
   {
    "duration": 9,
    "start_time": "2021-12-26T05:39:16.464Z"
   },
   {
    "duration": 10,
    "start_time": "2021-12-26T05:39:16.476Z"
   },
   {
    "duration": 79,
    "start_time": "2021-12-26T05:39:16.489Z"
   },
   {
    "duration": 34,
    "start_time": "2021-12-26T05:39:16.571Z"
   },
   {
    "duration": 57,
    "start_time": "2021-12-26T05:39:16.608Z"
   },
   {
    "duration": 18593,
    "start_time": "2021-12-26T05:39:16.667Z"
   },
   {
    "duration": 36,
    "start_time": "2021-12-26T05:39:35.262Z"
   },
   {
    "duration": 15,
    "start_time": "2021-12-26T05:39:35.300Z"
   },
   {
    "duration": 57,
    "start_time": "2021-12-26T05:39:35.318Z"
   },
   {
    "duration": 33,
    "start_time": "2021-12-26T05:39:35.377Z"
   },
   {
    "duration": 57,
    "start_time": "2021-12-26T05:39:35.413Z"
   },
   {
    "duration": 12,
    "start_time": "2021-12-26T05:39:35.472Z"
   },
   {
    "duration": 30,
    "start_time": "2021-12-26T05:39:35.486Z"
   },
   {
    "duration": 50,
    "start_time": "2021-12-26T05:39:35.519Z"
   },
   {
    "duration": 28,
    "start_time": "2021-12-26T05:39:35.572Z"
   },
   {
    "duration": 63,
    "start_time": "2021-12-26T05:39:35.602Z"
   },
   {
    "duration": 110,
    "start_time": "2021-12-26T05:39:35.669Z"
   },
   {
    "duration": 26,
    "start_time": "2021-12-26T05:39:35.782Z"
   },
   {
    "duration": 1302,
    "start_time": "2021-12-27T04:46:38.418Z"
   },
   {
    "duration": 168,
    "start_time": "2021-12-27T04:46:39.722Z"
   },
   {
    "duration": 10,
    "start_time": "2021-12-27T04:46:39.892Z"
   },
   {
    "duration": 29,
    "start_time": "2021-12-27T04:46:39.904Z"
   },
   {
    "duration": 3,
    "start_time": "2021-12-27T04:46:39.935Z"
   },
   {
    "duration": 14,
    "start_time": "2021-12-27T04:46:39.940Z"
   },
   {
    "duration": 3,
    "start_time": "2021-12-27T04:46:39.955Z"
   },
   {
    "duration": 11,
    "start_time": "2021-12-27T04:46:39.960Z"
   },
   {
    "duration": 668,
    "start_time": "2021-12-27T04:46:39.973Z"
   },
   {
    "duration": 7,
    "start_time": "2021-12-27T04:46:40.643Z"
   },
   {
    "duration": 6,
    "start_time": "2021-12-27T04:46:40.652Z"
   },
   {
    "duration": 324,
    "start_time": "2021-12-27T04:46:40.659Z"
   },
   {
    "duration": 1208,
    "start_time": "2021-12-27T04:46:40.984Z"
   },
   {
    "duration": 454,
    "start_time": "2021-12-27T04:46:42.194Z"
   },
   {
    "duration": 9,
    "start_time": "2021-12-27T04:46:42.649Z"
   },
   {
    "duration": 310,
    "start_time": "2021-12-27T04:46:42.660Z"
   },
   {
    "duration": 34,
    "start_time": "2021-12-27T04:46:42.972Z"
   },
   {
    "duration": 12,
    "start_time": "2021-12-27T04:46:43.008Z"
   },
   {
    "duration": 22,
    "start_time": "2021-12-27T04:46:43.022Z"
   },
   {
    "duration": 8,
    "start_time": "2021-12-27T04:46:43.046Z"
   },
   {
    "duration": 28,
    "start_time": "2021-12-27T04:46:43.056Z"
   },
   {
    "duration": 7,
    "start_time": "2021-12-27T04:46:43.085Z"
   },
   {
    "duration": 9,
    "start_time": "2021-12-27T04:46:43.095Z"
   },
   {
    "duration": 36,
    "start_time": "2021-12-27T04:46:43.106Z"
   },
   {
    "duration": 13,
    "start_time": "2021-12-27T04:46:43.143Z"
   },
   {
    "duration": 6,
    "start_time": "2021-12-27T04:46:43.158Z"
   },
   {
    "duration": 16,
    "start_time": "2021-12-27T04:46:43.165Z"
   },
   {
    "duration": 5,
    "start_time": "2021-12-27T04:46:43.182Z"
   },
   {
    "duration": 8,
    "start_time": "2021-12-27T04:46:43.188Z"
   },
   {
    "duration": 44,
    "start_time": "2021-12-27T04:46:43.198Z"
   },
   {
    "duration": 18,
    "start_time": "2021-12-27T04:46:43.243Z"
   },
   {
    "duration": 16,
    "start_time": "2021-12-27T04:46:43.262Z"
   },
   {
    "duration": 9686,
    "start_time": "2021-12-27T04:46:43.279Z"
   },
   {
    "duration": 20,
    "start_time": "2021-12-27T04:46:52.967Z"
   },
   {
    "duration": 9,
    "start_time": "2021-12-27T04:46:52.988Z"
   },
   {
    "duration": 15,
    "start_time": "2021-12-27T04:46:52.998Z"
   },
   {
    "duration": 34,
    "start_time": "2021-12-27T04:46:53.014Z"
   },
   {
    "duration": 11,
    "start_time": "2021-12-27T04:46:53.050Z"
   },
   {
    "duration": 8,
    "start_time": "2021-12-27T04:46:53.063Z"
   },
   {
    "duration": 29,
    "start_time": "2021-12-27T04:46:53.072Z"
   },
   {
    "duration": 11,
    "start_time": "2021-12-27T04:46:53.103Z"
   },
   {
    "duration": 49,
    "start_time": "2021-12-27T04:46:53.116Z"
   },
   {
    "duration": 106,
    "start_time": "2021-12-27T04:46:53.167Z"
   },
   {
    "duration": 28,
    "start_time": "2021-12-27T04:46:53.274Z"
   },
   {
    "duration": 41,
    "start_time": "2021-12-27T04:46:53.303Z"
   }
  ],
  "celltoolbar": "Отсутствует",
  "kernelspec": {
   "display_name": "Python 3 (ipykernel)",
   "language": "python",
   "name": "python3"
  },
  "language_info": {
   "codemirror_mode": {
    "name": "ipython",
    "version": 3
   },
   "file_extension": ".py",
   "mimetype": "text/x-python",
   "name": "python",
   "nbconvert_exporter": "python",
   "pygments_lexer": "ipython3",
   "version": "3.9.13"
  },
  "toc": {
   "base_numbering": 1,
   "nav_menu": {
    "height": "679px",
    "width": "849px"
   },
   "number_sections": false,
   "sideBar": true,
   "skip_h1_title": true,
   "title_cell": "Table of Contents",
   "title_sidebar": "Contents",
   "toc_cell": false,
   "toc_position": {
    "height": "calc(100% - 180px)",
    "left": "10px",
    "top": "150px",
    "width": "278.4px"
   },
   "toc_section_display": true,
   "toc_window_display": true
  }
 },
 "nbformat": 4,
 "nbformat_minor": 2
}
