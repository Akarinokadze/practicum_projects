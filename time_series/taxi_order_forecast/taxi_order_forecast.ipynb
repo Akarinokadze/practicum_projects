{
 "cells": [
  {
   "cell_type": "markdown",
   "metadata": {},
   "source": [
    "#  Прогнозирование заказов такси"
   ]
  },
  {
   "cell_type": "markdown",
   "metadata": {},
   "source": [
    "## Описание работы\n",
    "\n",
    "Компания «Чётенькое такси» собрала исторические данные о заказах такси в аэропортах. Чтобы привлекать больше водителей в период пиковой нагрузки, нужно спрогнозировать количество заказов такси на следующий час. Построим модель для такого предсказания.\n",
    "\n",
    "Значение метрики *RMSE* на тестовой выборке должно быть не больше 48.\n",
    "\n",
    "### План проведения работ\n",
    "\n",
    "1. Загрузить данные и выполнить их ресемплирование по одному часу.\n",
    "2. Проанализировать данные.\n",
    "3. Обучить разные модели с различными гиперпараметрами. Сделать тестовую выборку размером 10% от исходных данных.\n",
    "4. Проверить данные на тестовой выборке и сделать выводы.\n",
    "\n",
    "### Описание данных\n",
    "\n",
    "Данные лежат в файле `taxi.csv`. Количество заказов находится в столбце `num_orders` (от англ. *number of orders*, «число заказов»). Первым столбцом идут дата и время заказа с шагом 10 минут."
   ]
  },
  {
   "cell_type": "markdown",
   "metadata": {},
   "source": [
    "## Подготовка"
   ]
  },
  {
   "cell_type": "markdown",
   "metadata": {},
   "source": [
    "Импортируем необходимые библиотеки."
   ]
  },
  {
   "cell_type": "code",
   "execution_count": 1,
   "metadata": {},
   "outputs": [],
   "source": [
    "import os\n",
    "import pandas as pd\n",
    "import numpy as np\n",
    "import matplotlib.pyplot as plt\n",
    "from statsmodels.tsa.seasonal import seasonal_decompose\n",
    "import plotly.express as px\n",
    "import copy\n",
    "\n",
    "from sklearn.model_selection import train_test_split\n",
    "\n",
    "from sklearn.dummy import DummyRegressor\n",
    "\n",
    "from sklearn.metrics import mean_squared_error\n",
    "\n",
    "from sklearn.preprocessing import OneHotEncoder, OrdinalEncoder, StandardScaler, LabelEncoder\n",
    "from sklearn.compose import make_column_transformer, make_column_selector\n",
    "\n",
    "from sklearn.pipeline import make_pipeline\n",
    "from sklearn.model_selection import GridSearchCV, TimeSeriesSplit\n",
    "\n",
    "from sklearn.linear_model import LinearRegression\n",
    "from sklearn.ensemble import RandomForestRegressor\n",
    "from sklearn.svm import LinearSVR\n",
    "\n",
    "import lightgbm as lgb"
   ]
  },
  {
   "cell_type": "markdown",
   "metadata": {},
   "source": [
    "Объявим глобальные переменные."
   ]
  },
  {
   "cell_type": "code",
   "execution_count": 2,
   "metadata": {},
   "outputs": [],
   "source": [
    "SEED = 314159"
   ]
  },
  {
   "cell_type": "markdown",
   "metadata": {},
   "source": [
    "Загрузим данные."
   ]
  },
  {
   "cell_type": "code",
   "execution_count": 3,
   "metadata": {},
   "outputs": [],
   "source": [
    "if os.path.exists('taxi.csv'):\n",
    "    df = pd.read_csv('taxi.csv', index_col=[0], parse_dates=[0])\n",
    "else:\n",
    "    df = pd.read_csv('/datasets/taxi.csv', index_col=[0], parse_dates=[0])"
   ]
  },
  {
   "cell_type": "markdown",
   "metadata": {},
   "source": [
    "Сделаем первичный осмотр."
   ]
  },
  {
   "cell_type": "code",
   "execution_count": 4,
   "metadata": {},
   "outputs": [
    {
     "name": "stdout",
     "output_type": "stream",
     "text": [
      "<class 'pandas.core.frame.DataFrame'>\n",
      "DatetimeIndex: 26496 entries, 2018-03-01 00:00:00 to 2018-08-31 23:50:00\n",
      "Data columns (total 1 columns):\n",
      " #   Column      Non-Null Count  Dtype\n",
      "---  ------      --------------  -----\n",
      " 0   num_orders  26496 non-null  int64\n",
      "dtypes: int64(1)\n",
      "memory usage: 414.0 KB\n"
     ]
    },
    {
     "data": {
      "text/html": [
       "<div>\n",
       "<style scoped>\n",
       "    .dataframe tbody tr th:only-of-type {\n",
       "        vertical-align: middle;\n",
       "    }\n",
       "\n",
       "    .dataframe tbody tr th {\n",
       "        vertical-align: top;\n",
       "    }\n",
       "\n",
       "    .dataframe thead th {\n",
       "        text-align: right;\n",
       "    }\n",
       "</style>\n",
       "<table border=\"1\" class=\"dataframe\">\n",
       "  <thead>\n",
       "    <tr style=\"text-align: right;\">\n",
       "      <th></th>\n",
       "      <th>num_orders</th>\n",
       "    </tr>\n",
       "    <tr>\n",
       "      <th>datetime</th>\n",
       "      <th></th>\n",
       "    </tr>\n",
       "  </thead>\n",
       "  <tbody>\n",
       "    <tr>\n",
       "      <th>2018-03-01 00:00:00</th>\n",
       "      <td>9</td>\n",
       "    </tr>\n",
       "    <tr>\n",
       "      <th>2018-03-01 00:10:00</th>\n",
       "      <td>14</td>\n",
       "    </tr>\n",
       "    <tr>\n",
       "      <th>2018-03-01 00:20:00</th>\n",
       "      <td>28</td>\n",
       "    </tr>\n",
       "    <tr>\n",
       "      <th>2018-03-01 00:30:00</th>\n",
       "      <td>20</td>\n",
       "    </tr>\n",
       "    <tr>\n",
       "      <th>2018-03-01 00:40:00</th>\n",
       "      <td>32</td>\n",
       "    </tr>\n",
       "  </tbody>\n",
       "</table>\n",
       "</div>"
      ],
      "text/plain": [
       "                     num_orders\n",
       "datetime                       \n",
       "2018-03-01 00:00:00           9\n",
       "2018-03-01 00:10:00          14\n",
       "2018-03-01 00:20:00          28\n",
       "2018-03-01 00:30:00          20\n",
       "2018-03-01 00:40:00          32"
      ]
     },
     "metadata": {},
     "output_type": "display_data"
    },
    {
     "data": {
      "text/html": [
       "<div>\n",
       "<style scoped>\n",
       "    .dataframe tbody tr th:only-of-type {\n",
       "        vertical-align: middle;\n",
       "    }\n",
       "\n",
       "    .dataframe tbody tr th {\n",
       "        vertical-align: top;\n",
       "    }\n",
       "\n",
       "    .dataframe thead th {\n",
       "        text-align: right;\n",
       "    }\n",
       "</style>\n",
       "<table border=\"1\" class=\"dataframe\">\n",
       "  <thead>\n",
       "    <tr style=\"text-align: right;\">\n",
       "      <th></th>\n",
       "      <th>count</th>\n",
       "      <th>mean</th>\n",
       "      <th>std</th>\n",
       "      <th>min</th>\n",
       "      <th>25%</th>\n",
       "      <th>50%</th>\n",
       "      <th>75%</th>\n",
       "      <th>max</th>\n",
       "    </tr>\n",
       "  </thead>\n",
       "  <tbody>\n",
       "    <tr>\n",
       "      <th>num_orders</th>\n",
       "      <td>26496.0</td>\n",
       "      <td>14.070463</td>\n",
       "      <td>9.21133</td>\n",
       "      <td>0.0</td>\n",
       "      <td>8.0</td>\n",
       "      <td>13.0</td>\n",
       "      <td>19.0</td>\n",
       "      <td>119.0</td>\n",
       "    </tr>\n",
       "  </tbody>\n",
       "</table>\n",
       "</div>"
      ],
      "text/plain": [
       "              count       mean      std  min  25%   50%   75%    max\n",
       "num_orders  26496.0  14.070463  9.21133  0.0  8.0  13.0  19.0  119.0"
      ]
     },
     "metadata": {},
     "output_type": "display_data"
    }
   ],
   "source": [
    "df.info()\n",
    "display(df.head())\n",
    "display(df.describe().transpose())"
   ]
  },
  {
   "cell_type": "markdown",
   "metadata": {},
   "source": [
    "Проверим в хронологическом ли порядке размещены дата и время."
   ]
  },
  {
   "cell_type": "code",
   "execution_count": 5,
   "metadata": {},
   "outputs": [
    {
     "data": {
      "text/plain": [
       "True"
      ]
     },
     "execution_count": 5,
     "metadata": {},
     "output_type": "execute_result"
    }
   ],
   "source": [
    "df.index.is_monotonic"
   ]
  },
  {
   "cell_type": "markdown",
   "metadata": {},
   "source": [
    "Построим график с количеством заказов."
   ]
  },
  {
   "cell_type": "code",
   "execution_count": 6,
   "metadata": {},
   "outputs": [
    {
     "data": {
      "text/plain": [
       "<AxesSubplot:xlabel='datetime'>"
      ]
     },
     "execution_count": 6,
     "metadata": {},
     "output_type": "execute_result"
    },
    {
     "data": {
      "image/png": "[encoded data removed]",
      "text/plain": [
       "<Figure size 1152x288 with 1 Axes>"
      ]
     },
     "metadata": {
      "needs_background": "light"
     },
     "output_type": "display_data"
    }
   ],
   "source": [
    "plt.figure(figsize=(16, 4))\n",
    "df.plot(ax=plt.gca())"
   ]
  },
  {
   "cell_type": "markdown",
   "metadata": {},
   "source": [
    "### Выводы\n",
    "\n",
    "Мы загрузили данные с начала марта 2018 по конец августа, проверили на пропуски и монотонность.\n",
    "\n",
    "График зависимости количества заказов от времени ожидаемо оказался \"частоколом\". Применим другие подходы при анализе данных."
   ]
  },
  {
   "cell_type": "markdown",
   "metadata": {},
   "source": [
    "## Анализ"
   ]
  },
  {
   "cell_type": "markdown",
   "metadata": {},
   "source": [
    "Для начала проведём ресемплирование по одному часу."
   ]
  },
  {
   "cell_type": "code",
   "execution_count": 7,
   "metadata": {},
   "outputs": [
    {
     "data": {
      "text/plain": [
       "<AxesSubplot:xlabel='datetime'>"
      ]
     },
     "execution_count": 7,
     "metadata": {},
     "output_type": "execute_result"
    },
    {
     "data": {
      "image/png": "[encoded data removed]",
      "text/plain": [
       "<Figure size 1152x288 with 1 Axes>"
      ]
     },
     "metadata": {
      "needs_background": "light"
     },
     "output_type": "display_data"
    }
   ],
   "source": [
    "plt.figure(figsize=(16, 4))\n",
    "df = df.resample('1H').sum()\n",
    "df.plot(ax=plt.gca())"
   ]
  },
  {
   "cell_type": "markdown",
   "metadata": {},
   "source": [
    "Вычислим скользящее среднее взяв данные за 24 часа."
   ]
  },
  {
   "cell_type": "code",
   "execution_count": null,
   "metadata": {},
   "outputs": [],
   "source": [
    "plt.figure(figsize=(16, 4))\n",
    "df['rolling_mean'] = df.shift().rolling(24).mean()\n",
    "\n",
    "fig = px.line(df, title='Разности временного ряда')\n",
    "fig.update_xaxes(rangeslider_visible=True)\n",
    "fig.update_xaxes(\n",
    "    rangeslider_visible=True,\n",
    "    rangeselector=dict(\n",
    "        buttons=list([\n",
    "            dict(count=7, label='1 week', step='day', stepmode='backward'),\n",
    "            dict(count=1, label='1 month', step='month', stepmode='backward'),\n",
    "            dict(step='all')\n",
    "        ])\n",
    "    )\n",
    ")\n",
    "fig.show()"
   ]
  },
  {
   "cell_type": "markdown",
   "metadata": {},
   "source": [
    "На графике можно заметить восходящий тренд. Попробуем сделать его более явным. Разделим на тренды и сезонные явления."
   ]
  },
  {
   "cell_type": "code",
   "execution_count": 9,
   "metadata": {},
   "outputs": [
    {
     "data": {
      "image/png": "[encoded data removed]",
      "text/plain": [
       "<Figure size 936x576 with 3 Axes>"
      ]
     },
     "metadata": {
      "needs_background": "light"
     },
     "output_type": "display_data"
    }
   ],
   "source": [
    "decomposed = seasonal_decompose(df['num_orders'])\n",
    "\n",
    "plt.figure(figsize=(13, 8))\n",
    "plt.subplot(311)\n",
    "decomposed.trend.plot(ax=plt.gca())\n",
    "plt.title('Trend')\n",
    "plt.subplot(312)\n",
    "decomposed.seasonal.loc['2018-03-01':'2018-03-07'].plot(ax=plt.gca())\n",
    "plt.title('Seasonality')\n",
    "plt.subplot(313)\n",
    "decomposed.resid.plot(ax=plt.gca())\n",
    "plt.title('Residuals')\n",
    "plt.tight_layout()"
   ]
  },
  {
   "cell_type": "markdown",
   "metadata": {},
   "source": [
    "На графике тренда видно что количество заказов постепенно повышается ближе к концу лета (сезон отпусков). Видны внутридневные колебания, есть некоторый \"шум\".\n",
    "\n",
    "Т.к. среднее значение меняется - наш ряд не стационарный, попробуем найти разности временного ряда."
   ]
  },
  {
   "cell_type": "code",
   "execution_count": null,
   "metadata": {},
   "outputs": [],
   "source": [
    "# создадим копию исходного датасета\n",
    "df_init = copy.deepcopy(df.drop(columns='rolling_mean'))\n",
    "                                \n",
    "shift = df.shift()\n",
    "df = df - shift\n",
    "df['std'] = df['num_orders'].shift().rolling(24).std()\n",
    "\n",
    "fig = px.line(df, title='Разности временного ряда')\n",
    "fig.update_xaxes(rangeslider_visible=True)\n",
    "fig.update_xaxes(\n",
    "    rangeslider_visible=True,\n",
    "    rangeselector=dict(\n",
    "        buttons=list([\n",
    "            dict(count=7, label='1 week', step='day', stepmode='backward'),\n",
    "            dict(count=1, label='1 month', step='month', stepmode='backward'),\n",
    "            dict(step='all')\n",
    "        ])\n",
    "    )\n",
    ")\n",
    "fig.show()\n",
    "\n",
    "df.drop(columns=['rolling_mean', 'std'], inplace=True)"
   ]
  },
  {
   "cell_type": "markdown",
   "metadata": {},
   "source": [
    "### Выводы\n",
    "\n",
    "Мы проанализировали наш временной ряд, можно заметить селедующие закономерности:\n",
    "   * виден восходящий тренд от марта к сентябрю, сильный в августе, вероятно сезон отпусков\n",
    "   * видно увеличение количества заказов в понедельник с вечера и до утра, вероятно прилёты перед началом рабочей недели\n",
    "   * также видны внутридневные пики около 10 утра и 17 вечера\n",
    "   \n",
    "Вычислили разности временного ряда и теперь он почти полностью стационарный (немного увеличивается стандартное отклонение ближе к концу августа). Можно переходить к подготовке к обучению."
   ]
  },
  {
   "cell_type": "markdown",
   "metadata": {},
   "source": [
    "## Обучение"
   ]
  },
  {
   "cell_type": "markdown",
   "metadata": {},
   "source": [
    "### Добавление признаков и разбиение на выборки"
   ]
  },
  {
   "cell_type": "markdown",
   "metadata": {},
   "source": [
    "Добавим обучающих признаков в наш датасет."
   ]
  },
  {
   "cell_type": "code",
   "execution_count": 11,
   "metadata": {},
   "outputs": [],
   "source": [
    "# напишем функцию для добавления новых признаков\n",
    "def make_features(data, max_lag, rolling_mean_size):\n",
    "    \n",
    "    # добавим календарные признаки\n",
    "    data['month'] = data.index.month\n",
    "    data['day'] = data.index.day\n",
    "    data['dayofweek'] = data.index.dayofweek.astype('category')\n",
    "    \n",
    "    # добавим время суток\n",
    "    data.loc[(data.index.hour >= 0) & (data.index.hour < 6), 'times_of_day'] = 'night'\n",
    "    data.loc[(data.index.hour >= 6) & (data.index.hour < 12), 'times_of_day'] = 'morning'\n",
    "    data.loc[(data.index.hour >= 12) & (data.index.hour < 18), 'times_of_day'] = 'day'\n",
    "    data.loc[(data.index.hour >= 18) & (data.index.hour < 24), 'times_of_day'] = 'evening'\n",
    "    data['times_of_day'] = data['times_of_day'].astype('category')\n",
    "    \n",
    "    # добавим сдвиги\n",
    "    for lag in range(1, max_lag + 1):\n",
    "        data['lag_{}'.format(lag)] = data['num_orders'].shift(lag)\n",
    "    data['lag_week'] = data['num_orders'].shift(24 * 7)\n",
    "        \n",
    "    # добавим скользящее среднее\n",
    "    data['rolling_mean_{}'.format(rolling_mean_size)] = data['num_orders'].shift().rolling(rolling_mean_size).mean()\n",
    "    \n",
    "make_features(df, 24, 24)\n",
    "df.dropna(inplace=True)\n",
    "\n",
    "# применим к исходному датасету те же преобразования что и к дифференцированному для сравнения на тесте\n",
    "make_features(df_init, 24, 24)\n",
    "df_init.dropna(inplace=True)"
   ]
  },
  {
   "cell_type": "markdown",
   "metadata": {},
   "source": [
    "Разделим данные признаки и цели, на обучающую и тестовые выборки."
   ]
  },
  {
   "cell_type": "code",
   "execution_count": 12,
   "metadata": {},
   "outputs": [],
   "source": [
    "X = df.drop(['num_orders'], axis=1)\n",
    "y = df['num_orders']\n",
    "\n",
    "X, X_test, y, y_test= train_test_split(X, y, shuffle=False, test_size=0.1)"
   ]
  },
  {
   "cell_type": "code",
   "execution_count": 13,
   "metadata": {},
   "outputs": [
    {
     "data": {
      "text/plain": [
       "Timestamp('2018-08-14 06:00:00', freq='H')"
      ]
     },
     "execution_count": 13,
     "metadata": {},
     "output_type": "execute_result"
    }
   ],
   "source": [
    "X.index[-1]"
   ]
  },
  {
   "cell_type": "code",
   "execution_count": 14,
   "metadata": {},
   "outputs": [
    {
     "data": {
      "text/plain": [
       "Timestamp('2018-08-14 07:00:00', freq='H')"
      ]
     },
     "execution_count": 14,
     "metadata": {},
     "output_type": "execute_result"
    }
   ],
   "source": [
    "X_test.index[0]"
   ]
  },
  {
   "cell_type": "code",
   "execution_count": 15,
   "metadata": {},
   "outputs": [
    {
     "name": "stdout",
     "output_type": "stream",
     "text": [
      "Доля тренировочных признаков: 0.90\n",
      "Доля тренировочных целей: 0.90\n",
      "Доля тестовых признаков: 0.10\n",
      "Доля тестовых целей: 0.10\n"
     ]
    }
   ],
   "source": [
    "print(f'Доля тренировочных признаков: {X.shape[0]/df.shape[0]:.2f}')\n",
    "print(f'Доля тренировочных целей: {y.shape[0]/df.shape[0]:.2f}')\n",
    "print(f'Доля тестовых признаков: {X_test.shape[0]/df.shape[0]:.2f}')\n",
    "print(f'Доля тестовых целей: {y_test.shape[0]/df.shape[0]:.2f}')"
   ]
  },
  {
   "cell_type": "markdown",
   "metadata": {},
   "source": [
    "Даты не перемешались и разбились в верных пропорциях, приступим к изучению моделей."
   ]
  },
  {
   "cell_type": "markdown",
   "metadata": {},
   "source": [
    "### Baseline"
   ]
  },
  {
   "cell_type": "markdown",
   "metadata": {},
   "source": [
    "Найдём результаты для константной модели.\n",
    "\n",
    "Создадим генератор кросс-валидационных наборов, зададим сетку параметров, определим модель и оценщик GridSearch."
   ]
  },
  {
   "cell_type": "code",
   "execution_count": 16,
   "metadata": {},
   "outputs": [],
   "source": [
    "tscv = TimeSeriesSplit(n_splits=3, gap=(24 * 7))\n",
    "\n",
    "param_grid = {\n",
    "    'strategy':['median', 'mean']\n",
    "}\n",
    "\n",
    "model = DummyRegressor()\n",
    "\n",
    "gs_dr = GridSearchCV(\n",
    "    model,\n",
    "    param_grid,\n",
    "    scoring='neg_root_mean_squared_error',\n",
    "    n_jobs=-1,\n",
    "    cv=tscv,\n",
    "    verbose=1\n",
    ")"
   ]
  },
  {
   "cell_type": "markdown",
   "metadata": {},
   "source": [
    "Проведём обучение."
   ]
  },
  {
   "cell_type": "code",
   "execution_count": 17,
   "metadata": {},
   "outputs": [
    {
     "name": "stdout",
     "output_type": "stream",
     "text": [
      "Fitting 3 folds for each of 2 candidates, totalling 6 fits\n",
      "CPU times: user 20 ms, sys: 38 µs, total: 20 ms\n",
      "Wall time: 19.1 ms\n"
     ]
    }
   ],
   "source": [
    "%time gs_dr.fit(X, y)\n",
    "None"
   ]
  },
  {
   "cell_type": "markdown",
   "metadata": {},
   "source": [
    "Посмотрим на результат и залогируем результат."
   ]
  },
  {
   "cell_type": "code",
   "execution_count": 18,
   "metadata": {},
   "outputs": [
    {
     "data": {
      "text/html": [
       "<div>\n",
       "<style scoped>\n",
       "    .dataframe tbody tr th:only-of-type {\n",
       "        vertical-align: middle;\n",
       "    }\n",
       "\n",
       "    .dataframe tbody tr th {\n",
       "        vertical-align: top;\n",
       "    }\n",
       "\n",
       "    .dataframe thead th {\n",
       "        text-align: right;\n",
       "    }\n",
       "</style>\n",
       "<table border=\"1\" class=\"dataframe\">\n",
       "  <thead>\n",
       "    <tr style=\"text-align: right;\">\n",
       "      <th></th>\n",
       "      <th>param_strategy</th>\n",
       "      <th>mean_test_score</th>\n",
       "      <th>rank_test_score</th>\n",
       "    </tr>\n",
       "  </thead>\n",
       "  <tbody>\n",
       "    <tr>\n",
       "      <th>0</th>\n",
       "      <td>median</td>\n",
       "      <td>-38.367936</td>\n",
       "      <td>2</td>\n",
       "    </tr>\n",
       "    <tr>\n",
       "      <th>1</th>\n",
       "      <td>mean</td>\n",
       "      <td>-38.341111</td>\n",
       "      <td>1</td>\n",
       "    </tr>\n",
       "  </tbody>\n",
       "</table>\n",
       "</div>"
      ],
      "text/plain": [
       "  param_strategy  mean_test_score  rank_test_score\n",
       "0         median       -38.367936                2\n",
       "1           mean       -38.341111                1"
      ]
     },
     "execution_count": 18,
     "metadata": {},
     "output_type": "execute_result"
    }
   ],
   "source": [
    "table = pd.DataFrame(gs_dr.cv_results_)\n",
    "\n",
    "results = {} # словарь со сводными результатами для всех моделей\n",
    "results['Dummy Regressor'] = int(abs(table[table['rank_test_score'] == 1]['mean_test_score'].values[0]))\n",
    "\n",
    "table[[\n",
    "    'param_strategy',\n",
    "    'mean_test_score', 'rank_test_score'\n",
    "]]"
   ]
  },
  {
   "cell_type": "markdown",
   "metadata": {},
   "source": [
    "Попробуем линейную регрессию."
   ]
  },
  {
   "cell_type": "markdown",
   "metadata": {},
   "source": [
    "### LinearRegression"
   ]
  },
  {
   "cell_type": "markdown",
   "metadata": {},
   "source": [
    "Создадим трансформер для различных колонок, в случае с \"линейными\" моделями к категориальным применим OHE, к числовым - StandardScaler."
   ]
  },
  {
   "cell_type": "code",
   "execution_count": 19,
   "metadata": {},
   "outputs": [],
   "source": [
    "linear_transformer = make_column_transformer(\n",
    "    (\n",
    "        OneHotEncoder(\n",
    "            dtype='uint8',\n",
    "            handle_unknown='ignore'\n",
    "        ), make_column_selector(dtype_include=['category', 'object'])\n",
    "    ),\n",
    "    (\n",
    "        StandardScaler(\n",
    "        ), make_column_selector(dtype_include='number')\n",
    "    ),\n",
    "    remainder='passthrough'\n",
    ")"
   ]
  },
  {
   "cell_type": "markdown",
   "metadata": {},
   "source": [
    "Соберём pipeline для линейной регрессии."
   ]
  },
  {
   "cell_type": "code",
   "execution_count": 20,
   "metadata": {},
   "outputs": [],
   "source": [
    "pipe_lr = make_pipeline(\n",
    "    linear_transformer,\n",
    "    LinearRegression(\n",
    "        n_jobs=-1\n",
    "    )\n",
    ")"
   ]
  },
  {
   "cell_type": "markdown",
   "metadata": {},
   "source": [
    "Зададим сетку параметров и создадим оценщик."
   ]
  },
  {
   "cell_type": "code",
   "execution_count": 21,
   "metadata": {},
   "outputs": [],
   "source": [
    "param_grid = {\n",
    "    'linearregression__normalize':[False, True]\n",
    "}\n",
    "\n",
    "gs_lr = GridSearchCV(\n",
    "    pipe_lr,\n",
    "    param_grid,\n",
    "    scoring='neg_root_mean_squared_error',\n",
    "    n_jobs=-1,\n",
    "    cv=tscv,\n",
    "    verbose=1\n",
    ")"
   ]
  },
  {
   "cell_type": "markdown",
   "metadata": {},
   "source": [
    "Проведём обучение."
   ]
  },
  {
   "cell_type": "code",
   "execution_count": 22,
   "metadata": {},
   "outputs": [
    {
     "name": "stdout",
     "output_type": "stream",
     "text": [
      "Fitting 3 folds for each of 2 candidates, totalling 6 fits\n",
      "CPU times: user 861 ms, sys: 1.1 s, total: 1.96 s\n",
      "Wall time: 1.96 s\n"
     ]
    }
   ],
   "source": [
    "%time gs_lr.fit(X, y)\n",
    "None"
   ]
  },
  {
   "cell_type": "markdown",
   "metadata": {},
   "source": [
    "Посмотрим на результат и залогируем результат."
   ]
  },
  {
   "cell_type": "code",
   "execution_count": 23,
   "metadata": {},
   "outputs": [
    {
     "data": {
      "text/html": [
       "<div>\n",
       "<style scoped>\n",
       "    .dataframe tbody tr th:only-of-type {\n",
       "        vertical-align: middle;\n",
       "    }\n",
       "\n",
       "    .dataframe tbody tr th {\n",
       "        vertical-align: top;\n",
       "    }\n",
       "\n",
       "    .dataframe thead th {\n",
       "        text-align: right;\n",
       "    }\n",
       "</style>\n",
       "<table border=\"1\" class=\"dataframe\">\n",
       "  <thead>\n",
       "    <tr style=\"text-align: right;\">\n",
       "      <th></th>\n",
       "      <th>param_linearregression__normalize</th>\n",
       "      <th>mean_test_score</th>\n",
       "      <th>rank_test_score</th>\n",
       "    </tr>\n",
       "  </thead>\n",
       "  <tbody>\n",
       "    <tr>\n",
       "      <th>0</th>\n",
       "      <td>False</td>\n",
       "      <td>-26.260517</td>\n",
       "      <td>2</td>\n",
       "    </tr>\n",
       "    <tr>\n",
       "      <th>1</th>\n",
       "      <td>True</td>\n",
       "      <td>-26.254378</td>\n",
       "      <td>1</td>\n",
       "    </tr>\n",
       "  </tbody>\n",
       "</table>\n",
       "</div>"
      ],
      "text/plain": [
       "  param_linearregression__normalize  mean_test_score  rank_test_score\n",
       "0                             False       -26.260517                2\n",
       "1                              True       -26.254378                1"
      ]
     },
     "execution_count": 23,
     "metadata": {},
     "output_type": "execute_result"
    }
   ],
   "source": [
    "table = pd.DataFrame(gs_lr.cv_results_)\n",
    "\n",
    "results['Linear Regression'] = int(abs(table[table['rank_test_score'] == 1]['mean_test_score'].values[0]))\n",
    "\n",
    "table[[\n",
    "    'param_linearregression__normalize',\n",
    "    'mean_test_score', 'rank_test_score'\n",
    "]]"
   ]
  },
  {
   "cell_type": "markdown",
   "metadata": {},
   "source": [
    "Попробуем случайный лес."
   ]
  },
  {
   "cell_type": "markdown",
   "metadata": {},
   "source": [
    "### RandomForestRegressor"
   ]
  },
  {
   "cell_type": "markdown",
   "metadata": {},
   "source": [
    "Создадим трансформер для различных колонок, в случае с \"деревянными моделями\" к категориальным применим OE, числовые оставим как есть."
   ]
  },
  {
   "cell_type": "code",
   "execution_count": 24,
   "metadata": {},
   "outputs": [],
   "source": [
    "ensemble_transformer = make_column_transformer(\n",
    "    (\n",
    "        OrdinalEncoder(\n",
    "            dtype='int16',\n",
    "            handle_unknown='use_encoded_value',\n",
    "            unknown_value=-1\n",
    "        ), make_column_selector(dtype_include=['object', 'category'])\n",
    "    ),\n",
    "    remainder='passthrough'\n",
    ")"
   ]
  },
  {
   "cell_type": "markdown",
   "metadata": {},
   "source": [
    "Создадим pipeline."
   ]
  },
  {
   "cell_type": "code",
   "execution_count": 25,
   "metadata": {},
   "outputs": [],
   "source": [
    "pipe_rf = make_pipeline(\n",
    "    ensemble_transformer,\n",
    "    RandomForestRegressor(\n",
    "        oob_score=True,\n",
    "        n_jobs=-1,\n",
    "        verbose=0,\n",
    "        random_state=SEED\n",
    "    )\n",
    ")"
   ]
  },
  {
   "cell_type": "markdown",
   "metadata": {},
   "source": [
    "Зададим сетку параметров и создадим estimator."
   ]
  },
  {
   "cell_type": "code",
   "execution_count": 26,
   "metadata": {},
   "outputs": [],
   "source": [
    "param_grid = {\n",
    "    'randomforestregressor__max_depth':np.arange(5, 16, 5)\n",
    "}\n",
    "\n",
    "gs_rf = GridSearchCV(\n",
    "    pipe_rf,\n",
    "    param_grid,\n",
    "    scoring='neg_root_mean_squared_error',\n",
    "    n_jobs=-1,\n",
    "    cv=tscv,\n",
    "    verbose=1\n",
    ")"
   ]
  },
  {
   "cell_type": "markdown",
   "metadata": {},
   "source": [
    "Проведём обучение."
   ]
  },
  {
   "cell_type": "code",
   "execution_count": 27,
   "metadata": {},
   "outputs": [
    {
     "name": "stdout",
     "output_type": "stream",
     "text": [
      "Fitting 3 folds for each of 3 candidates, totalling 9 fits\n",
      "CPU times: user 20.9 s, sys: 111 ms, total: 21 s\n",
      "Wall time: 21 s\n"
     ]
    }
   ],
   "source": [
    "%time gs_rf.fit(X, y)\n",
    "None"
   ]
  },
  {
   "cell_type": "markdown",
   "metadata": {},
   "source": [
    "Посмотрим на результат и залогируем результат."
   ]
  },
  {
   "cell_type": "code",
   "execution_count": 28,
   "metadata": {},
   "outputs": [
    {
     "data": {
      "text/html": [
       "<div>\n",
       "<style scoped>\n",
       "    .dataframe tbody tr th:only-of-type {\n",
       "        vertical-align: middle;\n",
       "    }\n",
       "\n",
       "    .dataframe tbody tr th {\n",
       "        vertical-align: top;\n",
       "    }\n",
       "\n",
       "    .dataframe thead th {\n",
       "        text-align: right;\n",
       "    }\n",
       "</style>\n",
       "<table border=\"1\" class=\"dataframe\">\n",
       "  <thead>\n",
       "    <tr style=\"text-align: right;\">\n",
       "      <th></th>\n",
       "      <th>param_randomforestregressor__max_depth</th>\n",
       "      <th>mean_test_score</th>\n",
       "      <th>rank_test_score</th>\n",
       "    </tr>\n",
       "  </thead>\n",
       "  <tbody>\n",
       "    <tr>\n",
       "      <th>0</th>\n",
       "      <td>5</td>\n",
       "      <td>-28.520888</td>\n",
       "      <td>3</td>\n",
       "    </tr>\n",
       "    <tr>\n",
       "      <th>1</th>\n",
       "      <td>10</td>\n",
       "      <td>-27.884180</td>\n",
       "      <td>2</td>\n",
       "    </tr>\n",
       "    <tr>\n",
       "      <th>2</th>\n",
       "      <td>15</td>\n",
       "      <td>-27.846876</td>\n",
       "      <td>1</td>\n",
       "    </tr>\n",
       "  </tbody>\n",
       "</table>\n",
       "</div>"
      ],
      "text/plain": [
       "  param_randomforestregressor__max_depth  mean_test_score  rank_test_score\n",
       "0                                      5       -28.520888                3\n",
       "1                                     10       -27.884180                2\n",
       "2                                     15       -27.846876                1"
      ]
     },
     "execution_count": 28,
     "metadata": {},
     "output_type": "execute_result"
    }
   ],
   "source": [
    "table = pd.DataFrame(gs_rf.cv_results_)\n",
    "\n",
    "results['Random Forest Regressor'] = int(abs(table[table['rank_test_score'] == 1]['mean_test_score'].values[0]))\n",
    "\n",
    "table[[\n",
    "    'param_randomforestregressor__max_depth',\n",
    "    'mean_test_score', 'rank_test_score'\n",
    "]]"
   ]
  },
  {
   "cell_type": "markdown",
   "metadata": {},
   "source": [
    "Результат сравним с линейной моделью, посмотрим на модель LinearSVR."
   ]
  },
  {
   "cell_type": "markdown",
   "metadata": {},
   "source": [
    "### LinearSVR"
   ]
  },
  {
   "cell_type": "markdown",
   "metadata": {},
   "source": [
    "Создадим pipeline для модели."
   ]
  },
  {
   "cell_type": "code",
   "execution_count": 29,
   "metadata": {},
   "outputs": [],
   "source": [
    "pipe_svr = make_pipeline(\n",
    "    linear_transformer,\n",
    "    LinearSVR(\n",
    "        random_state=SEED\n",
    "    )\n",
    ")"
   ]
  },
  {
   "cell_type": "markdown",
   "metadata": {},
   "source": [
    "Зададим сетку параметров и создадим estimator."
   ]
  },
  {
   "cell_type": "code",
   "execution_count": 30,
   "metadata": {},
   "outputs": [],
   "source": [
    "c_values = np.logspace(-2, 2, 10)\n",
    "\n",
    "param_grid = {\n",
    "    'linearsvr__C':c_values\n",
    "}\n",
    "\n",
    "gs_svr = GridSearchCV(\n",
    "    pipe_svr,\n",
    "    param_grid,\n",
    "    scoring='neg_root_mean_squared_error',\n",
    "    n_jobs=-1,\n",
    "    cv=tscv,\n",
    "    verbose=1\n",
    ")"
   ]
  },
  {
   "cell_type": "markdown",
   "metadata": {},
   "source": [
    "Проведём обучение с кросс-валидацией выбранного оценщика."
   ]
  },
  {
   "cell_type": "code",
   "execution_count": null,
   "metadata": {},
   "outputs": [],
   "source": [
    "%time gs_svr.fit(X, y)\n",
    "None"
   ]
  },
  {
   "cell_type": "markdown",
   "metadata": {},
   "source": [
    "Посмотрим на результат и залогируем результат."
   ]
  },
  {
   "cell_type": "code",
   "execution_count": 32,
   "metadata": {},
   "outputs": [
    {
     "data": {
      "text/html": [
       "<div>\n",
       "<style scoped>\n",
       "    .dataframe tbody tr th:only-of-type {\n",
       "        vertical-align: middle;\n",
       "    }\n",
       "\n",
       "    .dataframe tbody tr th {\n",
       "        vertical-align: top;\n",
       "    }\n",
       "\n",
       "    .dataframe thead th {\n",
       "        text-align: right;\n",
       "    }\n",
       "</style>\n",
       "<table border=\"1\" class=\"dataframe\">\n",
       "  <thead>\n",
       "    <tr style=\"text-align: right;\">\n",
       "      <th></th>\n",
       "      <th>param_linearsvr__C</th>\n",
       "      <th>mean_test_score</th>\n",
       "      <th>rank_test_score</th>\n",
       "    </tr>\n",
       "  </thead>\n",
       "  <tbody>\n",
       "    <tr>\n",
       "      <th>0</th>\n",
       "      <td>0.01</td>\n",
       "      <td>-31.805792</td>\n",
       "      <td>10</td>\n",
       "    </tr>\n",
       "    <tr>\n",
       "      <th>1</th>\n",
       "      <td>0.027826</td>\n",
       "      <td>-28.660469</td>\n",
       "      <td>9</td>\n",
       "    </tr>\n",
       "    <tr>\n",
       "      <th>2</th>\n",
       "      <td>0.077426</td>\n",
       "      <td>-27.117255</td>\n",
       "      <td>8</td>\n",
       "    </tr>\n",
       "    <tr>\n",
       "      <th>3</th>\n",
       "      <td>0.215443</td>\n",
       "      <td>-26.685392</td>\n",
       "      <td>2</td>\n",
       "    </tr>\n",
       "    <tr>\n",
       "      <th>4</th>\n",
       "      <td>0.599484</td>\n",
       "      <td>-26.602441</td>\n",
       "      <td>1</td>\n",
       "    </tr>\n",
       "    <tr>\n",
       "      <th>5</th>\n",
       "      <td>1.668101</td>\n",
       "      <td>-26.714671</td>\n",
       "      <td>4</td>\n",
       "    </tr>\n",
       "    <tr>\n",
       "      <th>6</th>\n",
       "      <td>4.641589</td>\n",
       "      <td>-26.724352</td>\n",
       "      <td>5</td>\n",
       "    </tr>\n",
       "    <tr>\n",
       "      <th>7</th>\n",
       "      <td>12.915497</td>\n",
       "      <td>-26.739248</td>\n",
       "      <td>6</td>\n",
       "    </tr>\n",
       "    <tr>\n",
       "      <th>8</th>\n",
       "      <td>35.938137</td>\n",
       "      <td>-26.708344</td>\n",
       "      <td>3</td>\n",
       "    </tr>\n",
       "    <tr>\n",
       "      <th>9</th>\n",
       "      <td>100.0</td>\n",
       "      <td>-26.837302</td>\n",
       "      <td>7</td>\n",
       "    </tr>\n",
       "  </tbody>\n",
       "</table>\n",
       "</div>"
      ],
      "text/plain": [
       "  param_linearsvr__C  mean_test_score  rank_test_score\n",
       "0               0.01       -31.805792               10\n",
       "1           0.027826       -28.660469                9\n",
       "2           0.077426       -27.117255                8\n",
       "3           0.215443       -26.685392                2\n",
       "4           0.599484       -26.602441                1\n",
       "5           1.668101       -26.714671                4\n",
       "6           4.641589       -26.724352                5\n",
       "7          12.915497       -26.739248                6\n",
       "8          35.938137       -26.708344                3\n",
       "9              100.0       -26.837302                7"
      ]
     },
     "execution_count": 32,
     "metadata": {},
     "output_type": "execute_result"
    }
   ],
   "source": [
    "table = pd.DataFrame(gs_svr.cv_results_)\n",
    "\n",
    "results['Linear Support Vector Regression'] = int(abs(table[table['rank_test_score'] == 1]['mean_test_score'].values[0]))\n",
    "\n",
    "table[[\n",
    "    'param_linearsvr__C',\n",
    "    'mean_test_score', 'rank_test_score'\n",
    "]]"
   ]
  },
  {
   "cell_type": "markdown",
   "metadata": {},
   "source": [
    "Результат сравним с линейной моделью, воспользуемся бустингом."
   ]
  },
  {
   "cell_type": "markdown",
   "metadata": {},
   "source": [
    "### LightGBM"
   ]
  },
  {
   "cell_type": "markdown",
   "metadata": {},
   "source": [
    "Для работы с библиотекой необходимо перевести все категориальные признаки в целые числа. Воспользуемся определённым ранее трансформером для ансамблей.\n",
    "\n",
    "Создадим pipeline для регрессора LightGBM."
   ]
  },
  {
   "cell_type": "code",
   "execution_count": 33,
   "metadata": {},
   "outputs": [],
   "source": [
    "pipe_gbm = make_pipeline(\n",
    "    ensemble_transformer,\n",
    "    lgb.LGBMRegressor(\n",
    "        metric='rmse',\n",
    "        n_jobs=-1,\n",
    "        verbosity=-1,\n",
    "        random_state=SEED\n",
    "    )\n",
    ")"
   ]
  },
  {
   "cell_type": "markdown",
   "metadata": {},
   "source": [
    "Зададим сетку параметров и создадим оценщик."
   ]
  },
  {
   "cell_type": "code",
   "execution_count": 34,
   "metadata": {},
   "outputs": [],
   "source": [
    "param_grid = {\n",
    "    'lgbmregressor__max_depth':[-1, 10, 20],\n",
    "    'lgbmregressor__num_leaves':[10, 31],\n",
    "    'lgbmregressor__learning_rate':[.1, .5]\n",
    "}\n",
    "              \n",
    "gs_gbm = GridSearchCV(\n",
    "    pipe_gbm,\n",
    "    param_grid,\n",
    "    scoring='neg_root_mean_squared_error',\n",
    "    n_jobs=-1,\n",
    "    cv=tscv,\n",
    "    verbose=1\n",
    ")"
   ]
  },
  {
   "cell_type": "markdown",
   "metadata": {},
   "source": [
    "Проведём обучение с кросс-валидацией выбранного оценщика."
   ]
  },
  {
   "cell_type": "code",
   "execution_count": 35,
   "metadata": {},
   "outputs": [
    {
     "name": "stdout",
     "output_type": "stream",
     "text": [
      "Fitting 3 folds for each of 12 candidates, totalling 36 fits\n",
      "CPU times: user 35.3 s, sys: 0 ns, total: 35.3 s\n",
      "Wall time: 36.1 s\n"
     ]
    }
   ],
   "source": [
    "%time gs_gbm.fit(X, y)\n",
    "None"
   ]
  },
  {
   "cell_type": "markdown",
   "metadata": {},
   "source": [
    "Посмотрим на результат и залогируем результат."
   ]
  },
  {
   "cell_type": "code",
   "execution_count": 36,
   "metadata": {},
   "outputs": [
    {
     "data": {
      "text/html": [
       "<div>\n",
       "<style scoped>\n",
       "    .dataframe tbody tr th:only-of-type {\n",
       "        vertical-align: middle;\n",
       "    }\n",
       "\n",
       "    .dataframe tbody tr th {\n",
       "        vertical-align: top;\n",
       "    }\n",
       "\n",
       "    .dataframe thead th {\n",
       "        text-align: right;\n",
       "    }\n",
       "</style>\n",
       "<table border=\"1\" class=\"dataframe\">\n",
       "  <thead>\n",
       "    <tr style=\"text-align: right;\">\n",
       "      <th></th>\n",
       "      <th>param_lgbmregressor__max_depth</th>\n",
       "      <th>param_lgbmregressor__num_leaves</th>\n",
       "      <th>param_lgbmregressor__learning_rate</th>\n",
       "      <th>mean_test_score</th>\n",
       "      <th>rank_test_score</th>\n",
       "    </tr>\n",
       "  </thead>\n",
       "  <tbody>\n",
       "    <tr>\n",
       "      <th>0</th>\n",
       "      <td>-1</td>\n",
       "      <td>10</td>\n",
       "      <td>0.1</td>\n",
       "      <td>-27.033481</td>\n",
       "      <td>1</td>\n",
       "    </tr>\n",
       "    <tr>\n",
       "      <th>1</th>\n",
       "      <td>-1</td>\n",
       "      <td>31</td>\n",
       "      <td>0.1</td>\n",
       "      <td>-27.163744</td>\n",
       "      <td>6</td>\n",
       "    </tr>\n",
       "    <tr>\n",
       "      <th>2</th>\n",
       "      <td>10</td>\n",
       "      <td>10</td>\n",
       "      <td>0.1</td>\n",
       "      <td>-27.033481</td>\n",
       "      <td>1</td>\n",
       "    </tr>\n",
       "    <tr>\n",
       "      <th>3</th>\n",
       "      <td>10</td>\n",
       "      <td>31</td>\n",
       "      <td>0.1</td>\n",
       "      <td>-27.112229</td>\n",
       "      <td>4</td>\n",
       "    </tr>\n",
       "    <tr>\n",
       "      <th>4</th>\n",
       "      <td>20</td>\n",
       "      <td>10</td>\n",
       "      <td>0.1</td>\n",
       "      <td>-27.033481</td>\n",
       "      <td>1</td>\n",
       "    </tr>\n",
       "    <tr>\n",
       "      <th>5</th>\n",
       "      <td>20</td>\n",
       "      <td>31</td>\n",
       "      <td>0.1</td>\n",
       "      <td>-27.146835</td>\n",
       "      <td>5</td>\n",
       "    </tr>\n",
       "    <tr>\n",
       "      <th>6</th>\n",
       "      <td>-1</td>\n",
       "      <td>10</td>\n",
       "      <td>0.5</td>\n",
       "      <td>-29.152740</td>\n",
       "      <td>7</td>\n",
       "    </tr>\n",
       "    <tr>\n",
       "      <th>7</th>\n",
       "      <td>-1</td>\n",
       "      <td>31</td>\n",
       "      <td>0.5</td>\n",
       "      <td>-29.373620</td>\n",
       "      <td>10</td>\n",
       "    </tr>\n",
       "    <tr>\n",
       "      <th>8</th>\n",
       "      <td>10</td>\n",
       "      <td>10</td>\n",
       "      <td>0.5</td>\n",
       "      <td>-29.152740</td>\n",
       "      <td>7</td>\n",
       "    </tr>\n",
       "    <tr>\n",
       "      <th>9</th>\n",
       "      <td>10</td>\n",
       "      <td>31</td>\n",
       "      <td>0.5</td>\n",
       "      <td>-29.427638</td>\n",
       "      <td>12</td>\n",
       "    </tr>\n",
       "    <tr>\n",
       "      <th>10</th>\n",
       "      <td>20</td>\n",
       "      <td>10</td>\n",
       "      <td>0.5</td>\n",
       "      <td>-29.152740</td>\n",
       "      <td>7</td>\n",
       "    </tr>\n",
       "    <tr>\n",
       "      <th>11</th>\n",
       "      <td>20</td>\n",
       "      <td>31</td>\n",
       "      <td>0.5</td>\n",
       "      <td>-29.373620</td>\n",
       "      <td>10</td>\n",
       "    </tr>\n",
       "  </tbody>\n",
       "</table>\n",
       "</div>"
      ],
      "text/plain": [
       "   param_lgbmregressor__max_depth param_lgbmregressor__num_leaves  \\\n",
       "0                              -1                              10   \n",
       "1                              -1                              31   \n",
       "2                              10                              10   \n",
       "3                              10                              31   \n",
       "4                              20                              10   \n",
       "5                              20                              31   \n",
       "6                              -1                              10   \n",
       "7                              -1                              31   \n",
       "8                              10                              10   \n",
       "9                              10                              31   \n",
       "10                             20                              10   \n",
       "11                             20                              31   \n",
       "\n",
       "   param_lgbmregressor__learning_rate  mean_test_score  rank_test_score  \n",
       "0                                 0.1       -27.033481                1  \n",
       "1                                 0.1       -27.163744                6  \n",
       "2                                 0.1       -27.033481                1  \n",
       "3                                 0.1       -27.112229                4  \n",
       "4                                 0.1       -27.033481                1  \n",
       "5                                 0.1       -27.146835                5  \n",
       "6                                 0.5       -29.152740                7  \n",
       "7                                 0.5       -29.373620               10  \n",
       "8                                 0.5       -29.152740                7  \n",
       "9                                 0.5       -29.427638               12  \n",
       "10                                0.5       -29.152740                7  \n",
       "11                                0.5       -29.373620               10  "
      ]
     },
     "execution_count": 36,
     "metadata": {},
     "output_type": "execute_result"
    }
   ],
   "source": [
    "table = pd.DataFrame(gs_gbm.cv_results_)\n",
    "\n",
    "results['LightGBM Regressor'] = int(abs(table[table['rank_test_score'] == 1]['mean_test_score'].values[0]))\n",
    "\n",
    "table[[\n",
    "    'param_lgbmregressor__max_depth', 'param_lgbmregressor__num_leaves', 'param_lgbmregressor__learning_rate',\n",
    "    'mean_test_score', 'rank_test_score'\n",
    "]]"
   ]
  },
  {
   "cell_type": "markdown",
   "metadata": {},
   "source": [
    "### Выводы"
   ]
  },
  {
   "cell_type": "markdown",
   "metadata": {},
   "source": [
    "Посмотрим на сводную таблицу с результатами."
   ]
  },
  {
   "cell_type": "code",
   "execution_count": 37,
   "metadata": {},
   "outputs": [
    {
     "data": {
      "text/html": [
       "<div>\n",
       "<style scoped>\n",
       "    .dataframe tbody tr th:only-of-type {\n",
       "        vertical-align: middle;\n",
       "    }\n",
       "\n",
       "    .dataframe tbody tr th {\n",
       "        vertical-align: top;\n",
       "    }\n",
       "\n",
       "    .dataframe thead th {\n",
       "        text-align: right;\n",
       "    }\n",
       "</style>\n",
       "<table border=\"1\" class=\"dataframe\">\n",
       "  <thead>\n",
       "    <tr style=\"text-align: right;\">\n",
       "      <th></th>\n",
       "      <th>RMSE на кросс-валидации для смещённого датасета</th>\n",
       "    </tr>\n",
       "  </thead>\n",
       "  <tbody>\n",
       "    <tr>\n",
       "      <th>Dummy Regressor</th>\n",
       "      <td>38</td>\n",
       "    </tr>\n",
       "    <tr>\n",
       "      <th>Linear Regression</th>\n",
       "      <td>26</td>\n",
       "    </tr>\n",
       "    <tr>\n",
       "      <th>Random Forest Regressor</th>\n",
       "      <td>27</td>\n",
       "    </tr>\n",
       "    <tr>\n",
       "      <th>Linear Support Vector Regression</th>\n",
       "      <td>26</td>\n",
       "    </tr>\n",
       "    <tr>\n",
       "      <th>LightGBM Regressor</th>\n",
       "      <td>27</td>\n",
       "    </tr>\n",
       "  </tbody>\n",
       "</table>\n",
       "</div>"
      ],
      "text/plain": [
       "                                  RMSE на кросс-валидации для смещённого датасета\n",
       "Dummy Regressor                                                                38\n",
       "Linear Regression                                                              26\n",
       "Random Forest Regressor                                                        27\n",
       "Linear Support Vector Regression                                               26\n",
       "LightGBM Regressor                                                             27"
      ]
     },
     "execution_count": 37,
     "metadata": {},
     "output_type": "execute_result"
    }
   ],
   "source": [
    "pd.DataFrame(\n",
    "    results, index=['RMSE на кросс-валидации для смещённого датасета']\n",
    ").transpose()"
   ]
  },
  {
   "cell_type": "markdown",
   "metadata": {},
   "source": [
    "Мы исследовали разные модели на полученном датасете. Все они лучше базовой. Проверим лучшую тестовом датасете."
   ]
  },
  {
   "cell_type": "markdown",
   "metadata": {},
   "source": [
    "## Тестирование"
   ]
  },
  {
   "cell_type": "markdown",
   "metadata": {},
   "source": [
    "Выберем для оценки на тесте модель LinearRegression."
   ]
  },
  {
   "cell_type": "code",
   "execution_count": 38,
   "metadata": {},
   "outputs": [
    {
     "name": "stdout",
     "output_type": "stream",
     "text": [
      "Метрика RMSE на дифференцированном датасете составила 38 заказов в час.\n"
     ]
    }
   ],
   "source": [
    "prediction_lr = gs_lr.predict(X_test) + shift['num_orders'][-y_test.shape[0]:] # получаем несмещённую ошибку\n",
    "rmse_lr = int(mean_squared_error((y_test + shift['num_orders'][-y_test.shape[0]:]), prediction_lr, squared=False))\n",
    "print(f'Метрика RMSE на дифференцированном датасете составила {rmse_lr} заказов в час.')"
   ]
  },
  {
   "cell_type": "markdown",
   "metadata": {},
   "source": [
    "Также проверим эту модель с не дефиренцированным датасетом."
   ]
  },
  {
   "cell_type": "code",
   "execution_count": 39,
   "metadata": {},
   "outputs": [
    {
     "name": "stdout",
     "output_type": "stream",
     "text": [
      "Fitting 3 folds for each of 2 candidates, totalling 6 fits\n",
      "Метрика RMSE на не дифференцированном датасете составила 34 заказов в час.\n"
     ]
    }
   ],
   "source": [
    "X = df_init.drop(['num_orders'], axis=1)\n",
    "y = df_init['num_orders']\n",
    "\n",
    "X, X_test, y, y_test= train_test_split(X, y, shuffle=False, test_size=0.1)\n",
    "\n",
    "gs_lr.fit(X, y)\n",
    "\n",
    "prediction_lr = gs_lr.predict(X_test)\n",
    "rmse_lr = int(mean_squared_error(y_test, prediction_lr, squared=False))\n",
    "print(f'Метрика RMSE на не дифференцированном датасете составила {rmse_lr} заказов в час.')"
   ]
  },
  {
   "cell_type": "markdown",
   "metadata": {},
   "source": [
    "## Заключение"
   ]
  },
  {
   "cell_type": "markdown",
   "metadata": {},
   "source": [
    "Для компания «Чётенькое такси» мы разработали модель которая спрогнозировала количество заказов такси на следующий час на основе исторических данных о заказах такси в аэропортах.\n",
    "\n",
    "    Мы загрузили данные и выполнили их ресемплирование по одному часу.\n",
    "    Проанализировали данные. Выявили тренд, сезонность и шумы. Продиферринцировали данные для получения стационарного ряда.\n",
    "    Обучили различные модели с различными гиперпараметрами и выбрали лучшую.\n",
    "    Проверили работу выбранной модели на тестовой выборке. Сравнили стационарный и исходный ряд.\n",
    "    \n",
    "С моделью Linear Regression мы получили желаемый RMSE как на стационарном ряде, так и на исходном. При этом, в данном конкретном случае недиферренцированные данные показали лучший результат."
   ]
  }
 ],
 "metadata": {
  "ExecuteTimeLog": [
   {
    "duration": 1419,
    "start_time": "2022-12-25T07:37:10.655Z"
   },
   {
    "duration": 3925,
    "start_time": "2022-12-25T07:37:19.364Z"
   },
   {
    "duration": 3,
    "start_time": "2022-12-25T07:37:23.290Z"
   },
   {
    "duration": 125,
    "start_time": "2022-12-25T07:37:23.734Z"
   },
   {
    "duration": 31,
    "start_time": "2022-12-25T07:37:25.383Z"
   },
   {
    "duration": 5,
    "start_time": "2022-12-25T07:37:26.328Z"
   },
   {
    "duration": 722,
    "start_time": "2022-12-25T07:37:26.965Z"
   },
   {
    "duration": 235,
    "start_time": "2022-12-25T07:37:28.438Z"
   },
   {
    "duration": 9,
    "start_time": "2022-12-25T07:37:29.619Z"
   },
   {
    "duration": 756,
    "start_time": "2022-12-25T07:37:30.794Z"
   },
   {
    "duration": 7,
    "start_time": "2022-12-25T07:37:36.508Z"
   },
   {
    "duration": 56,
    "start_time": "2022-12-25T07:37:43.805Z"
   },
   {
    "duration": 38,
    "start_time": "2022-12-25T07:37:47.101Z"
   },
   {
    "duration": 7,
    "start_time": "2022-12-25T07:38:00.237Z"
   },
   {
    "duration": 3,
    "start_time": "2022-12-25T07:38:04.325Z"
   },
   {
    "duration": 4,
    "start_time": "2022-12-25T07:38:05.759Z"
   },
   {
    "duration": 4,
    "start_time": "2022-12-25T07:38:06.618Z"
   },
   {
    "duration": 4,
    "start_time": "2022-12-25T07:38:08.156Z"
   },
   {
    "duration": 3,
    "start_time": "2022-12-25T07:38:10.542Z"
   },
   {
    "duration": 22,
    "start_time": "2022-12-25T07:38:12.190Z"
   },
   {
    "duration": 11,
    "start_time": "2022-12-25T07:38:13.612Z"
   },
   {
    "duration": 3,
    "start_time": "2022-12-25T07:38:14.853Z"
   },
   {
    "duration": 4,
    "start_time": "2022-12-25T07:38:16.332Z"
   },
   {
    "duration": 3,
    "start_time": "2022-12-25T07:38:17.232Z"
   },
   {
    "duration": 1614,
    "start_time": "2022-12-25T07:38:18.306Z"
   },
   {
    "duration": 188,
    "start_time": "2022-12-25T07:38:19.924Z"
   },
   {
    "duration": 17,
    "start_time": "2022-12-25T07:38:24.269Z"
   },
   {
    "duration": 38,
    "start_time": "2022-12-25T07:38:28.953Z"
   },
   {
    "duration": 25,
    "start_time": "2022-12-25T07:38:34.665Z"
   },
   {
    "duration": 35,
    "start_time": "2022-12-25T07:38:39.052Z"
   },
   {
    "duration": 21,
    "start_time": "2022-12-25T07:38:45.368Z"
   },
   {
    "duration": 21,
    "start_time": "2022-12-25T07:38:48.672Z"
   },
   {
    "duration": 5,
    "start_time": "2022-12-25T07:39:02.831Z"
   },
   {
    "duration": 5,
    "start_time": "2022-12-25T07:39:05.246Z"
   },
   {
    "duration": 9,
    "start_time": "2022-12-25T07:39:25.327Z"
   },
   {
    "duration": 7,
    "start_time": "2022-12-25T07:39:29.782Z"
   },
   {
    "duration": 13631,
    "start_time": "2022-12-25T15:17:46.317Z"
   },
   {
    "duration": 2173,
    "start_time": "2022-12-25T15:17:59.950Z"
   },
   {
    "duration": 3,
    "start_time": "2022-12-25T15:18:02.125Z"
   },
   {
    "duration": 185,
    "start_time": "2022-12-25T15:18:02.130Z"
   },
   {
    "duration": 30,
    "start_time": "2022-12-25T15:18:02.317Z"
   },
   {
    "duration": 4,
    "start_time": "2022-12-25T15:18:02.349Z"
   },
   {
    "duration": 715,
    "start_time": "2022-12-25T15:18:02.354Z"
   },
   {
    "duration": 248,
    "start_time": "2022-12-25T15:18:03.071Z"
   },
   {
    "duration": 746,
    "start_time": "2022-12-25T15:18:03.321Z"
   },
   {
    "duration": 851,
    "start_time": "2022-12-25T15:18:04.070Z"
   },
   {
    "duration": 425,
    "start_time": "2022-12-25T15:18:04.923Z"
   },
   {
    "duration": 64,
    "start_time": "2022-12-25T15:18:05.350Z"
   },
   {
    "duration": 6,
    "start_time": "2022-12-25T15:18:05.415Z"
   },
   {
    "duration": 6,
    "start_time": "2022-12-25T15:18:05.423Z"
   },
   {
    "duration": 6,
    "start_time": "2022-12-25T15:18:05.430Z"
   },
   {
    "duration": 8,
    "start_time": "2022-12-25T15:18:05.437Z"
   },
   {
    "duration": 5,
    "start_time": "2022-12-25T15:18:05.447Z"
   },
   {
    "duration": 53,
    "start_time": "2022-12-25T15:18:05.454Z"
   },
   {
    "duration": 10,
    "start_time": "2022-12-25T15:18:05.508Z"
   },
   {
    "duration": 7,
    "start_time": "2022-12-25T15:18:05.519Z"
   },
   {
    "duration": 5,
    "start_time": "2022-12-25T15:18:05.527Z"
   },
   {
    "duration": 5,
    "start_time": "2022-12-25T15:18:05.533Z"
   },
   {
    "duration": 1671,
    "start_time": "2022-12-25T15:18:05.539Z"
   },
   {
    "duration": 102,
    "start_time": "2022-12-25T15:18:07.212Z"
   },
   {
    "duration": 4,
    "start_time": "2022-12-25T15:18:07.406Z"
   },
   {
    "duration": 7,
    "start_time": "2022-12-25T15:18:07.412Z"
   },
   {
    "duration": 8,
    "start_time": "2022-12-25T15:18:07.421Z"
   },
   {
    "duration": 18719,
    "start_time": "2022-12-25T15:18:07.433Z"
   },
   {
    "duration": 11,
    "start_time": "2022-12-25T15:18:26.154Z"
   },
   {
    "duration": 12,
    "start_time": "2022-12-25T15:18:26.167Z"
   },
   {
    "duration": 9,
    "start_time": "2022-12-25T15:18:26.181Z"
   },
   {
    "duration": 6214,
    "start_time": "2022-12-25T15:18:26.192Z"
   },
   {
    "duration": 10,
    "start_time": "2022-12-25T15:18:32.408Z"
   },
   {
    "duration": 19,
    "start_time": "2022-12-25T15:18:32.419Z"
   },
   {
    "duration": 6,
    "start_time": "2022-12-25T15:18:32.440Z"
   },
   {
    "duration": 26159,
    "start_time": "2022-12-25T15:18:32.447Z"
   },
   {
    "duration": 12,
    "start_time": "2022-12-25T15:18:58.607Z"
   },
   {
    "duration": 15,
    "start_time": "2022-12-25T15:18:58.620Z"
   },
   {
    "duration": 69,
    "start_time": "2022-12-25T15:18:58.637Z"
   },
   {
    "duration": 12,
    "start_time": "2022-12-25T15:29:09.804Z"
   }
  ],
  "kernelspec": {
   "display_name": "Python 3 (ipykernel)",
   "language": "python",
   "name": "python3"
  },
  "language_info": {
   "codemirror_mode": {
    "name": "ipython",
    "version": 3
   },
   "file_extension": ".py",
   "mimetype": "text/x-python",
   "name": "python",
   "nbconvert_exporter": "python",
   "pygments_lexer": "ipython3",
   "version": "3.9.16"
  },
  "toc": {
   "base_numbering": 1,
   "nav_menu": {},
   "number_sections": true,
   "sideBar": true,
   "skip_h1_title": true,
   "title_cell": "Содержание",
   "title_sidebar": "Contents",
   "toc_cell": false,
   "toc_position": {
    "height": "calc(100% - 180px)",
    "left": "10px",
    "top": "150px",
    "width": "366.2px"
   },
   "toc_section_display": true,
   "toc_window_display": true
  }
 },
 "nbformat": 4,
 "nbformat_minor": 2
}
