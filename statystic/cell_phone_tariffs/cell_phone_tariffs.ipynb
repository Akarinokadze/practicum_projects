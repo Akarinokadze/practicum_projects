{
 "cells": [
  {
   "cell_type": "markdown",
   "id": "47b7c568",
   "metadata": {},
   "source": [
    "# Определение перспективного тарифа для телеком-компании"
   ]
  },
  {
   "cell_type": "markdown",
   "id": "7c4d7c54",
   "metadata": {},
   "source": [
    "## Описание проекта\n",
    "\n",
    "Проведём аналитику для компании «Мегалайн» — федерального оператора сотовой связи. Клиентам предлагают два тарифных плана: «Смарт» и «Ультра». Чтобы скорректировать рекламный бюджет, коммерческий департамент хочет понять, какой тариф приносит больше денег.\n",
    "\n",
    "Нам предстоит сделать предварительный анализ тарифов на небольшой выборке клиентов. В нашем распоряжении данные 500 пользователей «Мегалайна»: кто они, откуда, каким тарифом пользуются, сколько звонков и сообщений каждый отправил за 2018 год. Нужно проанализировать поведение клиентов и сделать вывод — какой тариф лучше.\n",
    "\n",
    "## Описание тарифов\n",
    "\n",
    "**Тариф «Смарт»**\n",
    "\n",
    "    Ежемесячная плата: 550 рублей\n",
    "    Включено 500 минут разговора, 50 сообщений и 15 Гб интернет-трафика\n",
    "    Стоимость услуг сверх тарифного пакета:\n",
    "        минута разговора: 3 рубля\n",
    "        сообщение: 3 рубля\n",
    "        1 Гб интернет-трафика: 200 рублей\n",
    "\n",
    "**Тариф «Ультра»**\n",
    "\n",
    "    Ежемесячная плата: 1950 рублей\n",
    "    Включено 3000 минут разговора, 1000 сообщений и 30 Гб интернет-трафика\n",
    "    Стоимость услуг сверх тарифного пакета:\n",
    "        минута разговора: 1 рубль\n",
    "        сообщение: 1 рубль\n",
    "        1 Гб интернет-трафика: 150 рублей\n",
    "        \n",
    "«Мегалайн» всегда округляет секунды до минут, а мегабайты — до гигабайт. Каждый звонок округляется отдельно: даже если он длился всего 1 секунду, будет засчитан как 1 минута.\n",
    "Для веб-трафика отдельные сессии не считаются. Вместо этого общая сумма за месяц округляется в бо́льшую сторону. Если абонент использует 1025 мегабайт в этом месяце, с него возьмут плату за 2 гигабайта.\n",
    "\n",
    "## План работы\n",
    "\n",
    "[Часть 1. Откроем файлы с данными и изучим общую информацию.](#step1)\n",
    "\n",
    "[Часть 2. Подготовим данные.](#step2)\n",
    "\n",
    "    Приведём данные к нужным типам;\n",
    "    Найдём и исправим ошибки в данных, если они есть.\n",
    "\n",
    "Посчитаем для каждого пользователя:\n",
    "\n",
    "    количество сделанных звонков и израсходованных минут разговора по месяцам;\n",
    "    количество отправленных сообщений по месяцам;\n",
    "    объем израсходованного интернет-трафика по месяцам;\n",
    "    помесячную выручку с каждого пользователя (вычтем бесплатный лимит из суммарного количества звонков, сообщений и интернет-трафика; остаток умножим на значение из тарифного плана; прибавим абонентскую плату, соответствующую тарифному плану).\n",
    "\n",
    "[Часть 3. Проанализируем данные.](#step3)\n",
    "\n",
    "Опишем поведение клиентов оператора, исходя из выборки. Сколько минут разговора, сколько сообщений и какой объём интернет-трафика требуется пользователям каждого тарифа в месяц. Посчитаем среднее количество, дисперсию и стандартное отклонение. Построим гистограммы. Опишем распределения.\n",
    "\n",
    "[Часть 4. Проверим гипотезы.](#step4)\n",
    "\n",
    "    средняя выручка пользователей тарифов «Ультра» и «Смарт» различаются;\n",
    "    средняя выручка пользователей из Москвы отличается от выручки пользователей из других регионов.\n",
    "\n",
    "[Часть 5. Заключение.](#step5)\n",
    "\n",
    "## Описание данных\n",
    "\n",
    "Таблица users (информация о пользователях):\n",
    "\n",
    "    user_id — уникальный идентификатор пользователя\n",
    "    first_name — имя пользователя\n",
    "    last_name — фамилия пользователя\n",
    "    age — возраст пользователя (годы)\n",
    "    reg_date — дата подключения тарифа (день, месяц, год)\n",
    "    churn_date — дата прекращения пользования тарифом (если значение пропущено, то тариф ещё действовал на момент выгрузки данных)\n",
    "    city — город проживания пользователя\n",
    "    tarif — название тарифного плана\n",
    "\n",
    "Таблица calls (информация о звонках):\n",
    "\n",
    "    id — уникальный номер звонка\n",
    "    call_date — дата звонка\n",
    "    duration — длительность звонка в минутах\n",
    "    user_id — идентификатор пользователя, сделавшего звонок\n",
    "\n",
    "Таблица messages (информация о сообщениях):\n",
    "\n",
    "    id — уникальный номер сообщения\n",
    "    message_date — дата сообщения\n",
    "    user_id — идентификатор пользователя, отправившего сообщение\n",
    "\n",
    "Таблица internet (информация об интернет-сессиях):\n",
    "\n",
    "    id — уникальный номер сессии\n",
    "    mb_used — объём потраченного за сессию интернет-трафика (в мегабайтах)\n",
    "    session_date — дата интернет-сессии\n",
    "    user_id — идентификатор пользователя\n",
    "\n",
    "Таблица tariffs (информация о тарифах):\n",
    "\n",
    "    tariff_name — название тарифа\n",
    "    rub_monthly_fee — ежемесячная абонентская плата в рублях\n",
    "    minutes_included — количество минут разговора в месяц, включённых в абонентскую плату\n",
    "    messages_included — количество сообщений в месяц, включённых в абонентскую плату\n",
    "    mb_per_month_included — объём интернет-трафика, включённого в абонентскую плату (в мегабайтах)\n",
    "    rub_per_minute — стоимость минуты разговора сверх тарифного пакета (например, если в тарифе 100 минут разговора в месяц, то со 101 минуты будет взиматься плата)\n",
    "    rub_per_message — стоимость отправки сообщения сверх тарифного пакета\n",
    "    rub_per_gb — стоимость дополнительного гигабайта интернет-трафика сверх тарифного пакета (1 гигабайт = 1024 мегабайта)"
   ]
  },
  {
   "cell_type": "markdown",
   "id": "be1f2cf6",
   "metadata": {},
   "source": [
    "## Часть 1. Откроем файлы с данными и изучим общую информацию.<a id=\"step1\"></a>"
   ]
  },
  {
   "cell_type": "markdown",
   "id": "353c6be2",
   "metadata": {},
   "source": [
    "Импортируем библиотеки."
   ]
  },
  {
   "cell_type": "code",
   "execution_count": 19,
   "id": "439a74ee",
   "metadata": {},
   "outputs": [],
   "source": [
    "import pandas as pd\n",
    "import numpy as np\n",
    "import os\n",
    "import math\n",
    "import matplotlib.pyplot as plt\n",
    "import scipy.stats as st\n",
    "import seaborn as sns"
   ]
  },
  {
   "cell_type": "markdown",
   "id": "ef71cad3",
   "metadata": {},
   "source": [
    "Откроем таблицы и изучим общую информацию."
   ]
  },
  {
   "cell_type": "code",
   "execution_count": 20,
   "id": "9f2ba13a",
   "metadata": {},
   "outputs": [
    {
     "name": "stdout",
     "output_type": "stream",
     "text": [
      "<class 'pandas.core.frame.DataFrame'>\n",
      "RangeIndex: 500 entries, 0 to 499\n",
      "Data columns (total 8 columns):\n",
      " #   Column      Non-Null Count  Dtype \n",
      "---  ------      --------------  ----- \n",
      " 0   user_id     500 non-null    int64 \n",
      " 1   age         500 non-null    int64 \n",
      " 2   churn_date  38 non-null     object\n",
      " 3   city        500 non-null    object\n",
      " 4   first_name  500 non-null    object\n",
      " 5   last_name   500 non-null    object\n",
      " 6   reg_date    500 non-null    object\n",
      " 7   tariff      500 non-null    object\n",
      "dtypes: int64(2), object(6)\n",
      "memory usage: 31.4+ KB\n"
     ]
    },
    {
     "data": {
      "text/html": [
       "<div>\n",
       "<style scoped>\n",
       "    .dataframe tbody tr th:only-of-type {\n",
       "        vertical-align: middle;\n",
       "    }\n",
       "\n",
       "    .dataframe tbody tr th {\n",
       "        vertical-align: top;\n",
       "    }\n",
       "\n",
       "    .dataframe thead th {\n",
       "        text-align: right;\n",
       "    }\n",
       "</style>\n",
       "<table border=\"1\" class=\"dataframe\">\n",
       "  <thead>\n",
       "    <tr style=\"text-align: right;\">\n",
       "      <th></th>\n",
       "      <th>user_id</th>\n",
       "      <th>age</th>\n",
       "      <th>churn_date</th>\n",
       "      <th>city</th>\n",
       "      <th>first_name</th>\n",
       "      <th>last_name</th>\n",
       "      <th>reg_date</th>\n",
       "      <th>tariff</th>\n",
       "    </tr>\n",
       "  </thead>\n",
       "  <tbody>\n",
       "    <tr>\n",
       "      <th>0</th>\n",
       "      <td>1000</td>\n",
       "      <td>52</td>\n",
       "      <td>NaN</td>\n",
       "      <td>Краснодар</td>\n",
       "      <td>Рафаил</td>\n",
       "      <td>Верещагин</td>\n",
       "      <td>2018-05-25</td>\n",
       "      <td>ultra</td>\n",
       "    </tr>\n",
       "    <tr>\n",
       "      <th>1</th>\n",
       "      <td>1001</td>\n",
       "      <td>41</td>\n",
       "      <td>NaN</td>\n",
       "      <td>Москва</td>\n",
       "      <td>Иван</td>\n",
       "      <td>Ежов</td>\n",
       "      <td>2018-11-01</td>\n",
       "      <td>smart</td>\n",
       "    </tr>\n",
       "    <tr>\n",
       "      <th>2</th>\n",
       "      <td>1002</td>\n",
       "      <td>59</td>\n",
       "      <td>NaN</td>\n",
       "      <td>Стерлитамак</td>\n",
       "      <td>Евгений</td>\n",
       "      <td>Абрамович</td>\n",
       "      <td>2018-06-17</td>\n",
       "      <td>smart</td>\n",
       "    </tr>\n",
       "    <tr>\n",
       "      <th>3</th>\n",
       "      <td>1003</td>\n",
       "      <td>23</td>\n",
       "      <td>NaN</td>\n",
       "      <td>Москва</td>\n",
       "      <td>Белла</td>\n",
       "      <td>Белякова</td>\n",
       "      <td>2018-08-17</td>\n",
       "      <td>ultra</td>\n",
       "    </tr>\n",
       "    <tr>\n",
       "      <th>4</th>\n",
       "      <td>1004</td>\n",
       "      <td>68</td>\n",
       "      <td>NaN</td>\n",
       "      <td>Новокузнецк</td>\n",
       "      <td>Татьяна</td>\n",
       "      <td>Авдеенко</td>\n",
       "      <td>2018-05-14</td>\n",
       "      <td>ultra</td>\n",
       "    </tr>\n",
       "  </tbody>\n",
       "</table>\n",
       "</div>"
      ],
      "text/plain": [
       "   user_id  age churn_date         city first_name  last_name    reg_date  \\\n",
       "0     1000   52        NaN    Краснодар     Рафаил  Верещагин  2018-05-25   \n",
       "1     1001   41        NaN       Москва       Иван       Ежов  2018-11-01   \n",
       "2     1002   59        NaN  Стерлитамак    Евгений  Абрамович  2018-06-17   \n",
       "3     1003   23        NaN       Москва      Белла   Белякова  2018-08-17   \n",
       "4     1004   68        NaN  Новокузнецк    Татьяна   Авдеенко  2018-05-14   \n",
       "\n",
       "  tariff  \n",
       "0  ultra  \n",
       "1  smart  \n",
       "2  smart  \n",
       "3  ultra  \n",
       "4  ultra  "
      ]
     },
     "metadata": {},
     "output_type": "display_data"
    },
    {
     "data": {
      "text/html": [
       "<div>\n",
       "<style scoped>\n",
       "    .dataframe tbody tr th:only-of-type {\n",
       "        vertical-align: middle;\n",
       "    }\n",
       "\n",
       "    .dataframe tbody tr th {\n",
       "        vertical-align: top;\n",
       "    }\n",
       "\n",
       "    .dataframe thead th {\n",
       "        text-align: right;\n",
       "    }\n",
       "</style>\n",
       "<table border=\"1\" class=\"dataframe\">\n",
       "  <thead>\n",
       "    <tr style=\"text-align: right;\">\n",
       "      <th></th>\n",
       "      <th>count</th>\n",
       "      <th>mean</th>\n",
       "      <th>std</th>\n",
       "      <th>min</th>\n",
       "      <th>25%</th>\n",
       "      <th>50%</th>\n",
       "      <th>75%</th>\n",
       "      <th>max</th>\n",
       "    </tr>\n",
       "  </thead>\n",
       "  <tbody>\n",
       "    <tr>\n",
       "      <th>user_id</th>\n",
       "      <td>500.0</td>\n",
       "      <td>1249.500</td>\n",
       "      <td>144.481833</td>\n",
       "      <td>1000.0</td>\n",
       "      <td>1124.75</td>\n",
       "      <td>1249.5</td>\n",
       "      <td>1374.25</td>\n",
       "      <td>1499.0</td>\n",
       "    </tr>\n",
       "    <tr>\n",
       "      <th>age</th>\n",
       "      <td>500.0</td>\n",
       "      <td>46.588</td>\n",
       "      <td>16.667630</td>\n",
       "      <td>18.0</td>\n",
       "      <td>32.00</td>\n",
       "      <td>46.0</td>\n",
       "      <td>62.00</td>\n",
       "      <td>75.0</td>\n",
       "    </tr>\n",
       "  </tbody>\n",
       "</table>\n",
       "</div>"
      ],
      "text/plain": [
       "         count      mean         std     min      25%     50%      75%     max\n",
       "user_id  500.0  1249.500  144.481833  1000.0  1124.75  1249.5  1374.25  1499.0\n",
       "age      500.0    46.588   16.667630    18.0    32.00    46.0    62.00    75.0"
      ]
     },
     "execution_count": 20,
     "metadata": {},
     "output_type": "execute_result"
    }
   ],
   "source": [
    "if os.path.exists('users.csv'):\n",
    "    df_users = pd.read_csv('users.csv')\n",
    "else:\n",
    "    df_users = pd.read_csv('/datasets/users.csv')\n",
    "\n",
    "df_users.info()\n",
    "display(df_users.head())\n",
    "df_users.describe().transpose()"
   ]
  },
  {
   "cell_type": "code",
   "execution_count": 21,
   "id": "d1ca32e6",
   "metadata": {},
   "outputs": [
    {
     "name": "stdout",
     "output_type": "stream",
     "text": [
      "<class 'pandas.core.frame.DataFrame'>\n",
      "RangeIndex: 202607 entries, 0 to 202606\n",
      "Data columns (total 4 columns):\n",
      " #   Column     Non-Null Count   Dtype  \n",
      "---  ------     --------------   -----  \n",
      " 0   id         202607 non-null  object \n",
      " 1   call_date  202607 non-null  object \n",
      " 2   duration   202607 non-null  float64\n",
      " 3   user_id    202607 non-null  int64  \n",
      "dtypes: float64(1), int64(1), object(2)\n",
      "memory usage: 6.2+ MB\n"
     ]
    },
    {
     "data": {
      "text/html": [
       "<div>\n",
       "<style scoped>\n",
       "    .dataframe tbody tr th:only-of-type {\n",
       "        vertical-align: middle;\n",
       "    }\n",
       "\n",
       "    .dataframe tbody tr th {\n",
       "        vertical-align: top;\n",
       "    }\n",
       "\n",
       "    .dataframe thead th {\n",
       "        text-align: right;\n",
       "    }\n",
       "</style>\n",
       "<table border=\"1\" class=\"dataframe\">\n",
       "  <thead>\n",
       "    <tr style=\"text-align: right;\">\n",
       "      <th></th>\n",
       "      <th>id</th>\n",
       "      <th>call_date</th>\n",
       "      <th>duration</th>\n",
       "      <th>user_id</th>\n",
       "    </tr>\n",
       "  </thead>\n",
       "  <tbody>\n",
       "    <tr>\n",
       "      <th>0</th>\n",
       "      <td>1000_0</td>\n",
       "      <td>2018-07-25</td>\n",
       "      <td>0.00</td>\n",
       "      <td>1000</td>\n",
       "    </tr>\n",
       "    <tr>\n",
       "      <th>1</th>\n",
       "      <td>1000_1</td>\n",
       "      <td>2018-08-17</td>\n",
       "      <td>0.00</td>\n",
       "      <td>1000</td>\n",
       "    </tr>\n",
       "    <tr>\n",
       "      <th>2</th>\n",
       "      <td>1000_2</td>\n",
       "      <td>2018-06-11</td>\n",
       "      <td>2.85</td>\n",
       "      <td>1000</td>\n",
       "    </tr>\n",
       "    <tr>\n",
       "      <th>3</th>\n",
       "      <td>1000_3</td>\n",
       "      <td>2018-09-21</td>\n",
       "      <td>13.80</td>\n",
       "      <td>1000</td>\n",
       "    </tr>\n",
       "    <tr>\n",
       "      <th>4</th>\n",
       "      <td>1000_4</td>\n",
       "      <td>2018-12-15</td>\n",
       "      <td>5.18</td>\n",
       "      <td>1000</td>\n",
       "    </tr>\n",
       "  </tbody>\n",
       "</table>\n",
       "</div>"
      ],
      "text/plain": [
       "       id   call_date  duration  user_id\n",
       "0  1000_0  2018-07-25      0.00     1000\n",
       "1  1000_1  2018-08-17      0.00     1000\n",
       "2  1000_2  2018-06-11      2.85     1000\n",
       "3  1000_3  2018-09-21     13.80     1000\n",
       "4  1000_4  2018-12-15      5.18     1000"
      ]
     },
     "metadata": {},
     "output_type": "display_data"
    },
    {
     "data": {
      "text/html": [
       "<div>\n",
       "<style scoped>\n",
       "    .dataframe tbody tr th:only-of-type {\n",
       "        vertical-align: middle;\n",
       "    }\n",
       "\n",
       "    .dataframe tbody tr th {\n",
       "        vertical-align: top;\n",
       "    }\n",
       "\n",
       "    .dataframe thead th {\n",
       "        text-align: right;\n",
       "    }\n",
       "</style>\n",
       "<table border=\"1\" class=\"dataframe\">\n",
       "  <thead>\n",
       "    <tr style=\"text-align: right;\">\n",
       "      <th></th>\n",
       "      <th>count</th>\n",
       "      <th>mean</th>\n",
       "      <th>std</th>\n",
       "      <th>min</th>\n",
       "      <th>25%</th>\n",
       "      <th>50%</th>\n",
       "      <th>75%</th>\n",
       "      <th>max</th>\n",
       "    </tr>\n",
       "  </thead>\n",
       "  <tbody>\n",
       "    <tr>\n",
       "      <th>duration</th>\n",
       "      <td>202607.0</td>\n",
       "      <td>6.755887</td>\n",
       "      <td>5.843365</td>\n",
       "      <td>0.0</td>\n",
       "      <td>1.3</td>\n",
       "      <td>6.0</td>\n",
       "      <td>10.7</td>\n",
       "      <td>38.0</td>\n",
       "    </tr>\n",
       "    <tr>\n",
       "      <th>user_id</th>\n",
       "      <td>202607.0</td>\n",
       "      <td>1253.940619</td>\n",
       "      <td>144.722751</td>\n",
       "      <td>1000.0</td>\n",
       "      <td>1126.0</td>\n",
       "      <td>1260.0</td>\n",
       "      <td>1379.0</td>\n",
       "      <td>1499.0</td>\n",
       "    </tr>\n",
       "  </tbody>\n",
       "</table>\n",
       "</div>"
      ],
      "text/plain": [
       "             count         mean         std     min     25%     50%     75%  \\\n",
       "duration  202607.0     6.755887    5.843365     0.0     1.3     6.0    10.7   \n",
       "user_id   202607.0  1253.940619  144.722751  1000.0  1126.0  1260.0  1379.0   \n",
       "\n",
       "             max  \n",
       "duration    38.0  \n",
       "user_id   1499.0  "
      ]
     },
     "execution_count": 21,
     "metadata": {},
     "output_type": "execute_result"
    }
   ],
   "source": [
    "if os.path.exists('calls.csv'): # проверка валидности пути к датасету при работе локально и с портала\n",
    "    df_calls = pd.read_csv('calls.csv')\n",
    "else:\n",
    "    df_calls = pd.read_csv('/datasets/calls.csv')\n",
    "\n",
    "df_calls.info()\n",
    "display(df_calls.head())\n",
    "df_calls.describe().transpose()"
   ]
  },
  {
   "cell_type": "code",
   "execution_count": 22,
   "id": "5696a7ae",
   "metadata": {},
   "outputs": [
    {
     "name": "stdout",
     "output_type": "stream",
     "text": [
      "<class 'pandas.core.frame.DataFrame'>\n",
      "RangeIndex: 123036 entries, 0 to 123035\n",
      "Data columns (total 3 columns):\n",
      " #   Column        Non-Null Count   Dtype \n",
      "---  ------        --------------   ----- \n",
      " 0   id            123036 non-null  object\n",
      " 1   message_date  123036 non-null  object\n",
      " 2   user_id       123036 non-null  int64 \n",
      "dtypes: int64(1), object(2)\n",
      "memory usage: 2.8+ MB\n"
     ]
    },
    {
     "data": {
      "text/html": [
       "<div>\n",
       "<style scoped>\n",
       "    .dataframe tbody tr th:only-of-type {\n",
       "        vertical-align: middle;\n",
       "    }\n",
       "\n",
       "    .dataframe tbody tr th {\n",
       "        vertical-align: top;\n",
       "    }\n",
       "\n",
       "    .dataframe thead th {\n",
       "        text-align: right;\n",
       "    }\n",
       "</style>\n",
       "<table border=\"1\" class=\"dataframe\">\n",
       "  <thead>\n",
       "    <tr style=\"text-align: right;\">\n",
       "      <th></th>\n",
       "      <th>id</th>\n",
       "      <th>message_date</th>\n",
       "      <th>user_id</th>\n",
       "    </tr>\n",
       "  </thead>\n",
       "  <tbody>\n",
       "    <tr>\n",
       "      <th>0</th>\n",
       "      <td>1000_0</td>\n",
       "      <td>2018-06-27</td>\n",
       "      <td>1000</td>\n",
       "    </tr>\n",
       "    <tr>\n",
       "      <th>1</th>\n",
       "      <td>1000_1</td>\n",
       "      <td>2018-10-08</td>\n",
       "      <td>1000</td>\n",
       "    </tr>\n",
       "    <tr>\n",
       "      <th>2</th>\n",
       "      <td>1000_2</td>\n",
       "      <td>2018-08-04</td>\n",
       "      <td>1000</td>\n",
       "    </tr>\n",
       "    <tr>\n",
       "      <th>3</th>\n",
       "      <td>1000_3</td>\n",
       "      <td>2018-06-16</td>\n",
       "      <td>1000</td>\n",
       "    </tr>\n",
       "    <tr>\n",
       "      <th>4</th>\n",
       "      <td>1000_4</td>\n",
       "      <td>2018-12-05</td>\n",
       "      <td>1000</td>\n",
       "    </tr>\n",
       "  </tbody>\n",
       "</table>\n",
       "</div>"
      ],
      "text/plain": [
       "       id message_date  user_id\n",
       "0  1000_0   2018-06-27     1000\n",
       "1  1000_1   2018-10-08     1000\n",
       "2  1000_2   2018-08-04     1000\n",
       "3  1000_3   2018-06-16     1000\n",
       "4  1000_4   2018-12-05     1000"
      ]
     },
     "metadata": {},
     "output_type": "display_data"
    },
    {
     "data": {
      "text/html": [
       "<div>\n",
       "<style scoped>\n",
       "    .dataframe tbody tr th:only-of-type {\n",
       "        vertical-align: middle;\n",
       "    }\n",
       "\n",
       "    .dataframe tbody tr th {\n",
       "        vertical-align: top;\n",
       "    }\n",
       "\n",
       "    .dataframe thead th {\n",
       "        text-align: right;\n",
       "    }\n",
       "</style>\n",
       "<table border=\"1\" class=\"dataframe\">\n",
       "  <thead>\n",
       "    <tr style=\"text-align: right;\">\n",
       "      <th></th>\n",
       "      <th>count</th>\n",
       "      <th>mean</th>\n",
       "      <th>std</th>\n",
       "      <th>min</th>\n",
       "      <th>25%</th>\n",
       "      <th>50%</th>\n",
       "      <th>75%</th>\n",
       "      <th>max</th>\n",
       "    </tr>\n",
       "  </thead>\n",
       "  <tbody>\n",
       "    <tr>\n",
       "      <th>user_id</th>\n",
       "      <td>123036.0</td>\n",
       "      <td>1256.98941</td>\n",
       "      <td>143.523967</td>\n",
       "      <td>1000.0</td>\n",
       "      <td>1134.0</td>\n",
       "      <td>1271.0</td>\n",
       "      <td>1381.0</td>\n",
       "      <td>1499.0</td>\n",
       "    </tr>\n",
       "  </tbody>\n",
       "</table>\n",
       "</div>"
      ],
      "text/plain": [
       "            count        mean         std     min     25%     50%     75%  \\\n",
       "user_id  123036.0  1256.98941  143.523967  1000.0  1134.0  1271.0  1381.0   \n",
       "\n",
       "            max  \n",
       "user_id  1499.0  "
      ]
     },
     "execution_count": 22,
     "metadata": {},
     "output_type": "execute_result"
    }
   ],
   "source": [
    "if os.path.exists('messages.csv'):\n",
    "    df_messages = pd.read_csv('messages.csv')\n",
    "else:\n",
    "    df_messages = pd.read_csv('/datasets/messages.csv')\n",
    "\n",
    "df_messages.info()\n",
    "display(df_messages.head())\n",
    "df_messages.describe().transpose()"
   ]
  },
  {
   "cell_type": "code",
   "execution_count": 23,
   "id": "9e9a3251",
   "metadata": {},
   "outputs": [
    {
     "name": "stdout",
     "output_type": "stream",
     "text": [
      "<class 'pandas.core.frame.DataFrame'>\n",
      "RangeIndex: 149396 entries, 0 to 149395\n",
      "Data columns (total 5 columns):\n",
      " #   Column        Non-Null Count   Dtype  \n",
      "---  ------        --------------   -----  \n",
      " 0   Unnamed: 0    149396 non-null  int64  \n",
      " 1   id            149396 non-null  object \n",
      " 2   mb_used       149396 non-null  float64\n",
      " 3   session_date  149396 non-null  object \n",
      " 4   user_id       149396 non-null  int64  \n",
      "dtypes: float64(1), int64(2), object(2)\n",
      "memory usage: 5.7+ MB\n"
     ]
    },
    {
     "data": {
      "text/html": [
       "<div>\n",
       "<style scoped>\n",
       "    .dataframe tbody tr th:only-of-type {\n",
       "        vertical-align: middle;\n",
       "    }\n",
       "\n",
       "    .dataframe tbody tr th {\n",
       "        vertical-align: top;\n",
       "    }\n",
       "\n",
       "    .dataframe thead th {\n",
       "        text-align: right;\n",
       "    }\n",
       "</style>\n",
       "<table border=\"1\" class=\"dataframe\">\n",
       "  <thead>\n",
       "    <tr style=\"text-align: right;\">\n",
       "      <th></th>\n",
       "      <th>Unnamed: 0</th>\n",
       "      <th>id</th>\n",
       "      <th>mb_used</th>\n",
       "      <th>session_date</th>\n",
       "      <th>user_id</th>\n",
       "    </tr>\n",
       "  </thead>\n",
       "  <tbody>\n",
       "    <tr>\n",
       "      <th>0</th>\n",
       "      <td>0</td>\n",
       "      <td>1000_0</td>\n",
       "      <td>112.95</td>\n",
       "      <td>2018-11-25</td>\n",
       "      <td>1000</td>\n",
       "    </tr>\n",
       "    <tr>\n",
       "      <th>1</th>\n",
       "      <td>1</td>\n",
       "      <td>1000_1</td>\n",
       "      <td>1052.81</td>\n",
       "      <td>2018-09-07</td>\n",
       "      <td>1000</td>\n",
       "    </tr>\n",
       "    <tr>\n",
       "      <th>2</th>\n",
       "      <td>2</td>\n",
       "      <td>1000_2</td>\n",
       "      <td>1197.26</td>\n",
       "      <td>2018-06-25</td>\n",
       "      <td>1000</td>\n",
       "    </tr>\n",
       "    <tr>\n",
       "      <th>3</th>\n",
       "      <td>3</td>\n",
       "      <td>1000_3</td>\n",
       "      <td>550.27</td>\n",
       "      <td>2018-08-22</td>\n",
       "      <td>1000</td>\n",
       "    </tr>\n",
       "    <tr>\n",
       "      <th>4</th>\n",
       "      <td>4</td>\n",
       "      <td>1000_4</td>\n",
       "      <td>302.56</td>\n",
       "      <td>2018-09-24</td>\n",
       "      <td>1000</td>\n",
       "    </tr>\n",
       "  </tbody>\n",
       "</table>\n",
       "</div>"
      ],
      "text/plain": [
       "   Unnamed: 0      id  mb_used session_date  user_id\n",
       "0           0  1000_0   112.95   2018-11-25     1000\n",
       "1           1  1000_1  1052.81   2018-09-07     1000\n",
       "2           2  1000_2  1197.26   2018-06-25     1000\n",
       "3           3  1000_3   550.27   2018-08-22     1000\n",
       "4           4  1000_4   302.56   2018-09-24     1000"
      ]
     },
     "metadata": {},
     "output_type": "display_data"
    },
    {
     "data": {
      "text/html": [
       "<div>\n",
       "<style scoped>\n",
       "    .dataframe tbody tr th:only-of-type {\n",
       "        vertical-align: middle;\n",
       "    }\n",
       "\n",
       "    .dataframe tbody tr th {\n",
       "        vertical-align: top;\n",
       "    }\n",
       "\n",
       "    .dataframe thead th {\n",
       "        text-align: right;\n",
       "    }\n",
       "</style>\n",
       "<table border=\"1\" class=\"dataframe\">\n",
       "  <thead>\n",
       "    <tr style=\"text-align: right;\">\n",
       "      <th></th>\n",
       "      <th>count</th>\n",
       "      <th>mean</th>\n",
       "      <th>std</th>\n",
       "      <th>min</th>\n",
       "      <th>25%</th>\n",
       "      <th>50%</th>\n",
       "      <th>75%</th>\n",
       "      <th>max</th>\n",
       "    </tr>\n",
       "  </thead>\n",
       "  <tbody>\n",
       "    <tr>\n",
       "      <th>Unnamed: 0</th>\n",
       "      <td>149396.0</td>\n",
       "      <td>74697.500000</td>\n",
       "      <td>43127.054745</td>\n",
       "      <td>0.0</td>\n",
       "      <td>37348.7500</td>\n",
       "      <td>74697.500</td>\n",
       "      <td>112046.2500</td>\n",
       "      <td>149395.00</td>\n",
       "    </tr>\n",
       "    <tr>\n",
       "      <th>mb_used</th>\n",
       "      <td>149396.0</td>\n",
       "      <td>370.192426</td>\n",
       "      <td>278.300951</td>\n",
       "      <td>0.0</td>\n",
       "      <td>138.1875</td>\n",
       "      <td>348.015</td>\n",
       "      <td>559.5525</td>\n",
       "      <td>1724.83</td>\n",
       "    </tr>\n",
       "    <tr>\n",
       "      <th>user_id</th>\n",
       "      <td>149396.0</td>\n",
       "      <td>1252.099842</td>\n",
       "      <td>144.050823</td>\n",
       "      <td>1000.0</td>\n",
       "      <td>1130.0000</td>\n",
       "      <td>1251.000</td>\n",
       "      <td>1380.0000</td>\n",
       "      <td>1499.00</td>\n",
       "    </tr>\n",
       "  </tbody>\n",
       "</table>\n",
       "</div>"
      ],
      "text/plain": [
       "               count          mean           std     min         25%  \\\n",
       "Unnamed: 0  149396.0  74697.500000  43127.054745     0.0  37348.7500   \n",
       "mb_used     149396.0    370.192426    278.300951     0.0    138.1875   \n",
       "user_id     149396.0   1252.099842    144.050823  1000.0   1130.0000   \n",
       "\n",
       "                  50%          75%        max  \n",
       "Unnamed: 0  74697.500  112046.2500  149395.00  \n",
       "mb_used       348.015     559.5525    1724.83  \n",
       "user_id      1251.000    1380.0000    1499.00  "
      ]
     },
     "execution_count": 23,
     "metadata": {},
     "output_type": "execute_result"
    }
   ],
   "source": [
    "if os.path.exists('internet.csv'):\n",
    "    df_internet = pd.read_csv('internet.csv')\n",
    "else:\n",
    "    df_internet = pd.read_csv('/datasets/internet.csv')\n",
    "\n",
    "df_internet.info()\n",
    "display(df_internet.head())\n",
    "df_internet.describe().transpose()"
   ]
  },
  {
   "cell_type": "code",
   "execution_count": 24,
   "id": "fbd6c1bf",
   "metadata": {},
   "outputs": [
    {
     "name": "stdout",
     "output_type": "stream",
     "text": [
      "<class 'pandas.core.frame.DataFrame'>\n",
      "RangeIndex: 2 entries, 0 to 1\n",
      "Data columns (total 8 columns):\n",
      " #   Column                 Non-Null Count  Dtype \n",
      "---  ------                 --------------  ----- \n",
      " 0   messages_included      2 non-null      int64 \n",
      " 1   mb_per_month_included  2 non-null      int64 \n",
      " 2   minutes_included       2 non-null      int64 \n",
      " 3   rub_monthly_fee        2 non-null      int64 \n",
      " 4   rub_per_gb             2 non-null      int64 \n",
      " 5   rub_per_message        2 non-null      int64 \n",
      " 6   rub_per_minute         2 non-null      int64 \n",
      " 7   tariff_name            2 non-null      object\n",
      "dtypes: int64(7), object(1)\n",
      "memory usage: 256.0+ bytes\n"
     ]
    },
    {
     "data": {
      "text/html": [
       "<div>\n",
       "<style scoped>\n",
       "    .dataframe tbody tr th:only-of-type {\n",
       "        vertical-align: middle;\n",
       "    }\n",
       "\n",
       "    .dataframe tbody tr th {\n",
       "        vertical-align: top;\n",
       "    }\n",
       "\n",
       "    .dataframe thead th {\n",
       "        text-align: right;\n",
       "    }\n",
       "</style>\n",
       "<table border=\"1\" class=\"dataframe\">\n",
       "  <thead>\n",
       "    <tr style=\"text-align: right;\">\n",
       "      <th></th>\n",
       "      <th>messages_included</th>\n",
       "      <th>mb_per_month_included</th>\n",
       "      <th>minutes_included</th>\n",
       "      <th>rub_monthly_fee</th>\n",
       "      <th>rub_per_gb</th>\n",
       "      <th>rub_per_message</th>\n",
       "      <th>rub_per_minute</th>\n",
       "      <th>tariff_name</th>\n",
       "    </tr>\n",
       "  </thead>\n",
       "  <tbody>\n",
       "    <tr>\n",
       "      <th>0</th>\n",
       "      <td>50</td>\n",
       "      <td>15360</td>\n",
       "      <td>500</td>\n",
       "      <td>550</td>\n",
       "      <td>200</td>\n",
       "      <td>3</td>\n",
       "      <td>3</td>\n",
       "      <td>smart</td>\n",
       "    </tr>\n",
       "    <tr>\n",
       "      <th>1</th>\n",
       "      <td>1000</td>\n",
       "      <td>30720</td>\n",
       "      <td>3000</td>\n",
       "      <td>1950</td>\n",
       "      <td>150</td>\n",
       "      <td>1</td>\n",
       "      <td>1</td>\n",
       "      <td>ultra</td>\n",
       "    </tr>\n",
       "  </tbody>\n",
       "</table>\n",
       "</div>"
      ],
      "text/plain": [
       "   messages_included  mb_per_month_included  minutes_included  \\\n",
       "0                 50                  15360               500   \n",
       "1               1000                  30720              3000   \n",
       "\n",
       "   rub_monthly_fee  rub_per_gb  rub_per_message  rub_per_minute tariff_name  \n",
       "0              550         200                3               3       smart  \n",
       "1             1950         150                1               1       ultra  "
      ]
     },
     "metadata": {},
     "output_type": "display_data"
    }
   ],
   "source": [
    "if os.path.exists('tariffs.csv'):\n",
    "    df_tariffs = pd.read_csv('tariffs.csv')\n",
    "else:\n",
    "    df_tariffs = pd.read_csv('/datasets/tariffs.csv')\n",
    "\n",
    "df_tariffs.info()\n",
    "display(df_tariffs.head())"
   ]
  },
  {
   "cell_type": "markdown",
   "id": "f1f19a4a",
   "metadata": {},
   "source": [
    "### Вывод\n",
    "\n",
    "Данные в хорошем состоянии, все названия, кроме одного, в \"змеином регистре\". Выбивающихся или аномальных значений незаметно. Пропуски есть только в таблице `users.csv` в столбце `churn_date`, но из описания данных мы знаем что если в данном столбце нет данных, то тариф всё ещё действует. Испаравлять это нет необходимости.\n",
    "\n",
    "Единственный столбец вызывающий вопросы есть в таблице `internet.csv`: `Unnamed: 0`. В описании данных его нет, судя по значениям это продублированные номера строк."
   ]
  },
  {
   "cell_type": "markdown",
   "id": "2b6f0593",
   "metadata": {},
   "source": [
    "## Часть 2. Подготовка данных. <a id=\"step2\"></a>\n",
    "\n",
    "Проверим предположение что столбец `Unnamed: 0` является дубликатом индекса."
   ]
  },
  {
   "cell_type": "code",
   "execution_count": 25,
   "id": "bc234f20",
   "metadata": {},
   "outputs": [
    {
     "data": {
      "text/plain": [
       "149396"
      ]
     },
     "execution_count": 25,
     "metadata": {},
     "output_type": "execute_result"
    }
   ],
   "source": [
    "df_internet[df_internet.index == df_internet['Unnamed: 0']].shape[0]"
   ]
  },
  {
   "cell_type": "markdown",
   "id": "3c83ec26",
   "metadata": {},
   "source": [
    "Предположение подтвердилось, возможно неверный SQL запрос в базу данных. Удалим данный столбец."
   ]
  },
  {
   "cell_type": "code",
   "execution_count": 26,
   "id": "d02a7b56",
   "metadata": {},
   "outputs": [],
   "source": [
    "df_internet.drop(columns = 'Unnamed: 0', inplace = True)"
   ]
  },
  {
   "cell_type": "markdown",
   "id": "176fd98f",
   "metadata": {},
   "source": [
    "Приведём даты к формату datetime."
   ]
  },
  {
   "cell_type": "code",
   "execution_count": 27,
   "id": "0b06ed01",
   "metadata": {},
   "outputs": [],
   "source": [
    "df_users['reg_date'] = pd.to_datetime(df_users['reg_date'], format='%Y-%m-%d')\n",
    "df_users['churn_date'] = pd.to_datetime(df_users['churn_date'], format='%Y-%m-%d')\n",
    "df_calls['call_date'] = pd.to_datetime(df_calls['call_date'], format='%Y-%m-%d')\n",
    "df_messages['message_date'] = pd.to_datetime(df_messages['message_date'], format='%Y-%m-%d')\n",
    "df_internet['session_date'] = pd.to_datetime(df_internet['session_date'], format='%Y-%m-%d')"
   ]
  },
  {
   "cell_type": "markdown",
   "id": "8ff119a2",
   "metadata": {},
   "source": [
    "Посчитаем для каждого пользователя:\n",
    "\n",
    "    количество сделанных звонков и израсходованных минут разговора по месяцам;\n",
    "    количество отправленных сообщений по месяцам;\n",
    "    объем израсходованного интернет-трафика по месяцам;\n",
    "    помесячную выручку с каждого пользователя (вычтем бесплатный лимит из суммарного количества звонков, сообщений и интернет-трафика; остаток умножим на значение из тарифного плана; прибавим абонентскую плату, соответствующую тарифному плану).\n",
    "    \n",
    "Добавим в таблицу `calls` столбец с месяцами, а также проведём округление длительности звонков до целых минут вверх, как указано в условии использования тарифов."
   ]
  },
  {
   "cell_type": "code",
   "execution_count": 28,
   "id": "a1ba6ee4",
   "metadata": {},
   "outputs": [],
   "source": [
    "df_calls['month'] = df_calls['call_date'].astype('datetime64[M]')\n",
    "df_calls['duration'] = np.ceil(df_calls['duration'])\n",
    "\n",
    "df_calls_grouped = df_calls.groupby(['user_id', 'month']).agg(\n",
    "    calls_duration = ('duration', 'sum'),\n",
    "    calls_count = ('duration', 'count')\n",
    ")"
   ]
  },
  {
   "cell_type": "markdown",
   "id": "fd5b1fc2",
   "metadata": {},
   "source": [
    "Теперь посчитаем данные по количеству сообщений."
   ]
  },
  {
   "cell_type": "code",
   "execution_count": 29,
   "id": "7f963565",
   "metadata": {},
   "outputs": [],
   "source": [
    "df_messages['month'] = df_messages['message_date'].astype('datetime64[M]')\n",
    "\n",
    "df_messages_grouped = df_messages.groupby(['user_id', 'month']).agg(\n",
    "    messages_count = ('id', 'count')\n",
    ")"
   ]
  },
  {
   "cell_type": "markdown",
   "id": "33b76e4f",
   "metadata": {},
   "source": [
    "Добавим объём израсходованного трафика по месяцам, округляя до Гб в большую сторону."
   ]
  },
  {
   "cell_type": "code",
   "execution_count": 30,
   "id": "b80a1604",
   "metadata": {},
   "outputs": [],
   "source": [
    "df_internet['month'] = df_internet['session_date'].astype('datetime64[M]')\n",
    "\n",
    "df_internet_grouped = df_internet.groupby(['user_id', 'month']).agg(\n",
    "    traffic_sum = ('mb_used', 'sum')\n",
    ")"
   ]
  },
  {
   "cell_type": "code",
   "execution_count": 31,
   "id": "f4034848",
   "metadata": {},
   "outputs": [
    {
     "data": {
      "text/html": [
       "<div>\n",
       "<style scoped>\n",
       "    .dataframe tbody tr th:only-of-type {\n",
       "        vertical-align: middle;\n",
       "    }\n",
       "\n",
       "    .dataframe tbody tr th {\n",
       "        vertical-align: top;\n",
       "    }\n",
       "\n",
       "    .dataframe thead th {\n",
       "        text-align: right;\n",
       "    }\n",
       "</style>\n",
       "<table border=\"1\" class=\"dataframe\">\n",
       "  <thead>\n",
       "    <tr style=\"text-align: right;\">\n",
       "      <th></th>\n",
       "      <th></th>\n",
       "      <th>traffic_sum</th>\n",
       "    </tr>\n",
       "    <tr>\n",
       "      <th>user_id</th>\n",
       "      <th>month</th>\n",
       "      <th></th>\n",
       "    </tr>\n",
       "  </thead>\n",
       "  <tbody>\n",
       "    <tr>\n",
       "      <th rowspan=\"5\" valign=\"top\">1000</th>\n",
       "      <th>2018-05-01</th>\n",
       "      <td>2253.49</td>\n",
       "    </tr>\n",
       "    <tr>\n",
       "      <th>2018-06-01</th>\n",
       "      <td>23233.77</td>\n",
       "    </tr>\n",
       "    <tr>\n",
       "      <th>2018-07-01</th>\n",
       "      <td>14003.64</td>\n",
       "    </tr>\n",
       "    <tr>\n",
       "      <th>2018-08-01</th>\n",
       "      <td>14055.93</td>\n",
       "    </tr>\n",
       "    <tr>\n",
       "      <th>2018-09-01</th>\n",
       "      <td>14568.91</td>\n",
       "    </tr>\n",
       "    <tr>\n",
       "      <th>...</th>\n",
       "      <th>...</th>\n",
       "      <td>...</td>\n",
       "    </tr>\n",
       "    <tr>\n",
       "      <th>1498</th>\n",
       "      <th>2018-10-01</th>\n",
       "      <td>20579.36</td>\n",
       "    </tr>\n",
       "    <tr>\n",
       "      <th rowspan=\"4\" valign=\"top\">1499</th>\n",
       "      <th>2018-09-01</th>\n",
       "      <td>1845.75</td>\n",
       "    </tr>\n",
       "    <tr>\n",
       "      <th>2018-10-01</th>\n",
       "      <td>17788.51</td>\n",
       "    </tr>\n",
       "    <tr>\n",
       "      <th>2018-11-01</th>\n",
       "      <td>17963.31</td>\n",
       "    </tr>\n",
       "    <tr>\n",
       "      <th>2018-12-01</th>\n",
       "      <td>13055.58</td>\n",
       "    </tr>\n",
       "  </tbody>\n",
       "</table>\n",
       "<p>3203 rows × 1 columns</p>\n",
       "</div>"
      ],
      "text/plain": [
       "                    traffic_sum\n",
       "user_id month                  \n",
       "1000    2018-05-01      2253.49\n",
       "        2018-06-01     23233.77\n",
       "        2018-07-01     14003.64\n",
       "        2018-08-01     14055.93\n",
       "        2018-09-01     14568.91\n",
       "...                         ...\n",
       "1498    2018-10-01     20579.36\n",
       "1499    2018-09-01      1845.75\n",
       "        2018-10-01     17788.51\n",
       "        2018-11-01     17963.31\n",
       "        2018-12-01     13055.58\n",
       "\n",
       "[3203 rows x 1 columns]"
      ]
     },
     "execution_count": 31,
     "metadata": {},
     "output_type": "execute_result"
    }
   ],
   "source": [
    "df_internet_grouped"
   ]
  },
  {
   "cell_type": "markdown",
   "id": "3f9a178a",
   "metadata": {},
   "source": [
    "Так как разные пользователи могли не пользоваться какими-то услугами, то сначала объединим статистику по использованию услуг в отдельную группу."
   ]
  },
  {
   "cell_type": "code",
   "execution_count": 13,
   "id": "81f66738",
   "metadata": {},
   "outputs": [],
   "source": [
    "statistic = df_internet_grouped\\\n",
    "    .merge(df_calls_grouped, how='outer', on=['user_id', 'month'])\\\n",
    "    .merge(df_messages_grouped, how='outer', on=['user_id', 'month'])\n",
    "statistic.reset_index(level='month', inplace=True)"
   ]
  },
  {
   "cell_type": "markdown",
   "id": "ecd5e0ea",
   "metadata": {},
   "source": [
    "Теперь добавим статистическую информацию к общей инофрмации о пользователях."
   ]
  },
  {
   "cell_type": "code",
   "execution_count": 14,
   "id": "e4ba03ef",
   "metadata": {},
   "outputs": [
    {
     "name": "stdout",
     "output_type": "stream",
     "text": [
      "<class 'pandas.core.frame.DataFrame'>\n",
      "Int64Index: 3216 entries, 0 to 3215\n",
      "Data columns (total 13 columns):\n",
      " #   Column          Non-Null Count  Dtype         \n",
      "---  ------          --------------  -----         \n",
      " 0   user_id         3216 non-null   int64         \n",
      " 1   age             3216 non-null   int64         \n",
      " 2   churn_date      189 non-null    datetime64[ns]\n",
      " 3   city            3216 non-null   object        \n",
      " 4   first_name      3216 non-null   object        \n",
      " 5   last_name       3216 non-null   object        \n",
      " 6   reg_date        3216 non-null   datetime64[ns]\n",
      " 7   tariff          3216 non-null   object        \n",
      " 8   month           3214 non-null   datetime64[ns]\n",
      " 9   traffic_sum     3203 non-null   float64       \n",
      " 10  calls_duration  3174 non-null   float64       \n",
      " 11  calls_count     3174 non-null   float64       \n",
      " 12  messages_count  2717 non-null   float64       \n",
      "dtypes: datetime64[ns](3), float64(4), int64(2), object(4)\n",
      "memory usage: 351.8+ KB\n"
     ]
    }
   ],
   "source": [
    "df = df_users.merge(statistic, how='outer', on='user_id')\n",
    "df.info()"
   ]
  },
  {
   "cell_type": "code",
   "execution_count": 15,
   "id": "e47baf64",
   "metadata": {},
   "outputs": [
    {
     "data": {
      "text/html": [
       "<div>\n",
       "<style scoped>\n",
       "    .dataframe tbody tr th:only-of-type {\n",
       "        vertical-align: middle;\n",
       "    }\n",
       "\n",
       "    .dataframe tbody tr th {\n",
       "        vertical-align: top;\n",
       "    }\n",
       "\n",
       "    .dataframe thead th {\n",
       "        text-align: right;\n",
       "    }\n",
       "</style>\n",
       "<table border=\"1\" class=\"dataframe\">\n",
       "  <thead>\n",
       "    <tr style=\"text-align: right;\">\n",
       "      <th></th>\n",
       "      <th>user_id</th>\n",
       "      <th>age</th>\n",
       "      <th>churn_date</th>\n",
       "      <th>city</th>\n",
       "      <th>first_name</th>\n",
       "      <th>last_name</th>\n",
       "      <th>reg_date</th>\n",
       "      <th>tariff</th>\n",
       "      <th>month</th>\n",
       "      <th>traffic_sum</th>\n",
       "      <th>calls_duration</th>\n",
       "      <th>calls_count</th>\n",
       "      <th>messages_count</th>\n",
       "    </tr>\n",
       "  </thead>\n",
       "  <tbody>\n",
       "    <tr>\n",
       "      <th>0</th>\n",
       "      <td>1000</td>\n",
       "      <td>52</td>\n",
       "      <td>NaT</td>\n",
       "      <td>Краснодар</td>\n",
       "      <td>Рафаил</td>\n",
       "      <td>Верещагин</td>\n",
       "      <td>2018-05-25</td>\n",
       "      <td>ultra</td>\n",
       "      <td>2018-05-01</td>\n",
       "      <td>3.0</td>\n",
       "      <td>159.0</td>\n",
       "      <td>22.0</td>\n",
       "      <td>22.0</td>\n",
       "    </tr>\n",
       "    <tr>\n",
       "      <th>1</th>\n",
       "      <td>1000</td>\n",
       "      <td>52</td>\n",
       "      <td>NaT</td>\n",
       "      <td>Краснодар</td>\n",
       "      <td>Рафаил</td>\n",
       "      <td>Верещагин</td>\n",
       "      <td>2018-05-25</td>\n",
       "      <td>ultra</td>\n",
       "      <td>2018-06-01</td>\n",
       "      <td>23.0</td>\n",
       "      <td>172.0</td>\n",
       "      <td>43.0</td>\n",
       "      <td>60.0</td>\n",
       "    </tr>\n",
       "    <tr>\n",
       "      <th>2</th>\n",
       "      <td>1000</td>\n",
       "      <td>52</td>\n",
       "      <td>NaT</td>\n",
       "      <td>Краснодар</td>\n",
       "      <td>Рафаил</td>\n",
       "      <td>Верещагин</td>\n",
       "      <td>2018-05-25</td>\n",
       "      <td>ultra</td>\n",
       "      <td>2018-07-01</td>\n",
       "      <td>14.0</td>\n",
       "      <td>340.0</td>\n",
       "      <td>47.0</td>\n",
       "      <td>75.0</td>\n",
       "    </tr>\n",
       "    <tr>\n",
       "      <th>3</th>\n",
       "      <td>1000</td>\n",
       "      <td>52</td>\n",
       "      <td>NaT</td>\n",
       "      <td>Краснодар</td>\n",
       "      <td>Рафаил</td>\n",
       "      <td>Верещагин</td>\n",
       "      <td>2018-05-25</td>\n",
       "      <td>ultra</td>\n",
       "      <td>2018-08-01</td>\n",
       "      <td>14.0</td>\n",
       "      <td>408.0</td>\n",
       "      <td>52.0</td>\n",
       "      <td>81.0</td>\n",
       "    </tr>\n",
       "    <tr>\n",
       "      <th>4</th>\n",
       "      <td>1000</td>\n",
       "      <td>52</td>\n",
       "      <td>NaT</td>\n",
       "      <td>Краснодар</td>\n",
       "      <td>Рафаил</td>\n",
       "      <td>Верещагин</td>\n",
       "      <td>2018-05-25</td>\n",
       "      <td>ultra</td>\n",
       "      <td>2018-09-01</td>\n",
       "      <td>15.0</td>\n",
       "      <td>466.0</td>\n",
       "      <td>58.0</td>\n",
       "      <td>57.0</td>\n",
       "    </tr>\n",
       "    <tr>\n",
       "      <th>...</th>\n",
       "      <td>...</td>\n",
       "      <td>...</td>\n",
       "      <td>...</td>\n",
       "      <td>...</td>\n",
       "      <td>...</td>\n",
       "      <td>...</td>\n",
       "      <td>...</td>\n",
       "      <td>...</td>\n",
       "      <td>...</td>\n",
       "      <td>...</td>\n",
       "      <td>...</td>\n",
       "      <td>...</td>\n",
       "      <td>...</td>\n",
       "    </tr>\n",
       "    <tr>\n",
       "      <th>3211</th>\n",
       "      <td>1498</td>\n",
       "      <td>68</td>\n",
       "      <td>2018-10-25</td>\n",
       "      <td>Владикавказ</td>\n",
       "      <td>Всеволод</td>\n",
       "      <td>Акимчин</td>\n",
       "      <td>2018-07-19</td>\n",
       "      <td>smart</td>\n",
       "      <td>2018-10-01</td>\n",
       "      <td>21.0</td>\n",
       "      <td>247.0</td>\n",
       "      <td>41.0</td>\n",
       "      <td>42.0</td>\n",
       "    </tr>\n",
       "    <tr>\n",
       "      <th>3212</th>\n",
       "      <td>1499</td>\n",
       "      <td>35</td>\n",
       "      <td>NaT</td>\n",
       "      <td>Пермь</td>\n",
       "      <td>Гектор</td>\n",
       "      <td>Корнилов</td>\n",
       "      <td>2018-09-27</td>\n",
       "      <td>smart</td>\n",
       "      <td>2018-09-01</td>\n",
       "      <td>2.0</td>\n",
       "      <td>70.0</td>\n",
       "      <td>9.0</td>\n",
       "      <td>11.0</td>\n",
       "    </tr>\n",
       "    <tr>\n",
       "      <th>3213</th>\n",
       "      <td>1499</td>\n",
       "      <td>35</td>\n",
       "      <td>NaT</td>\n",
       "      <td>Пермь</td>\n",
       "      <td>Гектор</td>\n",
       "      <td>Корнилов</td>\n",
       "      <td>2018-09-27</td>\n",
       "      <td>smart</td>\n",
       "      <td>2018-10-01</td>\n",
       "      <td>18.0</td>\n",
       "      <td>449.0</td>\n",
       "      <td>68.0</td>\n",
       "      <td>48.0</td>\n",
       "    </tr>\n",
       "    <tr>\n",
       "      <th>3214</th>\n",
       "      <td>1499</td>\n",
       "      <td>35</td>\n",
       "      <td>NaT</td>\n",
       "      <td>Пермь</td>\n",
       "      <td>Гектор</td>\n",
       "      <td>Корнилов</td>\n",
       "      <td>2018-09-27</td>\n",
       "      <td>smart</td>\n",
       "      <td>2018-11-01</td>\n",
       "      <td>18.0</td>\n",
       "      <td>612.0</td>\n",
       "      <td>74.0</td>\n",
       "      <td>59.0</td>\n",
       "    </tr>\n",
       "    <tr>\n",
       "      <th>3215</th>\n",
       "      <td>1499</td>\n",
       "      <td>35</td>\n",
       "      <td>NaT</td>\n",
       "      <td>Пермь</td>\n",
       "      <td>Гектор</td>\n",
       "      <td>Корнилов</td>\n",
       "      <td>2018-09-27</td>\n",
       "      <td>smart</td>\n",
       "      <td>2018-12-01</td>\n",
       "      <td>13.0</td>\n",
       "      <td>492.0</td>\n",
       "      <td>69.0</td>\n",
       "      <td>66.0</td>\n",
       "    </tr>\n",
       "  </tbody>\n",
       "</table>\n",
       "<p>3216 rows × 13 columns</p>\n",
       "</div>"
      ],
      "text/plain": [
       "      user_id  age churn_date         city first_name  last_name   reg_date  \\\n",
       "0        1000   52        NaT    Краснодар     Рафаил  Верещагин 2018-05-25   \n",
       "1        1000   52        NaT    Краснодар     Рафаил  Верещагин 2018-05-25   \n",
       "2        1000   52        NaT    Краснодар     Рафаил  Верещагин 2018-05-25   \n",
       "3        1000   52        NaT    Краснодар     Рафаил  Верещагин 2018-05-25   \n",
       "4        1000   52        NaT    Краснодар     Рафаил  Верещагин 2018-05-25   \n",
       "...       ...  ...        ...          ...        ...        ...        ...   \n",
       "3211     1498   68 2018-10-25  Владикавказ   Всеволод    Акимчин 2018-07-19   \n",
       "3212     1499   35        NaT        Пермь     Гектор   Корнилов 2018-09-27   \n",
       "3213     1499   35        NaT        Пермь     Гектор   Корнилов 2018-09-27   \n",
       "3214     1499   35        NaT        Пермь     Гектор   Корнилов 2018-09-27   \n",
       "3215     1499   35        NaT        Пермь     Гектор   Корнилов 2018-09-27   \n",
       "\n",
       "     tariff      month  traffic_sum  calls_duration  calls_count  \\\n",
       "0     ultra 2018-05-01          3.0           159.0         22.0   \n",
       "1     ultra 2018-06-01         23.0           172.0         43.0   \n",
       "2     ultra 2018-07-01         14.0           340.0         47.0   \n",
       "3     ultra 2018-08-01         14.0           408.0         52.0   \n",
       "4     ultra 2018-09-01         15.0           466.0         58.0   \n",
       "...     ...        ...          ...             ...          ...   \n",
       "3211  smart 2018-10-01         21.0           247.0         41.0   \n",
       "3212  smart 2018-09-01          2.0            70.0          9.0   \n",
       "3213  smart 2018-10-01         18.0           449.0         68.0   \n",
       "3214  smart 2018-11-01         18.0           612.0         74.0   \n",
       "3215  smart 2018-12-01         13.0           492.0         69.0   \n",
       "\n",
       "      messages_count  \n",
       "0               22.0  \n",
       "1               60.0  \n",
       "2               75.0  \n",
       "3               81.0  \n",
       "4               57.0  \n",
       "...              ...  \n",
       "3211            42.0  \n",
       "3212            11.0  \n",
       "3213            48.0  \n",
       "3214            59.0  \n",
       "3215            66.0  \n",
       "\n",
       "[3216 rows x 13 columns]"
      ]
     },
     "execution_count": 15,
     "metadata": {},
     "output_type": "execute_result"
    }
   ],
   "source": [
    "df"
   ]
  },
  {
   "cell_type": "markdown",
   "id": "7c826c8b",
   "metadata": {},
   "source": [
    "Из общей таблицы видно что пользователи необязательно использовали все возможности тарифов, кто-то не звонил, кто-то не пользовался интернетом, больше всего пользователи игнорировали сообщения.\n",
    "\n",
    "Интересно что информация о месяцах отсутствует для двух строк, проверим их."
   ]
  },
  {
   "cell_type": "code",
   "execution_count": 15,
   "id": "31f34493",
   "metadata": {},
   "outputs": [
    {
     "data": {
      "text/html": [
       "<div>\n",
       "<style scoped>\n",
       "    .dataframe tbody tr th:only-of-type {\n",
       "        vertical-align: middle;\n",
       "    }\n",
       "\n",
       "    .dataframe tbody tr th {\n",
       "        vertical-align: top;\n",
       "    }\n",
       "\n",
       "    .dataframe thead th {\n",
       "        text-align: right;\n",
       "    }\n",
       "</style>\n",
       "<table border=\"1\" class=\"dataframe\">\n",
       "  <thead>\n",
       "    <tr style=\"text-align: right;\">\n",
       "      <th></th>\n",
       "      <th>user_id</th>\n",
       "      <th>age</th>\n",
       "      <th>churn_date</th>\n",
       "      <th>city</th>\n",
       "      <th>first_name</th>\n",
       "      <th>last_name</th>\n",
       "      <th>reg_date</th>\n",
       "      <th>tariff</th>\n",
       "      <th>month</th>\n",
       "      <th>traffic_sum</th>\n",
       "      <th>calls_duration</th>\n",
       "      <th>calls_count</th>\n",
       "      <th>messages_count</th>\n",
       "    </tr>\n",
       "  </thead>\n",
       "  <tbody>\n",
       "    <tr>\n",
       "      <td>827</td>\n",
       "      <td>1128</td>\n",
       "      <td>51</td>\n",
       "      <td>2018-12-23</td>\n",
       "      <td>Волжский</td>\n",
       "      <td>Ксения</td>\n",
       "      <td>Агаева</td>\n",
       "      <td>2018-12-15</td>\n",
       "      <td>ultra</td>\n",
       "      <td>NaT</td>\n",
       "      <td>NaN</td>\n",
       "      <td>NaN</td>\n",
       "      <td>NaN</td>\n",
       "      <td>NaN</td>\n",
       "    </tr>\n",
       "    <tr>\n",
       "      <td>2335</td>\n",
       "      <td>1371</td>\n",
       "      <td>50</td>\n",
       "      <td>2018-12-30</td>\n",
       "      <td>Омск</td>\n",
       "      <td>Ириней</td>\n",
       "      <td>Трофимов</td>\n",
       "      <td>2018-12-25</td>\n",
       "      <td>smart</td>\n",
       "      <td>NaT</td>\n",
       "      <td>NaN</td>\n",
       "      <td>NaN</td>\n",
       "      <td>NaN</td>\n",
       "      <td>NaN</td>\n",
       "    </tr>\n",
       "  </tbody>\n",
       "</table>\n",
       "</div>"
      ],
      "text/plain": [
       "      user_id  age churn_date      city first_name last_name   reg_date  \\\n",
       "827      1128   51 2018-12-23  Волжский     Ксения    Агаева 2018-12-15   \n",
       "2335     1371   50 2018-12-30      Омск     Ириней  Трофимов 2018-12-25   \n",
       "\n",
       "     tariff month  traffic_sum  calls_duration  calls_count  messages_count  \n",
       "827   ultra   NaT          NaN             NaN          NaN             NaN  \n",
       "2335  smart   NaT          NaN             NaN          NaN             NaN  "
      ]
     },
     "execution_count": 15,
     "metadata": {},
     "output_type": "execute_result"
    }
   ],
   "source": [
    "df[df['month'] != df['month']]"
   ]
  },
  {
   "cell_type": "markdown",
   "id": "7661b533",
   "metadata": {},
   "source": [
    "Оба пользователя не пользовались никакими услугами и отказались от тарифов в течении месяца. Т.к. нас интересует сравнение использования пользователями двух тарифов, от этих двух строк можно избавиться."
   ]
  },
  {
   "cell_type": "code",
   "execution_count": 16,
   "id": "9927e187",
   "metadata": {},
   "outputs": [],
   "source": [
    "df.drop(df[df['month'] != df['month']].index, inplace=True)"
   ]
  },
  {
   "cell_type": "markdown",
   "id": "01bb386a",
   "metadata": {},
   "source": [
    "Наконец, добавим помесячную выручку с каждого пользователя (вычтем бесплатный лимит из суммарного количества звонков, сообщений и интернет-трафика; остаток умножим на значение из тарифного плана; прибавим абонентскую плату, соответствующую тарифному плану)."
   ]
  },
  {
   "cell_type": "code",
   "execution_count": 32,
   "id": "e5a48286",
   "metadata": {},
   "outputs": [],
   "source": [
    "def tariff_income(row):\n",
    "    '''\n",
    "    Функция вычисляет помесячную выручку на основе информации о тарифах.\n",
    "    '''\n",
    "    if row['tariff'] == 'smart':\n",
    "        i = 0\n",
    "    elif row['tariff'] == 'ultra':\n",
    "        i = 1\n",
    "    result = df_tariffs.at[i, 'rub_monthly_fee']\n",
    "    if row['calls_duration'] > df_tariffs.at[i, 'minutes_included']:\n",
    "        result += (row['calls_duration'] - df_tariffs.at[i, 'minutes_included']) * df_tariffs.at[i, 'rub_per_minute']\n",
    "    if row['traffic_sum'] > df_tariffs.at[i, 'mb_per_month_included'] / 1024:\n",
    "        result += (row['traffic_sum'] - df_tariffs.at[i, 'mb_per_month_included'] / 1024) * df_tariffs.at[i, 'rub_per_gb']\n",
    "    if row['messages_count'] > df_tariffs.at[i, 'messages_included']:\n",
    "        result += (row['messages_count'] - df_tariffs.at[i, 'messages_included']) * df_tariffs.at[i, 'rub_per_message']\n",
    "    return result"
   ]
  },
  {
   "cell_type": "code",
   "execution_count": 33,
   "id": "d2b90429",
   "metadata": {
    "scrolled": false
   },
   "outputs": [
    {
     "data": {
      "text/html": [
       "<div>\n",
       "<style scoped>\n",
       "    .dataframe tbody tr th:only-of-type {\n",
       "        vertical-align: middle;\n",
       "    }\n",
       "\n",
       "    .dataframe tbody tr th {\n",
       "        vertical-align: top;\n",
       "    }\n",
       "\n",
       "    .dataframe thead th {\n",
       "        text-align: right;\n",
       "    }\n",
       "</style>\n",
       "<table border=\"1\" class=\"dataframe\">\n",
       "  <thead>\n",
       "    <tr style=\"text-align: right;\">\n",
       "      <th></th>\n",
       "      <th>user_id</th>\n",
       "      <th>age</th>\n",
       "      <th>churn_date</th>\n",
       "      <th>city</th>\n",
       "      <th>first_name</th>\n",
       "      <th>last_name</th>\n",
       "      <th>reg_date</th>\n",
       "      <th>tariff</th>\n",
       "      <th>month</th>\n",
       "      <th>traffic_sum</th>\n",
       "      <th>calls_duration</th>\n",
       "      <th>calls_count</th>\n",
       "      <th>messages_count</th>\n",
       "      <th>income</th>\n",
       "    </tr>\n",
       "  </thead>\n",
       "  <tbody>\n",
       "    <tr>\n",
       "      <th>1410</th>\n",
       "      <td>1221</td>\n",
       "      <td>40</td>\n",
       "      <td>NaT</td>\n",
       "      <td>Белгород</td>\n",
       "      <td>Джемма</td>\n",
       "      <td>Сафонова</td>\n",
       "      <td>2018-06-03</td>\n",
       "      <td>smart</td>\n",
       "      <td>2018-07-01</td>\n",
       "      <td>9.0</td>\n",
       "      <td>114.0</td>\n",
       "      <td>20.0</td>\n",
       "      <td>32.0</td>\n",
       "      <td>550.0</td>\n",
       "    </tr>\n",
       "    <tr>\n",
       "      <th>952</th>\n",
       "      <td>1150</td>\n",
       "      <td>58</td>\n",
       "      <td>NaT</td>\n",
       "      <td>Сургут</td>\n",
       "      <td>Майя</td>\n",
       "      <td>Муравьева</td>\n",
       "      <td>2018-08-05</td>\n",
       "      <td>ultra</td>\n",
       "      <td>2018-09-01</td>\n",
       "      <td>12.0</td>\n",
       "      <td>430.0</td>\n",
       "      <td>51.0</td>\n",
       "      <td>137.0</td>\n",
       "      <td>1950.0</td>\n",
       "    </tr>\n",
       "    <tr>\n",
       "      <th>700</th>\n",
       "      <td>1110</td>\n",
       "      <td>26</td>\n",
       "      <td>NaT</td>\n",
       "      <td>Петрозаводск</td>\n",
       "      <td>Матвей</td>\n",
       "      <td>Александрович</td>\n",
       "      <td>2018-05-06</td>\n",
       "      <td>smart</td>\n",
       "      <td>2018-06-01</td>\n",
       "      <td>25.0</td>\n",
       "      <td>363.0</td>\n",
       "      <td>48.0</td>\n",
       "      <td>29.0</td>\n",
       "      <td>2550.0</td>\n",
       "    </tr>\n",
       "    <tr>\n",
       "      <th>2930</th>\n",
       "      <td>1456</td>\n",
       "      <td>40</td>\n",
       "      <td>NaT</td>\n",
       "      <td>Санкт-Петербург</td>\n",
       "      <td>Мануэла</td>\n",
       "      <td>Андропова</td>\n",
       "      <td>2018-08-25</td>\n",
       "      <td>smart</td>\n",
       "      <td>2018-12-01</td>\n",
       "      <td>27.0</td>\n",
       "      <td>930.0</td>\n",
       "      <td>111.0</td>\n",
       "      <td>NaN</td>\n",
       "      <td>4240.0</td>\n",
       "    </tr>\n",
       "    <tr>\n",
       "      <th>1818</th>\n",
       "      <td>1286</td>\n",
       "      <td>19</td>\n",
       "      <td>NaT</td>\n",
       "      <td>Москва</td>\n",
       "      <td>Рашид</td>\n",
       "      <td>Троицкий</td>\n",
       "      <td>2018-11-27</td>\n",
       "      <td>smart</td>\n",
       "      <td>2018-11-01</td>\n",
       "      <td>5.0</td>\n",
       "      <td>47.0</td>\n",
       "      <td>9.0</td>\n",
       "      <td>12.0</td>\n",
       "      <td>550.0</td>\n",
       "    </tr>\n",
       "  </tbody>\n",
       "</table>\n",
       "</div>"
      ],
      "text/plain": [
       "      user_id  age churn_date             city first_name      last_name  \\\n",
       "1410     1221   40        NaT         Белгород     Джемма       Сафонова   \n",
       "952      1150   58        NaT           Сургут       Майя      Муравьева   \n",
       "700      1110   26        NaT     Петрозаводск     Матвей  Александрович   \n",
       "2930     1456   40        NaT  Санкт-Петербург    Мануэла      Андропова   \n",
       "1818     1286   19        NaT           Москва      Рашид       Троицкий   \n",
       "\n",
       "       reg_date tariff      month  traffic_sum  calls_duration  calls_count  \\\n",
       "1410 2018-06-03  smart 2018-07-01          9.0           114.0         20.0   \n",
       "952  2018-08-05  ultra 2018-09-01         12.0           430.0         51.0   \n",
       "700  2018-05-06  smart 2018-06-01         25.0           363.0         48.0   \n",
       "2930 2018-08-25  smart 2018-12-01         27.0           930.0        111.0   \n",
       "1818 2018-11-27  smart 2018-11-01          5.0            47.0          9.0   \n",
       "\n",
       "      messages_count  income  \n",
       "1410            32.0   550.0  \n",
       "952            137.0  1950.0  \n",
       "700             29.0  2550.0  \n",
       "2930             NaN  4240.0  \n",
       "1818            12.0   550.0  "
      ]
     },
     "execution_count": 33,
     "metadata": {},
     "output_type": "execute_result"
    }
   ],
   "source": [
    "df['income'] = df.apply(tariff_income, axis=1)\n",
    "df.sample(5)"
   ]
  },
  {
   "cell_type": "code",
   "execution_count": 34,
   "id": "8e7571d7",
   "metadata": {},
   "outputs": [],
   "source": [
    "df['income'] = df['income']*1000000"
   ]
  },
  {
   "cell_type": "code",
   "execution_count": 35,
   "id": "78c624e2",
   "metadata": {},
   "outputs": [
    {
     "data": {
      "text/html": [
       "<div>\n",
       "<style scoped>\n",
       "    .dataframe tbody tr th:only-of-type {\n",
       "        vertical-align: middle;\n",
       "    }\n",
       "\n",
       "    .dataframe tbody tr th {\n",
       "        vertical-align: top;\n",
       "    }\n",
       "\n",
       "    .dataframe thead th {\n",
       "        text-align: right;\n",
       "    }\n",
       "</style>\n",
       "<table border=\"1\" class=\"dataframe\">\n",
       "  <thead>\n",
       "    <tr style=\"text-align: right;\">\n",
       "      <th></th>\n",
       "      <th>user_id</th>\n",
       "      <th>age</th>\n",
       "      <th>churn_date</th>\n",
       "      <th>city</th>\n",
       "      <th>first_name</th>\n",
       "      <th>last_name</th>\n",
       "      <th>reg_date</th>\n",
       "      <th>tariff</th>\n",
       "      <th>month</th>\n",
       "      <th>traffic_sum</th>\n",
       "      <th>calls_duration</th>\n",
       "      <th>calls_count</th>\n",
       "      <th>messages_count</th>\n",
       "      <th>income</th>\n",
       "    </tr>\n",
       "  </thead>\n",
       "  <tbody>\n",
       "    <tr>\n",
       "      <th>0</th>\n",
       "      <td>1000</td>\n",
       "      <td>52</td>\n",
       "      <td>NaT</td>\n",
       "      <td>Краснодар</td>\n",
       "      <td>Рафаил</td>\n",
       "      <td>Верещагин</td>\n",
       "      <td>2018-05-25</td>\n",
       "      <td>ultra</td>\n",
       "      <td>2018-05-01</td>\n",
       "      <td>3.0</td>\n",
       "      <td>159.0</td>\n",
       "      <td>22.0</td>\n",
       "      <td>22.0</td>\n",
       "      <td>1.950000e+09</td>\n",
       "    </tr>\n",
       "    <tr>\n",
       "      <th>1</th>\n",
       "      <td>1000</td>\n",
       "      <td>52</td>\n",
       "      <td>NaT</td>\n",
       "      <td>Краснодар</td>\n",
       "      <td>Рафаил</td>\n",
       "      <td>Верещагин</td>\n",
       "      <td>2018-05-25</td>\n",
       "      <td>ultra</td>\n",
       "      <td>2018-06-01</td>\n",
       "      <td>23.0</td>\n",
       "      <td>172.0</td>\n",
       "      <td>43.0</td>\n",
       "      <td>60.0</td>\n",
       "      <td>1.950000e+09</td>\n",
       "    </tr>\n",
       "    <tr>\n",
       "      <th>2</th>\n",
       "      <td>1000</td>\n",
       "      <td>52</td>\n",
       "      <td>NaT</td>\n",
       "      <td>Краснодар</td>\n",
       "      <td>Рафаил</td>\n",
       "      <td>Верещагин</td>\n",
       "      <td>2018-05-25</td>\n",
       "      <td>ultra</td>\n",
       "      <td>2018-07-01</td>\n",
       "      <td>14.0</td>\n",
       "      <td>340.0</td>\n",
       "      <td>47.0</td>\n",
       "      <td>75.0</td>\n",
       "      <td>1.950000e+09</td>\n",
       "    </tr>\n",
       "    <tr>\n",
       "      <th>3</th>\n",
       "      <td>1000</td>\n",
       "      <td>52</td>\n",
       "      <td>NaT</td>\n",
       "      <td>Краснодар</td>\n",
       "      <td>Рафаил</td>\n",
       "      <td>Верещагин</td>\n",
       "      <td>2018-05-25</td>\n",
       "      <td>ultra</td>\n",
       "      <td>2018-08-01</td>\n",
       "      <td>14.0</td>\n",
       "      <td>408.0</td>\n",
       "      <td>52.0</td>\n",
       "      <td>81.0</td>\n",
       "      <td>1.950000e+09</td>\n",
       "    </tr>\n",
       "    <tr>\n",
       "      <th>4</th>\n",
       "      <td>1000</td>\n",
       "      <td>52</td>\n",
       "      <td>NaT</td>\n",
       "      <td>Краснодар</td>\n",
       "      <td>Рафаил</td>\n",
       "      <td>Верещагин</td>\n",
       "      <td>2018-05-25</td>\n",
       "      <td>ultra</td>\n",
       "      <td>2018-09-01</td>\n",
       "      <td>15.0</td>\n",
       "      <td>466.0</td>\n",
       "      <td>58.0</td>\n",
       "      <td>57.0</td>\n",
       "      <td>1.950000e+09</td>\n",
       "    </tr>\n",
       "    <tr>\n",
       "      <th>...</th>\n",
       "      <td>...</td>\n",
       "      <td>...</td>\n",
       "      <td>...</td>\n",
       "      <td>...</td>\n",
       "      <td>...</td>\n",
       "      <td>...</td>\n",
       "      <td>...</td>\n",
       "      <td>...</td>\n",
       "      <td>...</td>\n",
       "      <td>...</td>\n",
       "      <td>...</td>\n",
       "      <td>...</td>\n",
       "      <td>...</td>\n",
       "      <td>...</td>\n",
       "    </tr>\n",
       "    <tr>\n",
       "      <th>3211</th>\n",
       "      <td>1498</td>\n",
       "      <td>68</td>\n",
       "      <td>2018-10-25</td>\n",
       "      <td>Владикавказ</td>\n",
       "      <td>Всеволод</td>\n",
       "      <td>Акимчин</td>\n",
       "      <td>2018-07-19</td>\n",
       "      <td>smart</td>\n",
       "      <td>2018-10-01</td>\n",
       "      <td>21.0</td>\n",
       "      <td>247.0</td>\n",
       "      <td>41.0</td>\n",
       "      <td>42.0</td>\n",
       "      <td>1.750000e+09</td>\n",
       "    </tr>\n",
       "    <tr>\n",
       "      <th>3212</th>\n",
       "      <td>1499</td>\n",
       "      <td>35</td>\n",
       "      <td>NaT</td>\n",
       "      <td>Пермь</td>\n",
       "      <td>Гектор</td>\n",
       "      <td>Корнилов</td>\n",
       "      <td>2018-09-27</td>\n",
       "      <td>smart</td>\n",
       "      <td>2018-09-01</td>\n",
       "      <td>2.0</td>\n",
       "      <td>70.0</td>\n",
       "      <td>9.0</td>\n",
       "      <td>11.0</td>\n",
       "      <td>5.500000e+08</td>\n",
       "    </tr>\n",
       "    <tr>\n",
       "      <th>3213</th>\n",
       "      <td>1499</td>\n",
       "      <td>35</td>\n",
       "      <td>NaT</td>\n",
       "      <td>Пермь</td>\n",
       "      <td>Гектор</td>\n",
       "      <td>Корнилов</td>\n",
       "      <td>2018-09-27</td>\n",
       "      <td>smart</td>\n",
       "      <td>2018-10-01</td>\n",
       "      <td>18.0</td>\n",
       "      <td>449.0</td>\n",
       "      <td>68.0</td>\n",
       "      <td>48.0</td>\n",
       "      <td>1.150000e+09</td>\n",
       "    </tr>\n",
       "    <tr>\n",
       "      <th>3214</th>\n",
       "      <td>1499</td>\n",
       "      <td>35</td>\n",
       "      <td>NaT</td>\n",
       "      <td>Пермь</td>\n",
       "      <td>Гектор</td>\n",
       "      <td>Корнилов</td>\n",
       "      <td>2018-09-27</td>\n",
       "      <td>smart</td>\n",
       "      <td>2018-11-01</td>\n",
       "      <td>18.0</td>\n",
       "      <td>612.0</td>\n",
       "      <td>74.0</td>\n",
       "      <td>59.0</td>\n",
       "      <td>1.513000e+09</td>\n",
       "    </tr>\n",
       "    <tr>\n",
       "      <th>3215</th>\n",
       "      <td>1499</td>\n",
       "      <td>35</td>\n",
       "      <td>NaT</td>\n",
       "      <td>Пермь</td>\n",
       "      <td>Гектор</td>\n",
       "      <td>Корнилов</td>\n",
       "      <td>2018-09-27</td>\n",
       "      <td>smart</td>\n",
       "      <td>2018-12-01</td>\n",
       "      <td>13.0</td>\n",
       "      <td>492.0</td>\n",
       "      <td>69.0</td>\n",
       "      <td>66.0</td>\n",
       "      <td>5.980000e+08</td>\n",
       "    </tr>\n",
       "  </tbody>\n",
       "</table>\n",
       "<p>3216 rows × 14 columns</p>\n",
       "</div>"
      ],
      "text/plain": [
       "      user_id  age churn_date         city first_name  last_name   reg_date  \\\n",
       "0        1000   52        NaT    Краснодар     Рафаил  Верещагин 2018-05-25   \n",
       "1        1000   52        NaT    Краснодар     Рафаил  Верещагин 2018-05-25   \n",
       "2        1000   52        NaT    Краснодар     Рафаил  Верещагин 2018-05-25   \n",
       "3        1000   52        NaT    Краснодар     Рафаил  Верещагин 2018-05-25   \n",
       "4        1000   52        NaT    Краснодар     Рафаил  Верещагин 2018-05-25   \n",
       "...       ...  ...        ...          ...        ...        ...        ...   \n",
       "3211     1498   68 2018-10-25  Владикавказ   Всеволод    Акимчин 2018-07-19   \n",
       "3212     1499   35        NaT        Пермь     Гектор   Корнилов 2018-09-27   \n",
       "3213     1499   35        NaT        Пермь     Гектор   Корнилов 2018-09-27   \n",
       "3214     1499   35        NaT        Пермь     Гектор   Корнилов 2018-09-27   \n",
       "3215     1499   35        NaT        Пермь     Гектор   Корнилов 2018-09-27   \n",
       "\n",
       "     tariff      month  traffic_sum  calls_duration  calls_count  \\\n",
       "0     ultra 2018-05-01          3.0           159.0         22.0   \n",
       "1     ultra 2018-06-01         23.0           172.0         43.0   \n",
       "2     ultra 2018-07-01         14.0           340.0         47.0   \n",
       "3     ultra 2018-08-01         14.0           408.0         52.0   \n",
       "4     ultra 2018-09-01         15.0           466.0         58.0   \n",
       "...     ...        ...          ...             ...          ...   \n",
       "3211  smart 2018-10-01         21.0           247.0         41.0   \n",
       "3212  smart 2018-09-01          2.0            70.0          9.0   \n",
       "3213  smart 2018-10-01         18.0           449.0         68.0   \n",
       "3214  smart 2018-11-01         18.0           612.0         74.0   \n",
       "3215  smart 2018-12-01         13.0           492.0         69.0   \n",
       "\n",
       "      messages_count        income  \n",
       "0               22.0  1.950000e+09  \n",
       "1               60.0  1.950000e+09  \n",
       "2               75.0  1.950000e+09  \n",
       "3               81.0  1.950000e+09  \n",
       "4               57.0  1.950000e+09  \n",
       "...              ...           ...  \n",
       "3211            42.0  1.750000e+09  \n",
       "3212            11.0  5.500000e+08  \n",
       "3213            48.0  1.150000e+09  \n",
       "3214            59.0  1.513000e+09  \n",
       "3215            66.0  5.980000e+08  \n",
       "\n",
       "[3216 rows x 14 columns]"
      ]
     },
     "execution_count": 35,
     "metadata": {},
     "output_type": "execute_result"
    }
   ],
   "source": [
    "\n",
    "df"
   ]
  },
  {
   "cell_type": "markdown",
   "id": "612aa2a6",
   "metadata": {},
   "source": [
    "### Вывод\n",
    "\n",
    "Мы подготовили исходные таблицы, убрали лишние столбцы и заменили типы данных, там где это было необзодимо.\n",
    "\n",
    "Посчитали для каждого пользователя:\n",
    "\n",
    "    количество сделанных звонков и израсходованных минут разговора по месяцам;\n",
    "    количество отправленных сообщений по месяцам;\n",
    "    объем израсходованного интернет-трафика по месяцам;\n",
    "    помесячную выручку с каждого пользователя.\n",
    "    \n",
    "Теперь можно приступать к анализу данных."
   ]
  },
  {
   "cell_type": "markdown",
   "id": "dbf7aa11",
   "metadata": {},
   "source": [
    "## Часть 3. Анализ данных.<a id=\"step3\"></a>\n",
    "\n",
    "Опишем поведение клиентов оператора, исходя из выборки. Сколько минут разговора, сколько сообщений и какой объём интернет-трафика требуется пользователям каждого тарифа в месяц. Посчитаем среднее количество, дисперсию и стандартное отклонение."
   ]
  },
  {
   "cell_type": "code",
   "execution_count": 19,
   "id": "ebe1c910",
   "metadata": {},
   "outputs": [
    {
     "data": {
      "text/html": [
       "<div>\n",
       "<style scoped>\n",
       "    .dataframe tbody tr th:only-of-type {\n",
       "        vertical-align: middle;\n",
       "    }\n",
       "\n",
       "    .dataframe tbody tr th {\n",
       "        vertical-align: top;\n",
       "    }\n",
       "\n",
       "    .dataframe thead th {\n",
       "        text-align: right;\n",
       "    }\n",
       "</style>\n",
       "<table border=\"1\" class=\"dataframe\">\n",
       "  <thead>\n",
       "    <tr style=\"text-align: right;\">\n",
       "      <th></th>\n",
       "      <th>tariff</th>\n",
       "      <th>smart</th>\n",
       "      <th>ultra</th>\n",
       "    </tr>\n",
       "  </thead>\n",
       "  <tbody>\n",
       "    <tr>\n",
       "      <td rowspan=\"4\" valign=\"top\">mean</td>\n",
       "      <td>calls_duration</td>\n",
       "      <td>419.06</td>\n",
       "      <td>545.45</td>\n",
       "    </tr>\n",
       "    <tr>\n",
       "      <td>income</td>\n",
       "      <td>1289.97</td>\n",
       "      <td>2070.15</td>\n",
       "    </tr>\n",
       "    <tr>\n",
       "      <td>messages_count</td>\n",
       "      <td>38.72</td>\n",
       "      <td>61.16</td>\n",
       "    </tr>\n",
       "    <tr>\n",
       "      <td>traffic_sum</td>\n",
       "      <td>16.34</td>\n",
       "      <td>19.69</td>\n",
       "    </tr>\n",
       "    <tr>\n",
       "      <td rowspan=\"4\" valign=\"top\">var</td>\n",
       "      <td>calls_duration</td>\n",
       "      <td>35844.19</td>\n",
       "      <td>94203.42</td>\n",
       "    </tr>\n",
       "    <tr>\n",
       "      <td>income</td>\n",
       "      <td>669785.71</td>\n",
       "      <td>141516.75</td>\n",
       "    </tr>\n",
       "    <tr>\n",
       "      <td>messages_count</td>\n",
       "      <td>717.59</td>\n",
       "      <td>2109.66</td>\n",
       "    </tr>\n",
       "    <tr>\n",
       "      <td>traffic_sum</td>\n",
       "      <td>32.92</td>\n",
       "      <td>94.15</td>\n",
       "    </tr>\n",
       "    <tr>\n",
       "      <td rowspan=\"4\" valign=\"top\">std</td>\n",
       "      <td>calls_duration</td>\n",
       "      <td>189.33</td>\n",
       "      <td>306.93</td>\n",
       "    </tr>\n",
       "    <tr>\n",
       "      <td>income</td>\n",
       "      <td>818.40</td>\n",
       "      <td>376.19</td>\n",
       "    </tr>\n",
       "    <tr>\n",
       "      <td>messages_count</td>\n",
       "      <td>26.79</td>\n",
       "      <td>45.93</td>\n",
       "    </tr>\n",
       "    <tr>\n",
       "      <td>traffic_sum</td>\n",
       "      <td>5.74</td>\n",
       "      <td>9.70</td>\n",
       "    </tr>\n",
       "    <tr>\n",
       "      <td rowspan=\"4\" valign=\"top\">median</td>\n",
       "      <td>calls_duration</td>\n",
       "      <td>423.00</td>\n",
       "      <td>528.00</td>\n",
       "    </tr>\n",
       "    <tr>\n",
       "      <td>income</td>\n",
       "      <td>1023.00</td>\n",
       "      <td>1950.00</td>\n",
       "    </tr>\n",
       "    <tr>\n",
       "      <td>messages_count</td>\n",
       "      <td>34.00</td>\n",
       "      <td>51.00</td>\n",
       "    </tr>\n",
       "    <tr>\n",
       "      <td>traffic_sum</td>\n",
       "      <td>17.00</td>\n",
       "      <td>19.00</td>\n",
       "    </tr>\n",
       "  </tbody>\n",
       "</table>\n",
       "</div>"
      ],
      "text/plain": [
       "tariff                     smart      ultra\n",
       "mean   calls_duration     419.06     545.45\n",
       "       income            1289.97    2070.15\n",
       "       messages_count      38.72      61.16\n",
       "       traffic_sum         16.34      19.69\n",
       "var    calls_duration   35844.19   94203.42\n",
       "       income          669785.71  141516.75\n",
       "       messages_count     717.59    2109.66\n",
       "       traffic_sum         32.92      94.15\n",
       "std    calls_duration     189.33     306.93\n",
       "       income             818.40     376.19\n",
       "       messages_count      26.79      45.93\n",
       "       traffic_sum          5.74       9.70\n",
       "median calls_duration     423.00     528.00\n",
       "       income            1023.00    1950.00\n",
       "       messages_count      34.00      51.00\n",
       "       traffic_sum         17.00      19.00"
      ]
     },
     "execution_count": 19,
     "metadata": {},
     "output_type": "execute_result"
    }
   ],
   "source": [
    "df.pivot_table(\n",
    "    index='tariff',\n",
    "    values=['calls_duration', 'messages_count', 'traffic_sum', 'income'],\n",
    "    aggfunc=['mean', 'var', 'std', 'median']\n",
    ").round(decimals=2).transpose()"
   ]
  },
  {
   "cell_type": "markdown",
   "id": "04a028d8",
   "metadata": {},
   "source": [
    "По сводной таблице видно, что среднее количество звонков больше на тарифе `ultra`, также как и дисперсия со стандартным отклонением.\n",
    "\n",
    "Средний доход почти в два раза выше на тарифе `ultra`, диспресия ниже более чем в 5 раз, стандартное отклонение также ниже в 2 раза.\n",
    "\n",
    "Количество смс также существенно отличается, почти в 2 раза больше на тарифе `ultra`.\n",
    "\n",
    "Средний траффик выше на тарифе `ultra`, дисперсия существенно выше в тарифе `ultra`.\n",
    "\n",
    "Построим гистограммы."
   ]
  },
  {
   "cell_type": "code",
   "execution_count": 20,
   "id": "1d69a0f3",
   "metadata": {},
   "outputs": [],
   "source": [
    "def draw_hist(*args):\n",
    "    '''\n",
    "    Функция строит гистограммы для переданных колонок, разделяя данные по тарифам.\n",
    "    '''\n",
    "    for column in args:\n",
    "        plt.figure(figsize=(15, 5))\n",
    "        plt.title(column, pad = 15, size = 16)\n",
    "        plt.xlabel(column, labelpad = 10, size = 12)\n",
    "        plt.ylabel('Количество', labelpad = 10, size = 12)\n",
    "        plt.hist(\n",
    "            [df[df['tariff'] == 'smart'][column], df[df['tariff'] == 'ultra'][column]],\n",
    "            bins=50, rwidth=1, label=['Smart', 'Ultra'], alpha=.75\n",
    "        )\n",
    "        \n",
    "        plt.grid(which='both')\n",
    "        plt.legend()\n",
    "        plt.show()"
   ]
  },
  {
   "cell_type": "code",
   "execution_count": 21,
   "id": "4f7adfca",
   "metadata": {},
   "outputs": [
    {
     "name": "stderr",
     "output_type": "stream",
     "text": [
      "/opt/conda/lib/python3.7/site-packages/numpy/core/_asarray.py:83: VisibleDeprecationWarning: Creating an ndarray from ragged nested sequences (which is a list-or-tuple of lists-or-tuples-or ndarrays with different lengths or shapes) is deprecated. If you meant to do this, you must specify 'dtype=object' when creating the ndarray\n",
      "  return array(a, dtype, copy=False, order=order)\n"
     ]
    },
    {
     "data": {
      "image/png": "[encoded data removed]",
      "text/plain": [
       "<Figure size 1080x360 with 1 Axes>"
      ]
     },
     "metadata": {
      "needs_background": "light"
     },
     "output_type": "display_data"
    },
    {
     "data": {
      "image/png": "[encoded data removed]",
      "text/plain": [
       "<Figure size 1080x360 with 1 Axes>"
      ]
     },
     "metadata": {
      "needs_background": "light"
     },
     "output_type": "display_data"
    },
    {
     "data": {
      "image/png": "[encoded data removed]",
      "text/plain": [
       "<Figure size 1080x360 with 1 Axes>"
      ]
     },
     "metadata": {
      "needs_background": "light"
     },
     "output_type": "display_data"
    },
    {
     "data": {
      "image/png": "[encoded data removed]",
      "text/plain": [
       "<Figure size 1080x360 with 1 Axes>"
      ]
     },
     "metadata": {
      "needs_background": "light"
     },
     "output_type": "display_data"
    }
   ],
   "source": [
    "draw_hist('calls_duration', 'messages_count', 'traffic_sum', 'income')"
   ]
  },
  {
   "cell_type": "markdown",
   "id": "9e9406ef",
   "metadata": {},
   "source": [
    "### Вывод\n",
    "\n",
    "Для тарифа `smart`:\n",
    "\n",
    "    гистограмма длительности звонков для смещена влево, около 40% пользователей тратят минуты сверх включённых в тариф,\n",
    "    гистограмма количества сообщений смещена вправо, значительное количество пользователей тратят смс сверх тарифа,\n",
    "    гистограмма траффика смещена влево, больше половины пользователей тратят больше чем заложено в тариф,\n",
    "    гистограмма выручки смещена вправо, значительное количество пользователей платят сверх базовой цены тарифа.\n",
    "    \n",
    "Для тарифа `ultra`:\n",
    "\n",
    "    гистограмма длительности звонков для смещена вправо, пользователи тратят едва ли половину от лимита по тарифу,\n",
    "    гистограмма количества сообщений смещена вправо, пользователи тратят только пятую часть от лимита по тарифу,\n",
    "    гистограмма траффика смещена вправо, некоторая часть пользователей потребляет больше трафика чем заложено в тариф,\n",
    "    гистограмма выручки смещена вправо, незначительное количество пользователей платят сверх базовой цены тарифа.\n",
    "    \n",
    "Проверим гипотезы."
   ]
  },
  {
   "cell_type": "markdown",
   "id": "69880716",
   "metadata": {},
   "source": [
    "## Часть 4. Проверка гипотез. <a id=\"step4\"></a>\n",
    "\n",
    "Проверим гипотезу о том что средняя выручка пользователей тарифов \"Ультра\" и \"Смарт\" различаются.\n",
    "\n",
    "Нулевой гипотезой H0 будет то что среднее значение параметра выручка генеральной совокупности пользователей тарифа \"Ультра\" не равно среднему значению выручки генеральной совокупности пользователей тарифа \"Смарт\".\n",
    "\n",
    "Альтернативной гипотезой H1 будет равенство средних параметрова выручек этих тарифов.\n",
    "\n",
    "Критерием будет уровень статистической значимости alpha, который зададим равным 5%.\n",
    "\n",
    "Ранее мы определили что дисперсии для тарифов сильно отличаются, поэтому t-тест будем проводить с параметром `equal_var = False`"
   ]
  },
  {
   "cell_type": "code",
   "execution_count": 22,
   "id": "cd17a878",
   "metadata": {},
   "outputs": [
    {
     "name": "stdout",
     "output_type": "stream",
     "text": [
      "p-значение:  4.2606313931076085e-250\n",
      "Не получилось отвергнуть нулевую гипотезу\n"
     ]
    }
   ],
   "source": [
    "alpha = .05\n",
    "\n",
    "results = st.ttest_ind(\n",
    "    df[df['tariff'] == 'smart']['income'], \n",
    "    df[df['tariff'] == 'ultra']['income'],\n",
    "    equal_var = False\n",
    ")\n",
    "\n",
    "print('p-значение: ', results.pvalue)\n",
    "\n",
    "if results.pvalue > alpha:\n",
    "    print(\"Отвергаем нулевую гипотезу\")\n",
    "else:\n",
    "    print(\"Не получилось отвергнуть нулевую гипотезу\") "
   ]
  },
  {
   "cell_type": "markdown",
   "id": "b48a8d9c",
   "metadata": {},
   "source": [
    "Проверка показала что нулевая гипотеза верна: средняя выручка по тарифам отличается.\n",
    "\n",
    "**Проверим вторую гипотезу**, о том что средняя выручка пользователей из Москвы отличается от выручки пользователей из других регионов.\n",
    "\n",
    "Нулевая гипотеза H0 заключается в том что среднее значение выручки пользователей из Москвы не равно среднему значению пользователей из других регионов.\n",
    "\n",
    "Альтернативная гипотеза H1 заключается в том что среднее значение выручки пользователей из Москвы равно среднему значению пользователей из других регионов.\n",
    "\n",
    "Критерием будет уровень статистической значимости alpha, который зададим равным 5%.\n",
    "\n",
    "Проверим дисперсии выборок пользователей для правильного использования t-теста."
   ]
  },
  {
   "cell_type": "code",
   "execution_count": 29,
   "id": "82d86382",
   "metadata": {
    "scrolled": true
   },
   "outputs": [
    {
     "name": "stdout",
     "output_type": "stream",
     "text": [
      "565636.467011886\n",
      "654137.6285218114\n"
     ]
    }
   ],
   "source": [
    "print(np.var(df[df['city'] == 'Москва']['income'], ddof=1))\n",
    "print(np.var(df[df['city'] != 'Москва']['income'], ddof=1))"
   ]
  },
  {
   "cell_type": "markdown",
   "id": "c4fb64a6",
   "metadata": {},
   "source": [
    "Дисперсия отличается, поэтому t-тест будем проводить с параметром `equal_var = False`."
   ]
  },
  {
   "cell_type": "markdown",
   "id": "2d71ec56",
   "metadata": {},
   "source": [
    "Построим распределение выручки для клиентов из Москвы и из остальных городов, посмотрим насколько они отличаются. Для начала оценим размеры выборок."
   ]
  },
  {
   "cell_type": "code",
   "execution_count": 24,
   "id": "e8ecc743",
   "metadata": {},
   "outputs": [
    {
     "name": "stdout",
     "output_type": "stream",
     "text": [
      "611\n",
      "2603\n"
     ]
    }
   ],
   "source": [
    "print(df[df['city'] == 'Москва']['income'].shape[0])\n",
    "print(df[df['city'] != 'Москва']['income'].shape[0])"
   ]
  },
  {
   "cell_type": "code",
   "execution_count": 25,
   "id": "73fa609d",
   "metadata": {},
   "outputs": [
    {
     "data": {
      "image/png": "[encoded data removed]",
      "text/plain": [
       "<Figure size 1080x360 with 1 Axes>"
      ]
     },
     "metadata": {
      "needs_background": "light"
     },
     "output_type": "display_data"
    }
   ],
   "source": [
    "plt.figure(figsize=(15, 5))\n",
    "plt.title('Распределение выручки для клиентов из Москвы и остальных городов', pad = 15, size = 16)\n",
    "plt.xlabel('Выручка, рублей', labelpad = 10, size = 12)\n",
    "plt.ylabel('Density', labelpad = 10, size = 12)\n",
    "plt.violinplot(\n",
    "    df[df['city'] == 'Москва']['income'], vert=False, showmeans=True\n",
    ")\n",
    "plt.violinplot(\n",
    "    df[df['city'] != 'Москва']['income'], vert=False, showmeans=True\n",
    ")     \n",
    "plt.grid(which='both')\n",
    "plt.show()"
   ]
  },
  {
   "cell_type": "markdown",
   "id": "737e8bf9",
   "metadata": {},
   "source": [
    "Несмотря на существенное отличие в размере выборок, распределения величин внутри выборок похожи. Максимум выше в выборке городов исключающих Москву, как и количество маленьких значений выручки. При этом в выборках практически совпадают средние.\n",
    "\n",
    "Проверим гипотезу."
   ]
  },
  {
   "cell_type": "code",
   "execution_count": 26,
   "id": "5f2ddc61",
   "metadata": {},
   "outputs": [
    {
     "name": "stdout",
     "output_type": "stream",
     "text": [
      "p-значение:  0.5257376663729298\n",
      "Отвергаем нулевую гипотезу\n"
     ]
    }
   ],
   "source": [
    "alpha = .05\n",
    "\n",
    "results = st.ttest_ind(\n",
    "    df[df['city'] == 'Москва']['income'], \n",
    "    df[df['city'] != 'Москва']['income'],\n",
    "    equal_var = False\n",
    ")\n",
    "\n",
    "print('p-значение: ', results.pvalue)\n",
    "\n",
    "if results.pvalue > alpha:\n",
    "    print(\"Отвергаем нулевую гипотезу\")\n",
    "else:\n",
    "    print(\"Не получилось отвергнуть нулевую гипотезу\") "
   ]
  },
  {
   "cell_type": "code",
   "execution_count": 27,
   "id": "c6f11e7a",
   "metadata": {},
   "outputs": [
    {
     "name": "stdout",
     "output_type": "stream",
     "text": [
      "Средняя выручка по тарифу \"Ultra\" равна: 2070 рублей.\n",
      "Средняя выручка по тарифу \"Smart\" равна: 1289 рублей.\n",
      "Средняя выручка по Москве равна: 1546 рублей.\n",
      "Средняя выручка по остальным городам равна: 1524 рублей.\n"
     ]
    }
   ],
   "source": [
    "print('Средняя выручка по тарифу \"Ultra\" равна:', int(df[df['tariff'] == 'ultra']['income'].mean()), 'рублей.')\n",
    "print('Средняя выручка по тарифу \"Smart\" равна:', int(df[df['tariff'] == 'smart']['income'].mean()), 'рублей.')\n",
    "print('Средняя выручка по Москве равна:', int(df[df['city'] == 'Москва']['income'].mean()), 'рублей.')\n",
    "print('Средняя выручка по остальным городам равна:', int(df[df['city'] != 'Москва']['income'].mean()), 'рублей.')"
   ]
  },
  {
   "cell_type": "markdown",
   "id": "76e76d22",
   "metadata": {},
   "source": [
    "### Вывод\n",
    "\n",
    "Гипотеза о том что средняя выручка пользователей тарифов \"Ультра\" и \"Смарт\" различается подтвердилась. Так же это подтверждено средними значениями: 2070 и 1289 рублей в месяц соответственно.\n",
    "\n",
    "Гипотеза о том что выручка пользователей из Москвы отличается от выручки пользователей из других регионов не подтвердилась. Средние значения вычисленные для генеральной совокупности для Москвы: 1546, для других регионов: 1524 рублей в месяц."
   ]
  },
  {
   "cell_type": "markdown",
   "id": "dddc636d",
   "metadata": {},
   "source": [
    "## Заключение<a id=\"step5\"></a>\n",
    "\n",
    "В ходе данной работы мы подготовили исходные данные:\n",
    "\n",
    "    привели к нужным типам;\n",
    "    исправили ошибки.\n",
    "    \n",
    "Для каждого пользователя посчитали:\n",
    "\n",
    "    количество сделанных звонков и израсходованных минут разговора по месяцам;\n",
    "    количество отправленных сообщений по месяцам;\n",
    "    объем израсходованного интернет-трафика по месяцам;\n",
    "    помесячную выручку.\n",
    "\n",
    "При анализе поведения клиентов оператора мы заметили:\n",
    "\n",
    "    в целом, пользователи тарифа \"smart\" часто пользуются услугами сверх нормы по тарифу, и наоборот, клиенты тарифа \"ultra\" редко выходят за лимиты.\n",
    "    Среднее количество звонков больше на тарифе `ultra`.\n",
    "    Средний доход почти в два раза выше на тарифе `ultra`.\n",
    "    Количество смс также существенно отличается, почти в 2 раза больше на тарифе `ultra`.\n",
    "    Средний траффик отличается незначительно по тарифам.\n",
    "\n",
    "Мы проверили две гипотезы.\n",
    "\n",
    "Гипотеза о том что средняя выручка пользователей тарифов \"Ультра\" и \"Смарт\" различается подтвердилась. Так же это подтверждено средними значениями: 2049.75 и 1172.97 рублей в месяц соответственно.\n",
    "\n",
    "Гипотеза о том что выручка пользователей из Москвы отличается от выручки пользователей из других регионов не подтвердилась. Средние значения вычисленные для Москвы: 1466.27, для других регионов: 1435.90 рублей в месяц.\n",
    "\n",
    "**Таким образом, по полученной выборке, можно сделать вывод о том, что несмотря на то что пользователи тарифа \"Смарт\" намного чаще пользуются услугами сверх лимитов, тариф \"Ультра\" выгоднее для компании \"Мегалайн\", т.к. при вдвое меньшем количестве пользователей приносит почти такой же доход как и тариф \"Смарт\".**"
   ]
  }
 ],
 "metadata": {
  "ExecuteTimeLog": [
   {
    "duration": 1126,
    "start_time": "2022-03-07T15:32:51.718Z"
   },
   {
    "duration": 148,
    "start_time": "2022-03-07T15:32:52.846Z"
   },
   {
    "duration": 290,
    "start_time": "2022-03-07T15:32:52.996Z"
   },
   {
    "duration": 218,
    "start_time": "2022-03-07T15:32:53.288Z"
   },
   {
    "duration": 260,
    "start_time": "2022-03-07T15:32:53.508Z"
   },
   {
    "duration": 118,
    "start_time": "2022-03-07T15:32:53.769Z"
   },
   {
    "duration": 13,
    "start_time": "2022-03-07T15:32:53.888Z"
   },
   {
    "duration": 8,
    "start_time": "2022-03-07T15:32:53.903Z"
   },
   {
    "duration": 70,
    "start_time": "2022-03-07T15:32:53.913Z"
   },
   {
    "duration": 46,
    "start_time": "2022-03-07T15:32:53.985Z"
   },
   {
    "duration": 31,
    "start_time": "2022-03-07T15:32:54.033Z"
   },
   {
    "duration": 34,
    "start_time": "2022-03-07T15:32:54.178Z"
   },
   {
    "duration": 368,
    "start_time": "2022-03-07T15:32:54.508Z"
   },
   {
    "duration": 5,
    "start_time": "2022-03-07T15:32:54.873Z"
   },
   {
    "duration": 302,
    "start_time": "2022-03-07T15:33:01.766Z"
   },
   {
    "duration": 331,
    "start_time": "2022-03-07T15:33:04.260Z"
   },
   {
    "duration": 284,
    "start_time": "2022-03-07T15:33:05.438Z"
   },
   {
    "duration": 5,
    "start_time": "2022-03-07T15:33:06.357Z"
   },
   {
    "duration": 289,
    "start_time": "2022-03-07T15:33:07.013Z"
   },
   {
    "duration": 288,
    "start_time": "2022-03-07T15:33:09.218Z"
   },
   {
    "duration": 4,
    "start_time": "2022-03-07T15:33:10.255Z"
   },
   {
    "duration": 773,
    "start_time": "2022-03-07T15:33:10.762Z"
   },
   {
    "duration": 289,
    "start_time": "2022-03-07T15:33:12.333Z"
   },
   {
    "duration": 276,
    "start_time": "2022-03-07T15:33:13.307Z"
   },
   {
    "duration": 289,
    "start_time": "2022-03-07T15:33:13.983Z"
   },
   {
    "duration": 3,
    "start_time": "2022-03-07T15:33:56.324Z"
   },
   {
    "duration": 154,
    "start_time": "2022-03-07T15:33:56.853Z"
   },
   {
    "duration": 282,
    "start_time": "2022-03-07T15:33:57.083Z"
   },
   {
    "duration": 206,
    "start_time": "2022-03-07T15:33:57.367Z"
   },
   {
    "duration": 256,
    "start_time": "2022-03-07T15:33:57.575Z"
   },
   {
    "duration": 109,
    "start_time": "2022-03-07T15:33:57.832Z"
   },
   {
    "duration": 12,
    "start_time": "2022-03-07T15:33:58.204Z"
   },
   {
    "duration": 7,
    "start_time": "2022-03-07T15:33:58.787Z"
   },
   {
    "duration": 61,
    "start_time": "2022-03-07T15:34:02.595Z"
   },
   {
    "duration": 47,
    "start_time": "2022-03-07T15:34:03.398Z"
   },
   {
    "duration": 3,
    "start_time": "2022-03-07T15:41:27.589Z"
   },
   {
    "duration": 1122,
    "start_time": "2022-03-07T15:43:35.522Z"
   },
   {
    "duration": 143,
    "start_time": "2022-03-07T15:43:36.646Z"
   },
   {
    "duration": 281,
    "start_time": "2022-03-07T15:43:36.791Z"
   },
   {
    "duration": 208,
    "start_time": "2022-03-07T15:43:37.074Z"
   },
   {
    "duration": 254,
    "start_time": "2022-03-07T15:43:37.283Z"
   },
   {
    "duration": 116,
    "start_time": "2022-03-07T15:43:37.539Z"
   },
   {
    "duration": 14,
    "start_time": "2022-03-07T15:43:37.657Z"
   },
   {
    "duration": 10,
    "start_time": "2022-03-07T15:43:37.709Z"
   },
   {
    "duration": 67,
    "start_time": "2022-03-07T15:43:38.304Z"
   },
   {
    "duration": 45,
    "start_time": "2022-03-07T15:43:38.829Z"
   },
   {
    "duration": 31,
    "start_time": "2022-03-07T15:43:39.324Z"
   },
   {
    "duration": 35,
    "start_time": "2022-03-07T15:43:39.587Z"
   },
   {
    "duration": 369,
    "start_time": "2022-03-07T15:43:40.405Z"
   },
   {
    "duration": -7,
    "start_time": "2022-03-07T15:43:40.783Z"
   },
   {
    "duration": 291,
    "start_time": "2022-03-07T15:43:41.054Z"
   },
   {
    "duration": 316,
    "start_time": "2022-03-07T15:43:41.424Z"
   },
   {
    "duration": 39,
    "start_time": "2022-03-07T15:43:41.703Z"
   },
   {
    "duration": 291,
    "start_time": "2022-03-07T15:43:41.814Z"
   },
   {
    "duration": 295,
    "start_time": "2022-03-07T15:43:42.468Z"
   },
   {
    "duration": 5,
    "start_time": "2022-03-07T15:43:42.896Z"
   },
   {
    "duration": 790,
    "start_time": "2022-03-07T15:43:43.089Z"
   },
   {
    "duration": 329,
    "start_time": "2022-03-07T15:43:44.346Z"
   },
   {
    "duration": 304,
    "start_time": "2022-03-07T15:43:45.036Z"
   },
   {
    "duration": 299,
    "start_time": "2022-03-07T15:43:45.615Z"
   },
   {
    "duration": 1482,
    "start_time": "2022-03-08T19:02:08.233Z"
   },
   {
    "duration": 210,
    "start_time": "2022-03-08T19:02:12.224Z"
   },
   {
    "duration": 450,
    "start_time": "2022-03-08T19:02:14.721Z"
   },
   {
    "duration": 293,
    "start_time": "2022-03-08T19:02:16.861Z"
   },
   {
    "duration": 380,
    "start_time": "2022-03-08T19:02:17.578Z"
   },
   {
    "duration": 137,
    "start_time": "2022-03-08T19:02:19.985Z"
   },
   {
    "duration": 24,
    "start_time": "2022-03-08T19:03:01.275Z"
   },
   {
    "duration": 14,
    "start_time": "2022-03-08T19:03:03.411Z"
   },
   {
    "duration": 107,
    "start_time": "2022-03-08T19:03:09.658Z"
   },
   {
    "duration": 72,
    "start_time": "2022-03-08T19:03:12.851Z"
   },
   {
    "duration": 49,
    "start_time": "2022-03-08T19:04:18.725Z"
   },
   {
    "duration": 54,
    "start_time": "2022-03-08T19:04:22.638Z"
   },
   {
    "duration": 500,
    "start_time": "2022-03-08T19:04:25.406Z"
   },
   {
    "duration": 12,
    "start_time": "2022-03-08T19:05:13.440Z"
   },
   {
    "duration": 54,
    "start_time": "2022-03-08T19:05:57.627Z"
   },
   {
    "duration": 12,
    "start_time": "2022-03-08T19:05:58.091Z"
   },
   {
    "duration": 42,
    "start_time": "2022-03-08T19:06:48.733Z"
   },
   {
    "duration": 19,
    "start_time": "2022-03-08T19:06:49.110Z"
   },
   {
    "duration": 52,
    "start_time": "2022-03-08T19:07:02.238Z"
   },
   {
    "duration": 11,
    "start_time": "2022-03-08T19:07:03.158Z"
   },
   {
    "duration": 1043,
    "start_time": "2022-03-09T11:45:36.603Z"
   },
   {
    "duration": 112,
    "start_time": "2022-03-09T11:45:37.648Z"
   },
   {
    "duration": 261,
    "start_time": "2022-03-09T11:45:37.763Z"
   },
   {
    "duration": 190,
    "start_time": "2022-03-09T11:45:38.026Z"
   },
   {
    "duration": 250,
    "start_time": "2022-03-09T11:45:38.217Z"
   },
   {
    "duration": 96,
    "start_time": "2022-03-09T11:45:38.469Z"
   },
   {
    "duration": 16,
    "start_time": "2022-03-09T11:45:38.567Z"
   },
   {
    "duration": 9,
    "start_time": "2022-03-09T11:45:38.586Z"
   },
   {
    "duration": 93,
    "start_time": "2022-03-09T11:45:38.597Z"
   },
   {
    "duration": 53,
    "start_time": "2022-03-09T11:45:38.692Z"
   },
   {
    "duration": 42,
    "start_time": "2022-03-09T11:45:38.747Z"
   },
   {
    "duration": 40,
    "start_time": "2022-03-09T11:45:38.791Z"
   },
   {
    "duration": 34,
    "start_time": "2022-03-09T11:45:38.833Z"
   },
   {
    "duration": 14,
    "start_time": "2022-03-09T11:45:38.869Z"
   },
   {
    "duration": 15,
    "start_time": "2022-03-09T11:45:38.885Z"
   },
   {
    "duration": 13,
    "start_time": "2022-03-09T11:45:38.902Z"
   },
   {
    "duration": 9,
    "start_time": "2022-03-09T11:45:38.917Z"
   },
   {
    "duration": 7,
    "start_time": "2022-03-09T11:45:38.928Z"
   },
   {
    "duration": 301,
    "start_time": "2022-03-09T11:45:38.936Z"
   },
   {
    "duration": 43,
    "start_time": "2022-03-09T11:45:39.239Z"
   },
   {
    "duration": 5,
    "start_time": "2022-03-09T11:45:39.284Z"
   },
   {
    "duration": 1710,
    "start_time": "2022-03-09T11:45:39.290Z"
   },
   {
    "duration": 9,
    "start_time": "2022-03-09T11:45:41.003Z"
   },
   {
    "duration": 14,
    "start_time": "2022-03-09T11:45:41.014Z"
   },
   {
    "duration": 16,
    "start_time": "2022-03-09T11:45:41.029Z"
   },
   {
    "duration": 25,
    "start_time": "2022-03-09T11:45:41.047Z"
   },
   {
    "duration": 978,
    "start_time": "2022-03-09T11:47:48.557Z"
   },
   {
    "duration": 216,
    "start_time": "2022-03-09T11:48:07.335Z"
   },
   {
    "duration": 1769,
    "start_time": "2022-03-09T11:48:12.007Z"
   },
   {
    "duration": 4,
    "start_time": "2022-03-09T11:48:20.215Z"
   },
   {
    "duration": 1772,
    "start_time": "2022-03-09T11:48:20.591Z"
   },
   {
    "duration": 15,
    "start_time": "2022-03-09T11:49:07.737Z"
   },
   {
    "duration": 17,
    "start_time": "2022-03-09T11:49:43.355Z"
   },
   {
    "duration": 14,
    "start_time": "2022-03-09T11:49:44.380Z"
   },
   {
    "duration": 17,
    "start_time": "2022-03-09T11:49:51.931Z"
   },
   {
    "duration": 2,
    "start_time": "2022-03-09T11:49:52.964Z"
   },
   {
    "duration": 17,
    "start_time": "2022-03-09T11:50:00.276Z"
   },
   {
    "duration": 13,
    "start_time": "2022-03-09T11:50:00.940Z"
   },
   {
    "duration": 1048,
    "start_time": "2022-03-09T11:51:58.002Z"
   },
   {
    "duration": 119,
    "start_time": "2022-03-09T11:51:59.052Z"
   },
   {
    "duration": 261,
    "start_time": "2022-03-09T11:51:59.174Z"
   },
   {
    "duration": 168,
    "start_time": "2022-03-09T11:51:59.438Z"
   },
   {
    "duration": 233,
    "start_time": "2022-03-09T11:51:59.608Z"
   },
   {
    "duration": 94,
    "start_time": "2022-03-09T11:51:59.842Z"
   },
   {
    "duration": 14,
    "start_time": "2022-03-09T11:51:59.937Z"
   },
   {
    "duration": 7,
    "start_time": "2022-03-09T11:51:59.953Z"
   },
   {
    "duration": 77,
    "start_time": "2022-03-09T11:51:59.962Z"
   },
   {
    "duration": 52,
    "start_time": "2022-03-09T11:52:00.041Z"
   },
   {
    "duration": 32,
    "start_time": "2022-03-09T11:52:00.095Z"
   },
   {
    "duration": 51,
    "start_time": "2022-03-09T11:52:00.129Z"
   },
   {
    "duration": 16,
    "start_time": "2022-03-09T11:52:00.181Z"
   },
   {
    "duration": 15,
    "start_time": "2022-03-09T11:52:00.199Z"
   },
   {
    "duration": 10,
    "start_time": "2022-03-09T11:52:00.216Z"
   },
   {
    "duration": 37,
    "start_time": "2022-03-09T11:52:00.228Z"
   },
   {
    "duration": 10,
    "start_time": "2022-03-09T11:52:00.267Z"
   },
   {
    "duration": 10,
    "start_time": "2022-03-09T11:52:00.279Z"
   },
   {
    "duration": 261,
    "start_time": "2022-03-09T11:52:00.291Z"
   },
   {
    "duration": 44,
    "start_time": "2022-03-09T11:52:00.554Z"
   },
   {
    "duration": 5,
    "start_time": "2022-03-09T11:52:00.599Z"
   },
   {
    "duration": 1767,
    "start_time": "2022-03-09T11:52:00.605Z"
   },
   {
    "duration": 10,
    "start_time": "2022-03-09T11:52:02.375Z"
   },
   {
    "duration": 9,
    "start_time": "2022-03-09T11:52:02.387Z"
   },
   {
    "duration": 16,
    "start_time": "2022-03-09T11:52:02.398Z"
   },
   {
    "duration": 12,
    "start_time": "2022-03-09T11:52:02.416Z"
   },
   {
    "duration": 1031,
    "start_time": "2022-03-09T11:55:43.611Z"
   },
   {
    "duration": 117,
    "start_time": "2022-03-09T11:55:44.644Z"
   },
   {
    "duration": 268,
    "start_time": "2022-03-09T11:55:44.764Z"
   },
   {
    "duration": 191,
    "start_time": "2022-03-09T11:55:45.034Z"
   },
   {
    "duration": 251,
    "start_time": "2022-03-09T11:55:45.227Z"
   },
   {
    "duration": 94,
    "start_time": "2022-03-09T11:55:45.480Z"
   },
   {
    "duration": 16,
    "start_time": "2022-03-09T11:55:45.576Z"
   },
   {
    "duration": 9,
    "start_time": "2022-03-09T11:55:45.595Z"
   },
   {
    "duration": 96,
    "start_time": "2022-03-09T11:55:45.606Z"
   },
   {
    "duration": 59,
    "start_time": "2022-03-09T11:55:45.704Z"
   },
   {
    "duration": 46,
    "start_time": "2022-03-09T11:55:45.766Z"
   },
   {
    "duration": 49,
    "start_time": "2022-03-09T11:55:45.814Z"
   },
   {
    "duration": 26,
    "start_time": "2022-03-09T11:55:45.866Z"
   },
   {
    "duration": 15,
    "start_time": "2022-03-09T11:55:45.894Z"
   },
   {
    "duration": 10,
    "start_time": "2022-03-09T11:55:45.911Z"
   },
   {
    "duration": 12,
    "start_time": "2022-03-09T11:55:45.923Z"
   },
   {
    "duration": 8,
    "start_time": "2022-03-09T11:55:45.964Z"
   },
   {
    "duration": 10,
    "start_time": "2022-03-09T11:55:45.974Z"
   },
   {
    "duration": 452,
    "start_time": "2022-03-09T11:55:45.986Z"
   },
   {
    "duration": 45,
    "start_time": "2022-03-09T11:55:46.440Z"
   },
   {
    "duration": 4,
    "start_time": "2022-03-09T11:55:46.486Z"
   },
   {
    "duration": 1751,
    "start_time": "2022-03-09T11:55:46.492Z"
   },
   {
    "duration": 17,
    "start_time": "2022-03-09T11:55:48.246Z"
   },
   {
    "duration": 8,
    "start_time": "2022-03-09T11:55:48.265Z"
   },
   {
    "duration": 8,
    "start_time": "2022-03-09T11:55:48.275Z"
   },
   {
    "duration": 12,
    "start_time": "2022-03-09T11:55:48.285Z"
   },
   {
    "duration": 1148,
    "start_time": "2022-03-09T13:28:53.791Z"
   },
   {
    "duration": 165,
    "start_time": "2022-03-09T13:28:54.943Z"
   },
   {
    "duration": 306,
    "start_time": "2022-03-09T13:28:55.110Z"
   },
   {
    "duration": 210,
    "start_time": "2022-03-09T13:28:55.419Z"
   },
   {
    "duration": 303,
    "start_time": "2022-03-09T13:28:55.631Z"
   },
   {
    "duration": 130,
    "start_time": "2022-03-09T13:28:55.937Z"
   },
   {
    "duration": 15,
    "start_time": "2022-03-09T13:28:57.182Z"
   },
   {
    "duration": 10,
    "start_time": "2022-03-09T13:28:57.710Z"
   },
   {
    "duration": 77,
    "start_time": "2022-03-09T13:28:58.280Z"
   },
   {
    "duration": 71,
    "start_time": "2022-03-09T13:28:59.808Z"
   },
   {
    "duration": 42,
    "start_time": "2022-03-09T13:31:43.779Z"
   },
   {
    "duration": 48,
    "start_time": "2022-03-09T13:31:46.534Z"
   },
   {
    "duration": 21,
    "start_time": "2022-03-09T13:31:48.715Z"
   },
   {
    "duration": 15,
    "start_time": "2022-03-09T13:31:49.377Z"
   },
   {
    "duration": 15,
    "start_time": "2022-03-09T13:31:50.234Z"
   },
   {
    "duration": 14,
    "start_time": "2022-03-09T13:31:50.962Z"
   },
   {
    "duration": 6,
    "start_time": "2022-03-09T13:31:51.775Z"
   },
   {
    "duration": 8,
    "start_time": "2022-03-09T13:31:52.407Z"
   },
   {
    "duration": 334,
    "start_time": "2022-03-09T13:31:52.962Z"
   },
   {
    "duration": 44,
    "start_time": "2022-03-09T13:31:54.431Z"
   },
   {
    "duration": 6,
    "start_time": "2022-03-09T13:31:55.316Z"
   },
   {
    "duration": 1932,
    "start_time": "2022-03-09T13:31:56.039Z"
   },
   {
    "duration": 8,
    "start_time": "2022-03-09T13:31:57.973Z"
   },
   {
    "duration": 8,
    "start_time": "2022-03-09T13:31:58.664Z"
   },
   {
    "duration": 10,
    "start_time": "2022-03-09T13:31:59.352Z"
   },
   {
    "duration": 16,
    "start_time": "2022-03-09T13:31:59.789Z"
   },
   {
    "duration": 23,
    "start_time": "2022-03-09T13:44:28.193Z"
   },
   {
    "duration": 18,
    "start_time": "2022-03-09T13:53:01.033Z"
   },
   {
    "duration": 30,
    "start_time": "2022-03-09T13:53:07.892Z"
   },
   {
    "duration": 19,
    "start_time": "2022-03-09T13:53:26.188Z"
   },
   {
    "duration": 29,
    "start_time": "2022-03-09T13:53:44.363Z"
   },
   {
    "duration": 18,
    "start_time": "2022-03-09T13:54:20.796Z"
   },
   {
    "duration": 7,
    "start_time": "2022-03-09T13:54:32.828Z"
   },
   {
    "duration": 18,
    "start_time": "2022-03-09T13:54:39.311Z"
   },
   {
    "duration": 6,
    "start_time": "2022-03-09T13:54:43.899Z"
   },
   {
    "duration": 18,
    "start_time": "2022-03-09T13:54:47.577Z"
   },
   {
    "duration": 12,
    "start_time": "2022-03-09T13:56:22.277Z"
   },
   {
    "duration": 14,
    "start_time": "2022-03-09T13:56:28.983Z"
   },
   {
    "duration": 21,
    "start_time": "2022-03-09T13:56:35.989Z"
   },
   {
    "duration": 14,
    "start_time": "2022-03-09T13:56:41.864Z"
   },
   {
    "duration": 17,
    "start_time": "2022-03-09T13:57:23.312Z"
   },
   {
    "duration": 14,
    "start_time": "2022-03-09T13:57:34.397Z"
   },
   {
    "duration": 19,
    "start_time": "2022-03-09T13:57:38.820Z"
   },
   {
    "duration": 16,
    "start_time": "2022-03-09T13:57:49.498Z"
   },
   {
    "duration": 16,
    "start_time": "2022-03-09T13:59:57.521Z"
   },
   {
    "duration": 21,
    "start_time": "2022-03-09T14:00:01.235Z"
   },
   {
    "duration": 17,
    "start_time": "2022-03-09T14:07:11.140Z"
   },
   {
    "duration": 30,
    "start_time": "2022-03-09T14:20:46.258Z"
   },
   {
    "duration": 31,
    "start_time": "2022-03-09T14:21:02.228Z"
   },
   {
    "duration": 35,
    "start_time": "2022-03-09T14:21:53.384Z"
   },
   {
    "duration": 27,
    "start_time": "2022-03-09T14:22:04.338Z"
   },
   {
    "duration": 580,
    "start_time": "2022-03-09T14:23:29.666Z"
   },
   {
    "duration": 30,
    "start_time": "2022-03-09T14:23:44.999Z"
   },
   {
    "duration": 27,
    "start_time": "2022-03-09T14:23:50.473Z"
   },
   {
    "duration": 29,
    "start_time": "2022-03-09T14:23:55.486Z"
   },
   {
    "duration": 9,
    "start_time": "2022-03-09T14:35:19.155Z"
   },
   {
    "duration": 5,
    "start_time": "2022-03-09T14:35:56.904Z"
   },
   {
    "duration": 5,
    "start_time": "2022-03-09T14:36:03.233Z"
   },
   {
    "duration": 5,
    "start_time": "2022-03-09T14:39:40.251Z"
   },
   {
    "duration": 3,
    "start_time": "2022-03-09T14:41:26.934Z"
   },
   {
    "duration": 4,
    "start_time": "2022-03-09T14:41:31.552Z"
   },
   {
    "duration": 5,
    "start_time": "2022-03-09T14:41:34.550Z"
   },
   {
    "duration": 3,
    "start_time": "2022-03-09T14:41:41.942Z"
   },
   {
    "duration": 4,
    "start_time": "2022-03-09T14:41:46.527Z"
   },
   {
    "duration": 311,
    "start_time": "2022-03-09T14:41:53.259Z"
   },
   {
    "duration": 5,
    "start_time": "2022-03-09T14:42:02.219Z"
   },
   {
    "duration": 342,
    "start_time": "2022-03-09T14:43:03.338Z"
   },
   {
    "duration": 106,
    "start_time": "2022-03-09T14:44:14.979Z"
   },
   {
    "duration": 530,
    "start_time": "2022-03-09T15:01:57.023Z"
   },
   {
    "duration": 2076,
    "start_time": "2022-03-09T15:02:01.799Z"
   },
   {
    "duration": 6,
    "start_time": "2022-03-09T15:02:11.348Z"
   },
   {
    "duration": 2110,
    "start_time": "2022-03-09T15:02:12.266Z"
   },
   {
    "duration": 1246,
    "start_time": "2022-03-09T15:02:31.607Z"
   },
   {
    "duration": 131,
    "start_time": "2022-03-09T15:02:32.859Z"
   },
   {
    "duration": 315,
    "start_time": "2022-03-09T15:02:32.992Z"
   },
   {
    "duration": 230,
    "start_time": "2022-03-09T15:02:33.310Z"
   },
   {
    "duration": 291,
    "start_time": "2022-03-09T15:02:33.542Z"
   },
   {
    "duration": 112,
    "start_time": "2022-03-09T15:02:33.835Z"
   },
   {
    "duration": 16,
    "start_time": "2022-03-09T15:02:33.950Z"
   },
   {
    "duration": 10,
    "start_time": "2022-03-09T15:02:33.970Z"
   },
   {
    "duration": 89,
    "start_time": "2022-03-09T15:02:33.982Z"
   },
   {
    "duration": 79,
    "start_time": "2022-03-09T15:02:34.072Z"
   },
   {
    "duration": 37,
    "start_time": "2022-03-09T15:02:34.153Z"
   },
   {
    "duration": 53,
    "start_time": "2022-03-09T15:02:34.192Z"
   },
   {
    "duration": 19,
    "start_time": "2022-03-09T15:02:34.247Z"
   },
   {
    "duration": 12,
    "start_time": "2022-03-09T15:02:34.268Z"
   },
   {
    "duration": 30,
    "start_time": "2022-03-09T15:02:34.303Z"
   },
   {
    "duration": 16,
    "start_time": "2022-03-09T15:02:34.335Z"
   },
   {
    "duration": 9,
    "start_time": "2022-03-09T15:02:34.353Z"
   },
   {
    "duration": 7,
    "start_time": "2022-03-09T15:02:34.364Z"
   },
   {
    "duration": 294,
    "start_time": "2022-03-09T15:02:34.401Z"
   },
   {
    "duration": 42,
    "start_time": "2022-03-09T15:02:34.701Z"
   },
   {
    "duration": 5,
    "start_time": "2022-03-09T15:02:34.745Z"
   },
   {
    "duration": 1938,
    "start_time": "2022-03-09T15:02:34.753Z"
   },
   {
    "duration": 10,
    "start_time": "2022-03-09T15:02:36.702Z"
   },
   {
    "duration": 17,
    "start_time": "2022-03-09T15:02:36.714Z"
   },
   {
    "duration": 11,
    "start_time": "2022-03-09T15:02:36.733Z"
   },
   {
    "duration": 16,
    "start_time": "2022-03-09T15:02:36.746Z"
   },
   {
    "duration": 5,
    "start_time": "2022-03-09T15:14:49.103Z"
   },
   {
    "duration": 105,
    "start_time": "2022-03-09T15:14:58.973Z"
   },
   {
    "duration": 630,
    "start_time": "2022-03-09T15:15:24.271Z"
   },
   {
    "duration": 4,
    "start_time": "2022-03-09T15:15:33.695Z"
   },
   {
    "duration": 2114,
    "start_time": "2022-03-09T15:32:12.418Z"
   },
   {
    "duration": 1170,
    "start_time": "2022-03-09T15:32:19.807Z"
   },
   {
    "duration": 120,
    "start_time": "2022-03-09T15:32:20.980Z"
   },
   {
    "duration": 356,
    "start_time": "2022-03-09T15:32:21.103Z"
   },
   {
    "duration": 198,
    "start_time": "2022-03-09T15:32:21.461Z"
   },
   {
    "duration": 273,
    "start_time": "2022-03-09T15:32:21.661Z"
   },
   {
    "duration": 107,
    "start_time": "2022-03-09T15:32:21.936Z"
   },
   {
    "duration": 17,
    "start_time": "2022-03-09T15:32:22.044Z"
   },
   {
    "duration": 8,
    "start_time": "2022-03-09T15:32:22.064Z"
   },
   {
    "duration": 89,
    "start_time": "2022-03-09T15:32:22.075Z"
   },
   {
    "duration": 74,
    "start_time": "2022-03-09T15:32:22.166Z"
   },
   {
    "duration": 37,
    "start_time": "2022-03-09T15:32:22.242Z"
   },
   {
    "duration": 59,
    "start_time": "2022-03-09T15:32:22.281Z"
   },
   {
    "duration": 20,
    "start_time": "2022-03-09T15:32:22.342Z"
   },
   {
    "duration": 12,
    "start_time": "2022-03-09T15:32:22.364Z"
   },
   {
    "duration": 47,
    "start_time": "2022-03-09T15:32:22.379Z"
   },
   {
    "duration": 14,
    "start_time": "2022-03-09T15:32:22.428Z"
   },
   {
    "duration": 17,
    "start_time": "2022-03-09T15:32:22.445Z"
   },
   {
    "duration": 23,
    "start_time": "2022-03-09T15:32:22.464Z"
   },
   {
    "duration": 322,
    "start_time": "2022-03-09T15:32:22.489Z"
   },
   {
    "duration": 44,
    "start_time": "2022-03-09T15:32:22.813Z"
   },
   {
    "duration": 5,
    "start_time": "2022-03-09T15:32:22.859Z"
   },
   {
    "duration": 2083,
    "start_time": "2022-03-09T15:32:22.866Z"
   },
   {
    "duration": 10,
    "start_time": "2022-03-09T15:32:24.952Z"
   },
   {
    "duration": 18,
    "start_time": "2022-03-09T15:32:24.964Z"
   },
   {
    "duration": 21,
    "start_time": "2022-03-09T15:32:24.984Z"
   },
   {
    "duration": 28,
    "start_time": "2022-03-09T15:32:25.008Z"
   },
   {
    "duration": 7,
    "start_time": "2022-03-09T17:18:21.128Z"
   },
   {
    "duration": 2125,
    "start_time": "2022-03-09T17:18:30.516Z"
   },
   {
    "duration": 1073,
    "start_time": "2022-03-09T17:19:57.159Z"
   },
   {
    "duration": 136,
    "start_time": "2022-03-09T17:19:58.234Z"
   },
   {
    "duration": 310,
    "start_time": "2022-03-09T17:19:58.372Z"
   },
   {
    "duration": 202,
    "start_time": "2022-03-09T17:19:58.684Z"
   },
   {
    "duration": 280,
    "start_time": "2022-03-09T17:19:58.888Z"
   },
   {
    "duration": 90,
    "start_time": "2022-03-09T17:19:59.169Z"
   },
   {
    "duration": 17,
    "start_time": "2022-03-09T17:19:59.262Z"
   },
   {
    "duration": 10,
    "start_time": "2022-03-09T17:19:59.283Z"
   },
   {
    "duration": 98,
    "start_time": "2022-03-09T17:19:59.296Z"
   },
   {
    "duration": 61,
    "start_time": "2022-03-09T17:19:59.397Z"
   },
   {
    "duration": 41,
    "start_time": "2022-03-09T17:19:59.460Z"
   },
   {
    "duration": 51,
    "start_time": "2022-03-09T17:19:59.503Z"
   },
   {
    "duration": 20,
    "start_time": "2022-03-09T17:19:59.556Z"
   },
   {
    "duration": 35,
    "start_time": "2022-03-09T17:19:59.578Z"
   },
   {
    "duration": 34,
    "start_time": "2022-03-09T17:19:59.616Z"
   },
   {
    "duration": 33,
    "start_time": "2022-03-09T17:19:59.652Z"
   },
   {
    "duration": 11,
    "start_time": "2022-03-09T17:19:59.687Z"
   },
   {
    "duration": 15,
    "start_time": "2022-03-09T17:19:59.700Z"
   },
   {
    "duration": 343,
    "start_time": "2022-03-09T17:19:59.718Z"
   },
   {
    "duration": 58,
    "start_time": "2022-03-09T17:20:00.063Z"
   },
   {
    "duration": 7,
    "start_time": "2022-03-09T17:20:00.124Z"
   },
   {
    "duration": 2148,
    "start_time": "2022-03-09T17:20:00.133Z"
   },
   {
    "duration": 2040,
    "start_time": "2022-03-09T17:20:02.283Z"
   },
   {
    "duration": 9,
    "start_time": "2022-03-09T17:20:04.326Z"
   },
   {
    "duration": 34,
    "start_time": "2022-03-09T17:20:04.337Z"
   },
   {
    "duration": 38,
    "start_time": "2022-03-09T17:20:04.374Z"
   },
   {
    "duration": 35,
    "start_time": "2022-03-09T17:20:04.415Z"
   },
   {
    "duration": 5,
    "start_time": "2022-03-09T17:20:39.584Z"
   },
   {
    "duration": 2221,
    "start_time": "2022-03-09T17:20:41.008Z"
   },
   {
    "duration": 2421,
    "start_time": "2022-03-09T17:22:06.156Z"
   },
   {
    "duration": 9,
    "start_time": "2022-03-09T18:01:50.983Z"
   },
   {
    "duration": 11,
    "start_time": "2022-03-09T18:02:22.542Z"
   },
   {
    "duration": 16,
    "start_time": "2022-03-09T18:02:34.011Z"
   },
   {
    "duration": 9,
    "start_time": "2022-03-09T18:03:03.980Z"
   },
   {
    "duration": 7,
    "start_time": "2022-03-09T18:03:23.057Z"
   },
   {
    "duration": 1159,
    "start_time": "2022-03-10T20:40:01.757Z"
   },
   {
    "duration": 101,
    "start_time": "2022-03-10T20:40:02.918Z"
   },
   {
    "duration": 269,
    "start_time": "2022-03-10T20:40:03.021Z"
   },
   {
    "duration": 173,
    "start_time": "2022-03-10T20:40:03.292Z"
   },
   {
    "duration": 240,
    "start_time": "2022-03-10T20:40:03.467Z"
   },
   {
    "duration": 85,
    "start_time": "2022-03-10T20:40:03.709Z"
   },
   {
    "duration": 15,
    "start_time": "2022-03-10T20:40:03.796Z"
   },
   {
    "duration": 7,
    "start_time": "2022-03-10T20:40:03.814Z"
   },
   {
    "duration": 70,
    "start_time": "2022-03-10T20:40:03.824Z"
   },
   {
    "duration": 50,
    "start_time": "2022-03-10T20:40:03.896Z"
   },
   {
    "duration": 33,
    "start_time": "2022-03-10T20:40:03.948Z"
   },
   {
    "duration": 39,
    "start_time": "2022-03-10T20:40:03.982Z"
   },
   {
    "duration": 41,
    "start_time": "2022-03-10T20:40:04.023Z"
   },
   {
    "duration": 13,
    "start_time": "2022-03-10T20:40:04.066Z"
   },
   {
    "duration": 14,
    "start_time": "2022-03-10T20:40:04.081Z"
   },
   {
    "duration": 8,
    "start_time": "2022-03-10T20:40:04.097Z"
   },
   {
    "duration": 7,
    "start_time": "2022-03-10T20:40:04.107Z"
   },
   {
    "duration": 306,
    "start_time": "2022-03-10T20:40:04.115Z"
   },
   {
    "duration": 53,
    "start_time": "2022-03-10T20:40:04.424Z"
   },
   {
    "duration": 5,
    "start_time": "2022-03-10T20:40:04.480Z"
   },
   {
    "duration": 2072,
    "start_time": "2022-03-10T20:40:04.487Z"
   },
   {
    "duration": 9,
    "start_time": "2022-03-10T20:40:06.560Z"
   },
   {
    "duration": 8,
    "start_time": "2022-03-10T20:40:06.572Z"
   },
   {
    "duration": 7,
    "start_time": "2022-03-10T20:40:06.582Z"
   },
   {
    "duration": 318,
    "start_time": "2022-03-10T20:40:06.591Z"
   },
   {
    "duration": 9,
    "start_time": "2022-03-10T20:40:06.911Z"
   },
   {
    "duration": 12,
    "start_time": "2022-03-10T20:40:06.921Z"
   },
   {
    "duration": 8,
    "start_time": "2022-03-10T20:57:01.889Z"
   },
   {
    "duration": 8,
    "start_time": "2022-03-10T20:57:04.690Z"
   }
  ],
  "kernelspec": {
   "display_name": "Python 3 (ipykernel)",
   "language": "python",
   "name": "python3"
  },
  "language_info": {
   "codemirror_mode": {
    "name": "ipython",
    "version": 3
   },
   "file_extension": ".py",
   "mimetype": "text/x-python",
   "name": "python",
   "nbconvert_exporter": "python",
   "pygments_lexer": "ipython3",
   "version": "3.9.13"
  },
  "toc": {
   "base_numbering": 1,
   "nav_menu": {},
   "number_sections": true,
   "sideBar": true,
   "skip_h1_title": true,
   "title_cell": "Table of Contents",
   "title_sidebar": "Contents",
   "toc_cell": false,
   "toc_position": {},
   "toc_section_display": true,
   "toc_window_display": false
  }
 },
 "nbformat": 4,
 "nbformat_minor": 5
}
