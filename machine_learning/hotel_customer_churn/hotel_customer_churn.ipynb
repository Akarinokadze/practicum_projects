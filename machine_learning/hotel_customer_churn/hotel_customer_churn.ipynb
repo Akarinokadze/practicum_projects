{
 "cells": [
  {
   "cell_type": "markdown",
   "metadata": {},
   "source": [
    "# Прогнозирование оттока клиентов в сети отелей «Как в гостях»"
   ]
  },
  {
   "cell_type": "markdown",
   "metadata": {},
   "source": [
    "### Описание проекта\n",
    "\n",
    "Заказчик исследования — сеть отелей «Как в гостях».\n",
    "Чтобы привлечь клиентов, сеть отелей добавила на свой сайт возможность забронировать номер без предоплаты. Однако если клиент отменяет бронирование, то компания терпит убытки. Сотрудники отеля могут, например, закупить продукты к приезду гостя или просто не успеть найти другого клиента.\n",
    "Чтобы решить эту проблему, нам нужно разработать систему, которая предсказывает отказ от брони. Если модель покажет, что бронь будет отменена, то клиенту предлагается внести депозит. Размер депозита — 80% от стоимости номера за одни сутки и затрат на разовую уборку. Деньги будут списаны со счёта клиента, если он всё же отменит бронь.\n",
    "\n",
    "**Бизнес-метрика и другие данные**\n",
    "\n",
    "Основная бизнес-метрика для любой сети отелей — её прибыль. Прибыль отеля — это разница между стоимостью номера за все ночи и затраты на обслуживание: как при подготовке номера, так и при проживании постояльца.\n",
    "В отеле есть несколько типов номеров. В зависимости от типа номера назначается стоимость за одну ночь. Есть также затраты на уборку. Если клиент снял номер надолго, то убираются каждые два дня.\n",
    "Стоимость номеров отеля:\n",
    "\n",
    "    категория A: за ночь — 1 000, разовое обслуживание — 400;\n",
    "    категория B: за ночь — 800, разовое обслуживание — 350;\n",
    "    категория C: за ночь — 600, разовое обслуживание — 350;\n",
    "    категория D: за ночь — 550, разовое обслуживание — 150;\n",
    "    категория E: за ночь — 500, разовое обслуживание — 150;\n",
    "    категория F: за ночь — 450, разовое обслуживание — 150;\n",
    "    категория G: за ночь — 350, разовое обслуживание — 150.\n",
    "\n",
    "В ценовой политике отеля используются сезонные коэффициенты: весной и осенью цены повышаются на 20%, летом — на 40%.\n",
    "На разработку системы прогнозирования заложен бюджет — 400 000. При этом необходимо учесть, что внедрение модели должно окупиться за год. Затраты на разработку должны быть меньше той выручки, которую система принесёт компании."
   ]
  },
  {
   "cell_type": "markdown",
   "metadata": {},
   "source": [
    "### Описание данных\n",
    "\n",
    "В таблицах hotel_train и hotel_test содержатся одинаковые столбцы:\n",
    "\n",
    "    id — номер записи;\n",
    "    adults — количество взрослых постояльцев;\n",
    "    arrival_date_year — год заезда;\n",
    "    arrival_date_month — месяц заезда;\n",
    "    arrival_date_week_number — неделя заезда;\n",
    "    arrival_date_day_of_month — день заезда;\n",
    "    babies — количество младенцев;\n",
    "    booking_changes — количество изменений параметров заказа;\n",
    "    children — количество детей от 3 до 14 лет;\n",
    "    country — гражданство постояльца;\n",
    "    customer_type — тип заказчика:\n",
    "        Contract — договор с юридическим лицом;\n",
    "        Group — групповой заезд;\n",
    "        Transient — не связано с договором или групповым заездом;\n",
    "        Transient-party — не связано с договором или групповым заездом, но связано с бронированием типа Transient.\n",
    "    days_in_waiting_list — сколько дней заказ ожидал подтверждения;\n",
    "    distribution_channel — канал дистрибуции заказа;\n",
    "    is_canceled — отмена заказа;\n",
    "    is_repeated_guest — признак того, что гость бронирует номер второй раз;\n",
    "    lead_time — количество дней между датой бронирования и датой прибытия;\n",
    "    meal — опции заказа:\n",
    "        SC — нет дополнительных опций;\n",
    "        BB — включён завтрак;\n",
    "        HB — включён завтрак и обед;\n",
    "        FB — включён завтрак, обед и ужин.\n",
    "    previous_bookings_not_canceled — количество подтверждённых заказов у клиента;\n",
    "    previous_cancellations — количество отменённых заказов у клиента;\n",
    "    required_car_parking_spaces — необходимость места для автомобиля;\n",
    "    reserved_room_type — тип забронированной комнаты;\n",
    "    stays_in_weekend_nights — количество ночей в выходные дни;\n",
    "    stays_in_week_nights — количество ночей в будние дни;\n",
    "    total_nights — общее количество ночей;\n",
    "    total_of_special_requests — количество специальных отметок."
   ]
  },
  {
   "cell_type": "markdown",
   "metadata": {},
   "source": [
    "### План проведения работы\n",
    "\n",
    "Шаг 1. Откроем файлы с данными\n",
    "\n",
    "Шаг 2. Предобработка и исследовательский анализ данных\n",
    "   * Проверим данные и откорректируем их, если потребуется.\n",
    "   * Проведём исследовательский анализ представленных данных. Опишем найденные особенности: пропуски, выбросы.\n",
    "   \n",
    "Шаг 3. Вычислим бизнес-метрику\n",
    "   * Оценим прибыль отеля без внедрения депозитов.\n",
    "   \n",
    "Шаг 4. Разработка модели ML\n",
    "   * Обучим разные модели и оценим их качество кросс-валидацией. Выберем лучшую модель и проверим её на тестовой выборке. Опишем выводы.\n",
    "   * Выберем метрику для обучения.\n",
    "   * Оценим прибыль, которую принесёт выбранная модель за год.\n",
    "   \n",
    "Шаг 5. Выявим признаки «ненадёжного» клиента\n",
    "   * На основе исследовательского анализа данных опишем клиента, склонного к отказу от брони.\n",
    "   \n",
    "Шаг 6. Напишем общий вывод\n",
    "   * Опишем модель, которая решает задачу с наибольшей выгодой для бизнеса. Дадим бизнесу рекомендации по результатам проделанной работы."
   ]
  },
  {
   "cell_type": "markdown",
   "metadata": {},
   "source": [
    "## Загрузка и подготовка данных"
   ]
  },
  {
   "cell_type": "markdown",
   "metadata": {},
   "source": [
    "Установим дополнительную библиотеку pandas_profiling для EDA."
   ]
  },
  {
   "cell_type": "code",
   "execution_count": 1,
   "metadata": {},
   "outputs": [],
   "source": [
    "!pip install pandas_profiling -q"
   ]
  },
  {
   "cell_type": "markdown",
   "metadata": {},
   "source": [
    "Импортируем необходимые библиотеки."
   ]
  },
  {
   "cell_type": "code",
   "execution_count": 2,
   "metadata": {},
   "outputs": [],
   "source": [
    "import pandas as pd\n",
    "import numpy as np\n",
    "import os\n",
    "import seaborn as sns\n",
    "import matplotlib.pyplot as plt\n",
    "\n",
    "import pandas_profiling\n",
    "\n",
    "from statsmodels.stats.outliers_influence import variance_inflation_factor\n",
    "\n",
    "from sklearn.preprocessing import OneHotEncoder\n",
    "from sklearn.preprocessing import OrdinalEncoder\n",
    "from sklearn.preprocessing import StandardScaler\n",
    "from sklearn.compose import make_column_transformer\n",
    "from sklearn.compose import make_column_selector\n",
    "\n",
    "from sklearn.pipeline import make_pipeline\n",
    "from sklearn.model_selection import GridSearchCV\n",
    "\n",
    "from sklearn.metrics import f1_score\n",
    "from sklearn.metrics import confusion_matrix\n",
    "from sklearn.metrics import accuracy_score\n",
    "from sklearn.metrics import precision_score\n",
    "from sklearn.metrics import recall_score\n",
    "\n",
    "from sklearn.ensemble import RandomForestClassifier\n",
    "from sklearn.ensemble import AdaBoostClassifier\n",
    "from sklearn.ensemble import GradientBoostingClassifier\n",
    "from sklearn.linear_model import LogisticRegression\n",
    "from sklearn.svm import LinearSVC\n",
    "\n",
    "from sklearn import set_config\n",
    "from sklearn.dummy import DummyClassifier"
   ]
  },
  {
   "cell_type": "markdown",
   "metadata": {},
   "source": [
    "Объявим глобальные переменные."
   ]
  },
  {
   "cell_type": "code",
   "execution_count": 3,
   "metadata": {},
   "outputs": [],
   "source": [
    "# случайное зерно\n",
    "SEED = 314159"
   ]
  },
  {
   "cell_type": "markdown",
   "metadata": {},
   "source": [
    "Загрузим данные."
   ]
  },
  {
   "cell_type": "code",
   "execution_count": 4,
   "metadata": {},
   "outputs": [],
   "source": [
    "if os.path.exists('hotel_train.csv'):\n",
    "    df_train = pd.read_csv('hotel_train.csv')\n",
    "else:\n",
    "    df_train = pd.read_csv('/datasets/hotel_train.csv')\n",
    "    \n",
    "if os.path.exists('hotel_test.csv'):\n",
    "    df_test = pd.read_csv('hotel_test.csv')\n",
    "else:\n",
    "    df_test = pd.read_csv('/datasets/hotel_test.csv')"
   ]
  },
  {
   "cell_type": "markdown",
   "metadata": {},
   "source": [
    "Сделаем первичный осмотр."
   ]
  },
  {
   "cell_type": "code",
   "execution_count": 5,
   "metadata": {
    "scrolled": false
   },
   "outputs": [
    {
     "name": "stdout",
     "output_type": "stream",
     "text": [
      "<class 'pandas.core.frame.DataFrame'>\n",
      "RangeIndex: 65229 entries, 0 to 65228\n",
      "Data columns (total 25 columns):\n",
      " #   Column                          Non-Null Count  Dtype  \n",
      "---  ------                          --------------  -----  \n",
      " 0   id                              65229 non-null  int64  \n",
      " 1   is_canceled                     65229 non-null  int64  \n",
      " 2   lead_time                       65229 non-null  float64\n",
      " 3   arrival_date_year               65229 non-null  int64  \n",
      " 4   arrival_date_month              65229 non-null  object \n",
      " 5   arrival_date_week_number        65229 non-null  int64  \n",
      " 6   arrival_date_day_of_month       65229 non-null  int64  \n",
      " 7   stays_in_weekend_nights         65229 non-null  int64  \n",
      " 8   stays_in_week_nights            65229 non-null  int64  \n",
      " 9   adults                          65229 non-null  float64\n",
      " 10  children                        65229 non-null  float64\n",
      " 11  babies                          65229 non-null  float64\n",
      " 12  meal                            65229 non-null  object \n",
      " 13  country                         65229 non-null  object \n",
      " 14  distribution_channel            65229 non-null  object \n",
      " 15  is_repeated_guest               65229 non-null  int64  \n",
      " 16  previous_cancellations          65229 non-null  int64  \n",
      " 17  previous_bookings_not_canceled  65229 non-null  int64  \n",
      " 18  reserved_room_type              65229 non-null  object \n",
      " 19  booking_changes                 65229 non-null  int64  \n",
      " 20  days_in_waiting_list            65229 non-null  int64  \n",
      " 21  customer_type                   65229 non-null  object \n",
      " 22  required_car_parking_spaces     65229 non-null  int64  \n",
      " 23  total_of_special_requests       65229 non-null  int64  \n",
      " 24  total_nights                    65229 non-null  int64  \n",
      "dtypes: float64(4), int64(15), object(6)\n",
      "memory usage: 12.4+ MB\n",
      "\n",
      "<class 'pandas.core.frame.DataFrame'>\n",
      "RangeIndex: 32412 entries, 0 to 32411\n",
      "Data columns (total 25 columns):\n",
      " #   Column                          Non-Null Count  Dtype  \n",
      "---  ------                          --------------  -----  \n",
      " 0   id                              32412 non-null  int64  \n",
      " 1   is_canceled                     32412 non-null  int64  \n",
      " 2   lead_time                       32412 non-null  float64\n",
      " 3   arrival_date_year               32412 non-null  int64  \n",
      " 4   arrival_date_month              32412 non-null  object \n",
      " 5   arrival_date_week_number        32412 non-null  int64  \n",
      " 6   arrival_date_day_of_month       32412 non-null  int64  \n",
      " 7   stays_in_weekend_nights         32412 non-null  int64  \n",
      " 8   stays_in_week_nights            32412 non-null  int64  \n",
      " 9   adults                          32412 non-null  float64\n",
      " 10  children                        32412 non-null  float64\n",
      " 11  babies                          32412 non-null  float64\n",
      " 12  meal                            32412 non-null  object \n",
      " 13  country                         32412 non-null  object \n",
      " 14  distribution_channel            32412 non-null  object \n",
      " 15  is_repeated_guest               32412 non-null  int64  \n",
      " 16  previous_cancellations          32412 non-null  int64  \n",
      " 17  previous_bookings_not_canceled  32412 non-null  int64  \n",
      " 18  reserved_room_type              32412 non-null  object \n",
      " 19  booking_changes                 32412 non-null  int64  \n",
      " 20  days_in_waiting_list            32412 non-null  int64  \n",
      " 21  customer_type                   32412 non-null  object \n",
      " 22  required_car_parking_spaces     32412 non-null  int64  \n",
      " 23  total_of_special_requests       32412 non-null  int64  \n",
      " 24  total_nights                    32412 non-null  int64  \n",
      "dtypes: float64(4), int64(15), object(6)\n",
      "memory usage: 6.2+ MB\n",
      "\n"
     ]
    },
    {
     "data": {
      "text/html": [
       "<div>\n",
       "<style scoped>\n",
       "    .dataframe tbody tr th:only-of-type {\n",
       "        vertical-align: middle;\n",
       "    }\n",
       "\n",
       "    .dataframe tbody tr th {\n",
       "        vertical-align: top;\n",
       "    }\n",
       "\n",
       "    .dataframe thead th {\n",
       "        text-align: right;\n",
       "    }\n",
       "</style>\n",
       "<table border=\"1\" class=\"dataframe\">\n",
       "  <thead>\n",
       "    <tr style=\"text-align: right;\">\n",
       "      <th></th>\n",
       "      <th>id</th>\n",
       "      <th>is_canceled</th>\n",
       "      <th>lead_time</th>\n",
       "      <th>arrival_date_year</th>\n",
       "      <th>arrival_date_month</th>\n",
       "      <th>arrival_date_week_number</th>\n",
       "      <th>arrival_date_day_of_month</th>\n",
       "      <th>stays_in_weekend_nights</th>\n",
       "      <th>stays_in_week_nights</th>\n",
       "      <th>adults</th>\n",
       "      <th>...</th>\n",
       "      <th>is_repeated_guest</th>\n",
       "      <th>previous_cancellations</th>\n",
       "      <th>previous_bookings_not_canceled</th>\n",
       "      <th>reserved_room_type</th>\n",
       "      <th>booking_changes</th>\n",
       "      <th>days_in_waiting_list</th>\n",
       "      <th>customer_type</th>\n",
       "      <th>required_car_parking_spaces</th>\n",
       "      <th>total_of_special_requests</th>\n",
       "      <th>total_nights</th>\n",
       "    </tr>\n",
       "  </thead>\n",
       "  <tbody>\n",
       "    <tr>\n",
       "      <th>0</th>\n",
       "      <td>0</td>\n",
       "      <td>0</td>\n",
       "      <td>7.0</td>\n",
       "      <td>2015</td>\n",
       "      <td>July</td>\n",
       "      <td>27</td>\n",
       "      <td>1</td>\n",
       "      <td>0</td>\n",
       "      <td>1</td>\n",
       "      <td>1.0</td>\n",
       "      <td>...</td>\n",
       "      <td>0</td>\n",
       "      <td>0</td>\n",
       "      <td>0</td>\n",
       "      <td>A</td>\n",
       "      <td>0</td>\n",
       "      <td>0</td>\n",
       "      <td>Transient</td>\n",
       "      <td>0</td>\n",
       "      <td>0</td>\n",
       "      <td>1</td>\n",
       "    </tr>\n",
       "    <tr>\n",
       "      <th>1</th>\n",
       "      <td>1</td>\n",
       "      <td>0</td>\n",
       "      <td>14.0</td>\n",
       "      <td>2015</td>\n",
       "      <td>July</td>\n",
       "      <td>27</td>\n",
       "      <td>1</td>\n",
       "      <td>0</td>\n",
       "      <td>2</td>\n",
       "      <td>2.0</td>\n",
       "      <td>...</td>\n",
       "      <td>0</td>\n",
       "      <td>0</td>\n",
       "      <td>0</td>\n",
       "      <td>A</td>\n",
       "      <td>0</td>\n",
       "      <td>0</td>\n",
       "      <td>Transient</td>\n",
       "      <td>0</td>\n",
       "      <td>1</td>\n",
       "      <td>2</td>\n",
       "    </tr>\n",
       "    <tr>\n",
       "      <th>2</th>\n",
       "      <td>2</td>\n",
       "      <td>0</td>\n",
       "      <td>0.0</td>\n",
       "      <td>2015</td>\n",
       "      <td>July</td>\n",
       "      <td>27</td>\n",
       "      <td>1</td>\n",
       "      <td>0</td>\n",
       "      <td>2</td>\n",
       "      <td>2.0</td>\n",
       "      <td>...</td>\n",
       "      <td>0</td>\n",
       "      <td>0</td>\n",
       "      <td>0</td>\n",
       "      <td>C</td>\n",
       "      <td>0</td>\n",
       "      <td>0</td>\n",
       "      <td>Transient</td>\n",
       "      <td>0</td>\n",
       "      <td>0</td>\n",
       "      <td>2</td>\n",
       "    </tr>\n",
       "    <tr>\n",
       "      <th>3</th>\n",
       "      <td>3</td>\n",
       "      <td>0</td>\n",
       "      <td>9.0</td>\n",
       "      <td>2015</td>\n",
       "      <td>July</td>\n",
       "      <td>27</td>\n",
       "      <td>1</td>\n",
       "      <td>0</td>\n",
       "      <td>2</td>\n",
       "      <td>2.0</td>\n",
       "      <td>...</td>\n",
       "      <td>0</td>\n",
       "      <td>0</td>\n",
       "      <td>0</td>\n",
       "      <td>C</td>\n",
       "      <td>0</td>\n",
       "      <td>0</td>\n",
       "      <td>Transient</td>\n",
       "      <td>0</td>\n",
       "      <td>1</td>\n",
       "      <td>2</td>\n",
       "    </tr>\n",
       "    <tr>\n",
       "      <th>4</th>\n",
       "      <td>4</td>\n",
       "      <td>1</td>\n",
       "      <td>85.0</td>\n",
       "      <td>2015</td>\n",
       "      <td>July</td>\n",
       "      <td>27</td>\n",
       "      <td>1</td>\n",
       "      <td>0</td>\n",
       "      <td>3</td>\n",
       "      <td>2.0</td>\n",
       "      <td>...</td>\n",
       "      <td>0</td>\n",
       "      <td>0</td>\n",
       "      <td>0</td>\n",
       "      <td>A</td>\n",
       "      <td>0</td>\n",
       "      <td>0</td>\n",
       "      <td>Transient</td>\n",
       "      <td>0</td>\n",
       "      <td>1</td>\n",
       "      <td>3</td>\n",
       "    </tr>\n",
       "  </tbody>\n",
       "</table>\n",
       "<p>5 rows × 25 columns</p>\n",
       "</div>"
      ],
      "text/plain": [
       "   id  is_canceled  lead_time  arrival_date_year arrival_date_month  \\\n",
       "0   0            0        7.0               2015               July   \n",
       "1   1            0       14.0               2015               July   \n",
       "2   2            0        0.0               2015               July   \n",
       "3   3            0        9.0               2015               July   \n",
       "4   4            1       85.0               2015               July   \n",
       "\n",
       "   arrival_date_week_number  arrival_date_day_of_month  \\\n",
       "0                        27                          1   \n",
       "1                        27                          1   \n",
       "2                        27                          1   \n",
       "3                        27                          1   \n",
       "4                        27                          1   \n",
       "\n",
       "   stays_in_weekend_nights  stays_in_week_nights  adults  ...  \\\n",
       "0                        0                     1     1.0  ...   \n",
       "1                        0                     2     2.0  ...   \n",
       "2                        0                     2     2.0  ...   \n",
       "3                        0                     2     2.0  ...   \n",
       "4                        0                     3     2.0  ...   \n",
       "\n",
       "   is_repeated_guest  previous_cancellations previous_bookings_not_canceled  \\\n",
       "0                  0                       0                              0   \n",
       "1                  0                       0                              0   \n",
       "2                  0                       0                              0   \n",
       "3                  0                       0                              0   \n",
       "4                  0                       0                              0   \n",
       "\n",
       "  reserved_room_type booking_changes  days_in_waiting_list  customer_type  \\\n",
       "0   A                              0                     0      Transient   \n",
       "1   A                              0                     0      Transient   \n",
       "2   C                              0                     0      Transient   \n",
       "3   C                              0                     0      Transient   \n",
       "4   A                              0                     0      Transient   \n",
       "\n",
       "   required_car_parking_spaces total_of_special_requests  total_nights  \n",
       "0                            0                         0             1  \n",
       "1                            0                         1             2  \n",
       "2                            0                         0             2  \n",
       "3                            0                         1             2  \n",
       "4                            0                         1             3  \n",
       "\n",
       "[5 rows x 25 columns]"
      ]
     },
     "metadata": {},
     "output_type": "display_data"
    },
    {
     "data": {
      "text/html": [
       "<div>\n",
       "<style scoped>\n",
       "    .dataframe tbody tr th:only-of-type {\n",
       "        vertical-align: middle;\n",
       "    }\n",
       "\n",
       "    .dataframe tbody tr th {\n",
       "        vertical-align: top;\n",
       "    }\n",
       "\n",
       "    .dataframe thead th {\n",
       "        text-align: right;\n",
       "    }\n",
       "</style>\n",
       "<table border=\"1\" class=\"dataframe\">\n",
       "  <thead>\n",
       "    <tr style=\"text-align: right;\">\n",
       "      <th></th>\n",
       "      <th>id</th>\n",
       "      <th>is_canceled</th>\n",
       "      <th>lead_time</th>\n",
       "      <th>arrival_date_year</th>\n",
       "      <th>arrival_date_month</th>\n",
       "      <th>arrival_date_week_number</th>\n",
       "      <th>arrival_date_day_of_month</th>\n",
       "      <th>stays_in_weekend_nights</th>\n",
       "      <th>stays_in_week_nights</th>\n",
       "      <th>adults</th>\n",
       "      <th>...</th>\n",
       "      <th>is_repeated_guest</th>\n",
       "      <th>previous_cancellations</th>\n",
       "      <th>previous_bookings_not_canceled</th>\n",
       "      <th>reserved_room_type</th>\n",
       "      <th>booking_changes</th>\n",
       "      <th>days_in_waiting_list</th>\n",
       "      <th>customer_type</th>\n",
       "      <th>required_car_parking_spaces</th>\n",
       "      <th>total_of_special_requests</th>\n",
       "      <th>total_nights</th>\n",
       "    </tr>\n",
       "  </thead>\n",
       "  <tbody>\n",
       "    <tr>\n",
       "      <th>0</th>\n",
       "      <td>6086</td>\n",
       "      <td>1</td>\n",
       "      <td>74.0</td>\n",
       "      <td>2017</td>\n",
       "      <td>January</td>\n",
       "      <td>1</td>\n",
       "      <td>1</td>\n",
       "      <td>1</td>\n",
       "      <td>0</td>\n",
       "      <td>2.0</td>\n",
       "      <td>...</td>\n",
       "      <td>0</td>\n",
       "      <td>0</td>\n",
       "      <td>0</td>\n",
       "      <td>A</td>\n",
       "      <td>0</td>\n",
       "      <td>0</td>\n",
       "      <td>Transient</td>\n",
       "      <td>0</td>\n",
       "      <td>0</td>\n",
       "      <td>1</td>\n",
       "    </tr>\n",
       "    <tr>\n",
       "      <th>1</th>\n",
       "      <td>6087</td>\n",
       "      <td>1</td>\n",
       "      <td>62.0</td>\n",
       "      <td>2017</td>\n",
       "      <td>January</td>\n",
       "      <td>1</td>\n",
       "      <td>1</td>\n",
       "      <td>2</td>\n",
       "      <td>2</td>\n",
       "      <td>2.0</td>\n",
       "      <td>...</td>\n",
       "      <td>0</td>\n",
       "      <td>0</td>\n",
       "      <td>0</td>\n",
       "      <td>A</td>\n",
       "      <td>0</td>\n",
       "      <td>0</td>\n",
       "      <td>Transient</td>\n",
       "      <td>0</td>\n",
       "      <td>1</td>\n",
       "      <td>4</td>\n",
       "    </tr>\n",
       "    <tr>\n",
       "      <th>2</th>\n",
       "      <td>6088</td>\n",
       "      <td>1</td>\n",
       "      <td>62.0</td>\n",
       "      <td>2017</td>\n",
       "      <td>January</td>\n",
       "      <td>1</td>\n",
       "      <td>1</td>\n",
       "      <td>2</td>\n",
       "      <td>2</td>\n",
       "      <td>2.0</td>\n",
       "      <td>...</td>\n",
       "      <td>0</td>\n",
       "      <td>0</td>\n",
       "      <td>0</td>\n",
       "      <td>A</td>\n",
       "      <td>0</td>\n",
       "      <td>0</td>\n",
       "      <td>Transient</td>\n",
       "      <td>0</td>\n",
       "      <td>1</td>\n",
       "      <td>4</td>\n",
       "    </tr>\n",
       "    <tr>\n",
       "      <th>3</th>\n",
       "      <td>6089</td>\n",
       "      <td>1</td>\n",
       "      <td>71.0</td>\n",
       "      <td>2017</td>\n",
       "      <td>January</td>\n",
       "      <td>1</td>\n",
       "      <td>1</td>\n",
       "      <td>2</td>\n",
       "      <td>2</td>\n",
       "      <td>1.0</td>\n",
       "      <td>...</td>\n",
       "      <td>0</td>\n",
       "      <td>0</td>\n",
       "      <td>0</td>\n",
       "      <td>A</td>\n",
       "      <td>0</td>\n",
       "      <td>0</td>\n",
       "      <td>Transient</td>\n",
       "      <td>0</td>\n",
       "      <td>1</td>\n",
       "      <td>4</td>\n",
       "    </tr>\n",
       "    <tr>\n",
       "      <th>4</th>\n",
       "      <td>6090</td>\n",
       "      <td>1</td>\n",
       "      <td>172.0</td>\n",
       "      <td>2017</td>\n",
       "      <td>January</td>\n",
       "      <td>1</td>\n",
       "      <td>1</td>\n",
       "      <td>2</td>\n",
       "      <td>5</td>\n",
       "      <td>2.0</td>\n",
       "      <td>...</td>\n",
       "      <td>0</td>\n",
       "      <td>0</td>\n",
       "      <td>0</td>\n",
       "      <td>A</td>\n",
       "      <td>0</td>\n",
       "      <td>0</td>\n",
       "      <td>Transient</td>\n",
       "      <td>0</td>\n",
       "      <td>0</td>\n",
       "      <td>7</td>\n",
       "    </tr>\n",
       "  </tbody>\n",
       "</table>\n",
       "<p>5 rows × 25 columns</p>\n",
       "</div>"
      ],
      "text/plain": [
       "     id  is_canceled  lead_time  arrival_date_year arrival_date_month  \\\n",
       "0  6086            1       74.0               2017            January   \n",
       "1  6087            1       62.0               2017            January   \n",
       "2  6088            1       62.0               2017            January   \n",
       "3  6089            1       71.0               2017            January   \n",
       "4  6090            1      172.0               2017            January   \n",
       "\n",
       "   arrival_date_week_number  arrival_date_day_of_month  \\\n",
       "0                         1                          1   \n",
       "1                         1                          1   \n",
       "2                         1                          1   \n",
       "3                         1                          1   \n",
       "4                         1                          1   \n",
       "\n",
       "   stays_in_weekend_nights  stays_in_week_nights  adults  ...  \\\n",
       "0                        1                     0     2.0  ...   \n",
       "1                        2                     2     2.0  ...   \n",
       "2                        2                     2     2.0  ...   \n",
       "3                        2                     2     1.0  ...   \n",
       "4                        2                     5     2.0  ...   \n",
       "\n",
       "   is_repeated_guest  previous_cancellations previous_bookings_not_canceled  \\\n",
       "0                  0                       0                              0   \n",
       "1                  0                       0                              0   \n",
       "2                  0                       0                              0   \n",
       "3                  0                       0                              0   \n",
       "4                  0                       0                              0   \n",
       "\n",
       "  reserved_room_type booking_changes  days_in_waiting_list  customer_type  \\\n",
       "0   A                              0                     0      Transient   \n",
       "1   A                              0                     0      Transient   \n",
       "2   A                              0                     0      Transient   \n",
       "3   A                              0                     0      Transient   \n",
       "4   A                              0                     0      Transient   \n",
       "\n",
       "   required_car_parking_spaces total_of_special_requests  total_nights  \n",
       "0                            0                         0             1  \n",
       "1                            0                         1             4  \n",
       "2                            0                         1             4  \n",
       "3                            0                         1             4  \n",
       "4                            0                         0             7  \n",
       "\n",
       "[5 rows x 25 columns]"
      ]
     },
     "metadata": {},
     "output_type": "display_data"
    },
    {
     "data": {
      "text/html": [
       "<div>\n",
       "<style scoped>\n",
       "    .dataframe tbody tr th:only-of-type {\n",
       "        vertical-align: middle;\n",
       "    }\n",
       "\n",
       "    .dataframe tbody tr th {\n",
       "        vertical-align: top;\n",
       "    }\n",
       "\n",
       "    .dataframe thead th {\n",
       "        text-align: right;\n",
       "    }\n",
       "</style>\n",
       "<table border=\"1\" class=\"dataframe\">\n",
       "  <thead>\n",
       "    <tr style=\"text-align: right;\">\n",
       "      <th></th>\n",
       "      <th>count</th>\n",
       "      <th>mean</th>\n",
       "      <th>std</th>\n",
       "      <th>min</th>\n",
       "      <th>25%</th>\n",
       "      <th>50%</th>\n",
       "      <th>75%</th>\n",
       "      <th>max</th>\n",
       "    </tr>\n",
       "  </thead>\n",
       "  <tbody>\n",
       "    <tr>\n",
       "      <th>id</th>\n",
       "      <td>65229.0</td>\n",
       "      <td>43544.069172</td>\n",
       "      <td>25614.858971</td>\n",
       "      <td>0.0</td>\n",
       "      <td>19108.0</td>\n",
       "      <td>40554.0</td>\n",
       "      <td>67414.0</td>\n",
       "      <td>84121.0</td>\n",
       "    </tr>\n",
       "    <tr>\n",
       "      <th>is_canceled</th>\n",
       "      <td>65229.0</td>\n",
       "      <td>0.368609</td>\n",
       "      <td>0.482431</td>\n",
       "      <td>0.0</td>\n",
       "      <td>0.0</td>\n",
       "      <td>0.0</td>\n",
       "      <td>1.0</td>\n",
       "      <td>1.0</td>\n",
       "    </tr>\n",
       "    <tr>\n",
       "      <th>lead_time</th>\n",
       "      <td>65229.0</td>\n",
       "      <td>96.337917</td>\n",
       "      <td>96.127545</td>\n",
       "      <td>0.0</td>\n",
       "      <td>17.0</td>\n",
       "      <td>64.0</td>\n",
       "      <td>151.0</td>\n",
       "      <td>374.0</td>\n",
       "    </tr>\n",
       "    <tr>\n",
       "      <th>arrival_date_year</th>\n",
       "      <td>65229.0</td>\n",
       "      <td>2015.719021</td>\n",
       "      <td>0.449481</td>\n",
       "      <td>2015.0</td>\n",
       "      <td>2015.0</td>\n",
       "      <td>2016.0</td>\n",
       "      <td>2016.0</td>\n",
       "      <td>2016.0</td>\n",
       "    </tr>\n",
       "    <tr>\n",
       "      <th>arrival_date_week_number</th>\n",
       "      <td>65229.0</td>\n",
       "      <td>31.339772</td>\n",
       "      <td>13.464024</td>\n",
       "      <td>1.0</td>\n",
       "      <td>21.0</td>\n",
       "      <td>34.0</td>\n",
       "      <td>42.0</td>\n",
       "      <td>53.0</td>\n",
       "    </tr>\n",
       "    <tr>\n",
       "      <th>arrival_date_day_of_month</th>\n",
       "      <td>65229.0</td>\n",
       "      <td>15.847813</td>\n",
       "      <td>8.748182</td>\n",
       "      <td>1.0</td>\n",
       "      <td>8.0</td>\n",
       "      <td>16.0</td>\n",
       "      <td>23.0</td>\n",
       "      <td>31.0</td>\n",
       "    </tr>\n",
       "    <tr>\n",
       "      <th>stays_in_weekend_nights</th>\n",
       "      <td>65229.0</td>\n",
       "      <td>0.825185</td>\n",
       "      <td>0.853477</td>\n",
       "      <td>0.0</td>\n",
       "      <td>0.0</td>\n",
       "      <td>1.0</td>\n",
       "      <td>2.0</td>\n",
       "      <td>4.0</td>\n",
       "    </tr>\n",
       "    <tr>\n",
       "      <th>stays_in_week_nights</th>\n",
       "      <td>65229.0</td>\n",
       "      <td>2.224793</td>\n",
       "      <td>1.354992</td>\n",
       "      <td>0.0</td>\n",
       "      <td>1.0</td>\n",
       "      <td>2.0</td>\n",
       "      <td>3.0</td>\n",
       "      <td>6.0</td>\n",
       "    </tr>\n",
       "    <tr>\n",
       "      <th>adults</th>\n",
       "      <td>65229.0</td>\n",
       "      <td>1.836576</td>\n",
       "      <td>0.480245</td>\n",
       "      <td>0.0</td>\n",
       "      <td>2.0</td>\n",
       "      <td>2.0</td>\n",
       "      <td>2.0</td>\n",
       "      <td>4.0</td>\n",
       "    </tr>\n",
       "    <tr>\n",
       "      <th>children</th>\n",
       "      <td>65229.0</td>\n",
       "      <td>0.074890</td>\n",
       "      <td>0.334243</td>\n",
       "      <td>0.0</td>\n",
       "      <td>0.0</td>\n",
       "      <td>0.0</td>\n",
       "      <td>0.0</td>\n",
       "      <td>3.0</td>\n",
       "    </tr>\n",
       "    <tr>\n",
       "      <th>babies</th>\n",
       "      <td>65229.0</td>\n",
       "      <td>0.007236</td>\n",
       "      <td>0.098790</td>\n",
       "      <td>0.0</td>\n",
       "      <td>0.0</td>\n",
       "      <td>0.0</td>\n",
       "      <td>0.0</td>\n",
       "      <td>10.0</td>\n",
       "    </tr>\n",
       "    <tr>\n",
       "      <th>is_repeated_guest</th>\n",
       "      <td>65229.0</td>\n",
       "      <td>0.027151</td>\n",
       "      <td>0.162523</td>\n",
       "      <td>0.0</td>\n",
       "      <td>0.0</td>\n",
       "      <td>0.0</td>\n",
       "      <td>0.0</td>\n",
       "      <td>1.0</td>\n",
       "    </tr>\n",
       "    <tr>\n",
       "      <th>previous_cancellations</th>\n",
       "      <td>65229.0</td>\n",
       "      <td>0.128915</td>\n",
       "      <td>0.965326</td>\n",
       "      <td>0.0</td>\n",
       "      <td>0.0</td>\n",
       "      <td>0.0</td>\n",
       "      <td>0.0</td>\n",
       "      <td>26.0</td>\n",
       "    </tr>\n",
       "    <tr>\n",
       "      <th>previous_bookings_not_canceled</th>\n",
       "      <td>65229.0</td>\n",
       "      <td>0.107713</td>\n",
       "      <td>1.326638</td>\n",
       "      <td>0.0</td>\n",
       "      <td>0.0</td>\n",
       "      <td>0.0</td>\n",
       "      <td>0.0</td>\n",
       "      <td>58.0</td>\n",
       "    </tr>\n",
       "    <tr>\n",
       "      <th>booking_changes</th>\n",
       "      <td>65229.0</td>\n",
       "      <td>0.194269</td>\n",
       "      <td>0.593838</td>\n",
       "      <td>0.0</td>\n",
       "      <td>0.0</td>\n",
       "      <td>0.0</td>\n",
       "      <td>0.0</td>\n",
       "      <td>17.0</td>\n",
       "    </tr>\n",
       "    <tr>\n",
       "      <th>days_in_waiting_list</th>\n",
       "      <td>65229.0</td>\n",
       "      <td>3.334422</td>\n",
       "      <td>18.239606</td>\n",
       "      <td>0.0</td>\n",
       "      <td>0.0</td>\n",
       "      <td>0.0</td>\n",
       "      <td>0.0</td>\n",
       "      <td>259.0</td>\n",
       "    </tr>\n",
       "    <tr>\n",
       "      <th>required_car_parking_spaces</th>\n",
       "      <td>65229.0</td>\n",
       "      <td>0.056647</td>\n",
       "      <td>0.232094</td>\n",
       "      <td>0.0</td>\n",
       "      <td>0.0</td>\n",
       "      <td>0.0</td>\n",
       "      <td>0.0</td>\n",
       "      <td>3.0</td>\n",
       "    </tr>\n",
       "    <tr>\n",
       "      <th>total_of_special_requests</th>\n",
       "      <td>65229.0</td>\n",
       "      <td>0.512763</td>\n",
       "      <td>0.752590</td>\n",
       "      <td>0.0</td>\n",
       "      <td>0.0</td>\n",
       "      <td>0.0</td>\n",
       "      <td>1.0</td>\n",
       "      <td>5.0</td>\n",
       "    </tr>\n",
       "    <tr>\n",
       "      <th>total_nights</th>\n",
       "      <td>65229.0</td>\n",
       "      <td>3.049978</td>\n",
       "      <td>1.738108</td>\n",
       "      <td>1.0</td>\n",
       "      <td>2.0</td>\n",
       "      <td>3.0</td>\n",
       "      <td>4.0</td>\n",
       "      <td>10.0</td>\n",
       "    </tr>\n",
       "  </tbody>\n",
       "</table>\n",
       "</div>"
      ],
      "text/plain": [
       "                                  count          mean           std     min  \\\n",
       "id                              65229.0  43544.069172  25614.858971     0.0   \n",
       "is_canceled                     65229.0      0.368609      0.482431     0.0   \n",
       "lead_time                       65229.0     96.337917     96.127545     0.0   \n",
       "arrival_date_year               65229.0   2015.719021      0.449481  2015.0   \n",
       "arrival_date_week_number        65229.0     31.339772     13.464024     1.0   \n",
       "arrival_date_day_of_month       65229.0     15.847813      8.748182     1.0   \n",
       "stays_in_weekend_nights         65229.0      0.825185      0.853477     0.0   \n",
       "stays_in_week_nights            65229.0      2.224793      1.354992     0.0   \n",
       "adults                          65229.0      1.836576      0.480245     0.0   \n",
       "children                        65229.0      0.074890      0.334243     0.0   \n",
       "babies                          65229.0      0.007236      0.098790     0.0   \n",
       "is_repeated_guest               65229.0      0.027151      0.162523     0.0   \n",
       "previous_cancellations          65229.0      0.128915      0.965326     0.0   \n",
       "previous_bookings_not_canceled  65229.0      0.107713      1.326638     0.0   \n",
       "booking_changes                 65229.0      0.194269      0.593838     0.0   \n",
       "days_in_waiting_list            65229.0      3.334422     18.239606     0.0   \n",
       "required_car_parking_spaces     65229.0      0.056647      0.232094     0.0   \n",
       "total_of_special_requests       65229.0      0.512763      0.752590     0.0   \n",
       "total_nights                    65229.0      3.049978      1.738108     1.0   \n",
       "\n",
       "                                    25%      50%      75%      max  \n",
       "id                              19108.0  40554.0  67414.0  84121.0  \n",
       "is_canceled                         0.0      0.0      1.0      1.0  \n",
       "lead_time                          17.0     64.0    151.0    374.0  \n",
       "arrival_date_year                2015.0   2016.0   2016.0   2016.0  \n",
       "arrival_date_week_number           21.0     34.0     42.0     53.0  \n",
       "arrival_date_day_of_month           8.0     16.0     23.0     31.0  \n",
       "stays_in_weekend_nights             0.0      1.0      2.0      4.0  \n",
       "stays_in_week_nights                1.0      2.0      3.0      6.0  \n",
       "adults                              2.0      2.0      2.0      4.0  \n",
       "children                            0.0      0.0      0.0      3.0  \n",
       "babies                              0.0      0.0      0.0     10.0  \n",
       "is_repeated_guest                   0.0      0.0      0.0      1.0  \n",
       "previous_cancellations              0.0      0.0      0.0     26.0  \n",
       "previous_bookings_not_canceled      0.0      0.0      0.0     58.0  \n",
       "booking_changes                     0.0      0.0      0.0     17.0  \n",
       "days_in_waiting_list                0.0      0.0      0.0    259.0  \n",
       "required_car_parking_spaces         0.0      0.0      0.0      3.0  \n",
       "total_of_special_requests           0.0      0.0      1.0      5.0  \n",
       "total_nights                        2.0      3.0      4.0     10.0  "
      ]
     },
     "metadata": {},
     "output_type": "display_data"
    },
    {
     "data": {
      "text/html": [
       "<div>\n",
       "<style scoped>\n",
       "    .dataframe tbody tr th:only-of-type {\n",
       "        vertical-align: middle;\n",
       "    }\n",
       "\n",
       "    .dataframe tbody tr th {\n",
       "        vertical-align: top;\n",
       "    }\n",
       "\n",
       "    .dataframe thead th {\n",
       "        text-align: right;\n",
       "    }\n",
       "</style>\n",
       "<table border=\"1\" class=\"dataframe\">\n",
       "  <thead>\n",
       "    <tr style=\"text-align: right;\">\n",
       "      <th></th>\n",
       "      <th>count</th>\n",
       "      <th>mean</th>\n",
       "      <th>std</th>\n",
       "      <th>min</th>\n",
       "      <th>25%</th>\n",
       "      <th>50%</th>\n",
       "      <th>75%</th>\n",
       "      <th>max</th>\n",
       "    </tr>\n",
       "  </thead>\n",
       "  <tbody>\n",
       "    <tr>\n",
       "      <th>id</th>\n",
       "      <td>32412.0</td>\n",
       "      <td>60131.505183</td>\n",
       "      <td>29953.586177</td>\n",
       "      <td>6086.0</td>\n",
       "      <td>45291.75</td>\n",
       "      <td>53394.5</td>\n",
       "      <td>89800.25</td>\n",
       "      <td>97903.0</td>\n",
       "    </tr>\n",
       "    <tr>\n",
       "      <th>is_canceled</th>\n",
       "      <td>32412.0</td>\n",
       "      <td>0.388467</td>\n",
       "      <td>0.487409</td>\n",
       "      <td>0.0</td>\n",
       "      <td>0.00</td>\n",
       "      <td>0.0</td>\n",
       "      <td>1.00</td>\n",
       "      <td>1.0</td>\n",
       "    </tr>\n",
       "    <tr>\n",
       "      <th>lead_time</th>\n",
       "      <td>32412.0</td>\n",
       "      <td>97.587869</td>\n",
       "      <td>86.507146</td>\n",
       "      <td>0.0</td>\n",
       "      <td>23.00</td>\n",
       "      <td>76.0</td>\n",
       "      <td>155.00</td>\n",
       "      <td>373.0</td>\n",
       "    </tr>\n",
       "    <tr>\n",
       "      <th>arrival_date_year</th>\n",
       "      <td>32412.0</td>\n",
       "      <td>2017.000000</td>\n",
       "      <td>0.000000</td>\n",
       "      <td>2017.0</td>\n",
       "      <td>2017.00</td>\n",
       "      <td>2017.0</td>\n",
       "      <td>2017.00</td>\n",
       "      <td>2017.0</td>\n",
       "    </tr>\n",
       "    <tr>\n",
       "      <th>arrival_date_week_number</th>\n",
       "      <td>32412.0</td>\n",
       "      <td>17.804054</td>\n",
       "      <td>9.177384</td>\n",
       "      <td>1.0</td>\n",
       "      <td>10.00</td>\n",
       "      <td>18.0</td>\n",
       "      <td>25.00</td>\n",
       "      <td>35.0</td>\n",
       "    </tr>\n",
       "    <tr>\n",
       "      <th>arrival_date_day_of_month</th>\n",
       "      <td>32412.0</td>\n",
       "      <td>15.656948</td>\n",
       "      <td>8.766429</td>\n",
       "      <td>1.0</td>\n",
       "      <td>8.00</td>\n",
       "      <td>15.5</td>\n",
       "      <td>23.00</td>\n",
       "      <td>31.0</td>\n",
       "    </tr>\n",
       "    <tr>\n",
       "      <th>stays_in_weekend_nights</th>\n",
       "      <td>32412.0</td>\n",
       "      <td>0.867888</td>\n",
       "      <td>0.853394</td>\n",
       "      <td>0.0</td>\n",
       "      <td>0.00</td>\n",
       "      <td>1.0</td>\n",
       "      <td>2.00</td>\n",
       "      <td>4.0</td>\n",
       "    </tr>\n",
       "    <tr>\n",
       "      <th>stays_in_week_nights</th>\n",
       "      <td>32412.0</td>\n",
       "      <td>2.340090</td>\n",
       "      <td>1.375170</td>\n",
       "      <td>0.0</td>\n",
       "      <td>1.00</td>\n",
       "      <td>2.0</td>\n",
       "      <td>3.00</td>\n",
       "      <td>6.0</td>\n",
       "    </tr>\n",
       "    <tr>\n",
       "      <th>adults</th>\n",
       "      <td>32412.0</td>\n",
       "      <td>1.858602</td>\n",
       "      <td>0.489341</td>\n",
       "      <td>0.0</td>\n",
       "      <td>2.00</td>\n",
       "      <td>2.0</td>\n",
       "      <td>2.00</td>\n",
       "      <td>4.0</td>\n",
       "    </tr>\n",
       "    <tr>\n",
       "      <th>children</th>\n",
       "      <td>32412.0</td>\n",
       "      <td>0.083765</td>\n",
       "      <td>0.343470</td>\n",
       "      <td>0.0</td>\n",
       "      <td>0.00</td>\n",
       "      <td>0.0</td>\n",
       "      <td>0.00</td>\n",
       "      <td>3.0</td>\n",
       "    </tr>\n",
       "    <tr>\n",
       "      <th>babies</th>\n",
       "      <td>32412.0</td>\n",
       "      <td>0.005523</td>\n",
       "      <td>0.075757</td>\n",
       "      <td>0.0</td>\n",
       "      <td>0.00</td>\n",
       "      <td>0.0</td>\n",
       "      <td>0.00</td>\n",
       "      <td>2.0</td>\n",
       "    </tr>\n",
       "    <tr>\n",
       "      <th>is_repeated_guest</th>\n",
       "      <td>32412.0</td>\n",
       "      <td>0.031377</td>\n",
       "      <td>0.174338</td>\n",
       "      <td>0.0</td>\n",
       "      <td>0.00</td>\n",
       "      <td>0.0</td>\n",
       "      <td>0.00</td>\n",
       "      <td>1.0</td>\n",
       "    </tr>\n",
       "    <tr>\n",
       "      <th>previous_cancellations</th>\n",
       "      <td>32412.0</td>\n",
       "      <td>0.011601</td>\n",
       "      <td>0.180473</td>\n",
       "      <td>0.0</td>\n",
       "      <td>0.00</td>\n",
       "      <td>0.0</td>\n",
       "      <td>0.00</td>\n",
       "      <td>6.0</td>\n",
       "    </tr>\n",
       "    <tr>\n",
       "      <th>previous_bookings_not_canceled</th>\n",
       "      <td>32412.0</td>\n",
       "      <td>0.171418</td>\n",
       "      <td>1.875170</td>\n",
       "      <td>0.0</td>\n",
       "      <td>0.00</td>\n",
       "      <td>0.0</td>\n",
       "      <td>0.00</td>\n",
       "      <td>72.0</td>\n",
       "    </tr>\n",
       "    <tr>\n",
       "      <th>booking_changes</th>\n",
       "      <td>32412.0</td>\n",
       "      <td>0.216741</td>\n",
       "      <td>0.640551</td>\n",
       "      <td>0.0</td>\n",
       "      <td>0.00</td>\n",
       "      <td>0.0</td>\n",
       "      <td>0.00</td>\n",
       "      <td>18.0</td>\n",
       "    </tr>\n",
       "    <tr>\n",
       "      <th>days_in_waiting_list</th>\n",
       "      <td>32412.0</td>\n",
       "      <td>0.262341</td>\n",
       "      <td>4.733027</td>\n",
       "      <td>0.0</td>\n",
       "      <td>0.00</td>\n",
       "      <td>0.0</td>\n",
       "      <td>0.00</td>\n",
       "      <td>223.0</td>\n",
       "    </tr>\n",
       "    <tr>\n",
       "      <th>required_car_parking_spaces</th>\n",
       "      <td>32412.0</td>\n",
       "      <td>0.046248</td>\n",
       "      <td>0.219367</td>\n",
       "      <td>0.0</td>\n",
       "      <td>0.00</td>\n",
       "      <td>0.0</td>\n",
       "      <td>0.00</td>\n",
       "      <td>8.0</td>\n",
       "    </tr>\n",
       "    <tr>\n",
       "      <th>total_of_special_requests</th>\n",
       "      <td>32412.0</td>\n",
       "      <td>0.657781</td>\n",
       "      <td>0.834341</td>\n",
       "      <td>0.0</td>\n",
       "      <td>0.00</td>\n",
       "      <td>0.0</td>\n",
       "      <td>1.00</td>\n",
       "      <td>5.0</td>\n",
       "    </tr>\n",
       "    <tr>\n",
       "      <th>total_nights</th>\n",
       "      <td>32412.0</td>\n",
       "      <td>3.207979</td>\n",
       "      <td>1.738683</td>\n",
       "      <td>1.0</td>\n",
       "      <td>2.00</td>\n",
       "      <td>3.0</td>\n",
       "      <td>4.00</td>\n",
       "      <td>10.0</td>\n",
       "    </tr>\n",
       "  </tbody>\n",
       "</table>\n",
       "</div>"
      ],
      "text/plain": [
       "                                  count          mean           std     min  \\\n",
       "id                              32412.0  60131.505183  29953.586177  6086.0   \n",
       "is_canceled                     32412.0      0.388467      0.487409     0.0   \n",
       "lead_time                       32412.0     97.587869     86.507146     0.0   \n",
       "arrival_date_year               32412.0   2017.000000      0.000000  2017.0   \n",
       "arrival_date_week_number        32412.0     17.804054      9.177384     1.0   \n",
       "arrival_date_day_of_month       32412.0     15.656948      8.766429     1.0   \n",
       "stays_in_weekend_nights         32412.0      0.867888      0.853394     0.0   \n",
       "stays_in_week_nights            32412.0      2.340090      1.375170     0.0   \n",
       "adults                          32412.0      1.858602      0.489341     0.0   \n",
       "children                        32412.0      0.083765      0.343470     0.0   \n",
       "babies                          32412.0      0.005523      0.075757     0.0   \n",
       "is_repeated_guest               32412.0      0.031377      0.174338     0.0   \n",
       "previous_cancellations          32412.0      0.011601      0.180473     0.0   \n",
       "previous_bookings_not_canceled  32412.0      0.171418      1.875170     0.0   \n",
       "booking_changes                 32412.0      0.216741      0.640551     0.0   \n",
       "days_in_waiting_list            32412.0      0.262341      4.733027     0.0   \n",
       "required_car_parking_spaces     32412.0      0.046248      0.219367     0.0   \n",
       "total_of_special_requests       32412.0      0.657781      0.834341     0.0   \n",
       "total_nights                    32412.0      3.207979      1.738683     1.0   \n",
       "\n",
       "                                     25%      50%       75%      max  \n",
       "id                              45291.75  53394.5  89800.25  97903.0  \n",
       "is_canceled                         0.00      0.0      1.00      1.0  \n",
       "lead_time                          23.00     76.0    155.00    373.0  \n",
       "arrival_date_year                2017.00   2017.0   2017.00   2017.0  \n",
       "arrival_date_week_number           10.00     18.0     25.00     35.0  \n",
       "arrival_date_day_of_month           8.00     15.5     23.00     31.0  \n",
       "stays_in_weekend_nights             0.00      1.0      2.00      4.0  \n",
       "stays_in_week_nights                1.00      2.0      3.00      6.0  \n",
       "adults                              2.00      2.0      2.00      4.0  \n",
       "children                            0.00      0.0      0.00      3.0  \n",
       "babies                              0.00      0.0      0.00      2.0  \n",
       "is_repeated_guest                   0.00      0.0      0.00      1.0  \n",
       "previous_cancellations              0.00      0.0      0.00      6.0  \n",
       "previous_bookings_not_canceled      0.00      0.0      0.00     72.0  \n",
       "booking_changes                     0.00      0.0      0.00     18.0  \n",
       "days_in_waiting_list                0.00      0.0      0.00    223.0  \n",
       "required_car_parking_spaces         0.00      0.0      0.00      8.0  \n",
       "total_of_special_requests           0.00      0.0      1.00      5.0  \n",
       "total_nights                        2.00      3.0      4.00     10.0  "
      ]
     },
     "metadata": {},
     "output_type": "display_data"
    }
   ],
   "source": [
    "df_train.info()\n",
    "print()\n",
    "df_test.info()\n",
    "print()\n",
    "display(df_train.head())\n",
    "display(df_test.head())\n",
    "display(df_train.describe().transpose())\n",
    "display(df_test.describe().transpose())"
   ]
  },
  {
   "cell_type": "markdown",
   "metadata": {},
   "source": [
    "## Предобработка и исследовательский анализ данных\n",
    "\n",
    "Проверим данные и откорректируем их, если потребуется.\n",
    "\n",
    "Проведём исследовательский анализ представленных данных. Опишем найденные особенности: пропуски, выбросы."
   ]
  },
  {
   "cell_type": "markdown",
   "metadata": {},
   "source": [
    "Также для EDA воспользуемся библиотекой pandas_profiling."
   ]
  },
  {
   "cell_type": "code",
   "execution_count": 6,
   "metadata": {},
   "outputs": [
    {
     "data": {
      "application/vnd.jupyter.widget-view+json": {
       "model_id": "fccf8f90fc97492297db4d97ec88804f",
       "version_major": 2,
       "version_minor": 0
      },
      "text/plain": [
       "Summarize dataset:   0%|          | 0/5 [00:00<?, ?it/s]"
      ]
     },
     "metadata": {},
     "output_type": "display_data"
    },
    {
     "data": {
      "application/vnd.jupyter.widget-view+json": {
       "model_id": "923e90255c794d50b8b6f219a6a3f726",
       "version_major": 2,
       "version_minor": 0
      },
      "text/plain": [
       "Generate report structure:   0%|          | 0/1 [00:00<?, ?it/s]"
      ]
     },
     "metadata": {},
     "output_type": "display_data"
    },
    {
     "data": {
      "application/vnd.jupyter.widget-view+json": {
       "model_id": "ef4aaca159c54b3493b1802ca0a17f1e",
       "version_major": 2,
       "version_minor": 0
      },
      "text/plain": [
       "Render HTML:   0%|          | 0/1 [00:00<?, ?it/s]"
      ]
     },
     "metadata": {},
     "output_type": "display_data"
    },
    {
     "data": {
      "application/vnd.jupyter.widget-view+json": {
       "model_id": "1efa2572e41644b09f54b2b593d78b44",
       "version_major": 2,
       "version_minor": 0
      },
      "text/plain": [
       "Export report to file:   0%|          | 0/1 [00:00<?, ?it/s]"
      ]
     },
     "metadata": {},
     "output_type": "display_data"
    }
   ],
   "source": [
    "df_train.profile_report().to_file(\"df_train_report.html\")"
   ]
  },
  {
   "cell_type": "code",
   "execution_count": 7,
   "metadata": {},
   "outputs": [
    {
     "data": {
      "application/vnd.jupyter.widget-view+json": {
       "model_id": "1a5857ebe9e94b709423b28cebc84622",
       "version_major": 2,
       "version_minor": 0
      },
      "text/plain": [
       "Summarize dataset:   0%|          | 0/5 [00:00<?, ?it/s]"
      ]
     },
     "metadata": {},
     "output_type": "display_data"
    },
    {
     "data": {
      "application/vnd.jupyter.widget-view+json": {
       "model_id": "523951041cac4421b0f16191a61d31c8",
       "version_major": 2,
       "version_minor": 0
      },
      "text/plain": [
       "Generate report structure:   0%|          | 0/1 [00:00<?, ?it/s]"
      ]
     },
     "metadata": {},
     "output_type": "display_data"
    },
    {
     "data": {
      "application/vnd.jupyter.widget-view+json": {
       "model_id": "e5b65f73705046d8a4f658d4879239bc",
       "version_major": 2,
       "version_minor": 0
      },
      "text/plain": [
       "Render HTML:   0%|          | 0/1 [00:00<?, ?it/s]"
      ]
     },
     "metadata": {},
     "output_type": "display_data"
    },
    {
     "data": {
      "application/vnd.jupyter.widget-view+json": {
       "model_id": "a01a0b359edc499cb57074762886b1c9",
       "version_major": 2,
       "version_minor": 0
      },
      "text/plain": [
       "Export report to file:   0%|          | 0/1 [00:00<?, ?it/s]"
      ]
     },
     "metadata": {},
     "output_type": "display_data"
    }
   ],
   "source": [
    "df_test.profile_report().to_file(\"df_test_report.html\")"
   ]
  },
  {
   "cell_type": "markdown",
   "metadata": {},
   "source": [
    "Пропусков в данных нет и дубликатов нет.\n",
    "\n",
    "Столбец `id` не значимый, можно удалить."
   ]
  },
  {
   "cell_type": "code",
   "execution_count": 8,
   "metadata": {},
   "outputs": [],
   "source": [
    "df_train.drop(columns='id', inplace=True)\n",
    "df_test.drop(columns='id', inplace=True)"
   ]
  },
  {
   "cell_type": "markdown",
   "metadata": {},
   "source": [
    "В столбцах `reserved_room_type` и `meal` есть лишние пробелы, необходимо убрать."
   ]
  },
  {
   "cell_type": "code",
   "execution_count": 9,
   "metadata": {},
   "outputs": [],
   "source": [
    "df_train['reserved_room_type'] = df_train['reserved_room_type'].str.strip()\n",
    "df_test['reserved_room_type'] = df_test['reserved_room_type'].str.strip()\n",
    "df_train['meal'] = df_train['meal'].str.strip()\n",
    "df_test['meal'] = df_test['meal'].str.strip()"
   ]
  },
  {
   "cell_type": "markdown",
   "metadata": {},
   "source": [
    "Проверим на наличие дубликатов."
   ]
  },
  {
   "cell_type": "code",
   "execution_count": 10,
   "metadata": {},
   "outputs": [
    {
     "name": "stdout",
     "output_type": "stream",
     "text": [
      "False    43852\n",
      "True     21377\n",
      "dtype: int64\n",
      "False    24695\n",
      "True      7717\n",
      "dtype: int64\n"
     ]
    }
   ],
   "source": [
    "print(df_train.duplicated().value_counts())\n",
    "print(df_test.duplicated().value_counts())"
   ]
  },
  {
   "cell_type": "markdown",
   "metadata": {},
   "source": [
    "После удаления столбца `id` обнаружилось значительно количество полных дубликатов. Выяснить их природу без связи с человеком выгружавшим данные не представляется возможным. Поскольку даже без этих строк количество данных остаётся значительным - примем решение отбросить их."
   ]
  },
  {
   "cell_type": "code",
   "execution_count": 11,
   "metadata": {},
   "outputs": [],
   "source": [
    "df_train.drop_duplicates(inplace=True, ignore_index=True)\n",
    "df_test.drop_duplicates(inplace=True, ignore_index=True)"
   ]
  },
  {
   "cell_type": "markdown",
   "metadata": {},
   "source": [
    "Изучим аномальные значения используя pandas_profiling отчёт.\n",
    "\n",
    "В столбце `babies` есть по одному значению больше 2х, отбросим выбивающиеся значения."
   ]
  },
  {
   "cell_type": "code",
   "execution_count": 12,
   "metadata": {},
   "outputs": [],
   "source": [
    "df_train.drop(df_train[df_train['babies'] > 2].index, inplace=True)\n",
    "df_test.drop(df_test[df_test['babies'] > 2].index, inplace=True)"
   ]
  },
  {
   "cell_type": "markdown",
   "metadata": {},
   "source": [
    "В столбце `previous_cancellations` всего 15 уникальных значений, при этом только от 0 до 5 идут непрерывно и имеют существенную частоту. Удалим всё что выше 5."
   ]
  },
  {
   "cell_type": "code",
   "execution_count": 13,
   "metadata": {},
   "outputs": [],
   "source": [
    "df_train.drop(df_train[df_train['previous_cancellations'] > 5].index, inplace=True)\n",
    "df_test.drop(df_test[df_test['previous_cancellations'] > 5].index, inplace=True)"
   ]
  },
  {
   "cell_type": "markdown",
   "metadata": {},
   "source": [
    "В столбце `previous_bookings_not_canceled` значения распределены от 0 до 50, но значений выше 20 лишь 55 и они не непрерывны. Отбросим строчки со значением выше 20."
   ]
  },
  {
   "cell_type": "code",
   "execution_count": 14,
   "metadata": {},
   "outputs": [],
   "source": [
    "df_train.drop(df_train[df_train['previous_bookings_not_canceled'] > 20].index, inplace=True)\n",
    "df_test.drop(df_test[df_test['previous_bookings_not_canceled'] > 20].index, inplace=True)"
   ]
  },
  {
   "cell_type": "markdown",
   "metadata": {},
   "source": [
    "В столбце `booking_changes` отбросим значения выше 10."
   ]
  },
  {
   "cell_type": "code",
   "execution_count": 15,
   "metadata": {},
   "outputs": [],
   "source": [
    "df_train.drop(df_train[df_train['booking_changes'] > 10].index, inplace=True)\n",
    "df_test.drop(df_test[df_test['booking_changes'] > 10].index, inplace=True)"
   ]
  },
  {
   "cell_type": "markdown",
   "metadata": {},
   "source": [
    "В столбце `required_car_parking_spaces` отбросим значения выше 1."
   ]
  },
  {
   "cell_type": "code",
   "execution_count": 16,
   "metadata": {},
   "outputs": [],
   "source": [
    "df_train.drop(df_train[df_train['required_car_parking_spaces'] > 1].index, inplace=True)\n",
    "df_test.drop(df_test[df_test['required_car_parking_spaces'] > 1].index, inplace=True)"
   ]
  },
  {
   "cell_type": "markdown",
   "metadata": {},
   "source": [
    "Проверим невозможные бронирования.\n",
    "\n",
    "Только дети, без взрослых."
   ]
  },
  {
   "cell_type": "code",
   "execution_count": 17,
   "metadata": {},
   "outputs": [
    {
     "data": {
      "text/plain": [
       "149"
      ]
     },
     "execution_count": 17,
     "metadata": {},
     "output_type": "execute_result"
    }
   ],
   "source": [
    "df_train.query('(children > 0 | babies > 0) & adults == 0').shape[0]"
   ]
  },
  {
   "cell_type": "markdown",
   "metadata": {},
   "source": [
    "Отбросим эти значения."
   ]
  },
  {
   "cell_type": "code",
   "execution_count": 18,
   "metadata": {},
   "outputs": [],
   "source": [
    "df_train.drop(df_train.query('(children > 0 | babies > 0) & adults == 0').index, inplace=True)\n",
    "df_test.drop(df_test.query('(children > 0 | babies > 0) & adults == 0').index, inplace=True)"
   ]
  },
  {
   "cell_type": "markdown",
   "metadata": {},
   "source": [
    "Заселения без постояльцев."
   ]
  },
  {
   "cell_type": "code",
   "execution_count": 19,
   "metadata": {},
   "outputs": [
    {
     "data": {
      "text/plain": [
       "15"
      ]
     },
     "execution_count": 19,
     "metadata": {},
     "output_type": "execute_result"
    }
   ],
   "source": [
    "df_train.query('adults == 0').shape[0]"
   ]
  },
  {
   "cell_type": "markdown",
   "metadata": {},
   "source": [
    "Избавимся от этих значений."
   ]
  },
  {
   "cell_type": "code",
   "execution_count": 20,
   "metadata": {},
   "outputs": [],
   "source": [
    "df_train.drop(df_train.query('adults == 0').index, inplace=True)\n",
    "df_test.drop(df_test.query('adults == 0').index, inplace=True)"
   ]
  },
  {
   "cell_type": "markdown",
   "metadata": {},
   "source": [
    "Обновим индексы."
   ]
  },
  {
   "cell_type": "code",
   "execution_count": 21,
   "metadata": {},
   "outputs": [],
   "source": [
    "df_train.reset_index(drop=True, inplace=True)\n",
    "df_test.reset_index(drop=True, inplace=True)"
   ]
  },
  {
   "cell_type": "markdown",
   "metadata": {},
   "source": [
    "Проверим данные на мультиколлинеарность, изучив фактор инфляции дисперсии (VIF). VIF больше 5 говорит о высокой степени коллинеарности."
   ]
  },
  {
   "cell_type": "code",
   "execution_count": 22,
   "metadata": {
    "scrolled": false
   },
   "outputs": [
    {
     "name": "stderr",
     "output_type": "stream",
     "text": [
      "C:\\Users\\Admin\\.conda\\envs\\practicum\\lib\\site-packages\\statsmodels\\stats\\outliers_influence.py:195: RuntimeWarning: divide by zero encountered in double_scalars\n",
      "  vif = 1. / (1. - r_squared_i)\n"
     ]
    },
    {
     "data": {
      "text/plain": [
       "is_canceled                       1.525533\n",
       "lead_time                         2.296636\n",
       "arrival_date_week_number          5.196680\n",
       "arrival_date_day_of_month         3.862725\n",
       "stays_in_weekend_nights                inf\n",
       "stays_in_week_nights                   inf\n",
       "adults                            8.333553\n",
       "children                          1.085172\n",
       "babies                            1.032995\n",
       "is_repeated_guest                 1.617198\n",
       "previous_cancellations            1.176152\n",
       "previous_bookings_not_canceled    1.626892\n",
       "booking_changes                   1.176224\n",
       "days_in_waiting_list              1.045032\n",
       "required_car_parking_spaces       1.131049\n",
       "total_of_special_requests         1.859096\n",
       "total_nights                           inf\n",
       "dtype: float64"
      ]
     },
     "execution_count": 22,
     "metadata": {},
     "output_type": "execute_result"
    }
   ],
   "source": [
    "numeric = list(df_train.select_dtypes('number').columns)\n",
    "numeric.remove('arrival_date_year')\n",
    "\n",
    "pd.Series(\n",
    "    [variance_inflation_factor(df_train[numeric].values, i) for i in range(df_train[numeric].shape[1])],\n",
    "    index=df_train[numeric].columns\n",
    ")"
   ]
  },
  {
   "cell_type": "markdown",
   "metadata": {},
   "source": [
    "Столбцы `stays_in_week_nights`, `stays_in_weekend_nights` и `total_nights` являются мультиколлинеарными. Для корректной работы линейных моделей следует избавиться от одного. А вот столбец `adults` придётся оставить, т.к. у нас нет явной зависимости от других столбцов."
   ]
  },
  {
   "cell_type": "code",
   "execution_count": 23,
   "metadata": {},
   "outputs": [],
   "source": [
    "df_train.drop(columns='stays_in_weekend_nights', inplace=True)\n",
    "df_test.drop(columns='stays_in_weekend_nights', inplace=True)"
   ]
  },
  {
   "cell_type": "markdown",
   "metadata": {},
   "source": [
    "Проверим ещё раз коллинеарность."
   ]
  },
  {
   "cell_type": "code",
   "execution_count": 24,
   "metadata": {
    "scrolled": false
   },
   "outputs": [
    {
     "data": {
      "text/plain": [
       "is_canceled                        1.525533\n",
       "lead_time                          2.296636\n",
       "arrival_date_week_number           5.196680\n",
       "arrival_date_day_of_month          3.862725\n",
       "stays_in_week_nights              17.773192\n",
       "adults                             8.333553\n",
       "children                           1.085172\n",
       "babies                             1.032995\n",
       "is_repeated_guest                  1.617198\n",
       "previous_cancellations             1.176152\n",
       "previous_bookings_not_canceled     1.626892\n",
       "booking_changes                    1.176224\n",
       "days_in_waiting_list               1.045032\n",
       "required_car_parking_spaces        1.131049\n",
       "total_of_special_requests          1.859096\n",
       "total_nights                      20.175197\n",
       "dtype: float64"
      ]
     },
     "execution_count": 24,
     "metadata": {},
     "output_type": "execute_result"
    }
   ],
   "source": [
    "numeric = list(df_train.select_dtypes('number').columns)\n",
    "numeric.remove('arrival_date_year')\n",
    "\n",
    "pd.Series(\n",
    "    [variance_inflation_factor(df_train[numeric].values, i) for i in range(df_train[numeric].shape[1])],\n",
    "    index=df_train[numeric].columns\n",
    ")"
   ]
  },
  {
   "cell_type": "markdown",
   "metadata": {},
   "source": [
    "Высокий фактор остался у столбца `total_nights` (не можем удалить) и `stays_in_week_nights`. Если линейные модели не будут нормально конвергировать, придётся удалить и его.\n",
    "\n",
    "Заменим типы данных на более рациональные."
   ]
  },
  {
   "cell_type": "code",
   "execution_count": 25,
   "metadata": {},
   "outputs": [],
   "source": [
    "# uint8 колонки\n",
    "uint8_columns = [\n",
    "    'is_canceled', 'arrival_date_day_of_month',\n",
    "    'stays_in_week_nights', 'adults', 'children',\n",
    "    'babies', 'is_repeated_guest', 'previous_cancellations', 'previous_bookings_not_canceled',\n",
    "    'booking_changes', 'required_car_parking_spaces', 'total_of_special_requests', 'total_nights'\n",
    "]\n",
    "\n",
    "# uint16 колонки\n",
    "uint16_columns = ['lead_time', 'days_in_waiting_list']\n",
    "\n",
    "# category колонки\n",
    "category_columns = [\n",
    "    'arrival_date_year', 'arrival_date_month', 'meal', 'country',\n",
    "    'distribution_channel', 'reserved_room_type', 'customer_type'\n",
    "]\n",
    "\n",
    "# изменяем dtypes колонок\n",
    "df_train = df_train.astype({\n",
    "    **{_:'uint8' for _ in uint8_columns},\n",
    "    **{_:'uint16' for _ in uint16_columns},\n",
    "    **{_:'category' for _ in category_columns}\n",
    "})\n",
    "\n",
    "df_test = df_test.astype({\n",
    "    **{_:'uint8' for _ in uint8_columns},\n",
    "    **{_:'uint16' for _ in uint16_columns},\n",
    "    **{_:'category' for _ in category_columns}\n",
    "})"
   ]
  },
  {
   "cell_type": "code",
   "execution_count": 26,
   "metadata": {},
   "outputs": [
    {
     "name": "stdout",
     "output_type": "stream",
     "text": [
      "<class 'pandas.core.frame.DataFrame'>\n",
      "RangeIndex: 43570 entries, 0 to 43569\n",
      "Data columns (total 23 columns):\n",
      " #   Column                          Non-Null Count  Dtype   \n",
      "---  ------                          --------------  -----   \n",
      " 0   is_canceled                     43570 non-null  uint8   \n",
      " 1   lead_time                       43570 non-null  uint16  \n",
      " 2   arrival_date_year               43570 non-null  category\n",
      " 3   arrival_date_month              43570 non-null  category\n",
      " 4   arrival_date_week_number        43570 non-null  int64   \n",
      " 5   arrival_date_day_of_month       43570 non-null  uint8   \n",
      " 6   stays_in_week_nights            43570 non-null  uint8   \n",
      " 7   adults                          43570 non-null  uint8   \n",
      " 8   children                        43570 non-null  uint8   \n",
      " 9   babies                          43570 non-null  uint8   \n",
      " 10  meal                            43570 non-null  category\n",
      " 11  country                         43570 non-null  category\n",
      " 12  distribution_channel            43570 non-null  category\n",
      " 13  is_repeated_guest               43570 non-null  uint8   \n",
      " 14  previous_cancellations          43570 non-null  uint8   \n",
      " 15  previous_bookings_not_canceled  43570 non-null  uint8   \n",
      " 16  reserved_room_type              43570 non-null  category\n",
      " 17  booking_changes                 43570 non-null  uint8   \n",
      " 18  days_in_waiting_list            43570 non-null  uint16  \n",
      " 19  customer_type                   43570 non-null  category\n",
      " 20  required_car_parking_spaces     43570 non-null  uint8   \n",
      " 21  total_of_special_requests       43570 non-null  uint8   \n",
      " 22  total_nights                    43570 non-null  uint8   \n",
      "dtypes: category(7), int64(1), uint16(2), uint8(13)\n",
      "memory usage: 1.4 MB\n"
     ]
    }
   ],
   "source": [
    "df_train.info()"
   ]
  },
  {
   "cell_type": "markdown",
   "metadata": {},
   "source": [
    "### Вывод\n",
    "\n",
    "Мы загрузили данные и просмотрели основные сведения. Данные хорошо подготовлены, нет пропусков, но много дубликатов. К сожалению, от этой части данных пришлось избавиться.\n",
    "\n",
    "Удалили неинформативный столбец `id`, удалили лишние пробелы.\n",
    "\n",
    "Провели анализ выбивающихся значений и удалили их.\n",
    "\n",
    "Провели анализ на мультиколлинеарность и удалили лишние столбцы.\n",
    "\n",
    "Матрицы корреляции Пирсона показывают высокую зависимость вероятности отмены от срока между бронированием и заездом, предыдущих отмен, а также обратную зависимость от специальных заказов и бронирования парковочных мест.\n",
    "\n",
    "Провели замену типов данных на более рациональные, что позволило уменьшить размер датафреймов на 86%."
   ]
  },
  {
   "cell_type": "markdown",
   "metadata": {},
   "source": [
    "## Вычислим бизнес-метрику\n",
    "\n",
    "Оценим прибыль отеля без внедрения депозитов."
   ]
  },
  {
   "cell_type": "markdown",
   "metadata": {},
   "source": [
    "Создадим словари со значениями стоимости ночи и стоимости уборки номера по категориям, а также с коэффициентами сезонности."
   ]
  },
  {
   "cell_type": "code",
   "execution_count": 27,
   "metadata": {},
   "outputs": [],
   "source": [
    "price = {\n",
    "    'A':[1000, 400],\n",
    "    'B':[800, 350],\n",
    "    'C':[600, 350],\n",
    "    'D':[550, 150],\n",
    "    'E':[500, 150],\n",
    "    'F':[450, 150],\n",
    "    'G':[350, 150]\n",
    "}\n",
    "\n",
    "season = {\n",
    "    'January':1,\n",
    "    'February':1,\n",
    "    'March':1.2,\n",
    "    'April':1.2,\n",
    "    'May':1.2,\n",
    "    'June':1.4,\n",
    "    'July':1.4,\n",
    "    'August':1.4,\n",
    "    'September':1.2,\n",
    "    'October':1.2,\n",
    "    'November':1.2,\n",
    "    'December':1    \n",
    "}"
   ]
  },
  {
   "cell_type": "markdown",
   "metadata": {},
   "source": [
    "Напишем функцию которая вычисляет прибыль.\n",
    "\n",
    "Вспомним что многие клиенты получившие предложение внести залог могут отказаться от услуг нешего отеля. Какая часть клиентов уйдёт точно посчитать без проведения А/В тестов невозможно.\n",
    "\n",
    "Ко всем моделям добавим дополнительную метрику - доход исходя из предположения, что 50% клиентов получивших предложение о внесении залога откажутся от бронирования номера и отель не получит ничего."
   ]
  },
  {
   "cell_type": "code",
   "execution_count": 28,
   "metadata": {},
   "outputs": [],
   "source": [
    "def income(row, refuse=False):\n",
    "    \n",
    "    '''\n",
    "    Функция вычисляет доход по каждой строке, в зависимости от типа комнаты, длительности проживания.\n",
    "    С учётом сезонности и обслуживания номеров.\n",
    "    Если появляется столбец с предсказаниями - учитывает возможность удержания залога при отмене брони.\n",
    "    Если параметр refuse == True - вводит поправку на доход от очередного клиента - 50%.\n",
    "    '''\n",
    "    # введём поправку на отказником\n",
    "    if refuse:\n",
    "        ref_mod = 0.5\n",
    "    else:\n",
    "        ref_mod = 1\n",
    "    \n",
    "    # вычислим количество уборок\n",
    "    if row['total_nights'] % 2 != 0:\n",
    "        cleanings = 1 + row['total_nights'] // 2\n",
    "    else:\n",
    "        cleanings = row['total_nights'] // 2\n",
    "        \n",
    "    # вычислим доход\n",
    "    if 'is_canceled_p' not in list(row.index):\n",
    "        if row['is_canceled'] == 1:\n",
    "            return - (price[row['reserved_room_type']][0] * season[row['arrival_date_month']]\n",
    "                      + price[row['reserved_room_type']][1] * cleanings)\n",
    "        else:\n",
    "            return (price[row['reserved_room_type']][0] * row['total_nights'] * season[row['arrival_date_month']]\n",
    "                    - price[row['reserved_room_type']][1] * cleanings)\n",
    "    else:\n",
    "        if row['is_canceled'] == 1 and row['is_canceled_p'] == 0:\n",
    "            return - (price[row['reserved_room_type']][0] * season[row['arrival_date_month']]\n",
    "                      + price[row['reserved_room_type']][1] * cleanings)\n",
    "        elif row['is_canceled'] == 1 and row['is_canceled_p'] == 1:\n",
    "            return (price[row['reserved_room_type']][0] * season[row['arrival_date_month']] * .8\n",
    "                    - price[row['reserved_room_type']][1]) * ref_mod\n",
    "        elif row['is_canceled'] == 0 and row['is_canceled_p'] == 1:\n",
    "            return (price[row['reserved_room_type']][0] * row['total_nights'] * season[row['arrival_date_month']]\n",
    "                    - price[row['reserved_room_type']][1] * cleanings) * ref_mod            \n",
    "        else:\n",
    "            return (price[row['reserved_room_type']][0] * row['total_nights'] * season[row['arrival_date_month']]\n",
    "                    - price[row['reserved_room_type']][1] * cleanings)"
   ]
  },
  {
   "cell_type": "markdown",
   "metadata": {},
   "source": [
    "Применим функцию для добавления столбца с доходами."
   ]
  },
  {
   "cell_type": "code",
   "execution_count": 29,
   "metadata": {},
   "outputs": [],
   "source": [
    "df_train['income'] = df_train.apply(income, refuse=True, axis=1).astype('int32')\n",
    "df_test['income'] = df_test.apply(income, refuse=True, axis=1).astype('int32')"
   ]
  },
  {
   "cell_type": "markdown",
   "metadata": {},
   "source": [
    "Проверим некоторые случайные строки."
   ]
  },
  {
   "cell_type": "code",
   "execution_count": 30,
   "metadata": {},
   "outputs": [
    {
     "data": {
      "text/html": [
       "<div>\n",
       "<style scoped>\n",
       "    .dataframe tbody tr th:only-of-type {\n",
       "        vertical-align: middle;\n",
       "    }\n",
       "\n",
       "    .dataframe tbody tr th {\n",
       "        vertical-align: top;\n",
       "    }\n",
       "\n",
       "    .dataframe thead th {\n",
       "        text-align: right;\n",
       "    }\n",
       "</style>\n",
       "<table border=\"1\" class=\"dataframe\">\n",
       "  <thead>\n",
       "    <tr style=\"text-align: right;\">\n",
       "      <th></th>\n",
       "      <th>is_canceled</th>\n",
       "      <th>lead_time</th>\n",
       "      <th>arrival_date_year</th>\n",
       "      <th>arrival_date_month</th>\n",
       "      <th>arrival_date_week_number</th>\n",
       "      <th>arrival_date_day_of_month</th>\n",
       "      <th>stays_in_week_nights</th>\n",
       "      <th>adults</th>\n",
       "      <th>children</th>\n",
       "      <th>babies</th>\n",
       "      <th>...</th>\n",
       "      <th>previous_cancellations</th>\n",
       "      <th>previous_bookings_not_canceled</th>\n",
       "      <th>reserved_room_type</th>\n",
       "      <th>booking_changes</th>\n",
       "      <th>days_in_waiting_list</th>\n",
       "      <th>customer_type</th>\n",
       "      <th>required_car_parking_spaces</th>\n",
       "      <th>total_of_special_requests</th>\n",
       "      <th>total_nights</th>\n",
       "      <th>income</th>\n",
       "    </tr>\n",
       "  </thead>\n",
       "  <tbody>\n",
       "    <tr>\n",
       "      <th>17544</th>\n",
       "      <td>1</td>\n",
       "      <td>74</td>\n",
       "      <td>2016</td>\n",
       "      <td>March</td>\n",
       "      <td>13</td>\n",
       "      <td>24</td>\n",
       "      <td>3</td>\n",
       "      <td>2</td>\n",
       "      <td>0</td>\n",
       "      <td>0</td>\n",
       "      <td>...</td>\n",
       "      <td>0</td>\n",
       "      <td>0</td>\n",
       "      <td>D</td>\n",
       "      <td>0</td>\n",
       "      <td>0</td>\n",
       "      <td>Transient</td>\n",
       "      <td>0</td>\n",
       "      <td>0</td>\n",
       "      <td>3</td>\n",
       "      <td>-960</td>\n",
       "    </tr>\n",
       "    <tr>\n",
       "      <th>39039</th>\n",
       "      <td>0</td>\n",
       "      <td>72</td>\n",
       "      <td>2016</td>\n",
       "      <td>September</td>\n",
       "      <td>39</td>\n",
       "      <td>19</td>\n",
       "      <td>3</td>\n",
       "      <td>2</td>\n",
       "      <td>0</td>\n",
       "      <td>0</td>\n",
       "      <td>...</td>\n",
       "      <td>0</td>\n",
       "      <td>0</td>\n",
       "      <td>D</td>\n",
       "      <td>0</td>\n",
       "      <td>0</td>\n",
       "      <td>Transient</td>\n",
       "      <td>0</td>\n",
       "      <td>1</td>\n",
       "      <td>4</td>\n",
       "      <td>2340</td>\n",
       "    </tr>\n",
       "    <tr>\n",
       "      <th>9210</th>\n",
       "      <td>0</td>\n",
       "      <td>113</td>\n",
       "      <td>2016</td>\n",
       "      <td>April</td>\n",
       "      <td>18</td>\n",
       "      <td>26</td>\n",
       "      <td>2</td>\n",
       "      <td>1</td>\n",
       "      <td>0</td>\n",
       "      <td>0</td>\n",
       "      <td>...</td>\n",
       "      <td>0</td>\n",
       "      <td>0</td>\n",
       "      <td>G</td>\n",
       "      <td>1</td>\n",
       "      <td>0</td>\n",
       "      <td>Transient</td>\n",
       "      <td>0</td>\n",
       "      <td>1</td>\n",
       "      <td>2</td>\n",
       "      <td>690</td>\n",
       "    </tr>\n",
       "    <tr>\n",
       "      <th>14774</th>\n",
       "      <td>0</td>\n",
       "      <td>16</td>\n",
       "      <td>2015</td>\n",
       "      <td>September</td>\n",
       "      <td>37</td>\n",
       "      <td>9</td>\n",
       "      <td>4</td>\n",
       "      <td>2</td>\n",
       "      <td>0</td>\n",
       "      <td>0</td>\n",
       "      <td>...</td>\n",
       "      <td>0</td>\n",
       "      <td>0</td>\n",
       "      <td>A</td>\n",
       "      <td>0</td>\n",
       "      <td>0</td>\n",
       "      <td>Contract</td>\n",
       "      <td>0</td>\n",
       "      <td>3</td>\n",
       "      <td>4</td>\n",
       "      <td>4000</td>\n",
       "    </tr>\n",
       "    <tr>\n",
       "      <th>34613</th>\n",
       "      <td>0</td>\n",
       "      <td>18</td>\n",
       "      <td>2016</td>\n",
       "      <td>June</td>\n",
       "      <td>27</td>\n",
       "      <td>30</td>\n",
       "      <td>3</td>\n",
       "      <td>2</td>\n",
       "      <td>1</td>\n",
       "      <td>0</td>\n",
       "      <td>...</td>\n",
       "      <td>0</td>\n",
       "      <td>0</td>\n",
       "      <td>A</td>\n",
       "      <td>0</td>\n",
       "      <td>0</td>\n",
       "      <td>Transient</td>\n",
       "      <td>0</td>\n",
       "      <td>1</td>\n",
       "      <td>3</td>\n",
       "      <td>3400</td>\n",
       "    </tr>\n",
       "  </tbody>\n",
       "</table>\n",
       "<p>5 rows × 24 columns</p>\n",
       "</div>"
      ],
      "text/plain": [
       "       is_canceled  lead_time arrival_date_year arrival_date_month  \\\n",
       "17544            1         74              2016              March   \n",
       "39039            0         72              2016          September   \n",
       "9210             0        113              2016              April   \n",
       "14774            0         16              2015          September   \n",
       "34613            0         18              2016               June   \n",
       "\n",
       "       arrival_date_week_number  arrival_date_day_of_month  \\\n",
       "17544                        13                         24   \n",
       "39039                        39                         19   \n",
       "9210                         18                         26   \n",
       "14774                        37                          9   \n",
       "34613                        27                         30   \n",
       "\n",
       "       stays_in_week_nights  adults  children  babies  ...  \\\n",
       "17544                     3       2         0       0  ...   \n",
       "39039                     3       2         0       0  ...   \n",
       "9210                      2       1         0       0  ...   \n",
       "14774                     4       2         0       0  ...   \n",
       "34613                     3       2         1       0  ...   \n",
       "\n",
       "      previous_cancellations previous_bookings_not_canceled  \\\n",
       "17544                      0                              0   \n",
       "39039                      0                              0   \n",
       "9210                       0                              0   \n",
       "14774                      0                              0   \n",
       "34613                      0                              0   \n",
       "\n",
       "      reserved_room_type  booking_changes  days_in_waiting_list  \\\n",
       "17544                  D                0                     0   \n",
       "39039                  D                0                     0   \n",
       "9210                   G                1                     0   \n",
       "14774                  A                0                     0   \n",
       "34613                  A                0                     0   \n",
       "\n",
       "       customer_type required_car_parking_spaces  total_of_special_requests  \\\n",
       "17544      Transient                           0                          0   \n",
       "39039      Transient                           0                          1   \n",
       "9210       Transient                           0                          1   \n",
       "14774       Contract                           0                          3   \n",
       "34613      Transient                           0                          1   \n",
       "\n",
       "       total_nights income  \n",
       "17544             3   -960  \n",
       "39039             4   2340  \n",
       "9210              2    690  \n",
       "14774             4   4000  \n",
       "34613             3   3400  \n",
       "\n",
       "[5 rows x 24 columns]"
      ]
     },
     "execution_count": 30,
     "metadata": {},
     "output_type": "execute_result"
    }
   ],
   "source": [
    "df_train.sample(5)"
   ]
  },
  {
   "cell_type": "markdown",
   "metadata": {},
   "source": [
    "Посмотрим на выручку по годам."
   ]
  },
  {
   "cell_type": "code",
   "execution_count": 31,
   "metadata": {
    "scrolled": true
   },
   "outputs": [
    {
     "data": {
      "text/html": [
       "<div>\n",
       "<style scoped>\n",
       "    .dataframe tbody tr th:only-of-type {\n",
       "        vertical-align: middle;\n",
       "    }\n",
       "\n",
       "    .dataframe tbody tr th {\n",
       "        vertical-align: top;\n",
       "    }\n",
       "\n",
       "    .dataframe thead tr th {\n",
       "        text-align: left;\n",
       "    }\n",
       "\n",
       "    .dataframe thead tr:last-of-type th {\n",
       "        text-align: right;\n",
       "    }\n",
       "</style>\n",
       "<table border=\"1\" class=\"dataframe\">\n",
       "  <thead>\n",
       "    <tr>\n",
       "      <th></th>\n",
       "      <th>count</th>\n",
       "      <th>sum</th>\n",
       "      <th>mean</th>\n",
       "    </tr>\n",
       "    <tr>\n",
       "      <th></th>\n",
       "      <th>income</th>\n",
       "      <th>income</th>\n",
       "      <th>income</th>\n",
       "    </tr>\n",
       "    <tr>\n",
       "      <th>arrival_date_year</th>\n",
       "      <th></th>\n",
       "      <th></th>\n",
       "      <th></th>\n",
       "    </tr>\n",
       "  </thead>\n",
       "  <tbody>\n",
       "    <tr>\n",
       "      <th>2015</th>\n",
       "      <td>9820</td>\n",
       "      <td>18330956</td>\n",
       "      <td>1866.696130</td>\n",
       "    </tr>\n",
       "    <tr>\n",
       "      <th>2016</th>\n",
       "      <td>33750</td>\n",
       "      <td>48575438</td>\n",
       "      <td>1439.272237</td>\n",
       "    </tr>\n",
       "    <tr>\n",
       "      <th>2017</th>\n",
       "      <td>24569</td>\n",
       "      <td>32219684</td>\n",
       "      <td>1311.395824</td>\n",
       "    </tr>\n",
       "  </tbody>\n",
       "</table>\n",
       "</div>"
      ],
      "text/plain": [
       "                   count       sum         mean\n",
       "                  income    income       income\n",
       "arrival_date_year                              \n",
       "2015                9820  18330956  1866.696130\n",
       "2016               33750  48575438  1439.272237\n",
       "2017               24569  32219684  1311.395824"
      ]
     },
     "execution_count": 31,
     "metadata": {},
     "output_type": "execute_result"
    }
   ],
   "source": [
    "pd.concat([df_train, df_test]).pivot_table(values='income', index='arrival_date_year', aggfunc=['count', 'sum', 'mean'])"
   ]
  },
  {
   "cell_type": "code",
   "execution_count": 32,
   "metadata": {},
   "outputs": [
    {
     "name": "stdout",
     "output_type": "stream",
     "text": [
      "66.906394\n",
      "32.219684\n"
     ]
    }
   ],
   "source": [
    "print(df_train['income'].sum() / 1e6)\n",
    "print(df_test['income'].sum()/ 1e6)"
   ]
  },
  {
   "cell_type": "markdown",
   "metadata": {},
   "source": [
    "### Вывод\n",
    "\n",
    "Мы подсчитали прибыль отеля по каждой записи, теперь можно переходить к разработке модели ML."
   ]
  },
  {
   "cell_type": "markdown",
   "metadata": {},
   "source": [
    "## Разработка модели ML\n",
    "\n",
    "Обучим разные модели и оценим их качество кросс-валидацией. Выберем лучшую модель и проверим её на тестовой выборке.\n",
    "\n",
    "Поскольку данные не сильно дисбалансированы, будем использовать метрики F1, Accuracy, матрицу ошибок, Precision, Recall и прибыль.\n",
    "\n",
    "Чтобы не дать моделям максимизировать прибыль ценой задирания метрики FP, которая модет привести к вторичному падению доходов за счёт передумавших клиентов, для выбора лучших гиперпараметров будем использовать гармоническое среднее F1.\n",
    "\n",
    "Оценим прибыль, которую принесёт выбранная модель за последний год."
   ]
  },
  {
   "cell_type": "markdown",
   "metadata": {},
   "source": [
    "Для обучения будем использовать три модели на ансаблях:\n",
    "\n",
    "   * **RandomForestClassifier**\n",
    "   * **AdaBoostClassifier**\n",
    "   * **GradientBoostingClassifier**\n",
    "   \n",
    "Линейную модель:\n",
    "\n",
    "   * **LogisticRegression**\n",
    "  \n",
    "Модель на методе опорных векторов:\n",
    "\n",
    "   * **LinearSVC**"
   ]
  },
  {
   "cell_type": "markdown",
   "metadata": {},
   "source": [
    "Изменим настройки отображения для удобства просмотра."
   ]
  },
  {
   "cell_type": "code",
   "execution_count": 33,
   "metadata": {},
   "outputs": [],
   "source": [
    "set_config(display='diagram')"
   ]
  },
  {
   "cell_type": "markdown",
   "metadata": {},
   "source": [
    "Напишем функцию оценки прибыли для применения в подборе параметров кросс-валидацией при поиске по сетке."
   ]
  },
  {
   "cell_type": "code",
   "execution_count": 34,
   "metadata": {},
   "outputs": [],
   "source": [
    "def income_scorer(est, X, y, df=df_train, refuse=False):\n",
    "    '''\n",
    "    Функция оценки разницы прибыли для поиска гиперпараметров по сетке.\n",
    "    '''\n",
    "    # получим предсказанные значения столбца is_canceled_p\n",
    "    y_pred = pd.Series(est.predict(X), index=X.index, name='is_canceled_p')\n",
    "\n",
    "    # добавим предсказанные значения к признакам\n",
    "    df = df.iloc[X.index].join(y_pred)\n",
    "    \n",
    "    # вычислим прибыль\n",
    "    df['income'] = df.apply(income, refuse=refuse, axis=1)\n",
    "    \n",
    "    return df['income'].sum() / 1e6"
   ]
  },
  {
   "cell_type": "markdown",
   "metadata": {},
   "source": [
    "Разделим обучающие и тестовые данные на features(X) и target(y)."
   ]
  },
  {
   "cell_type": "code",
   "execution_count": 35,
   "metadata": {},
   "outputs": [],
   "source": [
    "X = df_train.drop(['is_canceled', 'income'], axis=1)\n",
    "y = df_train['is_canceled']\n",
    "X_test = df_test.drop(['is_canceled', 'income'], axis=1)\n",
    "y_test = df_test['is_canceled']"
   ]
  },
  {
   "cell_type": "markdown",
   "metadata": {},
   "source": [
    "Найдём результаты для случайной и константной моделей."
   ]
  },
  {
   "cell_type": "code",
   "execution_count": 36,
   "metadata": {
    "scrolled": true
   },
   "outputs": [
    {
     "name": "stdout",
     "output_type": "stream",
     "text": [
      "Метрика F1 на случайной модели составила 0.386\n",
      "Метрика Accuracy на случайной модели составила 0.499\n",
      "Метрика Precision на случайной модели составила 0.315\n",
      "Метрика Recall на случайной модели составила 0.499\n",
      "Прибыль за 2017 год составила 40.725 млн. рублей\n",
      "Прибыль с учётом модификатора отказа за 2017 год составила 28.416 млн. рублей\n"
     ]
    }
   ],
   "source": [
    "model_dc = DummyClassifier(strategy='uniform', random_state=SEED)\n",
    "model_dc.fit(X, y)\n",
    "prediction_dc = model_dc.predict(X_test)\n",
    "\n",
    "f1 = f1_score(y_test, prediction_dc).round(decimals=3)\n",
    "print(f'Метрика F1 на случайной модели составила {f1}')\n",
    "accuracy = accuracy_score(y_test, prediction_dc).round(decimals=3)\n",
    "print(f'Метрика Accuracy на случайной модели составила {accuracy}')\n",
    "precision = precision_score(y_test, prediction_dc).round(decimals=3)\n",
    "print(f'Метрика Precision на случайной модели составила {precision}')\n",
    "recall = recall_score(y_test, prediction_dc).round(decimals=3)\n",
    "print(f'Метрика Recall на случайной модели составила {recall}')\n",
    "score = income_scorer(model_dc, X_test, y_test, df_test).round(decimals=3)\n",
    "print(f'Прибыль за 2017 год составила {score} млн. рублей')\n",
    "score_mod = income_scorer(model_dc, X_test, y_test, df_test, refuse=True).round(decimals=3)\n",
    "print(f'Прибыль с учётом модификатора отказа за 2017 год составила {score_mod} млн. рублей')"
   ]
  },
  {
   "cell_type": "code",
   "execution_count": 37,
   "metadata": {},
   "outputs": [
    {
     "data": {
      "text/plain": [
       "(8402, 8411, 3887, 3869)"
      ]
     },
     "execution_count": 37,
     "metadata": {},
     "output_type": "execute_result"
    }
   ],
   "source": [
    "tn, fp, fn, tp = confusion_matrix(y_test, prediction_dc).ravel()\n",
    "(tn, fp, fn, tp)"
   ]
  },
  {
   "cell_type": "markdown",
   "metadata": {},
   "source": [
    "Занесём результаты в сводную таблицу."
   ]
  },
  {
   "cell_type": "code",
   "execution_count": 38,
   "metadata": {},
   "outputs": [],
   "source": [
    "results_table = {}\n",
    "\n",
    "results_table['DummyClassifierRandom'] = [f1, accuracy, tn, fp, fn, tp, precision, recall, score, score_mod]"
   ]
  },
  {
   "cell_type": "markdown",
   "metadata": {},
   "source": [
    "Видно, что даже случайная модель даёт в сценарии с введением депозитов прирост выручки на 8.5 млн рублей за счёт случайно совпавших предсказаний с реальной отменой **TP**. Но случайная модель даёт много ложно положительных **FP** что в итоге приводит к падению общего дохода с учётом модификатора отказа.\n",
    "\n",
    "Проверим так же константную модель."
   ]
  },
  {
   "cell_type": "code",
   "execution_count": 39,
   "metadata": {},
   "outputs": [
    {
     "name": "stdout",
     "output_type": "stream",
     "text": [
      "Метрика F1 на константной модели составила 0.0\n",
      "Метрика Accuracy на константной модели составила 0.684\n",
      "Метрика Precision на случайной модели составила 0.0\n",
      "Метрика Recall на случайной модели составила 0.0\n"
     ]
    },
    {
     "name": "stderr",
     "output_type": "stream",
     "text": [
      "C:\\Users\\Admin\\.conda\\envs\\practicum\\lib\\site-packages\\sklearn\\metrics\\_classification.py:1245: UndefinedMetricWarning: Precision is ill-defined and being set to 0.0 due to no predicted samples. Use `zero_division` parameter to control this behavior.\n",
      "  _warn_prf(average, modifier, msg_start, len(result))\n"
     ]
    },
    {
     "name": "stdout",
     "output_type": "stream",
     "text": [
      "Прибыль за 2017 год составила 32.22 млн. рублей\n",
      "Прибыль с учётом модификатора отказа за 2017 год составила 32.22 млн. рублей\n"
     ]
    }
   ],
   "source": [
    "model_dc_mf = DummyClassifier(strategy='most_frequent', random_state=SEED)\n",
    "model_dc_mf.fit(X, y)\n",
    "prediction_dc_mf = model_dc_mf.predict(X_test)\n",
    "\n",
    "f1 = f1_score(y_test, prediction_dc_mf)\n",
    "print(f'Метрика F1 на константной модели составила {f1}')\n",
    "accuracy = accuracy_score(y_test, prediction_dc_mf).round(decimals=3)\n",
    "print(f'Метрика Accuracy на константной модели составила {accuracy}')\n",
    "precision = precision_score(y_test, prediction_dc_mf).round(decimals=3)\n",
    "print(f'Метрика Precision на случайной модели составила {precision}')\n",
    "recall = recall_score(y_test, prediction_dc_mf).round(decimals=3)\n",
    "print(f'Метрика Recall на случайной модели составила {recall}')\n",
    "score = income_scorer(model_dc_mf, X_test, y_test, df_test).round(decimals=3)\n",
    "print(f'Прибыль за 2017 год составила {score} млн. рублей')\n",
    "score_mod = income_scorer(model_dc_mf, X_test, y_test, df_test, refuse=True).round(decimals=3)\n",
    "print(f'Прибыль с учётом модификатора отказа за 2017 год составила {score_mod} млн. рублей')"
   ]
  },
  {
   "cell_type": "code",
   "execution_count": 40,
   "metadata": {
    "scrolled": false
   },
   "outputs": [
    {
     "data": {
      "text/plain": [
       "(16813, 0, 7756, 0)"
      ]
     },
     "execution_count": 40,
     "metadata": {},
     "output_type": "execute_result"
    }
   ],
   "source": [
    "tn, fp, fn, tp = confusion_matrix(y_test, prediction_dc_mf).ravel()\n",
    "results_table['DummyClassifierConstant'] = [f1, accuracy, tn, fp, fn, tp, precision, recall, score, score_mod]\n",
    "(tn, fp, fn, tp)"
   ]
  },
  {
   "cell_type": "markdown",
   "metadata": {},
   "source": [
    "Создадим функцию для оценки метрик моделей."
   ]
  },
  {
   "cell_type": "code",
   "execution_count": 41,
   "metadata": {},
   "outputs": [],
   "source": [
    "def model_score(estimator):\n",
    "    \n",
    "    '''\n",
    "    Функция вывода отчёта по результатам подбора гиперпараметров выбранной модели.\n",
    "    '''\n",
    "    \n",
    "    # основные метрики\n",
    "    f1 = f1_score(y_test, estimator.predict(X_test)).round(decimals=3)\n",
    "    print(f'Метрика F1 составила {f1}')\n",
    "    accuracy = accuracy_score(y_test, estimator.predict(X_test)).round(decimals=3)\n",
    "    print(f'Метрика Accuracy составила {accuracy}')\n",
    "    precision = precision_score(y_test, estimator.predict(X_test)).round(decimals=3)\n",
    "    print(f'Метрика Precision составила {precision}')\n",
    "    recall = recall_score(y_test, estimator.predict(X_test)).round(decimals=3)\n",
    "    print(f'Метрика Recall составила {recall}')\n",
    "    income_score = income_scorer(estimator, X_test, y_test, df_test).round(decimals=3)\n",
    "    print(f'Доход за 2017 год составил {income_score} млн. рублей')\n",
    "    income_score_mod = income_scorer(estimator, X_test, y_test, df_test, refuse=True).round(decimals=3)\n",
    "    print(f'Доход с учётом модификатора отказа за 2017 год составил {income_score_mod} млн. рублей')\n",
    "    \n",
    "    # матрица ошибок\n",
    "    display(pd.DataFrame(\n",
    "        [confusion_matrix(y_test, estimator.predict(X_test)).ravel().tolist(),\n",
    "         confusion_matrix(y_test, prediction_dc).ravel().tolist()],\n",
    "        columns=['TN', 'FP', 'FN', 'TP'],\n",
    "        index=['Для оцениваемой модели', 'Для случайной модели']\n",
    "    ))\n",
    "    tn, fp, fn, tp = confusion_matrix(y_test, estimator.predict(X_test)).ravel()\n",
    "    \n",
    "    # занесём результаты в сводную таблицу\n",
    "    results_table[estimator.best_estimator_.named_steps[estimator.best_estimator_.steps[1][0]].__class__.__name__]\\\n",
    "         = [f1, accuracy, tn, fp, fn, tp, precision, recall, income_score, income_score_mod]\n",
    "    return None"
   ]
  },
  {
   "cell_type": "markdown",
   "metadata": {},
   "source": [
    "### Модель RandomForestClassifier()"
   ]
  },
  {
   "cell_type": "markdown",
   "metadata": {},
   "source": [
    "Создадим трансформер для различных колонок, в случае с \"деревянными моделями\" к категориальным применим OE, числовые оставим как есть."
   ]
  },
  {
   "cell_type": "code",
   "execution_count": 42,
   "metadata": {},
   "outputs": [],
   "source": [
    "ensemble_transformer = make_column_transformer(\n",
    "    (\n",
    "        OrdinalEncoder(\n",
    "            dtype='int16',\n",
    "            handle_unknown='use_encoded_value',\n",
    "            unknown_value=-1\n",
    "        ), make_column_selector(dtype_include='category')\n",
    "    ),\n",
    "    remainder='passthrough'\n",
    ")"
   ]
  },
  {
   "cell_type": "markdown",
   "metadata": {},
   "source": [
    "Создадим pipeline для классификатора RandomForestClassifier()."
   ]
  },
  {
   "cell_type": "code",
   "execution_count": 43,
   "metadata": {},
   "outputs": [],
   "source": [
    "pipe_rf = make_pipeline(\n",
    "    ensemble_transformer,\n",
    "    RandomForestClassifier(\n",
    "        random_state=SEED,\n",
    "        n_jobs=-1,\n",
    "        class_weight='balanced',\n",
    "        verbose=0\n",
    "    )\n",
    ")"
   ]
  },
  {
   "cell_type": "markdown",
   "metadata": {},
   "source": [
    "Зададим сетку параметров и создадим estimator."
   ]
  },
  {
   "cell_type": "code",
   "execution_count": 44,
   "metadata": {
    "scrolled": true
   },
   "outputs": [],
   "source": [
    "param_grid = {\n",
    "    'randomforestclassifier__n_estimators':np.arange(100, 151, 50),\n",
    "    'randomforestclassifier__max_depth':np.arange(1, 10, 1),\n",
    "}\n",
    "\n",
    "gs_rf = GridSearchCV(\n",
    "    pipe_rf,\n",
    "    param_grid,\n",
    "    scoring={'income_scorer':income_scorer, 'f1':'f1', 'accuracy':'accuracy', 'precision':'precision', 'recall':'recall'},\n",
    "    n_jobs=-1,\n",
    "    verbose=1,\n",
    "    refit='f1'\n",
    ")"
   ]
  },
  {
   "cell_type": "markdown",
   "metadata": {},
   "source": [
    "Проведём обучение с кросс-валидацией выбранного оценщика."
   ]
  },
  {
   "cell_type": "code",
   "execution_count": 45,
   "metadata": {},
   "outputs": [
    {
     "name": "stdout",
     "output_type": "stream",
     "text": [
      "Fitting 5 folds for each of 18 candidates, totalling 90 fits\n",
      "CPU times: total: 6.83 s\n",
      "Wall time: 1min 1s\n"
     ]
    },
    {
     "data": {
      "text/html": [
       "<style>div.sk-top-container {color: black;background-color: white;}div.sk-toggleable {background-color: white;}label.sk-toggleable__label {cursor: pointer;display: block;width: 100%;margin-bottom: 0;padding: 0.2em 0.3em;box-sizing: border-box;text-align: center;}div.sk-toggleable__content {max-height: 0;max-width: 0;overflow: hidden;text-align: left;background-color: #f0f8ff;}div.sk-toggleable__content pre {margin: 0.2em;color: black;border-radius: 0.25em;background-color: #f0f8ff;}input.sk-toggleable__control:checked~div.sk-toggleable__content {max-height: 200px;max-width: 100%;overflow: auto;}div.sk-estimator input.sk-toggleable__control:checked~label.sk-toggleable__label {background-color: #d4ebff;}div.sk-label input.sk-toggleable__control:checked~label.sk-toggleable__label {background-color: #d4ebff;}input.sk-hidden--visually {border: 0;clip: rect(1px 1px 1px 1px);clip: rect(1px, 1px, 1px, 1px);height: 1px;margin: -1px;overflow: hidden;padding: 0;position: absolute;width: 1px;}div.sk-estimator {font-family: monospace;background-color: #f0f8ff;margin: 0.25em 0.25em;border: 1px dotted black;border-radius: 0.25em;box-sizing: border-box;}div.sk-estimator:hover {background-color: #d4ebff;}div.sk-parallel-item::after {content: \"\";width: 100%;border-bottom: 1px solid gray;flex-grow: 1;}div.sk-label:hover label.sk-toggleable__label {background-color: #d4ebff;}div.sk-serial::before {content: \"\";position: absolute;border-left: 1px solid gray;box-sizing: border-box;top: 2em;bottom: 0;left: 50%;}div.sk-serial {display: flex;flex-direction: column;align-items: center;background-color: white;}div.sk-item {z-index: 1;}div.sk-parallel {display: flex;align-items: stretch;justify-content: center;background-color: white;}div.sk-parallel-item {display: flex;flex-direction: column;position: relative;background-color: white;}div.sk-parallel-item:first-child::after {align-self: flex-end;width: 50%;}div.sk-parallel-item:last-child::after {align-self: flex-start;width: 50%;}div.sk-parallel-item:only-child::after {width: 0;}div.sk-dashed-wrapped {border: 1px dashed gray;margin: 0.2em;box-sizing: border-box;padding-bottom: 0.1em;background-color: white;position: relative;}div.sk-label label {font-family: monospace;font-weight: bold;background-color: white;display: inline-block;line-height: 1.2em;}div.sk-label-container {position: relative;z-index: 2;text-align: center;}div.sk-container {display: inline-block;position: relative;}</style><div class=\"sk-top-container\"><div class=\"sk-container\"><div class=\"sk-item sk-dashed-wrapped\"><div class=\"sk-label-container\"><div class=\"sk-label sk-toggleable\"><input class=\"sk-toggleable__control sk-hidden--visually\" id=\"dad528ae-fa8b-4d85-b951-b4b80211f96e\" type=\"checkbox\" ><label class=\"sk-toggleable__label\" for=\"dad528ae-fa8b-4d85-b951-b4b80211f96e\">GridSearchCV</label><div class=\"sk-toggleable__content\"><pre>GridSearchCV(estimator=Pipeline(steps=[('columntransformer',\n",
       "                                        ColumnTransformer(remainder='passthrough',\n",
       "                                                          transformers=[('ordinalencoder',\n",
       "                                                                         OrdinalEncoder(dtype='int16',\n",
       "                                                                                        handle_unknown='use_encoded_value',\n",
       "                                                                                        unknown_value=-1),\n",
       "                                                                         <sklearn.compose._column_transformer.make_column_selector object at 0x0000020C45E6AA60>)])),\n",
       "                                       ('randomforestclassifier',\n",
       "                                        RandomForestClassif...alanced',\n",
       "                                                               n_jobs=-1,\n",
       "                                                               random_state=314159))]),\n",
       "             n_jobs=-1,\n",
       "             param_grid={'randomforestclassifier__max_depth': array([1, 2, 3, 4, 5, 6, 7, 8, 9]),\n",
       "                         'randomforestclassifier__n_estimators': array([100, 150])},\n",
       "             refit='f1',\n",
       "             scoring={'accuracy': 'accuracy', 'f1': 'f1',\n",
       "                      'income_scorer': <function income_scorer at 0x0000020C45B15430>,\n",
       "                      'precision': 'precision', 'recall': 'recall'},\n",
       "             verbose=1)</pre></div></div></div><div class=\"sk-parallel\"><div class=\"sk-parallel-item\"><div class=\"sk-item\"><div class=\"sk-serial\"><div class=\"sk-item\"><div class=\"sk-serial\"><div class=\"sk-item sk-dashed-wrapped\"><div class=\"sk-label-container\"><div class=\"sk-label sk-toggleable\"><input class=\"sk-toggleable__control sk-hidden--visually\" id=\"dd997409-9f90-4d40-b039-ab3cb07b5fd8\" type=\"checkbox\" ><label class=\"sk-toggleable__label\" for=\"dd997409-9f90-4d40-b039-ab3cb07b5fd8\">columntransformer: ColumnTransformer</label><div class=\"sk-toggleable__content\"><pre>ColumnTransformer(remainder='passthrough',\n",
       "                  transformers=[('ordinalencoder',\n",
       "                                 OrdinalEncoder(dtype='int16',\n",
       "                                                handle_unknown='use_encoded_value',\n",
       "                                                unknown_value=-1),\n",
       "                                 <sklearn.compose._column_transformer.make_column_selector object at 0x0000020C45E6AA60>)])</pre></div></div></div><div class=\"sk-parallel\"><div class=\"sk-parallel-item\"><div class=\"sk-item\"><div class=\"sk-label-container\"><div class=\"sk-label sk-toggleable\"><input class=\"sk-toggleable__control sk-hidden--visually\" id=\"f688195a-02e3-47ad-b0cb-dffb98242b24\" type=\"checkbox\" ><label class=\"sk-toggleable__label\" for=\"f688195a-02e3-47ad-b0cb-dffb98242b24\">ordinalencoder</label><div class=\"sk-toggleable__content\"><pre><sklearn.compose._column_transformer.make_column_selector object at 0x0000020C45E6AA60></pre></div></div></div><div class=\"sk-serial\"><div class=\"sk-item\"><div class=\"sk-estimator sk-toggleable\"><input class=\"sk-toggleable__control sk-hidden--visually\" id=\"60b25d49-4a6d-44ee-9591-c28e222cc019\" type=\"checkbox\" ><label class=\"sk-toggleable__label\" for=\"60b25d49-4a6d-44ee-9591-c28e222cc019\">OrdinalEncoder</label><div class=\"sk-toggleable__content\"><pre>OrdinalEncoder(dtype='int16', handle_unknown='use_encoded_value',\n",
       "               unknown_value=-1)</pre></div></div></div></div></div></div><div class=\"sk-parallel-item\"><div class=\"sk-item\"><div class=\"sk-label-container\"><div class=\"sk-label sk-toggleable\"><input class=\"sk-toggleable__control sk-hidden--visually\" id=\"75fecd44-5ab3-4dcc-a302-45706a46fa1e\" type=\"checkbox\" ><label class=\"sk-toggleable__label\" for=\"75fecd44-5ab3-4dcc-a302-45706a46fa1e\">remainder</label><div class=\"sk-toggleable__content\"><pre></pre></div></div></div><div class=\"sk-serial\"><div class=\"sk-item\"><div class=\"sk-estimator sk-toggleable\"><input class=\"sk-toggleable__control sk-hidden--visually\" id=\"a6dfdabe-34b7-4f1d-86b8-4b2fe2697afb\" type=\"checkbox\" ><label class=\"sk-toggleable__label\" for=\"a6dfdabe-34b7-4f1d-86b8-4b2fe2697afb\">passthrough</label><div class=\"sk-toggleable__content\"><pre>passthrough</pre></div></div></div></div></div></div></div></div><div class=\"sk-item\"><div class=\"sk-estimator sk-toggleable\"><input class=\"sk-toggleable__control sk-hidden--visually\" id=\"d79fff1a-1f13-447c-a5c8-6bcadc5063a4\" type=\"checkbox\" ><label class=\"sk-toggleable__label\" for=\"d79fff1a-1f13-447c-a5c8-6bcadc5063a4\">RandomForestClassifier</label><div class=\"sk-toggleable__content\"><pre>RandomForestClassifier(class_weight='balanced', n_jobs=-1, random_state=314159)</pre></div></div></div></div></div></div></div></div></div></div></div></div>"
      ],
      "text/plain": [
       "GridSearchCV(estimator=Pipeline(steps=[('columntransformer',\n",
       "                                        ColumnTransformer(remainder='passthrough',\n",
       "                                                          transformers=[('ordinalencoder',\n",
       "                                                                         OrdinalEncoder(dtype='int16',\n",
       "                                                                                        handle_unknown='use_encoded_value',\n",
       "                                                                                        unknown_value=-1),\n",
       "                                                                         <sklearn.compose._column_transformer.make_column_selector object at 0x0000020C45E6AA60>)])),\n",
       "                                       ('randomforestclassifier',\n",
       "                                        RandomForestClassif...alanced',\n",
       "                                                               n_jobs=-1,\n",
       "                                                               random_state=314159))]),\n",
       "             n_jobs=-1,\n",
       "             param_grid={'randomforestclassifier__max_depth': array([1, 2, 3, 4, 5, 6, 7, 8, 9]),\n",
       "                         'randomforestclassifier__n_estimators': array([100, 150])},\n",
       "             refit='f1',\n",
       "             scoring={'accuracy': 'accuracy', 'f1': 'f1',\n",
       "                      'income_scorer': <function income_scorer at 0x0000020C45B15430>,\n",
       "                      'precision': 'precision', 'recall': 'recall'},\n",
       "             verbose=1)"
      ]
     },
     "execution_count": 45,
     "metadata": {},
     "output_type": "execute_result"
    }
   ],
   "source": [
    "%time gs_rf.fit(X, y)"
   ]
  },
  {
   "cell_type": "markdown",
   "metadata": {},
   "source": [
    "Посмотрим на результаты обучения."
   ]
  },
  {
   "cell_type": "code",
   "execution_count": 46,
   "metadata": {
    "scrolled": false
   },
   "outputs": [
    {
     "data": {
      "text/html": [
       "<div>\n",
       "<style scoped>\n",
       "    .dataframe tbody tr th:only-of-type {\n",
       "        vertical-align: middle;\n",
       "    }\n",
       "\n",
       "    .dataframe tbody tr th {\n",
       "        vertical-align: top;\n",
       "    }\n",
       "\n",
       "    .dataframe thead th {\n",
       "        text-align: right;\n",
       "    }\n",
       "</style>\n",
       "<table border=\"1\" class=\"dataframe\">\n",
       "  <thead>\n",
       "    <tr style=\"text-align: right;\">\n",
       "      <th></th>\n",
       "      <th>param_randomforestclassifier__max_depth</th>\n",
       "      <th>param_randomforestclassifier__n_estimators</th>\n",
       "      <th>mean_test_f1</th>\n",
       "      <th>rank_test_f1</th>\n",
       "      <th>mean_test_accuracy</th>\n",
       "      <th>rank_test_accuracy</th>\n",
       "      <th>mean_test_precision</th>\n",
       "      <th>rank_test_precision</th>\n",
       "      <th>mean_test_recall</th>\n",
       "      <th>rank_test_recall</th>\n",
       "      <th>mean_test_income_scorer</th>\n",
       "      <th>rank_test_income_scorer</th>\n",
       "    </tr>\n",
       "  </thead>\n",
       "  <tbody>\n",
       "    <tr>\n",
       "      <th>0</th>\n",
       "      <td>1</td>\n",
       "      <td>100</td>\n",
       "      <td>0.420832</td>\n",
       "      <td>5</td>\n",
       "      <td>0.552146</td>\n",
       "      <td>16</td>\n",
       "      <td>0.325200</td>\n",
       "      <td>14</td>\n",
       "      <td>0.614825</td>\n",
       "      <td>3</td>\n",
       "      <td>16.430709</td>\n",
       "      <td>4</td>\n",
       "    </tr>\n",
       "    <tr>\n",
       "      <th>1</th>\n",
       "      <td>1</td>\n",
       "      <td>150</td>\n",
       "      <td>0.419165</td>\n",
       "      <td>8</td>\n",
       "      <td>0.535185</td>\n",
       "      <td>18</td>\n",
       "      <td>0.317618</td>\n",
       "      <td>18</td>\n",
       "      <td>0.634319</td>\n",
       "      <td>1</td>\n",
       "      <td>16.523417</td>\n",
       "      <td>1</td>\n",
       "    </tr>\n",
       "    <tr>\n",
       "      <th>2</th>\n",
       "      <td>2</td>\n",
       "      <td>100</td>\n",
       "      <td>0.420415</td>\n",
       "      <td>6</td>\n",
       "      <td>0.553707</td>\n",
       "      <td>15</td>\n",
       "      <td>0.325296</td>\n",
       "      <td>13</td>\n",
       "      <td>0.614099</td>\n",
       "      <td>4</td>\n",
       "      <td>16.431060</td>\n",
       "      <td>3</td>\n",
       "    </tr>\n",
       "    <tr>\n",
       "      <th>3</th>\n",
       "      <td>2</td>\n",
       "      <td>150</td>\n",
       "      <td>0.419736</td>\n",
       "      <td>7</td>\n",
       "      <td>0.544159</td>\n",
       "      <td>17</td>\n",
       "      <td>0.321258</td>\n",
       "      <td>17</td>\n",
       "      <td>0.624569</td>\n",
       "      <td>2</td>\n",
       "      <td>16.481742</td>\n",
       "      <td>2</td>\n",
       "    </tr>\n",
       "    <tr>\n",
       "      <th>4</th>\n",
       "      <td>3</td>\n",
       "      <td>100</td>\n",
       "      <td>0.421676</td>\n",
       "      <td>3</td>\n",
       "      <td>0.563438</td>\n",
       "      <td>14</td>\n",
       "      <td>0.333486</td>\n",
       "      <td>11</td>\n",
       "      <td>0.598578</td>\n",
       "      <td>5</td>\n",
       "      <td>16.369589</td>\n",
       "      <td>5</td>\n",
       "    </tr>\n",
       "    <tr>\n",
       "      <th>5</th>\n",
       "      <td>3</td>\n",
       "      <td>150</td>\n",
       "      <td>0.421184</td>\n",
       "      <td>4</td>\n",
       "      <td>0.568694</td>\n",
       "      <td>12</td>\n",
       "      <td>0.333188</td>\n",
       "      <td>12</td>\n",
       "      <td>0.590553</td>\n",
       "      <td>6</td>\n",
       "      <td>16.328279</td>\n",
       "      <td>6</td>\n",
       "    </tr>\n",
       "    <tr>\n",
       "      <th>6</th>\n",
       "      <td>4</td>\n",
       "      <td>100</td>\n",
       "      <td>0.424673</td>\n",
       "      <td>2</td>\n",
       "      <td>0.581111</td>\n",
       "      <td>10</td>\n",
       "      <td>0.343147</td>\n",
       "      <td>5</td>\n",
       "      <td>0.579719</td>\n",
       "      <td>8</td>\n",
       "      <td>16.281767</td>\n",
       "      <td>8</td>\n",
       "    </tr>\n",
       "    <tr>\n",
       "      <th>7</th>\n",
       "      <td>4</td>\n",
       "      <td>150</td>\n",
       "      <td>0.428059</td>\n",
       "      <td>1</td>\n",
       "      <td>0.584462</td>\n",
       "      <td>7</td>\n",
       "      <td>0.344672</td>\n",
       "      <td>4</td>\n",
       "      <td>0.583513</td>\n",
       "      <td>7</td>\n",
       "      <td>16.295081</td>\n",
       "      <td>7</td>\n",
       "    </tr>\n",
       "    <tr>\n",
       "      <th>8</th>\n",
       "      <td>5</td>\n",
       "      <td>100</td>\n",
       "      <td>0.406527</td>\n",
       "      <td>12</td>\n",
       "      <td>0.585839</td>\n",
       "      <td>4</td>\n",
       "      <td>0.340158</td>\n",
       "      <td>6</td>\n",
       "      <td>0.532070</td>\n",
       "      <td>12</td>\n",
       "      <td>16.034098</td>\n",
       "      <td>12</td>\n",
       "    </tr>\n",
       "    <tr>\n",
       "      <th>9</th>\n",
       "      <td>5</td>\n",
       "      <td>150</td>\n",
       "      <td>0.411980</td>\n",
       "      <td>11</td>\n",
       "      <td>0.584875</td>\n",
       "      <td>5</td>\n",
       "      <td>0.339419</td>\n",
       "      <td>7</td>\n",
       "      <td>0.548224</td>\n",
       "      <td>10</td>\n",
       "      <td>16.115485</td>\n",
       "      <td>10</td>\n",
       "    </tr>\n",
       "    <tr>\n",
       "      <th>10</th>\n",
       "      <td>6</td>\n",
       "      <td>100</td>\n",
       "      <td>0.414310</td>\n",
       "      <td>10</td>\n",
       "      <td>0.591646</td>\n",
       "      <td>1</td>\n",
       "      <td>0.347312</td>\n",
       "      <td>1</td>\n",
       "      <td>0.539647</td>\n",
       "      <td>11</td>\n",
       "      <td>16.070183</td>\n",
       "      <td>11</td>\n",
       "    </tr>\n",
       "    <tr>\n",
       "      <th>11</th>\n",
       "      <td>6</td>\n",
       "      <td>150</td>\n",
       "      <td>0.418753</td>\n",
       "      <td>9</td>\n",
       "      <td>0.589465</td>\n",
       "      <td>2</td>\n",
       "      <td>0.346908</td>\n",
       "      <td>2</td>\n",
       "      <td>0.553546</td>\n",
       "      <td>9</td>\n",
       "      <td>16.140563</td>\n",
       "      <td>9</td>\n",
       "    </tr>\n",
       "    <tr>\n",
       "      <th>12</th>\n",
       "      <td>7</td>\n",
       "      <td>100</td>\n",
       "      <td>0.391660</td>\n",
       "      <td>15</td>\n",
       "      <td>0.583360</td>\n",
       "      <td>9</td>\n",
       "      <td>0.337338</td>\n",
       "      <td>9</td>\n",
       "      <td>0.494616</td>\n",
       "      <td>15</td>\n",
       "      <td>15.853134</td>\n",
       "      <td>15</td>\n",
       "    </tr>\n",
       "    <tr>\n",
       "      <th>13</th>\n",
       "      <td>7</td>\n",
       "      <td>150</td>\n",
       "      <td>0.405031</td>\n",
       "      <td>13</td>\n",
       "      <td>0.589419</td>\n",
       "      <td>3</td>\n",
       "      <td>0.345960</td>\n",
       "      <td>3</td>\n",
       "      <td>0.519342</td>\n",
       "      <td>13</td>\n",
       "      <td>15.971651</td>\n",
       "      <td>13</td>\n",
       "    </tr>\n",
       "    <tr>\n",
       "      <th>14</th>\n",
       "      <td>8</td>\n",
       "      <td>100</td>\n",
       "      <td>0.388638</td>\n",
       "      <td>16</td>\n",
       "      <td>0.583704</td>\n",
       "      <td>8</td>\n",
       "      <td>0.336104</td>\n",
       "      <td>10</td>\n",
       "      <td>0.493256</td>\n",
       "      <td>16</td>\n",
       "      <td>15.839554</td>\n",
       "      <td>16</td>\n",
       "    </tr>\n",
       "    <tr>\n",
       "      <th>15</th>\n",
       "      <td>8</td>\n",
       "      <td>150</td>\n",
       "      <td>0.394753</td>\n",
       "      <td>14</td>\n",
       "      <td>0.584577</td>\n",
       "      <td>6</td>\n",
       "      <td>0.339360</td>\n",
       "      <td>8</td>\n",
       "      <td>0.504537</td>\n",
       "      <td>14</td>\n",
       "      <td>15.893734</td>\n",
       "      <td>14</td>\n",
       "    </tr>\n",
       "    <tr>\n",
       "      <th>16</th>\n",
       "      <td>9</td>\n",
       "      <td>100</td>\n",
       "      <td>0.375334</td>\n",
       "      <td>17</td>\n",
       "      <td>0.568648</td>\n",
       "      <td>13</td>\n",
       "      <td>0.323721</td>\n",
       "      <td>15</td>\n",
       "      <td>0.485578</td>\n",
       "      <td>17</td>\n",
       "      <td>15.782566</td>\n",
       "      <td>17</td>\n",
       "    </tr>\n",
       "    <tr>\n",
       "      <th>17</th>\n",
       "      <td>9</td>\n",
       "      <td>150</td>\n",
       "      <td>0.372419</td>\n",
       "      <td>18</td>\n",
       "      <td>0.568763</td>\n",
       "      <td>11</td>\n",
       "      <td>0.321395</td>\n",
       "      <td>16</td>\n",
       "      <td>0.481066</td>\n",
       "      <td>18</td>\n",
       "      <td>15.758402</td>\n",
       "      <td>18</td>\n",
       "    </tr>\n",
       "  </tbody>\n",
       "</table>\n",
       "</div>"
      ],
      "text/plain": [
       "   param_randomforestclassifier__max_depth  \\\n",
       "0                                        1   \n",
       "1                                        1   \n",
       "2                                        2   \n",
       "3                                        2   \n",
       "4                                        3   \n",
       "5                                        3   \n",
       "6                                        4   \n",
       "7                                        4   \n",
       "8                                        5   \n",
       "9                                        5   \n",
       "10                                       6   \n",
       "11                                       6   \n",
       "12                                       7   \n",
       "13                                       7   \n",
       "14                                       8   \n",
       "15                                       8   \n",
       "16                                       9   \n",
       "17                                       9   \n",
       "\n",
       "   param_randomforestclassifier__n_estimators  mean_test_f1  rank_test_f1  \\\n",
       "0                                         100      0.420832             5   \n",
       "1                                         150      0.419165             8   \n",
       "2                                         100      0.420415             6   \n",
       "3                                         150      0.419736             7   \n",
       "4                                         100      0.421676             3   \n",
       "5                                         150      0.421184             4   \n",
       "6                                         100      0.424673             2   \n",
       "7                                         150      0.428059             1   \n",
       "8                                         100      0.406527            12   \n",
       "9                                         150      0.411980            11   \n",
       "10                                        100      0.414310            10   \n",
       "11                                        150      0.418753             9   \n",
       "12                                        100      0.391660            15   \n",
       "13                                        150      0.405031            13   \n",
       "14                                        100      0.388638            16   \n",
       "15                                        150      0.394753            14   \n",
       "16                                        100      0.375334            17   \n",
       "17                                        150      0.372419            18   \n",
       "\n",
       "    mean_test_accuracy  rank_test_accuracy  mean_test_precision  \\\n",
       "0             0.552146                  16             0.325200   \n",
       "1             0.535185                  18             0.317618   \n",
       "2             0.553707                  15             0.325296   \n",
       "3             0.544159                  17             0.321258   \n",
       "4             0.563438                  14             0.333486   \n",
       "5             0.568694                  12             0.333188   \n",
       "6             0.581111                  10             0.343147   \n",
       "7             0.584462                   7             0.344672   \n",
       "8             0.585839                   4             0.340158   \n",
       "9             0.584875                   5             0.339419   \n",
       "10            0.591646                   1             0.347312   \n",
       "11            0.589465                   2             0.346908   \n",
       "12            0.583360                   9             0.337338   \n",
       "13            0.589419                   3             0.345960   \n",
       "14            0.583704                   8             0.336104   \n",
       "15            0.584577                   6             0.339360   \n",
       "16            0.568648                  13             0.323721   \n",
       "17            0.568763                  11             0.321395   \n",
       "\n",
       "    rank_test_precision  mean_test_recall  rank_test_recall  \\\n",
       "0                    14          0.614825                 3   \n",
       "1                    18          0.634319                 1   \n",
       "2                    13          0.614099                 4   \n",
       "3                    17          0.624569                 2   \n",
       "4                    11          0.598578                 5   \n",
       "5                    12          0.590553                 6   \n",
       "6                     5          0.579719                 8   \n",
       "7                     4          0.583513                 7   \n",
       "8                     6          0.532070                12   \n",
       "9                     7          0.548224                10   \n",
       "10                    1          0.539647                11   \n",
       "11                    2          0.553546                 9   \n",
       "12                    9          0.494616                15   \n",
       "13                    3          0.519342                13   \n",
       "14                   10          0.493256                16   \n",
       "15                    8          0.504537                14   \n",
       "16                   15          0.485578                17   \n",
       "17                   16          0.481066                18   \n",
       "\n",
       "    mean_test_income_scorer  rank_test_income_scorer  \n",
       "0                 16.430709                        4  \n",
       "1                 16.523417                        1  \n",
       "2                 16.431060                        3  \n",
       "3                 16.481742                        2  \n",
       "4                 16.369589                        5  \n",
       "5                 16.328279                        6  \n",
       "6                 16.281767                        8  \n",
       "7                 16.295081                        7  \n",
       "8                 16.034098                       12  \n",
       "9                 16.115485                       10  \n",
       "10                16.070183                       11  \n",
       "11                16.140563                        9  \n",
       "12                15.853134                       15  \n",
       "13                15.971651                       13  \n",
       "14                15.839554                       16  \n",
       "15                15.893734                       14  \n",
       "16                15.782566                       17  \n",
       "17                15.758402                       18  "
      ]
     },
     "execution_count": 46,
     "metadata": {},
     "output_type": "execute_result"
    }
   ],
   "source": [
    "pd.DataFrame(gs_rf.cv_results_)[[\n",
    "    'param_randomforestclassifier__max_depth', 'param_randomforestclassifier__n_estimators',\n",
    "    'mean_test_f1', 'rank_test_f1',\n",
    "    'mean_test_accuracy', 'rank_test_accuracy',\n",
    "    'mean_test_precision', 'rank_test_precision',\n",
    "    'mean_test_recall', 'rank_test_recall',\n",
    "    'mean_test_income_scorer', 'rank_test_income_scorer'\n",
    "]]"
   ]
  },
  {
   "cell_type": "markdown",
   "metadata": {},
   "source": [
    "Результаты не поражают воображение, но посмотрим на прирост дохода от введения модели с такой точностью. Общая прибыль на тесте до введения модели депозитов составляла 32,22 млн рублей."
   ]
  },
  {
   "cell_type": "code",
   "execution_count": 47,
   "metadata": {
    "scrolled": true
   },
   "outputs": [
    {
     "name": "stdout",
     "output_type": "stream",
     "text": [
      "Метрика F1 составила 0.551\n",
      "Метрика Accuracy составила 0.71\n",
      "Метрика Precision составила 0.539\n",
      "Метрика Recall составила 0.563\n",
      "Доход за 2017 год составил 41.812 млн. рублей\n",
      "Доход с учётом модификатора отказа за 2017 год составил 34.697 млн. рублей\n"
     ]
    },
    {
     "data": {
      "text/html": [
       "<div>\n",
       "<style scoped>\n",
       "    .dataframe tbody tr th:only-of-type {\n",
       "        vertical-align: middle;\n",
       "    }\n",
       "\n",
       "    .dataframe tbody tr th {\n",
       "        vertical-align: top;\n",
       "    }\n",
       "\n",
       "    .dataframe thead th {\n",
       "        text-align: right;\n",
       "    }\n",
       "</style>\n",
       "<table border=\"1\" class=\"dataframe\">\n",
       "  <thead>\n",
       "    <tr style=\"text-align: right;\">\n",
       "      <th></th>\n",
       "      <th>TN</th>\n",
       "      <th>FP</th>\n",
       "      <th>FN</th>\n",
       "      <th>TP</th>\n",
       "    </tr>\n",
       "  </thead>\n",
       "  <tbody>\n",
       "    <tr>\n",
       "      <th>Для оцениваемой модели</th>\n",
       "      <td>13080</td>\n",
       "      <td>3733</td>\n",
       "      <td>3389</td>\n",
       "      <td>4367</td>\n",
       "    </tr>\n",
       "    <tr>\n",
       "      <th>Для случайной модели</th>\n",
       "      <td>8402</td>\n",
       "      <td>8411</td>\n",
       "      <td>3887</td>\n",
       "      <td>3869</td>\n",
       "    </tr>\n",
       "  </tbody>\n",
       "</table>\n",
       "</div>"
      ],
      "text/plain": [
       "                           TN    FP    FN    TP\n",
       "Для оцениваемой модели  13080  3733  3389  4367\n",
       "Для случайной модели     8402  8411  3887  3869"
      ]
     },
     "metadata": {},
     "output_type": "display_data"
    }
   ],
   "source": [
    "model_score(gs_rf)"
   ]
  },
  {
   "cell_type": "markdown",
   "metadata": {},
   "source": [
    "На тесте мы получили разницу по прибыли в 9,5 млн рублей за неполный год. Если же учесть негативный эффект от введения залогов, то прибыль вырастет только на 2,5 млн рублей."
   ]
  },
  {
   "cell_type": "markdown",
   "metadata": {},
   "source": [
    "### Модель AdaBoostClassifier()\n",
    "\n",
    "Попробуем улучшить результат на других моделях. Исследуем AdaBoostClassifier.\n",
    "\n",
    "Создадим pipeline для классификатора AdaBoostClassifier()."
   ]
  },
  {
   "cell_type": "code",
   "execution_count": 48,
   "metadata": {},
   "outputs": [],
   "source": [
    "pipe_ab = make_pipeline(\n",
    "    ensemble_transformer,\n",
    "    AdaBoostClassifier(\n",
    "        random_state=SEED\n",
    "    )\n",
    ")"
   ]
  },
  {
   "cell_type": "markdown",
   "metadata": {},
   "source": [
    "Зададим сетку параметров и создадим estimator."
   ]
  },
  {
   "cell_type": "code",
   "execution_count": 49,
   "metadata": {
    "scrolled": true
   },
   "outputs": [],
   "source": [
    "param_grid = {\n",
    "    'adaboostclassifier__learning_rate':np.arange(1, 1.5, 0.1),\n",
    "    'adaboostclassifier__n_estimators':[50, 100, 150]\n",
    "}\n",
    "\n",
    "gs_ab = GridSearchCV(\n",
    "    pipe_ab,\n",
    "    param_grid,\n",
    "    scoring={'income_scorer':income_scorer, 'f1':'f1', 'accuracy':'accuracy', 'precision':'precision', 'recall':'recall'},\n",
    "    n_jobs=-1,\n",
    "    verbose=1,\n",
    "    refit='f1'\n",
    ")"
   ]
  },
  {
   "cell_type": "markdown",
   "metadata": {},
   "source": [
    "Проведём обучение с кросс-валидацией выбранного оценщика."
   ]
  },
  {
   "cell_type": "code",
   "execution_count": 50,
   "metadata": {},
   "outputs": [
    {
     "name": "stdout",
     "output_type": "stream",
     "text": [
      "Fitting 5 folds for each of 15 candidates, totalling 75 fits\n",
      "CPU times: total: 5.11 s\n",
      "Wall time: 1min 28s\n"
     ]
    },
    {
     "data": {
      "text/html": [
       "<style>div.sk-top-container {color: black;background-color: white;}div.sk-toggleable {background-color: white;}label.sk-toggleable__label {cursor: pointer;display: block;width: 100%;margin-bottom: 0;padding: 0.2em 0.3em;box-sizing: border-box;text-align: center;}div.sk-toggleable__content {max-height: 0;max-width: 0;overflow: hidden;text-align: left;background-color: #f0f8ff;}div.sk-toggleable__content pre {margin: 0.2em;color: black;border-radius: 0.25em;background-color: #f0f8ff;}input.sk-toggleable__control:checked~div.sk-toggleable__content {max-height: 200px;max-width: 100%;overflow: auto;}div.sk-estimator input.sk-toggleable__control:checked~label.sk-toggleable__label {background-color: #d4ebff;}div.sk-label input.sk-toggleable__control:checked~label.sk-toggleable__label {background-color: #d4ebff;}input.sk-hidden--visually {border: 0;clip: rect(1px 1px 1px 1px);clip: rect(1px, 1px, 1px, 1px);height: 1px;margin: -1px;overflow: hidden;padding: 0;position: absolute;width: 1px;}div.sk-estimator {font-family: monospace;background-color: #f0f8ff;margin: 0.25em 0.25em;border: 1px dotted black;border-radius: 0.25em;box-sizing: border-box;}div.sk-estimator:hover {background-color: #d4ebff;}div.sk-parallel-item::after {content: \"\";width: 100%;border-bottom: 1px solid gray;flex-grow: 1;}div.sk-label:hover label.sk-toggleable__label {background-color: #d4ebff;}div.sk-serial::before {content: \"\";position: absolute;border-left: 1px solid gray;box-sizing: border-box;top: 2em;bottom: 0;left: 50%;}div.sk-serial {display: flex;flex-direction: column;align-items: center;background-color: white;}div.sk-item {z-index: 1;}div.sk-parallel {display: flex;align-items: stretch;justify-content: center;background-color: white;}div.sk-parallel-item {display: flex;flex-direction: column;position: relative;background-color: white;}div.sk-parallel-item:first-child::after {align-self: flex-end;width: 50%;}div.sk-parallel-item:last-child::after {align-self: flex-start;width: 50%;}div.sk-parallel-item:only-child::after {width: 0;}div.sk-dashed-wrapped {border: 1px dashed gray;margin: 0.2em;box-sizing: border-box;padding-bottom: 0.1em;background-color: white;position: relative;}div.sk-label label {font-family: monospace;font-weight: bold;background-color: white;display: inline-block;line-height: 1.2em;}div.sk-label-container {position: relative;z-index: 2;text-align: center;}div.sk-container {display: inline-block;position: relative;}</style><div class=\"sk-top-container\"><div class=\"sk-container\"><div class=\"sk-item sk-dashed-wrapped\"><div class=\"sk-label-container\"><div class=\"sk-label sk-toggleable\"><input class=\"sk-toggleable__control sk-hidden--visually\" id=\"a072c7cb-d3ab-4225-8a2d-bc0947b1b1ef\" type=\"checkbox\" ><label class=\"sk-toggleable__label\" for=\"a072c7cb-d3ab-4225-8a2d-bc0947b1b1ef\">GridSearchCV</label><div class=\"sk-toggleable__content\"><pre>GridSearchCV(estimator=Pipeline(steps=[('columntransformer',\n",
       "                                        ColumnTransformer(remainder='passthrough',\n",
       "                                                          transformers=[('ordinalencoder',\n",
       "                                                                         OrdinalEncoder(dtype='int16',\n",
       "                                                                                        handle_unknown='use_encoded_value',\n",
       "                                                                                        unknown_value=-1),\n",
       "                                                                         <sklearn.compose._column_transformer.make_column_selector object at 0x0000020C45E6AA60>)])),\n",
       "                                       ('adaboostclassifier',\n",
       "                                        AdaBoostClassifier(random_state=314159))]),\n",
       "             n_jobs=-1,\n",
       "             param_grid={'adaboostclassifier__learning_rate': array([1. , 1.1, 1.2, 1.3, 1.4]),\n",
       "                         'adaboostclassifier__n_estimators': [50, 100, 150]},\n",
       "             refit='f1',\n",
       "             scoring={'accuracy': 'accuracy', 'f1': 'f1',\n",
       "                      'income_scorer': <function income_scorer at 0x0000020C45B15430>,\n",
       "                      'precision': 'precision', 'recall': 'recall'},\n",
       "             verbose=1)</pre></div></div></div><div class=\"sk-parallel\"><div class=\"sk-parallel-item\"><div class=\"sk-item\"><div class=\"sk-serial\"><div class=\"sk-item\"><div class=\"sk-serial\"><div class=\"sk-item sk-dashed-wrapped\"><div class=\"sk-label-container\"><div class=\"sk-label sk-toggleable\"><input class=\"sk-toggleable__control sk-hidden--visually\" id=\"e8a5d96e-6f99-484d-abcf-917be8721ae1\" type=\"checkbox\" ><label class=\"sk-toggleable__label\" for=\"e8a5d96e-6f99-484d-abcf-917be8721ae1\">columntransformer: ColumnTransformer</label><div class=\"sk-toggleable__content\"><pre>ColumnTransformer(remainder='passthrough',\n",
       "                  transformers=[('ordinalencoder',\n",
       "                                 OrdinalEncoder(dtype='int16',\n",
       "                                                handle_unknown='use_encoded_value',\n",
       "                                                unknown_value=-1),\n",
       "                                 <sklearn.compose._column_transformer.make_column_selector object at 0x0000020C45E6AA60>)])</pre></div></div></div><div class=\"sk-parallel\"><div class=\"sk-parallel-item\"><div class=\"sk-item\"><div class=\"sk-label-container\"><div class=\"sk-label sk-toggleable\"><input class=\"sk-toggleable__control sk-hidden--visually\" id=\"d93a7e9b-cc31-4fe5-9d22-d0035db1419b\" type=\"checkbox\" ><label class=\"sk-toggleable__label\" for=\"d93a7e9b-cc31-4fe5-9d22-d0035db1419b\">ordinalencoder</label><div class=\"sk-toggleable__content\"><pre><sklearn.compose._column_transformer.make_column_selector object at 0x0000020C45E6AA60></pre></div></div></div><div class=\"sk-serial\"><div class=\"sk-item\"><div class=\"sk-estimator sk-toggleable\"><input class=\"sk-toggleable__control sk-hidden--visually\" id=\"3738424f-13a9-4c81-83ff-03f502424518\" type=\"checkbox\" ><label class=\"sk-toggleable__label\" for=\"3738424f-13a9-4c81-83ff-03f502424518\">OrdinalEncoder</label><div class=\"sk-toggleable__content\"><pre>OrdinalEncoder(dtype='int16', handle_unknown='use_encoded_value',\n",
       "               unknown_value=-1)</pre></div></div></div></div></div></div><div class=\"sk-parallel-item\"><div class=\"sk-item\"><div class=\"sk-label-container\"><div class=\"sk-label sk-toggleable\"><input class=\"sk-toggleable__control sk-hidden--visually\" id=\"9747df1c-02f3-42ae-a2f4-fcce4186a903\" type=\"checkbox\" ><label class=\"sk-toggleable__label\" for=\"9747df1c-02f3-42ae-a2f4-fcce4186a903\">remainder</label><div class=\"sk-toggleable__content\"><pre></pre></div></div></div><div class=\"sk-serial\"><div class=\"sk-item\"><div class=\"sk-estimator sk-toggleable\"><input class=\"sk-toggleable__control sk-hidden--visually\" id=\"07ff2193-43f4-4118-a280-cd5752cba2a6\" type=\"checkbox\" ><label class=\"sk-toggleable__label\" for=\"07ff2193-43f4-4118-a280-cd5752cba2a6\">passthrough</label><div class=\"sk-toggleable__content\"><pre>passthrough</pre></div></div></div></div></div></div></div></div><div class=\"sk-item\"><div class=\"sk-estimator sk-toggleable\"><input class=\"sk-toggleable__control sk-hidden--visually\" id=\"964f6756-19f9-43ac-bd5e-5c45265c4c90\" type=\"checkbox\" ><label class=\"sk-toggleable__label\" for=\"964f6756-19f9-43ac-bd5e-5c45265c4c90\">AdaBoostClassifier</label><div class=\"sk-toggleable__content\"><pre>AdaBoostClassifier(random_state=314159)</pre></div></div></div></div></div></div></div></div></div></div></div></div>"
      ],
      "text/plain": [
       "GridSearchCV(estimator=Pipeline(steps=[('columntransformer',\n",
       "                                        ColumnTransformer(remainder='passthrough',\n",
       "                                                          transformers=[('ordinalencoder',\n",
       "                                                                         OrdinalEncoder(dtype='int16',\n",
       "                                                                                        handle_unknown='use_encoded_value',\n",
       "                                                                                        unknown_value=-1),\n",
       "                                                                         <sklearn.compose._column_transformer.make_column_selector object at 0x0000020C45E6AA60>)])),\n",
       "                                       ('adaboostclassifier',\n",
       "                                        AdaBoostClassifier(random_state=314159))]),\n",
       "             n_jobs=-1,\n",
       "             param_grid={'adaboostclassifier__learning_rate': array([1. , 1.1, 1.2, 1.3, 1.4]),\n",
       "                         'adaboostclassifier__n_estimators': [50, 100, 150]},\n",
       "             refit='f1',\n",
       "             scoring={'accuracy': 'accuracy', 'f1': 'f1',\n",
       "                      'income_scorer': <function income_scorer at 0x0000020C45B15430>,\n",
       "                      'precision': 'precision', 'recall': 'recall'},\n",
       "             verbose=1)"
      ]
     },
     "execution_count": 50,
     "metadata": {},
     "output_type": "execute_result"
    }
   ],
   "source": [
    "%time gs_ab.fit(X, y)"
   ]
  },
  {
   "cell_type": "markdown",
   "metadata": {},
   "source": [
    "Проверим результаты."
   ]
  },
  {
   "cell_type": "code",
   "execution_count": 51,
   "metadata": {},
   "outputs": [
    {
     "data": {
      "text/html": [
       "<div>\n",
       "<style scoped>\n",
       "    .dataframe tbody tr th:only-of-type {\n",
       "        vertical-align: middle;\n",
       "    }\n",
       "\n",
       "    .dataframe tbody tr th {\n",
       "        vertical-align: top;\n",
       "    }\n",
       "\n",
       "    .dataframe thead th {\n",
       "        text-align: right;\n",
       "    }\n",
       "</style>\n",
       "<table border=\"1\" class=\"dataframe\">\n",
       "  <thead>\n",
       "    <tr style=\"text-align: right;\">\n",
       "      <th></th>\n",
       "      <th>param_adaboostclassifier__learning_rate</th>\n",
       "      <th>param_adaboostclassifier__n_estimators</th>\n",
       "      <th>mean_test_f1</th>\n",
       "      <th>rank_test_f1</th>\n",
       "      <th>mean_test_accuracy</th>\n",
       "      <th>rank_test_accuracy</th>\n",
       "      <th>mean_test_precision</th>\n",
       "      <th>rank_test_precision</th>\n",
       "      <th>mean_test_recall</th>\n",
       "      <th>rank_test_recall</th>\n",
       "      <th>mean_test_income_scorer</th>\n",
       "      <th>rank_test_income_scorer</th>\n",
       "    </tr>\n",
       "  </thead>\n",
       "  <tbody>\n",
       "    <tr>\n",
       "      <th>0</th>\n",
       "      <td>1.0</td>\n",
       "      <td>50</td>\n",
       "      <td>0.267551</td>\n",
       "      <td>10</td>\n",
       "      <td>0.684485</td>\n",
       "      <td>1</td>\n",
       "      <td>0.359708</td>\n",
       "      <td>2</td>\n",
       "      <td>0.234972</td>\n",
       "      <td>14</td>\n",
       "      <td>14.527563</td>\n",
       "      <td>13</td>\n",
       "    </tr>\n",
       "    <tr>\n",
       "      <th>1</th>\n",
       "      <td>1.0</td>\n",
       "      <td>100</td>\n",
       "      <td>0.266042</td>\n",
       "      <td>11</td>\n",
       "      <td>0.679160</td>\n",
       "      <td>4</td>\n",
       "      <td>0.352842</td>\n",
       "      <td>5</td>\n",
       "      <td>0.236956</td>\n",
       "      <td>12</td>\n",
       "      <td>14.538603</td>\n",
       "      <td>12</td>\n",
       "    </tr>\n",
       "    <tr>\n",
       "      <th>2</th>\n",
       "      <td>1.0</td>\n",
       "      <td>150</td>\n",
       "      <td>0.267869</td>\n",
       "      <td>9</td>\n",
       "      <td>0.677117</td>\n",
       "      <td>12</td>\n",
       "      <td>0.351928</td>\n",
       "      <td>8</td>\n",
       "      <td>0.241558</td>\n",
       "      <td>7</td>\n",
       "      <td>14.563459</td>\n",
       "      <td>7</td>\n",
       "    </tr>\n",
       "    <tr>\n",
       "      <th>3</th>\n",
       "      <td>1.1</td>\n",
       "      <td>50</td>\n",
       "      <td>0.271249</td>\n",
       "      <td>4</td>\n",
       "      <td>0.682190</td>\n",
       "      <td>2</td>\n",
       "      <td>0.359758</td>\n",
       "      <td>1</td>\n",
       "      <td>0.240297</td>\n",
       "      <td>8</td>\n",
       "      <td>14.552050</td>\n",
       "      <td>9</td>\n",
       "    </tr>\n",
       "    <tr>\n",
       "      <th>4</th>\n",
       "      <td>1.1</td>\n",
       "      <td>100</td>\n",
       "      <td>0.270203</td>\n",
       "      <td>5</td>\n",
       "      <td>0.679137</td>\n",
       "      <td>5</td>\n",
       "      <td>0.352259</td>\n",
       "      <td>6</td>\n",
       "      <td>0.241920</td>\n",
       "      <td>6</td>\n",
       "      <td>14.567520</td>\n",
       "      <td>4</td>\n",
       "    </tr>\n",
       "    <tr>\n",
       "      <th>5</th>\n",
       "      <td>1.1</td>\n",
       "      <td>150</td>\n",
       "      <td>0.268473</td>\n",
       "      <td>7</td>\n",
       "      <td>0.678494</td>\n",
       "      <td>6</td>\n",
       "      <td>0.351964</td>\n",
       "      <td>7</td>\n",
       "      <td>0.240206</td>\n",
       "      <td>9</td>\n",
       "      <td>14.558009</td>\n",
       "      <td>8</td>\n",
       "    </tr>\n",
       "    <tr>\n",
       "      <th>6</th>\n",
       "      <td>1.2</td>\n",
       "      <td>50</td>\n",
       "      <td>0.262827</td>\n",
       "      <td>14</td>\n",
       "      <td>0.676819</td>\n",
       "      <td>14</td>\n",
       "      <td>0.348229</td>\n",
       "      <td>13</td>\n",
       "      <td>0.236686</td>\n",
       "      <td>13</td>\n",
       "      <td>14.524016</td>\n",
       "      <td>14</td>\n",
       "    </tr>\n",
       "    <tr>\n",
       "      <th>7</th>\n",
       "      <td>1.2</td>\n",
       "      <td>100</td>\n",
       "      <td>0.265318</td>\n",
       "      <td>13</td>\n",
       "      <td>0.677875</td>\n",
       "      <td>7</td>\n",
       "      <td>0.351046</td>\n",
       "      <td>10</td>\n",
       "      <td>0.237769</td>\n",
       "      <td>11</td>\n",
       "      <td>14.547284</td>\n",
       "      <td>11</td>\n",
       "    </tr>\n",
       "    <tr>\n",
       "      <th>8</th>\n",
       "      <td>1.2</td>\n",
       "      <td>150</td>\n",
       "      <td>0.267910</td>\n",
       "      <td>8</td>\n",
       "      <td>0.677209</td>\n",
       "      <td>10</td>\n",
       "      <td>0.347996</td>\n",
       "      <td>14</td>\n",
       "      <td>0.242551</td>\n",
       "      <td>5</td>\n",
       "      <td>14.567354</td>\n",
       "      <td>5</td>\n",
       "    </tr>\n",
       "    <tr>\n",
       "      <th>9</th>\n",
       "      <td>1.3</td>\n",
       "      <td>50</td>\n",
       "      <td>0.272533</td>\n",
       "      <td>3</td>\n",
       "      <td>0.677140</td>\n",
       "      <td>11</td>\n",
       "      <td>0.354034</td>\n",
       "      <td>4</td>\n",
       "      <td>0.243906</td>\n",
       "      <td>3</td>\n",
       "      <td>14.564626</td>\n",
       "      <td>6</td>\n",
       "    </tr>\n",
       "    <tr>\n",
       "      <th>10</th>\n",
       "      <td>1.3</td>\n",
       "      <td>100</td>\n",
       "      <td>0.265572</td>\n",
       "      <td>12</td>\n",
       "      <td>0.676980</td>\n",
       "      <td>13</td>\n",
       "      <td>0.349653</td>\n",
       "      <td>12</td>\n",
       "      <td>0.237858</td>\n",
       "      <td>10</td>\n",
       "      <td>14.550222</td>\n",
       "      <td>10</td>\n",
       "    </tr>\n",
       "    <tr>\n",
       "      <th>11</th>\n",
       "      <td>1.3</td>\n",
       "      <td>150</td>\n",
       "      <td>0.268586</td>\n",
       "      <td>6</td>\n",
       "      <td>0.677370</td>\n",
       "      <td>9</td>\n",
       "      <td>0.350343</td>\n",
       "      <td>11</td>\n",
       "      <td>0.243182</td>\n",
       "      <td>4</td>\n",
       "      <td>14.576286</td>\n",
       "      <td>3</td>\n",
       "    </tr>\n",
       "    <tr>\n",
       "      <th>12</th>\n",
       "      <td>1.4</td>\n",
       "      <td>50</td>\n",
       "      <td>0.257301</td>\n",
       "      <td>15</td>\n",
       "      <td>0.672481</td>\n",
       "      <td>15</td>\n",
       "      <td>0.340990</td>\n",
       "      <td>15</td>\n",
       "      <td>0.229466</td>\n",
       "      <td>15</td>\n",
       "      <td>14.501644</td>\n",
       "      <td>15</td>\n",
       "    </tr>\n",
       "    <tr>\n",
       "      <th>13</th>\n",
       "      <td>1.4</td>\n",
       "      <td>100</td>\n",
       "      <td>0.275894</td>\n",
       "      <td>1</td>\n",
       "      <td>0.680308</td>\n",
       "      <td>3</td>\n",
       "      <td>0.355261</td>\n",
       "      <td>3</td>\n",
       "      <td>0.248146</td>\n",
       "      <td>1</td>\n",
       "      <td>14.596280</td>\n",
       "      <td>2</td>\n",
       "    </tr>\n",
       "    <tr>\n",
       "      <th>14</th>\n",
       "      <td>1.4</td>\n",
       "      <td>150</td>\n",
       "      <td>0.273181</td>\n",
       "      <td>2</td>\n",
       "      <td>0.677829</td>\n",
       "      <td>8</td>\n",
       "      <td>0.351835</td>\n",
       "      <td>9</td>\n",
       "      <td>0.248055</td>\n",
       "      <td>2</td>\n",
       "      <td>14.599020</td>\n",
       "      <td>1</td>\n",
       "    </tr>\n",
       "  </tbody>\n",
       "</table>\n",
       "</div>"
      ],
      "text/plain": [
       "   param_adaboostclassifier__learning_rate  \\\n",
       "0                                      1.0   \n",
       "1                                      1.0   \n",
       "2                                      1.0   \n",
       "3                                      1.1   \n",
       "4                                      1.1   \n",
       "5                                      1.1   \n",
       "6                                      1.2   \n",
       "7                                      1.2   \n",
       "8                                      1.2   \n",
       "9                                      1.3   \n",
       "10                                     1.3   \n",
       "11                                     1.3   \n",
       "12                                     1.4   \n",
       "13                                     1.4   \n",
       "14                                     1.4   \n",
       "\n",
       "   param_adaboostclassifier__n_estimators  mean_test_f1  rank_test_f1  \\\n",
       "0                                      50      0.267551            10   \n",
       "1                                     100      0.266042            11   \n",
       "2                                     150      0.267869             9   \n",
       "3                                      50      0.271249             4   \n",
       "4                                     100      0.270203             5   \n",
       "5                                     150      0.268473             7   \n",
       "6                                      50      0.262827            14   \n",
       "7                                     100      0.265318            13   \n",
       "8                                     150      0.267910             8   \n",
       "9                                      50      0.272533             3   \n",
       "10                                    100      0.265572            12   \n",
       "11                                    150      0.268586             6   \n",
       "12                                     50      0.257301            15   \n",
       "13                                    100      0.275894             1   \n",
       "14                                    150      0.273181             2   \n",
       "\n",
       "    mean_test_accuracy  rank_test_accuracy  mean_test_precision  \\\n",
       "0             0.684485                   1             0.359708   \n",
       "1             0.679160                   4             0.352842   \n",
       "2             0.677117                  12             0.351928   \n",
       "3             0.682190                   2             0.359758   \n",
       "4             0.679137                   5             0.352259   \n",
       "5             0.678494                   6             0.351964   \n",
       "6             0.676819                  14             0.348229   \n",
       "7             0.677875                   7             0.351046   \n",
       "8             0.677209                  10             0.347996   \n",
       "9             0.677140                  11             0.354034   \n",
       "10            0.676980                  13             0.349653   \n",
       "11            0.677370                   9             0.350343   \n",
       "12            0.672481                  15             0.340990   \n",
       "13            0.680308                   3             0.355261   \n",
       "14            0.677829                   8             0.351835   \n",
       "\n",
       "    rank_test_precision  mean_test_recall  rank_test_recall  \\\n",
       "0                     2          0.234972                14   \n",
       "1                     5          0.236956                12   \n",
       "2                     8          0.241558                 7   \n",
       "3                     1          0.240297                 8   \n",
       "4                     6          0.241920                 6   \n",
       "5                     7          0.240206                 9   \n",
       "6                    13          0.236686                13   \n",
       "7                    10          0.237769                11   \n",
       "8                    14          0.242551                 5   \n",
       "9                     4          0.243906                 3   \n",
       "10                   12          0.237858                10   \n",
       "11                   11          0.243182                 4   \n",
       "12                   15          0.229466                15   \n",
       "13                    3          0.248146                 1   \n",
       "14                    9          0.248055                 2   \n",
       "\n",
       "    mean_test_income_scorer  rank_test_income_scorer  \n",
       "0                 14.527563                       13  \n",
       "1                 14.538603                       12  \n",
       "2                 14.563459                        7  \n",
       "3                 14.552050                        9  \n",
       "4                 14.567520                        4  \n",
       "5                 14.558009                        8  \n",
       "6                 14.524016                       14  \n",
       "7                 14.547284                       11  \n",
       "8                 14.567354                        5  \n",
       "9                 14.564626                        6  \n",
       "10                14.550222                       10  \n",
       "11                14.576286                        3  \n",
       "12                14.501644                       15  \n",
       "13                14.596280                        2  \n",
       "14                14.599020                        1  "
      ]
     },
     "execution_count": 51,
     "metadata": {},
     "output_type": "execute_result"
    }
   ],
   "source": [
    "pd.DataFrame(gs_ab.cv_results_)[[\n",
    "    'param_adaboostclassifier__learning_rate', 'param_adaboostclassifier__n_estimators',\n",
    "    'mean_test_f1', 'rank_test_f1',\n",
    "    'mean_test_accuracy', 'rank_test_accuracy',\n",
    "    'mean_test_precision', 'rank_test_precision',\n",
    "    'mean_test_recall', 'rank_test_recall',\n",
    "    'mean_test_income_scorer', 'rank_test_income_scorer'\n",
    "]]"
   ]
  },
  {
   "cell_type": "markdown",
   "metadata": {},
   "source": [
    "Проверим метрики."
   ]
  },
  {
   "cell_type": "code",
   "execution_count": 52,
   "metadata": {
    "scrolled": true
   },
   "outputs": [
    {
     "name": "stdout",
     "output_type": "stream",
     "text": [
      "Метрика F1 составила 0.177\n",
      "Метрика Accuracy составила 0.707\n",
      "Метрика Precision составила 0.788\n",
      "Метрика Recall составила 0.099\n",
      "Доход за 2017 год составил 34.067 млн. рублей\n",
      "Доход с учётом модификатора отказа за 2017 год составил 33.534 млн. рублей\n"
     ]
    },
    {
     "data": {
      "text/html": [
       "<div>\n",
       "<style scoped>\n",
       "    .dataframe tbody tr th:only-of-type {\n",
       "        vertical-align: middle;\n",
       "    }\n",
       "\n",
       "    .dataframe tbody tr th {\n",
       "        vertical-align: top;\n",
       "    }\n",
       "\n",
       "    .dataframe thead th {\n",
       "        text-align: right;\n",
       "    }\n",
       "</style>\n",
       "<table border=\"1\" class=\"dataframe\">\n",
       "  <thead>\n",
       "    <tr style=\"text-align: right;\">\n",
       "      <th></th>\n",
       "      <th>TN</th>\n",
       "      <th>FP</th>\n",
       "      <th>FN</th>\n",
       "      <th>TP</th>\n",
       "    </tr>\n",
       "  </thead>\n",
       "  <tbody>\n",
       "    <tr>\n",
       "      <th>Для оцениваемой модели</th>\n",
       "      <td>16605</td>\n",
       "      <td>208</td>\n",
       "      <td>6985</td>\n",
       "      <td>771</td>\n",
       "    </tr>\n",
       "    <tr>\n",
       "      <th>Для случайной модели</th>\n",
       "      <td>8402</td>\n",
       "      <td>8411</td>\n",
       "      <td>3887</td>\n",
       "      <td>3869</td>\n",
       "    </tr>\n",
       "  </tbody>\n",
       "</table>\n",
       "</div>"
      ],
      "text/plain": [
       "                           TN    FP    FN    TP\n",
       "Для оцениваемой модели  16605   208  6985   771\n",
       "Для случайной модели     8402  8411  3887  3869"
      ]
     },
     "metadata": {},
     "output_type": "display_data"
    }
   ],
   "source": [
    "model_score(gs_ab)"
   ]
  },
  {
   "cell_type": "markdown",
   "metadata": {},
   "source": [
    "Модель лучше отличает негативные классы и хуже позитивные, поэтому проиграла даже случайной, но у неё сильно меньшее число **FP**, что может положительно сказаться на отношении клиентов."
   ]
  },
  {
   "cell_type": "markdown",
   "metadata": {},
   "source": [
    "### Модель GradientBoostingClassifier()\n",
    "\n",
    "Проверим модель GradientBoostingClassifier()."
   ]
  },
  {
   "cell_type": "code",
   "execution_count": 53,
   "metadata": {},
   "outputs": [],
   "source": [
    "pipe_gb = make_pipeline(\n",
    "    ensemble_transformer,\n",
    "    GradientBoostingClassifier(\n",
    "        random_state=SEED\n",
    "    )\n",
    ")"
   ]
  },
  {
   "cell_type": "markdown",
   "metadata": {},
   "source": [
    "Зададим сетку параметров и создадим estimator."
   ]
  },
  {
   "cell_type": "code",
   "execution_count": 54,
   "metadata": {
    "scrolled": true
   },
   "outputs": [],
   "source": [
    "param_grid = {\n",
    "    'gradientboostingclassifier__loss':['deviance', 'exponential'],\n",
    "    'gradientboostingclassifier__learning_rate':[.005, .01, .05],\n",
    "    'gradientboostingclassifier__n_estimators':[100, 200, 300]\n",
    "}\n",
    "\n",
    "gs_gb = GridSearchCV(\n",
    "    pipe_gb,\n",
    "    param_grid,\n",
    "    scoring={'income_scorer':income_scorer, 'f1':'f1', 'accuracy':'accuracy', 'precision':'precision', 'recall':'recall'},\n",
    "    n_jobs=-1,\n",
    "    verbose=1,\n",
    "    refit='f1'\n",
    ")"
   ]
  },
  {
   "cell_type": "markdown",
   "metadata": {},
   "source": [
    "Проведём обучение с кросс-валидацией выбранного оценщика."
   ]
  },
  {
   "cell_type": "code",
   "execution_count": 55,
   "metadata": {
    "scrolled": true
   },
   "outputs": [
    {
     "name": "stdout",
     "output_type": "stream",
     "text": [
      "Fitting 5 folds for each of 18 candidates, totalling 90 fits\n",
      "CPU times: total: 16.9 s\n",
      "Wall time: 6min 5s\n"
     ]
    },
    {
     "data": {
      "text/html": [
       "<style>div.sk-top-container {color: black;background-color: white;}div.sk-toggleable {background-color: white;}label.sk-toggleable__label {cursor: pointer;display: block;width: 100%;margin-bottom: 0;padding: 0.2em 0.3em;box-sizing: border-box;text-align: center;}div.sk-toggleable__content {max-height: 0;max-width: 0;overflow: hidden;text-align: left;background-color: #f0f8ff;}div.sk-toggleable__content pre {margin: 0.2em;color: black;border-radius: 0.25em;background-color: #f0f8ff;}input.sk-toggleable__control:checked~div.sk-toggleable__content {max-height: 200px;max-width: 100%;overflow: auto;}div.sk-estimator input.sk-toggleable__control:checked~label.sk-toggleable__label {background-color: #d4ebff;}div.sk-label input.sk-toggleable__control:checked~label.sk-toggleable__label {background-color: #d4ebff;}input.sk-hidden--visually {border: 0;clip: rect(1px 1px 1px 1px);clip: rect(1px, 1px, 1px, 1px);height: 1px;margin: -1px;overflow: hidden;padding: 0;position: absolute;width: 1px;}div.sk-estimator {font-family: monospace;background-color: #f0f8ff;margin: 0.25em 0.25em;border: 1px dotted black;border-radius: 0.25em;box-sizing: border-box;}div.sk-estimator:hover {background-color: #d4ebff;}div.sk-parallel-item::after {content: \"\";width: 100%;border-bottom: 1px solid gray;flex-grow: 1;}div.sk-label:hover label.sk-toggleable__label {background-color: #d4ebff;}div.sk-serial::before {content: \"\";position: absolute;border-left: 1px solid gray;box-sizing: border-box;top: 2em;bottom: 0;left: 50%;}div.sk-serial {display: flex;flex-direction: column;align-items: center;background-color: white;}div.sk-item {z-index: 1;}div.sk-parallel {display: flex;align-items: stretch;justify-content: center;background-color: white;}div.sk-parallel-item {display: flex;flex-direction: column;position: relative;background-color: white;}div.sk-parallel-item:first-child::after {align-self: flex-end;width: 50%;}div.sk-parallel-item:last-child::after {align-self: flex-start;width: 50%;}div.sk-parallel-item:only-child::after {width: 0;}div.sk-dashed-wrapped {border: 1px dashed gray;margin: 0.2em;box-sizing: border-box;padding-bottom: 0.1em;background-color: white;position: relative;}div.sk-label label {font-family: monospace;font-weight: bold;background-color: white;display: inline-block;line-height: 1.2em;}div.sk-label-container {position: relative;z-index: 2;text-align: center;}div.sk-container {display: inline-block;position: relative;}</style><div class=\"sk-top-container\"><div class=\"sk-container\"><div class=\"sk-item sk-dashed-wrapped\"><div class=\"sk-label-container\"><div class=\"sk-label sk-toggleable\"><input class=\"sk-toggleable__control sk-hidden--visually\" id=\"08e0c64b-6fff-4c11-a177-454b80233dea\" type=\"checkbox\" ><label class=\"sk-toggleable__label\" for=\"08e0c64b-6fff-4c11-a177-454b80233dea\">GridSearchCV</label><div class=\"sk-toggleable__content\"><pre>GridSearchCV(estimator=Pipeline(steps=[('columntransformer',\n",
       "                                        ColumnTransformer(remainder='passthrough',\n",
       "                                                          transformers=[('ordinalencoder',\n",
       "                                                                         OrdinalEncoder(dtype='int16',\n",
       "                                                                                        handle_unknown='use_encoded_value',\n",
       "                                                                                        unknown_value=-1),\n",
       "                                                                         <sklearn.compose._column_transformer.make_column_selector object at 0x0000020C45E6AA60>)])),\n",
       "                                       ('gradientboostingclassifier',\n",
       "                                        GradientBoostin...\n",
       "             param_grid={'gradientboostingclassifier__learning_rate': [0.005,\n",
       "                                                                       0.01,\n",
       "                                                                       0.05],\n",
       "                         'gradientboostingclassifier__loss': ['deviance',\n",
       "                                                              'exponential'],\n",
       "                         'gradientboostingclassifier__n_estimators': [100, 200,\n",
       "                                                                      300]},\n",
       "             refit='f1',\n",
       "             scoring={'accuracy': 'accuracy', 'f1': 'f1',\n",
       "                      'income_scorer': <function income_scorer at 0x0000020C45B15430>,\n",
       "                      'precision': 'precision', 'recall': 'recall'},\n",
       "             verbose=1)</pre></div></div></div><div class=\"sk-parallel\"><div class=\"sk-parallel-item\"><div class=\"sk-item\"><div class=\"sk-serial\"><div class=\"sk-item\"><div class=\"sk-serial\"><div class=\"sk-item sk-dashed-wrapped\"><div class=\"sk-label-container\"><div class=\"sk-label sk-toggleable\"><input class=\"sk-toggleable__control sk-hidden--visually\" id=\"7a13f664-e272-4490-bf9d-c86edb7f44e1\" type=\"checkbox\" ><label class=\"sk-toggleable__label\" for=\"7a13f664-e272-4490-bf9d-c86edb7f44e1\">columntransformer: ColumnTransformer</label><div class=\"sk-toggleable__content\"><pre>ColumnTransformer(remainder='passthrough',\n",
       "                  transformers=[('ordinalencoder',\n",
       "                                 OrdinalEncoder(dtype='int16',\n",
       "                                                handle_unknown='use_encoded_value',\n",
       "                                                unknown_value=-1),\n",
       "                                 <sklearn.compose._column_transformer.make_column_selector object at 0x0000020C45E6AA60>)])</pre></div></div></div><div class=\"sk-parallel\"><div class=\"sk-parallel-item\"><div class=\"sk-item\"><div class=\"sk-label-container\"><div class=\"sk-label sk-toggleable\"><input class=\"sk-toggleable__control sk-hidden--visually\" id=\"c606c6f8-2c66-4cf0-8d31-091439ec1633\" type=\"checkbox\" ><label class=\"sk-toggleable__label\" for=\"c606c6f8-2c66-4cf0-8d31-091439ec1633\">ordinalencoder</label><div class=\"sk-toggleable__content\"><pre><sklearn.compose._column_transformer.make_column_selector object at 0x0000020C45E6AA60></pre></div></div></div><div class=\"sk-serial\"><div class=\"sk-item\"><div class=\"sk-estimator sk-toggleable\"><input class=\"sk-toggleable__control sk-hidden--visually\" id=\"31869553-f2c7-4d46-bc82-384960524c9c\" type=\"checkbox\" ><label class=\"sk-toggleable__label\" for=\"31869553-f2c7-4d46-bc82-384960524c9c\">OrdinalEncoder</label><div class=\"sk-toggleable__content\"><pre>OrdinalEncoder(dtype='int16', handle_unknown='use_encoded_value',\n",
       "               unknown_value=-1)</pre></div></div></div></div></div></div><div class=\"sk-parallel-item\"><div class=\"sk-item\"><div class=\"sk-label-container\"><div class=\"sk-label sk-toggleable\"><input class=\"sk-toggleable__control sk-hidden--visually\" id=\"7e6ea14d-2188-4fd7-ab90-290786840ce8\" type=\"checkbox\" ><label class=\"sk-toggleable__label\" for=\"7e6ea14d-2188-4fd7-ab90-290786840ce8\">remainder</label><div class=\"sk-toggleable__content\"><pre></pre></div></div></div><div class=\"sk-serial\"><div class=\"sk-item\"><div class=\"sk-estimator sk-toggleable\"><input class=\"sk-toggleable__control sk-hidden--visually\" id=\"f252b597-2862-4ef9-9a34-b957d815e9a6\" type=\"checkbox\" ><label class=\"sk-toggleable__label\" for=\"f252b597-2862-4ef9-9a34-b957d815e9a6\">passthrough</label><div class=\"sk-toggleable__content\"><pre>passthrough</pre></div></div></div></div></div></div></div></div><div class=\"sk-item\"><div class=\"sk-estimator sk-toggleable\"><input class=\"sk-toggleable__control sk-hidden--visually\" id=\"07c88e45-6687-4f8f-a647-f375eca717c2\" type=\"checkbox\" ><label class=\"sk-toggleable__label\" for=\"07c88e45-6687-4f8f-a647-f375eca717c2\">GradientBoostingClassifier</label><div class=\"sk-toggleable__content\"><pre>GradientBoostingClassifier(random_state=314159)</pre></div></div></div></div></div></div></div></div></div></div></div></div>"
      ],
      "text/plain": [
       "GridSearchCV(estimator=Pipeline(steps=[('columntransformer',\n",
       "                                        ColumnTransformer(remainder='passthrough',\n",
       "                                                          transformers=[('ordinalencoder',\n",
       "                                                                         OrdinalEncoder(dtype='int16',\n",
       "                                                                                        handle_unknown='use_encoded_value',\n",
       "                                                                                        unknown_value=-1),\n",
       "                                                                         <sklearn.compose._column_transformer.make_column_selector object at 0x0000020C45E6AA60>)])),\n",
       "                                       ('gradientboostingclassifier',\n",
       "                                        GradientBoostin...\n",
       "             param_grid={'gradientboostingclassifier__learning_rate': [0.005,\n",
       "                                                                       0.01,\n",
       "                                                                       0.05],\n",
       "                         'gradientboostingclassifier__loss': ['deviance',\n",
       "                                                              'exponential'],\n",
       "                         'gradientboostingclassifier__n_estimators': [100, 200,\n",
       "                                                                      300]},\n",
       "             refit='f1',\n",
       "             scoring={'accuracy': 'accuracy', 'f1': 'f1',\n",
       "                      'income_scorer': <function income_scorer at 0x0000020C45B15430>,\n",
       "                      'precision': 'precision', 'recall': 'recall'},\n",
       "             verbose=1)"
      ]
     },
     "execution_count": 55,
     "metadata": {},
     "output_type": "execute_result"
    }
   ],
   "source": [
    "%time gs_gb.fit(X, y)"
   ]
  },
  {
   "cell_type": "markdown",
   "metadata": {},
   "source": [
    "Проверим результаты."
   ]
  },
  {
   "cell_type": "code",
   "execution_count": 56,
   "metadata": {
    "scrolled": false
   },
   "outputs": [
    {
     "data": {
      "text/html": [
       "<div>\n",
       "<style scoped>\n",
       "    .dataframe tbody tr th:only-of-type {\n",
       "        vertical-align: middle;\n",
       "    }\n",
       "\n",
       "    .dataframe tbody tr th {\n",
       "        vertical-align: top;\n",
       "    }\n",
       "\n",
       "    .dataframe thead th {\n",
       "        text-align: right;\n",
       "    }\n",
       "</style>\n",
       "<table border=\"1\" class=\"dataframe\">\n",
       "  <thead>\n",
       "    <tr style=\"text-align: right;\">\n",
       "      <th></th>\n",
       "      <th>param_gradientboostingclassifier__learning_rate</th>\n",
       "      <th>param_gradientboostingclassifier__loss</th>\n",
       "      <th>param_gradientboostingclassifier__n_estimators</th>\n",
       "      <th>mean_test_f1</th>\n",
       "      <th>rank_test_f1</th>\n",
       "      <th>mean_test_accuracy</th>\n",
       "      <th>rank_test_accuracy</th>\n",
       "      <th>mean_test_precision</th>\n",
       "      <th>rank_test_precision</th>\n",
       "      <th>mean_test_recall</th>\n",
       "      <th>rank_test_recall</th>\n",
       "      <th>mean_test_income_scorer</th>\n",
       "      <th>rank_test_income_scorer</th>\n",
       "    </tr>\n",
       "  </thead>\n",
       "  <tbody>\n",
       "    <tr>\n",
       "      <th>0</th>\n",
       "      <td>0.005</td>\n",
       "      <td>deviance</td>\n",
       "      <td>100</td>\n",
       "      <td>0.001439</td>\n",
       "      <td>17</td>\n",
       "      <td>0.745651</td>\n",
       "      <td>7</td>\n",
       "      <td>0.200000</td>\n",
       "      <td>12</td>\n",
       "      <td>0.000722</td>\n",
       "      <td>17</td>\n",
       "      <td>13.383562</td>\n",
       "      <td>17</td>\n",
       "    </tr>\n",
       "    <tr>\n",
       "      <th>1</th>\n",
       "      <td>0.005</td>\n",
       "      <td>deviance</td>\n",
       "      <td>200</td>\n",
       "      <td>0.027719</td>\n",
       "      <td>13</td>\n",
       "      <td>0.748933</td>\n",
       "      <td>2</td>\n",
       "      <td>0.200000</td>\n",
       "      <td>12</td>\n",
       "      <td>0.014892</td>\n",
       "      <td>13</td>\n",
       "      <td>13.460536</td>\n",
       "      <td>13</td>\n",
       "    </tr>\n",
       "    <tr>\n",
       "      <th>2</th>\n",
       "      <td>0.005</td>\n",
       "      <td>deviance</td>\n",
       "      <td>300</td>\n",
       "      <td>0.034148</td>\n",
       "      <td>11</td>\n",
       "      <td>0.743562</td>\n",
       "      <td>8</td>\n",
       "      <td>0.291410</td>\n",
       "      <td>10</td>\n",
       "      <td>0.018320</td>\n",
       "      <td>11</td>\n",
       "      <td>13.477632</td>\n",
       "      <td>11</td>\n",
       "    </tr>\n",
       "    <tr>\n",
       "      <th>3</th>\n",
       "      <td>0.005</td>\n",
       "      <td>exponential</td>\n",
       "      <td>100</td>\n",
       "      <td>0.000000</td>\n",
       "      <td>18</td>\n",
       "      <td>0.745674</td>\n",
       "      <td>6</td>\n",
       "      <td>0.000000</td>\n",
       "      <td>18</td>\n",
       "      <td>0.000000</td>\n",
       "      <td>18</td>\n",
       "      <td>13.381342</td>\n",
       "      <td>18</td>\n",
       "    </tr>\n",
       "    <tr>\n",
       "      <th>4</th>\n",
       "      <td>0.005</td>\n",
       "      <td>exponential</td>\n",
       "      <td>200</td>\n",
       "      <td>0.015778</td>\n",
       "      <td>16</td>\n",
       "      <td>0.747441</td>\n",
       "      <td>5</td>\n",
       "      <td>0.200000</td>\n",
       "      <td>12</td>\n",
       "      <td>0.008213</td>\n",
       "      <td>16</td>\n",
       "      <td>13.425826</td>\n",
       "      <td>16</td>\n",
       "    </tr>\n",
       "    <tr>\n",
       "      <th>5</th>\n",
       "      <td>0.005</td>\n",
       "      <td>exponential</td>\n",
       "      <td>300</td>\n",
       "      <td>0.028966</td>\n",
       "      <td>12</td>\n",
       "      <td>0.749002</td>\n",
       "      <td>1</td>\n",
       "      <td>0.200000</td>\n",
       "      <td>12</td>\n",
       "      <td>0.015614</td>\n",
       "      <td>12</td>\n",
       "      <td>13.463662</td>\n",
       "      <td>12</td>\n",
       "    </tr>\n",
       "    <tr>\n",
       "      <th>6</th>\n",
       "      <td>0.01</td>\n",
       "      <td>deviance</td>\n",
       "      <td>100</td>\n",
       "      <td>0.027563</td>\n",
       "      <td>14</td>\n",
       "      <td>0.748910</td>\n",
       "      <td>3</td>\n",
       "      <td>0.200000</td>\n",
       "      <td>12</td>\n",
       "      <td>0.014801</td>\n",
       "      <td>14</td>\n",
       "      <td>13.460254</td>\n",
       "      <td>14</td>\n",
       "    </tr>\n",
       "    <tr>\n",
       "      <th>7</th>\n",
       "      <td>0.01</td>\n",
       "      <td>deviance</td>\n",
       "      <td>200</td>\n",
       "      <td>0.073720</td>\n",
       "      <td>9</td>\n",
       "      <td>0.737709</td>\n",
       "      <td>10</td>\n",
       "      <td>0.307850</td>\n",
       "      <td>8</td>\n",
       "      <td>0.041957</td>\n",
       "      <td>9</td>\n",
       "      <td>13.595239</td>\n",
       "      <td>9</td>\n",
       "    </tr>\n",
       "    <tr>\n",
       "      <th>8</th>\n",
       "      <td>0.01</td>\n",
       "      <td>deviance</td>\n",
       "      <td>300</td>\n",
       "      <td>0.132902</td>\n",
       "      <td>7</td>\n",
       "      <td>0.721024</td>\n",
       "      <td>12</td>\n",
       "      <td>0.360900</td>\n",
       "      <td>3</td>\n",
       "      <td>0.097986</td>\n",
       "      <td>7</td>\n",
       "      <td>13.876282</td>\n",
       "      <td>7</td>\n",
       "    </tr>\n",
       "    <tr>\n",
       "      <th>9</th>\n",
       "      <td>0.01</td>\n",
       "      <td>exponential</td>\n",
       "      <td>100</td>\n",
       "      <td>0.017106</td>\n",
       "      <td>15</td>\n",
       "      <td>0.747670</td>\n",
       "      <td>4</td>\n",
       "      <td>0.200000</td>\n",
       "      <td>12</td>\n",
       "      <td>0.008935</td>\n",
       "      <td>15</td>\n",
       "      <td>13.430015</td>\n",
       "      <td>15</td>\n",
       "    </tr>\n",
       "    <tr>\n",
       "      <th>10</th>\n",
       "      <td>0.01</td>\n",
       "      <td>exponential</td>\n",
       "      <td>200</td>\n",
       "      <td>0.058724</td>\n",
       "      <td>10</td>\n",
       "      <td>0.742713</td>\n",
       "      <td>9</td>\n",
       "      <td>0.306661</td>\n",
       "      <td>9</td>\n",
       "      <td>0.032485</td>\n",
       "      <td>10</td>\n",
       "      <td>13.544867</td>\n",
       "      <td>10</td>\n",
       "    </tr>\n",
       "    <tr>\n",
       "      <th>11</th>\n",
       "      <td>0.01</td>\n",
       "      <td>exponential</td>\n",
       "      <td>300</td>\n",
       "      <td>0.108372</td>\n",
       "      <td>8</td>\n",
       "      <td>0.721414</td>\n",
       "      <td>11</td>\n",
       "      <td>0.266892</td>\n",
       "      <td>11</td>\n",
       "      <td>0.078044</td>\n",
       "      <td>8</td>\n",
       "      <td>13.780419</td>\n",
       "      <td>8</td>\n",
       "    </tr>\n",
       "    <tr>\n",
       "      <th>12</th>\n",
       "      <td>0.05</td>\n",
       "      <td>deviance</td>\n",
       "      <td>100</td>\n",
       "      <td>0.225934</td>\n",
       "      <td>6</td>\n",
       "      <td>0.700298</td>\n",
       "      <td>14</td>\n",
       "      <td>0.364950</td>\n",
       "      <td>1</td>\n",
       "      <td>0.179836</td>\n",
       "      <td>5</td>\n",
       "      <td>14.281298</td>\n",
       "      <td>5</td>\n",
       "    </tr>\n",
       "    <tr>\n",
       "      <th>13</th>\n",
       "      <td>0.05</td>\n",
       "      <td>deviance</td>\n",
       "      <td>200</td>\n",
       "      <td>0.244325</td>\n",
       "      <td>4</td>\n",
       "      <td>0.674455</td>\n",
       "      <td>16</td>\n",
       "      <td>0.348394</td>\n",
       "      <td>5</td>\n",
       "      <td>0.216924</td>\n",
       "      <td>4</td>\n",
       "      <td>14.446433</td>\n",
       "      <td>4</td>\n",
       "    </tr>\n",
       "    <tr>\n",
       "      <th>14</th>\n",
       "      <td>0.05</td>\n",
       "      <td>deviance</td>\n",
       "      <td>300</td>\n",
       "      <td>0.252087</td>\n",
       "      <td>2</td>\n",
       "      <td>0.663897</td>\n",
       "      <td>18</td>\n",
       "      <td>0.346384</td>\n",
       "      <td>6</td>\n",
       "      <td>0.231271</td>\n",
       "      <td>2</td>\n",
       "      <td>14.516403</td>\n",
       "      <td>2</td>\n",
       "    </tr>\n",
       "    <tr>\n",
       "      <th>15</th>\n",
       "      <td>0.05</td>\n",
       "      <td>exponential</td>\n",
       "      <td>100</td>\n",
       "      <td>0.226453</td>\n",
       "      <td>5</td>\n",
       "      <td>0.704315</td>\n",
       "      <td>13</td>\n",
       "      <td>0.364325</td>\n",
       "      <td>2</td>\n",
       "      <td>0.179655</td>\n",
       "      <td>6</td>\n",
       "      <td>14.277729</td>\n",
       "      <td>6</td>\n",
       "    </tr>\n",
       "    <tr>\n",
       "      <th>16</th>\n",
       "      <td>0.05</td>\n",
       "      <td>exponential</td>\n",
       "      <td>200</td>\n",
       "      <td>0.248698</td>\n",
       "      <td>3</td>\n",
       "      <td>0.679389</td>\n",
       "      <td>15</td>\n",
       "      <td>0.353269</td>\n",
       "      <td>4</td>\n",
       "      <td>0.219630</td>\n",
       "      <td>3</td>\n",
       "      <td>14.459553</td>\n",
       "      <td>3</td>\n",
       "    </tr>\n",
       "    <tr>\n",
       "      <th>17</th>\n",
       "      <td>0.05</td>\n",
       "      <td>exponential</td>\n",
       "      <td>300</td>\n",
       "      <td>0.253619</td>\n",
       "      <td>1</td>\n",
       "      <td>0.666766</td>\n",
       "      <td>17</td>\n",
       "      <td>0.346337</td>\n",
       "      <td>7</td>\n",
       "      <td>0.232624</td>\n",
       "      <td>1</td>\n",
       "      <td>14.521909</td>\n",
       "      <td>1</td>\n",
       "    </tr>\n",
       "  </tbody>\n",
       "</table>\n",
       "</div>"
      ],
      "text/plain": [
       "   param_gradientboostingclassifier__learning_rate  \\\n",
       "0                                            0.005   \n",
       "1                                            0.005   \n",
       "2                                            0.005   \n",
       "3                                            0.005   \n",
       "4                                            0.005   \n",
       "5                                            0.005   \n",
       "6                                             0.01   \n",
       "7                                             0.01   \n",
       "8                                             0.01   \n",
       "9                                             0.01   \n",
       "10                                            0.01   \n",
       "11                                            0.01   \n",
       "12                                            0.05   \n",
       "13                                            0.05   \n",
       "14                                            0.05   \n",
       "15                                            0.05   \n",
       "16                                            0.05   \n",
       "17                                            0.05   \n",
       "\n",
       "   param_gradientboostingclassifier__loss  \\\n",
       "0                                deviance   \n",
       "1                                deviance   \n",
       "2                                deviance   \n",
       "3                             exponential   \n",
       "4                             exponential   \n",
       "5                             exponential   \n",
       "6                                deviance   \n",
       "7                                deviance   \n",
       "8                                deviance   \n",
       "9                             exponential   \n",
       "10                            exponential   \n",
       "11                            exponential   \n",
       "12                               deviance   \n",
       "13                               deviance   \n",
       "14                               deviance   \n",
       "15                            exponential   \n",
       "16                            exponential   \n",
       "17                            exponential   \n",
       "\n",
       "   param_gradientboostingclassifier__n_estimators  mean_test_f1  rank_test_f1  \\\n",
       "0                                             100      0.001439            17   \n",
       "1                                             200      0.027719            13   \n",
       "2                                             300      0.034148            11   \n",
       "3                                             100      0.000000            18   \n",
       "4                                             200      0.015778            16   \n",
       "5                                             300      0.028966            12   \n",
       "6                                             100      0.027563            14   \n",
       "7                                             200      0.073720             9   \n",
       "8                                             300      0.132902             7   \n",
       "9                                             100      0.017106            15   \n",
       "10                                            200      0.058724            10   \n",
       "11                                            300      0.108372             8   \n",
       "12                                            100      0.225934             6   \n",
       "13                                            200      0.244325             4   \n",
       "14                                            300      0.252087             2   \n",
       "15                                            100      0.226453             5   \n",
       "16                                            200      0.248698             3   \n",
       "17                                            300      0.253619             1   \n",
       "\n",
       "    mean_test_accuracy  rank_test_accuracy  mean_test_precision  \\\n",
       "0             0.745651                   7             0.200000   \n",
       "1             0.748933                   2             0.200000   \n",
       "2             0.743562                   8             0.291410   \n",
       "3             0.745674                   6             0.000000   \n",
       "4             0.747441                   5             0.200000   \n",
       "5             0.749002                   1             0.200000   \n",
       "6             0.748910                   3             0.200000   \n",
       "7             0.737709                  10             0.307850   \n",
       "8             0.721024                  12             0.360900   \n",
       "9             0.747670                   4             0.200000   \n",
       "10            0.742713                   9             0.306661   \n",
       "11            0.721414                  11             0.266892   \n",
       "12            0.700298                  14             0.364950   \n",
       "13            0.674455                  16             0.348394   \n",
       "14            0.663897                  18             0.346384   \n",
       "15            0.704315                  13             0.364325   \n",
       "16            0.679389                  15             0.353269   \n",
       "17            0.666766                  17             0.346337   \n",
       "\n",
       "    rank_test_precision  mean_test_recall  rank_test_recall  \\\n",
       "0                    12          0.000722                17   \n",
       "1                    12          0.014892                13   \n",
       "2                    10          0.018320                11   \n",
       "3                    18          0.000000                18   \n",
       "4                    12          0.008213                16   \n",
       "5                    12          0.015614                12   \n",
       "6                    12          0.014801                14   \n",
       "7                     8          0.041957                 9   \n",
       "8                     3          0.097986                 7   \n",
       "9                    12          0.008935                15   \n",
       "10                    9          0.032485                10   \n",
       "11                   11          0.078044                 8   \n",
       "12                    1          0.179836                 5   \n",
       "13                    5          0.216924                 4   \n",
       "14                    6          0.231271                 2   \n",
       "15                    2          0.179655                 6   \n",
       "16                    4          0.219630                 3   \n",
       "17                    7          0.232624                 1   \n",
       "\n",
       "    mean_test_income_scorer  rank_test_income_scorer  \n",
       "0                 13.383562                       17  \n",
       "1                 13.460536                       13  \n",
       "2                 13.477632                       11  \n",
       "3                 13.381342                       18  \n",
       "4                 13.425826                       16  \n",
       "5                 13.463662                       12  \n",
       "6                 13.460254                       14  \n",
       "7                 13.595239                        9  \n",
       "8                 13.876282                        7  \n",
       "9                 13.430015                       15  \n",
       "10                13.544867                       10  \n",
       "11                13.780419                        8  \n",
       "12                14.281298                        5  \n",
       "13                14.446433                        4  \n",
       "14                14.516403                        2  \n",
       "15                14.277729                        6  \n",
       "16                14.459553                        3  \n",
       "17                14.521909                        1  "
      ]
     },
     "execution_count": 56,
     "metadata": {},
     "output_type": "execute_result"
    }
   ],
   "source": [
    "pd.DataFrame(gs_gb.cv_results_)[[\n",
    "    'param_gradientboostingclassifier__learning_rate', 'param_gradientboostingclassifier__loss',\n",
    "    'param_gradientboostingclassifier__n_estimators',\n",
    "    'mean_test_f1', 'rank_test_f1',\n",
    "    'mean_test_accuracy', 'rank_test_accuracy',\n",
    "    'mean_test_precision', 'rank_test_precision',\n",
    "    'mean_test_recall', 'rank_test_recall',\n",
    "    'mean_test_income_scorer', 'rank_test_income_scorer'\n",
    "]]"
   ]
  },
  {
   "cell_type": "markdown",
   "metadata": {},
   "source": [
    "Посмотрим на прирост дохода от введения модели с такой точностью."
   ]
  },
  {
   "cell_type": "code",
   "execution_count": 57,
   "metadata": {
    "scrolled": true
   },
   "outputs": [
    {
     "name": "stdout",
     "output_type": "stream",
     "text": [
      "Метрика F1 составила 0.218\n",
      "Метрика Accuracy составила 0.714\n",
      "Метрика Precision составила 0.793\n",
      "Метрика Recall составила 0.126\n",
      "Доход за 2017 год составил 34.525 млн. рублей\n",
      "Доход с учётом модификатора отказа за 2017 год составил 33.839 млн. рублей\n"
     ]
    },
    {
     "data": {
      "text/html": [
       "<div>\n",
       "<style scoped>\n",
       "    .dataframe tbody tr th:only-of-type {\n",
       "        vertical-align: middle;\n",
       "    }\n",
       "\n",
       "    .dataframe tbody tr th {\n",
       "        vertical-align: top;\n",
       "    }\n",
       "\n",
       "    .dataframe thead th {\n",
       "        text-align: right;\n",
       "    }\n",
       "</style>\n",
       "<table border=\"1\" class=\"dataframe\">\n",
       "  <thead>\n",
       "    <tr style=\"text-align: right;\">\n",
       "      <th></th>\n",
       "      <th>TN</th>\n",
       "      <th>FP</th>\n",
       "      <th>FN</th>\n",
       "      <th>TP</th>\n",
       "    </tr>\n",
       "  </thead>\n",
       "  <tbody>\n",
       "    <tr>\n",
       "      <th>Для оцениваемой модели</th>\n",
       "      <td>16557</td>\n",
       "      <td>256</td>\n",
       "      <td>6776</td>\n",
       "      <td>980</td>\n",
       "    </tr>\n",
       "    <tr>\n",
       "      <th>Для случайной модели</th>\n",
       "      <td>8402</td>\n",
       "      <td>8411</td>\n",
       "      <td>3887</td>\n",
       "      <td>3869</td>\n",
       "    </tr>\n",
       "  </tbody>\n",
       "</table>\n",
       "</div>"
      ],
      "text/plain": [
       "                           TN    FP    FN    TP\n",
       "Для оцениваемой модели  16557   256  6776   980\n",
       "Для случайной модели     8402  8411  3887  3869"
      ]
     },
     "metadata": {},
     "output_type": "display_data"
    }
   ],
   "source": [
    "model_score(gs_gb)"
   ]
  },
  {
   "cell_type": "markdown",
   "metadata": {},
   "source": [
    "Результат сходный с моделью AdaBoostClassifier. Проверим линейные модели."
   ]
  },
  {
   "cell_type": "markdown",
   "metadata": {},
   "source": [
    "### Модель LogisticRegression()"
   ]
  },
  {
   "cell_type": "markdown",
   "metadata": {},
   "source": [
    "Создадим трансформер для различных колонок, в случае с \"линейными\" моделями к категориальным применим OHE, к числовым - StandardScaler."
   ]
  },
  {
   "cell_type": "code",
   "execution_count": 58,
   "metadata": {},
   "outputs": [],
   "source": [
    "linear_transformer = make_column_transformer(\n",
    "    (\n",
    "        OneHotEncoder(\n",
    "            dtype='uint8',\n",
    "            handle_unknown='ignore'\n",
    "        ), make_column_selector(dtype_include='category')\n",
    "    ),\n",
    "    (\n",
    "        StandardScaler(\n",
    "        ), make_column_selector(dtype_include='number')\n",
    "    ),\n",
    "    remainder='passthrough'\n",
    ")"
   ]
  },
  {
   "cell_type": "markdown",
   "metadata": {},
   "source": [
    "Соберём pipeline для логистической регрессии."
   ]
  },
  {
   "cell_type": "code",
   "execution_count": 59,
   "metadata": {},
   "outputs": [],
   "source": [
    "pipe_lr = make_pipeline(\n",
    "    linear_transformer,\n",
    "    LogisticRegression(\n",
    "        class_weight='balanced',\n",
    "        random_state=SEED,\n",
    "        n_jobs=-1\n",
    "    )\n",
    ")"
   ]
  },
  {
   "cell_type": "markdown",
   "metadata": {},
   "source": [
    "Зададим сетку параметров и создадим estimator."
   ]
  },
  {
   "cell_type": "code",
   "execution_count": 60,
   "metadata": {
    "scrolled": true
   },
   "outputs": [],
   "source": [
    "param_grid = {\n",
    "    'logisticregression__solver':['newton-cg', 'lbfgs', 'liblinear', 'sag', 'saga'],\n",
    "    'logisticregression__C':[.001, .01],\n",
    "    'logisticregression__max_iter':[500, 1000]\n",
    "}\n",
    "\n",
    "gs_lr = GridSearchCV(\n",
    "    pipe_lr,\n",
    "    param_grid,\n",
    "    scoring={'income_scorer':income_scorer, 'f1':'f1', 'accuracy':'accuracy'},\n",
    "    n_jobs=-1,\n",
    "    verbose=1,\n",
    "    refit='f1'\n",
    ")"
   ]
  },
  {
   "cell_type": "markdown",
   "metadata": {},
   "source": [
    "Проведём обучение с кросс-валидацией выбранного оценщика."
   ]
  },
  {
   "cell_type": "code",
   "execution_count": 61,
   "metadata": {},
   "outputs": [
    {
     "name": "stdout",
     "output_type": "stream",
     "text": [
      "Fitting 5 folds for each of 20 candidates, totalling 100 fits\n",
      "CPU times: total: 12.3 s\n",
      "Wall time: 2min 9s\n"
     ]
    },
    {
     "data": {
      "text/html": [
       "<style>div.sk-top-container {color: black;background-color: white;}div.sk-toggleable {background-color: white;}label.sk-toggleable__label {cursor: pointer;display: block;width: 100%;margin-bottom: 0;padding: 0.2em 0.3em;box-sizing: border-box;text-align: center;}div.sk-toggleable__content {max-height: 0;max-width: 0;overflow: hidden;text-align: left;background-color: #f0f8ff;}div.sk-toggleable__content pre {margin: 0.2em;color: black;border-radius: 0.25em;background-color: #f0f8ff;}input.sk-toggleable__control:checked~div.sk-toggleable__content {max-height: 200px;max-width: 100%;overflow: auto;}div.sk-estimator input.sk-toggleable__control:checked~label.sk-toggleable__label {background-color: #d4ebff;}div.sk-label input.sk-toggleable__control:checked~label.sk-toggleable__label {background-color: #d4ebff;}input.sk-hidden--visually {border: 0;clip: rect(1px 1px 1px 1px);clip: rect(1px, 1px, 1px, 1px);height: 1px;margin: -1px;overflow: hidden;padding: 0;position: absolute;width: 1px;}div.sk-estimator {font-family: monospace;background-color: #f0f8ff;margin: 0.25em 0.25em;border: 1px dotted black;border-radius: 0.25em;box-sizing: border-box;}div.sk-estimator:hover {background-color: #d4ebff;}div.sk-parallel-item::after {content: \"\";width: 100%;border-bottom: 1px solid gray;flex-grow: 1;}div.sk-label:hover label.sk-toggleable__label {background-color: #d4ebff;}div.sk-serial::before {content: \"\";position: absolute;border-left: 1px solid gray;box-sizing: border-box;top: 2em;bottom: 0;left: 50%;}div.sk-serial {display: flex;flex-direction: column;align-items: center;background-color: white;}div.sk-item {z-index: 1;}div.sk-parallel {display: flex;align-items: stretch;justify-content: center;background-color: white;}div.sk-parallel-item {display: flex;flex-direction: column;position: relative;background-color: white;}div.sk-parallel-item:first-child::after {align-self: flex-end;width: 50%;}div.sk-parallel-item:last-child::after {align-self: flex-start;width: 50%;}div.sk-parallel-item:only-child::after {width: 0;}div.sk-dashed-wrapped {border: 1px dashed gray;margin: 0.2em;box-sizing: border-box;padding-bottom: 0.1em;background-color: white;position: relative;}div.sk-label label {font-family: monospace;font-weight: bold;background-color: white;display: inline-block;line-height: 1.2em;}div.sk-label-container {position: relative;z-index: 2;text-align: center;}div.sk-container {display: inline-block;position: relative;}</style><div class=\"sk-top-container\"><div class=\"sk-container\"><div class=\"sk-item sk-dashed-wrapped\"><div class=\"sk-label-container\"><div class=\"sk-label sk-toggleable\"><input class=\"sk-toggleable__control sk-hidden--visually\" id=\"e31473fe-0134-4f39-b28f-2c51faa23323\" type=\"checkbox\" ><label class=\"sk-toggleable__label\" for=\"e31473fe-0134-4f39-b28f-2c51faa23323\">GridSearchCV</label><div class=\"sk-toggleable__content\"><pre>GridSearchCV(estimator=Pipeline(steps=[('columntransformer',\n",
       "                                        ColumnTransformer(remainder='passthrough',\n",
       "                                                          transformers=[('onehotencoder',\n",
       "                                                                         OneHotEncoder(dtype='uint8',\n",
       "                                                                                       handle_unknown='ignore'),\n",
       "                                                                         <sklearn.compose._column_transformer.make_column_selector object at 0x0000020C4562A6A0>),\n",
       "                                                                        ('standardscaler',\n",
       "                                                                         StandardScaler(),\n",
       "                                                                         <sklearn.compose._column_transformer.make_c...\n",
       "                                        LogisticRegression(class_weight='balanced',\n",
       "                                                           n_jobs=-1,\n",
       "                                                           random_state=314159))]),\n",
       "             n_jobs=-1,\n",
       "             param_grid={'logisticregression__C': [0.001, 0.01],\n",
       "                         'logisticregression__max_iter': [500, 1000],\n",
       "                         'logisticregression__solver': ['newton-cg', 'lbfgs',\n",
       "                                                        'liblinear', 'sag',\n",
       "                                                        'saga']},\n",
       "             refit='f1',\n",
       "             scoring={'accuracy': 'accuracy', 'f1': 'f1',\n",
       "                      'income_scorer': <function income_scorer at 0x0000020C45B15430>},\n",
       "             verbose=1)</pre></div></div></div><div class=\"sk-parallel\"><div class=\"sk-parallel-item\"><div class=\"sk-item\"><div class=\"sk-serial\"><div class=\"sk-item\"><div class=\"sk-serial\"><div class=\"sk-item sk-dashed-wrapped\"><div class=\"sk-label-container\"><div class=\"sk-label sk-toggleable\"><input class=\"sk-toggleable__control sk-hidden--visually\" id=\"aa361f2a-50fd-45b5-b29c-53a7b4573f92\" type=\"checkbox\" ><label class=\"sk-toggleable__label\" for=\"aa361f2a-50fd-45b5-b29c-53a7b4573f92\">columntransformer: ColumnTransformer</label><div class=\"sk-toggleable__content\"><pre>ColumnTransformer(remainder='passthrough',\n",
       "                  transformers=[('onehotencoder',\n",
       "                                 OneHotEncoder(dtype='uint8',\n",
       "                                               handle_unknown='ignore'),\n",
       "                                 <sklearn.compose._column_transformer.make_column_selector object at 0x0000020C4562A6A0>),\n",
       "                                ('standardscaler', StandardScaler(),\n",
       "                                 <sklearn.compose._column_transformer.make_column_selector object at 0x0000020C45E361F0>)])</pre></div></div></div><div class=\"sk-parallel\"><div class=\"sk-parallel-item\"><div class=\"sk-item\"><div class=\"sk-label-container\"><div class=\"sk-label sk-toggleable\"><input class=\"sk-toggleable__control sk-hidden--visually\" id=\"d24b1240-c0cb-4f47-b2a2-b0df0076219d\" type=\"checkbox\" ><label class=\"sk-toggleable__label\" for=\"d24b1240-c0cb-4f47-b2a2-b0df0076219d\">onehotencoder</label><div class=\"sk-toggleable__content\"><pre><sklearn.compose._column_transformer.make_column_selector object at 0x0000020C4562A6A0></pre></div></div></div><div class=\"sk-serial\"><div class=\"sk-item\"><div class=\"sk-estimator sk-toggleable\"><input class=\"sk-toggleable__control sk-hidden--visually\" id=\"70bdfe35-4e5d-417f-839a-058df05fed1a\" type=\"checkbox\" ><label class=\"sk-toggleable__label\" for=\"70bdfe35-4e5d-417f-839a-058df05fed1a\">OneHotEncoder</label><div class=\"sk-toggleable__content\"><pre>OneHotEncoder(dtype='uint8', handle_unknown='ignore')</pre></div></div></div></div></div></div><div class=\"sk-parallel-item\"><div class=\"sk-item\"><div class=\"sk-label-container\"><div class=\"sk-label sk-toggleable\"><input class=\"sk-toggleable__control sk-hidden--visually\" id=\"22c73f5f-897b-4f02-9f63-9298575f4a66\" type=\"checkbox\" ><label class=\"sk-toggleable__label\" for=\"22c73f5f-897b-4f02-9f63-9298575f4a66\">standardscaler</label><div class=\"sk-toggleable__content\"><pre><sklearn.compose._column_transformer.make_column_selector object at 0x0000020C45E361F0></pre></div></div></div><div class=\"sk-serial\"><div class=\"sk-item\"><div class=\"sk-estimator sk-toggleable\"><input class=\"sk-toggleable__control sk-hidden--visually\" id=\"49039ddd-d355-4551-a94b-b40d44069ba9\" type=\"checkbox\" ><label class=\"sk-toggleable__label\" for=\"49039ddd-d355-4551-a94b-b40d44069ba9\">StandardScaler</label><div class=\"sk-toggleable__content\"><pre>StandardScaler()</pre></div></div></div></div></div></div><div class=\"sk-parallel-item\"><div class=\"sk-item\"><div class=\"sk-label-container\"><div class=\"sk-label sk-toggleable\"><input class=\"sk-toggleable__control sk-hidden--visually\" id=\"12a53d16-90fd-4057-8a16-e3cc78aeea54\" type=\"checkbox\" ><label class=\"sk-toggleable__label\" for=\"12a53d16-90fd-4057-8a16-e3cc78aeea54\">remainder</label><div class=\"sk-toggleable__content\"><pre></pre></div></div></div><div class=\"sk-serial\"><div class=\"sk-item\"><div class=\"sk-estimator sk-toggleable\"><input class=\"sk-toggleable__control sk-hidden--visually\" id=\"098167a2-f313-46fa-b49d-b2a4ca02e83e\" type=\"checkbox\" ><label class=\"sk-toggleable__label\" for=\"098167a2-f313-46fa-b49d-b2a4ca02e83e\">passthrough</label><div class=\"sk-toggleable__content\"><pre>passthrough</pre></div></div></div></div></div></div></div></div><div class=\"sk-item\"><div class=\"sk-estimator sk-toggleable\"><input class=\"sk-toggleable__control sk-hidden--visually\" id=\"9a6b51a2-8666-48f4-98d6-31669a99fa9c\" type=\"checkbox\" ><label class=\"sk-toggleable__label\" for=\"9a6b51a2-8666-48f4-98d6-31669a99fa9c\">LogisticRegression</label><div class=\"sk-toggleable__content\"><pre>LogisticRegression(class_weight='balanced', n_jobs=-1, random_state=314159)</pre></div></div></div></div></div></div></div></div></div></div></div></div>"
      ],
      "text/plain": [
       "GridSearchCV(estimator=Pipeline(steps=[('columntransformer',\n",
       "                                        ColumnTransformer(remainder='passthrough',\n",
       "                                                          transformers=[('onehotencoder',\n",
       "                                                                         OneHotEncoder(dtype='uint8',\n",
       "                                                                                       handle_unknown='ignore'),\n",
       "                                                                         <sklearn.compose._column_transformer.make_column_selector object at 0x0000020C4562A6A0>),\n",
       "                                                                        ('standardscaler',\n",
       "                                                                         StandardScaler(),\n",
       "                                                                         <sklearn.compose._column_transformer.make_c...\n",
       "                                        LogisticRegression(class_weight='balanced',\n",
       "                                                           n_jobs=-1,\n",
       "                                                           random_state=314159))]),\n",
       "             n_jobs=-1,\n",
       "             param_grid={'logisticregression__C': [0.001, 0.01],\n",
       "                         'logisticregression__max_iter': [500, 1000],\n",
       "                         'logisticregression__solver': ['newton-cg', 'lbfgs',\n",
       "                                                        'liblinear', 'sag',\n",
       "                                                        'saga']},\n",
       "             refit='f1',\n",
       "             scoring={'accuracy': 'accuracy', 'f1': 'f1',\n",
       "                      'income_scorer': <function income_scorer at 0x0000020C45B15430>},\n",
       "             verbose=1)"
      ]
     },
     "execution_count": 61,
     "metadata": {},
     "output_type": "execute_result"
    }
   ],
   "source": [
    "%time gs_lr.fit(X, y)"
   ]
  },
  {
   "cell_type": "markdown",
   "metadata": {},
   "source": [
    "Проверим результаты."
   ]
  },
  {
   "cell_type": "code",
   "execution_count": 62,
   "metadata": {
    "scrolled": false
   },
   "outputs": [
    {
     "data": {
      "text/html": [
       "<div>\n",
       "<style scoped>\n",
       "    .dataframe tbody tr th:only-of-type {\n",
       "        vertical-align: middle;\n",
       "    }\n",
       "\n",
       "    .dataframe tbody tr th {\n",
       "        vertical-align: top;\n",
       "    }\n",
       "\n",
       "    .dataframe thead th {\n",
       "        text-align: right;\n",
       "    }\n",
       "</style>\n",
       "<table border=\"1\" class=\"dataframe\">\n",
       "  <thead>\n",
       "    <tr style=\"text-align: right;\">\n",
       "      <th></th>\n",
       "      <th>param_logisticregression__C</th>\n",
       "      <th>param_logisticregression__max_iter</th>\n",
       "      <th>param_logisticregression__solver</th>\n",
       "      <th>mean_test_f1</th>\n",
       "      <th>rank_test_f1</th>\n",
       "      <th>mean_test_accuracy</th>\n",
       "      <th>rank_test_accuracy</th>\n",
       "      <th>mean_test_income_scorer</th>\n",
       "      <th>rank_test_income_scorer</th>\n",
       "    </tr>\n",
       "  </thead>\n",
       "  <tbody>\n",
       "    <tr>\n",
       "      <th>0</th>\n",
       "      <td>0.001</td>\n",
       "      <td>500</td>\n",
       "      <td>newton-cg</td>\n",
       "      <td>0.412214</td>\n",
       "      <td>3</td>\n",
       "      <td>0.591692</td>\n",
       "      <td>1</td>\n",
       "      <td>16.128503</td>\n",
       "      <td>7</td>\n",
       "    </tr>\n",
       "    <tr>\n",
       "      <th>1</th>\n",
       "      <td>0.001</td>\n",
       "      <td>500</td>\n",
       "      <td>lbfgs</td>\n",
       "      <td>0.412199</td>\n",
       "      <td>5</td>\n",
       "      <td>0.591669</td>\n",
       "      <td>3</td>\n",
       "      <td>16.128503</td>\n",
       "      <td>7</td>\n",
       "    </tr>\n",
       "    <tr>\n",
       "      <th>2</th>\n",
       "      <td>0.001</td>\n",
       "      <td>500</td>\n",
       "      <td>liblinear</td>\n",
       "      <td>0.410901</td>\n",
       "      <td>9</td>\n",
       "      <td>0.578517</td>\n",
       "      <td>9</td>\n",
       "      <td>16.190610</td>\n",
       "      <td>1</td>\n",
       "    </tr>\n",
       "    <tr>\n",
       "      <th>3</th>\n",
       "      <td>0.001</td>\n",
       "      <td>500</td>\n",
       "      <td>sag</td>\n",
       "      <td>0.412078</td>\n",
       "      <td>7</td>\n",
       "      <td>0.591278</td>\n",
       "      <td>5</td>\n",
       "      <td>16.129593</td>\n",
       "      <td>5</td>\n",
       "    </tr>\n",
       "    <tr>\n",
       "      <th>4</th>\n",
       "      <td>0.001</td>\n",
       "      <td>500</td>\n",
       "      <td>saga</td>\n",
       "      <td>0.412274</td>\n",
       "      <td>2</td>\n",
       "      <td>0.589534</td>\n",
       "      <td>8</td>\n",
       "      <td>16.141073</td>\n",
       "      <td>3</td>\n",
       "    </tr>\n",
       "    <tr>\n",
       "      <th>5</th>\n",
       "      <td>0.001</td>\n",
       "      <td>1000</td>\n",
       "      <td>newton-cg</td>\n",
       "      <td>0.412214</td>\n",
       "      <td>3</td>\n",
       "      <td>0.591692</td>\n",
       "      <td>1</td>\n",
       "      <td>16.128503</td>\n",
       "      <td>7</td>\n",
       "    </tr>\n",
       "    <tr>\n",
       "      <th>6</th>\n",
       "      <td>0.001</td>\n",
       "      <td>1000</td>\n",
       "      <td>lbfgs</td>\n",
       "      <td>0.412199</td>\n",
       "      <td>5</td>\n",
       "      <td>0.591669</td>\n",
       "      <td>3</td>\n",
       "      <td>16.128503</td>\n",
       "      <td>7</td>\n",
       "    </tr>\n",
       "    <tr>\n",
       "      <th>7</th>\n",
       "      <td>0.001</td>\n",
       "      <td>1000</td>\n",
       "      <td>liblinear</td>\n",
       "      <td>0.410901</td>\n",
       "      <td>9</td>\n",
       "      <td>0.578517</td>\n",
       "      <td>9</td>\n",
       "      <td>16.190610</td>\n",
       "      <td>1</td>\n",
       "    </tr>\n",
       "    <tr>\n",
       "      <th>8</th>\n",
       "      <td>0.001</td>\n",
       "      <td>1000</td>\n",
       "      <td>sag</td>\n",
       "      <td>0.412078</td>\n",
       "      <td>7</td>\n",
       "      <td>0.591278</td>\n",
       "      <td>5</td>\n",
       "      <td>16.129593</td>\n",
       "      <td>5</td>\n",
       "    </tr>\n",
       "    <tr>\n",
       "      <th>9</th>\n",
       "      <td>0.001</td>\n",
       "      <td>1000</td>\n",
       "      <td>saga</td>\n",
       "      <td>0.412467</td>\n",
       "      <td>1</td>\n",
       "      <td>0.589970</td>\n",
       "      <td>7</td>\n",
       "      <td>16.140296</td>\n",
       "      <td>4</td>\n",
       "    </tr>\n",
       "    <tr>\n",
       "      <th>10</th>\n",
       "      <td>0.01</td>\n",
       "      <td>500</td>\n",
       "      <td>newton-cg</td>\n",
       "      <td>0.363952</td>\n",
       "      <td>13</td>\n",
       "      <td>0.554625</td>\n",
       "      <td>11</td>\n",
       "      <td>15.831303</td>\n",
       "      <td>17</td>\n",
       "    </tr>\n",
       "    <tr>\n",
       "      <th>11</th>\n",
       "      <td>0.01</td>\n",
       "      <td>500</td>\n",
       "      <td>lbfgs</td>\n",
       "      <td>0.363897</td>\n",
       "      <td>15</td>\n",
       "      <td>0.554625</td>\n",
       "      <td>11</td>\n",
       "      <td>15.830658</td>\n",
       "      <td>19</td>\n",
       "    </tr>\n",
       "    <tr>\n",
       "      <th>12</th>\n",
       "      <td>0.01</td>\n",
       "      <td>500</td>\n",
       "      <td>liblinear</td>\n",
       "      <td>0.363228</td>\n",
       "      <td>18</td>\n",
       "      <td>0.551779</td>\n",
       "      <td>19</td>\n",
       "      <td>15.839452</td>\n",
       "      <td>13</td>\n",
       "    </tr>\n",
       "    <tr>\n",
       "      <th>13</th>\n",
       "      <td>0.01</td>\n",
       "      <td>500</td>\n",
       "      <td>sag</td>\n",
       "      <td>0.364091</td>\n",
       "      <td>11</td>\n",
       "      <td>0.553569</td>\n",
       "      <td>16</td>\n",
       "      <td>15.838546</td>\n",
       "      <td>15</td>\n",
       "    </tr>\n",
       "    <tr>\n",
       "      <th>14</th>\n",
       "      <td>0.01</td>\n",
       "      <td>500</td>\n",
       "      <td>saga</td>\n",
       "      <td>0.363215</td>\n",
       "      <td>20</td>\n",
       "      <td>0.551848</td>\n",
       "      <td>18</td>\n",
       "      <td>15.839692</td>\n",
       "      <td>12</td>\n",
       "    </tr>\n",
       "    <tr>\n",
       "      <th>15</th>\n",
       "      <td>0.01</td>\n",
       "      <td>1000</td>\n",
       "      <td>newton-cg</td>\n",
       "      <td>0.363952</td>\n",
       "      <td>13</td>\n",
       "      <td>0.554625</td>\n",
       "      <td>11</td>\n",
       "      <td>15.831303</td>\n",
       "      <td>17</td>\n",
       "    </tr>\n",
       "    <tr>\n",
       "      <th>16</th>\n",
       "      <td>0.01</td>\n",
       "      <td>1000</td>\n",
       "      <td>lbfgs</td>\n",
       "      <td>0.363897</td>\n",
       "      <td>15</td>\n",
       "      <td>0.554625</td>\n",
       "      <td>11</td>\n",
       "      <td>15.830658</td>\n",
       "      <td>19</td>\n",
       "    </tr>\n",
       "    <tr>\n",
       "      <th>17</th>\n",
       "      <td>0.01</td>\n",
       "      <td>1000</td>\n",
       "      <td>liblinear</td>\n",
       "      <td>0.363228</td>\n",
       "      <td>18</td>\n",
       "      <td>0.551779</td>\n",
       "      <td>19</td>\n",
       "      <td>15.839452</td>\n",
       "      <td>13</td>\n",
       "    </tr>\n",
       "    <tr>\n",
       "      <th>18</th>\n",
       "      <td>0.01</td>\n",
       "      <td>1000</td>\n",
       "      <td>sag</td>\n",
       "      <td>0.363954</td>\n",
       "      <td>12</td>\n",
       "      <td>0.554097</td>\n",
       "      <td>15</td>\n",
       "      <td>15.834496</td>\n",
       "      <td>16</td>\n",
       "    </tr>\n",
       "    <tr>\n",
       "      <th>19</th>\n",
       "      <td>0.01</td>\n",
       "      <td>1000</td>\n",
       "      <td>saga</td>\n",
       "      <td>0.363868</td>\n",
       "      <td>17</td>\n",
       "      <td>0.552812</td>\n",
       "      <td>17</td>\n",
       "      <td>15.839867</td>\n",
       "      <td>11</td>\n",
       "    </tr>\n",
       "  </tbody>\n",
       "</table>\n",
       "</div>"
      ],
      "text/plain": [
       "   param_logisticregression__C param_logisticregression__max_iter  \\\n",
       "0                        0.001                                500   \n",
       "1                        0.001                                500   \n",
       "2                        0.001                                500   \n",
       "3                        0.001                                500   \n",
       "4                        0.001                                500   \n",
       "5                        0.001                               1000   \n",
       "6                        0.001                               1000   \n",
       "7                        0.001                               1000   \n",
       "8                        0.001                               1000   \n",
       "9                        0.001                               1000   \n",
       "10                        0.01                                500   \n",
       "11                        0.01                                500   \n",
       "12                        0.01                                500   \n",
       "13                        0.01                                500   \n",
       "14                        0.01                                500   \n",
       "15                        0.01                               1000   \n",
       "16                        0.01                               1000   \n",
       "17                        0.01                               1000   \n",
       "18                        0.01                               1000   \n",
       "19                        0.01                               1000   \n",
       "\n",
       "   param_logisticregression__solver  mean_test_f1  rank_test_f1  \\\n",
       "0                         newton-cg      0.412214             3   \n",
       "1                             lbfgs      0.412199             5   \n",
       "2                         liblinear      0.410901             9   \n",
       "3                               sag      0.412078             7   \n",
       "4                              saga      0.412274             2   \n",
       "5                         newton-cg      0.412214             3   \n",
       "6                             lbfgs      0.412199             5   \n",
       "7                         liblinear      0.410901             9   \n",
       "8                               sag      0.412078             7   \n",
       "9                              saga      0.412467             1   \n",
       "10                        newton-cg      0.363952            13   \n",
       "11                            lbfgs      0.363897            15   \n",
       "12                        liblinear      0.363228            18   \n",
       "13                              sag      0.364091            11   \n",
       "14                             saga      0.363215            20   \n",
       "15                        newton-cg      0.363952            13   \n",
       "16                            lbfgs      0.363897            15   \n",
       "17                        liblinear      0.363228            18   \n",
       "18                              sag      0.363954            12   \n",
       "19                             saga      0.363868            17   \n",
       "\n",
       "    mean_test_accuracy  rank_test_accuracy  mean_test_income_scorer  \\\n",
       "0             0.591692                   1                16.128503   \n",
       "1             0.591669                   3                16.128503   \n",
       "2             0.578517                   9                16.190610   \n",
       "3             0.591278                   5                16.129593   \n",
       "4             0.589534                   8                16.141073   \n",
       "5             0.591692                   1                16.128503   \n",
       "6             0.591669                   3                16.128503   \n",
       "7             0.578517                   9                16.190610   \n",
       "8             0.591278                   5                16.129593   \n",
       "9             0.589970                   7                16.140296   \n",
       "10            0.554625                  11                15.831303   \n",
       "11            0.554625                  11                15.830658   \n",
       "12            0.551779                  19                15.839452   \n",
       "13            0.553569                  16                15.838546   \n",
       "14            0.551848                  18                15.839692   \n",
       "15            0.554625                  11                15.831303   \n",
       "16            0.554625                  11                15.830658   \n",
       "17            0.551779                  19                15.839452   \n",
       "18            0.554097                  15                15.834496   \n",
       "19            0.552812                  17                15.839867   \n",
       "\n",
       "    rank_test_income_scorer  \n",
       "0                         7  \n",
       "1                         7  \n",
       "2                         1  \n",
       "3                         5  \n",
       "4                         3  \n",
       "5                         7  \n",
       "6                         7  \n",
       "7                         1  \n",
       "8                         5  \n",
       "9                         4  \n",
       "10                       17  \n",
       "11                       19  \n",
       "12                       13  \n",
       "13                       15  \n",
       "14                       12  \n",
       "15                       17  \n",
       "16                       19  \n",
       "17                       13  \n",
       "18                       16  \n",
       "19                       11  "
      ]
     },
     "execution_count": 62,
     "metadata": {},
     "output_type": "execute_result"
    }
   ],
   "source": [
    "pd.DataFrame(gs_lr.cv_results_)[[\n",
    "    'param_logisticregression__C', 'param_logisticregression__max_iter',\n",
    "    'param_logisticregression__solver',\n",
    "    'mean_test_f1', 'rank_test_f1',\n",
    "    'mean_test_accuracy', 'rank_test_accuracy',\n",
    "    'mean_test_income_scorer', 'rank_test_income_scorer'\n",
    "]]"
   ]
  },
  {
   "cell_type": "markdown",
   "metadata": {},
   "source": [
    "Посмотрим на прирост дохода от введения модели с такой точностью."
   ]
  },
  {
   "cell_type": "code",
   "execution_count": 63,
   "metadata": {
    "scrolled": false
   },
   "outputs": [
    {
     "name": "stdout",
     "output_type": "stream",
     "text": [
      "Метрика F1 составила 0.559\n",
      "Метрика Accuracy составила 0.715\n",
      "Метрика Precision составила 0.547\n",
      "Метрика Recall составила 0.572\n",
      "Доход за 2017 год составил 42.137 млн. рублей\n",
      "Доход с учётом модификатора отказа за 2017 год составил 34.815 млн. рублей\n"
     ]
    },
    {
     "data": {
      "text/html": [
       "<div>\n",
       "<style scoped>\n",
       "    .dataframe tbody tr th:only-of-type {\n",
       "        vertical-align: middle;\n",
       "    }\n",
       "\n",
       "    .dataframe tbody tr th {\n",
       "        vertical-align: top;\n",
       "    }\n",
       "\n",
       "    .dataframe thead th {\n",
       "        text-align: right;\n",
       "    }\n",
       "</style>\n",
       "<table border=\"1\" class=\"dataframe\">\n",
       "  <thead>\n",
       "    <tr style=\"text-align: right;\">\n",
       "      <th></th>\n",
       "      <th>TN</th>\n",
       "      <th>FP</th>\n",
       "      <th>FN</th>\n",
       "      <th>TP</th>\n",
       "    </tr>\n",
       "  </thead>\n",
       "  <tbody>\n",
       "    <tr>\n",
       "      <th>Для оцениваемой модели</th>\n",
       "      <td>13134</td>\n",
       "      <td>3679</td>\n",
       "      <td>3322</td>\n",
       "      <td>4434</td>\n",
       "    </tr>\n",
       "    <tr>\n",
       "      <th>Для случайной модели</th>\n",
       "      <td>8402</td>\n",
       "      <td>8411</td>\n",
       "      <td>3887</td>\n",
       "      <td>3869</td>\n",
       "    </tr>\n",
       "  </tbody>\n",
       "</table>\n",
       "</div>"
      ],
      "text/plain": [
       "                           TN    FP    FN    TP\n",
       "Для оцениваемой модели  13134  3679  3322  4434\n",
       "Для случайной модели     8402  8411  3887  3869"
      ]
     },
     "metadata": {},
     "output_type": "display_data"
    }
   ],
   "source": [
    "model_score(gs_lr)"
   ]
  },
  {
   "cell_type": "markdown",
   "metadata": {},
   "source": [
    "За счёт лучшего определения **TP** классов модель даёт хорошую прибавку к доходу, но и количество **FP** значительное.\n",
    "\n",
    "Попробуем обучить модель на методе опорных векторов."
   ]
  },
  {
   "cell_type": "markdown",
   "metadata": {},
   "source": [
    "### Модель LinearSVC()\n",
    "\n",
    "Создадим pipeline для модели."
   ]
  },
  {
   "cell_type": "code",
   "execution_count": 64,
   "metadata": {},
   "outputs": [],
   "source": [
    "pipe_lsvc = make_pipeline(\n",
    "    linear_transformer,\n",
    "    LinearSVC(\n",
    "        class_weight='balanced',\n",
    "        random_state=SEED\n",
    "    )\n",
    ")"
   ]
  },
  {
   "cell_type": "markdown",
   "metadata": {},
   "source": [
    "Зададим сетку параметров и создадим estimator."
   ]
  },
  {
   "cell_type": "code",
   "execution_count": 65,
   "metadata": {
    "scrolled": true
   },
   "outputs": [],
   "source": [
    "param_grid = {\n",
    "    'linearsvc__loss':['hinge', 'squared_hinge'],\n",
    "    'linearsvc__C':[0.0001, .001, .01]\n",
    "}\n",
    "\n",
    "gs_lsvc = GridSearchCV(\n",
    "    pipe_lsvc,\n",
    "    param_grid,\n",
    "    scoring={'income_scorer':income_scorer, 'f1':'f1', 'accuracy':'accuracy'},\n",
    "    n_jobs=-1,\n",
    "    verbose=1,\n",
    "    refit='f1'\n",
    ")"
   ]
  },
  {
   "cell_type": "markdown",
   "metadata": {},
   "source": [
    "Проведём обучение с кросс-валидацией выбранного оценщика."
   ]
  },
  {
   "cell_type": "code",
   "execution_count": 66,
   "metadata": {},
   "outputs": [
    {
     "name": "stdout",
     "output_type": "stream",
     "text": [
      "Fitting 5 folds for each of 6 candidates, totalling 30 fits\n",
      "CPU times: total: 781 ms\n",
      "Wall time: 8.75 s\n"
     ]
    },
    {
     "data": {
      "text/html": [
       "<style>div.sk-top-container {color: black;background-color: white;}div.sk-toggleable {background-color: white;}label.sk-toggleable__label {cursor: pointer;display: block;width: 100%;margin-bottom: 0;padding: 0.2em 0.3em;box-sizing: border-box;text-align: center;}div.sk-toggleable__content {max-height: 0;max-width: 0;overflow: hidden;text-align: left;background-color: #f0f8ff;}div.sk-toggleable__content pre {margin: 0.2em;color: black;border-radius: 0.25em;background-color: #f0f8ff;}input.sk-toggleable__control:checked~div.sk-toggleable__content {max-height: 200px;max-width: 100%;overflow: auto;}div.sk-estimator input.sk-toggleable__control:checked~label.sk-toggleable__label {background-color: #d4ebff;}div.sk-label input.sk-toggleable__control:checked~label.sk-toggleable__label {background-color: #d4ebff;}input.sk-hidden--visually {border: 0;clip: rect(1px 1px 1px 1px);clip: rect(1px, 1px, 1px, 1px);height: 1px;margin: -1px;overflow: hidden;padding: 0;position: absolute;width: 1px;}div.sk-estimator {font-family: monospace;background-color: #f0f8ff;margin: 0.25em 0.25em;border: 1px dotted black;border-radius: 0.25em;box-sizing: border-box;}div.sk-estimator:hover {background-color: #d4ebff;}div.sk-parallel-item::after {content: \"\";width: 100%;border-bottom: 1px solid gray;flex-grow: 1;}div.sk-label:hover label.sk-toggleable__label {background-color: #d4ebff;}div.sk-serial::before {content: \"\";position: absolute;border-left: 1px solid gray;box-sizing: border-box;top: 2em;bottom: 0;left: 50%;}div.sk-serial {display: flex;flex-direction: column;align-items: center;background-color: white;}div.sk-item {z-index: 1;}div.sk-parallel {display: flex;align-items: stretch;justify-content: center;background-color: white;}div.sk-parallel-item {display: flex;flex-direction: column;position: relative;background-color: white;}div.sk-parallel-item:first-child::after {align-self: flex-end;width: 50%;}div.sk-parallel-item:last-child::after {align-self: flex-start;width: 50%;}div.sk-parallel-item:only-child::after {width: 0;}div.sk-dashed-wrapped {border: 1px dashed gray;margin: 0.2em;box-sizing: border-box;padding-bottom: 0.1em;background-color: white;position: relative;}div.sk-label label {font-family: monospace;font-weight: bold;background-color: white;display: inline-block;line-height: 1.2em;}div.sk-label-container {position: relative;z-index: 2;text-align: center;}div.sk-container {display: inline-block;position: relative;}</style><div class=\"sk-top-container\"><div class=\"sk-container\"><div class=\"sk-item sk-dashed-wrapped\"><div class=\"sk-label-container\"><div class=\"sk-label sk-toggleable\"><input class=\"sk-toggleable__control sk-hidden--visually\" id=\"701e2639-2917-47fd-a28d-4ef59974ec44\" type=\"checkbox\" ><label class=\"sk-toggleable__label\" for=\"701e2639-2917-47fd-a28d-4ef59974ec44\">GridSearchCV</label><div class=\"sk-toggleable__content\"><pre>GridSearchCV(estimator=Pipeline(steps=[('columntransformer',\n",
       "                                        ColumnTransformer(remainder='passthrough',\n",
       "                                                          transformers=[('onehotencoder',\n",
       "                                                                         OneHotEncoder(dtype='uint8',\n",
       "                                                                                       handle_unknown='ignore'),\n",
       "                                                                         <sklearn.compose._column_transformer.make_column_selector object at 0x0000020C4562A6A0>),\n",
       "                                                                        ('standardscaler',\n",
       "                                                                         StandardScaler(),\n",
       "                                                                         <sklearn.compose._column_transformer.make_column_selector object at 0x0000020C45E361F0>)])),\n",
       "                                       ('linearsvc',\n",
       "                                        LinearSVC(class_weight='balanced',\n",
       "                                                  random_state=314159))]),\n",
       "             n_jobs=-1,\n",
       "             param_grid={'linearsvc__C': [0.0001, 0.001, 0.01],\n",
       "                         'linearsvc__loss': ['hinge', 'squared_hinge']},\n",
       "             refit='f1',\n",
       "             scoring={'accuracy': 'accuracy', 'f1': 'f1',\n",
       "                      'income_scorer': <function income_scorer at 0x0000020C45B15430>},\n",
       "             verbose=1)</pre></div></div></div><div class=\"sk-parallel\"><div class=\"sk-parallel-item\"><div class=\"sk-item\"><div class=\"sk-serial\"><div class=\"sk-item\"><div class=\"sk-serial\"><div class=\"sk-item sk-dashed-wrapped\"><div class=\"sk-label-container\"><div class=\"sk-label sk-toggleable\"><input class=\"sk-toggleable__control sk-hidden--visually\" id=\"a2e31094-66ef-4fc8-8b65-fb392e072e4d\" type=\"checkbox\" ><label class=\"sk-toggleable__label\" for=\"a2e31094-66ef-4fc8-8b65-fb392e072e4d\">columntransformer: ColumnTransformer</label><div class=\"sk-toggleable__content\"><pre>ColumnTransformer(remainder='passthrough',\n",
       "                  transformers=[('onehotencoder',\n",
       "                                 OneHotEncoder(dtype='uint8',\n",
       "                                               handle_unknown='ignore'),\n",
       "                                 <sklearn.compose._column_transformer.make_column_selector object at 0x0000020C4562A6A0>),\n",
       "                                ('standardscaler', StandardScaler(),\n",
       "                                 <sklearn.compose._column_transformer.make_column_selector object at 0x0000020C45E361F0>)])</pre></div></div></div><div class=\"sk-parallel\"><div class=\"sk-parallel-item\"><div class=\"sk-item\"><div class=\"sk-label-container\"><div class=\"sk-label sk-toggleable\"><input class=\"sk-toggleable__control sk-hidden--visually\" id=\"9e713074-82f5-4663-8d29-41f92ab1fd36\" type=\"checkbox\" ><label class=\"sk-toggleable__label\" for=\"9e713074-82f5-4663-8d29-41f92ab1fd36\">onehotencoder</label><div class=\"sk-toggleable__content\"><pre><sklearn.compose._column_transformer.make_column_selector object at 0x0000020C4562A6A0></pre></div></div></div><div class=\"sk-serial\"><div class=\"sk-item\"><div class=\"sk-estimator sk-toggleable\"><input class=\"sk-toggleable__control sk-hidden--visually\" id=\"38ca9a74-f6a5-4c7e-a78e-3d4f66cc70e0\" type=\"checkbox\" ><label class=\"sk-toggleable__label\" for=\"38ca9a74-f6a5-4c7e-a78e-3d4f66cc70e0\">OneHotEncoder</label><div class=\"sk-toggleable__content\"><pre>OneHotEncoder(dtype='uint8', handle_unknown='ignore')</pre></div></div></div></div></div></div><div class=\"sk-parallel-item\"><div class=\"sk-item\"><div class=\"sk-label-container\"><div class=\"sk-label sk-toggleable\"><input class=\"sk-toggleable__control sk-hidden--visually\" id=\"a35c2256-cddc-4987-8cbf-e1638f6140fa\" type=\"checkbox\" ><label class=\"sk-toggleable__label\" for=\"a35c2256-cddc-4987-8cbf-e1638f6140fa\">standardscaler</label><div class=\"sk-toggleable__content\"><pre><sklearn.compose._column_transformer.make_column_selector object at 0x0000020C45E361F0></pre></div></div></div><div class=\"sk-serial\"><div class=\"sk-item\"><div class=\"sk-estimator sk-toggleable\"><input class=\"sk-toggleable__control sk-hidden--visually\" id=\"75a5b057-c1eb-4ec0-bc35-3dfbba676e5c\" type=\"checkbox\" ><label class=\"sk-toggleable__label\" for=\"75a5b057-c1eb-4ec0-bc35-3dfbba676e5c\">StandardScaler</label><div class=\"sk-toggleable__content\"><pre>StandardScaler()</pre></div></div></div></div></div></div><div class=\"sk-parallel-item\"><div class=\"sk-item\"><div class=\"sk-label-container\"><div class=\"sk-label sk-toggleable\"><input class=\"sk-toggleable__control sk-hidden--visually\" id=\"1680cfac-4927-47f4-8ed1-f1283f62fcee\" type=\"checkbox\" ><label class=\"sk-toggleable__label\" for=\"1680cfac-4927-47f4-8ed1-f1283f62fcee\">remainder</label><div class=\"sk-toggleable__content\"><pre></pre></div></div></div><div class=\"sk-serial\"><div class=\"sk-item\"><div class=\"sk-estimator sk-toggleable\"><input class=\"sk-toggleable__control sk-hidden--visually\" id=\"08446c9e-59e6-4f8f-b11d-10333ab788f9\" type=\"checkbox\" ><label class=\"sk-toggleable__label\" for=\"08446c9e-59e6-4f8f-b11d-10333ab788f9\">passthrough</label><div class=\"sk-toggleable__content\"><pre>passthrough</pre></div></div></div></div></div></div></div></div><div class=\"sk-item\"><div class=\"sk-estimator sk-toggleable\"><input class=\"sk-toggleable__control sk-hidden--visually\" id=\"f192add4-ce13-45bb-a835-d58aa4d90387\" type=\"checkbox\" ><label class=\"sk-toggleable__label\" for=\"f192add4-ce13-45bb-a835-d58aa4d90387\">LinearSVC</label><div class=\"sk-toggleable__content\"><pre>LinearSVC(class_weight='balanced', random_state=314159)</pre></div></div></div></div></div></div></div></div></div></div></div></div>"
      ],
      "text/plain": [
       "GridSearchCV(estimator=Pipeline(steps=[('columntransformer',\n",
       "                                        ColumnTransformer(remainder='passthrough',\n",
       "                                                          transformers=[('onehotencoder',\n",
       "                                                                         OneHotEncoder(dtype='uint8',\n",
       "                                                                                       handle_unknown='ignore'),\n",
       "                                                                         <sklearn.compose._column_transformer.make_column_selector object at 0x0000020C4562A6A0>),\n",
       "                                                                        ('standardscaler',\n",
       "                                                                         StandardScaler(),\n",
       "                                                                         <sklearn.compose._column_transformer.make_column_selector object at 0x0000020C45E361F0>)])),\n",
       "                                       ('linearsvc',\n",
       "                                        LinearSVC(class_weight='balanced',\n",
       "                                                  random_state=314159))]),\n",
       "             n_jobs=-1,\n",
       "             param_grid={'linearsvc__C': [0.0001, 0.001, 0.01],\n",
       "                         'linearsvc__loss': ['hinge', 'squared_hinge']},\n",
       "             refit='f1',\n",
       "             scoring={'accuracy': 'accuracy', 'f1': 'f1',\n",
       "                      'income_scorer': <function income_scorer at 0x0000020C45B15430>},\n",
       "             verbose=1)"
      ]
     },
     "execution_count": 66,
     "metadata": {},
     "output_type": "execute_result"
    }
   ],
   "source": [
    "%time gs_lsvc.fit(X, y)"
   ]
  },
  {
   "cell_type": "markdown",
   "metadata": {},
   "source": [
    "Проверим результаты."
   ]
  },
  {
   "cell_type": "code",
   "execution_count": 67,
   "metadata": {
    "scrolled": true
   },
   "outputs": [
    {
     "data": {
      "text/html": [
       "<div>\n",
       "<style scoped>\n",
       "    .dataframe tbody tr th:only-of-type {\n",
       "        vertical-align: middle;\n",
       "    }\n",
       "\n",
       "    .dataframe tbody tr th {\n",
       "        vertical-align: top;\n",
       "    }\n",
       "\n",
       "    .dataframe thead th {\n",
       "        text-align: right;\n",
       "    }\n",
       "</style>\n",
       "<table border=\"1\" class=\"dataframe\">\n",
       "  <thead>\n",
       "    <tr style=\"text-align: right;\">\n",
       "      <th></th>\n",
       "      <th>param_linearsvc__C</th>\n",
       "      <th>param_linearsvc__loss</th>\n",
       "      <th>mean_test_f1</th>\n",
       "      <th>rank_test_f1</th>\n",
       "      <th>mean_test_accuracy</th>\n",
       "      <th>rank_test_accuracy</th>\n",
       "      <th>mean_test_income_scorer</th>\n",
       "      <th>rank_test_income_scorer</th>\n",
       "    </tr>\n",
       "  </thead>\n",
       "  <tbody>\n",
       "    <tr>\n",
       "      <th>0</th>\n",
       "      <td>0.0001</td>\n",
       "      <td>hinge</td>\n",
       "      <td>0.439902</td>\n",
       "      <td>1</td>\n",
       "      <td>0.562910</td>\n",
       "      <td>2</td>\n",
       "      <td>16.634848</td>\n",
       "      <td>1</td>\n",
       "    </tr>\n",
       "    <tr>\n",
       "      <th>1</th>\n",
       "      <td>0.0001</td>\n",
       "      <td>squared_hinge</td>\n",
       "      <td>0.412255</td>\n",
       "      <td>2</td>\n",
       "      <td>0.577278</td>\n",
       "      <td>1</td>\n",
       "      <td>16.206927</td>\n",
       "      <td>2</td>\n",
       "    </tr>\n",
       "    <tr>\n",
       "      <th>2</th>\n",
       "      <td>0.001</td>\n",
       "      <td>hinge</td>\n",
       "      <td>0.389493</td>\n",
       "      <td>3</td>\n",
       "      <td>0.561464</td>\n",
       "      <td>3</td>\n",
       "      <td>16.041364</td>\n",
       "      <td>3</td>\n",
       "    </tr>\n",
       "    <tr>\n",
       "      <th>3</th>\n",
       "      <td>0.001</td>\n",
       "      <td>squared_hinge</td>\n",
       "      <td>0.362253</td>\n",
       "      <td>4</td>\n",
       "      <td>0.549346</td>\n",
       "      <td>4</td>\n",
       "      <td>15.832843</td>\n",
       "      <td>4</td>\n",
       "    </tr>\n",
       "    <tr>\n",
       "      <th>4</th>\n",
       "      <td>0.01</td>\n",
       "      <td>hinge</td>\n",
       "      <td>0.358129</td>\n",
       "      <td>5</td>\n",
       "      <td>0.544182</td>\n",
       "      <td>5</td>\n",
       "      <td>15.788007</td>\n",
       "      <td>5</td>\n",
       "    </tr>\n",
       "    <tr>\n",
       "      <th>5</th>\n",
       "      <td>0.01</td>\n",
       "      <td>squared_hinge</td>\n",
       "      <td>0.354394</td>\n",
       "      <td>6</td>\n",
       "      <td>0.543378</td>\n",
       "      <td>6</td>\n",
       "      <td>15.767583</td>\n",
       "      <td>6</td>\n",
       "    </tr>\n",
       "  </tbody>\n",
       "</table>\n",
       "</div>"
      ],
      "text/plain": [
       "  param_linearsvc__C param_linearsvc__loss  mean_test_f1  rank_test_f1  \\\n",
       "0             0.0001                 hinge      0.439902             1   \n",
       "1             0.0001         squared_hinge      0.412255             2   \n",
       "2              0.001                 hinge      0.389493             3   \n",
       "3              0.001         squared_hinge      0.362253             4   \n",
       "4               0.01                 hinge      0.358129             5   \n",
       "5               0.01         squared_hinge      0.354394             6   \n",
       "\n",
       "   mean_test_accuracy  rank_test_accuracy  mean_test_income_scorer  \\\n",
       "0            0.562910                   2                16.634848   \n",
       "1            0.577278                   1                16.206927   \n",
       "2            0.561464                   3                16.041364   \n",
       "3            0.549346                   4                15.832843   \n",
       "4            0.544182                   5                15.788007   \n",
       "5            0.543378                   6                15.767583   \n",
       "\n",
       "   rank_test_income_scorer  \n",
       "0                        1  \n",
       "1                        2  \n",
       "2                        3  \n",
       "3                        4  \n",
       "4                        5  \n",
       "5                        6  "
      ]
     },
     "execution_count": 67,
     "metadata": {},
     "output_type": "execute_result"
    }
   ],
   "source": [
    "pd.DataFrame(gs_lsvc.cv_results_)[[\n",
    "    'param_linearsvc__C', 'param_linearsvc__loss',\n",
    "    'mean_test_f1', 'rank_test_f1',\n",
    "    'mean_test_accuracy', 'rank_test_accuracy',\n",
    "    'mean_test_income_scorer', 'rank_test_income_scorer'\n",
    "]]"
   ]
  },
  {
   "cell_type": "markdown",
   "metadata": {},
   "source": [
    "Посмотрим на прирост дохода от введения модели с такой точностью."
   ]
  },
  {
   "cell_type": "code",
   "execution_count": 68,
   "metadata": {
    "scrolled": false
   },
   "outputs": [
    {
     "name": "stdout",
     "output_type": "stream",
     "text": [
      "Метрика F1 составила 0.564\n",
      "Метрика Accuracy составила 0.642\n",
      "Метрика Precision составила 0.458\n",
      "Метрика Recall составила 0.733\n",
      "Доход за 2017 год составил 44.803 млн. рублей\n",
      "Доход с учётом модификатора отказа за 2017 год составил 32.105 млн. рублей\n"
     ]
    },
    {
     "data": {
      "text/html": [
       "<div>\n",
       "<style scoped>\n",
       "    .dataframe tbody tr th:only-of-type {\n",
       "        vertical-align: middle;\n",
       "    }\n",
       "\n",
       "    .dataframe tbody tr th {\n",
       "        vertical-align: top;\n",
       "    }\n",
       "\n",
       "    .dataframe thead th {\n",
       "        text-align: right;\n",
       "    }\n",
       "</style>\n",
       "<table border=\"1\" class=\"dataframe\">\n",
       "  <thead>\n",
       "    <tr style=\"text-align: right;\">\n",
       "      <th></th>\n",
       "      <th>TN</th>\n",
       "      <th>FP</th>\n",
       "      <th>FN</th>\n",
       "      <th>TP</th>\n",
       "    </tr>\n",
       "  </thead>\n",
       "  <tbody>\n",
       "    <tr>\n",
       "      <th>Для оцениваемой модели</th>\n",
       "      <td>10089</td>\n",
       "      <td>6724</td>\n",
       "      <td>2071</td>\n",
       "      <td>5685</td>\n",
       "    </tr>\n",
       "    <tr>\n",
       "      <th>Для случайной модели</th>\n",
       "      <td>8402</td>\n",
       "      <td>8411</td>\n",
       "      <td>3887</td>\n",
       "      <td>3869</td>\n",
       "    </tr>\n",
       "  </tbody>\n",
       "</table>\n",
       "</div>"
      ],
      "text/plain": [
       "                           TN    FP    FN    TP\n",
       "Для оцениваемой модели  10089  6724  2071  5685\n",
       "Для случайной модели     8402  8411  3887  3869"
      ]
     },
     "metadata": {},
     "output_type": "display_data"
    }
   ],
   "source": [
    "model_score(gs_lsvc)"
   ]
  },
  {
   "cell_type": "markdown",
   "metadata": {},
   "source": [
    "Модель показала лучший результат без учёта отказов от брони, но и количество **FP** максимальное."
   ]
  },
  {
   "cell_type": "markdown",
   "metadata": {},
   "source": [
    "### Вывод\n",
    "\n",
    "Мы исследовали различные модели. Оценили различные метрики для них и посчитали прибыль на тестовом наборе данных (неполный 2017 год).\n",
    "\n",
    "Посмотрим на сводную таблицу с результатами."
   ]
  },
  {
   "cell_type": "code",
   "execution_count": 69,
   "metadata": {},
   "outputs": [
    {
     "data": {
      "text/html": [
       "<div>\n",
       "<style scoped>\n",
       "    .dataframe tbody tr th:only-of-type {\n",
       "        vertical-align: middle;\n",
       "    }\n",
       "\n",
       "    .dataframe tbody tr th {\n",
       "        vertical-align: top;\n",
       "    }\n",
       "\n",
       "    .dataframe thead th {\n",
       "        text-align: right;\n",
       "    }\n",
       "</style>\n",
       "<table border=\"1\" class=\"dataframe\">\n",
       "  <thead>\n",
       "    <tr style=\"text-align: right;\">\n",
       "      <th></th>\n",
       "      <th>F1</th>\n",
       "      <th>Accuracy</th>\n",
       "      <th>TN</th>\n",
       "      <th>FP</th>\n",
       "      <th>FN</th>\n",
       "      <th>TP</th>\n",
       "      <th>Precision</th>\n",
       "      <th>Recall</th>\n",
       "      <th>Income_score</th>\n",
       "      <th>Income_score_mod</th>\n",
       "    </tr>\n",
       "  </thead>\n",
       "  <tbody>\n",
       "    <tr>\n",
       "      <th>DummyClassifierRandom</th>\n",
       "      <td>0.386</td>\n",
       "      <td>0.499</td>\n",
       "      <td>8402.0</td>\n",
       "      <td>8411.0</td>\n",
       "      <td>3887.0</td>\n",
       "      <td>3869.0</td>\n",
       "      <td>0.315</td>\n",
       "      <td>0.499</td>\n",
       "      <td>40.725</td>\n",
       "      <td>28.416</td>\n",
       "    </tr>\n",
       "    <tr>\n",
       "      <th>DummyClassifierConstant</th>\n",
       "      <td>0.000</td>\n",
       "      <td>0.684</td>\n",
       "      <td>16813.0</td>\n",
       "      <td>0.0</td>\n",
       "      <td>7756.0</td>\n",
       "      <td>0.0</td>\n",
       "      <td>0.000</td>\n",
       "      <td>0.000</td>\n",
       "      <td>32.220</td>\n",
       "      <td>32.220</td>\n",
       "    </tr>\n",
       "    <tr>\n",
       "      <th>RandomForestClassifier</th>\n",
       "      <td>0.551</td>\n",
       "      <td>0.710</td>\n",
       "      <td>13080.0</td>\n",
       "      <td>3733.0</td>\n",
       "      <td>3389.0</td>\n",
       "      <td>4367.0</td>\n",
       "      <td>0.539</td>\n",
       "      <td>0.563</td>\n",
       "      <td>41.812</td>\n",
       "      <td>34.697</td>\n",
       "    </tr>\n",
       "    <tr>\n",
       "      <th>AdaBoostClassifier</th>\n",
       "      <td>0.177</td>\n",
       "      <td>0.707</td>\n",
       "      <td>16605.0</td>\n",
       "      <td>208.0</td>\n",
       "      <td>6985.0</td>\n",
       "      <td>771.0</td>\n",
       "      <td>0.788</td>\n",
       "      <td>0.099</td>\n",
       "      <td>34.067</td>\n",
       "      <td>33.534</td>\n",
       "    </tr>\n",
       "    <tr>\n",
       "      <th>GradientBoostingClassifier</th>\n",
       "      <td>0.218</td>\n",
       "      <td>0.714</td>\n",
       "      <td>16557.0</td>\n",
       "      <td>256.0</td>\n",
       "      <td>6776.0</td>\n",
       "      <td>980.0</td>\n",
       "      <td>0.793</td>\n",
       "      <td>0.126</td>\n",
       "      <td>34.525</td>\n",
       "      <td>33.839</td>\n",
       "    </tr>\n",
       "    <tr>\n",
       "      <th>LogisticRegression</th>\n",
       "      <td>0.559</td>\n",
       "      <td>0.715</td>\n",
       "      <td>13134.0</td>\n",
       "      <td>3679.0</td>\n",
       "      <td>3322.0</td>\n",
       "      <td>4434.0</td>\n",
       "      <td>0.547</td>\n",
       "      <td>0.572</td>\n",
       "      <td>42.137</td>\n",
       "      <td>34.815</td>\n",
       "    </tr>\n",
       "    <tr>\n",
       "      <th>LinearSVC</th>\n",
       "      <td>0.564</td>\n",
       "      <td>0.642</td>\n",
       "      <td>10089.0</td>\n",
       "      <td>6724.0</td>\n",
       "      <td>2071.0</td>\n",
       "      <td>5685.0</td>\n",
       "      <td>0.458</td>\n",
       "      <td>0.733</td>\n",
       "      <td>44.803</td>\n",
       "      <td>32.105</td>\n",
       "    </tr>\n",
       "  </tbody>\n",
       "</table>\n",
       "</div>"
      ],
      "text/plain": [
       "                               F1  Accuracy       TN      FP      FN      TP  \\\n",
       "DummyClassifierRandom       0.386     0.499   8402.0  8411.0  3887.0  3869.0   \n",
       "DummyClassifierConstant     0.000     0.684  16813.0     0.0  7756.0     0.0   \n",
       "RandomForestClassifier      0.551     0.710  13080.0  3733.0  3389.0  4367.0   \n",
       "AdaBoostClassifier          0.177     0.707  16605.0   208.0  6985.0   771.0   \n",
       "GradientBoostingClassifier  0.218     0.714  16557.0   256.0  6776.0   980.0   \n",
       "LogisticRegression          0.559     0.715  13134.0  3679.0  3322.0  4434.0   \n",
       "LinearSVC                   0.564     0.642  10089.0  6724.0  2071.0  5685.0   \n",
       "\n",
       "                            Precision  Recall  Income_score  Income_score_mod  \n",
       "DummyClassifierRandom           0.315   0.499        40.725            28.416  \n",
       "DummyClassifierConstant         0.000   0.000        32.220            32.220  \n",
       "RandomForestClassifier          0.539   0.563        41.812            34.697  \n",
       "AdaBoostClassifier              0.788   0.099        34.067            33.534  \n",
       "GradientBoostingClassifier      0.793   0.126        34.525            33.839  \n",
       "LogisticRegression              0.547   0.572        42.137            34.815  \n",
       "LinearSVC                       0.458   0.733        44.803            32.105  "
      ]
     },
     "execution_count": 69,
     "metadata": {},
     "output_type": "execute_result"
    }
   ],
   "source": [
    "pd.DataFrame(\n",
    "    results_table, index=[\n",
    "        'F1', 'Accuracy', 'TN', 'FP', 'FN', 'TP', 'Precision', 'Recall', 'Income_score', 'Income_score_mod'\n",
    "    ]\n",
    ").transpose()"
   ]
  },
  {
   "cell_type": "markdown",
   "metadata": {},
   "source": [
    "Все модели машинного обучения показали на тестовой выборке прибыль лучше чем без введения модели оценки вероятности отмены брони и залоговой системы. Даже с учётом негативного прогноза в 50% оттока клиентов, которых система признала ненадёжными, модели показали прибыль до 2,6 млн. рублей за 8 месяцев.\n",
    "\n",
    "Максимальную прибыль показала модель LinearSVC - 44,803 млн против 32,220 млн рублей до введения системы.\n",
    "Минимальный прирост прибыли дала модель AdaBoostClassifier - 34,067 млн рублей.\n",
    "\n",
    "Разные модели по-разному балансируют между негативными и позитивными классами. Все модели по метрикам Accuracy и по совокупности оценок матрицы ошибок лучше случайных и константной моделей.\n",
    "\n",
    "При выборе модели нам следует руководствоваться увеличением потенциальной прибыли (выше **TP** и ниже **FN**), но и не стоит забывать о том, что все клиенты которых система вынудит оплачивать залог (**FP**) могут отказаться от услуг отеля вообще.\n",
    "\n",
    "С учётом влияния негативного сценария оттока клиентов, признанных системой неблагонадёжными, макссимальную прибыль показала модель LogisticRegression - 34,815 млн рублей. Худший результат при этом у модели LinearSVC- 32,105 млн рублей, что на 115 тыс рублей ниже базовой оценки."
   ]
  },
  {
   "cell_type": "markdown",
   "metadata": {},
   "source": [
    "## Выявим признаки «ненадёжного» клиента\n",
    "\n",
    "На основе исследовательского анализа данных опишем клиента, склонного к отказу от брони.\n",
    "\n",
    "Выведем ещё раз корреляционную матрицу Пирсона."
   ]
  },
  {
   "cell_type": "code",
   "execution_count": 70,
   "metadata": {},
   "outputs": [
    {
     "data": {
      "image/png": "[encoded data removed]",
      "text/plain": [
       "<Figure size 1080x936 with 2 Axes>"
      ]
     },
     "metadata": {
      "needs_background": "light"
     },
     "output_type": "display_data"
    }
   ],
   "source": [
    "plt.figure(figsize=(15, 13))\n",
    "\n",
    "sns.heatmap(df_test.drop('income', axis=1).corr(), linewidth=2, annot=True)\n",
    "\n",
    "plt.show()"
   ]
  },
  {
   "cell_type": "markdown",
   "metadata": {},
   "source": [
    "### Вывод\n",
    "\n",
    "Видно что наибольшая зависимость у признака `is_canceled` от признака `lead_time`, т.е. чем больше время от бронирования номера до даты заселения, тем выше вероятность отмены.\n",
    "\n",
    "Обратные зависимости примерно одного порядка есть с признаками `is_repeated_guest`, `booking_changes`, `required_car_parking_spaces`, `total_of_special_requests`.\n",
    "\n",
    "\n",
    "Проверим так же как коррелирует вероятность отмены c другими факторами при определённых условиях. Например, при различном количестве младенцев и детей."
   ]
  },
  {
   "cell_type": "code",
   "execution_count": 71,
   "metadata": {},
   "outputs": [
    {
     "data": {
      "text/plain": [
       "3377     34\n",
       "6316     48\n",
       "6866      1\n",
       "8673     14\n",
       "13772    33\n",
       "19003    21\n",
       "20586    31\n",
       "27978     6\n",
       "Name: arrival_date_week_number, dtype: int64"
      ]
     },
     "execution_count": 71,
     "metadata": {},
     "output_type": "execute_result"
    }
   ],
   "source": [
    "df_train.query('children == 3')['arrival_date_week_number']"
   ]
  },
  {
   "cell_type": "code",
   "execution_count": 72,
   "metadata": {},
   "outputs": [
    {
     "data": {
      "image/png": "[encoded data removed]",
      "text/plain": [
       "<Figure size 1080x216 with 2 Axes>"
      ]
     },
     "metadata": {
      "needs_background": "light"
     },
     "output_type": "display_data"
    },
    {
     "data": {
      "image/png": "[encoded data removed]",
      "text/plain": [
       "<Figure size 1080x216 with 2 Axes>"
      ]
     },
     "metadata": {
      "needs_background": "light"
     },
     "output_type": "display_data"
    }
   ],
   "source": [
    "for kids in ['babies', 'children']:\n",
    "    \n",
    "    plt.figure(figsize=(15, 3))\n",
    "\n",
    "    sns.heatmap(df_test.drop('income', axis=1).groupby(kids).corrwith(df_test['is_canceled']), linewidth=2, annot=True)\n",
    "\n",
    "    plt.show()"
   ]
  },
  {
   "cell_type": "markdown",
   "metadata": {},
   "source": [
    "Видно что вероятность отказа от брони возрастает в случае с количеством младенцев, падает в зависимости от количества детей. Вероятно, отпуск с младенцами непредсказуем, а с большой семьёй чаще делается в соответствии с планом.\n",
    "\n",
    "Та же ситуация с неделей заезда. Вероятность отмены отпуска с семьёй с 3мя детьми невелика и наверняка будут дополнительные запросы.\n",
    "\n",
    "Также с возрастанием количества детей возрастает вероятность отмены при увеличении длительности снятия номера.\n",
    "\n",
    "В целом эти факторы говорят о том что клиенты которые останавливаются в отеле в первый раз, не вносят в бронь изменений, не бронируют место под машину, не делают специальных запросов и бронируют номер сильно заранее более склонны к отмене и являются \"ненадёжными\"."
   ]
  },
  {
   "cell_type": "markdown",
   "metadata": {},
   "source": [
    "## Общий вывод\n",
    "\n",
    "Мы подготовили и очистили данные. Подобрали метрики и написали функции необходимые для решения задачи.\n",
    "\n",
    "Проанализировали ряд моделей машинного обучения с учителем."
   ]
  },
  {
   "cell_type": "code",
   "execution_count": 73,
   "metadata": {},
   "outputs": [
    {
     "data": {
      "text/html": [
       "<div>\n",
       "<style scoped>\n",
       "    .dataframe tbody tr th:only-of-type {\n",
       "        vertical-align: middle;\n",
       "    }\n",
       "\n",
       "    .dataframe tbody tr th {\n",
       "        vertical-align: top;\n",
       "    }\n",
       "\n",
       "    .dataframe thead th {\n",
       "        text-align: right;\n",
       "    }\n",
       "</style>\n",
       "<table border=\"1\" class=\"dataframe\">\n",
       "  <thead>\n",
       "    <tr style=\"text-align: right;\">\n",
       "      <th></th>\n",
       "      <th>F1</th>\n",
       "      <th>Accuracy</th>\n",
       "      <th>TN</th>\n",
       "      <th>FP</th>\n",
       "      <th>FN</th>\n",
       "      <th>TP</th>\n",
       "      <th>Precision</th>\n",
       "      <th>Recall</th>\n",
       "      <th>Income_score</th>\n",
       "      <th>Income_score_mod</th>\n",
       "    </tr>\n",
       "  </thead>\n",
       "  <tbody>\n",
       "    <tr>\n",
       "      <th>DummyClassifierRandom</th>\n",
       "      <td>0.386</td>\n",
       "      <td>0.499</td>\n",
       "      <td>8402.0</td>\n",
       "      <td>8411.0</td>\n",
       "      <td>3887.0</td>\n",
       "      <td>3869.0</td>\n",
       "      <td>0.315</td>\n",
       "      <td>0.499</td>\n",
       "      <td>40.725</td>\n",
       "      <td>28.416</td>\n",
       "    </tr>\n",
       "    <tr>\n",
       "      <th>DummyClassifierConstant</th>\n",
       "      <td>0.000</td>\n",
       "      <td>0.684</td>\n",
       "      <td>16813.0</td>\n",
       "      <td>0.0</td>\n",
       "      <td>7756.0</td>\n",
       "      <td>0.0</td>\n",
       "      <td>0.000</td>\n",
       "      <td>0.000</td>\n",
       "      <td>32.220</td>\n",
       "      <td>32.220</td>\n",
       "    </tr>\n",
       "    <tr>\n",
       "      <th>RandomForestClassifier</th>\n",
       "      <td>0.551</td>\n",
       "      <td>0.710</td>\n",
       "      <td>13080.0</td>\n",
       "      <td>3733.0</td>\n",
       "      <td>3389.0</td>\n",
       "      <td>4367.0</td>\n",
       "      <td>0.539</td>\n",
       "      <td>0.563</td>\n",
       "      <td>41.812</td>\n",
       "      <td>34.697</td>\n",
       "    </tr>\n",
       "    <tr>\n",
       "      <th>AdaBoostClassifier</th>\n",
       "      <td>0.177</td>\n",
       "      <td>0.707</td>\n",
       "      <td>16605.0</td>\n",
       "      <td>208.0</td>\n",
       "      <td>6985.0</td>\n",
       "      <td>771.0</td>\n",
       "      <td>0.788</td>\n",
       "      <td>0.099</td>\n",
       "      <td>34.067</td>\n",
       "      <td>33.534</td>\n",
       "    </tr>\n",
       "    <tr>\n",
       "      <th>GradientBoostingClassifier</th>\n",
       "      <td>0.218</td>\n",
       "      <td>0.714</td>\n",
       "      <td>16557.0</td>\n",
       "      <td>256.0</td>\n",
       "      <td>6776.0</td>\n",
       "      <td>980.0</td>\n",
       "      <td>0.793</td>\n",
       "      <td>0.126</td>\n",
       "      <td>34.525</td>\n",
       "      <td>33.839</td>\n",
       "    </tr>\n",
       "    <tr>\n",
       "      <th>LogisticRegression</th>\n",
       "      <td>0.559</td>\n",
       "      <td>0.715</td>\n",
       "      <td>13134.0</td>\n",
       "      <td>3679.0</td>\n",
       "      <td>3322.0</td>\n",
       "      <td>4434.0</td>\n",
       "      <td>0.547</td>\n",
       "      <td>0.572</td>\n",
       "      <td>42.137</td>\n",
       "      <td>34.815</td>\n",
       "    </tr>\n",
       "    <tr>\n",
       "      <th>LinearSVC</th>\n",
       "      <td>0.564</td>\n",
       "      <td>0.642</td>\n",
       "      <td>10089.0</td>\n",
       "      <td>6724.0</td>\n",
       "      <td>2071.0</td>\n",
       "      <td>5685.0</td>\n",
       "      <td>0.458</td>\n",
       "      <td>0.733</td>\n",
       "      <td>44.803</td>\n",
       "      <td>32.105</td>\n",
       "    </tr>\n",
       "  </tbody>\n",
       "</table>\n",
       "</div>"
      ],
      "text/plain": [
       "                               F1  Accuracy       TN      FP      FN      TP  \\\n",
       "DummyClassifierRandom       0.386     0.499   8402.0  8411.0  3887.0  3869.0   \n",
       "DummyClassifierConstant     0.000     0.684  16813.0     0.0  7756.0     0.0   \n",
       "RandomForestClassifier      0.551     0.710  13080.0  3733.0  3389.0  4367.0   \n",
       "AdaBoostClassifier          0.177     0.707  16605.0   208.0  6985.0   771.0   \n",
       "GradientBoostingClassifier  0.218     0.714  16557.0   256.0  6776.0   980.0   \n",
       "LogisticRegression          0.559     0.715  13134.0  3679.0  3322.0  4434.0   \n",
       "LinearSVC                   0.564     0.642  10089.0  6724.0  2071.0  5685.0   \n",
       "\n",
       "                            Precision  Recall  Income_score  Income_score_mod  \n",
       "DummyClassifierRandom           0.315   0.499        40.725            28.416  \n",
       "DummyClassifierConstant         0.000   0.000        32.220            32.220  \n",
       "RandomForestClassifier          0.539   0.563        41.812            34.697  \n",
       "AdaBoostClassifier              0.788   0.099        34.067            33.534  \n",
       "GradientBoostingClassifier      0.793   0.126        34.525            33.839  \n",
       "LogisticRegression              0.547   0.572        42.137            34.815  \n",
       "LinearSVC                       0.458   0.733        44.803            32.105  "
      ]
     },
     "execution_count": 73,
     "metadata": {},
     "output_type": "execute_result"
    }
   ],
   "source": [
    "pd.DataFrame(\n",
    "    results_table, index=[\n",
    "        'F1', 'Accuracy', 'TN', 'FP', 'FN', 'TP', 'Precision', 'Recall', 'Income_score', 'Income_score_mod'\n",
    "    ]\n",
    ").transpose()"
   ]
  },
  {
   "cell_type": "markdown",
   "metadata": {},
   "source": [
    "Все из протестированных моделей обеспечивают прирост прибыли и по совокупности факторов работают лучше случайных или константных моделей. Все модели за год отобьют бюджет проектирования системы прогнозирования.\n",
    "\n",
    "Выбор конкретной модели для работы зависит от приоритетов стоящих перед бизнесом.\n",
    "\n",
    "Если нужно **максимизировать прибыль** - подойдёт модель **LinearSVC**.\n",
    "\n",
    "Если нужно **минимизировать неоправданные залоги**, которые могут отпугнуть клиентов - модель **AdaBoostClassifier**.\n",
    "\n",
    "**Сбалансированное решение** - модель **RandomForestClassifier**.\n",
    "\n",
    "Признак `is_repeated_guest` хорошо коррелирует одновременно и с `previous_cancelations` и с `previous_bookings_not_canceled`, вероятно, речь о бизнес клиентах, для которых характерны частые отмены при изменении планов, но которые предпочитают останавливаться в одном и том же месте. Данные клиенты, зная что вероятность отмены всегда есть, станут фактором снижения доходов от введения системы залогов. Таких клиентов стоит перевести в отдельную категорию, которую не будет касаться система залогов.\n",
    "\n",
    "Таким образом можно резюмировать что машинное обучение может существенно увеличить выручку при грамотном применении и отбить затраты на введение системы оценки рисков, но при этом настоятельно рекомендуется провести А/В тест и выяснить какой процент от клиентов в действительности откажется от брони если система потребует таковую. Это поможет минимизировать риски и выбрать оптимальную по доходности модель."
   ]
  }
 ],
 "metadata": {
  "ExecuteTimeLog": [
   {
    "duration": 17141,
    "start_time": "2022-05-27T07:51:37.204Z"
   },
   {
    "duration": 3712,
    "start_time": "2022-05-27T07:51:54.348Z"
   },
   {
    "duration": 3,
    "start_time": "2022-05-27T07:51:58.063Z"
   },
   {
    "duration": 1442,
    "start_time": "2022-05-27T07:51:58.068Z"
   },
   {
    "duration": 50435,
    "start_time": "2022-05-27T07:51:59.512Z"
   },
   {
    "duration": 42565,
    "start_time": "2022-05-27T07:52:49.949Z"
   },
   {
    "duration": 10,
    "start_time": "2022-05-27T07:53:32.516Z"
   },
   {
    "duration": 157,
    "start_time": "2022-05-27T07:53:32.527Z"
   },
   {
    "duration": 113,
    "start_time": "2022-05-27T07:53:32.693Z"
   },
   {
    "duration": 88,
    "start_time": "2022-05-27T07:53:32.808Z"
   },
   {
    "duration": 7,
    "start_time": "2022-05-27T07:53:32.898Z"
   },
   {
    "duration": 13,
    "start_time": "2022-05-27T07:53:32.907Z"
   },
   {
    "duration": 2427,
    "start_time": "2022-05-27T07:53:32.923Z"
   },
   {
    "duration": 19,
    "start_time": "2022-05-27T07:53:35.352Z"
   },
   {
    "duration": 51,
    "start_time": "2022-05-27T07:53:35.374Z"
   },
   {
    "duration": 4,
    "start_time": "2022-05-27T07:53:35.427Z"
   },
   {
    "duration": 7,
    "start_time": "2022-05-27T07:53:35.432Z"
   },
   {
    "duration": 9,
    "start_time": "2022-05-27T07:53:35.440Z"
   },
   {
    "duration": 28,
    "start_time": "2022-05-27T07:53:35.450Z"
   },
   {
    "duration": 5,
    "start_time": "2022-05-27T07:53:35.479Z"
   },
   {
    "duration": 932,
    "start_time": "2022-05-27T07:53:35.492Z"
   },
   {
    "duration": 23,
    "start_time": "2022-05-27T07:53:36.426Z"
   },
   {
    "duration": 3,
    "start_time": "2022-05-27T07:53:36.451Z"
   },
   {
    "duration": 872,
    "start_time": "2022-05-27T07:53:36.455Z"
   },
   {
    "duration": 31,
    "start_time": "2022-05-27T07:53:37.329Z"
   },
   {
    "duration": 18,
    "start_time": "2022-05-27T07:53:37.361Z"
   },
   {
    "duration": 18,
    "start_time": "2022-05-27T07:53:37.387Z"
   },
   {
    "duration": 7,
    "start_time": "2022-05-27T07:53:37.406Z"
   },
   {
    "duration": 269213,
    "start_time": "2022-05-27T07:53:37.415Z"
   },
   {
    "duration": 14,
    "start_time": "2022-05-27T07:58:06.630Z"
   },
   {
    "duration": 3168,
    "start_time": "2022-05-27T07:58:06.645Z"
   },
   {
    "duration": 3,
    "start_time": "2022-05-27T07:58:09.815Z"
   },
   {
    "duration": 7,
    "start_time": "2022-05-27T07:58:09.819Z"
   },
   {
    "duration": 277678,
    "start_time": "2022-05-27T07:58:09.827Z"
   },
   {
    "duration": 16,
    "start_time": "2022-05-27T08:02:47.507Z"
   },
   {
    "duration": 5243,
    "start_time": "2022-05-27T08:02:47.525Z"
   },
   {
    "duration": 3,
    "start_time": "2022-05-27T08:02:52.770Z"
   },
   {
    "duration": 29,
    "start_time": "2022-05-27T08:02:52.793Z"
   },
   {
    "duration": 1449082,
    "start_time": "2022-05-27T08:02:52.824Z"
   },
   {
    "duration": 15,
    "start_time": "2022-05-27T08:27:01.909Z"
   },
   {
    "duration": 2124,
    "start_time": "2022-05-27T08:27:01.926Z"
   },
   {
    "duration": 4,
    "start_time": "2022-05-27T08:27:04.051Z"
   },
   {
    "duration": 38,
    "start_time": "2022-05-27T08:27:04.056Z"
   },
   {
    "duration": 416566,
    "start_time": "2022-05-27T08:27:04.096Z"
   },
   {
    "duration": 31,
    "start_time": "2022-05-27T08:34:00.663Z"
   },
   {
    "duration": 1417,
    "start_time": "2022-05-27T08:34:00.696Z"
   },
   {
    "duration": 2,
    "start_time": "2022-05-27T08:34:02.115Z"
   },
   {
    "duration": 14,
    "start_time": "2022-05-27T08:34:02.119Z"
   },
   {
    "duration": 74721,
    "start_time": "2022-05-27T08:34:02.135Z"
   },
   {
    "duration": 30,
    "start_time": "2022-05-27T08:35:16.858Z"
   },
   {
    "duration": 1296,
    "start_time": "2022-05-27T08:35:16.889Z"
   },
   {
    "duration": 13,
    "start_time": "2022-05-27T08:35:18.186Z"
   },
   {
    "duration": 1953,
    "start_time": "2022-05-27T08:35:18.201Z"
   },
   {
    "duration": 33,
    "start_time": "2022-05-27T08:35:20.156Z"
   },
   {
    "duration": 17055,
    "start_time": "2022-05-29T19:40:31.522Z"
   },
   {
    "duration": 3158,
    "start_time": "2022-05-29T19:40:48.580Z"
   },
   {
    "duration": 5,
    "start_time": "2022-05-29T19:40:51.740Z"
   },
   {
    "duration": 1091,
    "start_time": "2022-05-29T19:40:51.746Z"
   },
   {
    "duration": 253,
    "start_time": "2022-05-29T19:40:52.840Z"
   },
   {
    "duration": 60677,
    "start_time": "2022-05-29T19:40:53.095Z"
   },
   {
    "duration": 52169,
    "start_time": "2022-05-29T19:41:53.774Z"
   },
   {
    "duration": 13,
    "start_time": "2022-05-29T19:42:45.946Z"
   },
   {
    "duration": 136,
    "start_time": "2022-05-29T19:42:45.984Z"
   },
   {
    "duration": 261,
    "start_time": "2022-05-29T19:42:46.123Z"
   },
   {
    "duration": 216,
    "start_time": "2022-05-29T19:42:46.386Z"
   },
   {
    "duration": 25,
    "start_time": "2022-05-29T19:42:46.607Z"
   },
   {
    "duration": 61,
    "start_time": "2022-05-29T19:42:46.683Z"
   },
   {
    "duration": 43,
    "start_time": "2022-05-29T19:42:46.750Z"
   },
   {
    "duration": 58,
    "start_time": "2022-05-29T19:42:46.796Z"
   },
   {
    "duration": 41,
    "start_time": "2022-05-29T19:42:46.857Z"
   },
   {
    "duration": 24,
    "start_time": "2022-05-29T19:42:46.904Z"
   },
   {
    "duration": 25,
    "start_time": "2022-05-29T19:42:46.931Z"
   },
   {
    "duration": 13,
    "start_time": "2022-05-29T19:42:46.958Z"
   },
   {
    "duration": 38,
    "start_time": "2022-05-29T19:42:46.974Z"
   },
   {
    "duration": 23,
    "start_time": "2022-05-29T19:42:47.014Z"
   },
   {
    "duration": 9158,
    "start_time": "2022-05-29T19:42:47.039Z"
   },
   {
    "duration": 87,
    "start_time": "2022-05-29T19:42:56.204Z"
   },
   {
    "duration": 7803,
    "start_time": "2022-05-29T19:42:56.297Z"
   },
   {
    "duration": 140,
    "start_time": "2022-05-29T19:43:04.108Z"
   },
   {
    "duration": 54,
    "start_time": "2022-05-29T19:43:04.250Z"
   },
   {
    "duration": 7,
    "start_time": "2022-05-29T19:43:04.319Z"
   },
   {
    "duration": 12,
    "start_time": "2022-05-29T19:43:04.330Z"
   },
   {
    "duration": 1978,
    "start_time": "2022-05-29T19:43:04.344Z"
   },
   {
    "duration": 38,
    "start_time": "2022-05-29T19:43:06.325Z"
   },
   {
    "duration": 100,
    "start_time": "2022-05-29T19:43:06.366Z"
   },
   {
    "duration": 4,
    "start_time": "2022-05-29T19:43:06.468Z"
   },
   {
    "duration": 31,
    "start_time": "2022-05-29T19:43:06.474Z"
   },
   {
    "duration": 10,
    "start_time": "2022-05-29T19:43:06.510Z"
   },
   {
    "duration": 11,
    "start_time": "2022-05-29T19:43:06.525Z"
   },
   {
    "duration": 2214,
    "start_time": "2022-05-29T19:43:06.538Z"
   },
   {
    "duration": 19,
    "start_time": "2022-05-29T19:43:08.754Z"
   },
   {
    "duration": 8,
    "start_time": "2022-05-29T19:43:08.790Z"
   },
   {
    "duration": 1831,
    "start_time": "2022-05-29T19:43:08.800Z"
   },
   {
    "duration": 21,
    "start_time": "2022-05-29T19:43:10.633Z"
   },
   {
    "duration": 31,
    "start_time": "2022-05-29T19:43:10.658Z"
   },
   {
    "duration": 9,
    "start_time": "2022-05-29T19:43:10.709Z"
   },
   {
    "duration": 12,
    "start_time": "2022-05-29T19:43:10.722Z"
   },
   {
    "duration": 5,
    "start_time": "2022-05-29T19:43:10.736Z"
   },
   {
    "duration": 219985,
    "start_time": "2022-05-29T19:43:10.743Z"
   },
   {
    "duration": 31,
    "start_time": "2022-05-29T19:46:50.731Z"
   },
   {
    "duration": 4432,
    "start_time": "2022-05-29T19:46:50.764Z"
   },
   {
    "duration": 5,
    "start_time": "2022-05-29T19:46:55.198Z"
   },
   {
    "duration": 8,
    "start_time": "2022-05-29T19:46:55.205Z"
   },
   {
    "duration": 238658,
    "start_time": "2022-05-29T19:46:55.215Z"
   },
   {
    "duration": 35,
    "start_time": "2022-05-29T19:50:53.874Z"
   },
   {
    "duration": 4948,
    "start_time": "2022-05-29T19:50:53.911Z"
   },
   {
    "duration": 3,
    "start_time": "2022-05-29T19:50:58.861Z"
   },
   {
    "duration": 7,
    "start_time": "2022-05-29T19:50:58.866Z"
   },
   {
    "duration": 835904,
    "start_time": "2022-05-29T19:50:58.874Z"
   },
   {
    "duration": 33,
    "start_time": "2022-05-29T20:04:54.780Z"
   },
   {
    "duration": 3004,
    "start_time": "2022-05-29T20:04:54.815Z"
   },
   {
    "duration": 3,
    "start_time": "2022-05-29T20:04:57.821Z"
   },
   {
    "duration": 8,
    "start_time": "2022-05-29T20:04:57.825Z"
   },
   {
    "duration": 6,
    "start_time": "2022-05-29T20:04:57.835Z"
   },
   {
    "duration": 55,
    "start_time": "2022-05-30T16:08:09.609Z"
   },
   {
    "duration": 14585,
    "start_time": "2022-05-30T16:08:14.371Z"
   },
   {
    "duration": 1782,
    "start_time": "2022-05-30T16:08:28.958Z"
   },
   {
    "duration": 2,
    "start_time": "2022-05-30T16:08:30.743Z"
   },
   {
    "duration": 477,
    "start_time": "2022-05-30T16:08:30.748Z"
   },
   {
    "duration": 236,
    "start_time": "2022-05-30T16:08:31.227Z"
   },
   {
    "duration": 45833,
    "start_time": "2022-05-30T16:08:31.464Z"
   },
   {
    "duration": 39782,
    "start_time": "2022-05-30T16:09:17.299Z"
   },
   {
    "duration": 36,
    "start_time": "2022-05-30T16:09:57.083Z"
   },
   {
    "duration": 121,
    "start_time": "2022-05-30T16:09:57.122Z"
   },
   {
    "duration": 173,
    "start_time": "2022-05-30T16:09:57.245Z"
   },
   {
    "duration": 118,
    "start_time": "2022-05-30T16:09:57.419Z"
   },
   {
    "duration": 75,
    "start_time": "2022-05-30T16:09:57.539Z"
   },
   {
    "duration": 13,
    "start_time": "2022-05-30T16:09:57.617Z"
   },
   {
    "duration": 13,
    "start_time": "2022-05-30T16:09:57.631Z"
   },
   {
    "duration": 12,
    "start_time": "2022-05-30T16:09:57.645Z"
   },
   {
    "duration": 13,
    "start_time": "2022-05-30T16:09:57.659Z"
   },
   {
    "duration": 40,
    "start_time": "2022-05-30T16:09:57.673Z"
   },
   {
    "duration": 28,
    "start_time": "2022-05-30T16:09:57.714Z"
   },
   {
    "duration": 6,
    "start_time": "2022-05-30T16:09:57.744Z"
   },
   {
    "duration": 18,
    "start_time": "2022-05-30T16:09:57.751Z"
   },
   {
    "duration": 2,
    "start_time": "2022-05-30T16:09:57.771Z"
   },
   {
    "duration": 7226,
    "start_time": "2022-05-30T16:09:57.774Z"
   },
   {
    "duration": 13,
    "start_time": "2022-05-30T16:10:05.001Z"
   },
   {
    "duration": 6582,
    "start_time": "2022-05-30T16:10:05.019Z"
   },
   {
    "duration": 129,
    "start_time": "2022-05-30T16:10:11.606Z"
   },
   {
    "duration": 20,
    "start_time": "2022-05-30T16:10:11.736Z"
   },
   {
    "duration": 4,
    "start_time": "2022-05-30T16:10:11.758Z"
   },
   {
    "duration": 10,
    "start_time": "2022-05-30T16:10:11.765Z"
   },
   {
    "duration": 1744,
    "start_time": "2022-05-30T16:10:11.777Z"
   },
   {
    "duration": 21,
    "start_time": "2022-05-30T16:10:13.522Z"
   },
   {
    "duration": 39,
    "start_time": "2022-05-30T16:10:13.544Z"
   },
   {
    "duration": 10,
    "start_time": "2022-05-30T16:10:13.600Z"
   },
   {
    "duration": 12,
    "start_time": "2022-05-30T16:10:13.612Z"
   },
   {
    "duration": 10,
    "start_time": "2022-05-30T16:10:13.626Z"
   },
   {
    "duration": 12,
    "start_time": "2022-05-30T16:10:13.637Z"
   },
   {
    "duration": 1728,
    "start_time": "2022-05-30T16:10:13.650Z"
   },
   {
    "duration": 31,
    "start_time": "2022-05-30T16:10:15.379Z"
   },
   {
    "duration": 2,
    "start_time": "2022-05-30T16:10:15.417Z"
   },
   {
    "duration": 1547,
    "start_time": "2022-05-30T16:10:15.420Z"
   },
   {
    "duration": 16,
    "start_time": "2022-05-30T16:10:16.971Z"
   },
   {
    "duration": 24,
    "start_time": "2022-05-30T16:10:16.989Z"
   },
   {
    "duration": 10,
    "start_time": "2022-05-30T16:10:17.014Z"
   },
   {
    "duration": 8,
    "start_time": "2022-05-30T16:10:17.026Z"
   },
   {
    "duration": 13,
    "start_time": "2022-05-30T16:10:17.036Z"
   },
   {
    "duration": 180047,
    "start_time": "2022-05-30T16:10:17.051Z"
   },
   {
    "duration": 22,
    "start_time": "2022-05-30T16:13:17.100Z"
   },
   {
    "duration": 3837,
    "start_time": "2022-05-30T16:13:17.123Z"
   },
   {
    "duration": 4,
    "start_time": "2022-05-30T16:13:20.961Z"
   },
   {
    "duration": 13,
    "start_time": "2022-05-30T16:13:20.966Z"
   },
   {
    "duration": 211383,
    "start_time": "2022-05-30T16:13:20.980Z"
   },
   {
    "duration": 15,
    "start_time": "2022-05-30T16:16:52.365Z"
   },
   {
    "duration": 4361,
    "start_time": "2022-05-30T16:16:52.382Z"
   },
   {
    "duration": 3,
    "start_time": "2022-05-30T16:16:56.744Z"
   },
   {
    "duration": 10,
    "start_time": "2022-05-30T16:16:56.748Z"
   },
   {
    "duration": 769291,
    "start_time": "2022-05-30T16:16:56.759Z"
   },
   {
    "duration": 31,
    "start_time": "2022-05-30T16:29:46.052Z"
   },
   {
    "duration": 2977,
    "start_time": "2022-05-30T16:29:46.086Z"
   },
   {
    "duration": 3,
    "start_time": "2022-05-30T16:29:49.064Z"
   },
   {
    "duration": 5,
    "start_time": "2022-05-30T16:29:49.069Z"
   },
   {
    "duration": 6,
    "start_time": "2022-05-30T16:29:49.076Z"
   },
   {
    "duration": 422895,
    "start_time": "2022-05-30T16:29:49.083Z"
   },
   {
    "duration": 29,
    "start_time": "2022-05-30T16:36:51.980Z"
   },
   {
    "duration": 2424,
    "start_time": "2022-05-30T16:36:52.010Z"
   },
   {
    "duration": 3,
    "start_time": "2022-05-30T16:36:54.435Z"
   },
   {
    "duration": 16,
    "start_time": "2022-05-30T16:36:54.440Z"
   },
   {
    "duration": 27711,
    "start_time": "2022-05-30T16:36:54.457Z"
   },
   {
    "duration": 18,
    "start_time": "2022-05-30T16:37:22.170Z"
   },
   {
    "duration": 2531,
    "start_time": "2022-05-30T16:37:22.189Z"
   },
   {
    "duration": 23,
    "start_time": "2022-05-30T16:37:24.722Z"
   },
   {
    "duration": 1949,
    "start_time": "2022-05-30T16:37:24.746Z"
   },
   {
    "duration": 14,
    "start_time": "2022-05-30T16:37:26.697Z"
   },
   {
    "duration": 2060,
    "start_time": "2022-05-30T16:37:26.713Z"
   },
   {
    "duration": 17,
    "start_time": "2022-05-30T16:37:28.775Z"
   },
   {
    "duration": 13,
    "start_time": "2022-05-30T17:10:57.635Z"
   }
  ],
  "kernelspec": {
   "display_name": "Python 3 (ipykernel)",
   "language": "python",
   "name": "python3"
  },
  "language_info": {
   "codemirror_mode": {
    "name": "ipython",
    "version": 3
   },
   "file_extension": ".py",
   "mimetype": "text/x-python",
   "name": "python",
   "nbconvert_exporter": "python",
   "pygments_lexer": "ipython3",
   "version": "3.9.13"
  },
  "toc": {
   "base_numbering": 1,
   "nav_menu": {
    "height": "142px",
    "width": "390px"
   },
   "number_sections": true,
   "sideBar": true,
   "skip_h1_title": true,
   "title_cell": "Содержание",
   "title_sidebar": "Содержание",
   "toc_cell": false,
   "toc_position": {
    "height": "calc(100% - 180px)",
    "left": "10px",
    "top": "150px",
    "width": "384px"
   },
   "toc_section_display": true,
   "toc_window_display": true
  }
 },
 "nbformat": 4,
 "nbformat_minor": 2
}
