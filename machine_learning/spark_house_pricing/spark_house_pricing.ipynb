{
 "cells": [
  {
   "cell_type": "markdown",
   "id": "0bb45949",
   "metadata": {},
   "source": [
    "# Предсказание стоимости жилья\n",
    "\n",
    "### Описание проекта\n",
    "\n",
    "В проекте нам нужно обучить модель линейной регрессии на данных о жилье в Калифорнии в 1990 году.\n",
    "\n",
    "Каждая строка содержит агрегированную статистику о жилом массиве. Жилой массив — минимальная географическая единица с населением от 600 до 3000 человек в зависимости от штата. Одна строка в данных содержит статистику в среднем о 1425.5 обитателях жилого массива.\n",
    "\n",
    "На основе данных нужно предсказать медианную стоимость дома в жилом массиве — median_house_value. Обучим модель и сделаем предсказания на тестовой выборке. Для оценки качества модели используем метрики RMSE, MAE и R2.\n",
    "\n",
    "### Описание данных\n",
    "\n",
    "В колонках датасета содержатся следующие данные:\n",
    "\n",
    "    longitude — широта;\n",
    "    latitude — долгота;\n",
    "    housing_median_age — медианный возраст жителей жилого массива;\n",
    "    total_rooms — общее количество комнат в домах жилого массива;\n",
    "    total_bedrooms — общее количество спален в домах жилого массива;\n",
    "    population — количество человек, которые проживают в жилом массиве;\n",
    "    households — количество домовладений в жилом массиве;\n",
    "    median_income — медианный доход жителей жилого массива;\n",
    "    median_house_value — медианная стоимость дома в жилом массиве;\n",
    "    ocean_proximity — близость к океану.\n",
    "\n",
    "### План выполнения проекта\n",
    "\n",
    "    Инициализируем локальную Spark-сессию.\n",
    "    Прочитайтем содержимое файла /datasets/housing.csv.\n",
    "    Выведем типы данных колонок датасета. Используем методы pySpark.\n",
    "    Выполним предобработку данных:\n",
    "        Исследуем данные на наличие пропусков и заполним их, выбрав значения по своему усмотрению.\n",
    "        Преобразуем колонку с категориальными значениями техникой One hot encoding.\n",
    "    Построим две модели линейной регрессии на разных наборах данных:\n",
    "        используя все данные из файла;\n",
    "        используя только числовые переменные, исключив категориальные.\n",
    "        Для построения модели используем оценщик LinearRegression из библиотеки MLlib.\n",
    "    Сравним результаты работы линейной регрессии на двух наборах данных по метрикам RMSE, MAE и R2."
   ]
  },
  {
   "cell_type": "markdown",
   "id": "53871372",
   "metadata": {
    "id": "53871372"
   },
   "source": [
    "## Подготовка и анализ данных"
   ]
  },
  {
   "cell_type": "markdown",
   "id": "3c4a9763",
   "metadata": {},
   "source": [
    "### EDA"
   ]
  },
  {
   "cell_type": "markdown",
   "id": "1e5e9475",
   "metadata": {},
   "source": [
    "Импорт необходимых библиотек и запуск spark сессии."
   ]
  },
  {
   "cell_type": "code",
   "execution_count": 1,
   "id": "df92e3ec",
   "metadata": {
    "id": "df92e3ec"
   },
   "outputs": [],
   "source": [
    "import pandas as pd \n",
    "import numpy as np\n",
    "\n",
    "import pyspark\n",
    "from pyspark.sql import SparkSession\n",
    "from pyspark.sql.types import *\n",
    "import pyspark.sql.functions as F\n",
    "\n",
    "from pyspark.ml.feature import Imputer\n",
    "from pyspark.ml.feature import StringIndexer, VectorAssembler, StandardScaler\n",
    "from pyspark.ml.regression import LinearRegression\n",
    "\n",
    "pyspark_version = pyspark.__version__\n",
    "if int(pyspark_version[:1]) == 3:\n",
    "    from pyspark.ml.feature import OneHotEncoder    \n",
    "elif int(pyspark_version[:1]) == 2:\n",
    "    from pyspark.ml.feature import OneHotEncodeEstimator\n",
    "        \n",
    "SEED = 31416\n",
    "\n",
    "spark = SparkSession.builder \\\n",
    "                    .master(\"local\") \\\n",
    "                    .appName(\"California Housing ML\") \\\n",
    "                    .getOrCreate()"
   ]
  },
  {
   "cell_type": "markdown",
   "id": "48ac2712",
   "metadata": {},
   "source": [
    "Прочитайтем содержимое файла /datasets/housing.csv."
   ]
  },
  {
   "cell_type": "code",
   "execution_count": 2,
   "id": "32fd0aee",
   "metadata": {},
   "outputs": [
    {
     "name": "stderr",
     "output_type": "stream",
     "text": [
      "[Stage 1:>                                                          (0 + 1) / 1]\r"
     ]
    },
    {
     "name": "stdout",
     "output_type": "stream",
     "text": [
      "root\n",
      " |-- longitude: double (nullable = true)\n",
      " |-- latitude: double (nullable = true)\n",
      " |-- housing_median_age: double (nullable = true)\n",
      " |-- total_rooms: double (nullable = true)\n",
      " |-- total_bedrooms: double (nullable = true)\n",
      " |-- population: double (nullable = true)\n",
      " |-- households: double (nullable = true)\n",
      " |-- median_income: double (nullable = true)\n",
      " |-- median_house_value: double (nullable = true)\n",
      " |-- ocean_proximity: string (nullable = true)\n",
      "\n"
     ]
    },
    {
     "name": "stderr",
     "output_type": "stream",
     "text": [
      "                                                                                \r"
     ]
    }
   ],
   "source": [
    "df = spark.read.load('/datasets/housing.csv', format='csv', sep=',', inferSchema=True, header='true')\n",
    "df.printSchema()"
   ]
  },
  {
   "cell_type": "markdown",
   "id": "687d4be7",
   "metadata": {},
   "source": [
    "Выведем типы данных колонок датасета. Используем методы pySpark."
   ]
  },
  {
   "cell_type": "code",
   "execution_count": 3,
   "id": "87ac8c84",
   "metadata": {},
   "outputs": [
    {
     "data": {
      "text/html": [
       "<div>\n",
       "<style scoped>\n",
       "    .dataframe tbody tr th:only-of-type {\n",
       "        vertical-align: middle;\n",
       "    }\n",
       "\n",
       "    .dataframe tbody tr th {\n",
       "        vertical-align: top;\n",
       "    }\n",
       "\n",
       "    .dataframe thead th {\n",
       "        text-align: right;\n",
       "    }\n",
       "</style>\n",
       "<table border=\"1\" class=\"dataframe\">\n",
       "  <thead>\n",
       "    <tr style=\"text-align: right;\">\n",
       "      <th></th>\n",
       "      <th>column</th>\n",
       "      <th>type</th>\n",
       "    </tr>\n",
       "  </thead>\n",
       "  <tbody>\n",
       "    <tr>\n",
       "      <th>0</th>\n",
       "      <td>longitude</td>\n",
       "      <td>double</td>\n",
       "    </tr>\n",
       "    <tr>\n",
       "      <th>1</th>\n",
       "      <td>latitude</td>\n",
       "      <td>double</td>\n",
       "    </tr>\n",
       "    <tr>\n",
       "      <th>2</th>\n",
       "      <td>housing_median_age</td>\n",
       "      <td>double</td>\n",
       "    </tr>\n",
       "    <tr>\n",
       "      <th>3</th>\n",
       "      <td>total_rooms</td>\n",
       "      <td>double</td>\n",
       "    </tr>\n",
       "    <tr>\n",
       "      <th>4</th>\n",
       "      <td>total_bedrooms</td>\n",
       "      <td>double</td>\n",
       "    </tr>\n",
       "    <tr>\n",
       "      <th>5</th>\n",
       "      <td>population</td>\n",
       "      <td>double</td>\n",
       "    </tr>\n",
       "    <tr>\n",
       "      <th>6</th>\n",
       "      <td>households</td>\n",
       "      <td>double</td>\n",
       "    </tr>\n",
       "    <tr>\n",
       "      <th>7</th>\n",
       "      <td>median_income</td>\n",
       "      <td>double</td>\n",
       "    </tr>\n",
       "    <tr>\n",
       "      <th>8</th>\n",
       "      <td>median_house_value</td>\n",
       "      <td>double</td>\n",
       "    </tr>\n",
       "    <tr>\n",
       "      <th>9</th>\n",
       "      <td>ocean_proximity</td>\n",
       "      <td>string</td>\n",
       "    </tr>\n",
       "  </tbody>\n",
       "</table>\n",
       "</div>"
      ],
      "text/plain": [
       "               column    type\n",
       "0           longitude  double\n",
       "1            latitude  double\n",
       "2  housing_median_age  double\n",
       "3         total_rooms  double\n",
       "4      total_bedrooms  double\n",
       "5          population  double\n",
       "6          households  double\n",
       "7       median_income  double\n",
       "8  median_house_value  double\n",
       "9     ocean_proximity  string"
      ]
     },
     "execution_count": 3,
     "metadata": {},
     "output_type": "execute_result"
    }
   ],
   "source": [
    "pd.DataFrame(df.dtypes, columns=['column', 'type'])"
   ]
  },
  {
   "cell_type": "markdown",
   "id": "de7557a8",
   "metadata": {},
   "source": [
    "Ознакомимся с первыми 10 строками данных."
   ]
  },
  {
   "cell_type": "code",
   "execution_count": 4,
   "id": "1b381a14",
   "metadata": {},
   "outputs": [
    {
     "name": "stdout",
     "output_type": "stream",
     "text": [
      "+---------+--------+------------------+-----------+--------------+----------+----------+-------------+------------------+---------------+\n",
      "|longitude|latitude|housing_median_age|total_rooms|total_bedrooms|population|households|median_income|median_house_value|ocean_proximity|\n",
      "+---------+--------+------------------+-----------+--------------+----------+----------+-------------+------------------+---------------+\n",
      "|  -122.23|   37.88|              41.0|      880.0|         129.0|     322.0|     126.0|       8.3252|          452600.0|       NEAR BAY|\n",
      "|  -122.22|   37.86|              21.0|     7099.0|        1106.0|    2401.0|    1138.0|       8.3014|          358500.0|       NEAR BAY|\n",
      "|  -122.24|   37.85|              52.0|     1467.0|         190.0|     496.0|     177.0|       7.2574|          352100.0|       NEAR BAY|\n",
      "|  -122.25|   37.85|              52.0|     1274.0|         235.0|     558.0|     219.0|       5.6431|          341300.0|       NEAR BAY|\n",
      "|  -122.25|   37.85|              52.0|     1627.0|         280.0|     565.0|     259.0|       3.8462|          342200.0|       NEAR BAY|\n",
      "|  -122.25|   37.85|              52.0|      919.0|         213.0|     413.0|     193.0|       4.0368|          269700.0|       NEAR BAY|\n",
      "|  -122.25|   37.84|              52.0|     2535.0|         489.0|    1094.0|     514.0|       3.6591|          299200.0|       NEAR BAY|\n",
      "|  -122.25|   37.84|              52.0|     3104.0|         687.0|    1157.0|     647.0|         3.12|          241400.0|       NEAR BAY|\n",
      "|  -122.26|   37.84|              42.0|     2555.0|         665.0|    1206.0|     595.0|       2.0804|          226700.0|       NEAR BAY|\n",
      "|  -122.25|   37.84|              52.0|     3549.0|         707.0|    1551.0|     714.0|       3.6912|          261100.0|       NEAR BAY|\n",
      "+---------+--------+------------------+-----------+--------------+----------+----------+-------------+------------------+---------------+\n",
      "only showing top 10 rows\n",
      "\n"
     ]
    }
   ],
   "source": [
    "df.show(10)"
   ]
  },
  {
   "cell_type": "markdown",
   "id": "475c299d",
   "metadata": {},
   "source": [
    "Посмотрим статистику по данным."
   ]
  },
  {
   "cell_type": "code",
   "execution_count": 5,
   "id": "e57c4334",
   "metadata": {},
   "outputs": [
    {
     "name": "stderr",
     "output_type": "stream",
     "text": [
      "                                                                                \r"
     ]
    },
    {
     "data": {
      "text/html": [
       "<div>\n",
       "<style scoped>\n",
       "    .dataframe tbody tr th:only-of-type {\n",
       "        vertical-align: middle;\n",
       "    }\n",
       "\n",
       "    .dataframe tbody tr th {\n",
       "        vertical-align: top;\n",
       "    }\n",
       "\n",
       "    .dataframe thead th {\n",
       "        text-align: right;\n",
       "    }\n",
       "</style>\n",
       "<table border=\"1\" class=\"dataframe\">\n",
       "  <thead>\n",
       "    <tr style=\"text-align: right;\">\n",
       "      <th></th>\n",
       "      <th>summary</th>\n",
       "      <th>longitude</th>\n",
       "      <th>latitude</th>\n",
       "      <th>housing_median_age</th>\n",
       "      <th>total_rooms</th>\n",
       "      <th>total_bedrooms</th>\n",
       "      <th>population</th>\n",
       "      <th>households</th>\n",
       "      <th>median_income</th>\n",
       "      <th>median_house_value</th>\n",
       "      <th>ocean_proximity</th>\n",
       "    </tr>\n",
       "  </thead>\n",
       "  <tbody>\n",
       "    <tr>\n",
       "      <th>0</th>\n",
       "      <td>count</td>\n",
       "      <td>20640</td>\n",
       "      <td>20640</td>\n",
       "      <td>20640</td>\n",
       "      <td>20640</td>\n",
       "      <td>20433</td>\n",
       "      <td>20640</td>\n",
       "      <td>20640</td>\n",
       "      <td>20640</td>\n",
       "      <td>20640</td>\n",
       "      <td>20640</td>\n",
       "    </tr>\n",
       "    <tr>\n",
       "      <th>1</th>\n",
       "      <td>mean</td>\n",
       "      <td>-119.56970445736148</td>\n",
       "      <td>35.6318614341087</td>\n",
       "      <td>28.639486434108527</td>\n",
       "      <td>2635.7630813953488</td>\n",
       "      <td>537.8705525375618</td>\n",
       "      <td>1425.4767441860465</td>\n",
       "      <td>499.5396802325581</td>\n",
       "      <td>3.8706710029070246</td>\n",
       "      <td>206855.81690891474</td>\n",
       "      <td>None</td>\n",
       "    </tr>\n",
       "    <tr>\n",
       "      <th>2</th>\n",
       "      <td>stddev</td>\n",
       "      <td>2.003531723502584</td>\n",
       "      <td>2.135952397457101</td>\n",
       "      <td>12.58555761211163</td>\n",
       "      <td>2181.6152515827944</td>\n",
       "      <td>421.38507007403115</td>\n",
       "      <td>1132.46212176534</td>\n",
       "      <td>382.3297528316098</td>\n",
       "      <td>1.899821717945263</td>\n",
       "      <td>115395.61587441359</td>\n",
       "      <td>None</td>\n",
       "    </tr>\n",
       "    <tr>\n",
       "      <th>3</th>\n",
       "      <td>min</td>\n",
       "      <td>-124.35</td>\n",
       "      <td>32.54</td>\n",
       "      <td>1.0</td>\n",
       "      <td>2.0</td>\n",
       "      <td>1.0</td>\n",
       "      <td>3.0</td>\n",
       "      <td>1.0</td>\n",
       "      <td>0.4999</td>\n",
       "      <td>14999.0</td>\n",
       "      <td>&lt;1H OCEAN</td>\n",
       "    </tr>\n",
       "    <tr>\n",
       "      <th>4</th>\n",
       "      <td>max</td>\n",
       "      <td>-114.31</td>\n",
       "      <td>41.95</td>\n",
       "      <td>52.0</td>\n",
       "      <td>39320.0</td>\n",
       "      <td>6445.0</td>\n",
       "      <td>35682.0</td>\n",
       "      <td>6082.0</td>\n",
       "      <td>15.0001</td>\n",
       "      <td>500001.0</td>\n",
       "      <td>NEAR OCEAN</td>\n",
       "    </tr>\n",
       "  </tbody>\n",
       "</table>\n",
       "</div>"
      ],
      "text/plain": [
       "  summary            longitude           latitude  housing_median_age  \\\n",
       "0   count                20640              20640               20640   \n",
       "1    mean  -119.56970445736148   35.6318614341087  28.639486434108527   \n",
       "2  stddev    2.003531723502584  2.135952397457101   12.58555761211163   \n",
       "3     min              -124.35              32.54                 1.0   \n",
       "4     max              -114.31              41.95                52.0   \n",
       "\n",
       "          total_rooms      total_bedrooms          population  \\\n",
       "0               20640               20433               20640   \n",
       "1  2635.7630813953488   537.8705525375618  1425.4767441860465   \n",
       "2  2181.6152515827944  421.38507007403115    1132.46212176534   \n",
       "3                 2.0                 1.0                 3.0   \n",
       "4             39320.0              6445.0             35682.0   \n",
       "\n",
       "          households       median_income  median_house_value ocean_proximity  \n",
       "0              20640               20640               20640           20640  \n",
       "1  499.5396802325581  3.8706710029070246  206855.81690891474            None  \n",
       "2  382.3297528316098   1.899821717945263  115395.61587441359            None  \n",
       "3                1.0              0.4999             14999.0       <1H OCEAN  \n",
       "4             6082.0             15.0001            500001.0      NEAR OCEAN  "
      ]
     },
     "execution_count": 5,
     "metadata": {},
     "output_type": "execute_result"
    }
   ],
   "source": [
    "df.describe().toPandas()"
   ]
  },
  {
   "cell_type": "markdown",
   "id": "16dcd202",
   "metadata": {},
   "source": [
    "#### Выводы\n",
    "\n",
    "Мы инициализировали сессию Spark, загрузили библиотеки и данные, провели осмотр данных."
   ]
  },
  {
   "cell_type": "markdown",
   "id": "fdecbe6b",
   "metadata": {},
   "source": [
    "### Подготовка данных"
   ]
  },
  {
   "cell_type": "markdown",
   "id": "815b9bb3",
   "metadata": {},
   "source": [
    "Исследуем данные на наличие пропусков."
   ]
  },
  {
   "cell_type": "code",
   "execution_count": 6,
   "id": "6aa8b0ff",
   "metadata": {
    "scrolled": true
   },
   "outputs": [
    {
     "name": "stdout",
     "output_type": "stream",
     "text": [
      "+---------+--------+------------------+-----------+--------------+----------+----------+-------------+------------------+---------------+\n",
      "|longitude|latitude|housing_median_age|total_rooms|total_bedrooms|population|households|median_income|median_house_value|ocean_proximity|\n",
      "+---------+--------+------------------+-----------+--------------+----------+----------+-------------+------------------+---------------+\n",
      "|        0|       0|                 0|          0|           207|         0|         0|            0|                 0|              0|\n",
      "+---------+--------+------------------+-----------+--------------+----------+----------+-------------+------------------+---------------+\n",
      "\n"
     ]
    }
   ],
   "source": [
    "df.select([F.count(F.when(F.isnan(c) | F.col(c).isNull(), c)).alias(c) for c in df.columns]).show()"
   ]
  },
  {
   "cell_type": "markdown",
   "id": "cbf382a2",
   "metadata": {},
   "source": [
    "Заполним их медианными значениями."
   ]
  },
  {
   "cell_type": "code",
   "execution_count": 7,
   "id": "a9f310d7",
   "metadata": {},
   "outputs": [
    {
     "name": "stderr",
     "output_type": "stream",
     "text": [
      "                                                                                \r"
     ]
    }
   ],
   "source": [
    "imputer = Imputer(strategy='median', inputCols=['total_bedrooms'], outputCols=['total_bedrooms'])\n",
    "df = imputer.fit(df).transform(df)"
   ]
  },
  {
   "cell_type": "markdown",
   "id": "2039f458",
   "metadata": {},
   "source": [
    "Проверим статистику."
   ]
  },
  {
   "cell_type": "code",
   "execution_count": 8,
   "id": "109b7311",
   "metadata": {},
   "outputs": [
    {
     "name": "stderr",
     "output_type": "stream",
     "text": [
      "                                                                                \r"
     ]
    },
    {
     "data": {
      "text/html": [
       "<div>\n",
       "<style scoped>\n",
       "    .dataframe tbody tr th:only-of-type {\n",
       "        vertical-align: middle;\n",
       "    }\n",
       "\n",
       "    .dataframe tbody tr th {\n",
       "        vertical-align: top;\n",
       "    }\n",
       "\n",
       "    .dataframe thead th {\n",
       "        text-align: right;\n",
       "    }\n",
       "</style>\n",
       "<table border=\"1\" class=\"dataframe\">\n",
       "  <thead>\n",
       "    <tr style=\"text-align: right;\">\n",
       "      <th></th>\n",
       "      <th>summary</th>\n",
       "      <th>longitude</th>\n",
       "      <th>latitude</th>\n",
       "      <th>housing_median_age</th>\n",
       "      <th>total_rooms</th>\n",
       "      <th>total_bedrooms</th>\n",
       "      <th>population</th>\n",
       "      <th>households</th>\n",
       "      <th>median_income</th>\n",
       "      <th>median_house_value</th>\n",
       "      <th>ocean_proximity</th>\n",
       "    </tr>\n",
       "  </thead>\n",
       "  <tbody>\n",
       "    <tr>\n",
       "      <th>0</th>\n",
       "      <td>count</td>\n",
       "      <td>20640</td>\n",
       "      <td>20640</td>\n",
       "      <td>20640</td>\n",
       "      <td>20640</td>\n",
       "      <td>20640</td>\n",
       "      <td>20640</td>\n",
       "      <td>20640</td>\n",
       "      <td>20640</td>\n",
       "      <td>20640</td>\n",
       "      <td>20640</td>\n",
       "    </tr>\n",
       "    <tr>\n",
       "      <th>1</th>\n",
       "      <td>mean</td>\n",
       "      <td>-119.56970445736148</td>\n",
       "      <td>35.6318614341087</td>\n",
       "      <td>28.639486434108527</td>\n",
       "      <td>2635.7630813953488</td>\n",
       "      <td>536.8388565891473</td>\n",
       "      <td>1425.4767441860465</td>\n",
       "      <td>499.5396802325581</td>\n",
       "      <td>3.8706710029070246</td>\n",
       "      <td>206855.81690891474</td>\n",
       "      <td>None</td>\n",
       "    </tr>\n",
       "    <tr>\n",
       "      <th>2</th>\n",
       "      <td>stddev</td>\n",
       "      <td>2.003531723502584</td>\n",
       "      <td>2.135952397457101</td>\n",
       "      <td>12.58555761211163</td>\n",
       "      <td>2181.6152515827944</td>\n",
       "      <td>419.39187792168866</td>\n",
       "      <td>1132.46212176534</td>\n",
       "      <td>382.3297528316098</td>\n",
       "      <td>1.899821717945263</td>\n",
       "      <td>115395.61587441359</td>\n",
       "      <td>None</td>\n",
       "    </tr>\n",
       "    <tr>\n",
       "      <th>3</th>\n",
       "      <td>min</td>\n",
       "      <td>-124.35</td>\n",
       "      <td>32.54</td>\n",
       "      <td>1.0</td>\n",
       "      <td>2.0</td>\n",
       "      <td>1.0</td>\n",
       "      <td>3.0</td>\n",
       "      <td>1.0</td>\n",
       "      <td>0.4999</td>\n",
       "      <td>14999.0</td>\n",
       "      <td>&lt;1H OCEAN</td>\n",
       "    </tr>\n",
       "    <tr>\n",
       "      <th>4</th>\n",
       "      <td>max</td>\n",
       "      <td>-114.31</td>\n",
       "      <td>41.95</td>\n",
       "      <td>52.0</td>\n",
       "      <td>39320.0</td>\n",
       "      <td>6445.0</td>\n",
       "      <td>35682.0</td>\n",
       "      <td>6082.0</td>\n",
       "      <td>15.0001</td>\n",
       "      <td>500001.0</td>\n",
       "      <td>NEAR OCEAN</td>\n",
       "    </tr>\n",
       "  </tbody>\n",
       "</table>\n",
       "</div>"
      ],
      "text/plain": [
       "  summary            longitude           latitude  housing_median_age  \\\n",
       "0   count                20640              20640               20640   \n",
       "1    mean  -119.56970445736148   35.6318614341087  28.639486434108527   \n",
       "2  stddev    2.003531723502584  2.135952397457101   12.58555761211163   \n",
       "3     min              -124.35              32.54                 1.0   \n",
       "4     max              -114.31              41.95                52.0   \n",
       "\n",
       "          total_rooms      total_bedrooms          population  \\\n",
       "0               20640               20640               20640   \n",
       "1  2635.7630813953488   536.8388565891473  1425.4767441860465   \n",
       "2  2181.6152515827944  419.39187792168866    1132.46212176534   \n",
       "3                 2.0                 1.0                 3.0   \n",
       "4             39320.0              6445.0             35682.0   \n",
       "\n",
       "          households       median_income  median_house_value ocean_proximity  \n",
       "0              20640               20640               20640           20640  \n",
       "1  499.5396802325581  3.8706710029070246  206855.81690891474            None  \n",
       "2  382.3297528316098   1.899821717945263  115395.61587441359            None  \n",
       "3                1.0              0.4999             14999.0       <1H OCEAN  \n",
       "4             6082.0             15.0001            500001.0      NEAR OCEAN  "
      ]
     },
     "execution_count": 8,
     "metadata": {},
     "output_type": "execute_result"
    }
   ],
   "source": [
    "df.describe().toPandas()"
   ]
  },
  {
   "cell_type": "markdown",
   "id": "085289ca",
   "metadata": {},
   "source": [
    "Среднее и стандартное отклонение почти не изменились."
   ]
  },
  {
   "cell_type": "markdown",
   "id": "c00e002c",
   "metadata": {},
   "source": [
    "#### Выводы\n",
    "\n",
    "Проверили пропуски в данных и заполнили их медианными значениями."
   ]
  },
  {
   "cell_type": "markdown",
   "id": "d1c22384",
   "metadata": {},
   "source": [
    "### Преобразование категориальных признаков"
   ]
  },
  {
   "cell_type": "markdown",
   "id": "5dfb51a0",
   "metadata": {},
   "source": [
    "Преобразуем колонку с категориальными значениями техникой One hot encoding.\n",
    "\n",
    "Разделим колонки на два типа: числовые и текстовые, которые представляют категориальные данные."
   ]
  },
  {
   "cell_type": "code",
   "execution_count": 9,
   "id": "acd6f517",
   "metadata": {},
   "outputs": [],
   "source": [
    "categorical_cols = ['ocean_proximity']\n",
    "numerical_cols  = ['longitude', 'latitude', 'housing_median_age', 'total_rooms',\n",
    "                   'total_bedrooms', 'population', 'households', 'median_income']\n",
    "target = 'median_house_value' "
   ]
  },
  {
   "cell_type": "markdown",
   "id": "e1ef1f9f",
   "metadata": {},
   "source": [
    "Применим технику сначала StringIndexer для перевода категориальных признаков в численные."
   ]
  },
  {
   "cell_type": "code",
   "execution_count": 10,
   "id": "4c887d98",
   "metadata": {},
   "outputs": [
    {
     "name": "stderr",
     "output_type": "stream",
     "text": [
      "                                                                                \r"
     ]
    },
    {
     "name": "stdout",
     "output_type": "stream",
     "text": [
      "+---------------+-------------------+\n",
      "|ocean_proximity|ocean_proximity_idx|\n",
      "+---------------+-------------------+\n",
      "|       NEAR BAY|                3.0|\n",
      "|       NEAR BAY|                3.0|\n",
      "|       NEAR BAY|                3.0|\n",
      "+---------------+-------------------+\n",
      "only showing top 3 rows\n",
      "\n"
     ]
    }
   ],
   "source": [
    "indexer = StringIndexer(inputCols=categorical_cols, \n",
    "                        outputCols=[c+'_idx' for c in categorical_cols]) \n",
    "df = indexer.fit(df).transform(df)\n",
    "\n",
    "cols = [c for c in df.columns for i in categorical_cols if (c.startswith(i))]\n",
    "df.select(cols).show(3)"
   ]
  },
  {
   "cell_type": "markdown",
   "id": "52a77c12",
   "metadata": {},
   "source": [
    "Теперь можно применить технику OHE."
   ]
  },
  {
   "cell_type": "code",
   "execution_count": 11,
   "id": "1bd62eae",
   "metadata": {
    "scrolled": true
   },
   "outputs": [
    {
     "name": "stdout",
     "output_type": "stream",
     "text": [
      "+---------------+-------------------+-------------------+\n",
      "|ocean_proximity|ocean_proximity_idx|ocean_proximity_ohe|\n",
      "+---------------+-------------------+-------------------+\n",
      "|       NEAR BAY|                3.0|      (4,[3],[1.0])|\n",
      "|       NEAR BAY|                3.0|      (4,[3],[1.0])|\n",
      "|       NEAR BAY|                3.0|      (4,[3],[1.0])|\n",
      "+---------------+-------------------+-------------------+\n",
      "only showing top 3 rows\n",
      "\n"
     ]
    }
   ],
   "source": [
    "encoder = OneHotEncoder(inputCols=[c+'_idx' for c in categorical_cols],\n",
    "                        outputCols=[c+'_ohe' for c in categorical_cols])\n",
    "df = encoder.fit(df).transform(df)\n",
    "\n",
    "cols = [c for c in df.columns for i in categorical_cols if (c.startswith(i))]\n",
    "df.select(cols).show(3)"
   ]
  },
  {
   "cell_type": "markdown",
   "id": "02b6b1f2",
   "metadata": {},
   "source": [
    "#### Выводы\n",
    "\n",
    "Перевели в векторный вид категориальную колонку."
   ]
  },
  {
   "cell_type": "markdown",
   "id": "f57c81e1",
   "metadata": {},
   "source": [
    "### Преобразование числовых признаков"
   ]
  },
  {
   "cell_type": "markdown",
   "id": "429ae09b",
   "metadata": {},
   "source": [
    "Для числовых признаков тоже нужна трансформация — шкалирование значений — чтобы сильные выбросы не смещали предсказания модели. Применим StandardScaler.\n",
    "\n",
    "Соберём вектор числовых признаков в отдельный столбец."
   ]
  },
  {
   "cell_type": "code",
   "execution_count": 12,
   "id": "4095c6ab",
   "metadata": {},
   "outputs": [],
   "source": [
    "numerical_assembler = VectorAssembler(inputCols=numerical_cols, outputCol=\"numerical_features\")\n",
    "df = numerical_assembler.transform(df) "
   ]
  },
  {
   "cell_type": "markdown",
   "id": "8a08edc9",
   "metadata": {},
   "source": [
    "Применим к столбцу с вектором числовых признаков StandardScaler."
   ]
  },
  {
   "cell_type": "code",
   "execution_count": 13,
   "id": "dec72af0",
   "metadata": {},
   "outputs": [
    {
     "name": "stderr",
     "output_type": "stream",
     "text": [
      "[Stage 15:>                                                         (0 + 1) / 1]\r"
     ]
    },
    {
     "name": "stdout",
     "output_type": "stream",
     "text": [
      "root\n",
      " |-- longitude: double (nullable = true)\n",
      " |-- latitude: double (nullable = true)\n",
      " |-- housing_median_age: double (nullable = true)\n",
      " |-- total_rooms: double (nullable = true)\n",
      " |-- total_bedrooms: double (nullable = true)\n",
      " |-- population: double (nullable = true)\n",
      " |-- households: double (nullable = true)\n",
      " |-- median_income: double (nullable = true)\n",
      " |-- median_house_value: double (nullable = true)\n",
      " |-- ocean_proximity: string (nullable = true)\n",
      " |-- ocean_proximity_idx: double (nullable = false)\n",
      " |-- ocean_proximity_ohe: vector (nullable = true)\n",
      " |-- numerical_features: vector (nullable = true)\n",
      " |-- numerical_features_scaled: vector (nullable = true)\n",
      "\n"
     ]
    },
    {
     "name": "stderr",
     "output_type": "stream",
     "text": [
      "                                                                                \r"
     ]
    }
   ],
   "source": [
    "standardScaler = StandardScaler(inputCol='numerical_features', outputCol=\"numerical_features_scaled\")\n",
    "df = standardScaler.fit(df).transform(df)\n",
    "df.printSchema()"
   ]
  },
  {
   "cell_type": "markdown",
   "id": "1fbddc85",
   "metadata": {},
   "source": [
    "Финальный шаг — собрать трансформированные категорийные и числовые признаки с помощью VectorAssembler."
   ]
  },
  {
   "cell_type": "code",
   "execution_count": 14,
   "id": "06e94e4e",
   "metadata": {},
   "outputs": [],
   "source": [
    "all_features = ['ocean_proximity_ohe','numerical_features_scaled']\n",
    "\n",
    "final_assembler = VectorAssembler(inputCols=all_features, outputCol='features')\n",
    "df = final_assembler.transform(df)"
   ]
  },
  {
   "cell_type": "code",
   "execution_count": 15,
   "id": "00161015",
   "metadata": {},
   "outputs": [
    {
     "name": "stdout",
     "output_type": "stream",
     "text": [
      "+--------------------+\n",
      "|            features|\n",
      "+--------------------+\n",
      "|[0.0,0.0,0.0,1.0,...|\n",
      "|[0.0,0.0,0.0,1.0,...|\n",
      "|[0.0,0.0,0.0,1.0,...|\n",
      "+--------------------+\n",
      "only showing top 3 rows\n",
      "\n",
      "+-------------------------+\n",
      "|numerical_features_scaled|\n",
      "+-------------------------+\n",
      "|     [-61.007269596069...|\n",
      "|     [-61.002278409814...|\n",
      "|     [-61.012260782324...|\n",
      "+-------------------------+\n",
      "only showing top 3 rows\n",
      "\n"
     ]
    }
   ],
   "source": [
    "df.select('features').show(3)\n",
    "df.select('numerical_features_scaled').show(3)"
   ]
  },
  {
   "cell_type": "markdown",
   "id": "b980e900",
   "metadata": {},
   "source": [
    "#### Выводы\n",
    "\n",
    "Мы преобразовали числовые признаки в вектора, объединили с категориальным и создали два набора данных. Один включающий все признаки, второй только количественные."
   ]
  },
  {
   "cell_type": "markdown",
   "id": "9f0a82f3",
   "metadata": {
    "id": "9f0a82f3"
   },
   "source": [
    "## Обучение моделей"
   ]
  },
  {
   "cell_type": "markdown",
   "id": "f9bb9ecb",
   "metadata": {},
   "source": [
    "Разделим наши наборы данных на тренировочные и тестовые."
   ]
  },
  {
   "cell_type": "code",
   "execution_count": 16,
   "id": "bddb08c4",
   "metadata": {
    "id": "bddb08c4"
   },
   "outputs": [
    {
     "name": "stderr",
     "output_type": "stream",
     "text": [
      "[Stage 21:>                                                         (0 + 1) / 1]\r"
     ]
    },
    {
     "name": "stdout",
     "output_type": "stream",
     "text": [
      "16573 4067\n"
     ]
    },
    {
     "name": "stderr",
     "output_type": "stream",
     "text": [
      "                                                                                \r"
     ]
    }
   ],
   "source": [
    "train, test = df.randomSplit([.8,.2], seed=SEED)\n",
    "print(train.count(), test.count())"
   ]
  },
  {
   "cell_type": "markdown",
   "id": "5afbb9b5",
   "metadata": {},
   "source": [
    "Создадим и обучим оценщик LinearRegression."
   ]
  },
  {
   "cell_type": "code",
   "execution_count": 17,
   "id": "67cf88ba",
   "metadata": {},
   "outputs": [
    {
     "name": "stderr",
     "output_type": "stream",
     "text": [
      "22/08/02 19:37:04 WARN BLAS: Failed to load implementation from: com.github.fommil.netlib.NativeSystemBLAS\n",
      "22/08/02 19:37:04 WARN BLAS: Failed to load implementation from: com.github.fommil.netlib.NativeRefBLAS\n",
      "                                                                                \r"
     ]
    }
   ],
   "source": [
    "lr_all = LinearRegression(labelCol=target, featuresCol='features',\n",
    "                          maxIter=10, regParam=0.3, elasticNetParam=0.8)\n",
    "model_all = lr_all.fit(train)\n",
    "\n",
    "lr_num = LinearRegression(labelCol=target, featuresCol='numerical_features_scaled',\n",
    "                          maxIter=10, regParam=0.3, elasticNetParam=0.8)\n",
    "model_num = lr_num.fit(train)"
   ]
  },
  {
   "cell_type": "markdown",
   "id": "f941557a",
   "metadata": {},
   "source": [
    "Посмотрим на предсказания моделей, со всеми признаками:"
   ]
  },
  {
   "cell_type": "code",
   "execution_count": 18,
   "id": "0e94f329",
   "metadata": {},
   "outputs": [
    {
     "name": "stdout",
     "output_type": "stream",
     "text": [
      "+------------------+------------------+\n",
      "|median_house_value|        prediction|\n",
      "+------------------+------------------+\n",
      "|          106700.0|231885.93584759417|\n",
      "|           78300.0|155799.70800570352|\n",
      "|           70000.0|166422.57695611543|\n",
      "|           70500.0|161990.87112883944|\n",
      "|           86400.0|200405.75004113186|\n",
      "|           60000.0|    159650.6852666|\n",
      "|          105900.0|164879.29050001758|\n",
      "|          109400.0| 200361.7137626009|\n",
      "|           85100.0| 193512.0517316456|\n",
      "|           92700.0| 202673.4666285324|\n",
      "+------------------+------------------+\n",
      "only showing top 10 rows\n",
      "\n"
     ]
    }
   ],
   "source": [
    "predictions_all = model_all.transform(test)\n",
    "\n",
    "predicted_all = predictions_all.select('median_house_value', 'prediction')\n",
    "predicted_all.show(10)"
   ]
  },
  {
   "cell_type": "markdown",
   "id": "616e8406",
   "metadata": {},
   "source": [
    "И только с числовыми признаками:"
   ]
  },
  {
   "cell_type": "code",
   "execution_count": 19,
   "id": "d1580eb4",
   "metadata": {
    "scrolled": true
   },
   "outputs": [
    {
     "name": "stdout",
     "output_type": "stream",
     "text": [
      "+------------------+------------------+\n",
      "|median_house_value|        prediction|\n",
      "+------------------+------------------+\n",
      "|          106700.0|192166.85561590036|\n",
      "|           78300.0| 85574.56148346001|\n",
      "|           70000.0|114982.99945447873|\n",
      "|           70500.0| 110024.1406641244|\n",
      "|           86400.0|153491.36768194614|\n",
      "|           60000.0|110568.83214117633|\n",
      "|          105900.0| 88779.07390948059|\n",
      "|          109400.0|122012.70780267939|\n",
      "|           85100.0|148191.54561168514|\n",
      "|           92700.0|154945.25986321922|\n",
      "+------------------+------------------+\n",
      "only showing top 10 rows\n",
      "\n"
     ]
    },
    {
     "name": "stderr",
     "output_type": "stream",
     "text": [
      "                                                                                \r"
     ]
    }
   ],
   "source": [
    "predictions_num = model_num.transform(test)\n",
    "\n",
    "predicted_num = predictions_num.select('median_house_value', 'prediction')\n",
    "predicted_num.show(10)"
   ]
  },
  {
   "cell_type": "markdown",
   "id": "5a1a5162",
   "metadata": {},
   "source": [
    "### Выводы\n",
    "\n",
    "Мы разделили данные на обучающие и тестовые выборки, обучили модели линейной регрессии и посмотрели на их предсказания."
   ]
  },
  {
   "cell_type": "markdown",
   "id": "757fd103",
   "metadata": {
    "id": "757fd103"
   },
   "source": [
    "## Анализ результатов"
   ]
  },
  {
   "cell_type": "markdown",
   "id": "c8fc2238",
   "metadata": {},
   "source": [
    "Сравним результаты работы линейной регрессии на двух наборах данных по метрикам RMSE, MAE и R2."
   ]
  },
  {
   "cell_type": "code",
   "execution_count": 20,
   "id": "e4adeaee",
   "metadata": {},
   "outputs": [
    {
     "name": "stdout",
     "output_type": "stream",
     "text": [
      "RMSE: 69003.554642\n",
      "MAE: 50038.513122\n",
      "R2: 0.640441\n"
     ]
    }
   ],
   "source": [
    "training_summary_all = model_all.summary\n",
    "print('RMSE: %f' % training_summary_all.rootMeanSquaredError)\n",
    "print('MAE: %f' % training_summary_all.meanAbsoluteError)\n",
    "print('R2: %f' % training_summary_all.r2)"
   ]
  },
  {
   "cell_type": "code",
   "execution_count": 21,
   "id": "4c613139",
   "metadata": {},
   "outputs": [
    {
     "name": "stdout",
     "output_type": "stream",
     "text": [
      "RMSE: 69806.260737\n",
      "MAE: 50949.855170\n",
      "R2: 0.632027\n"
     ]
    }
   ],
   "source": [
    "training_summary_num = model_num.summary\n",
    "print('RMSE: %f' % training_summary_num.rootMeanSquaredError)\n",
    "print('MAE: %f' % training_summary_num.meanAbsoluteError)\n",
    "print('R2: %f' % training_summary_num.r2)"
   ]
  },
  {
   "cell_type": "markdown",
   "id": "42fbff66",
   "metadata": {},
   "source": [
    "RMSE и MAE измеряют разницу между предсказанным значением медианной цены дома и его реальной ценой. Реальная цена по набору лежит в диапазоне от 15000 до 500000. Ошибки в случае с использованием всего набора данных чуть меньше. Но не существенно.\n",
    "\n",
    "Коэффициент детерминации, показывающий долю корректных предсказаний нашей модели выше у модели учитывающей все признаки.\n",
    "\n",
    "Проверим наши модели на тестовых данных."
   ]
  },
  {
   "cell_type": "code",
   "execution_count": 22,
   "id": "05c0dbbf",
   "metadata": {},
   "outputs": [
    {
     "name": "stdout",
     "output_type": "stream",
     "text": [
      "RMSE: 70940.383666\n",
      "MAE: 50393.890118\n",
      "R2: 0.630216\n"
     ]
    }
   ],
   "source": [
    "test_summary_all = model_all.evaluate(test)\n",
    "print('RMSE: %f' % test_summary_all.rootMeanSquaredError)\n",
    "print('MAE: %f' % test_summary_all.meanAbsoluteError)\n",
    "print('R2: %f' % test_summary_all.r2)"
   ]
  },
  {
   "cell_type": "code",
   "execution_count": 23,
   "id": "55b06f53",
   "metadata": {},
   "outputs": [
    {
     "name": "stderr",
     "output_type": "stream",
     "text": [
      "                                                                                \r"
     ]
    },
    {
     "name": "stdout",
     "output_type": "stream",
     "text": [
      "RMSE: 71560.050901\n",
      "MAE: 51063.192068\n",
      "R2: 0.623728\n"
     ]
    },
    {
     "name": "stderr",
     "output_type": "stream",
     "text": [
      "                                                                                \r"
     ]
    }
   ],
   "source": [
    "test_summary_num = model_num.evaluate(test)\n",
    "print('RMSE: %f' % test_summary_num.rootMeanSquaredError)\n",
    "print('MAE: %f' % test_summary_num.meanAbsoluteError)\n",
    "print('R2: %f' % test_summary_num.r2)"
   ]
  },
  {
   "cell_type": "markdown",
   "id": "5bc79e9f",
   "metadata": {},
   "source": [
    "### Выводы\n",
    "\n",
    "Мы проверили результаты работы линейной регрессии на обучающих и тестовых наборах данных.\n",
    "\n",
    "Вычислили по три метрики для всех результатов: `RMSE`, `MAE`, `R2`.\n",
    "\n",
    "В целом модели показывают неплохой результат. На тестовом наборе данных лучший результат показала модель обученная как на количественных так и на категориальном признаках.\n",
    "\n",
    "На тестовом наборе все метрики ухудшились, но незначительно. Можем считать что модели не переобучились."
   ]
  },
  {
   "cell_type": "markdown",
   "id": "ebdc4df2",
   "metadata": {},
   "source": [
    "## Общий вывод"
   ]
  },
  {
   "cell_type": "markdown",
   "id": "46c6060d",
   "metadata": {},
   "source": [
    "В данном проекте мы обучили модель линейной регрессии на данных о жилье в Калифорнии в 1990 году.\n",
    "\n",
    "Научились инициализировать `Spark` сессии, загружать данные и обрабатывать их с помощью DataFrame API и работать с моделями в библиотеке MLlib (DataFrame-based).\n",
    "\n",
    "В целом полученные модели показывают неплохой результат. На тестовом наборе данных лучший результат показала модель обученная как на количественных так и на категориальном признаках. На тестовом наборе все метрики ухудшились, но незначительно. Можем считать что модели не переобучились."
   ]
  },
  {
   "cell_type": "code",
   "execution_count": 24,
   "id": "2c52af7e",
   "metadata": {},
   "outputs": [],
   "source": [
    "spark.stop()"
   ]
  }
 ],
 "metadata": {
  "ExecuteTimeLog": [
   {
    "duration": 16490,
    "start_time": "2022-07-31T17:57:18.442Z"
   },
   {
    "duration": 7,
    "start_time": "2022-07-31T17:57:59.370Z"
   },
   {
    "duration": 415,
    "start_time": "2022-07-31T17:58:12.171Z"
   },
   {
    "duration": 58,
    "start_time": "2022-08-02T05:56:14.628Z"
   },
   {
    "duration": 21358,
    "start_time": "2022-08-02T06:12:10.393Z"
   },
   {
    "duration": 0,
    "start_time": "2022-08-02T06:15:30.603Z"
   },
   {
    "duration": 1034,
    "start_time": "2022-08-02T06:15:34.089Z"
   },
   {
    "duration": 49,
    "start_time": "2022-08-02T06:19:07.243Z"
   },
   {
    "duration": 681,
    "start_time": "2022-08-02T06:20:02.243Z"
   },
   {
    "duration": 4867,
    "start_time": "2022-08-02T06:22:40.078Z"
   },
   {
    "duration": 3,
    "start_time": "2022-08-02T06:25:25.186Z"
   },
   {
    "duration": 9,
    "start_time": "2022-08-02T06:25:31.322Z"
   },
   {
    "duration": 4,
    "start_time": "2022-08-02T06:25:36.306Z"
   },
   {
    "duration": 17,
    "start_time": "2022-08-02T06:25:56.194Z"
   },
   {
    "duration": 6652,
    "start_time": "2022-08-02T06:27:37.268Z"
   },
   {
    "duration": 37,
    "start_time": "2022-08-02T08:14:42.749Z"
   },
   {
    "duration": 30,
    "start_time": "2022-08-02T08:14:47.477Z"
   },
   {
    "duration": 44,
    "start_time": "2022-08-02T08:15:29.692Z"
   },
   {
    "duration": 1509,
    "start_time": "2022-08-02T08:15:54.227Z"
   },
   {
    "duration": 349,
    "start_time": "2022-08-02T08:16:07.217Z"
   },
   {
    "duration": 4037,
    "start_time": "2022-08-02T08:16:12.787Z"
   },
   {
    "duration": 3550,
    "start_time": "2022-08-02T08:16:26.578Z"
   },
   {
    "duration": 3822,
    "start_time": "2022-08-02T08:16:46.715Z"
   },
   {
    "duration": 10,
    "start_time": "2022-08-02T08:24:01.065Z"
   },
   {
    "duration": 11,
    "start_time": "2022-08-02T08:26:39.750Z"
   },
   {
    "duration": 317,
    "start_time": "2022-08-02T08:26:55.845Z"
   },
   {
    "duration": 23,
    "start_time": "2022-08-02T08:27:38.649Z"
   },
   {
    "duration": 21,
    "start_time": "2022-08-02T08:28:25.964Z"
   },
   {
    "duration": 224,
    "start_time": "2022-08-02T08:28:36.833Z"
   },
   {
    "duration": 167,
    "start_time": "2022-08-02T08:30:18.477Z"
   },
   {
    "duration": 23,
    "start_time": "2022-08-02T08:30:37.542Z"
   },
   {
    "duration": 20,
    "start_time": "2022-08-02T08:30:46.331Z"
   },
   {
    "duration": 180,
    "start_time": "2022-08-02T08:30:53.372Z"
   },
   {
    "duration": 860,
    "start_time": "2022-08-02T08:31:06.348Z"
   },
   {
    "duration": 957,
    "start_time": "2022-08-02T08:31:41.981Z"
   },
   {
    "duration": 449,
    "start_time": "2022-08-02T08:32:36.396Z"
   },
   {
    "duration": 608,
    "start_time": "2022-08-02T08:32:38.105Z"
   },
   {
    "duration": 10,
    "start_time": "2022-08-02T08:33:06.033Z"
   },
   {
    "duration": 23,
    "start_time": "2022-08-02T08:33:09.797Z"
   },
   {
    "duration": 8,
    "start_time": "2022-08-02T08:33:18.787Z"
   },
   {
    "duration": 8,
    "start_time": "2022-08-02T08:33:30.075Z"
   },
   {
    "duration": 489,
    "start_time": "2022-08-02T08:34:14.164Z"
   },
   {
    "duration": 332,
    "start_time": "2022-08-02T08:37:05.301Z"
   },
   {
    "duration": 392,
    "start_time": "2022-08-02T08:37:12.721Z"
   },
   {
    "duration": 718,
    "start_time": "2022-08-02T08:37:19.223Z"
   },
   {
    "duration": 2228,
    "start_time": "2022-08-02T08:37:58.515Z"
   },
   {
    "duration": 8,
    "start_time": "2022-08-02T10:53:21.312Z"
   },
   {
    "duration": 17187,
    "start_time": "2022-08-02T10:53:34.525Z"
   },
   {
    "duration": 10096,
    "start_time": "2022-08-02T10:53:51.715Z"
   },
   {
    "duration": 96,
    "start_time": "2022-08-02T10:54:01.821Z"
   },
   {
    "duration": 905,
    "start_time": "2022-08-02T10:54:01.918Z"
   },
   {
    "duration": 5390,
    "start_time": "2022-08-02T10:54:02.828Z"
   },
   {
    "duration": 1342,
    "start_time": "2022-08-02T10:54:08.219Z"
   },
   {
    "duration": 1758,
    "start_time": "2022-08-02T10:54:09.603Z"
   },
   {
    "duration": 1752,
    "start_time": "2022-08-02T10:54:11.401Z"
   },
   {
    "duration": 3,
    "start_time": "2022-08-02T10:54:13.155Z"
   },
   {
    "duration": 197,
    "start_time": "2022-08-02T10:54:13.160Z"
   },
   {
    "duration": 112,
    "start_time": "2022-08-02T11:04:26.729Z"
   },
   {
    "duration": 3,
    "start_time": "2022-08-02T11:04:53.963Z"
   },
   {
    "duration": 31,
    "start_time": "2022-08-02T11:04:54.651Z"
   },
   {
    "duration": 21,
    "start_time": "2022-08-02T11:06:37.829Z"
   },
   {
    "duration": 4,
    "start_time": "2022-08-02T11:06:49.626Z"
   },
   {
    "duration": 23,
    "start_time": "2022-08-02T11:06:50.129Z"
   },
   {
    "duration": 5,
    "start_time": "2022-08-02T11:07:51.947Z"
   },
   {
    "duration": 3,
    "start_time": "2022-08-02T11:08:10.051Z"
   },
   {
    "duration": 17,
    "start_time": "2022-08-02T11:09:45.652Z"
   },
   {
    "duration": 4,
    "start_time": "2022-08-02T11:10:15.522Z"
   },
   {
    "duration": 16,
    "start_time": "2022-08-02T11:10:17.741Z"
   },
   {
    "duration": 16298,
    "start_time": "2022-08-02T11:11:25.842Z"
   },
   {
    "duration": 8990,
    "start_time": "2022-08-02T11:11:42.142Z"
   },
   {
    "duration": 94,
    "start_time": "2022-08-02T11:11:51.134Z"
   },
   {
    "duration": 807,
    "start_time": "2022-08-02T11:11:51.230Z"
   },
   {
    "duration": 5089,
    "start_time": "2022-08-02T11:11:52.040Z"
   },
   {
    "duration": 1380,
    "start_time": "2022-08-02T11:11:57.131Z"
   },
   {
    "duration": 1927,
    "start_time": "2022-08-02T11:11:58.512Z"
   },
   {
    "duration": 1772,
    "start_time": "2022-08-02T11:12:00.440Z"
   },
   {
    "duration": 11,
    "start_time": "2022-08-02T11:12:02.213Z"
   },
   {
    "duration": 18,
    "start_time": "2022-08-02T11:12:02.227Z"
   },
   {
    "duration": 407,
    "start_time": "2022-08-02T11:12:02.247Z"
   },
   {
    "duration": 0,
    "start_time": "2022-08-02T11:12:02.655Z"
   },
   {
    "duration": 61,
    "start_time": "2022-08-02T11:16:48.884Z"
   },
   {
    "duration": 3,
    "start_time": "2022-08-02T11:17:08.723Z"
   },
   {
    "duration": 1943,
    "start_time": "2022-08-02T11:17:09.885Z"
   },
   {
    "duration": 616,
    "start_time": "2022-08-02T11:19:20.820Z"
   },
   {
    "duration": 281,
    "start_time": "2022-08-02T11:48:22.275Z"
   },
   {
    "duration": 58,
    "start_time": "2022-08-02T11:48:44.626Z"
   },
   {
    "duration": 401,
    "start_time": "2022-08-02T11:48:49.034Z"
   },
   {
    "duration": 106,
    "start_time": "2022-08-02T11:49:44.427Z"
   },
   {
    "duration": 1468,
    "start_time": "2022-08-02T12:21:12.260Z"
   },
   {
    "duration": 404,
    "start_time": "2022-08-02T12:21:15.311Z"
   },
   {
    "duration": 106,
    "start_time": "2022-08-02T12:21:40.531Z"
   },
   {
    "duration": 113,
    "start_time": "2022-08-02T12:21:53.932Z"
   },
   {
    "duration": 19455,
    "start_time": "2022-08-02T12:22:02.188Z"
   },
   {
    "duration": 9191,
    "start_time": "2022-08-02T12:22:21.645Z"
   },
   {
    "duration": 102,
    "start_time": "2022-08-02T12:22:30.838Z"
   },
   {
    "duration": 788,
    "start_time": "2022-08-02T12:22:30.942Z"
   },
   {
    "duration": 5017,
    "start_time": "2022-08-02T12:22:31.733Z"
   },
   {
    "duration": 1489,
    "start_time": "2022-08-02T12:22:36.751Z"
   },
   {
    "duration": 2080,
    "start_time": "2022-08-02T12:22:38.242Z"
   },
   {
    "duration": 1918,
    "start_time": "2022-08-02T12:22:40.323Z"
   },
   {
    "duration": 3,
    "start_time": "2022-08-02T12:22:42.243Z"
   },
   {
    "duration": 1988,
    "start_time": "2022-08-02T12:22:42.249Z"
   },
   {
    "duration": 698,
    "start_time": "2022-08-02T12:22:44.239Z"
   },
   {
    "duration": 164,
    "start_time": "2022-08-02T12:22:44.940Z"
   },
   {
    "duration": 1438,
    "start_time": "2022-08-02T12:22:45.105Z"
   },
   {
    "duration": 661,
    "start_time": "2022-08-02T13:53:07.123Z"
   },
   {
    "duration": 208,
    "start_time": "2022-08-02T13:55:14.783Z"
   },
   {
    "duration": 17550,
    "start_time": "2022-08-02T13:55:29.774Z"
   },
   {
    "duration": 9981,
    "start_time": "2022-08-02T13:55:47.326Z"
   },
   {
    "duration": 54,
    "start_time": "2022-08-02T13:55:57.308Z"
   },
   {
    "duration": 833,
    "start_time": "2022-08-02T13:55:57.364Z"
   },
   {
    "duration": 5659,
    "start_time": "2022-08-02T13:55:58.200Z"
   },
   {
    "duration": 1480,
    "start_time": "2022-08-02T13:56:03.861Z"
   },
   {
    "duration": 1898,
    "start_time": "2022-08-02T13:56:05.343Z"
   },
   {
    "duration": 2082,
    "start_time": "2022-08-02T13:56:07.243Z"
   },
   {
    "duration": 10,
    "start_time": "2022-08-02T13:56:09.333Z"
   },
   {
    "duration": 2192,
    "start_time": "2022-08-02T13:56:09.345Z"
   },
   {
    "duration": 695,
    "start_time": "2022-08-02T13:56:11.540Z"
   },
   {
    "duration": 183,
    "start_time": "2022-08-02T13:56:12.237Z"
   },
   {
    "duration": 1595,
    "start_time": "2022-08-02T13:56:12.421Z"
   },
   {
    "duration": 836,
    "start_time": "2022-08-02T13:56:14.024Z"
   },
   {
    "duration": 680,
    "start_time": "2022-08-02T13:56:40.855Z"
   },
   {
    "duration": 444,
    "start_time": "2022-08-02T13:56:48.095Z"
   },
   {
    "duration": 163,
    "start_time": "2022-08-02T13:57:13.560Z"
   },
   {
    "duration": 23138,
    "start_time": "2022-08-02T16:33:47.317Z"
   },
   {
    "duration": 10455,
    "start_time": "2022-08-02T16:34:10.459Z"
   },
   {
    "duration": 96,
    "start_time": "2022-08-02T16:34:20.916Z"
   },
   {
    "duration": 816,
    "start_time": "2022-08-02T16:34:21.014Z"
   },
   {
    "duration": 5597,
    "start_time": "2022-08-02T16:34:21.833Z"
   },
   {
    "duration": 1785,
    "start_time": "2022-08-02T16:34:27.432Z"
   },
   {
    "duration": 2016,
    "start_time": "2022-08-02T16:34:29.219Z"
   },
   {
    "duration": 2288,
    "start_time": "2022-08-02T16:34:31.238Z"
   },
   {
    "duration": 3,
    "start_time": "2022-08-02T16:34:33.529Z"
   },
   {
    "duration": 1984,
    "start_time": "2022-08-02T16:34:33.535Z"
   },
   {
    "duration": 904,
    "start_time": "2022-08-02T16:34:35.522Z"
   },
   {
    "duration": 185,
    "start_time": "2022-08-02T16:34:36.428Z"
   },
   {
    "duration": 1810,
    "start_time": "2022-08-02T16:34:36.616Z"
   },
   {
    "duration": 993,
    "start_time": "2022-08-02T16:34:38.429Z"
   },
   {
    "duration": 517,
    "start_time": "2022-08-02T16:34:39.424Z"
   },
   {
    "duration": 431,
    "start_time": "2022-08-02T16:34:52.795Z"
   },
   {
    "duration": 594,
    "start_time": "2022-08-02T16:36:01.621Z"
   },
   {
    "duration": 7,
    "start_time": "2022-08-02T16:39:14.626Z"
   },
   {
    "duration": 5496,
    "start_time": "2022-08-02T16:40:34.431Z"
   },
   {
    "duration": 3255,
    "start_time": "2022-08-02T16:41:07.557Z"
   },
   {
    "duration": 11,
    "start_time": "2022-08-02T16:46:39.893Z"
   },
   {
    "duration": 92,
    "start_time": "2022-08-02T16:51:07.769Z"
   },
   {
    "duration": 6,
    "start_time": "2022-08-02T16:55:20.949Z"
   },
   {
    "duration": 6204,
    "start_time": "2022-08-02T16:55:29.025Z"
   },
   {
    "duration": 5302,
    "start_time": "2022-08-02T16:57:36.925Z"
   },
   {
    "duration": 861,
    "start_time": "2022-08-02T17:01:08.783Z"
   },
   {
    "duration": 748,
    "start_time": "2022-08-02T17:01:52.672Z"
   },
   {
    "duration": 924,
    "start_time": "2022-08-02T17:02:50.900Z"
   },
   {
    "duration": 582,
    "start_time": "2022-08-02T17:03:03.965Z"
   },
   {
    "duration": 627,
    "start_time": "2022-08-02T17:03:25.847Z"
   },
   {
    "duration": 538,
    "start_time": "2022-08-02T17:03:45.439Z"
   },
   {
    "duration": 474,
    "start_time": "2022-08-02T17:03:57.936Z"
   },
   {
    "duration": 630,
    "start_time": "2022-08-02T17:04:04.618Z"
   },
   {
    "duration": 9,
    "start_time": "2022-08-02T17:12:19.738Z"
   },
   {
    "duration": 7,
    "start_time": "2022-08-02T17:13:05.227Z"
   },
   {
    "duration": 6,
    "start_time": "2022-08-02T17:13:23.779Z"
   },
   {
    "duration": 8,
    "start_time": "2022-08-02T17:42:44.945Z"
   },
   {
    "duration": 1549,
    "start_time": "2022-08-02T17:43:13.117Z"
   },
   {
    "duration": 1445,
    "start_time": "2022-08-02T17:43:51.476Z"
   },
   {
    "duration": 19482,
    "start_time": "2022-08-02T17:59:55.562Z"
   },
   {
    "duration": 13778,
    "start_time": "2022-08-02T18:00:15.048Z"
   },
   {
    "duration": 125,
    "start_time": "2022-08-02T18:00:28.828Z"
   },
   {
    "duration": 1153,
    "start_time": "2022-08-02T18:00:28.957Z"
   },
   {
    "duration": 6215,
    "start_time": "2022-08-02T18:00:30.113Z"
   },
   {
    "duration": 1983,
    "start_time": "2022-08-02T18:00:36.330Z"
   },
   {
    "duration": 2425,
    "start_time": "2022-08-02T18:00:38.315Z"
   },
   {
    "duration": 2806,
    "start_time": "2022-08-02T18:00:40.742Z"
   },
   {
    "duration": 4,
    "start_time": "2022-08-02T18:00:43.551Z"
   },
   {
    "duration": 2460,
    "start_time": "2022-08-02T18:00:43.559Z"
   },
   {
    "duration": 1016,
    "start_time": "2022-08-02T18:00:46.021Z"
   },
   {
    "duration": 182,
    "start_time": "2022-08-02T18:00:47.040Z"
   },
   {
    "duration": 1893,
    "start_time": "2022-08-02T18:00:47.225Z"
   },
   {
    "duration": 120,
    "start_time": "2022-08-02T18:00:49.123Z"
   },
   {
    "duration": 977,
    "start_time": "2022-08-02T18:00:49.246Z"
   },
   {
    "duration": 386,
    "start_time": "2022-08-02T18:00:50.226Z"
   },
   {
    "duration": 0,
    "start_time": "2022-08-02T18:00:50.614Z"
   },
   {
    "duration": 0,
    "start_time": "2022-08-02T18:00:50.615Z"
   },
   {
    "duration": 0,
    "start_time": "2022-08-02T18:00:50.617Z"
   },
   {
    "duration": 0,
    "start_time": "2022-08-02T18:00:50.622Z"
   },
   {
    "duration": 0,
    "start_time": "2022-08-02T18:00:50.623Z"
   },
   {
    "duration": 0,
    "start_time": "2022-08-02T18:00:50.625Z"
   },
   {
    "duration": 0,
    "start_time": "2022-08-02T18:00:50.627Z"
   },
   {
    "duration": 0,
    "start_time": "2022-08-02T18:00:50.628Z"
   },
   {
    "duration": 5448,
    "start_time": "2022-08-02T18:01:41.493Z"
   },
   {
    "duration": 22560,
    "start_time": "2022-08-02T18:01:55.789Z"
   },
   {
    "duration": 11597,
    "start_time": "2022-08-02T18:02:18.353Z"
   },
   {
    "duration": 160,
    "start_time": "2022-08-02T18:02:29.951Z"
   },
   {
    "duration": 1009,
    "start_time": "2022-08-02T18:02:30.115Z"
   },
   {
    "duration": 6122,
    "start_time": "2022-08-02T18:02:31.126Z"
   },
   {
    "duration": 1869,
    "start_time": "2022-08-02T18:02:37.250Z"
   },
   {
    "duration": 2300,
    "start_time": "2022-08-02T18:02:39.124Z"
   },
   {
    "duration": 2285,
    "start_time": "2022-08-02T18:02:41.426Z"
   },
   {
    "duration": 7,
    "start_time": "2022-08-02T18:02:43.713Z"
   },
   {
    "duration": 2106,
    "start_time": "2022-08-02T18:02:43.729Z"
   },
   {
    "duration": 1002,
    "start_time": "2022-08-02T18:02:45.837Z"
   },
   {
    "duration": 178,
    "start_time": "2022-08-02T18:02:46.841Z"
   },
   {
    "duration": 1824,
    "start_time": "2022-08-02T18:02:47.022Z"
   },
   {
    "duration": 197,
    "start_time": "2022-08-02T18:02:48.848Z"
   },
   {
    "duration": 908,
    "start_time": "2022-08-02T18:02:49.048Z"
   },
   {
    "duration": 6955,
    "start_time": "2022-08-02T18:02:49.958Z"
   },
   {
    "duration": 10534,
    "start_time": "2022-08-02T18:02:56.915Z"
   },
   {
    "duration": 1208,
    "start_time": "2022-08-02T18:03:07.451Z"
   },
   {
    "duration": 1106,
    "start_time": "2022-08-02T18:03:08.661Z"
   },
   {
    "duration": 52,
    "start_time": "2022-08-02T18:03:09.768Z"
   },
   {
    "duration": 21,
    "start_time": "2022-08-02T18:03:09.824Z"
   },
   {
    "duration": 2364,
    "start_time": "2022-08-02T18:03:09.849Z"
   },
   {
    "duration": 1997,
    "start_time": "2022-08-02T18:03:12.215Z"
   },
   {
    "duration": 202,
    "start_time": "2022-08-02T18:03:14.214Z"
   },
   {
    "duration": 111,
    "start_time": "2022-08-02T19:23:00.659Z"
   },
   {
    "duration": 397,
    "start_time": "2022-08-02T19:23:06.162Z"
   },
   {
    "duration": 723,
    "start_time": "2022-08-02T19:23:06.616Z"
   },
   {
    "duration": 68,
    "start_time": "2022-08-02T19:23:07.342Z"
   },
   {
    "duration": 202,
    "start_time": "2022-08-02T19:23:07.413Z"
   },
   {
    "duration": 1428,
    "start_time": "2022-08-02T19:23:07.622Z"
   },
   {
    "duration": 803,
    "start_time": "2022-08-02T19:23:15.633Z"
   },
   {
    "duration": 616,
    "start_time": "2022-08-02T19:23:19.227Z"
   },
   {
    "duration": 851,
    "start_time": "2022-08-02T19:23:33.868Z"
   },
   {
    "duration": 4,
    "start_time": "2022-08-02T19:23:38.523Z"
   },
   {
    "duration": 561,
    "start_time": "2022-08-02T19:23:43.580Z"
   },
   {
    "duration": 195,
    "start_time": "2022-08-02T19:23:45.669Z"
   },
   {
    "duration": 36,
    "start_time": "2022-08-02T19:23:51.037Z"
   },
   {
    "duration": 671,
    "start_time": "2022-08-02T19:28:03.955Z"
   },
   {
    "duration": 25,
    "start_time": "2022-08-02T19:28:07.736Z"
   },
   {
    "duration": 77,
    "start_time": "2022-08-02T19:28:47.827Z"
   },
   {
    "duration": 536,
    "start_time": "2022-08-02T19:29:19.284Z"
   },
   {
    "duration": 1317,
    "start_time": "2022-08-02T19:30:13.023Z"
   },
   {
    "duration": 4411,
    "start_time": "2022-08-02T19:31:41.699Z"
   },
   {
    "duration": 461,
    "start_time": "2022-08-02T19:32:22.189Z"
   },
   {
    "duration": 840,
    "start_time": "2022-08-02T19:32:28.922Z"
   },
   {
    "duration": 5,
    "start_time": "2022-08-02T19:32:39.089Z"
   },
   {
    "duration": 7,
    "start_time": "2022-08-02T19:32:43.582Z"
   },
   {
    "duration": 1025,
    "start_time": "2022-08-02T19:32:55.427Z"
   },
   {
    "duration": 1058,
    "start_time": "2022-08-02T19:33:00.665Z"
   },
   {
    "duration": 17088,
    "start_time": "2022-08-02T19:36:15.341Z"
   },
   {
    "duration": 9997,
    "start_time": "2022-08-02T19:36:32.432Z"
   },
   {
    "duration": 103,
    "start_time": "2022-08-02T19:36:42.431Z"
   },
   {
    "duration": 780,
    "start_time": "2022-08-02T19:36:42.536Z"
   },
   {
    "duration": 4901,
    "start_time": "2022-08-02T19:36:43.319Z"
   },
   {
    "duration": 1517,
    "start_time": "2022-08-02T19:36:48.223Z"
   },
   {
    "duration": 2088,
    "start_time": "2022-08-02T19:36:49.742Z"
   },
   {
    "duration": 2179,
    "start_time": "2022-08-02T19:36:51.832Z"
   },
   {
    "duration": 4,
    "start_time": "2022-08-02T19:36:54.013Z"
   },
   {
    "duration": 2007,
    "start_time": "2022-08-02T19:36:54.019Z"
   },
   {
    "duration": 786,
    "start_time": "2022-08-02T19:36:56.028Z"
   },
   {
    "duration": 120,
    "start_time": "2022-08-02T19:36:56.817Z"
   },
   {
    "duration": 1707,
    "start_time": "2022-08-02T19:36:56.939Z"
   },
   {
    "duration": 83,
    "start_time": "2022-08-02T19:36:58.650Z"
   },
   {
    "duration": 787,
    "start_time": "2022-08-02T19:36:58.735Z"
   },
   {
    "duration": 3500,
    "start_time": "2022-08-02T19:36:59.526Z"
   },
   {
    "duration": 7997,
    "start_time": "2022-08-02T19:37:03.030Z"
   },
   {
    "duration": 1025,
    "start_time": "2022-08-02T19:37:11.030Z"
   },
   {
    "duration": 1048,
    "start_time": "2022-08-02T19:37:12.111Z"
   },
   {
    "duration": 7,
    "start_time": "2022-08-02T19:37:13.161Z"
   },
   {
    "duration": 45,
    "start_time": "2022-08-02T19:37:13.170Z"
   },
   {
    "duration": 1408,
    "start_time": "2022-08-02T19:37:13.217Z"
   },
   {
    "duration": 1820,
    "start_time": "2022-08-02T19:37:14.626Z"
   },
   {
    "duration": 339,
    "start_time": "2022-08-02T19:37:16.510Z"
   }
  ],
  "colab": {
   "name": "PySparkSprint.ipynb",
   "provenance": []
  },
  "kernelspec": {
   "display_name": "Python 3 (ipykernel)",
   "language": "python",
   "name": "python3"
  },
  "language_info": {
   "codemirror_mode": {
    "name": "ipython",
    "version": 3
   },
   "file_extension": ".py",
   "mimetype": "text/x-python",
   "name": "python",
   "nbconvert_exporter": "python",
   "pygments_lexer": "ipython3",
   "version": "3.9.16"
  },
  "toc": {
   "base_numbering": 1,
   "nav_menu": {
    "height": "51px",
    "width": "182px"
   },
   "number_sections": true,
   "sideBar": true,
   "skip_h1_title": true,
   "title_cell": "Table of Contents",
   "title_sidebar": "Contents",
   "toc_cell": false,
   "toc_position": {},
   "toc_section_display": true,
   "toc_window_display": true
  }
 },
 "nbformat": 4,
 "nbformat_minor": 5
}
